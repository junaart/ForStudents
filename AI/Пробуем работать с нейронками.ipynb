{
 "cells": [
  {
   "cell_type": "markdown",
   "id": "0b2aa092-b28a-4968-bad1-8a7c2538fced",
   "metadata": {},
   "source": [
    "# Пишем свою нейросеть"
   ]
  },
  {
   "cell_type": "markdown",
   "id": "5a1ff326-c605-45ce-b795-f2ba5cfe208c",
   "metadata": {},
   "source": [
    "## Реализуем класс нейрона"
   ]
  },
  {
   "cell_type": "code",
   "execution_count": 1,
   "id": "f59e93b8-5624-4e2e-a483-99c12575ddbf",
   "metadata": {},
   "outputs": [],
   "source": [
    "#Построение нейрона\n",
    "\n",
    "import numpy as np\n",
    "\n",
    "#Функция активации\n",
    "def f_active(x):\n",
    "  return 1 / (1 + np.exp(-x))\n",
    "\n",
    "class Neuron:\n",
    "  def __init__(self, weights, bias):\n",
    "    self.weights = weights\n",
    "    self.bias = bias\n",
    "\n",
    "  def evaluate(self, inputs):\n",
    "    return f_active(np.dot(self.weights, inputs) + self.bias)"
   ]
  },
  {
   "cell_type": "code",
   "execution_count": 3,
   "id": "ef0e9a70-5270-4831-b4e4-e234b81e43a7",
   "metadata": {},
   "outputs": [
    {
     "data": {
      "text/plain": [
       "0.9999999998130165"
      ]
     },
     "execution_count": 3,
     "metadata": {},
     "output_type": "execute_result"
    }
   ],
   "source": [
    "n = Neuron(np.array([0.4, 1]), 5) \n",
    "n.evaluate(np.array([11, 13]))   "
   ]
  },
  {
   "cell_type": "code",
   "execution_count": 5,
   "id": "b82aaf83-2d15-4605-80c2-0e99aa4624a2",
   "metadata": {},
   "outputs": [
    {
     "data": {
      "text/plain": [
       "0.9999999998130165"
      ]
     },
     "execution_count": 5,
     "metadata": {},
     "output_type": "execute_result"
    }
   ],
   "source": [
    "#Проверяем\n",
    "\n",
    "y = 0.4*11+1*13+5\n",
    "f_active(y)"
   ]
  },
  {
   "cell_type": "markdown",
   "id": "a109ea50-4cd1-48cb-b287-5d975123c911",
   "metadata": {},
   "source": [
    "## Соединяем нейроны в простую полносвязную сеть"
   ]
  },
  {
   "cell_type": "markdown",
   "id": "4b49fe34-4f6b-4d21-9e16-88aa33e81a64",
   "metadata": {},
   "source": [
    "Для простоты возьмем всего два нейрона.\n",
    "\n",
    "![image](ris1.jpeg)"
   ]
  },
  {
   "cell_type": "code",
   "execution_count": 53,
   "id": "d0595ee4-92b9-4d75-bb79-68bdb9eae77d",
   "metadata": {},
   "outputs": [],
   "source": [
    "#Строим структуру нейронной сети\n",
    "\n",
    "class NeuralNetwork:\n",
    "  '''\n",
    "  Нейронная сеть с:\n",
    "    - 2 входами\n",
    "    - скрытым слоем с 2 нейронами (h1, h2)\n",
    "    - выходным слоем с 1 нейроном (o1)\n",
    "  Все нейроны имеют одинаковые веса и пороги:\n",
    "    - w = [0.3, 0.7]\n",
    "    - b = 0.5\n",
    "  '''\n",
    "  def __init__(self):\n",
    "    weights = np.array([0.3, 0.7])\n",
    "    bias = 0.5\n",
    "\n",
    "    # Используем класс Neuron\n",
    "    self.h1 = Neuron(weights, bias)\n",
    "    self.h2 = Neuron(weights, bias)\n",
    "    self.o1 = Neuron(weights, bias)\n",
    "\n",
    "  def work(self, x):\n",
    "    out_h1 = self.h1.evaluate(x)\n",
    "    out_h2 = self.h2.evaluate(x)\n",
    "\n",
    "    # Входы для o1 - это выходы h1 и h2\n",
    "    out_o1 = self.o1.evaluate(np.array([out_h1, out_h2]))\n",
    "\n",
    "    return out_o1"
   ]
  },
  {
   "cell_type": "code",
   "execution_count": 9,
   "id": "e639042a-207a-4586-b32b-afa6348dadf7",
   "metadata": {},
   "outputs": [
    {
     "data": {
      "text/plain": [
       "0.8022234791817827"
      ]
     },
     "execution_count": 9,
     "metadata": {},
     "output_type": "execute_result"
    }
   ],
   "source": [
    "#Запускаем нейронную сеть\n",
    "\n",
    "network = NeuralNetwork()\n",
    "x = np.array([1, 2])\n",
    "network.work(x)"
   ]
  },
  {
   "cell_type": "code",
   "execution_count": 11,
   "id": "9e17553c-9771-4916-9ad6-33d17bc36058",
   "metadata": {},
   "outputs": [
    {
     "data": {
      "text/plain": [
       "0.8022234791817827"
      ]
     },
     "execution_count": 11,
     "metadata": {},
     "output_type": "execute_result"
    }
   ],
   "source": [
    "# Проверяем работу нейронной сети\n",
    "\n",
    "out_h1 = f_active(0.3*1+0.7*2+0.5)\n",
    "out_h2 = f_active(0.3*1+0.7*2+0.5)\n",
    "\n",
    "out = f_active(0.3*out_h1+0.7*out_h2+0.5)\n",
    "out"
   ]
  },
  {
   "cell_type": "markdown",
   "id": "e34b9ebb-ef73-4a77-91f7-632272c11d37",
   "metadata": {},
   "source": [
    "## Обучение нейронной сети"
   ]
  },
  {
   "cell_type": "markdown",
   "id": "a7968df6-a59e-4583-9684-28833b261dca",
   "metadata": {},
   "source": [
    "Для того, чтобы начать обучать нейронную сеть, нужно научить ее различать, когда она получила хорошее решение, а когда плохое.\n",
    "\n",
    "Для этого проще всего использовать так называемую функцию потерь loss. В качестве такой функции часто используют среднюю квадратическую ошибку (MSE - Mean squared error):\n",
    "\n",
    "$$MSE = \\frac{\\sum_{i=1}^n (y^{predict}_i-y^{true}_i)^2}{n}$$\n",
    "\n",
    "$y^{predict}_i$  - значение выхода нейронной сети для $i$-й входной точки,\n",
    "\n",
    "$y^{true}_i$ - истинное значение на выходе для $i$-й входной точки."
   ]
  },
  {
   "cell_type": "code",
   "execution_count": 20,
   "id": "6b3d7bb3-4ebb-45b4-873a-4129967b1635",
   "metadata": {},
   "outputs": [],
   "source": [
    "# Реализуем функцию потерь\n",
    "\n",
    "def mse_loss(y_true, y_pred):\n",
    "  return ((y_true - y_pred) ** 2).mean()"
   ]
  },
  {
   "cell_type": "markdown",
   "id": "a12f2559-f916-421f-86af-a4502d086059",
   "metadata": {},
   "source": [
    "На самом деле наша функция потерь завивит от весов и порогов всех входящих в нейронную сеть нейронов:\n",
    "\n",
    "$$MSE = L(w_1,w_2,w_3,w_4,w_5,w_6,b_1,b_2,b_3)$$\n",
    "\n",
    "Если мы хотим отрегулировать $w_1$, то должны вычислять частные производные по $w_1$:\n",
    "$$\\frac{\\partial L}{\\partial w_1} = \\frac{\\partial L}{\\partial y^{predict}}\\cdot \\frac{\\partial y^{predict}}{\\partial w_1}=\\frac{\\sum_{i=1}^n 2(y^{predict}_i-y^{true}_i)}{n}\\cdot \\frac{\\partial y^{predict}_i}{\\partial w_1}$$"
   ]
  },
  {
   "cell_type": "markdown",
   "id": "0f7eee56-3b05-43fe-8c79-caea28f25cc1",
   "metadata": {},
   "source": [
    "$$y^{predict}_i=f(w_5\\cdot h_1+w_6\\cdot h_2+b_3)$$\n",
    "\n",
    "Производная по $w_1$ будет зависить только от $h_1$, поэтому:\n",
    "\n",
    "$$\\frac{\\partial y^{predict}_i}{\\partial w_1} = \\frac{\\partial y^{predict}_i}{\\partial h_{1i}}\\cdot \\frac{\\partial h_{1i}}{\\partial w_1}$$\n",
    "\n",
    "В свою очередь $h_1 = f(w_1\\cdot x_1+w_2\\cdot x_2+b_1)$, \n",
    "$$\\frac{\\partial h_{1i}}{\\partial w_1} = \\frac{\\partial f(w_1\\cdot x_1+w_2\\cdot x_2+b_1)}{\\partial w_1}$$\n",
    "\n",
    "Здесь $f(x)=\\frac{1}{1+e^{-x}}$ - выбранная функция активации,\n",
    "$$f'(x) = \\frac{e^{-x}}{(1+e^{-x})^2}=f(x)\\cdot (1-f(x))$$\n",
    "\n",
    "[Wolfram](https://www.wolframalpha.com/input?i=diff%281%2F%281%2Bexp%28-x%29%29%2Cx%29)\n",
    "\n",
    "Таким образом, вычисление производной разбивается на части:\n",
    "\n",
    "$$\\frac{\\partial L}{\\partial w_1} = \\frac{\\partial L}{\\partial y^{predict}}\\cdot \\frac{\\partial y^{predict}}{\\partial h_{1}}\\cdot \\frac{\\partial h_1}{\\partial w_1}$$\n",
    "Такое постепенное вычисление от конца вначало получило название **обратного распространения ошибки** (backpropagation)."
   ]
  },
  {
   "cell_type": "markdown",
   "id": "8a4841a6-8e9e-42d9-8d02-fc28354dfe7f",
   "metadata": {},
   "source": [
    "Попробуем научить нашу нейронную сеть вычислять функцию $y = \\sqrt{x_1+1}+x_2$."
   ]
  },
  {
   "cell_type": "code",
   "execution_count": 74,
   "id": "d6cab4f1-2559-4460-9058-fca0f49e11bf",
   "metadata": {},
   "outputs": [
    {
     "data": {
      "text/html": [
       "<div>\n",
       "<style scoped>\n",
       "    .dataframe tbody tr th:only-of-type {\n",
       "        vertical-align: middle;\n",
       "    }\n",
       "\n",
       "    .dataframe tbody tr th {\n",
       "        vertical-align: top;\n",
       "    }\n",
       "\n",
       "    .dataframe thead th {\n",
       "        text-align: right;\n",
       "    }\n",
       "</style>\n",
       "<table border=\"1\" class=\"dataframe\">\n",
       "  <thead>\n",
       "    <tr style=\"text-align: right;\">\n",
       "      <th></th>\n",
       "      <th>x1</th>\n",
       "      <th>x2</th>\n",
       "      <th>y</th>\n",
       "    </tr>\n",
       "  </thead>\n",
       "  <tbody>\n",
       "    <tr>\n",
       "      <th>0</th>\n",
       "      <td>1</td>\n",
       "      <td>1</td>\n",
       "      <td>2.414214</td>\n",
       "    </tr>\n",
       "    <tr>\n",
       "      <th>1</th>\n",
       "      <td>2</td>\n",
       "      <td>2</td>\n",
       "      <td>3.732051</td>\n",
       "    </tr>\n",
       "    <tr>\n",
       "      <th>2</th>\n",
       "      <td>3</td>\n",
       "      <td>3</td>\n",
       "      <td>5.000000</td>\n",
       "    </tr>\n",
       "    <tr>\n",
       "      <th>3</th>\n",
       "      <td>4</td>\n",
       "      <td>4</td>\n",
       "      <td>6.236068</td>\n",
       "    </tr>\n",
       "    <tr>\n",
       "      <th>4</th>\n",
       "      <td>5</td>\n",
       "      <td>5</td>\n",
       "      <td>7.449490</td>\n",
       "    </tr>\n",
       "    <tr>\n",
       "      <th>5</th>\n",
       "      <td>6</td>\n",
       "      <td>6</td>\n",
       "      <td>8.645751</td>\n",
       "    </tr>\n",
       "    <tr>\n",
       "      <th>6</th>\n",
       "      <td>7</td>\n",
       "      <td>7</td>\n",
       "      <td>9.828427</td>\n",
       "    </tr>\n",
       "    <tr>\n",
       "      <th>7</th>\n",
       "      <td>8</td>\n",
       "      <td>8</td>\n",
       "      <td>11.000000</td>\n",
       "    </tr>\n",
       "    <tr>\n",
       "      <th>8</th>\n",
       "      <td>9</td>\n",
       "      <td>9</td>\n",
       "      <td>12.162278</td>\n",
       "    </tr>\n",
       "    <tr>\n",
       "      <th>9</th>\n",
       "      <td>10</td>\n",
       "      <td>10</td>\n",
       "      <td>13.316625</td>\n",
       "    </tr>\n",
       "  </tbody>\n",
       "</table>\n",
       "</div>"
      ],
      "text/plain": [
       "   x1  x2          y\n",
       "0   1   1   2.414214\n",
       "1   2   2   3.732051\n",
       "2   3   3   5.000000\n",
       "3   4   4   6.236068\n",
       "4   5   5   7.449490\n",
       "5   6   6   8.645751\n",
       "6   7   7   9.828427\n",
       "7   8   8  11.000000\n",
       "8   9   9  12.162278\n",
       "9  10  10  13.316625"
      ]
     },
     "execution_count": 74,
     "metadata": {},
     "output_type": "execute_result"
    }
   ],
   "source": [
    "import pandas as pd\n",
    "x1 = np.array([1,2,3,4,5,6,7,8,9,10])\n",
    "x2 = np.array([1,2,3,4,5,6,7,8,9,10])\n",
    "y = np.sqrt(x1+1)+x2\n",
    "\n",
    "D = pd.DataFrame({'x1' : x1, 'x2': x2, 'y' : y})\n",
    "D"
   ]
  },
  {
   "cell_type": "markdown",
   "id": "2d62f789-6667-4c35-862e-fd876f4d3219",
   "metadata": {},
   "source": [
    "Пробуем вычислять значение функции на векторе $[1,1]$."
   ]
  },
  {
   "cell_type": "code",
   "execution_count": 28,
   "id": "48a69ce8-7614-49ea-a847-a1a11aef60a0",
   "metadata": {},
   "outputs": [
    {
     "data": {
      "text/plain": [
       "0.7887778795153473"
      ]
     },
     "execution_count": 28,
     "metadata": {},
     "output_type": "execute_result"
    }
   ],
   "source": [
    "network.work(np.array([1,1]))"
   ]
  },
  {
   "cell_type": "markdown",
   "id": "f95e8cbe-fb1c-45d5-ad43-25acb8d044e8",
   "metadata": {},
   "source": [
    "Сеть выдает значение 0.7887778795153473, истинное значение равно 2.414214.\n",
    "\n",
    "Выполним расчет $\\frac{\\partial L}{\\partial w_1}$:\n",
    "\n",
    "$$\\frac{\\partial L}{\\partial y^{predict}} = 2(y^{predict}-y^{true})=2\\cdot (0.7887778795153473-2.414214)=-3.250872240969305$$\n"
   ]
  },
  {
   "cell_type": "markdown",
   "id": "baeadc3e-f77a-456d-a0a9-67100aea99cf",
   "metadata": {},
   "source": [
    "$$\\frac{\\partial y^{predict}}{\\partial h_{1}}=w_5\\cdot f'(w_5h_1+w_6h_2+b_3)=0.3\\cdot f'(0.3\\cdot 0.8175744761936437+0.7\\cdot 0.8175744761936437+0.5)$$\n",
    "$$=0.3\\cdot f'(1.3175744761936437)=0.3\\cdot f(1.3175744761936437)\\cdot (1-f(1.3175744761936437))=0.04998220089078587$$"
   ]
  },
  {
   "cell_type": "markdown",
   "id": "6e801428-c1c9-4ba1-9d31-74a4e77deeb4",
   "metadata": {},
   "source": [
    "$$\\frac{\\partial h_1}{\\partial w_1} = x_1\\cdot f'(w_1x_1+w_2x_2+b_1)=1\\cdot f'(0.3\\cdot 1+0.7\\cdot 1+0.5)$$\n",
    "$$=1\\cdot f(1.5)\\cdot(1-f(1.5)=0.14914645207033286$$"
   ]
  },
  {
   "cell_type": "markdown",
   "id": "1428db4d-5a39-4371-a9ba-c0f12d0a1a71",
   "metadata": {},
   "source": [
    "$$\\frac{\\partial L}{\\partial w_1}=-3.250872240969305\\cdot 0.04998220089078587\\cdot 0.14914645207033286=-0.024234173037744566$$"
   ]
  },
  {
   "cell_type": "markdown",
   "id": "6fbffeaf-cf2f-4827-a72d-341e9ae0f934",
   "metadata": {},
   "source": [
    "Отрицаельное значение говорит о том, что увеличение $w_1$ позволит чуть уменьшить ошибку. Проверим это."
   ]
  },
  {
   "cell_type": "code",
   "execution_count": 34,
   "id": "a43682fc-22d7-4e28-8510-01abc2e741d1",
   "metadata": {},
   "outputs": [
    {
     "name": "stdout",
     "output_type": "stream",
     "text": [
      "0.8175744761936437 0.8175744761936437\n"
     ]
    },
    {
     "data": {
      "text/plain": [
       "0.04998220089078587"
      ]
     },
     "execution_count": 34,
     "metadata": {},
     "output_type": "execute_result"
    }
   ],
   "source": [
    "h1 = f_active(0.3*1+0.7*1+0.5)\n",
    "h2 = f_active(0.3*1+0.7*1+0.5)\n",
    "print(h1,h2)\n",
    "0.3*f_active(1.3175744761936437)*(1-f_active(1.3175744761936437))"
   ]
  },
  {
   "cell_type": "code",
   "execution_count": 37,
   "id": "039c89c2-6170-461a-a3f5-8bf99893e152",
   "metadata": {},
   "outputs": [
    {
     "data": {
      "text/plain": [
       "0.14914645207033286"
      ]
     },
     "execution_count": 37,
     "metadata": {},
     "output_type": "execute_result"
    }
   ],
   "source": [
    "f_active(1.5)*(1-f_active(1.5))"
   ]
  },
  {
   "cell_type": "code",
   "execution_count": 39,
   "id": "f122ef7c-c28b-468f-a44b-ce3b14a30018",
   "metadata": {},
   "outputs": [
    {
     "data": {
      "text/plain": [
       "-0.024234173037744566"
      ]
     },
     "execution_count": 39,
     "metadata": {},
     "output_type": "execute_result"
    }
   ],
   "source": [
    "-3.250872240969305* 0.04998220089078587* 0.14914645207033286"
   ]
  },
  {
   "cell_type": "code",
   "execution_count": 65,
   "id": "5995131d-627c-46fa-9e43-7079911161f5",
   "metadata": {},
   "outputs": [],
   "source": [
    "class NeuralNetwork_1:\n",
    "  '''\n",
    "  Нейронная сеть с:\n",
    "    - 2 входами\n",
    "    - скрытым слоем с 2 нейронами (h1, h2)\n",
    "    - выходным слоем с 1 нейроном (o1)\n",
    "  Все нейроны имеют одинаковые веса и пороги:\n",
    "    - w = [0.3, 0.7]\n",
    "    - b = 0.5\n",
    "  '''\n",
    "  def __init__(self):\n",
    "    weights = np.array([0.3, 0.7])\n",
    "    bias = 0.5\n",
    "\n",
    "    # Используем класс Neuron\n",
    "    self.h1 = Neuron(np.array([0.4,0.7]), bias)\n",
    "    self.h2 = Neuron(weights, bias)\n",
    "    self.o1 = Neuron(weights, bias)\n",
    "\n",
    "  def work(self, x):\n",
    "    out_h1 = self.h1.evaluate(x)\n",
    "    out_h2 = self.h2.evaluate(x)\n",
    "\n",
    "    # Входы для o1 - это выходы h1 и h2\n",
    "    out_o1 = self.o1.evaluate(np.array([out_h1, out_h2]))\n",
    "\n",
    "    return out_o1"
   ]
  },
  {
   "cell_type": "code",
   "execution_count": 66,
   "id": "5c0bbb2c-326b-443f-b233-57725c551e7f",
   "metadata": {},
   "outputs": [
    {
     "data": {
      "text/plain": [
       "0.7887778795153473"
      ]
     },
     "execution_count": 66,
     "metadata": {},
     "output_type": "execute_result"
    }
   ],
   "source": [
    "network = NeuralNetwork()\n",
    "x = np.array([1, 1])\n",
    "network.work(x)"
   ]
  },
  {
   "cell_type": "code",
   "execution_count": 67,
   "id": "99a5cdb6-2a10-46d9-8552-15919cd28631",
   "metadata": {},
   "outputs": [
    {
     "data": {
      "text/plain": [
       "2.642042581776198"
      ]
     },
     "execution_count": 67,
     "metadata": {},
     "output_type": "execute_result"
    }
   ],
   "source": [
    "mse_loss(np.array([2.414214]), np.array([0.7887778795153473]))"
   ]
  },
  {
   "cell_type": "code",
   "execution_count": 68,
   "id": "8598b64a-b509-413d-8d97-3ffd233f106f",
   "metadata": {},
   "outputs": [
    {
     "data": {
      "text/plain": [
       "0.7894989144967673"
      ]
     },
     "execution_count": 68,
     "metadata": {},
     "output_type": "execute_result"
    }
   ],
   "source": [
    "network1 = NeuralNetwork_1()\n",
    "x = np.array([1, 1])\n",
    "network1.work(x)"
   ]
  },
  {
   "cell_type": "code",
   "execution_count": 69,
   "id": "0e6bf7a3-27c5-4e97-a760-489b5eeac103",
   "metadata": {},
   "outputs": [
    {
     "data": {
      "text/plain": [
       "2.6396991090617763"
      ]
     },
     "execution_count": 69,
     "metadata": {},
     "output_type": "execute_result"
    }
   ],
   "source": [
    "mse_loss(np.array([2.414214]), np.array([0.7894989144967673]))"
   ]
  },
  {
   "cell_type": "markdown",
   "id": "b69e9ab1-066a-4b3c-9ff9-0711c561785c",
   "metadata": {},
   "source": [
    "Но у нас минимизация получилась только на одной точке данных. Для оптимизации на всех исходных данных используем стохастический градиентный спуск (stochastic gradient descent). Суть метода состоит в том, чтобы обновлять веса по формуле:\n",
    "$$w_1=w_1-\\eta\\cdot \\frac{\\partial L}{\\partial w_1}$$\n",
    "\n",
    "$\\eta$ - константа, называемая скоростью обучения, которая определяет, как быстро наша сеть учится.\n",
    "\n",
    "Если мы сделаем то же самое для каждого веса и порога в сети, потери будут постепенно уменьшаться, и наша сеть будет выдавать более точные результаты.\n",
    "\n",
    "Процесс обучения сети будет выглядеть примерно так:\n",
    "\n",
    "1. Выбираем одно наблюдение из набора данных. Именно то, что мы работаем только с одним наблюдением, делает наш градиентный спуск стохастическим.\n",
    "2. Считаем все частные производные функции потерь по всем весам и порогам ($\\frac{\\partial L}{\\partial w_1}, \\frac{\\partial L}{\\partial w_2}, \\frac{\\partial L}{\\partial b_1}, \\ldots$)\n",
    "3. Используем формулу обновления, чтобы обновить значения каждого веса и порога.\n",
    "4. Снова переходим к шагу 1.\n",
    "\n",
    "Приступим к реализации.  Поскольку у нас простая сеть, было вы самонадеянно считать, что она сразу может решать сложные задачи. \n",
    "Попробуем решить задачу исключающего или:"
   ]
  },
  {
   "cell_type": "code",
   "execution_count": 107,
   "id": "39808287-f638-440f-88b3-bf102955cf13",
   "metadata": {},
   "outputs": [],
   "source": [
    "import numpy as np\n",
    "\n",
    "def sigmoid(x):\n",
    "  return 1 / (1 + np.exp(-x))\n",
    "\n",
    "def deriv_sigmoid(x):\n",
    "  # Производная сигмоиды: f'(x) = f(x) * (1 - f(x))\n",
    "  fx = sigmoid(x)\n",
    "  return fx * (1 - fx)\n",
    "\n",
    "def mse_loss(y_true, y_pred):\n",
    "  # y_true и y_pred - массивы numpy одинаковой длины.\n",
    "  return ((y_true - y_pred) ** 2).mean()\n",
    "\n",
    "class OurNeuralNetwork:\n",
    "  '''\n",
    "  Нейронная сеть с:\n",
    "    - 2 входами\n",
    "    - скрытым слоем с 2 нейронами (h1, h2)\n",
    "    - выходной слой с 1 нейроном (o1)\n",
    "  '''\n",
    "  def __init__(self):\n",
    "    # Веса\n",
    "    self.w1 = np.random.normal()\n",
    "    self.w2 = np.random.normal()\n",
    "    self.w3 = np.random.normal()\n",
    "    self.w4 = np.random.normal()\n",
    "    self.w5 = np.random.normal()\n",
    "    self.w6 = np.random.normal()\n",
    "\n",
    "    # Пороги\n",
    "    self.b1 = np.random.normal()\n",
    "    self.b2 = np.random.normal()\n",
    "    self.b3 = np.random.normal()\n",
    "\n",
    "  def feedforward(self, x):\n",
    "    # x is a numpy array with 2 elements.\n",
    "    h1 = sigmoid(self.w1 * x[0] + self.w2 * x[1] + self.b1)\n",
    "    h2 = sigmoid(self.w3 * x[0] + self.w4 * x[1] + self.b2)\n",
    "    o1 = sigmoid(self.w5 * h1 + self.w6 * h2 + self.b3)\n",
    "    return o1\n",
    "\n",
    "  def train(self, data, all_y_trues):\n",
    "    '''\n",
    "    - data - массив numpy (n x 2) numpy, n = к-во наблюдений в наборе. \n",
    "    - all_y_trues - массив numpy с n элементами.\n",
    "      Элементы all_y_trues соответствуют наблюдениям в data.\n",
    "    '''\n",
    "    learn_rate = 0.1\n",
    "    epochs = 10000 # сколько раз пройти по всему набору данных \n",
    "\n",
    "    for epoch in range(epochs):\n",
    "      for x, y_true in zip(data, all_y_trues):\n",
    "        # --- Прямой проход (эти значения нам понадобятся позже)\n",
    "        sum_h1 = self.w1 * x[0] + self.w2 * x[1] + self.b1\n",
    "        h1 = sigmoid(sum_h1)\n",
    "\n",
    "        sum_h2 = self.w3 * x[0] + self.w4 * x[1] + self.b2\n",
    "        h2 = sigmoid(sum_h2)\n",
    "\n",
    "        sum_o1 = self.w5 * h1 + self.w6 * h2 + self.b3\n",
    "        o1 = sigmoid(sum_o1)\n",
    "        y_pred = o1\n",
    "\n",
    "        # --- Считаем частные производные.\n",
    "        # --- Имена: d_L_d_w1 = \"частная производная L по w1\"\n",
    "        d_L_d_ypred = -2 * (y_true - y_pred)\n",
    "\n",
    "        # Нейрон o1\n",
    "        d_ypred_d_w5 = h1 * deriv_sigmoid(sum_o1)\n",
    "        d_ypred_d_w6 = h2 * deriv_sigmoid(sum_o1)\n",
    "        d_ypred_d_b3 = deriv_sigmoid(sum_o1)\n",
    "\n",
    "        d_ypred_d_h1 = self.w5 * deriv_sigmoid(sum_o1)\n",
    "        d_ypred_d_h2 = self.w6 * deriv_sigmoid(sum_o1)\n",
    "\n",
    "        # Нейрон h1\n",
    "        d_h1_d_w1 = x[0] * deriv_sigmoid(sum_h1)\n",
    "        d_h1_d_w2 = x[1] * deriv_sigmoid(sum_h1)\n",
    "        d_h1_d_b1 = deriv_sigmoid(sum_h1)\n",
    "\n",
    "        # Нейрон h2\n",
    "        d_h2_d_w3 = x[0] * deriv_sigmoid(sum_h2)\n",
    "        d_h2_d_w4 = x[1] * deriv_sigmoid(sum_h2)\n",
    "        d_h2_d_b2 = deriv_sigmoid(sum_h2)\n",
    "\n",
    "        # --- Обновляем веса и пороги\n",
    "        # Нейрон h1\n",
    "        self.w1 -= learn_rate * d_L_d_ypred * d_ypred_d_h1 * d_h1_d_w1\n",
    "        self.w2 -= learn_rate * d_L_d_ypred * d_ypred_d_h1 * d_h1_d_w2\n",
    "        self.b1 -= learn_rate * d_L_d_ypred * d_ypred_d_h1 * d_h1_d_b1\n",
    "\n",
    "        # Нейрон h2\n",
    "        self.w3 -= learn_rate * d_L_d_ypred * d_ypred_d_h2 * d_h2_d_w3\n",
    "        self.w4 -= learn_rate * d_L_d_ypred * d_ypred_d_h2 * d_h2_d_w4\n",
    "        self.b2 -= learn_rate * d_L_d_ypred * d_ypred_d_h2 * d_h2_d_b2\n",
    "\n",
    "        # Нейрон o1\n",
    "        self.w5 -= learn_rate * d_L_d_ypred * d_ypred_d_w5\n",
    "        self.w6 -= learn_rate * d_L_d_ypred * d_ypred_d_w6\n",
    "        self.b3 -= learn_rate * d_L_d_ypred * d_ypred_d_b3\n",
    "\n",
    "      # --- Считаем полные потери в конце каждой эпохи\n",
    "      if epoch % 100 == 0:\n",
    "        y_preds = np.apply_along_axis(self.feedforward, 1, data)\n",
    "        loss = mse_loss(all_y_trues, y_preds)\n",
    "        print(\"Epoch %d loss: %.3f\" % (epoch, loss))"
   ]
  },
  {
   "cell_type": "code",
   "execution_count": 108,
   "id": "e8bcdbc1-0988-4dbc-93f4-130d4c69be26",
   "metadata": {},
   "outputs": [],
   "source": [
    "# Определим набор данных\n",
    "data = np.array([[0,0],[0,1],[1,0],[1,1]])\n",
    "all_y_trues = np.array([0,1,1,0])"
   ]
  },
  {
   "cell_type": "code",
   "execution_count": 109,
   "id": "8d73aacd-fe5a-40b2-a865-cbf6a19f3663",
   "metadata": {},
   "outputs": [
    {
     "name": "stdout",
     "output_type": "stream",
     "text": [
      "Epoch 0 loss: 0.255\n",
      "Epoch 100 loss: 0.221\n",
      "Epoch 200 loss: 0.209\n",
      "Epoch 300 loss: 0.200\n",
      "Epoch 400 loss: 0.190\n",
      "Epoch 500 loss: 0.181\n",
      "Epoch 600 loss: 0.170\n",
      "Epoch 700 loss: 0.159\n",
      "Epoch 800 loss: 0.144\n",
      "Epoch 900 loss: 0.124\n",
      "Epoch 1000 loss: 0.101\n",
      "Epoch 1100 loss: 0.078\n",
      "Epoch 1200 loss: 0.059\n",
      "Epoch 1300 loss: 0.045\n",
      "Epoch 1400 loss: 0.035\n",
      "Epoch 1500 loss: 0.028\n",
      "Epoch 1600 loss: 0.023\n",
      "Epoch 1700 loss: 0.019\n",
      "Epoch 1800 loss: 0.016\n",
      "Epoch 1900 loss: 0.014\n",
      "Epoch 2000 loss: 0.012\n",
      "Epoch 2100 loss: 0.011\n",
      "Epoch 2200 loss: 0.010\n",
      "Epoch 2300 loss: 0.009\n",
      "Epoch 2400 loss: 0.008\n",
      "Epoch 2500 loss: 0.007\n",
      "Epoch 2600 loss: 0.007\n",
      "Epoch 2700 loss: 0.006\n",
      "Epoch 2800 loss: 0.006\n",
      "Epoch 2900 loss: 0.005\n",
      "Epoch 3000 loss: 0.005\n",
      "Epoch 3100 loss: 0.005\n",
      "Epoch 3200 loss: 0.004\n",
      "Epoch 3300 loss: 0.004\n",
      "Epoch 3400 loss: 0.004\n",
      "Epoch 3500 loss: 0.004\n",
      "Epoch 3600 loss: 0.004\n",
      "Epoch 3700 loss: 0.003\n",
      "Epoch 3800 loss: 0.003\n",
      "Epoch 3900 loss: 0.003\n",
      "Epoch 4000 loss: 0.003\n",
      "Epoch 4100 loss: 0.003\n",
      "Epoch 4200 loss: 0.003\n",
      "Epoch 4300 loss: 0.003\n",
      "Epoch 4400 loss: 0.003\n",
      "Epoch 4500 loss: 0.003\n",
      "Epoch 4600 loss: 0.002\n",
      "Epoch 4700 loss: 0.002\n",
      "Epoch 4800 loss: 0.002\n",
      "Epoch 4900 loss: 0.002\n",
      "Epoch 5000 loss: 0.002\n",
      "Epoch 5100 loss: 0.002\n",
      "Epoch 5200 loss: 0.002\n",
      "Epoch 5300 loss: 0.002\n",
      "Epoch 5400 loss: 0.002\n",
      "Epoch 5500 loss: 0.002\n",
      "Epoch 5600 loss: 0.002\n",
      "Epoch 5700 loss: 0.002\n",
      "Epoch 5800 loss: 0.002\n",
      "Epoch 5900 loss: 0.002\n",
      "Epoch 6000 loss: 0.002\n",
      "Epoch 6100 loss: 0.002\n",
      "Epoch 6200 loss: 0.002\n",
      "Epoch 6300 loss: 0.002\n",
      "Epoch 6400 loss: 0.002\n",
      "Epoch 6500 loss: 0.001\n",
      "Epoch 6600 loss: 0.001\n",
      "Epoch 6700 loss: 0.001\n",
      "Epoch 6800 loss: 0.001\n",
      "Epoch 6900 loss: 0.001\n",
      "Epoch 7000 loss: 0.001\n",
      "Epoch 7100 loss: 0.001\n",
      "Epoch 7200 loss: 0.001\n",
      "Epoch 7300 loss: 0.001\n",
      "Epoch 7400 loss: 0.001\n",
      "Epoch 7500 loss: 0.001\n",
      "Epoch 7600 loss: 0.001\n",
      "Epoch 7700 loss: 0.001\n",
      "Epoch 7800 loss: 0.001\n",
      "Epoch 7900 loss: 0.001\n",
      "Epoch 8000 loss: 0.001\n",
      "Epoch 8100 loss: 0.001\n",
      "Epoch 8200 loss: 0.001\n",
      "Epoch 8300 loss: 0.001\n",
      "Epoch 8400 loss: 0.001\n",
      "Epoch 8500 loss: 0.001\n",
      "Epoch 8600 loss: 0.001\n",
      "Epoch 8700 loss: 0.001\n",
      "Epoch 8800 loss: 0.001\n",
      "Epoch 8900 loss: 0.001\n",
      "Epoch 9000 loss: 0.001\n",
      "Epoch 9100 loss: 0.001\n",
      "Epoch 9200 loss: 0.001\n",
      "Epoch 9300 loss: 0.001\n",
      "Epoch 9400 loss: 0.001\n",
      "Epoch 9500 loss: 0.001\n",
      "Epoch 9600 loss: 0.001\n",
      "Epoch 9700 loss: 0.001\n",
      "Epoch 9800 loss: 0.001\n",
      "Epoch 9900 loss: 0.001\n"
     ]
    }
   ],
   "source": [
    "network = OurNeuralNetwork()\n",
    "network.train(data, all_y_trues)"
   ]
  },
  {
   "cell_type": "code",
   "execution_count": 113,
   "id": "da3e5034-c912-40c7-b89d-bfde5953a0d7",
   "metadata": {},
   "outputs": [
    {
     "data": {
      "text/plain": [
       "0.9722806238304387"
      ]
     },
     "execution_count": 113,
     "metadata": {},
     "output_type": "execute_result"
    }
   ],
   "source": [
    "#Смотрим работу\n",
    "network.feedforward(np.array([0,1]))"
   ]
  },
  {
   "cell_type": "markdown",
   "id": "b03ec47b-2675-4fb6-9166-3483f14ba313",
   "metadata": {},
   "source": [
    "Можно использовать различные датасеты."
   ]
  },
  {
   "cell_type": "code",
   "execution_count": 90,
   "id": "27c306d3-4fa9-4a66-a4ba-bc747f18b62f",
   "metadata": {},
   "outputs": [
    {
     "name": "stdout",
     "output_type": "stream",
     "text": [
      "/home/juna/.local/lib/python3.8/site-packages/pkg_resources/__init__.py:123: PkgResourcesDeprecationWarning: 1.13.1-unknown is an invalid version and will not be supported in a future release\n",
      "  warnings.warn(\n",
      "/home/juna/.local/lib/python3.8/site-packages/pkg_resources/__init__.py:123: PkgResourcesDeprecationWarning: 0.1.36ubuntu1 is an invalid version and will not be supported in a future release\n",
      "  warnings.warn(\n",
      "/home/juna/.local/lib/python3.8/site-packages/pkg_resources/__init__.py:123: PkgResourcesDeprecationWarning: 0.23ubuntu1 is an invalid version and will not be supported in a future release\n",
      "  warnings.warn(\n",
      "Collecting datasets\n",
      "  Downloading datasets-2.18.0-py3-none-any.whl (510 kB)\n",
      "\u001b[K     |████████████████████████████████| 510 kB 1.3 MB/s eta 0:00:01\n",
      "\u001b[?25hCollecting filelock\n",
      "  Downloading filelock-3.13.1-py3-none-any.whl (11 kB)\n",
      "Requirement already satisfied: numpy>=1.17 in /home/juna/.local/lib/python3.8/site-packages (from datasets) (1.22.3)\n",
      "Collecting pyarrow>=12.0.0\n",
      "  Downloading pyarrow-15.0.0-cp38-cp38-manylinux_2_17_x86_64.manylinux2014_x86_64.whl (38.5 MB)\n",
      "\u001b[K     |████████████████████████████████| 38.5 MB 419 kB/s eta 0:00:01\n",
      "\u001b[?25hCollecting pyarrow-hotfix\n",
      "  Downloading pyarrow_hotfix-0.6-py3-none-any.whl (7.9 kB)\n",
      "Collecting dill<0.3.9,>=0.3.0\n",
      "  Downloading dill-0.3.8-py3-none-any.whl (116 kB)\n",
      "\u001b[K     |████████████████████████████████| 116 kB 554 kB/s eta 0:00:01\n",
      "\u001b[?25hRequirement already satisfied: pandas in /home/juna/.local/lib/python3.8/site-packages (from datasets) (1.4.2)\n",
      "Requirement already satisfied: requests>=2.19.0 in /usr/lib/python3/dist-packages (from datasets) (2.22.0)\n",
      "Requirement already satisfied: tqdm>=4.62.1 in /home/juna/.local/lib/python3.8/site-packages (from datasets) (4.66.1)\n",
      "Collecting xxhash\n",
      "  Downloading xxhash-3.4.1-cp38-cp38-manylinux_2_17_x86_64.manylinux2014_x86_64.whl (194 kB)\n",
      "\u001b[K     |████████████████████████████████| 194 kB 4.1 MB/s eta 0:00:01\n",
      "\u001b[?25hCollecting multiprocess\n",
      "  Downloading multiprocess-0.70.16-py38-none-any.whl (132 kB)\n",
      "\u001b[K     |████████████████████████████████| 132 kB 5.1 MB/s eta 0:00:01\n",
      "\u001b[?25hCollecting fsspec[http]<=2024.2.0,>=2023.1.0\n",
      "  Downloading fsspec-2024.2.0-py3-none-any.whl (170 kB)\n",
      "\u001b[K     |████████████████████████████████| 170 kB 4.8 MB/s eta 0:00:01\n",
      "\u001b[?25hCollecting aiohttp\n",
      "  Downloading aiohttp-3.9.3-cp38-cp38-manylinux_2_17_x86_64.manylinux2014_x86_64.whl (1.3 MB)\n",
      "\u001b[K     |████████████████████████████████| 1.3 MB 8.0 MB/s eta 0:00:01\n",
      "\u001b[?25hCollecting huggingface-hub>=0.19.4\n",
      "  Downloading huggingface_hub-0.21.3-py3-none-any.whl (346 kB)\n",
      "\u001b[K     |████████████████████████████████| 346 kB 6.2 MB/s eta 0:00:01\n",
      "\u001b[?25hRequirement already satisfied: packaging in /home/juna/.local/lib/python3.8/site-packages (from datasets) (21.3)\n",
      "Requirement already satisfied: pyyaml>=5.1 in /usr/lib/python3/dist-packages (from datasets) (5.3.1)\n",
      "Requirement already satisfied: python-dateutil>=2.8.1 in /home/juna/.local/lib/python3.8/site-packages (from pandas->datasets) (2.8.2)\n",
      "Requirement already satisfied: pytz>=2020.1 in /home/juna/.local/lib/python3.8/site-packages (from pandas->datasets) (2022.1)\n",
      "Collecting aiosignal>=1.1.2\n",
      "  Downloading aiosignal-1.3.1-py3-none-any.whl (7.6 kB)\n",
      "Requirement already satisfied: attrs>=17.3.0 in /home/juna/.local/lib/python3.8/site-packages (from aiohttp->datasets) (21.4.0)\n",
      "Collecting frozenlist>=1.1.1\n",
      "  Downloading frozenlist-1.4.1-cp38-cp38-manylinux_2_5_x86_64.manylinux1_x86_64.manylinux_2_17_x86_64.manylinux2014_x86_64.whl (240 kB)\n",
      "\u001b[K     |████████████████████████████████| 240 kB 3.5 MB/s eta 0:00:01\n",
      "\u001b[?25hCollecting multidict<7.0,>=4.5\n",
      "  Downloading multidict-6.0.5-cp38-cp38-manylinux_2_17_x86_64.manylinux2014_x86_64.whl (129 kB)\n",
      "\u001b[K     |████████████████████████████████| 129 kB 5.2 MB/s eta 0:00:01\n",
      "\u001b[?25hCollecting yarl<2.0,>=1.0\n",
      "  Downloading yarl-1.9.4-cp38-cp38-manylinux_2_17_x86_64.manylinux2014_x86_64.whl (308 kB)\n",
      "\u001b[K     |████████████████████████████████| 308 kB 7.8 MB/s eta 0:00:01\n",
      "\u001b[?25hRequirement already satisfied: async-timeout<5.0,>=4.0; python_version < \"3.11\" in /home/juna/.local/lib/python3.8/site-packages (from aiohttp->datasets) (4.0.2)\n",
      "Requirement already satisfied: typing-extensions>=3.7.4.3 in /home/juna/.local/lib/python3.8/site-packages (from huggingface-hub>=0.19.4->datasets) (4.1.1)\n",
      "Requirement already satisfied: pyparsing!=3.0.5,>=2.0.2 in /home/juna/.local/lib/python3.8/site-packages (from packaging->datasets) (3.0.8)\n",
      "Requirement already satisfied: six>=1.5 in /home/juna/.local/lib/python3.8/site-packages (from python-dateutil>=2.8.1->pandas->datasets) (1.16.0)\n",
      "Requirement already satisfied: idna>=2.0 in /usr/lib/python3/dist-packages (from yarl<2.0,>=1.0->aiohttp->datasets) (2.8)\n",
      "\u001b[31mERROR: atoti-query 0.7.1 has requirement pyarrow~=8.0, but you'll have pyarrow 15.0.0 which is incompatible.\u001b[0m\n",
      "Installing collected packages: filelock, pyarrow, pyarrow-hotfix, dill, xxhash, multiprocess, frozenlist, aiosignal, multidict, yarl, aiohttp, fsspec, huggingface-hub, datasets\n",
      "  Attempting uninstall: pyarrow\n",
      "    Found existing installation: pyarrow 7.0.0\n",
      "    Uninstalling pyarrow-7.0.0:\n",
      "      Successfully uninstalled pyarrow-7.0.0\n",
      "Successfully installed aiohttp-3.9.3 aiosignal-1.3.1 datasets-2.18.0 dill-0.3.8 filelock-3.13.1 frozenlist-1.4.1 fsspec-2024.2.0 huggingface-hub-0.21.3 multidict-6.0.5 multiprocess-0.70.16 pyarrow-15.0.0 pyarrow-hotfix-0.6 xxhash-3.4.1 yarl-1.9.4\n"
     ]
    }
   ],
   "source": [
    "!pip3 install datasets"
   ]
  },
  {
   "cell_type": "code",
   "execution_count": 91,
   "id": "d8dc9bba-98ad-42bd-9be5-47b0f885f7d9",
   "metadata": {
    "tags": []
   },
   "outputs": [],
   "source": [
    "import pydataset as ds"
   ]
  },
  {
   "cell_type": "code",
   "execution_count": 93,
   "id": "33bee7c9-8655-4bc2-b2f0-9eb551a9d3ec",
   "metadata": {
    "tags": []
   },
   "outputs": [
    {
     "data": {
      "text/html": [
       "<div>\n",
       "<style scoped>\n",
       "    .dataframe tbody tr th:only-of-type {\n",
       "        vertical-align: middle;\n",
       "    }\n",
       "\n",
       "    .dataframe tbody tr th {\n",
       "        vertical-align: top;\n",
       "    }\n",
       "\n",
       "    .dataframe thead th {\n",
       "        text-align: right;\n",
       "    }\n",
       "</style>\n",
       "<table border=\"1\" class=\"dataframe\">\n",
       "  <thead>\n",
       "    <tr style=\"text-align: right;\">\n",
       "      <th></th>\n",
       "      <th>Hair</th>\n",
       "      <th>Eye</th>\n",
       "      <th>Sex</th>\n",
       "      <th>Freq</th>\n",
       "    </tr>\n",
       "  </thead>\n",
       "  <tbody>\n",
       "    <tr>\n",
       "      <th>1</th>\n",
       "      <td>Black</td>\n",
       "      <td>Brown</td>\n",
       "      <td>Male</td>\n",
       "      <td>32</td>\n",
       "    </tr>\n",
       "    <tr>\n",
       "      <th>2</th>\n",
       "      <td>Brown</td>\n",
       "      <td>Brown</td>\n",
       "      <td>Male</td>\n",
       "      <td>53</td>\n",
       "    </tr>\n",
       "    <tr>\n",
       "      <th>3</th>\n",
       "      <td>Red</td>\n",
       "      <td>Brown</td>\n",
       "      <td>Male</td>\n",
       "      <td>10</td>\n",
       "    </tr>\n",
       "    <tr>\n",
       "      <th>4</th>\n",
       "      <td>Blond</td>\n",
       "      <td>Brown</td>\n",
       "      <td>Male</td>\n",
       "      <td>3</td>\n",
       "    </tr>\n",
       "    <tr>\n",
       "      <th>5</th>\n",
       "      <td>Black</td>\n",
       "      <td>Blue</td>\n",
       "      <td>Male</td>\n",
       "      <td>11</td>\n",
       "    </tr>\n",
       "    <tr>\n",
       "      <th>6</th>\n",
       "      <td>Brown</td>\n",
       "      <td>Blue</td>\n",
       "      <td>Male</td>\n",
       "      <td>50</td>\n",
       "    </tr>\n",
       "    <tr>\n",
       "      <th>7</th>\n",
       "      <td>Red</td>\n",
       "      <td>Blue</td>\n",
       "      <td>Male</td>\n",
       "      <td>10</td>\n",
       "    </tr>\n",
       "    <tr>\n",
       "      <th>8</th>\n",
       "      <td>Blond</td>\n",
       "      <td>Blue</td>\n",
       "      <td>Male</td>\n",
       "      <td>30</td>\n",
       "    </tr>\n",
       "    <tr>\n",
       "      <th>9</th>\n",
       "      <td>Black</td>\n",
       "      <td>Hazel</td>\n",
       "      <td>Male</td>\n",
       "      <td>10</td>\n",
       "    </tr>\n",
       "    <tr>\n",
       "      <th>10</th>\n",
       "      <td>Brown</td>\n",
       "      <td>Hazel</td>\n",
       "      <td>Male</td>\n",
       "      <td>25</td>\n",
       "    </tr>\n",
       "    <tr>\n",
       "      <th>11</th>\n",
       "      <td>Red</td>\n",
       "      <td>Hazel</td>\n",
       "      <td>Male</td>\n",
       "      <td>7</td>\n",
       "    </tr>\n",
       "    <tr>\n",
       "      <th>12</th>\n",
       "      <td>Blond</td>\n",
       "      <td>Hazel</td>\n",
       "      <td>Male</td>\n",
       "      <td>5</td>\n",
       "    </tr>\n",
       "    <tr>\n",
       "      <th>13</th>\n",
       "      <td>Black</td>\n",
       "      <td>Green</td>\n",
       "      <td>Male</td>\n",
       "      <td>3</td>\n",
       "    </tr>\n",
       "    <tr>\n",
       "      <th>14</th>\n",
       "      <td>Brown</td>\n",
       "      <td>Green</td>\n",
       "      <td>Male</td>\n",
       "      <td>15</td>\n",
       "    </tr>\n",
       "    <tr>\n",
       "      <th>15</th>\n",
       "      <td>Red</td>\n",
       "      <td>Green</td>\n",
       "      <td>Male</td>\n",
       "      <td>7</td>\n",
       "    </tr>\n",
       "    <tr>\n",
       "      <th>16</th>\n",
       "      <td>Blond</td>\n",
       "      <td>Green</td>\n",
       "      <td>Male</td>\n",
       "      <td>8</td>\n",
       "    </tr>\n",
       "    <tr>\n",
       "      <th>17</th>\n",
       "      <td>Black</td>\n",
       "      <td>Brown</td>\n",
       "      <td>Female</td>\n",
       "      <td>36</td>\n",
       "    </tr>\n",
       "    <tr>\n",
       "      <th>18</th>\n",
       "      <td>Brown</td>\n",
       "      <td>Brown</td>\n",
       "      <td>Female</td>\n",
       "      <td>66</td>\n",
       "    </tr>\n",
       "    <tr>\n",
       "      <th>19</th>\n",
       "      <td>Red</td>\n",
       "      <td>Brown</td>\n",
       "      <td>Female</td>\n",
       "      <td>16</td>\n",
       "    </tr>\n",
       "    <tr>\n",
       "      <th>20</th>\n",
       "      <td>Blond</td>\n",
       "      <td>Brown</td>\n",
       "      <td>Female</td>\n",
       "      <td>4</td>\n",
       "    </tr>\n",
       "    <tr>\n",
       "      <th>21</th>\n",
       "      <td>Black</td>\n",
       "      <td>Blue</td>\n",
       "      <td>Female</td>\n",
       "      <td>9</td>\n",
       "    </tr>\n",
       "    <tr>\n",
       "      <th>22</th>\n",
       "      <td>Brown</td>\n",
       "      <td>Blue</td>\n",
       "      <td>Female</td>\n",
       "      <td>34</td>\n",
       "    </tr>\n",
       "    <tr>\n",
       "      <th>23</th>\n",
       "      <td>Red</td>\n",
       "      <td>Blue</td>\n",
       "      <td>Female</td>\n",
       "      <td>7</td>\n",
       "    </tr>\n",
       "    <tr>\n",
       "      <th>24</th>\n",
       "      <td>Blond</td>\n",
       "      <td>Blue</td>\n",
       "      <td>Female</td>\n",
       "      <td>64</td>\n",
       "    </tr>\n",
       "    <tr>\n",
       "      <th>25</th>\n",
       "      <td>Black</td>\n",
       "      <td>Hazel</td>\n",
       "      <td>Female</td>\n",
       "      <td>5</td>\n",
       "    </tr>\n",
       "    <tr>\n",
       "      <th>26</th>\n",
       "      <td>Brown</td>\n",
       "      <td>Hazel</td>\n",
       "      <td>Female</td>\n",
       "      <td>29</td>\n",
       "    </tr>\n",
       "    <tr>\n",
       "      <th>27</th>\n",
       "      <td>Red</td>\n",
       "      <td>Hazel</td>\n",
       "      <td>Female</td>\n",
       "      <td>7</td>\n",
       "    </tr>\n",
       "    <tr>\n",
       "      <th>28</th>\n",
       "      <td>Blond</td>\n",
       "      <td>Hazel</td>\n",
       "      <td>Female</td>\n",
       "      <td>5</td>\n",
       "    </tr>\n",
       "    <tr>\n",
       "      <th>29</th>\n",
       "      <td>Black</td>\n",
       "      <td>Green</td>\n",
       "      <td>Female</td>\n",
       "      <td>2</td>\n",
       "    </tr>\n",
       "    <tr>\n",
       "      <th>30</th>\n",
       "      <td>Brown</td>\n",
       "      <td>Green</td>\n",
       "      <td>Female</td>\n",
       "      <td>14</td>\n",
       "    </tr>\n",
       "    <tr>\n",
       "      <th>31</th>\n",
       "      <td>Red</td>\n",
       "      <td>Green</td>\n",
       "      <td>Female</td>\n",
       "      <td>7</td>\n",
       "    </tr>\n",
       "    <tr>\n",
       "      <th>32</th>\n",
       "      <td>Blond</td>\n",
       "      <td>Green</td>\n",
       "      <td>Female</td>\n",
       "      <td>8</td>\n",
       "    </tr>\n",
       "  </tbody>\n",
       "</table>\n",
       "</div>"
      ],
      "text/plain": [
       "     Hair    Eye     Sex  Freq\n",
       "1   Black  Brown    Male    32\n",
       "2   Brown  Brown    Male    53\n",
       "3     Red  Brown    Male    10\n",
       "4   Blond  Brown    Male     3\n",
       "5   Black   Blue    Male    11\n",
       "6   Brown   Blue    Male    50\n",
       "7     Red   Blue    Male    10\n",
       "8   Blond   Blue    Male    30\n",
       "9   Black  Hazel    Male    10\n",
       "10  Brown  Hazel    Male    25\n",
       "11    Red  Hazel    Male     7\n",
       "12  Blond  Hazel    Male     5\n",
       "13  Black  Green    Male     3\n",
       "14  Brown  Green    Male    15\n",
       "15    Red  Green    Male     7\n",
       "16  Blond  Green    Male     8\n",
       "17  Black  Brown  Female    36\n",
       "18  Brown  Brown  Female    66\n",
       "19    Red  Brown  Female    16\n",
       "20  Blond  Brown  Female     4\n",
       "21  Black   Blue  Female     9\n",
       "22  Brown   Blue  Female    34\n",
       "23    Red   Blue  Female     7\n",
       "24  Blond   Blue  Female    64\n",
       "25  Black  Hazel  Female     5\n",
       "26  Brown  Hazel  Female    29\n",
       "27    Red  Hazel  Female     7\n",
       "28  Blond  Hazel  Female     5\n",
       "29  Black  Green  Female     2\n",
       "30  Brown  Green  Female    14\n",
       "31    Red  Green  Female     7\n",
       "32  Blond  Green  Female     8"
      ]
     },
     "metadata": {},
     "output_type": "display_data"
    }
   ],
   "source": [
    "G=ds.data('HairEyeColor')\n",
    "display(G)"
   ]
  },
  {
   "cell_type": "markdown",
   "id": "197c50a2-8780-4713-afa0-7ac6d65210fe",
   "metadata": {},
   "source": [
    "# Пробуем работать с нейронками"
   ]
  },
  {
   "cell_type": "code",
   "execution_count": 1,
   "id": "95396a65-11a2-4f5e-bf8a-6ff8b4449842",
   "metadata": {},
   "outputs": [
    {
     "name": "stdout",
     "output_type": "stream",
     "text": [
      "/home/juna/.local/lib/python3.8/site-packages/pkg_resources/__init__.py:123: PkgResourcesDeprecationWarning: 1.13.1-unknown is an invalid version and will not be supported in a future release\n",
      "  warnings.warn(\n",
      "/home/juna/.local/lib/python3.8/site-packages/pkg_resources/__init__.py:123: PkgResourcesDeprecationWarning: 0.1.36ubuntu1 is an invalid version and will not be supported in a future release\n",
      "  warnings.warn(\n",
      "/home/juna/.local/lib/python3.8/site-packages/pkg_resources/__init__.py:123: PkgResourcesDeprecationWarning: 0.23ubuntu1 is an invalid version and will not be supported in a future release\n",
      "  warnings.warn(\n",
      "Collecting keras\n",
      "  Downloading keras-2.15.0-py3-none-any.whl (1.7 MB)\n",
      "\u001b[K     |████████████████████████████████| 1.7 MB 1.3 MB/s eta 0:00:01\n",
      "\u001b[?25hInstalling collected packages: keras\n",
      "Successfully installed keras-2.15.0\n"
     ]
    }
   ],
   "source": [
    "!pip install keras"
   ]
  },
  {
   "cell_type": "code",
   "execution_count": 4,
   "id": "de18885b-f4de-4839-8bd6-8ff4e27e2dd6",
   "metadata": {},
   "outputs": [
    {
     "name": "stdout",
     "output_type": "stream",
     "text": [
      "/home/juna/.local/lib/python3.8/site-packages/pkg_resources/__init__.py:123: PkgResourcesDeprecationWarning: 1.13.1-unknown is an invalid version and will not be supported in a future release\n",
      "  warnings.warn(\n",
      "/home/juna/.local/lib/python3.8/site-packages/pkg_resources/__init__.py:123: PkgResourcesDeprecationWarning: 0.1.36ubuntu1 is an invalid version and will not be supported in a future release\n",
      "  warnings.warn(\n",
      "/home/juna/.local/lib/python3.8/site-packages/pkg_resources/__init__.py:123: PkgResourcesDeprecationWarning: 0.23ubuntu1 is an invalid version and will not be supported in a future release\n",
      "  warnings.warn(\n",
      "Collecting tensorflow\n",
      "  Downloading tensorflow-2.13.1-cp38-cp38-manylinux_2_17_x86_64.manylinux2014_x86_64.whl (479.6 MB)\n",
      "\u001b[K     |████████████████████████████████| 479.6 MB 23 kB/s s eta 0:00:01    |█████▍                          | 80.6 MB 25.4 MB/s eta 0:00:16     |████████                        | 120.4 MB 14.7 MB/s eta 0:00:25     |████████████▍                   | 186.5 MB 16.2 MB/s eta 0:00:19     |██████████████▎                 | 213.6 MB 14.1 MB/s eta 0:00:19     |███████████████▏                | 227.1 MB 15.6 MB/s eta 0:00:17     |███████████████▉                | 237.0 MB 14.8 MB/s eta 0:00:17     |███████████████▉                | 237.9 MB 14.8 MB/s eta 0:00:17     |████████████████████████▎       | 364.5 MB 13.3 MB/s eta 0:00:09     |██████████████████████████▏     | 392.1 MB 15.4 MB/s eta 0:00:06     |███████████████████████████     | 404.7 MB 15.4 MB/s eta 0:00:05     |███████████████████████████▏    | 407.3 MB 15.1 MB/s eta 0:00:05     |████████████████████████████    | 418.9 MB 18.9 MB/s eta 0:00:04     |██████████████████████████████  | 450.3 MB 13.9 MB/s eta 0:00:03\n",
      "\u001b[?25hCollecting absl-py>=1.0.0\n",
      "  Downloading absl_py-2.1.0-py3-none-any.whl (133 kB)\n",
      "\u001b[K     |████████████████████████████████| 133 kB 10.5 MB/s eta 0:00:01\n",
      "\u001b[?25hCollecting astunparse>=1.6.0\n",
      "  Downloading astunparse-1.6.3-py2.py3-none-any.whl (12 kB)\n",
      "Collecting flatbuffers>=23.1.21\n",
      "  Downloading flatbuffers-23.5.26-py2.py3-none-any.whl (26 kB)\n",
      "Collecting gast<=0.4.0,>=0.2.1\n",
      "  Downloading gast-0.4.0-py3-none-any.whl (9.8 kB)\n",
      "Collecting google-pasta>=0.1.1\n",
      "  Downloading google_pasta-0.2.0-py3-none-any.whl (57 kB)\n",
      "\u001b[K     |████████████████████████████████| 57 kB 5.2 MB/s  eta 0:00:01\n",
      "\u001b[?25hCollecting grpcio<2.0,>=1.24.3\n",
      "  Downloading grpcio-1.60.1-cp38-cp38-manylinux_2_17_x86_64.manylinux2014_x86_64.whl (5.4 MB)\n",
      "\u001b[K     |████████████████████████████████| 5.4 MB 6.8 MB/s eta 0:00:01\n",
      "\u001b[?25hCollecting h5py>=2.9.0\n",
      "  Downloading h5py-3.10.0-cp38-cp38-manylinux_2_17_x86_64.manylinux2014_x86_64.whl (4.8 MB)\n",
      "\u001b[K     |████████████████████████████████| 4.8 MB 8.1 MB/s eta 0:00:01\n",
      "\u001b[?25hCollecting keras<2.14,>=2.13.1\n",
      "  Downloading keras-2.13.1-py3-none-any.whl (1.7 MB)\n",
      "\u001b[K     |████████████████████████████████| 1.7 MB 13.4 MB/s eta 0:00:01\n",
      "\u001b[?25hCollecting libclang>=13.0.0\n",
      "  Downloading libclang-16.0.6-py2.py3-none-manylinux2010_x86_64.whl (22.9 MB)\n",
      "\u001b[K     |████████████████████████████████| 22.9 MB 261 kB/s eta 0:00:01\n",
      "\u001b[?25hRequirement already satisfied: numpy<=1.24.3,>=1.22 in /home/juna/.local/lib/python3.8/site-packages (from tensorflow) (1.22.3)\n",
      "Collecting opt-einsum>=2.3.2\n",
      "  Downloading opt_einsum-3.3.0-py3-none-any.whl (65 kB)\n",
      "\u001b[K     |████████████████████████████████| 65 kB 3.1 MB/s eta 0:00:011\n",
      "\u001b[?25hRequirement already satisfied: packaging in /home/juna/.local/lib/python3.8/site-packages (from tensorflow) (21.3)\n",
      "Collecting protobuf!=4.21.0,!=4.21.1,!=4.21.2,!=4.21.3,!=4.21.4,!=4.21.5,<5.0.0dev,>=3.20.3\n",
      "  Downloading protobuf-4.25.2-cp37-abi3-manylinux2014_x86_64.whl (294 kB)\n",
      "\u001b[K     |████████████████████████████████| 294 kB 6.7 MB/s eta 0:00:01\n",
      "\u001b[?25hRequirement already satisfied: setuptools in /home/juna/.local/lib/python3.8/site-packages (from tensorflow) (62.1.0)\n",
      "Requirement already satisfied: six>=1.12.0 in /home/juna/.local/lib/python3.8/site-packages (from tensorflow) (1.16.0)\n",
      "Collecting tensorboard<2.14,>=2.13\n",
      "  Downloading tensorboard-2.13.0-py3-none-any.whl (5.6 MB)\n",
      "\u001b[K     |████████████████████████████████| 5.6 MB 7.5 MB/s eta 0:00:01\n",
      "\u001b[?25hCollecting tensorflow-estimator<2.14,>=2.13.0\n",
      "  Downloading tensorflow_estimator-2.13.0-py2.py3-none-any.whl (440 kB)\n",
      "\u001b[K     |████████████████████████████████| 440 kB 8.6 MB/s eta 0:00:01\n",
      "\u001b[?25hCollecting termcolor>=1.1.0\n",
      "  Downloading termcolor-2.4.0-py3-none-any.whl (7.7 kB)\n",
      "Requirement already satisfied: typing-extensions<4.6.0,>=3.6.6 in /home/juna/.local/lib/python3.8/site-packages (from tensorflow) (4.1.1)\n",
      "Requirement already satisfied: wrapt>=1.11.0 in /home/juna/.local/lib/python3.8/site-packages (from tensorflow) (1.14.1)\n",
      "Collecting tensorflow-io-gcs-filesystem>=0.23.1; platform_machine != \"arm64\" or platform_system != \"Darwin\"\n",
      "  Downloading tensorflow_io_gcs_filesystem-0.34.0-cp38-cp38-manylinux_2_12_x86_64.manylinux2010_x86_64.whl (2.4 MB)\n",
      "\u001b[K     |████████████████████████████████| 2.4 MB 10.0 MB/s eta 0:00:01\n",
      "\u001b[?25hRequirement already satisfied: wheel<1.0,>=0.23.0 in /usr/lib/python3/dist-packages (from astunparse>=1.6.0->tensorflow) (0.34.2)\n",
      "Requirement already satisfied: pyparsing!=3.0.5,>=2.0.2 in /home/juna/.local/lib/python3.8/site-packages (from packaging->tensorflow) (3.0.8)\n",
      "Collecting google-auth<3,>=1.6.3\n",
      "  Downloading google_auth-2.27.0-py2.py3-none-any.whl (186 kB)\n",
      "\u001b[K     |████████████████████████████████| 186 kB 8.5 MB/s eta 0:00:01\n",
      "\u001b[?25hCollecting google-auth-oauthlib<1.1,>=0.5\n",
      "  Downloading google_auth_oauthlib-1.0.0-py2.py3-none-any.whl (18 kB)\n",
      "Collecting markdown>=2.6.8\n",
      "  Downloading Markdown-3.5.2-py3-none-any.whl (103 kB)\n",
      "\u001b[K     |████████████████████████████████| 103 kB 7.3 MB/s eta 0:00:01\n",
      "\u001b[?25hRequirement already satisfied: requests<3,>=2.21.0 in /usr/lib/python3/dist-packages (from tensorboard<2.14,>=2.13->tensorflow) (2.22.0)\n",
      "Collecting tensorboard-data-server<0.8.0,>=0.7.0\n",
      "  Downloading tensorboard_data_server-0.7.2-py3-none-any.whl (2.4 kB)\n",
      "Requirement already satisfied: werkzeug>=1.0.1 in /home/juna/.local/lib/python3.8/site-packages (from tensorboard<2.14,>=2.13->tensorflow) (2.1.1)\n",
      "Collecting cachetools<6.0,>=2.0.0\n",
      "  Downloading cachetools-5.3.2-py3-none-any.whl (9.3 kB)\n",
      "Collecting pyasn1-modules>=0.2.1\n",
      "  Downloading pyasn1_modules-0.3.0-py2.py3-none-any.whl (181 kB)\n",
      "\u001b[K     |████████████████████████████████| 181 kB 6.1 MB/s eta 0:00:01\n",
      "\u001b[?25hCollecting rsa<5,>=3.1.4\n",
      "  Downloading rsa-4.9-py3-none-any.whl (34 kB)\n",
      "Collecting requests-oauthlib>=0.7.0\n",
      "  Downloading requests_oauthlib-1.3.1-py2.py3-none-any.whl (23 kB)\n",
      "Requirement already satisfied: importlib-metadata>=4.4; python_version < \"3.10\" in /home/juna/.local/lib/python3.8/site-packages (from markdown>=2.6.8->tensorboard<2.14,>=2.13->tensorflow) (4.11.3)\n",
      "Collecting pyasn1<0.6.0,>=0.4.6\n",
      "  Downloading pyasn1-0.5.1-py2.py3-none-any.whl (84 kB)\n",
      "\u001b[K     |████████████████████████████████| 84 kB 3.6 MB/s eta 0:00:01\n",
      "\u001b[?25hRequirement already satisfied: oauthlib>=3.0.0 in /usr/lib/python3/dist-packages (from requests-oauthlib>=0.7.0->google-auth-oauthlib<1.1,>=0.5->tensorboard<2.14,>=2.13->tensorflow) (3.1.0)\n",
      "Requirement already satisfied: zipp>=0.5 in /home/juna/.local/lib/python3.8/site-packages (from importlib-metadata>=4.4; python_version < \"3.10\"->markdown>=2.6.8->tensorboard<2.14,>=2.13->tensorflow) (3.8.0)\n",
      "Installing collected packages: absl-py, astunparse, flatbuffers, gast, google-pasta, grpcio, h5py, keras, libclang, opt-einsum, protobuf, cachetools, pyasn1, pyasn1-modules, rsa, google-auth, requests-oauthlib, google-auth-oauthlib, markdown, tensorboard-data-server, tensorboard, tensorflow-estimator, termcolor, tensorflow-io-gcs-filesystem, tensorflow\n",
      "  Attempting uninstall: keras\n",
      "    Found existing installation: keras 2.15.0\n",
      "    Uninstalling keras-2.15.0:\n",
      "      Successfully uninstalled keras-2.15.0\n",
      "Successfully installed absl-py-2.1.0 astunparse-1.6.3 cachetools-5.3.2 flatbuffers-23.5.26 gast-0.4.0 google-auth-2.27.0 google-auth-oauthlib-1.0.0 google-pasta-0.2.0 grpcio-1.60.1 h5py-3.10.0 keras-2.13.1 libclang-16.0.6 markdown-3.5.2 opt-einsum-3.3.0 protobuf-4.25.2 pyasn1-0.5.1 pyasn1-modules-0.3.0 requests-oauthlib-1.3.1 rsa-4.9 tensorboard-2.13.0 tensorboard-data-server-0.7.2 tensorflow-2.13.1 tensorflow-estimator-2.13.0 tensorflow-io-gcs-filesystem-0.34.0 termcolor-2.4.0\n"
     ]
    }
   ],
   "source": [
    "!pip install tensorflow"
   ]
  },
  {
   "cell_type": "code",
   "execution_count": 29,
   "id": "c2067d05-e113-41bf-a20e-4b643970f788",
   "metadata": {},
   "outputs": [],
   "source": [
    "from keras.datasets import mnist\n",
    "(train_images, train_labels), (test_images, test_labels) = mnist.load_data()"
   ]
  },
  {
   "cell_type": "code",
   "execution_count": 23,
   "id": "43e89100-69ac-4174-beab-a9cc75e1934e",
   "metadata": {},
   "outputs": [],
   "source": [
    "import matplotlib.pyplot as plt"
   ]
  },
  {
   "cell_type": "code",
   "execution_count": 24,
   "id": "427cfcbb-21b5-40e3-a5f3-bb88bdf7eca0",
   "metadata": {},
   "outputs": [
    {
     "name": "stdout",
     "output_type": "stream",
     "text": [
      "0\n"
     ]
    },
    {
     "data": {
      "image/png": "[encoded data removed]",
      "text/plain": [
       "<Figure size 432x288 with 1 Axes>"
      ]
     },
     "metadata": {
      "needs_background": "light"
     },
     "output_type": "display_data"
    },
    {
     "name": "stdout",
     "output_type": "stream",
     "text": [
      "4\n"
     ]
    },
    {
     "data": {
      "image/png": "[encoded data removed]",
      "text/plain": [
       "<Figure size 432x288 with 1 Axes>"
      ]
     },
     "metadata": {
      "needs_background": "light"
     },
     "output_type": "display_data"
    },
    {
     "name": "stdout",
     "output_type": "stream",
     "text": [
      "1\n"
     ]
    },
    {
     "data": {
      "image/png": "[encoded data removed]",
      "text/plain": [
       "<Figure size 432x288 with 1 Axes>"
      ]
     },
     "metadata": {
      "needs_background": "light"
     },
     "output_type": "display_data"
    },
    {
     "name": "stdout",
     "output_type": "stream",
     "text": [
      "9\n"
     ]
    },
    {
     "data": {
      "image/png": "[encoded data removed]",
      "text/plain": [
       "<Figure size 432x288 with 1 Axes>"
      ]
     },
     "metadata": {
      "needs_background": "light"
     },
     "output_type": "display_data"
    },
    {
     "name": "stdout",
     "output_type": "stream",
     "text": [
      "2\n"
     ]
    },
    {
     "data": {
      "image/png": "[encoded data removed]",
      "text/plain": [
       "<Figure size 432x288 with 1 Axes>"
      ]
     },
     "metadata": {
      "needs_background": "light"
     },
     "output_type": "display_data"
    },
    {
     "name": "stdout",
     "output_type": "stream",
     "text": [
      "1\n"
     ]
    },
    {
     "data": {
      "image/png": "[encoded data removed]",
      "text/plain": [
       "<Figure size 432x288 with 1 Axes>"
      ]
     },
     "metadata": {
      "needs_background": "light"
     },
     "output_type": "display_data"
    },
    {
     "name": "stdout",
     "output_type": "stream",
     "text": [
      "3\n"
     ]
    },
    {
     "data": {
      "image/png": "[encoded data removed]",
      "text/plain": [
       "<Figure size 432x288 with 1 Axes>"
      ]
     },
     "metadata": {
      "needs_background": "light"
     },
     "output_type": "display_data"
    },
    {
     "name": "stdout",
     "output_type": "stream",
     "text": [
      "1\n"
     ]
    },
    {
     "data": {
      "image/png": "[encoded data removed]",
      "text/plain": [
       "<Figure size 432x288 with 1 Axes>"
      ]
     },
     "metadata": {
      "needs_background": "light"
     },
     "output_type": "display_data"
    },
    {
     "name": "stdout",
     "output_type": "stream",
     "text": [
      "4\n"
     ]
    },
    {
     "data": {
      "image/png": "[encoded data removed]",
      "text/plain": [
       "<Figure size 432x288 with 1 Axes>"
      ]
     },
     "metadata": {
      "needs_background": "light"
     },
     "output_type": "display_data"
    },
    {
     "name": "stdout",
     "output_type": "stream",
     "text": [
      "3\n"
     ]
    },
    {
     "data": {
      "image/png": "[encoded data removed]",
      "text/plain": [
       "<Figure size 432x288 with 1 Axes>"
      ]
     },
     "metadata": {
      "needs_background": "light"
     },
     "output_type": "display_data"
    }
   ],
   "source": [
    "#Первые 10 изображений из обучающей выборки\n",
    "for i in range(10):\n",
    "    digit = train_images[i+1]\n",
    "    print(train_labels[i+1])\n",
    "    plt.imshow(digit, cmap = plt.cm.binary)\n",
    "    plt.show()"
   ]
  },
  {
   "cell_type": "code",
   "execution_count": 30,
   "id": "88105dac-9cea-42f2-a225-59014cb856c7",
   "metadata": {},
   "outputs": [],
   "source": [
    "#Конструируем сеть\n",
    "\n",
    "from keras import models\n",
    "from keras import layers\n",
    "\n",
    "network = models.Sequential()\n",
    "network.add(layers.Dense(512, activation='relu', input_shape = (28 * 28,)))\n",
    "network.add(layers.Dense(10, activation='softmax'))"
   ]
  },
  {
   "cell_type": "markdown",
   "id": "b64b3593-142a-434d-873f-ae79235a7907",
   "metadata": {},
   "source": [
    "Основным строительным блоком нейронных сетей является *слой* (или *уровень*), модуль обработки данных, который можно рассматривать как фильтр для данных.\n",
    "\n",
    "Он принимает некоторые данные и выводит их в более полезной форме. В частности, слои извлекают *представления* из подаваемых в них данных, которые, кк мы надеемся, будут иметь больше смысла для решения задачи. Фактически методика глубокого обучения заключается в объединении простых слоев, реализующих некоторую форму поэтапной *очистки данных*. Модель глубокого обучения можно сравнить с ситом, состоящим из последовательности фильтров все более тонкой очистки данных - слоев.\n",
    "\n",
    "В нашем случае сеть состоит из последовательности двух слоев Dense, которые являются *полносвязными* нейронными слоями. Второй (и последний) слой - это 10-переменный слой потерь (softmax layer), возвращающий массив с 10 оценками вероятностей (в сумме дающих 1). \n",
    "\n",
    "Каждая оценка определяет вероятность принадлежности текущего изображения к одному из 10 классов цифр.\n",
    "\n",
    "Чтобы подготовить сеть к обучению, нужно настроить еще три параметра для этапа *компиляции*:\n",
    "\n",
    "- *функция потерь*, которая определяет, как сеть должна оценивать качество своей работы на обучающих данных и, соответственно, как корректировать ее в правильном направлении;\n",
    "- *оптимизатор* - механизм, с помощью которого сеть будет обновлять себя, опираясь на наблюдаемые данные и функцию потерь.\n",
    "- *метрики для мониторинга на этапах обучения и тестирования* - здесь нас будет интересовать только точность (доля правильно классифицированных изображений)."
   ]
  },
  {
   "cell_type": "code",
   "execution_count": 31,
   "id": "586a7b53-f377-4478-b220-e5221946e3c5",
   "metadata": {},
   "outputs": [],
   "source": [
    "network.compile(optimizer = 'rmsprop', \n",
    "                loss = 'categorical_crossentropy',\n",
    "                metrics=['accuracy']) "
   ]
  },
  {
   "cell_type": "markdown",
   "id": "d6901cca-05ad-49f1-bca5-fcb0631234f7",
   "metadata": {},
   "source": [
    "Выполним предварительную обработку данных."
   ]
  },
  {
   "cell_type": "code",
   "execution_count": 32,
   "id": "cc7989f3-8431-4042-9272-d7e849a3b81f",
   "metadata": {},
   "outputs": [],
   "source": [
    "train_images = train_images.reshape((60000,28 * 28))\n",
    "train_images = train_images.astype('float32') / 255\n",
    "\n",
    "test_images = test_images.reshape((10000,28 * 28))\n",
    "test_images = test_images.astype('float32') / 255"
   ]
  },
  {
   "cell_type": "code",
   "execution_count": 33,
   "id": "69e8e144-8e4f-41e9-8e4f-da1b3b15d458",
   "metadata": {},
   "outputs": [],
   "source": [
    "from keras.utils import to_categorical\n",
    "\n",
    "train_labels = to_categorical(train_labels)\n",
    "test_labels = to_categorical(test_labels)"
   ]
  },
  {
   "cell_type": "markdown",
   "id": "b92cb5d3-278d-47ca-9e68-995365ae0075",
   "metadata": {},
   "source": [
    "Теперь можно начинать обучение, для чего в Keras достаточно вызвать метод fit - он пытается *адаптировать* модель под обучающие данные."
   ]
  },
  {
   "cell_type": "code",
   "execution_count": 34,
   "id": "a14afbb7-7bd1-4171-b332-7dc5e0124bee",
   "metadata": {},
   "outputs": [
    {
     "name": "stdout",
     "output_type": "stream",
     "text": [
      "Epoch 1/5\n"
     ]
    },
    {
     "name": "stderr",
     "output_type": "stream",
     "text": [
      "2024-02-21 09:43:19.943231: W tensorflow/tsl/framework/cpu_allocator_impl.cc:83] Allocation of 188160000 exceeds 10% of free system memory.\n"
     ]
    },
    {
     "name": "stdout",
     "output_type": "stream",
     "text": [
      "469/469 [==============================] - 7s 12ms/step - loss: 0.2673 - accuracy: 0.9232\n",
      "Epoch 2/5\n",
      "469/469 [==============================] - 6s 12ms/step - loss: 0.1080 - accuracy: 0.9686\n",
      "Epoch 3/5\n",
      "469/469 [==============================] - 6s 12ms/step - loss: 0.0709 - accuracy: 0.9789\n",
      "Epoch 4/5\n",
      "469/469 [==============================] - 6s 12ms/step - loss: 0.0513 - accuracy: 0.9849\n",
      "Epoch 5/5\n",
      "469/469 [==============================] - 6s 12ms/step - loss: 0.0380 - accuracy: 0.9889\n"
     ]
    },
    {
     "data": {
      "text/plain": [
       "<keras.src.callbacks.History at 0x7f6d38dbf8e0>"
      ]
     },
     "execution_count": 34,
     "metadata": {},
     "output_type": "execute_result"
    }
   ],
   "source": [
    "network.fit(train_images,train_labels, epochs = 5, batch_size = 128)"
   ]
  },
  {
   "cell_type": "code",
   "execution_count": 38,
   "id": "ad69fc53-5645-4f87-8077-74894ae64b8a",
   "metadata": {},
   "outputs": [
    {
     "name": "stderr",
     "output_type": "stream",
     "text": [
      "2024-02-21 09:47:55.771757: W tensorflow/tsl/framework/cpu_allocator_impl.cc:83] Allocation of 31360000 exceeds 10% of free system memory.\n"
     ]
    },
    {
     "name": "stdout",
     "output_type": "stream",
     "text": [
      "313/313 [==============================] - 2s 4ms/step - loss: 0.0704 - accuracy: 0.9781\n"
     ]
    }
   ],
   "source": [
    "test_loss, test_acc = network.evaluate(test_images, test_labels)"
   ]
  },
  {
   "cell_type": "code",
   "execution_count": 39,
   "id": "03374f82-5533-44ff-b7a4-25fe0a174bd2",
   "metadata": {
    "tags": []
   },
   "outputs": [
    {
     "name": "stdout",
     "output_type": "stream",
     "text": [
      "0.07040389627218246\n",
      "0.9781000018119812\n"
     ]
    }
   ],
   "source": [
    "print(test_loss)\n",
    "print(test_acc)"
   ]
  },
  {
   "cell_type": "code",
   "execution_count": 41,
   "id": "520c8713-fbbf-48c8-a4ad-4cd1d8fa48b4",
   "metadata": {},
   "outputs": [
    {
     "name": "stderr",
     "output_type": "stream",
     "text": [
      "2024-02-21 09:51:10.631287: W tensorflow/tsl/framework/cpu_allocator_impl.cc:83] Allocation of 31360000 exceeds 10% of free system memory.\n"
     ]
    },
    {
     "name": "stdout",
     "output_type": "stream",
     "text": [
      "313/313 [==============================] - 1s 4ms/step\n"
     ]
    }
   ],
   "source": [
    "ynew = network.predict(test_images)"
   ]
  },
  {
   "cell_type": "code",
   "execution_count": 43,
   "id": "bdd8fca5-0a3d-4c6e-8090-d6cf9263c2a4",
   "metadata": {},
   "outputs": [
    {
     "data": {
      "text/plain": [
       "array([2.93029245e-07, 3.97084357e-08, 2.68561489e-05, 8.15597305e-05,\n",
       "       1.12755236e-10, 2.16841727e-07, 1.89025410e-11, 9.99885619e-01,\n",
       "       1.35423193e-07, 5.21740094e-06], dtype=float32)"
      ]
     },
     "execution_count": 43,
     "metadata": {},
     "output_type": "execute_result"
    }
   ],
   "source": [
    "ynew[0]"
   ]
  },
  {
   "cell_type": "code",
   "execution_count": 44,
   "id": "cfb5ad04-4675-4144-abf7-504f0d39364e",
   "metadata": {},
   "outputs": [
    {
     "data": {
      "text/plain": [
       "array([0., 0., 0., 0., 0., 0., 0., 1., 0., 0.], dtype=float32)"
      ]
     },
     "execution_count": 44,
     "metadata": {},
     "output_type": "execute_result"
    }
   ],
   "source": [
    "test_labels[0]"
   ]
  }
 ],
 "metadata": {
  "kernelspec": {
   "display_name": "Python 3 (ipykernel)",
   "language": "python",
   "name": "python3"
  },
  "language_info": {
   "codemirror_mode": {
    "name": "ipython",
    "version": 3
   },
   "file_extension": ".py",
   "mimetype": "text/x-python",
   "name": "python",
   "nbconvert_exporter": "python",
   "pygments_lexer": "ipython3",
   "version": "3.8.10"
  }
 },
 "nbformat": 4,
 "nbformat_minor": 5
}
