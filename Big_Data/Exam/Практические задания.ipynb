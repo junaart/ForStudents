{
 "cells": [
  {
   "cell_type": "markdown",
   "id": "6d40802a-6906-46ed-9000-754d22a7bb6c",
   "metadata": {},
   "source": [
    "## Практические задания к экзамену"
   ]
  },
  {
   "cell_type": "markdown",
   "id": "19ff9ffe-4f76-4f40-a2d5-75f04a751586",
   "metadata": {},
   "source": [
    "1. Развернуть кластерную инфраструктуру Redis, с двумя мастерами и тремя репликами на каждый.\n",
    "2. Развернуть кластерную инфраструктуру MongoDB из 2 узлов по одному мастеру и одной реплике в каждом, с двумя конфигурационными серверами и маршрутизатором.\n",
    "3. На языке Python, прочитав данные из файла data.csv, записать их в виде пар ключ - значение в базу данных dot хранилища Redis.\n",
    "4. На языке Python, прочитав данные из файла data.csv, записать их в виде документа пар ключ - значение коллекции MyCollection в базу данных dot хранилища MongoDB.\n",
    "5. Развернуть кластерную инфраструктуру Redis, с двумя мастерами и одной репликой на каждый. Смоделировать сбой в работе кластера и восстановление после сбоя.\n",
    "6. В linux создать папку Exam, внутри которой еще три папки: First, Second, Third. В папке First запустить Redis. Скопировать содержимое папки First в папку Second. В папке Third создать файл со списком запущенных  "
   ]
  },
  {
   "cell_type": "code",
   "execution_count": null,
   "id": "8fed63c5-cb1d-4ee2-98c5-a1a18fd8fadd",
   "metadata": {},
   "outputs": [],
   "source": []
  }
 ],
 "metadata": {
  "kernelspec": {
   "display_name": "Python 3 (ipykernel)",
   "language": "python",
   "name": "python3"
  },
  "language_info": {
   "codemirror_mode": {
    "name": "ipython",
    "version": 3
   },
   "file_extension": ".py",
   "mimetype": "text/x-python",
   "name": "python",
   "nbconvert_exporter": "python",
   "pygments_lexer": "ipython3",
   "version": "3.8.10"
  }
 },
 "nbformat": 4,
 "nbformat_minor": 5
}
