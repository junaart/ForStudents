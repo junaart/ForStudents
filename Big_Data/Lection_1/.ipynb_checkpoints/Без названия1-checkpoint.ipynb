{
 "cells": [
  {
   "cell_type": "markdown",
   "id": "956ae754-ef6f-423b-9a81-fde68b27e0db",
   "metadata": {},
   "source": [
    "# Семинар 1. Знакомство с Commmon Lisp"
   ]
  },
  {
   "cell_type": "markdown",
   "id": "d15aea71-fca2-4d36-bbcd-0b6df240f3e0",
   "metadata": {},
   "source": [
    "> sudo apt-get install sbcl emacs slime swank-cl"
   ]
  },
  {
   "cell_type": "code",
   "execution_count": 1,
   "id": "77e61f81-1e95-4701-ab25-4720d7b6c04e",
   "metadata": {},
   "outputs": [
    {
     "data": {
      "text/plain": [
       "20"
      ]
     },
     "execution_count": 1,
     "metadata": {},
     "output_type": "execute_result"
    }
   ],
   "source": [
    "(+ 8 7 5)"
   ]
  },
  {
   "cell_type": "code",
   "execution_count": 2,
   "id": "94f880a9-5106-4563-892f-f735a728a74a",
   "metadata": {},
   "outputs": [
    {
     "ename": "UNBOUND-VARIABLE",
     "evalue": "The variable HELLO is unbound.",
     "execution_count": 2,
     "output_type": "error",
     "traceback": []
    },
    {
     "name": "stderr",
     "output_type": "stream",
     "text": [
      "The variable HELLO is unbound."
     ]
    }
   ],
   "source": [
    "hello"
   ]
  },
  {
   "cell_type": "code",
   "execution_count": 3,
   "id": "42d081c6-3bdd-4ea7-a65b-11dcd49bbea5",
   "metadata": {},
   "outputs": [
    {
     "data": {
      "text/plain": [
       "HELLO"
      ]
     },
     "execution_count": 3,
     "metadata": {},
     "output_type": "execute_result"
    }
   ],
   "source": [
    "'hello"
   ]
  },
  {
   "cell_type": "code",
   "execution_count": 4,
   "id": "4d307734-29c3-4fb9-90e3-be394c1a56f7",
   "metadata": {},
   "outputs": [
    {
     "data": {
      "text/plain": [
       "HELLO"
      ]
     },
     "execution_count": 4,
     "metadata": {},
     "output_type": "execute_result"
    }
   ],
   "source": [
    "(quote hello)"
   ]
  },
  {
   "cell_type": "code",
   "execution_count": 5,
   "id": "b61bcb12-6b99-44b0-901e-3a1b8fa95ef2",
   "metadata": {},
   "outputs": [
    {
     "data": {
      "text/plain": [
       "7"
      ]
     },
     "execution_count": 5,
     "metadata": {},
     "output_type": "execute_result"
    }
   ],
   "source": [
    "7"
   ]
  },
  {
   "cell_type": "code",
   "execution_count": 6,
   "id": "3c81c5f8-1fec-4001-bbeb-e33c1be5a7a0",
   "metadata": {},
   "outputs": [
    {
     "ename": "UNBOUND-VARIABLE",
     "evalue": "The variable |887F| is unbound.",
     "execution_count": 6,
     "output_type": "error",
     "traceback": []
    },
    {
     "name": "stderr",
     "output_type": "stream",
     "text": [
      "The variable |887F| is unbound."
     ]
    }
   ],
   "source": [
    "887f"
   ]
  },
  {
   "cell_type": "code",
   "execution_count": 7,
   "id": "26daf2fa-bf08-48f2-aefa-78b7aa73d61c",
   "metadata": {},
   "outputs": [
    {
     "data": {
      "text/plain": [
       "8"
      ]
     },
     "execution_count": 7,
     "metadata": {},
     "output_type": "execute_result"
    },
    {
     "name": "stdout",
     "output_type": "stream",
     "text": [
      "undefined variable: YES\n"
     ]
    }
   ],
   "source": [
    "(setf yes 8)"
   ]
  },
  {
   "cell_type": "code",
   "execution_count": 8,
   "id": "186f9a9e-b40a-4c96-a32a-d94d0501649b",
   "metadata": {},
   "outputs": [
    {
     "data": {
      "text/plain": [
       "8"
      ]
     },
     "execution_count": 8,
     "metadata": {},
     "output_type": "execute_result"
    }
   ],
   "source": [
    "yes"
   ]
  },
  {
   "cell_type": "code",
   "execution_count": 9,
   "id": "6fafcc00-fae5-4d1d-a664-62db0254ae84",
   "metadata": {},
   "outputs": [
    {
     "data": {
      "text/plain": [
       "8"
      ]
     },
     "execution_count": 9,
     "metadata": {},
     "output_type": "execute_result"
    },
    {
     "name": "stdout",
     "output_type": "stream",
     "text": [
      "undefined variable: HELLO\n",
      "undefined variable: YES\n"
     ]
    }
   ],
   "source": [
    "(setf hello yes)"
   ]
  },
  {
   "cell_type": "code",
   "execution_count": 10,
   "id": "a730d12f-1ee5-4075-bcd1-2d06636782f5",
   "metadata": {},
   "outputs": [
    {
     "data": {
      "text/plain": [
       "8"
      ]
     },
     "execution_count": 10,
     "metadata": {},
     "output_type": "execute_result"
    }
   ],
   "source": [
    "hello"
   ]
  },
  {
   "cell_type": "code",
   "execution_count": 11,
   "id": "9bbe9543-8577-47e7-9a4f-d97703efff9d",
   "metadata": {},
   "outputs": [
    {
     "data": {
      "text/plain": [
       "8"
      ]
     },
     "execution_count": 11,
     "metadata": {},
     "output_type": "execute_result"
    }
   ],
   "source": [
    "hello"
   ]
  },
  {
   "cell_type": "code",
   "execution_count": 12,
   "id": "4cd96271-8a91-417d-b4b0-789420681f60",
   "metadata": {},
   "outputs": [
    {
     "ename": "UNDEFINED-FUNCTION",
     "evalue": "The function COMMON-LISP-USER::HELLO is undefined.",
     "execution_count": 12,
     "output_type": "error",
     "traceback": []
    },
    {
     "name": "stdout",
     "output_type": "stream",
     "text": [
      "\n",
      "SIMPLE-STYLE-WARNING: \n",
      "  undefined function: HELLO\n"
     ]
    },
    {
     "name": "stderr",
     "output_type": "stream",
     "text": [
      "The function COMMON-LISP-USER::HELLO is undefined."
     ]
    }
   ],
   "source": [
    "(hello)"
   ]
  },
  {
   "cell_type": "code",
   "execution_count": 13,
   "id": "4cec06cf-43c7-4338-bf23-c40116530b62",
   "metadata": {},
   "outputs": [
    {
     "data": {
      "text/plain": [
       "HELLO"
      ]
     },
     "execution_count": 13,
     "metadata": {},
     "output_type": "execute_result"
    }
   ],
   "source": [
    "(defun Hello ())"
   ]
  },
  {
   "cell_type": "code",
   "execution_count": 14,
   "id": "b557ff09-20e2-49d3-8600-15da08fd8d7e",
   "metadata": {},
   "outputs": [
    {
     "data": {
      "text/plain": [
       "NIL"
      ]
     },
     "execution_count": 14,
     "metadata": {},
     "output_type": "execute_result"
    }
   ],
   "source": [
    "(hello)"
   ]
  },
  {
   "cell_type": "code",
   "execution_count": 15,
   "id": "d9a6cca4-1507-41c8-9a6c-508246442a0e",
   "metadata": {},
   "outputs": [
    {
     "data": {
      "text/plain": [
       "HELLO"
      ]
     },
     "execution_count": 15,
     "metadata": {},
     "output_type": "execute_result"
    },
    {
     "name": "stdout",
     "output_type": "stream",
     "text": [
      "\n",
      "REDEFINITION-WITH-DEFUN: \n",
      "  redefining COMMON-LISP-USER::HELLO in DEFUN\n"
     ]
    }
   ],
   "source": [
    "(defun Hello () 7)"
   ]
  },
  {
   "cell_type": "code",
   "execution_count": 16,
   "id": "40742a86-82ac-498f-ba5a-52c2a75f1e1b",
   "metadata": {},
   "outputs": [
    {
     "data": {
      "text/plain": [
       "7"
      ]
     },
     "execution_count": 16,
     "metadata": {},
     "output_type": "execute_result"
    }
   ],
   "source": [
    "(hello)"
   ]
  },
  {
   "cell_type": "code",
   "execution_count": 17,
   "id": "e0ae151a-d11a-45e4-93c5-a16f1d78691d",
   "metadata": {},
   "outputs": [
    {
     "data": {
      "text/plain": [
       "8"
      ]
     },
     "execution_count": 17,
     "metadata": {},
     "output_type": "execute_result"
    }
   ],
   "source": [
    "hello"
   ]
  },
  {
   "cell_type": "code",
   "execution_count": 18,
   "id": "626e1ecd-3328-4e8a-b9a2-be65978946a2",
   "metadata": {},
   "outputs": [
    {
     "data": {
      "text/plain": [
       "(HELLO)"
      ]
     },
     "execution_count": 18,
     "metadata": {},
     "output_type": "execute_result"
    }
   ],
   "source": [
    "'(hello)"
   ]
  },
  {
   "cell_type": "code",
   "execution_count": 19,
   "id": "328e8026-28a9-4ac3-bba5-78b255c0f023",
   "metadata": {},
   "outputs": [
    {
     "data": {
      "text/plain": [
       "11"
      ]
     },
     "execution_count": 19,
     "metadata": {},
     "output_type": "execute_result"
    }
   ],
   "source": [
    "(+ 5 6)"
   ]
  },
  {
   "cell_type": "code",
   "execution_count": 20,
   "id": "f1bf9c44-4ce8-4e79-817c-239159fc49a4",
   "metadata": {},
   "outputs": [
    {
     "data": {
      "text/plain": [
       "(+ 4 5)"
      ]
     },
     "execution_count": 20,
     "metadata": {},
     "output_type": "execute_result"
    }
   ],
   "source": [
    "'(+ 4 5)"
   ]
  },
  {
   "cell_type": "code",
   "execution_count": 21,
   "id": "b129bb05-e30d-4bf2-8d83-1e2fc5d0bb0a",
   "metadata": {},
   "outputs": [
    {
     "data": {
      "text/plain": [
       "54"
      ]
     },
     "execution_count": 21,
     "metadata": {},
     "output_type": "execute_result"
    }
   ],
   "source": [
    "(+ 4 5 7 8 0 0 8 7 6 5 4)"
   ]
  },
  {
   "cell_type": "code",
   "execution_count": 22,
   "id": "3f3c2f7d-4848-44dd-a644-4f8227dd1b9e",
   "metadata": {},
   "outputs": [
    {
     "data": {
      "text/plain": [
       "6/7"
      ]
     },
     "execution_count": 22,
     "metadata": {},
     "output_type": "execute_result"
    }
   ],
   "source": [
    "(/ 6 7)"
   ]
  },
  {
   "cell_type": "code",
   "execution_count": 23,
   "id": "bb82c623-3dc9-4f11-acd3-90868f3d4b22",
   "metadata": {},
   "outputs": [
    {
     "data": {
      "text/plain": [
       "0.85714287"
      ]
     },
     "execution_count": 23,
     "metadata": {},
     "output_type": "execute_result"
    }
   ],
   "source": [
    "(float (/ 6 7))"
   ]
  },
  {
   "cell_type": "code",
   "execution_count": 24,
   "id": "bc13627c-341b-4f82-8358-fbf3151d28fb",
   "metadata": {},
   "outputs": [
    {
     "data": {
      "text/plain": [
       "#C(0.0 3.0)"
      ]
     },
     "execution_count": 24,
     "metadata": {},
     "output_type": "execute_result"
    }
   ],
   "source": [
    "(sqrt -9)"
   ]
  },
  {
   "cell_type": "markdown",
   "id": "fb3baa8f-068e-49c0-af57-7184ec860724",
   "metadata": {},
   "source": [
    "$$\\frac{2\\cdot(8+9)}{9+5}$$"
   ]
  },
  {
   "cell_type": "code",
   "execution_count": 25,
   "id": "5310619d-4ac2-4284-b4ee-c282563b9aef",
   "metadata": {},
   "outputs": [
    {
     "data": {
      "text/plain": [
       "17/7"
      ]
     },
     "execution_count": 25,
     "metadata": {},
     "output_type": "execute_result"
    }
   ],
   "source": [
    "(/ (* 2 (+ 8 9)) (+ 9 5))"
   ]
  },
  {
   "cell_type": "code",
   "execution_count": 26,
   "id": "815ef260-b6f2-4bd6-b2c8-eed002d513b1",
   "metadata": {},
   "outputs": [
    {
     "data": {
      "text/plain": [
       "177/14"
      ]
     },
     "execution_count": 26,
     "metadata": {},
     "output_type": "execute_result"
    }
   ],
   "source": [
    "(+ 15/2 36/7)"
   ]
  },
  {
   "cell_type": "code",
   "execution_count": 27,
   "id": "e5008ee9-180e-4185-aa79-87457807be3b",
   "metadata": {},
   "outputs": [
    {
     "data": {
      "text/plain": [
       "#C(64/7 7)"
      ]
     },
     "execution_count": 27,
     "metadata": {},
     "output_type": "execute_result"
    }
   ],
   "source": [
    "(+ #C(4 7) 36/7)"
   ]
  },
  {
   "cell_type": "code",
   "execution_count": 28,
   "id": "bf65799a-b404-4c36-94fd-87763f84bb2a",
   "metadata": {},
   "outputs": [
    {
     "data": {
      "text/plain": [
       "NIL"
      ]
     },
     "execution_count": 28,
     "metadata": {},
     "output_type": "execute_result"
    }
   ],
   "source": [
    "()"
   ]
  },
  {
   "cell_type": "code",
   "execution_count": 29,
   "id": "4928438b-1e19-48ac-b641-705ecb831f56",
   "metadata": {},
   "outputs": [
    {
     "data": {
      "text/plain": [
       "T"
      ]
     },
     "execution_count": 29,
     "metadata": {},
     "output_type": "execute_result"
    }
   ],
   "source": [
    "T"
   ]
  },
  {
   "cell_type": "code",
   "execution_count": 30,
   "id": "ef36c04b-08c3-46d4-aa4f-c7a939365369",
   "metadata": {},
   "outputs": [
    {
     "ename": "COMPILED-PROGRAM-ERROR",
     "evalue": "Execution of a form compiled with errors.\nForm:\n  (1 2 3)\nCompile-time error:\n  illegal function call",
     "execution_count": 30,
     "output_type": "error",
     "traceback": []
    },
    {
     "name": "stderr",
     "output_type": "stream",
     "text": [
      "; in: 1 2\n",
      ";     (1 2 3)\n",
      "\n",
      "; \n",
      "; caught ERROR:\n",
      ";   illegal function call\n",
      "; \n",
      "; compilation unit finished\n",
      ";   caught 1 ERROR condition\n",
      "Execution of a form compiled with errors.\n",
      "Form:\n",
      "  (1 2 3)\n",
      "Compile-time error:\n",
      "  illegal function call"
     ]
    }
   ],
   "source": [
    "(1 2 3)"
   ]
  },
  {
   "cell_type": "code",
   "execution_count": 31,
   "id": "9d47107e-0676-4860-b5c4-aab5fc0336c4",
   "metadata": {},
   "outputs": [
    {
     "ename": "COMPILED-PROGRAM-ERROR",
     "evalue": "Execution of a form compiled with errors.\nForm:\n  (SETQ 1 '+)\nCompile-time error:\n  Variable name is not a symbol: 1.",
     "execution_count": 31,
     "output_type": "error",
     "traceback": []
    },
    {
     "name": "stderr",
     "output_type": "stream",
     "text": [
      "; in: SETF 1\n",
      ";     (SETF 1 '+)\n",
      "\n",
      "; ==>\n",
      ";   (SETQ 1 '+)\n",
      "; \n",
      "; caught ERROR:\n",
      ";   Variable name is not a symbol: 1.\n",
      "; \n",
      "; compilation unit finished\n",
      ";   caught 1 ERROR condition\n",
      "Execution of a form compiled with errors.\n",
      "Form:\n",
      "  (SETQ 1 '+)\n",
      "Compile-time error:\n",
      "  Variable name is not a symbol: 1."
     ]
    }
   ],
   "source": [
    "(setf 1 '+)"
   ]
  },
  {
   "cell_type": "code",
   "execution_count": 32,
   "id": "9acce826-293a-408a-b2a4-ed02688f477a",
   "metadata": {},
   "outputs": [
    {
     "data": {
      "text/plain": [
       "+"
      ]
     },
     "execution_count": 32,
     "metadata": {},
     "output_type": "execute_result"
    },
    {
     "name": "stdout",
     "output_type": "stream",
     "text": [
      "undefined variable: G\n"
     ]
    }
   ],
   "source": [
    "(setf g '+)"
   ]
  },
  {
   "cell_type": "code",
   "execution_count": 33,
   "id": "1a428cba-128a-4100-b29e-1156ff72bb4f",
   "metadata": {},
   "outputs": [
    {
     "ename": "UNDEFINED-FUNCTION",
     "evalue": "The function COMMON-LISP-USER::G is undefined.",
     "execution_count": 33,
     "output_type": "error",
     "traceback": []
    },
    {
     "name": "stdout",
     "output_type": "stream",
     "text": [
      "\n",
      "SIMPLE-STYLE-WARNING: \n",
      "  undefined function: G\n"
     ]
    },
    {
     "name": "stderr",
     "output_type": "stream",
     "text": [
      "The function COMMON-LISP-USER::G is undefined."
     ]
    }
   ],
   "source": [
    "(g 1 2)"
   ]
  },
  {
   "cell_type": "code",
   "execution_count": 34,
   "id": "306b4469-1225-4adb-a68a-4ff7a3cd1670",
   "metadata": {},
   "outputs": [
    {
     "data": {
      "text/plain": [
       "1"
      ]
     },
     "execution_count": 34,
     "metadata": {},
     "output_type": "execute_result"
    }
   ],
   "source": [
    "(car '(1 2 3))"
   ]
  },
  {
   "cell_type": "code",
   "execution_count": 35,
   "id": "1816483a-0219-49b0-b042-9b6edc26951c",
   "metadata": {},
   "outputs": [
    {
     "data": {
      "text/plain": [
       "(2 3)"
      ]
     },
     "execution_count": 35,
     "metadata": {},
     "output_type": "execute_result"
    }
   ],
   "source": [
    "(cdr '(1 2 3))"
   ]
  },
  {
   "cell_type": "code",
   "execution_count": 36,
   "id": "f09586db-2a44-49dd-a151-8c9836a3cbbd",
   "metadata": {},
   "outputs": [
    {
     "data": {
      "text/plain": [
       "2"
      ]
     },
     "execution_count": 36,
     "metadata": {},
     "output_type": "execute_result"
    }
   ],
   "source": [
    "(car (cdr '(1 2 3)))"
   ]
  },
  {
   "cell_type": "code",
   "execution_count": 37,
   "id": "a2a3e519-ec1c-4580-9905-652496f0e696",
   "metadata": {},
   "outputs": [
    {
     "data": {
      "text/plain": [
       "2"
      ]
     },
     "execution_count": 37,
     "metadata": {},
     "output_type": "execute_result"
    }
   ],
   "source": [
    "(cadr '(1 2 3))"
   ]
  },
  {
   "cell_type": "code",
   "execution_count": 40,
   "id": "32637bd3-b3b2-483b-bb6c-1a316aca3810",
   "metadata": {},
   "outputs": [
    {
     "data": {
      "text/plain": [
       "3"
      ]
     },
     "execution_count": 40,
     "metadata": {},
     "output_type": "execute_result"
    }
   ],
   "source": [
    "(caddr '(1 2 3))"
   ]
  },
  {
   "cell_type": "code",
   "execution_count": 41,
   "id": "05076905-2e88-4683-8f4e-b634f3862325",
   "metadata": {},
   "outputs": [
    {
     "ename": "TYPE-ERROR",
     "evalue": "The value\n  1\nis not of type\n  LIST",
     "execution_count": 41,
     "output_type": "error",
     "traceback": []
    },
    {
     "name": "stderr",
     "output_type": "stream",
     "text": [
      "The value\n",
      "  1\n",
      "is not of type\n",
      "  LIST"
     ]
    }
   ],
   "source": [
    "(cdar'(1 2 3 ))"
   ]
  },
  {
   "cell_type": "code",
   "execution_count": 42,
   "id": "bfe92b10-29bb-4518-a8ac-45276f0ba2ea",
   "metadata": {},
   "outputs": [
    {
     "data": {
      "text/plain": [
       "(5 6)"
      ]
     },
     "execution_count": 42,
     "metadata": {},
     "output_type": "execute_result"
    }
   ],
   "source": [
    "(cdar'((4 5 6) 2 3 ))"
   ]
  },
  {
   "cell_type": "code",
   "execution_count": null,
   "id": "6445aaba-8851-4d1c-a7c3-b24ce287f886",
   "metadata": {},
   "outputs": [],
   "source": []
  }
 ],
 "metadata": {
  "kernelspec": {
   "display_name": "Common Lisp",
   "language": "common-lisp",
   "name": "common-lisp"
  },
  "language_info": {
   "codemirror_mode": "text/x-common-lisp",
   "file_extension": ".lisp",
   "mimetype": "text/x-common-lisp",
   "name": "common-lisp",
   "pygments_lexer": "common-lisp",
   "version": "1.4.5.debian"
  }
 },
 "nbformat": 4,
 "nbformat_minor": 5
}
