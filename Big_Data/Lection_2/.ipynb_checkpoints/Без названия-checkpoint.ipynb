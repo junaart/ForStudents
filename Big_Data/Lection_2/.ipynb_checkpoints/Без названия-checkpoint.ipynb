{
 "cells": [
  {
   "cell_type": "code",
   "execution_count": 2,
   "id": "9af58d5e-ed5e-433b-b105-4e68215ef7d8",
   "metadata": {},
   "outputs": [],
   "source": [
    "import pymysql"
   ]
  },
  {
   "cell_type": "code",
   "execution_count": 3,
   "id": "f6b0bcbe-2968-43d2-98b4-8b5486b33e95",
   "metadata": {},
   "outputs": [],
   "source": [
    "connection = pymysql.connect(\n",
    "    host='localhost',\n",
    "    user='root',\n",
    "    password='xxx',\n",
    "    charset='utf8',\n",
    ")"
   ]
  },
  {
   "cell_type": "code",
   "execution_count": 4,
   "id": "40ae499b-57b0-44ff-944c-0e9ee474e9cd",
   "metadata": {},
   "outputs": [
    {
     "data": {
      "text/plain": [
       "<pymysql.connections.Connection at 0x7feb782c1d60>"
      ]
     },
     "execution_count": 4,
     "metadata": {},
     "output_type": "execute_result"
    }
   ],
   "source": [
    "connection"
   ]
  },
  {
   "cell_type": "code",
   "execution_count": 5,
   "id": "e66ae0e7-b3b0-40e1-9b9f-b0a2a94007f0",
   "metadata": {},
   "outputs": [
    {
     "data": {
      "text/plain": [
       "0"
      ]
     },
     "execution_count": 5,
     "metadata": {},
     "output_type": "execute_result"
    }
   ],
   "source": [
    "connection.query(\"use monitor_vuz;\")"
   ]
  },
  {
   "cell_type": "code",
   "execution_count": 6,
   "id": "5b908c92-71e9-4c52-af3c-a90852895272",
   "metadata": {},
   "outputs": [
    {
     "data": {
      "text/plain": [
       "12"
      ]
     },
     "execution_count": 6,
     "metadata": {},
     "output_type": "execute_result"
    }
   ],
   "source": [
    "cursor = connection.cursor()\n",
    "cursor.execute(\"show tables\")"
   ]
  },
  {
   "cell_type": "code",
   "execution_count": 7,
   "id": "01cc8e7d-f48f-4ad2-a719-46199beae2ab",
   "metadata": {},
   "outputs": [],
   "source": [
    "table=cursor.fetchall()"
   ]
  },
  {
   "cell_type": "code",
   "execution_count": 8,
   "id": "6fec167b-2398-48b4-b798-d7e6060210db",
   "metadata": {},
   "outputs": [
    {
     "data": {
      "text/plain": [
       "(('department',),\n",
       " ('effect',),\n",
       " ('form_org',),\n",
       " ('founder',),\n",
       " ('indicators',),\n",
       " ('okrug',),\n",
       " ('region',),\n",
       " ('stage',),\n",
       " ('type_org',),\n",
       " ('ugs',),\n",
       " ('ugs_vuz',),\n",
       " ('vuz',))"
      ]
     },
     "execution_count": 8,
     "metadata": {},
     "output_type": "execute_result"
    }
   ],
   "source": [
    "table"
   ]
  },
  {
   "cell_type": "code",
   "execution_count": 9,
   "id": "a629bf38-1900-4b2a-99b8-45b9487b2dea",
   "metadata": {},
   "outputs": [
    {
     "data": {
      "text/plain": [
       "'department'"
      ]
     },
     "execution_count": 9,
     "metadata": {},
     "output_type": "execute_result"
    }
   ],
   "source": [
    "table[0][0]"
   ]
  },
  {
   "cell_type": "code",
   "execution_count": 10,
   "id": "4efbe620-599d-4551-a541-f58cc1b0b75d",
   "metadata": {},
   "outputs": [
    {
     "data": {
      "text/plain": [
       "28"
      ]
     },
     "execution_count": 10,
     "metadata": {},
     "output_type": "execute_result"
    }
   ],
   "source": [
    "cursor.execute(\"select * from \"+table[0][0])"
   ]
  },
  {
   "cell_type": "code",
   "execution_count": 11,
   "id": "0f682f49-ffea-40f2-93b7-ad096d133e99",
   "metadata": {},
   "outputs": [
    {
     "data": {
      "text/plain": [
       "((1, 'Федеральное агентство железнодорожного транспорта '),\n",
       " (2, 'Федеральное агентство морского и речного транспорта '),\n",
       " (3, 'Негосударственное учреждение '),\n",
       " (4,\n",
       "  'Министерство здравоохранения и социального развития Российской  Федерации '),\n",
       " (5, 'Министерство сельского хозяйства Российской Федерации '),\n",
       " (6, 'Министерство образования и науки Российской Федерации '),\n",
       " (7, 'Правительство Российской Федерации '),\n",
       " (8, 'Министерство экономического развития Российской Федерации '),\n",
       " (9, 'Федеральное агентство по рыболовству '),\n",
       " (10, 'Федеральная таможенная служба '),\n",
       " (11,\n",
       "  'Министерство Российской Федерации по делам гражданской обороны,  чрезвычайным ситуациям и ликвидации последствий стихийных бедствий '),\n",
       " (12, 'Министерство культуры Российской Федерации '),\n",
       " (13, 'Муниципалитеты и субъекты РФ '),\n",
       " (14,\n",
       "  'Министерство спорта, туризма и молодежной политики Российской  Федерации '),\n",
       " (15, 'Федеральное агентство связи '),\n",
       " (16, 'Министерство юстиции Российской Федерации '),\n",
       " (17,\n",
       "  'Верховный суд Российской Федерации, Высший  арбитражный суд Российской Федерации '),\n",
       " (18,\n",
       "  'Верховный суд Российской Федерации, Высший арбитражный суд Российской  Федерации '),\n",
       " (19, 'Российская академия художеств '),\n",
       " (20, 'Образовательные организации духовной направленности '),\n",
       " (21, 'Федеральное агентство воздушного транспорта '),\n",
       " (22, 'Российская академия наук '),\n",
       " (23, 'Министерство сельского хозяйства Российской  Федерации '),\n",
       " (24, 'Министерство образования и науки Российской  Федерации '),\n",
       " (25,\n",
       "  'Министерство Российской Федерации по делам  гражданской обороны, чрезвычайным ситуациям и ликвидации последствий  стихийных бедствий '),\n",
       " (26,\n",
       "  'Министерство здравоохранения и социального развития  Российской Федерации '),\n",
       " (27,\n",
       "  'Федеральная служба по интеллектуальной собственности, патентам и  товарным знакам '),\n",
       " (28, 'Министерство иностранных дел Российской Федерации '))"
      ]
     },
     "execution_count": 11,
     "metadata": {},
     "output_type": "execute_result"
    }
   ],
   "source": [
    "table1=cursor.fetchall()\n",
    "table1"
   ]
  },
  {
   "cell_type": "code",
   "execution_count": 12,
   "id": "6261e08c-ea7c-4964-b139-f58ae462e8d1",
   "metadata": {},
   "outputs": [],
   "source": [
    "import redis\n",
    "import uuid\n",
    "r=redis.Redis()"
   ]
  },
  {
   "cell_type": "code",
   "execution_count": 14,
   "id": "9505a809-dea7-4a73-8ec9-902a581c659b",
   "metadata": {},
   "outputs": [
    {
     "data": {
      "text/plain": [
       "1"
      ]
     },
     "execution_count": 14,
     "metadata": {},
     "output_type": "execute_result"
    }
   ],
   "source": [
    "r.lpush('j',table1[0][0])"
   ]
  },
  {
   "cell_type": "code",
   "execution_count": 15,
   "id": "4a190467-bc4e-4b40-899c-f07c00fb6506",
   "metadata": {},
   "outputs": [
    {
     "data": {
      "text/plain": [
       "1"
      ]
     },
     "execution_count": 15,
     "metadata": {},
     "output_type": "execute_result"
    }
   ],
   "source": [
    "table1[0][0]"
   ]
  },
  {
   "cell_type": "code",
   "execution_count": 18,
   "id": "5765e51e-12d1-47b3-ba88-915451fe681b",
   "metadata": {},
   "outputs": [
    {
     "data": {
      "text/plain": [
       "1"
      ]
     },
     "execution_count": 18,
     "metadata": {},
     "output_type": "execute_result"
    }
   ],
   "source": [
    "r.lpush('h',str(table1[0]))"
   ]
  },
  {
   "cell_type": "code",
   "execution_count": 17,
   "id": "73be52dd-5a3c-4979-bd17-d220f7aeddab",
   "metadata": {},
   "outputs": [
    {
     "data": {
      "text/plain": [
       "'(77, 6)'"
      ]
     },
     "execution_count": 17,
     "metadata": {},
     "output_type": "execute_result"
    }
   ],
   "source": [
    "str((77,6))"
   ]
  },
  {
   "cell_type": "code",
   "execution_count": null,
   "id": "162af621-53cd-42c4-bc5a-f5ce0154d155",
   "metadata": {},
   "outputs": [],
   "source": []
  }
 ],
 "metadata": {
  "kernelspec": {
   "display_name": "Python 3 (ipykernel)",
   "language": "python",
   "name": "python3"
  },
  "language_info": {
   "codemirror_mode": {
    "name": "ipython",
    "version": 3
   },
   "file_extension": ".py",
   "mimetype": "text/x-python",
   "name": "python",
   "nbconvert_exporter": "python",
   "pygments_lexer": "ipython3",
   "version": "3.8.10"
  }
 },
 "nbformat": 4,
 "nbformat_minor": 5
}
