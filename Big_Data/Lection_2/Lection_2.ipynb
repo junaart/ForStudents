{
 "cells": [
  {
   "cell_type": "markdown",
   "id": "6703f4d8-0178-41c4-83cc-c43b78daf62e",
   "metadata": {},
   "source": [
    "# Лекция 2. Организация хранилищ \"ключ-значение\" на примере Redis"
   ]
  },
  {
   "cell_type": "markdown",
   "id": "38744721-bcce-4ae0-8331-28302ea22745",
   "metadata": {},
   "source": [
    "- Общая справка по Redis\n",
    "- Установка, конфигурирование Redis\n",
    "- Основные команды и типы данных\n",
    "- Настройка взаимодействия с Redis через Python"
   ]
  },
  {
   "cell_type": "markdown",
   "id": "7e585fb6-4c44-4113-bfd0-1add8e07510a",
   "metadata": {
    "tags": []
   },
   "source": [
    "## Общая справка по Redis"
   ]
  },
  {
   "cell_type": "markdown",
   "id": "391585f0-8ce6-4635-92dd-5da9fc473189",
   "metadata": {},
   "source": [
    "В данной лекции мы рассмотрим установку, настройку и использование хранилища ключ-значение **Redis**."
   ]
  },
  {
   "cell_type": "markdown",
   "id": "f68dbe6e-6f94-4988-8563-d26356937437",
   "metadata": {},
   "source": [
    "**Redis** - Remote Dictionary Server – это быстрое хранилище данных типа «ключ‑значение», которое хранит значения непосредственно в оперативной памяти и периодически сохраняет его на диск. Данное хранилище часто используется для организации быстрого доступа к данным и по сути относится к классу AP систем. Весь программный код данного хранилища написан на C и является открытым.\n",
    "\n",
    "Официальный сайт всего проекта: \n",
    "\n",
    "https://redis.io/.\n",
    "\n",
    "https://github.com/redis/redis\n",
    "\n",
    "<img src=\"logo.png\">\n",
    "\n",
    "Проект был первоначально разработан  Сальватором Санфилиппо.\n",
    "\n",
    "<img src=\"filipo.jpeg\">\n",
    "\n",
    "«Когда я начал проект Redis более десяти лет назад, это был один из самых захватывающих моментов моей карьеры, — пишет Сальваторе. — Мой соучредитель и я успешно запустили два основных сервиса web 2.0 в итальянской сети. Чтобы сделать их масштабируемыми, нам пришлось изобрести много новых концепций, которые в большинстве случаев уже были известны в этой области, но мы не знали, да и не хотели проверять. Проблема? Давайте найдем решение. Мы хотели решать проблемы, но ещё больше — получать удовольствие. Это была игровая среда, в которой родился Redis»\n",
    "\n",
    "\n",
    "Redis обеспечивает время отклика на уровне долей миллисекунды и позволяет приложениям, работающим в режиме реального времени, выполнять миллионы запросов в секунду. Такие приложения востребованы в сферах игр, рекламных технологий, финансовых сервисов, здравоохранения. \n",
    "\n",
    "Redis предоставляет следующие преимущества:\n",
    "\n",
    "- Производительность: поскольку все данные Redis хранятся в памяти - это обеспечивает низкую задержку и высокую пропускную способность доступа к данным. В отличие от традиционных баз данных, хранилища данных в памяти не требуют перемещения на диск, что сокращает задержку до микросекунд. Благодаря этому хранилища данных в памяти могут многократно увеличивать количество выполняемых операций и сокращать время отклика. В результате обеспечивается чрезвычайно высокая производительность. Операции чтения и записи в среднем занимают менее миллисекунды, скорость работы достигает миллионов операций в секунду.\n",
    "\n",
    "- Гибкие структуры данных - в отличие от других хранилищ на основе пар «ключ – значение», которые поддерживают ограниченный набор структур данных, Redis поддерживает огромное разнообразие структур данных, позволяющее удовлетворить потребности разнообразных приложений. Типы данных Redis включают:\n",
    " 1. строки – текстовые или двоичные данные размером до 512 МБ;\n",
    " 2. списки – коллекции строк, упорядоченные в порядке добавления;\n",
    " 3. множества – неупорядоченные коллекции строк с возможностью пересечения, объединения и сравнения с другими типами множеств;\n",
    " 4. сортированные множества – множества, упорядоченные по значению;\n",
    " 5. хэш‑таблицы – структуры данных для хранения списков полей и значений;\n",
    " 6. битовые массивы – тип данных, который дает возможность выполнять операции на уровне битов;\n",
    " 7. структуры HyperLogLog – вероятностные структуры данных, служащие для оценки количества уникальных элементов в наборе данных;\n",
    " 8. потоки – очереди сообщений со структурой журналов данных;\n",
    " 9. пространственные данные – записи карт на основе долготы/широты, «поблизости».\n",
    "\n",
    "- Репликация и постоянное хранение:  в redis применяется архитектура узлов «ведущий‑подчиненный» и поддерживается асинхронная репликация, при которой данные могут копироваться на несколько подчиненных серверов. Это обеспечивает как улучшенные характеристики чтения (так как запросы могут быть распределены между серверами), так и ускоренное восстановление в случае сбоя основного сервера. Для обеспечения постоянного хранения Redis поддерживает снимки состояния на момент времени (копирование наборов данных Redis на диск).\n"
   ]
  },
  {
   "cell_type": "markdown",
   "id": "0445a0ef-ce60-45b3-ad93-0e9a1b3af90c",
   "metadata": {
    "tags": []
   },
   "source": [
    "## Установка, конфигурирование"
   ]
  },
  {
   "cell_type": "markdown",
   "id": "87f2a2a0-48db-4392-8e22-55e3540fd7e1",
   "metadata": {},
   "source": [
    "Для установки Redis в системах GNU/Linux следует скачать архив с официального репозитория https://download.redis.io/releases/redis-6.2.6.tar.gz\n",
    "\n"
   ]
  },
  {
   "cell_type": "markdown",
   "id": "8eb395bf-4028-4599-97cc-c399a583ce07",
   "metadata": {},
   "source": [
    "Далее его нужно разархивировать в каталог /usr/local/lib/. Затем, зайдя в каталог redis, нужно выполнить две команды:\n",
    "    \n",
    "> make\n",
    "\n",
    "> make install\n"
   ]
  },
  {
   "cell_type": "markdown",
   "id": "6f739747-7782-47cf-bc71-b685d5497ce2",
   "metadata": {},
   "source": [
    "В результате будет выполнена компиляция всех модулей на языке C, создание всех требуемых исполняемых файлов. Подробный алгоритм установки можно получить из файла Read.me каталога Redis.\n",
    "\n",
    "После успешной установки становятся доступны две команды: redis-server, которая запускает сервер, а также redis-cli, которая является клиентом взаимодействия c сервером.\n",
    "\n",
    "В принципе можно выполнить все эти команды и вне системного каталога /usr/local/lib, но тогда последнюю команду make install выполнять не нужно, и все исполняемые файлы нужно искать в каталоге src каталога redis."
   ]
  },
  {
   "cell_type": "markdown",
   "id": "491ad2db-d0c0-462d-bb6c-6578837ff1a7",
   "metadata": {},
   "source": [
    "После установки в принципе Redis готов к использованию, нужно лишь запустить сервер:\n",
    "\n",
    ">redis-server"
   ]
  },
  {
   "cell_type": "markdown",
   "id": "75e0b140-6c48-4359-9acb-b9a99d50ccf3",
   "metadata": {},
   "source": [
    "Однако можно провести и более тонкое конфигурирование. Пример конфигурационного файла представлен в redis.conf, который находится в корне каталога redis. Чтобы запустить сервер с определенными настройками не по умолчанию, нужно выполнить команду:\n",
    "\n",
    "> redis-server (путь к файлу конфигурации/имя файла конфигурации)\n",
    "\n",
    "Например:\n",
    "\n",
    ">redis-server /etc/redis/redis.conf\n",
    "\n",
    "Рассмотрим некоторые элементы конфигурирования:\n",
    "\n",
    "\n",
    "\n",
    "\n",
    "    "
   ]
  },
  {
   "cell_type": "markdown",
   "id": "db959b35-41ed-4d9c-a636-32b5d61efcc6",
   "metadata": {},
   "source": [
    "**bind** - По умолчанию, если директива конфигурации «bind» не указана, Redis прослушивает все сетевые интерфейсы на хост-компьютере. Можно прослушивать только один или несколько выбранных интерфейсов, используя директиву конфигурации «bind», за которой следует один или несколько IP-адресов. Например,\n",
    "> bind 127.0.0.1"
   ]
  },
  {
   "cell_type": "markdown",
   "id": "50ea8c4d-43aa-4a98-83fa-293bdfb24dd7",
   "metadata": {},
   "source": [
    "**port** чтобы сервер слушал определенный порт, по умолчанию используется порт 6379. Например,\n",
    "> port 6379\n",
    "\n"
   ]
  },
  {
   "cell_type": "markdown",
   "id": "0048ac1f-2a53-43c2-895a-9c9f1b34f11c",
   "metadata": {},
   "source": [
    "**save <seconds> <changes>** - позволяет настроить сохранение данных из памяти на диск, если прошло заданное количество секунд или заданное количество записей.\n",
    "\n",
    "Например,\n",
    "> save 60 1\n"
   ]
  },
  {
   "cell_type": "markdown",
   "id": "112fc231-8b30-4ea8-b454-4951e337bbdf",
   "metadata": {},
   "source": [
    "**daemonize** - для того, чтобы запустить redis в режиме демона, нужно у данного параметра указать yes.\n",
    "По умолчанию redis не запускается в режиме демона. Например, \n",
    "> daemonize yes\n"
   ]
  },
  {
   "cell_type": "markdown",
   "id": "bcf156ae-53e3-4b7a-9a39-841966b2a16a",
   "metadata": {},
   "source": [
    "**dbfilename** - позволяет настроить имя файла, в который сохраняются данные на диск. Например, \n",
    "\n",
    "> dbfilename dump.rdb"
   ]
  },
  {
   "cell_type": "markdown",
   "id": "58c40a94-52a0-4bc6-b9dc-d45b73ab55f1",
   "metadata": {},
   "source": [
    "**dir** указывает местоположения сохраненных данных на диске. Например,\n",
    "> dir ./\n"
   ]
  },
  {
   "cell_type": "markdown",
   "id": "41f5dc90-0053-4527-a0e2-ce7b9a0c419c",
   "metadata": {},
   "source": [
    "**rdbcompression** - задает режим компрессии строк при сохранении, по умолчанию этот режим включен, поскольку почти всегда дает выигрыш.\n",
    "> rdbcompression yes\n"
   ]
  },
  {
   "cell_type": "markdown",
   "id": "d30dcd2e-26fc-462a-a78b-0bdc8f20a3eb",
   "metadata": {
    "tags": []
   },
   "source": [
    "## Основные команды и типы данных"
   ]
  },
  {
   "cell_type": "markdown",
   "id": "267bfeee-9283-4b31-b0a5-33ac170b5009",
   "metadata": {},
   "source": [
    "Чтобы запустить сервер redis на определенном порту нужно использовать:\n",
    ">redis-server --port 6379\n",
    "\n",
    "Чтобы остановить сервер на этом порту, можно использовать:\n",
    ">redis-cli -p 6379 shutdown"
   ]
  },
  {
   "cell_type": "markdown",
   "id": "69d127cf-98e6-4dc0-afd5-72bfa8b2d45d",
   "metadata": {},
   "source": [
    "Redis хранит в себе пары ключ-значение. Ключом должен быть строковый литерал, но в качестве значения можно использовать один из шести доступных типов."
   ]
  },
  {
   "cell_type": "markdown",
   "id": "99be0f23-d253-4403-ad79-47e13762bf1d",
   "metadata": {},
   "source": [
    "Ключ — всегда строка. Тем не менее есть несколько важных моментов и рекомендаций, которые нужно знать при работе с ключами:\n",
    "\n",
    "Не следует использовать очень длинные ключи. Чем ключ длиннее, тем дольше производится поиск по нему.  В имени ключа целесообразно использовать читаемые имена, чтобы можно было понять, какую сущность хранит этот ключ.\n",
    "\n",
    "Можно разделять сущности в названии двоеточиями, а названия из нескольких слов – дефисами или точками. \n",
    "\n",
    "Пример: users:1000:best-friends.\n",
    "\n",
    "На ключ есть ограничение по размеру: 512 Mb.\n"
   ]
  },
  {
   "cell_type": "markdown",
   "id": "e9d942b5-8c02-41d3-a946-18d90227c324",
   "metadata": {},
   "source": [
    "***Строки***"
   ]
  },
  {
   "cell_type": "markdown",
   "id": "c0a093c3-825e-4d54-86bc-df0af7892c75",
   "metadata": {},
   "source": [
    "В качестве строк может использоваться все, что угодно -  числа, JSON, байты изображения или что-нибудь еще. Тем не менее набор операций для работы с этим типом данных ограничен, поэтому, например, извлечь нужное значение из JSON вам не удастся.\n",
    "\n",
    "Чтобы добавить в хранилище новое строковое значение, нужно использовать команду set.\n",
    "> set key value"
   ]
  },
  {
   "cell_type": "markdown",
   "id": "dc5913ec-bfee-44c1-859f-d2dd088c7396",
   "metadata": {},
   "source": [
    "Чтобы получить значение по заданному ключу, нужно использовать команду get\n",
    "> get key\n",
    "\n",
    "set обновит значение, если такой ключ существует, причем вне зависимости от того, значение какого типа хранилось до этого. \n",
    "\n",
    "Это поведение можно изменить, используя опции:\n",
    "\n",
    "nx — создать только, если такого ключа нет, \n",
    "\n",
    "xx — создать (обновить) только, если ключ существует.\n",
    "\n",
    "Если в качестве строки используется число, то можно использовать команды incr, decr и incrby, decrby. Первая пара увеличивает и уменьшает число на единицу, вторая делает это на заданное число.\n",
    "\n",
    "> incr key\n",
    "\n",
    "> incrby key 10\n",
    "\n",
    "Если строка не является числом, то операция вернет ошибку."
   ]
  },
  {
   "cell_type": "markdown",
   "id": "b410e5e4-0064-4a01-917b-41e07d9e29d7",
   "metadata": {},
   "source": [
    "***Списки***"
   ]
  },
  {
   "cell_type": "markdown",
   "id": "1857af00-6ed3-4342-acec-49c3a268d7a5",
   "metadata": {},
   "source": [
    "Список в Redis реализован как связанный список, в отличие от многих других реализаций, использующих массив. В связи с этим, со списками быстро работают команды добавления элементов в начало или конец и извлечения последовательных элементов. Если есть необходимость в доступе к элементам из середины большой коллекции, то лучше использовать упорядоченные множества.\n",
    "\n",
    "С помощью команд lpush и rpush элементы добавляются в начало и конец списка. Если ключ не существует, то сначала создается пустой список с таким ключом, а затем в него добавляется элемент. Такое поведение предусмотрено для всех видов коллекций.\n",
    "\n",
    ">lpush key 1 2 3\n",
    "\n",
    ">rpush key 77 \n",
    "\n",
    "Чтобы извлечь значение по индексу используется команда lrange:\n",
    "\n",
    "> lrange key start end\n",
    "\n",
    "Где start, end указывают начальный и конечный индексы. Например, чтобы получить все элементы списка, можно использовать:\n",
    "\n",
    "> lrange key 0 -1\n",
    "\n",
    "Чтобы извлечь, при этом удалив элемент, используются команды lpop и rpop. При удалении последнего элемента из коллекции список также удаляется. Если после этого использовать команду llen, которая возвращает длину списка, то она вернет такое значение, как если бы коллекция была пустой.\n",
    "\n",
    ">lpop key\n",
    "\n",
    ">rpop key\n",
    "\n",
    ">llen key\n",
    "\n",
    "Команда ltrim —  принимает аргументы, так же как и lrange, но не возвращает, а обрезает список. \n",
    "\n",
    "> ltrim key 0 2\n",
    "\n",
    "Полный перечень команд можно посмотреть по адресу https://redis.io/commands#list"
   ]
  },
  {
   "cell_type": "markdown",
   "id": "f14c9ab1-3236-4f7e-a958-0ab81045a163",
   "metadata": {},
   "source": [
    "***Хэши***\n",
    "\n",
    "С помощью хешей можно хранить объекты в виде наборов пар ключ-значение. \n",
    "\n",
    "В роли ключей могут использоваться только строковые значения. Для добавления элементов в хеш используйте команду hmset вместе с набором пар.\n",
    "> hmset key a 10 b 20\n",
    "\n",
    "Получение значения по ключу осуществляется с помощью команды hget\n",
    "\n",
    ">hget key a\n",
    "\n",
    "\n",
    "Получить все пары можно командой hgetall\n",
    "> hgetall key\n",
    "\n",
    "Полный перечень команд можно посмотреть по адресу https://redis.io/commands#hash"
   ]
  },
  {
   "cell_type": "markdown",
   "id": "0e3c4db5-aa74-40c9-92cb-382782763192",
   "metadata": {},
   "source": [
    "***Множества***\n",
    "\n",
    "Множества в Redis — неупорядоченные наборы строк. Они поддерживают стандартные операции между множествами, такие как пересечение, объединение, разность и другие. Для добавления элементов в множество используется  команда sadd.\n",
    "\n",
    "> sadd a 1 2 3\n",
    "\n",
    "> saad b 2 3 4 5 6\n",
    "\n",
    "\n",
    "Некоторые операции над множествами:\n",
    "\n",
    "Получает все элементы множества:\n",
    "> smembers a\n",
    "\n",
    "Объединение множеств:\n",
    "\n",
    "> sunion store a b\n",
    "\n",
    "Возвращает число элементов в множестве:\n",
    "\n",
    "> scard a\n",
    "\n",
    "Определяет, содержится ли элемент в множестве:\n",
    "\n",
    "> sismember a 2\n",
    "\n",
    "Полный перечень команд можно посмотреть по адресу https://redis.io/commands#set\n"
   ]
  },
  {
   "cell_type": "markdown",
   "id": "f8941893-a0b9-45bf-bb58-8ad841b31ff9",
   "metadata": {},
   "source": [
    "***Упорядоченные множества***\n",
    "\n",
    "Упорядоченные множества — это соединение обычных множеств и списков.  Они содержат только уникальные значения, но каждому значению соответствуют число (score), задающего порядок. \n",
    "\n",
    "A > B, если A.score > B.score\n",
    "\n",
    "если A.score = B.score, то A и B упорядочиваются в соответствии с лексикографическим порядком значений. \n",
    "\n",
    "Равенство двух различных элементов в упорядоченном множестве невозможно.\n",
    "\n",
    "Чтобы добавить новые элементы можно использовать команду zadd, а для получения всех элементов в порядке возрастания — zrange:\n",
    "\n",
    "> zadd authors 1902 Tolkien\n",
    "> zrange authors 0 -1\n",
    "\n",
    "Если нужен обратный порядок для элементов упорядоченного множества, то есть команда zrevrange:\n",
    "\n",
    "> zrevrange authors 0 -1\n",
    "\n",
    "Остальные команды можно посмотреть по ссылке https://redis.io/commands#sorted-set"
   ]
  },
  {
   "cell_type": "markdown",
   "id": "00de5c40-ed68-487f-b123-ece5922cb5db",
   "metadata": {},
   "source": [
    "***Общие команды***"
   ]
  },
  {
   "cell_type": "markdown",
   "id": "62d93cfa-6934-4e0e-aab8-bdd5e610be90",
   "metadata": {},
   "source": [
    "В Redis есть набор команд, которые можно применять к любому типу данных:\n",
    "\n",
    "> exists — возвращает 1, если ключ существует и 0, если нет.\n",
    "\n",
    "> del - удаляет ключ.\n",
    "\n",
    "> type - возвращает тип значения по ключу.\n",
    "\n",
    "> expire - удаляет ключ по прошествии указанного времени.\n",
    "\n",
    ">ttl - возвращает число: сколько времени осталось ключу до удаления.\n",
    "\n",
    "Вы можете объединить SET и EXPIRE, используя команду SETEX.\n",
    "\n",
    "> SETEX key 10 value\n",
    "\n",
    "В этом примере ключ - «key», значение - «value», а время жизни (TTL) - 10. Этот ключ будет сброшен через 10 секунд.\n",
    "\n",
    "Чтобы получить список всех ключей, нужно использовать команду:\n",
    "\n",
    "> keys *\n",
    "\n",
    "Чтобы получить тип ключа, можно использовать команду:\n",
    "\n",
    "> type key\n",
    "\n",
    "Redis может поддерживать одновременную работу с несколькими базами данных. По умолчанию максимальное количество равно 16.\n",
    "\n",
    "Для того, чтобы подключиться к нужно базе с помощью redis-cli, нужно использовать флаг -n number:\n",
    "\n",
    "> redis-cli -n 5\n",
    "\n",
    "Так подключаемся к базе данных под номером 5.\n",
    "\n",
    "> FLUSHDB - очищает все ключи текущей базы \n",
    "\n",
    "> FLUSHALL очищает все существующие базы данных\n",
    " \n",
    "С полным перечнем команд Redis можно ознакомиться на официальном сайте https://redis.io/commands#"
   ]
  },
  {
   "cell_type": "markdown",
   "id": "59a80355-1ccf-40c7-9b07-f4ef3966eade",
   "metadata": {
    "tags": []
   },
   "source": [
    "## Настройка взаимодействия с Redis через Python"
   ]
  },
  {
   "cell_type": "markdown",
   "id": "0d540b0f-4d6f-4a57-be2f-24800ca5fbfe",
   "metadata": {},
   "source": [
    "Для настройки взаимодействия с redis через Python  можно использовать библиотеку redis\n",
    "\n",
    "> pip3 install redis"
   ]
  },
  {
   "cell_type": "code",
   "execution_count": 35,
   "id": "4fcda6ef-39ea-40f8-8611-baa0ecb815b2",
   "metadata": {},
   "outputs": [],
   "source": [
    "import redis"
   ]
  },
  {
   "cell_type": "markdown",
   "id": "31424fa7-2e37-49be-9a66-636ca6e8baf8",
   "metadata": {},
   "source": [
    "Чтобы подключиться к базе данных по умолчанию к серверу redis, можно использовать команду:"
   ]
  },
  {
   "cell_type": "code",
   "execution_count": 12,
   "id": "7e82bcd5-a444-45ba-adad-91795cdaddd3",
   "metadata": {},
   "outputs": [],
   "source": [
    "r=redis.Redis()"
   ]
  },
  {
   "cell_type": "markdown",
   "id": "2653f388-530b-491c-8fb2-dbac3035df75",
   "metadata": {},
   "source": [
    "Можно ввести уточнения подключения:"
   ]
  },
  {
   "cell_type": "code",
   "execution_count": 15,
   "id": "5041bf95-99b4-4dfa-9fff-08f4deea29e6",
   "metadata": {},
   "outputs": [],
   "source": [
    "r=redis.Redis(host='localhost',port=7777, db=0) "
   ]
  },
  {
   "cell_type": "markdown",
   "id": "28d0e5f5-1903-4d30-9159-5475ef8fe890",
   "metadata": {},
   "source": [
    "Здесь мы подключаемся к базе данных под номером 0. \n",
    "Посмотрим функционал объекта r"
   ]
  },
  {
   "cell_type": "code",
   "execution_count": 36,
   "id": "0956d7c2-95da-4e59-bbca-eb15ab1f56f5",
   "metadata": {},
   "outputs": [
    {
     "data": {
      "text/plain": [
       "['RESPONSE_CALLBACKS',\n",
       " '__class__',\n",
       " '__contains__',\n",
       " '__del__',\n",
       " '__delattr__',\n",
       " '__delitem__',\n",
       " '__dict__',\n",
       " '__dir__',\n",
       " '__doc__',\n",
       " '__enter__',\n",
       " '__eq__',\n",
       " '__exit__',\n",
       " '__format__',\n",
       " '__ge__',\n",
       " '__getattribute__',\n",
       " '__getitem__',\n",
       " '__gt__',\n",
       " '__hash__',\n",
       " '__init__',\n",
       " '__init_subclass__',\n",
       " '__le__',\n",
       " '__lt__',\n",
       " '__module__',\n",
       " '__ne__',\n",
       " '__new__',\n",
       " '__reduce__',\n",
       " '__reduce_ex__',\n",
       " '__repr__',\n",
       " '__setattr__',\n",
       " '__setitem__',\n",
       " '__sizeof__',\n",
       " '__str__',\n",
       " '__subclasshook__',\n",
       " '__weakref__',\n",
       " '_disconnect_raise',\n",
       " '_georadiusgeneric',\n",
       " '_geosearchgeneric',\n",
       " '_send_command_parse_response',\n",
       " '_zaggregate',\n",
       " '_zrange',\n",
       " 'acl_cat',\n",
       " 'acl_deluser',\n",
       " 'acl_genpass',\n",
       " 'acl_getuser',\n",
       " 'acl_help',\n",
       " 'acl_list',\n",
       " 'acl_load',\n",
       " 'acl_log',\n",
       " 'acl_log_reset',\n",
       " 'acl_save',\n",
       " 'acl_setuser',\n",
       " 'acl_users',\n",
       " 'acl_whoami',\n",
       " 'append',\n",
       " 'bf',\n",
       " 'bgrewriteaof',\n",
       " 'bgsave',\n",
       " 'bitcount',\n",
       " 'bitfield',\n",
       " 'bitop',\n",
       " 'bitpos',\n",
       " 'blmove',\n",
       " 'blpop',\n",
       " 'brpop',\n",
       " 'brpoplpush',\n",
       " 'bzpopmax',\n",
       " 'bzpopmin',\n",
       " 'cf',\n",
       " 'client',\n",
       " 'client_getname',\n",
       " 'client_getredir',\n",
       " 'client_id',\n",
       " 'client_info',\n",
       " 'client_kill',\n",
       " 'client_kill_filter',\n",
       " 'client_list',\n",
       " 'client_pause',\n",
       " 'client_reply',\n",
       " 'client_setname',\n",
       " 'client_tracking',\n",
       " 'client_tracking_off',\n",
       " 'client_tracking_on',\n",
       " 'client_trackinginfo',\n",
       " 'client_unblock',\n",
       " 'client_unpause',\n",
       " 'close',\n",
       " 'cluster',\n",
       " 'cms',\n",
       " 'command',\n",
       " 'command_count',\n",
       " 'command_getkeys',\n",
       " 'command_info',\n",
       " 'config_get',\n",
       " 'config_resetstat',\n",
       " 'config_rewrite',\n",
       " 'config_set',\n",
       " 'connection',\n",
       " 'connection_pool',\n",
       " 'copy',\n",
       " 'dbsize',\n",
       " 'debug_object',\n",
       " 'debug_segfault',\n",
       " 'decr',\n",
       " 'decrby',\n",
       " 'delete',\n",
       " 'dump',\n",
       " 'echo',\n",
       " 'eval',\n",
       " 'evalsha',\n",
       " 'execute_command',\n",
       " 'exists',\n",
       " 'expire',\n",
       " 'expireat',\n",
       " 'flushall',\n",
       " 'flushdb',\n",
       " 'from_url',\n",
       " 'ft',\n",
       " 'geoadd',\n",
       " 'geodist',\n",
       " 'geohash',\n",
       " 'geopos',\n",
       " 'georadius',\n",
       " 'georadiusbymember',\n",
       " 'geosearch',\n",
       " 'geosearchstore',\n",
       " 'get',\n",
       " 'get_connection_kwargs',\n",
       " 'get_encoder',\n",
       " 'getbit',\n",
       " 'getdel',\n",
       " 'getex',\n",
       " 'getrange',\n",
       " 'getset',\n",
       " 'graph',\n",
       " 'hdel',\n",
       " 'hexists',\n",
       " 'hget',\n",
       " 'hgetall',\n",
       " 'hincrby',\n",
       " 'hincrbyfloat',\n",
       " 'hkeys',\n",
       " 'hlen',\n",
       " 'hmget',\n",
       " 'hmset',\n",
       " 'hrandfield',\n",
       " 'hscan',\n",
       " 'hscan_iter',\n",
       " 'hset',\n",
       " 'hsetnx',\n",
       " 'hstrlen',\n",
       " 'hvals',\n",
       " 'incr',\n",
       " 'incrby',\n",
       " 'incrbyfloat',\n",
       " 'info',\n",
       " 'json',\n",
       " 'keys',\n",
       " 'lastsave',\n",
       " 'lindex',\n",
       " 'linsert',\n",
       " 'llen',\n",
       " 'lmove',\n",
       " 'load_external_module',\n",
       " 'lock',\n",
       " 'lolwut',\n",
       " 'lpop',\n",
       " 'lpos',\n",
       " 'lpush',\n",
       " 'lpushx',\n",
       " 'lrange',\n",
       " 'lrem',\n",
       " 'lset',\n",
       " 'ltrim',\n",
       " 'memory_doctor',\n",
       " 'memory_help',\n",
       " 'memory_malloc_stats',\n",
       " 'memory_purge',\n",
       " 'memory_stats',\n",
       " 'memory_usage',\n",
       " 'mget',\n",
       " 'migrate',\n",
       " 'module_list',\n",
       " 'module_load',\n",
       " 'module_unload',\n",
       " 'monitor',\n",
       " 'move',\n",
       " 'mset',\n",
       " 'msetnx',\n",
       " 'object',\n",
       " 'parse_response',\n",
       " 'persist',\n",
       " 'pexpire',\n",
       " 'pexpireat',\n",
       " 'pfadd',\n",
       " 'pfcount',\n",
       " 'pfmerge',\n",
       " 'ping',\n",
       " 'pipeline',\n",
       " 'psetex',\n",
       " 'psync',\n",
       " 'pttl',\n",
       " 'publish',\n",
       " 'pubsub',\n",
       " 'pubsub_channels',\n",
       " 'pubsub_numpat',\n",
       " 'pubsub_numsub',\n",
       " 'quit',\n",
       " 'randomkey',\n",
       " 'readonly',\n",
       " 'readwrite',\n",
       " 'register_script',\n",
       " 'rename',\n",
       " 'renamenx',\n",
       " 'replicaof',\n",
       " 'reset',\n",
       " 'response_callbacks',\n",
       " 'restore',\n",
       " 'role',\n",
       " 'rpop',\n",
       " 'rpoplpush',\n",
       " 'rpush',\n",
       " 'rpushx',\n",
       " 'sadd',\n",
       " 'save',\n",
       " 'scan',\n",
       " 'scan_iter',\n",
       " 'scard',\n",
       " 'script_debug',\n",
       " 'script_exists',\n",
       " 'script_flush',\n",
       " 'script_kill',\n",
       " 'script_load',\n",
       " 'sdiff',\n",
       " 'sdiffstore',\n",
       " 'select',\n",
       " 'sentinel',\n",
       " 'sentinel_ckquorum',\n",
       " 'sentinel_failover',\n",
       " 'sentinel_flushconfig',\n",
       " 'sentinel_get_master_addr_by_name',\n",
       " 'sentinel_master',\n",
       " 'sentinel_masters',\n",
       " 'sentinel_monitor',\n",
       " 'sentinel_remove',\n",
       " 'sentinel_reset',\n",
       " 'sentinel_sentinels',\n",
       " 'sentinel_set',\n",
       " 'sentinel_slaves',\n",
       " 'set',\n",
       " 'set_response_callback',\n",
       " 'setbit',\n",
       " 'setex',\n",
       " 'setnx',\n",
       " 'setrange',\n",
       " 'shutdown',\n",
       " 'sinter',\n",
       " 'sinterstore',\n",
       " 'sismember',\n",
       " 'slaveof',\n",
       " 'slowlog_get',\n",
       " 'slowlog_len',\n",
       " 'slowlog_reset',\n",
       " 'smembers',\n",
       " 'smismember',\n",
       " 'smove',\n",
       " 'sort',\n",
       " 'spop',\n",
       " 'srandmember',\n",
       " 'srem',\n",
       " 'sscan',\n",
       " 'sscan_iter',\n",
       " 'stralgo',\n",
       " 'strlen',\n",
       " 'substr',\n",
       " 'sunion',\n",
       " 'sunionstore',\n",
       " 'swapdb',\n",
       " 'sync',\n",
       " 'tdigest',\n",
       " 'time',\n",
       " 'topk',\n",
       " 'touch',\n",
       " 'transaction',\n",
       " 'ts',\n",
       " 'ttl',\n",
       " 'type',\n",
       " 'unlink',\n",
       " 'unwatch',\n",
       " 'wait',\n",
       " 'watch',\n",
       " 'xack',\n",
       " 'xadd',\n",
       " 'xautoclaim',\n",
       " 'xclaim',\n",
       " 'xdel',\n",
       " 'xgroup_create',\n",
       " 'xgroup_createconsumer',\n",
       " 'xgroup_delconsumer',\n",
       " 'xgroup_destroy',\n",
       " 'xgroup_setid',\n",
       " 'xinfo_consumers',\n",
       " 'xinfo_groups',\n",
       " 'xinfo_stream',\n",
       " 'xlen',\n",
       " 'xpending',\n",
       " 'xpending_range',\n",
       " 'xrange',\n",
       " 'xread',\n",
       " 'xreadgroup',\n",
       " 'xrevrange',\n",
       " 'xtrim',\n",
       " 'zadd',\n",
       " 'zcard',\n",
       " 'zcount',\n",
       " 'zdiff',\n",
       " 'zdiffstore',\n",
       " 'zincrby',\n",
       " 'zinter',\n",
       " 'zinterstore',\n",
       " 'zlexcount',\n",
       " 'zmscore',\n",
       " 'zpopmax',\n",
       " 'zpopmin',\n",
       " 'zrandmember',\n",
       " 'zrange',\n",
       " 'zrangebylex',\n",
       " 'zrangebyscore',\n",
       " 'zrangestore',\n",
       " 'zrank',\n",
       " 'zrem',\n",
       " 'zremrangebylex',\n",
       " 'zremrangebyrank',\n",
       " 'zremrangebyscore',\n",
       " 'zrevrange',\n",
       " 'zrevrangebylex',\n",
       " 'zrevrangebyscore',\n",
       " 'zrevrank',\n",
       " 'zscan',\n",
       " 'zscan_iter',\n",
       " 'zscore',\n",
       " 'zunion',\n",
       " 'zunionstore']"
      ]
     },
     "execution_count": 36,
     "metadata": {},
     "output_type": "execute_result"
    }
   ],
   "source": [
    "dir(r)"
   ]
  },
  {
   "cell_type": "markdown",
   "id": "9eeb9ef8-1e8e-4cec-9b88-650bfd034868",
   "metadata": {},
   "source": [
    "Получим список ключей:"
   ]
  },
  {
   "cell_type": "code",
   "execution_count": 29,
   "id": "422fc394-c09c-4678-b74e-82b633e3d179",
   "metadata": {},
   "outputs": [
    {
     "data": {
      "text/plain": [
       "[b'b', b'rrr', b'Bahamas', b'Croatia', b'a', b'www', b'#453']"
      ]
     },
     "execution_count": 29,
     "metadata": {},
     "output_type": "execute_result"
    }
   ],
   "source": [
    "r.keys()"
   ]
  },
  {
   "cell_type": "markdown",
   "id": "a72df050-cffd-49e8-bdf8-7cd967dff6fc",
   "metadata": {},
   "source": [
    "Получим тип ключа:"
   ]
  },
  {
   "cell_type": "code",
   "execution_count": 30,
   "id": "4cb6adea-415d-4e1b-8f83-eddddeb5a5f7",
   "metadata": {},
   "outputs": [
    {
     "data": {
      "text/plain": [
       "b'string'"
      ]
     },
     "execution_count": 30,
     "metadata": {},
     "output_type": "execute_result"
    }
   ],
   "source": [
    "r.type('#453')"
   ]
  },
  {
   "cell_type": "markdown",
   "id": "ca24c8f5-eefa-438b-8e16-4ae6dcdea503",
   "metadata": {},
   "source": [
    "Получим значение ключа:"
   ]
  },
  {
   "cell_type": "code",
   "execution_count": 31,
   "id": "7319066e-4557-4f54-a32e-5e494d4f0296",
   "metadata": {},
   "outputs": [
    {
     "data": {
      "text/plain": [
       "b'99'"
      ]
     },
     "execution_count": 31,
     "metadata": {},
     "output_type": "execute_result"
    }
   ],
   "source": [
    "r.get(\"#453\")"
   ]
  },
  {
   "cell_type": "markdown",
   "id": "46e109b1-435d-4b6b-9d59-e071fc79589d",
   "metadata": {},
   "source": [
    "Еще примеры:"
   ]
  },
  {
   "cell_type": "code",
   "execution_count": 32,
   "id": "b1041996-c78c-4000-b94e-e934fb55a3a8",
   "metadata": {},
   "outputs": [
    {
     "data": {
      "text/plain": [
       "b'list'"
      ]
     },
     "execution_count": 32,
     "metadata": {},
     "output_type": "execute_result"
    }
   ],
   "source": [
    "r.type('www')"
   ]
  },
  {
   "cell_type": "code",
   "execution_count": 33,
   "id": "7778caff-1e7b-4fe1-8293-014b3c1e86c0",
   "metadata": {},
   "outputs": [
    {
     "data": {
      "text/plain": [
       "[b'753', b'777', b'3']"
      ]
     },
     "execution_count": 33,
     "metadata": {},
     "output_type": "execute_result"
    }
   ],
   "source": [
    "r.lrange('www',0,-1)"
   ]
  },
  {
   "cell_type": "markdown",
   "id": "c2bb5092-716f-44c7-8d50-c510c4f4a941",
   "metadata": {},
   "source": [
    "Как видно из примеров, практически во всех случаях методы совпадают с названием команды Redis, которая выполняет ту же функцию."
   ]
  }
 ],
 "metadata": {
  "kernelspec": {
   "display_name": "Python 3 (ipykernel)",
   "language": "python",
   "name": "python3"
  },
  "language_info": {
   "codemirror_mode": {
    "name": "ipython",
    "version": 3
   },
   "file_extension": ".py",
   "mimetype": "text/x-python",
   "name": "python",
   "nbconvert_exporter": "python",
   "pygments_lexer": "ipython3",
   "version": "3.8.10"
  }
 },
 "nbformat": 4,
 "nbformat_minor": 5
}
