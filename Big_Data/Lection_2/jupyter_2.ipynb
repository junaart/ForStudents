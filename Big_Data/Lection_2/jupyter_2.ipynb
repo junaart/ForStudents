{
 "cells": [
  {
   "cell_type": "markdown",
   "metadata": {},
   "source": [
    "# Устанавливаем библиотеку (в командной строке)\n",
    "> pip3 install redis\n",
    "# Подключаю библиотеку (в ipynb)\n",
    "import redis"
   ]
  },
  {
   "cell_type": "code",
   "execution_count": 28,
   "metadata": {},
   "outputs": [],
   "source": [
    "import redis as rd"
   ]
  },
  {
   "cell_type": "code",
   "execution_count": null,
   "metadata": {},
   "outputs": [],
   "source": [
    "#Подключаемся к серверу\n",
    "r=rd.Redis(host='localhost', db=2) "
   ]
  },
  {
   "cell_type": "code",
   "execution_count": null,
   "metadata": {},
   "outputs": [
    {
     "data": {
      "text/plain": [
       "785\n"
      ]
     },
     "metadata": {},
     "output_type": "display_data"
    }
   ],
   "source": [
    "int(r.get(\"a\"))"
   ]
  },
  {
   "cell_type": "code",
   "execution_count": null,
   "metadata": {},
   "outputs": [
    {
     "data": {
      "text/plain": [
       "True\n"
      ]
     },
     "metadata": {},
     "output_type": "display_data"
    }
   ],
   "source": [
    "r.set(\"a\", '666')"
   ]
  },
  {
   "cell_type": "code",
   "execution_count": null,
   "metadata": {},
   "outputs": [
    {
     "data": {
      "text/plain": [
       "[b'a', b'c', b'd', b'b']\n"
      ]
     },
     "metadata": {},
     "output_type": "display_data"
    }
   ],
   "source": [
    "r.keys()"
   ]
  },
  {
   "cell_type": "code",
   "execution_count": null,
   "metadata": {},
   "outputs": [
    {
     "data": {
      "text/plain": [
       "1\n"
      ]
     },
     "metadata": {},
     "output_type": "display_data"
    }
   ],
   "source": [
    "r.rpush(\"g\",1)"
   ]
  },
  {
   "cell_type": "code",
   "execution_count": null,
   "metadata": {},
   "outputs": [
    {
     "data": {
      "text/plain": [
       "[b'1']\n"
      ]
     },
     "metadata": {},
     "output_type": "display_data"
    }
   ],
   "source": [
    "r.lrange(\"g\", 0, -1)"
   ]
  },
  {
   "cell_type": "code",
   "execution_count": null,
   "metadata": {},
   "outputs": [
    {
     "data": {
      "text/plain": [
       "5\n"
      ]
     },
     "metadata": {},
     "output_type": "display_data"
    }
   ],
   "source": [
    "r.lpush(\"g\",2,4,5,6)"
   ]
  },
  {
   "cell_type": "code",
   "execution_count": null,
   "metadata": {},
   "outputs": [
    {
     "data": {
      "text/plain": [
       "[b'6', b'5', b'4', b'2', b'1']\n"
      ]
     },
     "metadata": {},
     "output_type": "display_data"
    }
   ],
   "source": [
    "r.lrange(\"g\",0,-1)"
   ]
  },
  {
   "cell_type": "code",
   "execution_count": 2,
   "metadata": {},
   "outputs": [],
   "source": [
    "import pandas as pd"
   ]
  },
  {
   "cell_type": "code",
   "execution_count": 3,
   "metadata": {},
   "outputs": [
    {
     "data": {
      "text/html": [
       "<div>\n",
       "<style scoped>\n",
       "    .dataframe tbody tr th:only-of-type {\n",
       "        vertical-align: middle;\n",
       "    }\n",
       "\n",
       "    .dataframe tbody tr th {\n",
       "        vertical-align: top;\n",
       "    }\n",
       "\n",
       "    .dataframe thead th {\n",
       "        text-align: right;\n",
       "    }\n",
       "</style>\n",
       "<table border=\"1\" class=\"dataframe\">\n",
       "  <thead>\n",
       "    <tr style=\"text-align: right;\">\n",
       "      <th></th>\n",
       "      <th>Год</th>\n",
       "      <th>1990</th>\n",
       "      <th>1995</th>\n",
       "      <th>2000</th>\n",
       "      <th>2001</th>\n",
       "      <th>2002</th>\n",
       "      <th>2003</th>\n",
       "      <th>2004</th>\n",
       "      <th>2005</th>\n",
       "      <th>2006</th>\n",
       "      <th>...</th>\n",
       "      <th>2010</th>\n",
       "      <th>2011</th>\n",
       "      <th>2012</th>\n",
       "      <th>2013</th>\n",
       "      <th>2014</th>\n",
       "      <th>2015</th>\n",
       "      <th>2016</th>\n",
       "      <th>2017</th>\n",
       "      <th>2018</th>\n",
       "      <th>2019</th>\n",
       "    </tr>\n",
       "  </thead>\n",
       "  <tbody>\n",
       "    <tr>\n",
       "      <th>0</th>\n",
       "      <td>Все население</td>\n",
       "      <td>69.19</td>\n",
       "      <td>64.52</td>\n",
       "      <td>65.34</td>\n",
       "      <td>65.23</td>\n",
       "      <td>64.95</td>\n",
       "      <td>64.84</td>\n",
       "      <td>65.31</td>\n",
       "      <td>65.37</td>\n",
       "      <td>66.69</td>\n",
       "      <td>...</td>\n",
       "      <td>68.94</td>\n",
       "      <td>69.831495</td>\n",
       "      <td>70.24</td>\n",
       "      <td>70.76</td>\n",
       "      <td>70.93</td>\n",
       "      <td>71.39</td>\n",
       "      <td>71.87</td>\n",
       "      <td>72.70</td>\n",
       "      <td>72.91</td>\n",
       "      <td>73.34</td>\n",
       "    </tr>\n",
       "    <tr>\n",
       "      <th>1</th>\n",
       "      <td>Все мужчины</td>\n",
       "      <td>63.73</td>\n",
       "      <td>58.12</td>\n",
       "      <td>59.03</td>\n",
       "      <td>58.92</td>\n",
       "      <td>58.68</td>\n",
       "      <td>58.53</td>\n",
       "      <td>58.91</td>\n",
       "      <td>58.92</td>\n",
       "      <td>60.43</td>\n",
       "      <td>...</td>\n",
       "      <td>63.09</td>\n",
       "      <td>64.039883</td>\n",
       "      <td>64.56</td>\n",
       "      <td>65.13</td>\n",
       "      <td>65.29</td>\n",
       "      <td>65.92</td>\n",
       "      <td>66.50</td>\n",
       "      <td>67.51</td>\n",
       "      <td>67.75</td>\n",
       "      <td>68.24</td>\n",
       "    </tr>\n",
       "    <tr>\n",
       "      <th>2</th>\n",
       "      <td>Все женщины</td>\n",
       "      <td>74.30</td>\n",
       "      <td>71.59</td>\n",
       "      <td>72.26</td>\n",
       "      <td>72.17</td>\n",
       "      <td>71.90</td>\n",
       "      <td>71.85</td>\n",
       "      <td>72.36</td>\n",
       "      <td>72.47</td>\n",
       "      <td>73.34</td>\n",
       "      <td>...</td>\n",
       "      <td>74.88</td>\n",
       "      <td>75.605552</td>\n",
       "      <td>75.86</td>\n",
       "      <td>76.30</td>\n",
       "      <td>76.47</td>\n",
       "      <td>76.71</td>\n",
       "      <td>77.06</td>\n",
       "      <td>77.64</td>\n",
       "      <td>77.82</td>\n",
       "      <td>78.17</td>\n",
       "    </tr>\n",
       "    <tr>\n",
       "      <th>3</th>\n",
       "      <td>Все городское население</td>\n",
       "      <td>69.55</td>\n",
       "      <td>64.70</td>\n",
       "      <td>65.69</td>\n",
       "      <td>65.57</td>\n",
       "      <td>65.40</td>\n",
       "      <td>65.36</td>\n",
       "      <td>65.87</td>\n",
       "      <td>66.10</td>\n",
       "      <td>67.43</td>\n",
       "      <td>...</td>\n",
       "      <td>69.69</td>\n",
       "      <td>70.509150</td>\n",
       "      <td>70.83</td>\n",
       "      <td>71.33</td>\n",
       "      <td>71.44</td>\n",
       "      <td>71.91</td>\n",
       "      <td>72.35</td>\n",
       "      <td>73.16</td>\n",
       "      <td>73.34</td>\n",
       "      <td>73.72</td>\n",
       "    </tr>\n",
       "    <tr>\n",
       "      <th>4</th>\n",
       "      <td>Все городское население мужчины</td>\n",
       "      <td>64.31</td>\n",
       "      <td>58.30</td>\n",
       "      <td>59.35</td>\n",
       "      <td>59.23</td>\n",
       "      <td>59.09</td>\n",
       "      <td>59.01</td>\n",
       "      <td>59.42</td>\n",
       "      <td>59.58</td>\n",
       "      <td>61.12</td>\n",
       "      <td>...</td>\n",
       "      <td>63.82</td>\n",
       "      <td>64.668980</td>\n",
       "      <td>65.10</td>\n",
       "      <td>65.64</td>\n",
       "      <td>65.75</td>\n",
       "      <td>66.38</td>\n",
       "      <td>66.91</td>\n",
       "      <td>67.90</td>\n",
       "      <td>68.11</td>\n",
       "      <td>68.56</td>\n",
       "    </tr>\n",
       "    <tr>\n",
       "      <th>5</th>\n",
       "      <td>Все городское население женщины</td>\n",
       "      <td>74.34</td>\n",
       "      <td>71.64</td>\n",
       "      <td>72.46</td>\n",
       "      <td>72.37</td>\n",
       "      <td>72.18</td>\n",
       "      <td>72.20</td>\n",
       "      <td>72.73</td>\n",
       "      <td>72.99</td>\n",
       "      <td>73.88</td>\n",
       "      <td>...</td>\n",
       "      <td>75.39</td>\n",
       "      <td>76.103459</td>\n",
       "      <td>76.27</td>\n",
       "      <td>76.70</td>\n",
       "      <td>76.83</td>\n",
       "      <td>77.09</td>\n",
       "      <td>77.38</td>\n",
       "      <td>77.96</td>\n",
       "      <td>78.09</td>\n",
       "      <td>78.41</td>\n",
       "    </tr>\n",
       "    <tr>\n",
       "      <th>6</th>\n",
       "      <td>Все сельское население</td>\n",
       "      <td>67.97</td>\n",
       "      <td>63.99</td>\n",
       "      <td>64.34</td>\n",
       "      <td>64.25</td>\n",
       "      <td>63.68</td>\n",
       "      <td>63.34</td>\n",
       "      <td>63.77</td>\n",
       "      <td>63.45</td>\n",
       "      <td>64.74</td>\n",
       "      <td>...</td>\n",
       "      <td>66.92</td>\n",
       "      <td>67.994370</td>\n",
       "      <td>68.61</td>\n",
       "      <td>69.18</td>\n",
       "      <td>69.49</td>\n",
       "      <td>69.90</td>\n",
       "      <td>70.50</td>\n",
       "      <td>71.38</td>\n",
       "      <td>71.67</td>\n",
       "      <td>72.21</td>\n",
       "    </tr>\n",
       "    <tr>\n",
       "      <th>7</th>\n",
       "      <td>Все сельское население мужчины</td>\n",
       "      <td>62.03</td>\n",
       "      <td>57.64</td>\n",
       "      <td>58.14</td>\n",
       "      <td>58.07</td>\n",
       "      <td>57.54</td>\n",
       "      <td>57.20</td>\n",
       "      <td>57.56</td>\n",
       "      <td>57.22</td>\n",
       "      <td>58.69</td>\n",
       "      <td>...</td>\n",
       "      <td>61.19</td>\n",
       "      <td>62.399606</td>\n",
       "      <td>63.12</td>\n",
       "      <td>63.75</td>\n",
       "      <td>64.07</td>\n",
       "      <td>64.67</td>\n",
       "      <td>65.36</td>\n",
       "      <td>66.43</td>\n",
       "      <td>66.75</td>\n",
       "      <td>67.36</td>\n",
       "    </tr>\n",
       "    <tr>\n",
       "      <th>8</th>\n",
       "      <td>Все сельское население женщины</td>\n",
       "      <td>73.95</td>\n",
       "      <td>71.40</td>\n",
       "      <td>71.66</td>\n",
       "      <td>71.57</td>\n",
       "      <td>71.09</td>\n",
       "      <td>70.81</td>\n",
       "      <td>71.27</td>\n",
       "      <td>71.06</td>\n",
       "      <td>71.86</td>\n",
       "      <td>...</td>\n",
       "      <td>73.42</td>\n",
       "      <td>74.208291</td>\n",
       "      <td>74.66</td>\n",
       "      <td>75.13</td>\n",
       "      <td>75.43</td>\n",
       "      <td>75.59</td>\n",
       "      <td>76.07</td>\n",
       "      <td>76.66</td>\n",
       "      <td>76.93</td>\n",
       "      <td>77.39</td>\n",
       "    </tr>\n",
       "  </tbody>\n",
       "</table>\n",
       "<p>9 rows × 23 columns</p>\n",
       "</div>"
      ],
      "text/plain": [
       "                               Год   1990   1995   2000   2001   2002   2003  \\\n",
       "0                    Все население  69.19  64.52  65.34  65.23  64.95  64.84   \n",
       "1                      Все мужчины  63.73  58.12  59.03  58.92  58.68  58.53   \n",
       "2                      Все женщины  74.30  71.59  72.26  72.17  71.90  71.85   \n",
       "3          Все городское население  69.55  64.70  65.69  65.57  65.40  65.36   \n",
       "4  Все городское население мужчины  64.31  58.30  59.35  59.23  59.09  59.01   \n",
       "5  Все городское население женщины  74.34  71.64  72.46  72.37  72.18  72.20   \n",
       "6           Все сельское население  67.97  63.99  64.34  64.25  63.68  63.34   \n",
       "7   Все сельское население мужчины  62.03  57.64  58.14  58.07  57.54  57.20   \n",
       "8   Все сельское население женщины  73.95  71.40  71.66  71.57  71.09  70.81   \n",
       "\n",
       "    2004   2005   2006  ...   2010       2011   2012   2013   2014   2015  \\\n",
       "0  65.31  65.37  66.69  ...  68.94  69.831495  70.24  70.76  70.93  71.39   \n",
       "1  58.91  58.92  60.43  ...  63.09  64.039883  64.56  65.13  65.29  65.92   \n",
       "2  72.36  72.47  73.34  ...  74.88  75.605552  75.86  76.30  76.47  76.71   \n",
       "3  65.87  66.10  67.43  ...  69.69  70.509150  70.83  71.33  71.44  71.91   \n",
       "4  59.42  59.58  61.12  ...  63.82  64.668980  65.10  65.64  65.75  66.38   \n",
       "5  72.73  72.99  73.88  ...  75.39  76.103459  76.27  76.70  76.83  77.09   \n",
       "6  63.77  63.45  64.74  ...  66.92  67.994370  68.61  69.18  69.49  69.90   \n",
       "7  57.56  57.22  58.69  ...  61.19  62.399606  63.12  63.75  64.07  64.67   \n",
       "8  71.27  71.06  71.86  ...  73.42  74.208291  74.66  75.13  75.43  75.59   \n",
       "\n",
       "    2016   2017   2018   2019  \n",
       "0  71.87  72.70  72.91  73.34  \n",
       "1  66.50  67.51  67.75  68.24  \n",
       "2  77.06  77.64  77.82  78.17  \n",
       "3  72.35  73.16  73.34  73.72  \n",
       "4  66.91  67.90  68.11  68.56  \n",
       "5  77.38  77.96  78.09  78.41  \n",
       "6  70.50  71.38  71.67  72.21  \n",
       "7  65.36  66.43  66.75  67.36  \n",
       "8  76.07  76.66  76.93  77.39  \n",
       "\n",
       "[9 rows x 23 columns]"
      ]
     },
     "metadata": {},
     "output_type": "display_data"
    }
   ],
   "source": [
    "D = pd.read_csv(\"https://github.com/junaart/ForStudents/raw/refs/heads/main/R/Lesson_2/demo.csv\",sep=\";\")\n",
    "display(D)"
   ]
  },
  {
   "cell_type": "markdown",
   "metadata": {},
   "source": [
    " pip3 install openpyxl"
   ]
  },
  {
   "cell_type": "code",
   "execution_count": 4,
   "metadata": {},
   "outputs": [
    {
     "data": {
      "text/html": [
       "<div>\n",
       "<style scoped>\n",
       "    .dataframe tbody tr th:only-of-type {\n",
       "        vertical-align: middle;\n",
       "    }\n",
       "\n",
       "    .dataframe tbody tr th {\n",
       "        vertical-align: top;\n",
       "    }\n",
       "\n",
       "    .dataframe thead th {\n",
       "        text-align: right;\n",
       "    }\n",
       "</style>\n",
       "<table border=\"1\" class=\"dataframe\">\n",
       "  <thead>\n",
       "    <tr style=\"text-align: right;\">\n",
       "      <th></th>\n",
       "      <th>Год</th>\n",
       "      <th>1990</th>\n",
       "      <th>1995</th>\n",
       "      <th>2000</th>\n",
       "      <th>2001</th>\n",
       "      <th>2002</th>\n",
       "      <th>2003</th>\n",
       "      <th>2004</th>\n",
       "      <th>2005</th>\n",
       "      <th>2006</th>\n",
       "      <th>...</th>\n",
       "      <th>2010</th>\n",
       "      <th>2011</th>\n",
       "      <th>2012</th>\n",
       "      <th>2013</th>\n",
       "      <th>2014</th>\n",
       "      <th>2015</th>\n",
       "      <th>2016</th>\n",
       "      <th>2017</th>\n",
       "      <th>2018</th>\n",
       "      <th>2019</th>\n",
       "    </tr>\n",
       "  </thead>\n",
       "  <tbody>\n",
       "    <tr>\n",
       "      <th>0</th>\n",
       "      <td>Все население</td>\n",
       "      <td>69.19</td>\n",
       "      <td>64.52</td>\n",
       "      <td>65.34</td>\n",
       "      <td>65.23</td>\n",
       "      <td>64.95</td>\n",
       "      <td>64.84</td>\n",
       "      <td>65.31</td>\n",
       "      <td>65.37</td>\n",
       "      <td>66.69</td>\n",
       "      <td>...</td>\n",
       "      <td>68.94</td>\n",
       "      <td>69.831495</td>\n",
       "      <td>70.24</td>\n",
       "      <td>70.76</td>\n",
       "      <td>70.93</td>\n",
       "      <td>71.39</td>\n",
       "      <td>71.87</td>\n",
       "      <td>72.70</td>\n",
       "      <td>72.91</td>\n",
       "      <td>73.34</td>\n",
       "    </tr>\n",
       "    <tr>\n",
       "      <th>1</th>\n",
       "      <td>Все мужчины</td>\n",
       "      <td>63.73</td>\n",
       "      <td>58.12</td>\n",
       "      <td>59.03</td>\n",
       "      <td>58.92</td>\n",
       "      <td>58.68</td>\n",
       "      <td>58.53</td>\n",
       "      <td>58.91</td>\n",
       "      <td>58.92</td>\n",
       "      <td>60.43</td>\n",
       "      <td>...</td>\n",
       "      <td>63.09</td>\n",
       "      <td>64.039883</td>\n",
       "      <td>64.56</td>\n",
       "      <td>65.13</td>\n",
       "      <td>65.29</td>\n",
       "      <td>65.92</td>\n",
       "      <td>66.50</td>\n",
       "      <td>67.51</td>\n",
       "      <td>67.75</td>\n",
       "      <td>68.24</td>\n",
       "    </tr>\n",
       "    <tr>\n",
       "      <th>2</th>\n",
       "      <td>Все женщины</td>\n",
       "      <td>74.30</td>\n",
       "      <td>71.59</td>\n",
       "      <td>72.26</td>\n",
       "      <td>72.17</td>\n",
       "      <td>71.90</td>\n",
       "      <td>71.85</td>\n",
       "      <td>72.36</td>\n",
       "      <td>72.47</td>\n",
       "      <td>73.34</td>\n",
       "      <td>...</td>\n",
       "      <td>74.88</td>\n",
       "      <td>75.605552</td>\n",
       "      <td>75.86</td>\n",
       "      <td>76.30</td>\n",
       "      <td>76.47</td>\n",
       "      <td>76.71</td>\n",
       "      <td>77.06</td>\n",
       "      <td>77.64</td>\n",
       "      <td>77.82</td>\n",
       "      <td>78.17</td>\n",
       "    </tr>\n",
       "    <tr>\n",
       "      <th>3</th>\n",
       "      <td>Все городское население</td>\n",
       "      <td>69.55</td>\n",
       "      <td>64.70</td>\n",
       "      <td>65.69</td>\n",
       "      <td>65.57</td>\n",
       "      <td>65.40</td>\n",
       "      <td>65.36</td>\n",
       "      <td>65.87</td>\n",
       "      <td>66.10</td>\n",
       "      <td>67.43</td>\n",
       "      <td>...</td>\n",
       "      <td>69.69</td>\n",
       "      <td>70.509150</td>\n",
       "      <td>70.83</td>\n",
       "      <td>71.33</td>\n",
       "      <td>71.44</td>\n",
       "      <td>71.91</td>\n",
       "      <td>72.35</td>\n",
       "      <td>73.16</td>\n",
       "      <td>73.34</td>\n",
       "      <td>73.72</td>\n",
       "    </tr>\n",
       "    <tr>\n",
       "      <th>4</th>\n",
       "      <td>Все городское население мужчины</td>\n",
       "      <td>64.31</td>\n",
       "      <td>58.30</td>\n",
       "      <td>59.35</td>\n",
       "      <td>59.23</td>\n",
       "      <td>59.09</td>\n",
       "      <td>59.01</td>\n",
       "      <td>59.42</td>\n",
       "      <td>59.58</td>\n",
       "      <td>61.12</td>\n",
       "      <td>...</td>\n",
       "      <td>63.82</td>\n",
       "      <td>64.668980</td>\n",
       "      <td>65.10</td>\n",
       "      <td>65.64</td>\n",
       "      <td>65.75</td>\n",
       "      <td>66.38</td>\n",
       "      <td>66.91</td>\n",
       "      <td>67.90</td>\n",
       "      <td>68.11</td>\n",
       "      <td>68.56</td>\n",
       "    </tr>\n",
       "    <tr>\n",
       "      <th>5</th>\n",
       "      <td>Все городское население женщины</td>\n",
       "      <td>74.34</td>\n",
       "      <td>71.64</td>\n",
       "      <td>72.46</td>\n",
       "      <td>72.37</td>\n",
       "      <td>72.18</td>\n",
       "      <td>72.20</td>\n",
       "      <td>72.73</td>\n",
       "      <td>72.99</td>\n",
       "      <td>73.88</td>\n",
       "      <td>...</td>\n",
       "      <td>75.39</td>\n",
       "      <td>76.103459</td>\n",
       "      <td>76.27</td>\n",
       "      <td>76.70</td>\n",
       "      <td>76.83</td>\n",
       "      <td>77.09</td>\n",
       "      <td>77.38</td>\n",
       "      <td>77.96</td>\n",
       "      <td>78.09</td>\n",
       "      <td>78.41</td>\n",
       "    </tr>\n",
       "    <tr>\n",
       "      <th>6</th>\n",
       "      <td>Все сельское население</td>\n",
       "      <td>67.97</td>\n",
       "      <td>63.99</td>\n",
       "      <td>64.34</td>\n",
       "      <td>64.25</td>\n",
       "      <td>63.68</td>\n",
       "      <td>63.34</td>\n",
       "      <td>63.77</td>\n",
       "      <td>63.45</td>\n",
       "      <td>64.74</td>\n",
       "      <td>...</td>\n",
       "      <td>66.92</td>\n",
       "      <td>67.994370</td>\n",
       "      <td>68.61</td>\n",
       "      <td>69.18</td>\n",
       "      <td>69.49</td>\n",
       "      <td>69.90</td>\n",
       "      <td>70.50</td>\n",
       "      <td>71.38</td>\n",
       "      <td>71.67</td>\n",
       "      <td>72.21</td>\n",
       "    </tr>\n",
       "    <tr>\n",
       "      <th>7</th>\n",
       "      <td>Все сельское население мужчины</td>\n",
       "      <td>62.03</td>\n",
       "      <td>57.64</td>\n",
       "      <td>58.14</td>\n",
       "      <td>58.07</td>\n",
       "      <td>57.54</td>\n",
       "      <td>57.20</td>\n",
       "      <td>57.56</td>\n",
       "      <td>57.22</td>\n",
       "      <td>58.69</td>\n",
       "      <td>...</td>\n",
       "      <td>61.19</td>\n",
       "      <td>62.399606</td>\n",
       "      <td>63.12</td>\n",
       "      <td>63.75</td>\n",
       "      <td>64.07</td>\n",
       "      <td>64.67</td>\n",
       "      <td>65.36</td>\n",
       "      <td>66.43</td>\n",
       "      <td>66.75</td>\n",
       "      <td>67.36</td>\n",
       "    </tr>\n",
       "    <tr>\n",
       "      <th>8</th>\n",
       "      <td>Все сельское население женщины</td>\n",
       "      <td>73.95</td>\n",
       "      <td>71.40</td>\n",
       "      <td>71.66</td>\n",
       "      <td>71.57</td>\n",
       "      <td>71.09</td>\n",
       "      <td>70.81</td>\n",
       "      <td>71.27</td>\n",
       "      <td>71.06</td>\n",
       "      <td>71.86</td>\n",
       "      <td>...</td>\n",
       "      <td>73.42</td>\n",
       "      <td>74.208291</td>\n",
       "      <td>74.66</td>\n",
       "      <td>75.13</td>\n",
       "      <td>75.43</td>\n",
       "      <td>75.59</td>\n",
       "      <td>76.07</td>\n",
       "      <td>76.66</td>\n",
       "      <td>76.93</td>\n",
       "      <td>77.39</td>\n",
       "    </tr>\n",
       "  </tbody>\n",
       "</table>\n",
       "<p>9 rows × 23 columns</p>\n",
       "</div>"
      ],
      "text/plain": [
       "                               Год   1990   1995   2000   2001   2002   2003  \\\n",
       "0                    Все население  69.19  64.52  65.34  65.23  64.95  64.84   \n",
       "1                      Все мужчины  63.73  58.12  59.03  58.92  58.68  58.53   \n",
       "2                      Все женщины  74.30  71.59  72.26  72.17  71.90  71.85   \n",
       "3          Все городское население  69.55  64.70  65.69  65.57  65.40  65.36   \n",
       "4  Все городское население мужчины  64.31  58.30  59.35  59.23  59.09  59.01   \n",
       "5  Все городское население женщины  74.34  71.64  72.46  72.37  72.18  72.20   \n",
       "6           Все сельское население  67.97  63.99  64.34  64.25  63.68  63.34   \n",
       "7   Все сельское население мужчины  62.03  57.64  58.14  58.07  57.54  57.20   \n",
       "8   Все сельское население женщины  73.95  71.40  71.66  71.57  71.09  70.81   \n",
       "\n",
       "    2004   2005   2006  ...   2010       2011   2012   2013   2014   2015  \\\n",
       "0  65.31  65.37  66.69  ...  68.94  69.831495  70.24  70.76  70.93  71.39   \n",
       "1  58.91  58.92  60.43  ...  63.09  64.039883  64.56  65.13  65.29  65.92   \n",
       "2  72.36  72.47  73.34  ...  74.88  75.605552  75.86  76.30  76.47  76.71   \n",
       "3  65.87  66.10  67.43  ...  69.69  70.509150  70.83  71.33  71.44  71.91   \n",
       "4  59.42  59.58  61.12  ...  63.82  64.668980  65.10  65.64  65.75  66.38   \n",
       "5  72.73  72.99  73.88  ...  75.39  76.103459  76.27  76.70  76.83  77.09   \n",
       "6  63.77  63.45  64.74  ...  66.92  67.994370  68.61  69.18  69.49  69.90   \n",
       "7  57.56  57.22  58.69  ...  61.19  62.399606  63.12  63.75  64.07  64.67   \n",
       "8  71.27  71.06  71.86  ...  73.42  74.208291  74.66  75.13  75.43  75.59   \n",
       "\n",
       "    2016   2017   2018   2019  \n",
       "0  71.87  72.70  72.91  73.34  \n",
       "1  66.50  67.51  67.75  68.24  \n",
       "2  77.06  77.64  77.82  78.17  \n",
       "3  72.35  73.16  73.34  73.72  \n",
       "4  66.91  67.90  68.11  68.56  \n",
       "5  77.38  77.96  78.09  78.41  \n",
       "6  70.50  71.38  71.67  72.21  \n",
       "7  65.36  66.43  66.75  67.36  \n",
       "8  76.07  76.66  76.93  77.39  \n",
       "\n",
       "[9 rows x 23 columns]"
      ]
     },
     "metadata": {},
     "output_type": "display_data"
    }
   ],
   "source": [
    "S = pd.read_excel(\"https://github.com/junaart/ForStudents/raw/refs/heads/main/R/Lesson_2/demo.xlsx\")\n",
    "display(S)"
   ]
  },
  {
   "cell_type": "markdown",
   "metadata": {},
   "source": []
  },
  {
   "cell_type": "code",
   "execution_count": 8,
   "metadata": {},
   "outputs": [
    {
     "data": {
      "text/plain": [
       "0    69.19\n",
       "1    63.73\n",
       "2    74.30\n",
       "3    69.55\n",
       "4    64.31\n",
       "5    74.34\n",
       "6    67.97\n",
       "7    62.03\n",
       "8    73.95\n",
       "Name: 1990, dtype: float64"
      ]
     },
     "execution_count": 8,
     "metadata": {},
     "output_type": "execute_result"
    }
   ],
   "source": [
    "D[\"1990\"]"
   ]
  },
  {
   "cell_type": "code",
   "execution_count": null,
   "metadata": {},
   "outputs": [
    {
     "data": {
      "text/plain": [
       "'69.19'"
      ]
     },
     "execution_count": 10,
     "metadata": {},
     "output_type": "execute_result"
    }
   ],
   "source": [
    "#Выбираем из столбца 1990 первый элемент\n",
    "str(D[\"1990\"][0])"
   ]
  },
  {
   "cell_type": "code",
   "execution_count": 15,
   "metadata": {},
   "outputs": [
    {
     "data": {
      "text/plain": [
       "'Все население'"
      ]
     },
     "execution_count": 15,
     "metadata": {},
     "output_type": "execute_result"
    }
   ],
   "source": [
    "#Выбираем элемент 1 строки и первого столбца\n",
    "D.iloc[0,0]"
   ]
  },
  {
   "cell_type": "code",
   "execution_count": 19,
   "metadata": {},
   "outputs": [
    {
     "data": {
      "text/plain": [
       "0                      Все население\n",
       "1                        Все мужчины\n",
       "2                        Все женщины\n",
       "3            Все городское население\n",
       "4    Все городское население мужчины\n",
       "5    Все городское население женщины\n",
       "6             Все сельское население\n",
       "7     Все сельское население мужчины\n",
       "8     Все сельское население женщины\n",
       "Name: Год, dtype: object"
      ]
     },
     "execution_count": 19,
     "metadata": {},
     "output_type": "execute_result"
    }
   ],
   "source": [
    "#Выбираем весь первый столбец\n",
    "D.iloc[:,0]"
   ]
  },
  {
   "cell_type": "code",
   "execution_count": 20,
   "metadata": {},
   "outputs": [
    {
     "data": {
      "text/plain": [
       "Год     Все население\n",
       "1990            69.19\n",
       "1995            64.52\n",
       "2000            65.34\n",
       "2001            65.23\n",
       "2002            64.95\n",
       "2003            64.84\n",
       "2004            65.31\n",
       "2005            65.37\n",
       "2006            66.69\n",
       "2007            67.61\n",
       "2008            67.99\n",
       "2009            68.78\n",
       "2010            68.94\n",
       "2011        69.831495\n",
       "2012            70.24\n",
       "2013            70.76\n",
       "2014            70.93\n",
       "2015            71.39\n",
       "2016            71.87\n",
       "2017             72.7\n",
       "2018            72.91\n",
       "2019            73.34\n",
       "Name: 0, dtype: object"
      ]
     },
     "execution_count": 20,
     "metadata": {},
     "output_type": "execute_result"
    }
   ],
   "source": [
    "#Выбираем все столбцы первой строки\n",
    "D.iloc[0,]"
   ]
  },
  {
   "cell_type": "code",
   "execution_count": 30,
   "metadata": {},
   "outputs": [],
   "source": [
    "r=rd.Redis() \n",
    "key = \"my\"\n",
    "for i in range(len(D[\"1990\"])):\n",
    "    r.set(key+str(i),str(D[\"1990\"].iloc[i]))\n"
   ]
  },
  {
   "cell_type": "code",
   "execution_count": 31,
   "metadata": {},
   "outputs": [
    {
     "data": {
      "text/plain": [
       "b'69.19'"
      ]
     },
     "execution_count": 31,
     "metadata": {},
     "output_type": "execute_result"
    }
   ],
   "source": [
    "r.get(\"my0\")"
   ]
  },
  {
   "cell_type": "code",
   "execution_count": null,
   "metadata": {},
   "outputs": [],
   "source": []
  }
 ],
 "metadata": {
  "kernelspec": {
   "display_name": "Python 3",
   "language": "python",
   "name": "python3"
  },
  "language_info": {
   "codemirror_mode": {
    "name": "ipython",
    "version": 3
   },
   "file_extension": ".py",
   "mimetype": "text/x-python",
   "name": "python",
   "nbconvert_exporter": "python",
   "pygments_lexer": "ipython3",
   "version": "3.12.1"
  }
 },
 "nbformat": 4,
 "nbformat_minor": 2
}
