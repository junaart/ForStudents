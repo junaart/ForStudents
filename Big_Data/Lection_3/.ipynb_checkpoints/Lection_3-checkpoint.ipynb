{
 "cells": [
  {
   "cell_type": "markdown",
   "id": "7f5274d4-917e-46ba-b5ca-71cbfa969132",
   "metadata": {},
   "source": [
    "# Лекция 3. Построение Redis Cluster"
   ]
  },
  {
   "cell_type": "markdown",
   "id": "7d8c9928-4332-4b58-8c51-ff15d3132f41",
   "metadata": {},
   "source": [
    "- Общее описание Redis Cluster. \n",
    "- Развертывание Redis кластера.\n",
    "- Восстановление после сбоя, шардирование, добавление нового узла, удаление узла, миграция реплик.\n",
    "- Установка и настройка Docker, настройка Redis на образе Docker"
   ]
  },
  {
   "cell_type": "markdown",
   "id": "74ba28c3-9fa8-41b5-a9e1-6df66faaf1cc",
   "metadata": {
    "tags": []
   },
   "source": [
    "## Общее описание Redis Cluster.  Развертывание Redis кластера."
   ]
  },
  {
   "attachments": {
    "%D0%B8%D0%B7%D0%BE%D0%B1%D1%80%D0%B0%D0%B6%D0%B5%D0%BD%D0%B8%D0%B5.png": {
     "image/png": "[encoded data removed]"
    }
   },
   "cell_type": "markdown",
   "id": "48777c52-9797-42c6-8270-f49f66997d12",
   "metadata": {},
   "source": [
    "Redis может работать в двух режимах - в режиме отдельного сервера и в режиме кластера:\n",
    "\n",
    "![%D0%B8%D0%B7%D0%BE%D0%B1%D1%80%D0%B0%D0%B6%D0%B5%D0%BD%D0%B8%D0%B5.png](attachment:%D0%B8%D0%B7%D0%BE%D0%B1%D1%80%D0%B0%D0%B6%D0%B5%D0%BD%D0%B8%D0%B5.png)\n",
    "\n",
    "Одно из важных направлений использования Redis - это создание кластеров для обеспечения горизонтального масштабирования. Масштабирование реализуется путем разбиения единого сегмента данных на кластеры. Кластеризация используется не только для снижения нагрузки на сервер, но и для повышения отказоустойчивости за счет реализации репликации и шардирования. \n",
    "\n",
    "Стандартная технология масштабирования, которая используется в Redis, базируется на идее master - slave (ведущий-ведомый).\n",
    "\n",
    "Причем master отвечает за запись в хранилище, slave обеспечивает только чтение. Свежие данные от master постепенно реплицируются на slave, поэтому надежного обеспечения целостности данных Redis не дает. Redis может обеспечивать также мультирепликацию, при которой существует несколько master серверов, синхронизирующихся друг с другом.\n",
    "\n",
    "Также Redis обеспечивает шардирование - логическое разбиение данных на части, каждая из которых хранится на разных компьютерах. Например, шардирование реляционной таблицы заключается в хранении разных строк этой таблицы (а возможно и значений отдельных столбцов внутри одной строки) на разных компьютерах.\n",
    "\n",
    "Redis Cluster состоит из шардов, каждый из которых содержит мастер-узел и набор реплик. Количество шардов и реплик задается при создании кластера. Минимальное количество шардов — три. Максимум можно добавить до восьми шардов и до восьми реплик на шард.\n",
    "\n",
    "Redis Cluster использует формат шардирования, при котором каждый ключ концептуально является частью так называемого **хеш-слота (hash slot)**.\n",
    "\n",
    "Всего в Redis 16384 хеш-слота. \n",
    "\n",
    "Каждый узел в кластере Redis отвечает за подмножество хеш-слотов, поэтому, например, у вас может быть кластер с 3 узлами, где:\n",
    "\n",
    "Узел A содержит хеш-слоты от 0 до 5500.\n",
    "\n",
    "Узел B содержит хеш-слоты с 5501 по 11000.\n",
    "\n",
    "Узел C содержит хеш-слоты с 11001 по 16383.\n",
    "\n",
    "Все эти 16384 хеш-слота распределяются между узлами кластера. Это позволяет легко добавлять и удалять узлы. Например, если в кластер из трех узлов A, B и C вы хотите добавить узел D, нужно переместить часть хеш-слотов с узлов A, B и C на узел D. А если вы хотите удалить узел A, нужно переместить хеш-слоты с узла A на остальные узлы. После этого можно удалить пустой узел A из кластера.\n",
    "\n",
    "Перемещение хеш-слотов с одного узла на другой не влияет на выполнение операций и не требует остановки работы кластера.\n",
    "\n",
    "Если в кластере из трех мастер-узлов A, B, C и их реплик A1, B1, C1 выйдет из строя мастер-узел B, реплика B1 возьмет на себя роль мастера. В этом случае кластер продолжит функционировать. Однако, если одновременно откажут B и B1, весь Redis Cluster выйдет из строя, потому что хеш-слоты, которые располагались на узле B, будут недоступны.\n",
    "\n",
    "Redis Cluster не гарантирует полной сохранности данных. При определенных обстоятельствах могут быть утеряны подтвержденные операции записи."
   ]
  },
  {
   "cell_type": "markdown",
   "id": "cd3d7c90-b411-4a45-9d6d-0f678a0bb6e2",
   "metadata": {},
   "source": [
    "При создании кластера необходимо запустить и настроить несколько Redis серверов. Каждый такой сервер должен слушать два порта. Первый порт обеспечивает обмен данными между сервером сегмента данных и клиентом, такой порт называется **клиентским**, по умолчанию он ассоциирован с числом 6379.\n",
    "\n",
    "\n",
    "Второй порт называется **портом кластерной шины**, который обеспечивает обмен данным между различными узлами в кластере. Обычно номер такого порта определяется как номер клиентского порта плюс 10000, т.е. по умолчанию 16379.\n",
    "\n"
   ]
  },
  {
   "cell_type": "markdown",
   "id": "28e871ff-3210-41cf-bdfc-222f5fdb65a2",
   "metadata": {},
   "source": [
    "## Развертывание Redis кластера.\n",
    "\n",
    "В документации Redis cluster https://redis.io/topics/cluster-tutorial рекомендуется использовать как минимум три узла. \n",
    "\n",
    "Рассмотрим работу redis cluster на трех узлах master, и трех узлах slave. Назначим им клиентские порты: 7000, 7001, 7002, 7003, 7004, 7005. Под каждый узел создадим свои директории, внутри которых создадим конфигурационный файл redis.conf:"
   ]
  },
  {
   "cell_type": "markdown",
   "id": "44ff7518-5685-449f-998b-cfabf55cd2ca",
   "metadata": {},
   "source": [
    "port 7000\n",
    "\n",
    "cluster-enabled yes\n",
    "\n",
    "cluster-config-file nodes.conf\n",
    "\n",
    "cluster-node-timeout 5000\n",
    "\n",
    "appendonly yes"
   ]
  },
  {
   "cell_type": "markdown",
   "id": "8070b0ab-3eaf-471c-b542-3bbe8aec6a7a",
   "metadata": {},
   "source": [
    "Аналогичные конфигурационные файлы следует написать под другие порты, после чего следует запустить шесть сереров, каждый со своим конфигурационным файлом:"
   ]
  },
  {
   "cell_type": "markdown",
   "id": "ab51c76b-ae07-4834-bfb2-fd3c784abd31",
   "metadata": {},
   "source": [
    "> redis-server /7000/redis.conf\n",
    "\n",
    "> redis-server /7001/redis.conf\n",
    "\n",
    "> redis-server /7002/redis.conf\n",
    "\n",
    "> redis-server /7003/redis.conf\n",
    "\n",
    "> redis-server /7004/redis.conf\n",
    "\n",
    "> redis-server /7005/redis.conf"
   ]
  },
  {
   "cell_type": "markdown",
   "id": "177521bb-1adc-49b1-8bbb-f4a34543b2c3",
   "metadata": {},
   "source": [
    "Внутри каждого каталога нужно запустить свой экземпляр redis-server"
   ]
  },
  {
   "cell_type": "markdown",
   "id": "983d0f85-7348-4075-9262-cd6cab487c09",
   "metadata": {},
   "source": [
    "После запуска серверов, в каждом рабочем каталоге будет создан файл nodes.conf, указанный в конфигурационном файле. В nodes.conf хранится конфигурация для этого узла (другие узлы, их состояние, глобальные переменные и прочее.), этот файл нет смысла менять в ручную; он просто генерируется экземплярами Redis Cluster при запуске и обновляется каждый раз, когда это необходимо. \n",
    "\n",
    "Если посмотреть содержимой файла nodes.conf, то но содержит для каждого узла его уникальный идентификатор. Выглядит это примерно так:\n",
    "\n",
    "5445093ebedbc7a7d121ae803edca725909b47e0 :0@0 myself,master - 0 0 0 connected\n",
    "vars currentEpoch 0 lastVoteEpoch 0\n",
    "\n",
    "Этот идентификатор будет использоваться этим конкретным экземпляром навсегда, чтобы у экземпляра было уникальное имя в контексте кластера. Каждый узел запоминает все остальные узлы, используя эти идентификаторы, а не  IP или порт. IP-адреса и порты могут меняться, но уникальный идентификатор узла никогда не изменится на протяжении всей жизни узла. Этот идентификатор называется **Node ID**.\n",
    "\n",
    "\n",
    "\n",
    "Сам режим кластера включается директивой  **cluster-enabled yes**.\n",
    "\n",
    "**cluster-node-timeout** - максимальное время, которое master-узел может быть недоступен, по истечению этого времени он помечается как нерабочий и slaves начинают его аварийное переключение.\n",
    "\n",
    "**appendonly** - это свойство, при котором новые данные могут добавляться к хранилищу, но при этом существующие данные неизменяемы.\n",
    "\n",
    "Указанные конфигурационные файлы обеспечивают минимальную функциональность, кроме этого могут использоваться и другие параметры:\n",
    "\n",
    "**cluster-slave-validity-factor** - это число умноженное на таймаут узла - максимальное время, через которое slave начнет аварийное переключение.\n",
    "\n",
    "**cluster-migration-barrier** - минимальное количество slaves master-а.\n",
    "\n",
    "**cluster-require-full-coverage <yes/no>** - если для этого параметра установлено значение «да», как по умолчанию, кластер перестает принимать записи, если какой-то процент пространства ключей не покрыт каким-либо узлом. Если для параметра установлено значение «нет», кластер по-прежнему будет обслуживать запросы, даже если могут быть обработаны только запросы о подмножестве ключей.\n"
   ]
  },
  {
   "cell_type": "markdown",
   "id": "8c743361-5733-47fc-9dfd-458780e6ad82",
   "metadata": {},
   "source": [
    "После того, как запущены отдельные сервера кластера, можно приступить к созданию самого кластера. Это делается следующей командой:"
   ]
  },
  {
   "cell_type": "markdown",
   "id": "3ea1364f-3f76-4b2f-b4f9-b1f04faf9003",
   "metadata": {},
   "source": [
    "redis-cli --cluster create 127.0.0.1:7000 127.0.0.1:7001 127.0.0.1:7002 127.0.0.1:7003 127.0.0.1:7004 127.0.0.1:7005 --cluster-replicas 1"
   ]
  },
  {
   "cell_type": "markdown",
   "id": "24813690-0628-4d05-aacb-a3982e47a95a",
   "metadata": {},
   "source": [
    "Здесь используется команда create , так как мы хотим создать новый кластер. Опция --cluster-replicas 1 означает, что нам нужен один slave для каждого созданного мастера. Другие аргументы — это список адресов экземпляров, которые следует использовать для создания нового кластера.\n",
    "\n",
    "Очевидно, что единственной установкой, соответствующей нашим требованиям, является создание кластера с 3 мастерами и 3 репликами."
   ]
  },
  {
   "cell_type": "markdown",
   "id": "b23c9e1f-d891-43ff-815f-cd292771ba8a",
   "metadata": {},
   "source": [
    "M: b3d554f7ffb0a51159bfb28d2163e1127ca72e89 127.0.0.1:7000\n",
    "   slots:[0-5460] (5461 slots) master\n",
    "M: 67aa5a47396a7971991ef072361a4d256128bcd8 127.0.0.1:7001\n",
    "   slots:[5461-10922] (5462 slots) master\n",
    "M: 5445093ebedbc7a7d121ae803edca725909b47e0 127.0.0.1:7002\n",
    "   slots:[10923-16383] (5461 slots) master\n",
    "S: f992ae0a32a488218fa01636ee64b99a9ea4ee6f 127.0.0.1:7003\n",
    "   replicates 67aa5a47396a7971991ef072361a4d256128bcd8\n",
    "S: f8a9bb5a995f60ad96983966a46ced8f45799fc1 127.0.0.1:7004\n",
    "   replicates 5445093ebedbc7a7d121ae803edca725909b47e0\n",
    "S: 2b2ce06ea1284e46689fcdd80d287bc50afc1f54 127.0.0.1:7005\n",
    "   replicates b3d554f7ffb0a51159bfb28d2163e1127ca72e89"
   ]
  },
  {
   "cell_type": "markdown",
   "id": "cf9084ad-8508-4846-99b9-b122fbee3e41",
   "metadata": {},
   "source": [
    "Redis-cli предложит конфигурацию, которую следует принять, набрав yes . Кластер будет настроен и присоединен , что означает, что экземпляры будут загружены для общения друг с другом."
   ]
  },
  {
   "cell_type": "markdown",
   "id": "88236174-bdef-4729-a282-9d1ed36a02fa",
   "metadata": {},
   "source": [
    "С полученным кластером можно работать с использованием redis-cli:"
   ]
  },
  {
   "cell_type": "markdown",
   "id": "d3aa9a45-f72b-4e1a-8689-42d6b07bf478",
   "metadata": {},
   "source": [
    "> redis-cli -c -p 7000"
   ]
  },
  {
   "cell_type": "markdown",
   "id": "ebfd58c7-667f-4195-b7ed-1405fb493362",
   "metadata": {},
   "source": [
    "Ключ -c подключает режим кластеризации данных. После этого становятся доступны все ранее рассмотренные команды redis. При этом кластер сам перераспределяет хранение данных по узлам.\n",
    "<img src=\"ris1.jpeg\">"
   ]
  },
  {
   "cell_type": "markdown",
   "id": "4442ef96-bfa9-45eb-9df5-7682c816ff53",
   "metadata": {},
   "source": [
    "Как видно из рисунка, redis сам определяет, где и как хранить те, или иные значения ключей, систематически перераспределяя и реплицируя их хранение."
   ]
  },
  {
   "cell_type": "markdown",
   "id": "7b26d486-693a-478d-ba10-89a0ef3680d4",
   "metadata": {},
   "source": [
    "Для работы с Redis Cluster из python необходимо ставить библиотеку redis-py-cluster:"
   ]
  },
  {
   "cell_type": "markdown",
   "id": "9f6788c9-ed7c-484b-b55f-f75e110c20c6",
   "metadata": {},
   "source": [
    "> pip3 install redis-py-cluster"
   ]
  },
  {
   "cell_type": "markdown",
   "id": "4bc621d5-315f-4657-bcf4-9284b3288a5f",
   "metadata": {},
   "source": [
    "В качестве примера создадим небольшой скрипт, который добавляет 1000 случайных пар - ключ: значение."
   ]
  },
  {
   "cell_type": "markdown",
   "id": "2997b9a3-6c47-48da-98cf-5e726e0dc0c9",
   "metadata": {},
   "source": [
    "import uuid, rediscluster,random\n",
    "\n",
    "r=rediscluster.RedisCluster(host='localhost',port=7000)\n",
    "\n",
    "for i in range(1000):\n",
    "  r.set(str(uuid.uuid4().hex),str(random.randint(1,1000000)))"
   ]
  },
  {
   "cell_type": "markdown",
   "id": "1bc3a3b8-e6ee-4493-bbc0-511a0fc3ab7b",
   "metadata": {},
   "source": [
    "После этого с помощью команды keys * можно увидеть, как перераспределилось хранение ключей между узлами кластера."
   ]
  },
  {
   "cell_type": "markdown",
   "id": "0f9cc60a-9a5d-40e9-a6e5-56de0e454a5d",
   "metadata": {
    "tags": []
   },
   "source": [
    "## Восстановление после сбоя, шардирование, добавление нового узла, удаление узла, миграция реплик"
   ]
  },
  {
   "cell_type": "markdown",
   "id": "459285b3-ebc7-4e15-99ec-0455a5fd196b",
   "metadata": {},
   "source": [
    "### Восстановление после сбоя"
   ]
  },
  {
   "cell_type": "markdown",
   "id": "b95e0003-1f93-4915-a87f-3d63d9a8f8fa",
   "metadata": {},
   "source": [
    "Чтобы посмотреть все узлы (ноды) кластера, можно использовать следующую команду:"
   ]
  },
  {
   "cell_type": "markdown",
   "id": "eaff4220-6674-4ff0-88a1-724efca1f767",
   "metadata": {},
   "source": [
    "> redis-cli -p 7000 cluster nodes"
   ]
  },
  {
   "cell_type": "code",
   "execution_count": null,
   "id": "9f5bebef-5b51-4d77-9b22-a7fe9c7aa901",
   "metadata": {},
   "outputs": [],
   "source": []
  },
  {
   "cell_type": "markdown",
   "id": "0b5bf50a-0fe1-4ef8-976f-a61790b4cb78",
   "metadata": {},
   "source": [
    "<img src=\"ris2.jpeg\">"
   ]
  },
  {
   "cell_type": "markdown",
   "id": "192c6646-c81c-4898-89f5-bdd13f6bbdf8",
   "metadata": {},
   "source": [
    "Вывод команды CLUSTER NODES включает в себя:\n",
    "\n",
    "- Идентификатор узла;\n",
    "- IP:порт;\n",
    "- флаги: мастер, реплика, сам, сбой, ...\n",
    "- если это реплика, Node ID мастера\n",
    "- Время последнего отложенного PING, все еще ожидающего ответа.\n",
    "- Время последнего полученного PONG.\n",
    "- Эпоха конфигурации для данного узла.\n",
    "- Статус ссылки на этот узел.\n",
    "- Слоты, которые обслуживаются."
   ]
  },
  {
   "cell_type": "markdown",
   "id": "8f380b9c-b80f-4110-a309-cd84217161c7",
   "metadata": {},
   "source": [
    "Попробуем выполнить аварийный останов одного из узлов"
   ]
  },
  {
   "cell_type": "markdown",
   "id": "787d6ba8-28ed-48ff-98f3-462cf7a8a419",
   "metadata": {},
   "source": [
    "> redis-cli -p 7000 debug segfault"
   ]
  },
  {
   "cell_type": "markdown",
   "id": "e1540868-43f0-4f75-b625-57636406bd19",
   "metadata": {},
   "source": [
    "После этого мы получим автоматическую перенастройку системы:\n",
    "\n",
    "<img src=\"ris3.jpeg\">"
   ]
  },
  {
   "cell_type": "markdown",
   "id": "3268b073-559b-483c-b464-1e73a6c14ac9",
   "metadata": {},
   "source": [
    "Как видно из рисунка, узел порта 7000 находится в fail - сбое. Его функцию на себя взяла нода на порте 7005.\n",
    "\n",
    "Мы можем попытаться восстановить узел 7000, для этих целей опять перезапускает сервер на порту 7000:"
   ]
  },
  {
   "cell_type": "markdown",
   "id": "4f92f65e-21bb-4670-a4fa-3d5113bcfef2",
   "metadata": {},
   "source": [
    "> ./redis-server /7000/redis.conf"
   ]
  },
  {
   "cell_type": "markdown",
   "id": "06a8bc84-6259-42b1-9b4c-2831d4dc9371",
   "metadata": {},
   "source": [
    "После успешной настройки, можно увидеть, что теперь узел 7000 заработал в режиме slave:\n",
    "<img src=\"ris4.jpeg\">"
   ]
  },
  {
   "cell_type": "markdown",
   "id": "f3c784b0-f78c-4c92-ba90-c40e1f712db7",
   "metadata": {},
   "source": [
    "### Шардирование"
   ]
  },
  {
   "cell_type": "markdown",
   "id": "68dd3297-9cab-4357-b1a8-cbf98df44d5d",
   "metadata": {},
   "source": [
    "Сейчас данные на наших узлах хранятся так, как захотел redis. Однако, находясь на конкретном узле, мы можем потребовать, чтобы он знал больше, а не обращался за помощью к другим узлам. Для этого нужно выполнить операцию **решардинга**  - перемещение хеш-слотов из набора узлов в другой набор узлов.\n",
    "\n",
    "Для этих целей нужно выполнить следующую команду (в команде достаточно указать только порт одного узла, остальные будут найдены автоматически):"
   ]
  },
  {
   "cell_type": "markdown",
   "id": "b09133c9-4751-4d62-bfcd-1409fe179b3a",
   "metadata": {},
   "source": [
    "> redis-cli --cluster reshard 127.0.0.1:7000"
   ]
  },
  {
   "cell_type": "markdown",
   "id": "e9ea7339-41fa-4a06-b0cb-accf35731768",
   "metadata": {},
   "source": [
    "После этого нас спросят, как много слотов мы хотим перешардить:\n",
    "    \n",
    "    How many slots do you want to move (from 1 to 16384)?\n",
    "    \n",
    "Здесь нужно указать число из заданного диапазона.\n",
    "\n",
    "Следующим вопросом будет:\n",
    "\n",
    "What is the receiving node ID? (Какой идентификатор у принимающего узла?). Здесь мы должны указать  Node ID, который является мастером.\n",
    "\n",
    "Следующим вопросом будет - с каких узлов вы хотите взять эти ключи. Здесь можно набрать all, чтобы взять немного хеш-слотов со всех других мастер-узлов.\n",
    "\n",
    "После окончательного подтверждения вы увидите сообщение для каждого слота о том, что redis-cli собирается переместиться с узла на другой, и точка будет напечатана для каждого фактического ключа, перемещенного с одной стороны на другую.\n",
    "\n",
    "После подтверждения этого действия все хеш-слоты из заданного диапазона будут шардированы на заданных узел.\n",
    "\n",
    "Можно посмотреть, сколько хеш-слотов шардировано на заданный узел:"
   ]
  },
  {
   "cell_type": "markdown",
   "id": "a7fdf165-4442-45e7-b979-5192744958e5",
   "metadata": {},
   "source": [
    "> redis-cli --cluster check 127.0.0.1:7005"
   ]
  },
  {
   "cell_type": "markdown",
   "id": "11d83bc1-3a64-4831-a731-694f5982aa25",
   "metadata": {},
   "source": [
    "### Добавление нового узла"
   ]
  },
  {
   "cell_type": "markdown",
   "id": "648e968d-6d0d-42c9-91f7-64a34b29cc8f",
   "metadata": {},
   "source": [
    "Также в кластер можно добавить новый узел. Добавление нового узла — это, по сути, процесс добавления пустого узла, а затем перемещения в него некоторых данных, если это новый мастер, или указание настроить его как реплику известного узла, если это slave.\n",
    "\n",
    "\n",
    "В обоих случаях первым шагом является добавление пустого узла .\n",
    "\n",
    "Это так же просто, как запустить новый узел в порту 7006 (мы уже использовали от 7000 до 7005 для наших существующих 6 узлов) с той же конфигурацией, что и для других узлов, за исключением номера порта.\n",
    "\n",
    "После создания нового сервера, например на порту 7006, его нужно запустить.\n",
    "\n",
    "\n",
    "Теперь мы можем использовать redis-cli как обычно, чтобы добавить узел в существующий кластер."
   ]
  },
  {
   "cell_type": "markdown",
   "id": "8925e305-08ab-48da-ae41-517db8410b9a",
   "metadata": {},
   "source": [
    "> redis-cli --cluster add-node 127.0.0.1:7006 127.0.0.1:7000"
   ]
  },
  {
   "cell_type": "markdown",
   "id": "2e8a3537-d10e-4b37-ab51-a00e92f0f0ef",
   "metadata": {},
   "source": [
    "Как видно, использована команда add-node, для которой указан адрес нового узла в качестве первого аргумента и адрес случайного существующего узла в кластере в качестве второго аргумента.\n",
    "\n",
    "Теперь можно подключиться к новой ноде и увидеть, что она включена в кластер:"
   ]
  },
  {
   "cell_type": "markdown",
   "id": "a3dff02d-8ffa-493e-9a1b-5243be3b4943",
   "metadata": {},
   "source": [
    "> redis-cli -c -p 7006\n",
    "> cluster nodes"
   ]
  },
  {
   "cell_type": "markdown",
   "id": "22347373-1bdb-4ddd-972a-3dd326491579",
   "metadata": {},
   "source": [
    "<img src=\"ris5.jpeg\">"
   ]
  },
  {
   "cell_type": "markdown",
   "id": "c430f810-4812-4179-99fe-ea698a1e2be6",
   "metadata": {},
   "source": [
    "Как видно, данный узел стал master, однако у него есть особенность - он не содержит данных, поскольку ему не назначены хеш-слоты, он не участвует в процессе выбора, когда slave хочет стать мастером.\n",
    "\n",
    "Теперь этому узлу можно назначать хеш-слоты, используя функцию перешардинга redis-cli."
   ]
  },
  {
   "cell_type": "markdown",
   "id": "804261be-13f5-4371-92b8-79d0809f0d16",
   "metadata": {},
   "source": [
    "Для добавления нового узла в качестве slave, нужно использовать туже команду с параметром --cluster-slave:"
   ]
  },
  {
   "cell_type": "markdown",
   "id": "3f0883df-319c-4829-9eb2-d19fe019ba1f",
   "metadata": {},
   "source": [
    "> redis-cli --cluster add-node 127.0.0.1:7007 127.0.0.1:7000 --cluster-slave"
   ]
  },
  {
   "cell_type": "markdown",
   "id": "f85da020-48ae-4d12-b9ab-b1cf56c2e5c5",
   "metadata": {},
   "source": [
    "Посмотреть ноды кластера можно опять с помощью команды:\n",
    "\n",
    "> redis-cli -p 7000 cluster nodes"
   ]
  },
  {
   "cell_type": "markdown",
   "id": "9d50d698-d46b-4daa-a5c7-61d13ad3a5e0",
   "metadata": {},
   "source": [
    "<img src=\"ris6.jpeg\">"
   ]
  },
  {
   "cell_type": "markdown",
   "id": "12997019-231b-47c8-8927-94e598ec81f3",
   "metadata": {},
   "source": [
    "### Удаление узла"
   ]
  },
  {
   "cell_type": "markdown",
   "id": "7425430a-ca51-4acc-8fe4-87dba995f877",
   "metadata": {},
   "source": [
    "Чтобы удалить узел slave, можно использовать команду  del-node redis-cli:\n",
    "    \n",
    "> redis-cli --cluster del-node 127.0.0.1:7000 <node-id>\n",
    "\n",
    "Первый аргумент — это просто случайный узел в кластере, второй аргумент — это идентификатор узла, который требуется удалить.\n",
    "\n",
    "Таким же образом можно удалить главный узел (master), однако для удаления главного узла он должен быть пустым . Если мастер не пуст, нужно перед этим перенаправить данные с него на все остальные мастер-ноды."
   ]
  },
  {
   "cell_type": "markdown",
   "id": "484badcd-6fd7-4dd7-b1cc-8ad4b42a99c6",
   "metadata": {
    "tags": []
   },
   "source": [
    "### Миграция реплик"
   ]
  },
  {
   "cell_type": "markdown",
   "id": "fa9870c7-3689-4386-a86a-70fb579b2881",
   "metadata": {},
   "source": [
    "В Redis Cluster можно в любое время перенастроить реплику для репликации с другим мастером, просто используя следующую команду:\n",
    "\n",
    "CLUSTER REPLICATE <master-node-id>\n",
    "    \n",
    "<img src=\"ris7.jpeg\">"
   ]
  },
  {
   "cell_type": "markdown",
   "id": "3c92eb66-86b6-495d-ba10-29f046dca1d0",
   "metadata": {},
   "source": [
    "Для повышения надежности системы у нас есть возможность добавлять дополнительные реплики к каждому мастеру, но это дорого. Миграция реплик позволяет добавить больше реплик всего к нескольким мастерам. Например, у вас есть 10 мастеров с 1 репликой на каждом, всего 20 экземпляров. Однако вы добавляете, например, еще 3 экземпляра в качестве реплик некоторых из ваших мастеров, поэтому у некоторых мастеров будет более одной реплики.\n",
    "\n",
    "При переносе реплик происходит следующее: если мастер остается без реплик, реплика с мастера, имеющего несколько реплик, переносится на осиротевший мастер."
   ]
  },
  {
   "cell_type": "markdown",
   "id": "834603cc-af00-4e36-9214-37f197f91aed",
   "metadata": {
    "tags": []
   },
   "source": [
    "## Установка и настройка Docker, настройка Redis на образе Docker"
   ]
  },
  {
   "cell_type": "markdown",
   "id": "86740f08-84d3-4fa0-8244-8dd50cbb715a",
   "metadata": {
    "tags": []
   },
   "source": [
    "Для тестирования Redis удобно использовать контейнер приложений docker. Это очень похоже на виртуальную машину, но по факту намного легковеснее.\n",
    "\n",
    "Docker — это приложение, упрощающее процесс управления процессами приложения в контейнерах. Контейнеры позволяют запускать приложения в процессах с изолированными ресурсами. Они похожи на виртуальные машины, но более портативные, более эффективно расходуют ресурсы и в большей степени зависят от операционной системы хоста."
   ]
  },
  {
   "cell_type": "markdown",
   "id": "62e54674-7153-4f46-9d26-4ae64a86b5d2",
   "metadata": {},
   "source": [
    "Для установки docker в окружении Ubuntu можно выполнить следующий ряд команд:\n",
    "    \n",
    "Обновляемся из репозиториев:\n",
    "    \n",
    "    > sudo apt update\n",
    "    \n",
    "Установливаем несколько необходимых пакетов, которые позволяют apt использовать пакеты через HTTP:\n",
    "    \n",
    "    > sudo apt install apt-transport-https ca-certificates curl software-properties-common\n",
    "    \n",
    "Добавляем ключ для официального репозитория Docker в нашу систему:\n",
    "    \n",
    "    > curl -fsSL https://download.docker.com/linux/ubuntu/gpg | sudo apt-key add -\n",
    "    \n",
    "Добавляем репозиторий Docker в источники APT:\n",
    "\n",
    "> sudo add-apt-repository \"deb [arch=amd64] https://download.docker.com/linux/ubuntu focal stable\"\n",
    "\n",
    "Обновляемся:\n",
    "    \n",
    "> sudo apt update\n",
    "\n",
    "Устанавливаем Docker:\n",
    "    \n",
    "> sudo apt install docker-ce\n",
    "\n",
    "Docker должен быть установлен, демон-процесс запущен, а для процесса активирован запуск при загрузке. \n",
    "\n",
    "Можно проверить, что он запущен:\n",
    "\n",
    "> sudo systemctl status docker\n",
    "\n",
    "По умолчанию команда docker может быть запущена только пользователем root.\n",
    "\n",
    "Контейнеры Docker получают из образов Docker. По умолчанию Docker загружает эти образы из Docker Hub, реестр Docker, контролируемые Docker, т.е. компанией, реализующей проект Docker. Любой может размещать свои образы Docker на Docker Hub, поэтому большинство приложений и дистрибутивов Linux, которые вам потребуется, хранят там свои образы.\n",
    "\n",
    "Можно выполнить поиск доступных на Docker Hub образов с помощью команды search. Например, чтобы найти образ Ubuntu:\n",
    "\n",
    "> docker search ubuntu\n",
    "\n",
    "Запустите следующую команду, чтобы загрузить официальный образ ubuntu на свой компьютер:\n",
    "\n",
    "> docker pull ubuntu\n",
    "\n",
    "После того как образ будет загружен, вы сможете запустить контейнер с помощью загруженного образа с помощью субкоманды run. В качестве примера мы запустим контейнер с самым последним образом образ Ubuntu. Сочетание переключателей -i и -t предоставляет вам доступ к интерактивной командной оболочке внутри контейнера:\n",
    "\n",
    "> docker run -it ubuntu\n",
    "\n",
    "Чтобы просмотреть образы, которые были загружены на ваш компьютер, можно ввести:\n",
    "\n",
    "> docker images\n",
    "\n",
    "Чтобы посмотреть список запущенных и неактивных контейнеров, можно использовать команду:\n",
    "\n",
    "> docker ps -a\n",
    "\n",
    "\n",
    "<img src=\"ris8.jpeg\">\n"
   ]
  },
  {
   "cell_type": "markdown",
   "id": "e4710a31-5a80-41dc-a64b-ab49c0faf941",
   "metadata": {},
   "source": [
    "Чтобы запустить остановленный контейнер, воспользуйтесь docker start с идентификатором контейнера или именем контейнера. Давайте запустим контейнер на базе Ubuntu с идентификатором:\n",
    "\n",
    "> docker start ad81da227226\n",
    "\n",
    "Чтобы остановить запущенный контейнер, используйте docker stop с идентификатором или именем контейнера. \n",
    "\n",
    "> docker stop ad81da227226\n",
    "\n",
    "После того как вы решили, что вам больше не потребуется контейнер, удалите его с помощью команды docker rm, снова добавив идентификатор контейнера или его имя.\n",
    "\n",
    "> docker rm ad81da227226"
   ]
  },
  {
   "cell_type": "markdown",
   "id": "40000da1-71d4-4b52-8cd2-223a52dd9e29",
   "metadata": {},
   "source": [
    "После запуска контейнера Вы имеете полный доступ к Ubuntu из командной строки, реализуя стандартные способы установки программного обеспечения, в том числе и redis."
   ]
  }
 ],
 "metadata": {
  "kernelspec": {
   "display_name": "Python 3 (ipykernel)",
   "language": "python",
   "name": "python3"
  },
  "language_info": {
   "codemirror_mode": {
    "name": "ipython",
    "version": 3
   },
   "file_extension": ".py",
   "mimetype": "text/x-python",
   "name": "python",
   "nbconvert_exporter": "python",
   "pygments_lexer": "ipython3",
   "version": "3.8.10"
  }
 },
 "nbformat": 4,
 "nbformat_minor": 5
}
