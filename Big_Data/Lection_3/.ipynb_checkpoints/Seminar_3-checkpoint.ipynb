{
 "cells": [
  {
   "cell_type": "markdown",
   "id": "c9347568-5016-4f6e-8209-45e0f4ce067e",
   "metadata": {},
   "source": [
    "# Семинар 2. Развертывание кластера Redis"
   ]
  },
  {
   "cell_type": "markdown",
   "id": "46452f2f-38b1-42ba-8715-b9cbf1bd8d8f",
   "metadata": {},
   "source": [
    "1. Установить docker, запустить образ Ubuntu.\n",
    "2. Развернуть кластер из 9 компьютеров, по две реплики на мастер.\n",
    "3. Залить на сервер базу данных с 1 семинара.\n",
    "4. Смоделировать сбои в работе кластера, проследить за адаптацией кластера."
   ]
  },
  {
   "cell_type": "code",
   "execution_count": null,
   "id": "d0b54a1d-9c06-4bd6-9a67-57f124b6fcd0",
   "metadata": {},
   "outputs": [],
   "source": []
  }
 ],
 "metadata": {
  "kernelspec": {
   "display_name": "Python 3 (ipykernel)",
   "language": "python",
   "name": "python3"
  },
  "language_info": {
   "codemirror_mode": {
    "name": "ipython",
    "version": 3
   },
   "file_extension": ".py",
   "mimetype": "text/x-python",
   "name": "python",
   "nbconvert_exporter": "python",
   "pygments_lexer": "ipython3",
   "version": "3.8.10"
  }
 },
 "nbformat": 4,
 "nbformat_minor": 5
}
