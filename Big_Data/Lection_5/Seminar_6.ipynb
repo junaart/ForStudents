{
 "cells": [
  {
   "cell_type": "markdown",
   "id": "dd348425-0f4c-4640-8bcf-f41ddf1f21ed",
   "metadata": {},
   "source": [
    "# Семинар 6. Конфигурирование MongoDB"
   ]
  },
  {
   "cell_type": "markdown",
   "id": "80df7173-4b0b-4ccb-aae4-21be209b3632",
   "metadata": {},
   "source": [
    "1. Установить на локальный компьютер MongoDB.\n",
    "\n",
    "2. Запустить сервер, произвести тестовое подключение\n",
    "\n",
    "3. Из реляционой БД MySQL \"monitor_vuz_2014\" прочитать таблицу \"region\" и импортировать ее в виде документа в коллекцию MongoDB.\n",
    "\n",
    "4. Построить репликацию хранилища из одного сервера и трех реплик. Выполнить п.3 на реплицированном хранилище.\n",
    "\n",
    "5. Смоделировать выход из строя третьей реплики и главного сервера. "
   ]
  },
  {
   "cell_type": "code",
   "execution_count": 3,
   "id": "9effeccc-0cf2-4980-835f-d65d3f40a576",
   "metadata": {},
   "outputs": [],
   "source": [
    "import pymysql\n",
    "sqlcon = pymysql.connect(host='localhost',user='juna',password='2',db=\"monitor_vuz\")\n",
    "curs = sqlcon.cursor()"
   ]
  },
  {
   "cell_type": "code",
   "execution_count": 4,
   "id": "fad64bd3-37bb-4402-9881-2203f2167b4e",
   "metadata": {},
   "outputs": [
    {
     "name": "stdout",
     "output_type": "stream",
     "text": [
      "['id', 'name', 'okrug_id']\n"
     ]
    }
   ],
   "source": [
    "curs.execute(\"describe region\")\n",
    "descr = curs.fetchall()\n",
    "collsnames = [d[0] for d in descr]\n",
    "print(collsnames)"
   ]
  },
  {
   "cell_type": "code",
   "execution_count": 5,
   "id": "c2a84e72-3bed-4a00-97c0-504653cf4dd9",
   "metadata": {},
   "outputs": [
    {
     "name": "stdout",
     "output_type": "stream",
     "text": [
      "(('id', 'int', 'NO', 'PRI', None, 'auto_increment'), ('name', 'varchar(200)', 'YES', '', None, ''), ('okrug_id', 'int', 'NO', 'MUL', None, ''))\n"
     ]
    }
   ],
   "source": [
    "print(descr)"
   ]
  },
  {
   "cell_type": "code",
   "execution_count": 6,
   "id": "5be72b1d-c34b-4b4e-9ec3-4e730fac0b04",
   "metadata": {},
   "outputs": [
    {
     "name": "stdout",
     "output_type": "stream",
     "text": [
      "(1, 'Амурская область', 1)\n",
      "(2, 'Еврейская автономная область', 1)\n",
      "(3, 'Камчатский край', 1)\n",
      "(4, 'Магаданская область', 1)\n",
      "(5, 'Приморский край', 1)\n",
      "(6, 'Республика Саха (Якутия)', 1)\n",
      "(7, 'Сахалинская область', 1)\n",
      "(8, 'Хабаровский край', 1)\n",
      "(9, 'Чукотский автономный округ', 1)\n",
      "(10, 'Кировская область', 2)\n",
      "(11, 'Нижегородская область', 2)\n",
      "(12, 'Оренбургская область', 2)\n",
      "(13, 'Пензенская область', 2)\n",
      "(14, 'Пермский край', 2)\n",
      "(15, 'Республика Башкортостан', 2)\n",
      "(16, 'Республика Марий Эл', 2)\n",
      "(17, 'Республика Мордовия', 2)\n",
      "(18, 'Республика Татарстан', 2)\n",
      "(19, 'Самарская область', 2)\n",
      "(20, 'Саратовская область', 2)\n",
      "(21, 'Удмуртская Республика', 2)\n",
      "(22, 'Ульяновская область', 2)\n",
      "(23, 'Чувашская Республика', 2)\n",
      "(24, 'Архангельская область', 3)\n",
      "(25, 'Вологодская область', 3)\n",
      "(26, 'Калининградская область', 3)\n",
      "(27, 'Ленинградская область', 3)\n",
      "(28, 'Мурманская область', 3)\n",
      "(29, 'Ненецкий автономный округ', 3)\n",
      "(30, 'Новгородская область', 3)\n",
      "(31, 'Псковская область', 3)\n",
      "(32, 'Республика Карелия', 3)\n",
      "(33, 'Республика Коми', 3)\n",
      "(34, 'г.Санкт-Петербург', 3)\n",
      "(35, 'Ингушская Республика', 4)\n",
      "(36, 'Кабардино-Балкарская Республика', 4)\n",
      "(37, 'Карачаево-Черкесская Республика', 4)\n",
      "(38, 'Республика Дагестан', 4)\n",
      "(39, 'Республика Северная Осетия-Алания', 4)\n",
      "(40, 'Ставропольский край', 4)\n",
      "(41, 'Чеченская Республика', 4)\n",
      "(42, 'Алтайский край', 5)\n",
      "(43, 'Забайкальский край', 5)\n",
      "(44, 'Иркутская область', 5)\n",
      "(45, 'Кемеровская область', 5)\n",
      "(46, 'Красноярский край', 5)\n",
      "(47, 'Новосибирская область', 5)\n",
      "(48, 'Омская область', 5)\n",
      "(49, 'Республика Алтай', 5)\n",
      "(50, 'Республика Бурятия', 5)\n",
      "(51, 'Республика Тыва', 5)\n",
      "(52, 'Республика Хакасия', 5)\n",
      "(53, 'Томская область', 5)\n",
      "(54, 'Курганская область', 6)\n",
      "(55, 'Свердловская область', 6)\n",
      "(56, 'Тюменская область', 6)\n",
      "(57, 'Ханты-Мансийский автономный округ', 6)\n",
      "(58, 'Челябинская область', 6)\n",
      "(59, 'Ямало-Ненецкий автономный округ', 6)\n",
      "(60, 'Белгородская область', 7)\n",
      "(61, 'Брянская область', 7)\n",
      "(62, 'Владимирская область', 7)\n",
      "(63, 'Воронежская область', 7)\n",
      "(64, 'Ивановская область', 7)\n",
      "(65, 'Калужская область', 7)\n",
      "(66, 'Костромская область', 7)\n",
      "(67, 'Курская область', 7)\n",
      "(68, 'Липецкая область', 7)\n",
      "(69, 'Московская область', 7)\n",
      "(70, 'Орловская область', 7)\n",
      "(71, 'Рязанская область', 7)\n",
      "(72, 'Смоленская область', 7)\n",
      "(73, 'Тамбовская область', 7)\n",
      "(74, 'Тверская область', 7)\n",
      "(75, 'Тульская область', 7)\n",
      "(76, 'Ярославская область', 7)\n",
      "(77, 'г.Москва', 7)\n",
      "(78, 'Астраханская область', 8)\n",
      "(79, 'Волгоградская область', 8)\n",
      "(80, 'Краснодарский край', 8)\n",
      "(81, 'Республика Адыгея', 8)\n",
      "(82, 'Республика Калмыкия', 8)\n",
      "(83, 'Ростовская область', 8)\n"
     ]
    }
   ],
   "source": [
    "curs.execute('select * from region;')\n",
    "data = curs.fetchall()\n",
    "for d in data:\n",
    "    print(d)"
   ]
  },
  {
   "cell_type": "code",
   "execution_count": 12,
   "id": "86cc2edd-0494-46ae-96ef-823c66676e2b",
   "metadata": {},
   "outputs": [
    {
     "name": "stdout",
     "output_type": "stream",
     "text": [
      "MongoClient(host=['localhost:27017'], document_class=dict, tz_aware=False, connect=True)\n"
     ]
    }
   ],
   "source": [
    "import pymongo\n",
    "mcon = pymongo.MongoClient(\"localhost\",27017)\n",
    "print(mcon)"
   ]
  },
  {
   "cell_type": "code",
   "execution_count": 13,
   "id": "5631f4d3-6f36-4fed-8b55-7b0f52154ce7",
   "metadata": {},
   "outputs": [
    {
     "name": "stdout",
     "output_type": "stream",
     "text": [
      "Database(MongoClient(host=['localhost:27017'], document_class=dict, tz_aware=False, connect=True), 'test')\n"
     ]
    }
   ],
   "source": [
    "dbname='test'\n",
    "db = mcon[dbname]\n",
    "print(db)"
   ]
  },
  {
   "cell_type": "code",
   "execution_count": 14,
   "id": "03f072e4-f1cc-46b9-bc09-5753371db423",
   "metadata": {},
   "outputs": [
    {
     "name": "stdout",
     "output_type": "stream",
     "text": [
      "Collection(Database(MongoClient(host=['localhost:27017'], document_class=dict, tz_aware=False, connect=True), 'test'), 'region')\n"
     ]
    }
   ],
   "source": [
    "collectionname = \"region\"\n",
    "collection = db[collectionname]\n",
    "print(collection)"
   ]
  },
  {
   "cell_type": "code",
   "execution_count": 15,
   "id": "8b0b7c8f-2850-4e47-b2d0-819300b3a025",
   "metadata": {},
   "outputs": [],
   "source": [
    "for d in data:\n",
    "    collection.insert_one({k:v for (k,v) in zip(collsnames,d)})"
   ]
  },
  {
   "cell_type": "markdown",
   "id": "5744e5fc-2a66-4ab6-ba94-9fe9e803a14d",
   "metadata": {},
   "source": [
    "4. Произвести замену в документе region атрибута okrug_id с номера на название из реляционной таблицы okrug."
   ]
  },
  {
   "cell_type": "code",
   "execution_count": 16,
   "id": "f7d66ffd-6ecb-435b-a533-7b08c6dc8c49",
   "metadata": {},
   "outputs": [
    {
     "name": "stdout",
     "output_type": "stream",
     "text": [
      "['id', 'name']\n"
     ]
    }
   ],
   "source": [
    "curs.execute('describe okrug;')\n",
    "res = curs.fetchall()\n",
    "regcolls = [d[0] for d in res]\n",
    "print(regcolls)"
   ]
  },
  {
   "cell_type": "code",
   "execution_count": 17,
   "id": "4e38484e-eda2-4a04-91f0-ccb0c2dc78f0",
   "metadata": {},
   "outputs": [
    {
     "name": "stdout",
     "output_type": "stream",
     "text": [
      "(1, 'Дальневосточный федеральный округ')\n"
     ]
    }
   ],
   "source": [
    "curs.execute('select * from okrug;')\n",
    "regdata = curs.fetchall()\n",
    "print(regdata[0])"
   ]
  },
  {
   "cell_type": "code",
   "execution_count": 20,
   "id": "5d1acf65-8014-4b47-9a88-981c53127e88",
   "metadata": {},
   "outputs": [],
   "source": [
    "for d in regdata:\n",
    "    collection.update_many({\"okrug_id\":d[0]},{\"$set\":{\"okrug_id\":d[1]}})"
   ]
  },
  {
   "cell_type": "code",
   "execution_count": 19,
   "id": "fd978543-1e97-4370-ae24-88fc8662d9ae",
   "metadata": {},
   "outputs": [
    {
     "data": {
      "text/plain": [
       "((1, 'Дальневосточный федеральный округ'),\n",
       " (2, 'Приволжский федеральный округ'),\n",
       " (3, 'Северо-Западный федеральный округ'),\n",
       " (4, 'Северо-Кавказский федеральный округ'),\n",
       " (5, 'Сибирский федеральный округ'),\n",
       " (6, 'Уральский федеральный округ'),\n",
       " (7, 'Центральный федеральный округ'),\n",
       " (8, 'Южный федеральный округ'))"
      ]
     },
     "execution_count": 19,
     "metadata": {},
     "output_type": "execute_result"
    }
   ],
   "source": [
    "regdata"
   ]
  },
  {
   "cell_type": "code",
   "execution_count": null,
   "id": "f4bb51cd-cdba-4891-aa2b-975184d02a80",
   "metadata": {},
   "outputs": [],
   "source": []
  }
 ],
 "metadata": {
  "kernelspec": {
   "display_name": "Python 3 (ipykernel)",
   "language": "python",
   "name": "python3"
  },
  "language_info": {
   "codemirror_mode": {
    "name": "ipython",
    "version": 3
   },
   "file_extension": ".py",
   "mimetype": "text/x-python",
   "name": "python",
   "nbconvert_exporter": "python",
   "pygments_lexer": "ipython3",
   "version": "3.8.10"
  }
 },
 "nbformat": 4,
 "nbformat_minor": 5
}
