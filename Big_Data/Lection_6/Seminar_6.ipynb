{
 "cells": [
  {
   "cell_type": "markdown",
   "id": "db8c5d36-f483-4824-8fcf-e6479701058a",
   "metadata": {},
   "source": [
    "# Семинар 7. Сегментация в MongoDB"
   ]
  },
  {
   "cell_type": "markdown",
   "id": "a39a6799-dade-4ae8-8a13-67c346bb4168",
   "metadata": {},
   "source": [
    "1. Построить кластер, состоящий из 2-х сегментов по 3 реплики в каждом, с 3 конфигурационными серверами и одним маршрутизатором. \n",
    "\n",
    "Порты: \n",
    "       \n",
    "       20000 - 20004 - сегмент A\n",
    "     \n",
    "       20100 - 20104 - сегмент B\n",
    "       \n",
    "       30000 - 30002 - conf.server\n",
    "       \n",
    "       50000 - маршрутизатор\n",
    "       \n",

    "2. Создать базу данных MyDB и коллекцию MyFunc, разрешить их шардирование и записать в MyFunc значения функции в заданном диапазоне, определив необходимые поля документа {\"name\":variant, x: value, y: value}\n",
    "\n",
    "|Вариант|Функция|Диапазон|\n",
    "|--------|--------|--------|\n",
    "|variant_1|$$y(x) = \\frac{\\sin(x)}{\\sqrt{x^3+1}}$$|$$x\\in[0,200], h = 0.05$$|\n",
    "|variant_2|$$y(x) = \\frac{\\cos(x)}{\\sqrt{x^2+1}}$$|$$x\\in[-100,100], h = 0.05$$|"
   ]
  },
  {
   "cell_type": "code",
   "execution_count": null,
   "id": "91eb4628-f55c-421d-a110-f920aa97acf0",
   "metadata": {},
   "outputs": [],
   "source": []
  }
 ],
 "metadata": {
  "kernelspec": {
   "display_name": "Python 3 (ipykernel)",
   "language": "python",
   "name": "python3"
  },
  "language_info": {
   "codemirror_mode": {
    "name": "ipython",
    "version": 3
   },
   "file_extension": ".py",
   "mimetype": "text/x-python",
   "name": "python",
   "nbconvert_exporter": "python",
   "pygments_lexer": "ipython3",
   "version": "3.8.10"
  }
 },
 "nbformat": 4,
 "nbformat_minor": 5
}
