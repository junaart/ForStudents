{
 "cells": [
  {
   "cell_type": "markdown",
   "id": "6a492b06-b64f-457f-8db3-91fcef71cd65",
   "metadata": {},
   "source": [
    "**Книги из домашней библиотеки**\n",
    "\n",
    "1. [Обработка больших данных](../../../MyLibrary/Books/58036642331387763061118999335355799905.pdf)\n",
    "2. [Принципы организации распределенных баз данных](../../../MyLibrary/Books/213343108879090418041951873493724096221.pdf)\n",
    "3. [Основы Big Data. Концепции, алгоритмы, технологии](../../../MyLibrary/Books/188155454919529843264817656225624187285.pdf)\n",
    "4. [MongoDB в действии](../../../MyLibrary/Books/228016922696854277851391175730804602777.pdf)\n",
    "5. [Hadoop: The Definitive Guide](../../../MyLibrary/Books/213343108879090418041951873493724096221.pdf)"
   ]
  },
  {
   "cell_type": "code",
   "execution_count": null,
   "id": "447c8f2d-0c08-4387-b4fe-910eb415a655",
   "metadata": {},
   "outputs": [],
   "source": []
  }
 ],
 "metadata": {
  "kernelspec": {
   "display_name": "Python 3 (ipykernel)",
   "language": "python",
   "name": "python3"
  },
  "language_info": {
   "codemirror_mode": {
    "name": "ipython",
    "version": 3
   },
   "file_extension": ".py",
   "mimetype": "text/x-python",
   "name": "python",
   "nbconvert_exporter": "python",
   "pygments_lexer": "ipython3",
   "version": "3.8.10"
  }
 },
 "nbformat": 4,
 "nbformat_minor": 5
}
