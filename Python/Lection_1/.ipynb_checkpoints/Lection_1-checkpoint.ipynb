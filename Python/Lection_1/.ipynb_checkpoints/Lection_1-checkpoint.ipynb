{
 "cells": [
  {
   "cell_type": "markdown",
   "id": "d0ef1033",
   "metadata": {},
   "source": [
    "<H1>Лекция 1. Введение в язык программирования Python</H1> "
   ]
  },
  {
   "cell_type": "markdown",
   "id": "7a9d41e4",
   "metadata": {},
   "source": [
    "<p align=\"justify\">В настоящее время для анализа данных используют в основном два языка: язык статистических вычислений <a src=\"https://ru.wikipedia.org/wiki/R_(%D1%8F%D0%B7%D1%8B%D0%BA_%D0%BF%D1%80%D0%BE%D0%B3%D1%80%D0%B0%D0%BC%D0%BC%D0%B8%D1%80%D0%BE%D0%B2%D0%B0%D0%BD%D0%B8%D1%8F)\">R</a>, а также язык общего назначения <a src=\"https://ru.wikipedia.org/wiki/Python\">Python</a>. </p>\n",
    "\n",
    "<p align=\"justify\">Мы будем изучать python, во-первых, потому, что это больше отвечает программистской специфике, во-вторых, потому, что за последние несколько десятилетий язык программирования python превратился в первоклассный инструмент для научных вычислений, включая анализ и визуализацию больших наборов данных. Эта ситуация возникла в некоторой степени случайно, поскольку  сам по себе этот язык не был создан в расчете на анализ данных или научные вычисления. Однако был нужен гибкий инструмент, в качестве которого постепенно и выбрали python. В основном все преимущества python  в этом направлении связаны с наличием большой и активно развивающейся экосистемы пакетов, созданных сторонними разработчиками.</p> \n"
   ]
  },
  {
   "cell_type": "markdown",
   "id": "80c8b587",
   "metadata": {},
   "source": [
    "Перечислим основные ключевые библиотеки:\n",
    "<ul>\n",
    "<li>библиотека NumPy — для работы с однородными данными в виде массивов;</li>\n",
    "<li>библиотека Pandas — для работы с неоднородными и поименованными данными;</li>\n",
    "<li>библиотека SciPy — для общих научных вычислительных задач;</li>\n",
    "<li>библиотека Matplotlib — для визуализаций типографского качества;</li>\n",
    "<li>оболочки IPython, jupyter — для интерактивного выполнения и совместного использования кода;</li>\n",
    "    <li>библиотека Scikit-Learn — для машинного обучения и множества других инструментов.</li>\n",
    "</ul>\n",
    "\n",
    "В ходе нашего курса мы будем знакомиться с этими инструментами."
   ]
  },
  {
   "cell_type": "markdown",
   "id": "a440b119",
   "metadata": {},
   "source": [
    "<h2>Краткий FAQ (часто задаваемые вопросы) по Python</h2>"
   ]
  },
  {
   "cell_type": "markdown",
   "id": "9cc5210f",
   "metadata": {},
   "source": [
    "О чем нужно получить представление, чтобы быстро освоить новый язык программирования? \n",
    "Вот кратких перечень вопросов для рассмотрения, непретендующий на полноту:\n",
    "<ul>\n",
    "  <li> История возникновения языка программирования. Общие вопросы </li>\n",
    "  <li> Основные структуры данных, переменные, присваивания, сравнения </li>\n",
    "  <li> Вывод, ввод данных в языке программирования</li>\n",
    "  <li> Реализация операторов ветвления </li>\n",
    "  <li> Реализация операторов цикла </li>\n",
    "  <li> Реализация функций и процедур </li>\n",
    "  <li> Обзор поддерживаемых парадигм программирования </li>\n",
    "  <li> Обзор существующих библиотек в языке программирования </li>\n",
    "  <li> Практика создания консольного приложения  </li>\n",
    "  <li> Практика создания приложения с графическим интерфейсом (GUI) </li>\n",
    "  <li> Практика создания web-приложения </li>\n",
    "</ul>"
   ]
  },
  {
   "cell_type": "markdown",
   "id": "64e7befa",
   "metadata": {},
   "source": [
    "<h3>История возникновения Python</h3>"
   ]
  },
  {
   "cell_type": "markdown",
   "id": "418a2c3c",
   "metadata": {},
   "source": [
    "<p><a src=\"https://ru.wikipedia.org/wiki/Python\">Python([пайтен], рус. Питон)</a>— скриптовый язык программирования, созданный голландским программистом Гвидо ван Россумом  в 1991 году (покинув в декабре 2012 года корпорацию Google, с 2013 года работал в компании Dropbox Inc, выйдя на пенсию в 2019). Назван так, по словам самого Гвидо, в честь шоу Monty Python. Наиболее знаменитая отличительная черта языка — использование отступов для выделения блоков кода и управляющих структур.</p>\n",
    "\n",
    "<p><a src=\"http://python.org\">Официальный сайт</a></p>"
   ]
  },
  {
   "cell_type": "markdown",
   "id": "88d6ea98",
   "metadata": {},
   "source": [
    "Основные особенности языка:\n",
    "<ul>\n",
    "<li>Интерпретируемый</li>\n",
    "<li>Общего назначения (<a src=\"https://ru.wikipedia.org/wiki/\\%D0\\%A1\\%D1\\%80\\%D0\\%B0\\%D0\\%B2\\%D0\\%BD\\%D0\\%B5\\%D0\\%BD\\%D0\\%B8\\%D0\\%B5_\\%D1\\%8F\\%D0\\%B7\\%D1\\%8B\\%D0\\%BA\\%D0\\%BE\\%D0\\%B2_\\%D0\\%BF\\%D1\\%80\\%D0\\%BE\\%D0\\%B3\\%D1\\%80\\%D0\\%B0\\%D0\\%BC\\%D0\\%BC\\%D0\\%B8\\%D1\\%80\\%D0\\%BE\\%D0\\%B2\\%D0\\%B0\\%D0\\%BD\\%D0\\%B8\\%D1\\%8F\">cравнение языков программирования</a>)</li>\n",
    "    <li>Динамическая типизация</li>\n",
    "<li>Объектно-ориентированный</li>\n",
    "<li>Сборка мусор</li>\n",
    "</ul>"
   ]
  },
  {
   "cell_type": "markdown",
   "id": "e8d82643",
   "metadata": {},
   "source": [
    "Несколько тематических рисунков:\n",
    "<figure>\n",
    "    <img src=\"logo.jpg\" height=\"250\" width=\"200\">\n",
    "    <figcaption><b>Так выглядит логотип</b></figcaption>\n",
    "</figure>\n",
    "<figure>\n",
    "    <img src=\"Guido.jpg\" height=\"250\" width=\"200\">\n",
    "    <figcaption><b>А так Гвидо ван Россум в 2006 году</b></figcaption>\n",
    "</figure>\n"
   ]
  },
  {
   "cell_type": "markdown",
   "id": "8f892312",
   "metadata": {},
   "source": [
    "Важно знать, что в настоящий момент существует две версии языка python: python 2.7, python 3.6.x. \n",
    "Дело в том, что в 2008 году новая версия python 3 не смогла полностью сохранить совместимость с предыдущей версией python 2, хотя и максимально старалась.\n",
    "Поддержка Python 2 была сохранена для уже существующих проектов, пока все они не будут портированы в Python 3, новые проекты должны были использовать Python 3. Мы будем изучать Python 3.\n",
    "\n",
    "    "
   ]
  },
  {
   "cell_type": "markdown",
   "id": "144e7a77",
   "metadata": {},
   "source": [
    "<h3>Работа c интерпретатором в консоле</h3>"
   ]
  },
  {
   "cell_type": "markdown",
   "id": "eaf7b9f6",
   "metadata": {},
   "source": [
    "<figure>\n",
    "    <img src=\"Python_2.jpg\" height=\"700\" width=\"600\">\n",
    "    <figcaption><b>запуск Python2</b></figcaption>\n",
    "</figure>"
   ]
  },
  {
   "cell_type": "markdown",
   "id": "f87b5f5f",
   "metadata": {},
   "source": [
    "<figure>\n",
    "    <img src=\"Python_3.jpg\" height=\"700\" width=\"600\">\n",
    "    <figcaption><b>запуск Python3</b></figcaption>\n",
    "</figure>"
   ]
  },
  {
   "cell_type": "markdown",
   "id": "24f8d3a9",
   "metadata": {},
   "source": [
    "Для начала можно попробовать использовать консоль, однако в дальнейшем удобно использовать подходящую среду.\n"
   ]
  },
  {
   "cell_type": "markdown",
   "id": "cc795e16",
   "metadata": {},
   "source": [
    "После установки python можно поставить jupyter, который является web-версией среды ipython. \n",
    "Можно также поставить ipython."
   ]
  },
  {
   "cell_type": "markdown",
   "id": "208e856d",
   "metadata": {},
   "source": [
    "Оболочка IPython является полезным интерактивным интерфейсом для языка Python и имеет несколько удобных синтаксических дополнений к нему. \n",
    "Кроме этого, оболочка IPython тесно связана с проектом Jupiter ( http://jupyter.org/ ), предоставляющим своеобразный блокнот (текстовый редактор) для браузера, удобный для разработки, совместной работы и использования ресурсов, а также для публикации научных результатов. Блокнот оболочки IPython, по сути, частный случай более общей структуры блокнота Jupiter, включающего блокноты для Julia, R и других языков программирования."
   ]
  },
  {
   "cell_type": "markdown",
   "id": "a0bf9a44",
   "metadata": {},
   "source": [
    "Материал данного семинара как раз набран в jupyter. Отметим, что расширение блокнота .ipynb jupyter понимает github и корректно его воспроизводит как html документ."
   ]
  },
  {
   "cell_type": "markdown",
   "id": "c8377d48",
   "metadata": {},
   "source": [
    "Чтобы установить jupyter удобно использовать пакетный менеджер python3, который называется pip3.\n",
    "В Windows, после установки python3, pip3 должен находиться в папке, где установлен python, например, \n",
    "C:\\Python34\\Scripts "
   ]
  },
  {
   "cell_type": "markdown",
   "id": "f1d15f09",
   "metadata": {},
   "source": [
    "После этого установка jupyter возможна командой:\n",
    "    <p><b>pip3 install jupyter</b></p>"
   ]
  },
  {
   "cell_type": "markdown",
   "id": "6f78aa61",
   "metadata": {},
   "source": [
    "Чтобы запустить jupyter, следует использовать команду:\n",
    "    <p><b>jupyter notebook</b></p>"
   ]
  },
  {
   "cell_type": "markdown",
   "id": "3fd6ee60",
   "metadata": {},
   "source": [
    "В этом случае происходит запуск браузера по умолчанию с сервером, работающем на порту 8888. Подключиться к серверу из браузера можно в ручном режиме, набрав в адресной строке:\n",
    "    <p><b>localhost:8888</b></p>"
   ]
  },
  {
   "cell_type": "markdown",
   "id": "90fde238",
   "metadata": {},
   "source": [
    "Другой вариант использования python для анализа данных - это  <b>Anaconda</b> (https://www.anaconda.com/), которая включает интерпретатор Python и утилиту conda, а также набор предустановленных пакетов, ориентированных\n",
    "на научные вычисления. "
   ]
  },
  {
   "cell_type": "markdown",
   "id": "3ed41c57",
   "metadata": {},
   "source": [
    "Сам по себе ipython, а в след за ним и jupyter имеет некоторые расширенные возможности:\n",
    "* использование знака ? после команды помогает получить справку;\n",
    "* использование знака ?? после команды, функции дает исходный код команды (если она реализована на python);\n",
    "* использование табуляции <TAB> позволяет узнать о методах объекта.\n",
    "Рассмотрим примеры:"
   ]
  },
  {
   "cell_type": "code",
   "execution_count": 11,
   "id": "c1573a4f",
   "metadata": {},
   "outputs": [],
   "source": [
    "len?"
   ]
  },
  {
   "cell_type": "code",
   "execution_count": 14,
   "id": "fe496776",
   "metadata": {},
   "outputs": [],
   "source": [
    "def f(x):\n",
    "    \"\"\"Функция увеличивает аргумент на 1\"\"\"\n",
    "    return x+1\n",
    "f??"
   ]
  },
  {
   "cell_type": "code",
   "execution_count": 17,
   "id": "5cde24e6",
   "metadata": {},
   "outputs": [],
   "source": [
    "L=[1,2,3]"
   ]
  },
  {
   "cell_type": "markdown",
   "id": "ccd740a5",
   "metadata": {},
   "source": [
    "### Основные структуры данных"
   ]
  },
  {
   "cell_type": "markdown",
   "id": "8de1980a",
   "metadata": {},
   "source": [
    "#### Числа"
   ]
  },
  {
   "cell_type": "markdown",
   "id": "6ccf61e1",
   "metadata": {},
   "source": [
    "Типы чисел:\n",
    "    \n",
    "    Целые числа (int,long) - положительные и отрицательные, а также нуль (например, 4, -8, 0, 7).\n",
    "    Примеры:"
   ]
  },
  {
   "cell_type": "code",
   "execution_count": 3,
   "id": "32394d40",
   "metadata": {},
   "outputs": [
    {
     "data": {
      "text/plain": [
       "0.10313075506445672"
      ]
     },
     "execution_count": 3,
     "metadata": {},
     "output_type": "execute_result"
    }
   ],
   "source": [
    "int('56')/int('543')\n"
   ]
  },
  {
   "cell_type": "code",
   "execution_count": 21,
   "id": "5b40fcac",
   "metadata": {},
   "outputs": [
    {
     "data": {
      "text/plain": [
       "14"
      ]
     },
     "execution_count": 21,
     "metadata": {},
     "output_type": "execute_result"
    }
   ],
   "source": [
    "int(5.6)+int(9.8)"
   ]
  },
  {
   "cell_type": "markdown",
   "id": "0c318a60",
   "metadata": {},
   "source": [
    " long('26786786876786857644')=26786786876786857644L (для python2)"
   ]
  },
  {
   "cell_type": "markdown",
   "id": "ecf784f4",
   "metadata": {},
   "source": [
    "Вещественные числа (float) - положительные и отрицательные числа с плавающей точкой (например, 4.5, 3.0, 3.14).\n",
    "\n",
    "Примеры:"
   ]
  },
  {
   "cell_type": "code",
   "execution_count": 6,
   "id": "1dcfb505",
   "metadata": {},
   "outputs": [
    {
     "data": {
      "text/plain": [
       "875.0"
      ]
     },
     "execution_count": 6,
     "metadata": {},
     "output_type": "execute_result"
    }
   ],
   "source": [
    "float('875')"
   ]
  },
  {
   "cell_type": "code",
   "execution_count": 9,
   "id": "9492afbe",
   "metadata": {},
   "outputs": [
    {
     "data": {
      "text/plain": [
       "3.492849839314596"
      ]
     },
     "execution_count": 9,
     "metadata": {},
     "output_type": "execute_result"
    }
   ],
   "source": [
    "float('12.2')**float('0.5')"
   ]
  },
  {
   "cell_type": "code",
   "execution_count": 24,
   "id": "661ceba5",
   "metadata": {},
   "outputs": [
    {
     "data": {
      "text/plain": [
       "42.0"
      ]
     },
     "execution_count": 24,
     "metadata": {},
     "output_type": "execute_result"
    }
   ],
   "source": [
    "float('6e-2')*float('7e2')"
   ]
  },
  {
   "cell_type": "markdown",
   "id": "d8c80c0d",
   "metadata": {},
   "source": [
    "Комплексные числа (complex) - числа вида a+b*i, где a,b - любые целые или вещественные числа, i - комплексная единица."
   ]
  },
  {
   "cell_type": "code",
   "execution_count": 10,
   "id": "d4bf00f4",
   "metadata": {},
   "outputs": [
    {
     "data": {
      "text/plain": [
       "(6+6j)"
      ]
     },
     "execution_count": 10,
     "metadata": {},
     "output_type": "execute_result"
    }
   ],
   "source": [
    "complex(6,6)"
   ]
  },
  {
   "cell_type": "code",
   "execution_count": 26,
   "id": "d92e4057",
   "metadata": {},
   "outputs": [
    {
     "data": {
      "text/plain": [
       "(3.2+1j)"
      ]
     },
     "execution_count": 26,
     "metadata": {},
     "output_type": "execute_result"
    }
   ],
   "source": [
    "complex('3.2+1j')"
   ]
  },
  {
   "cell_type": "code",
   "execution_count": 12,
   "id": "3049a549",
   "metadata": {},
   "outputs": [
    {
     "data": {
      "text/plain": [
       "(3768708.024609277-13742697.381286005j)"
      ]
     },
     "execution_count": 12,
     "metadata": {},
     "output_type": "execute_result"
    }
   ],
   "source": [
    "(6+5j)**(7-3j)"
   ]
  },
  {
   "cell_type": "code",
   "execution_count": null,
   "id": "4be6c51f",
   "metadata": {},
   "outputs": [],
   "source": [
    "Двоичные, восьмиричные, шестнадцатиричные числа."
   ]
  },
  {
   "cell_type": "code",
   "execution_count": 28,
   "id": "b48e7dc9",
   "metadata": {},
   "outputs": [
    {
     "data": {
      "text/plain": [
       "'0x37a'"
      ]
     },
     "execution_count": 28,
     "metadata": {},
     "output_type": "execute_result"
    }
   ],
   "source": [
    "hex(890)"
   ]
  },
  {
   "cell_type": "code",
   "execution_count": 29,
   "id": "7c0a4eb5",
   "metadata": {},
   "outputs": [
    {
     "data": {
      "text/plain": [
       "'0b1000110111'"
      ]
     },
     "execution_count": 29,
     "metadata": {},
     "output_type": "execute_result"
    }
   ],
   "source": [
    "bin(567)"
   ]
  },
  {
   "cell_type": "code",
   "execution_count": 30,
   "id": "ee659df6",
   "metadata": {},
   "outputs": [
    {
     "data": {
      "text/plain": [
       "'0o1067'"
      ]
     },
     "execution_count": 30,
     "metadata": {},
     "output_type": "execute_result"
    }
   ],
   "source": [
    "oct(567)"
   ]
  },
  {
   "cell_type": "code",
   "execution_count": 13,
   "id": "88b3d4ea",
   "metadata": {},
   "outputs": [
    {
     "data": {
      "text/plain": [
       "127"
      ]
     },
     "execution_count": 13,
     "metadata": {},
     "output_type": "execute_result"
    }
   ],
   "source": [
    "0x45+0x3a"
   ]
  },
  {
   "cell_type": "code",
   "execution_count": 14,
   "id": "43a2aa41",
   "metadata": {},
   "outputs": [
    {
     "data": {
      "text/plain": [
       "69"
      ]
     },
     "execution_count": 14,
     "metadata": {},
     "output_type": "execute_result"
    }
   ],
   "source": [
    "0x45"
   ]
  },
  {
   "cell_type": "code",
   "execution_count": 15,
   "id": "c7ff52d6",
   "metadata": {},
   "outputs": [
    {
     "data": {
      "text/plain": [
       "58"
      ]
     },
     "execution_count": 15,
     "metadata": {},
     "output_type": "execute_result"
    }
   ],
   "source": [
    "0x3a"
   ]
  },
  {
   "cell_type": "code",
   "execution_count": 16,
   "id": "6d5c1699",
   "metadata": {},
   "outputs": [
    {
     "data": {
      "text/plain": [
       "127"
      ]
     },
     "execution_count": 16,
     "metadata": {},
     "output_type": "execute_result"
    }
   ],
   "source": [
    "69+58"
   ]
  },
  {
   "cell_type": "code",
   "execution_count": 17,
   "id": "7ac94ac8",
   "metadata": {},
   "outputs": [
    {
     "data": {
      "text/plain": [
       "556513834506"
      ]
     },
     "execution_count": 17,
     "metadata": {},
     "output_type": "execute_result"
    }
   ],
   "source": [
    "0x6543fda*0b1010001111001"
   ]
  },
  {
   "cell_type": "code",
   "execution_count": 31,
   "id": "cc481855",
   "metadata": {},
   "outputs": [
    {
     "data": {
      "text/plain": [
       "0"
      ]
     },
     "execution_count": 31,
     "metadata": {},
     "output_type": "execute_result"
    }
   ],
   "source": [
    "0b101 & 0b010"
   ]
  },
  {
   "cell_type": "code",
   "execution_count": 32,
   "id": "412a1a04",
   "metadata": {},
   "outputs": [
    {
     "data": {
      "text/plain": [
       "7"
      ]
     },
     "execution_count": 32,
     "metadata": {},
     "output_type": "execute_result"
    }
   ],
   "source": [
    "0b101 | 0b010"
   ]
  },
  {
   "cell_type": "code",
   "execution_count": 34,
   "id": "ac8c9206",
   "metadata": {},
   "outputs": [
    {
     "data": {
      "text/plain": [
       "-3"
      ]
     },
     "execution_count": 34,
     "metadata": {},
     "output_type": "execute_result"
    }
   ],
   "source": [
    "~(0b010)"
   ]
  },
  {
   "cell_type": "markdown",
   "id": "bfef199a",
   "metadata": {},
   "source": [
    "#### Основные операции с числами"
   ]
  },
  {
   "cell_type": "markdown",
   "id": "f10a5c47",
   "metadata": {},
   "source": [
    "Сложение: 6+8=14; 6.7+3.2=9.9; 8+7j+6+4j=(14+11j).\n",
    "    \n",
    "Вычитание: 6-8=-2; 6.7-3.2=3.5; 8+7j-(6+4j)=(2+3j).\n",
    "    \n",
    "Умножение: 6*8=48; 6.7*3.2=21.44; (8+7j)*(6+4j)=(20+74j).\n",
    "    \n",
    "Деление: 7/2=3 в python2 (если делимое и делитель - целые числа, то результат тоже целое число);\n",
    "      7/2=3.5 в python3; 6.7/3.2=2.09375; (8+7j)/(6+4j)=(1.4615384615384615+0.19230769230769232j).\n",
    "        \n",
    "Целочисленное деление: 12//5=2; 6.7//3.2=2.0.\n",
    "    \n",
    "Остаток от целочисленного деления: 7%3=1; 7.1%5=2.0999999999999996.\n",
    "    \n",
    "Возведение в степень: 5 ** 2=25; 5.5 ** 0.5=2.345207879911715.  \n",
    "\n",
    "Эксперименты:"
   ]
  },
  {
   "cell_type": "code",
   "execution_count": 35,
   "id": "e23dabd3",
   "metadata": {},
   "outputs": [
    {
     "data": {
      "text/plain": [
       "2.3333333333333335"
      ]
     },
     "execution_count": 35,
     "metadata": {},
     "output_type": "execute_result"
    }
   ],
   "source": [
    "7/3"
   ]
  },
  {
   "cell_type": "markdown",
   "id": "12e6402a",
   "metadata": {},
   "source": [
    "Дополнительные операции по работе с числами\n",
    "\n",
    "Абсолютное значение: abs(-9)=9; abs(7)=7.\n",
    "\n",
    "Возведение в степень: pow(5,2)=25;pow(5,0.5)=2.23606797749979.\n",
    "\n",
    "Вычисление результата целочисленного деления и остатка: \n",
    "\n",
    "divmod(17,5)=(3, 2);\n",
    "\n",
    "divmod(17,5)[0]=3; \n",
    "\n",
    "divmod(17,5)[1]=2.\n",
    "\n",
    "Эксперименты:"
   ]
  },
  {
   "cell_type": "code",
   "execution_count": 36,
   "id": "9b2aea44",
   "metadata": {},
   "outputs": [
    {
     "data": {
      "text/plain": [
       "(2, 1)"
      ]
     },
     "execution_count": 36,
     "metadata": {},
     "output_type": "execute_result"
    }
   ],
   "source": [
    "divmod(7,3)"
   ]
  },
  {
   "cell_type": "markdown",
   "id": "c26e997b",
   "metadata": {},
   "source": [
    "Остальные функции доступны при использовании пакета (библиотеки) math. \n",
    "\n",
    "Для его подключения нужно использовать команду:"
   ]
  },
  {
   "cell_type": "code",
   "execution_count": 37,
   "id": "7510d1f5",
   "metadata": {},
   "outputs": [],
   "source": [
    "import math"
   ]
  },
  {
   "cell_type": "markdown",
   "id": "5e46cca5",
   "metadata": {},
   "source": [
    "После этого можно посмотреть перечень доступных функций:"
   ]
  },
  {
   "cell_type": "code",
   "execution_count": 38,
   "id": "f7efc5fc",
   "metadata": {},
   "outputs": [
    {
     "data": {
      "text/plain": [
       "['__doc__',\n",
       " '__loader__',\n",
       " '__name__',\n",
       " '__package__',\n",
       " '__spec__',\n",
       " 'acos',\n",
       " 'acosh',\n",
       " 'asin',\n",
       " 'asinh',\n",
       " 'atan',\n",
       " 'atan2',\n",
       " 'atanh',\n",
       " 'ceil',\n",
       " 'copysign',\n",
       " 'cos',\n",
       " 'cosh',\n",
       " 'degrees',\n",
       " 'e',\n",
       " 'erf',\n",
       " 'erfc',\n",
       " 'exp',\n",
       " 'expm1',\n",
       " 'fabs',\n",
       " 'factorial',\n",
       " 'floor',\n",
       " 'fmod',\n",
       " 'frexp',\n",
       " 'fsum',\n",
       " 'gamma',\n",
       " 'gcd',\n",
       " 'hypot',\n",
       " 'inf',\n",
       " 'isclose',\n",
       " 'isfinite',\n",
       " 'isinf',\n",
       " 'isnan',\n",
       " 'ldexp',\n",
       " 'lgamma',\n",
       " 'log',\n",
       " 'log10',\n",
       " 'log1p',\n",
       " 'log2',\n",
       " 'modf',\n",
       " 'nan',\n",
       " 'pi',\n",
       " 'pow',\n",
       " 'radians',\n",
       " 'sin',\n",
       " 'sinh',\n",
       " 'sqrt',\n",
       " 'tan',\n",
       " 'tanh',\n",
       " 'tau',\n",
       " 'trunc']"
      ]
     },
     "execution_count": 38,
     "metadata": {},
     "output_type": "execute_result"
    }
   ],
   "source": [
    "dir(math)"
   ]
  },
  {
   "cell_type": "markdown",
   "id": "f6fd586a",
   "metadata": {},
   "source": [
    "Для доступа к конкретной функции нужно вначале указывать из какой она библиотеки:"
   ]
  },
  {
   "cell_type": "code",
   "execution_count": 39,
   "id": "6a1af6fa",
   "metadata": {},
   "outputs": [
    {
     "data": {
      "text/plain": [
       "-0.8218178366308225"
      ]
     },
     "execution_count": 39,
     "metadata": {},
     "output_type": "execute_result"
    }
   ],
   "source": [
    "math.sin(87)"
   ]
  },
  {
   "cell_type": "markdown",
   "id": "a7a253fc",
   "metadata": {},
   "source": [
    "Можно создать псевдоним библиотеки:"
   ]
  },
  {
   "cell_type": "code",
   "execution_count": 40,
   "id": "12f01dd0",
   "metadata": {},
   "outputs": [
    {
     "data": {
      "text/plain": [
       "0.9217512697247493"
      ]
     },
     "execution_count": 40,
     "metadata": {},
     "output_type": "execute_result"
    }
   ],
   "source": [
    "import math as m\n",
    "m.cos(75)"
   ]
  },
  {
   "cell_type": "markdown",
   "id": "bb6de314",
   "metadata": {},
   "source": [
    "Можно импортировать в доступное пространство имен конкретные функции:"
   ]
  },
  {
   "cell_type": "code",
   "execution_count": 41,
   "id": "8e95b324",
   "metadata": {},
   "outputs": [
    {
     "data": {
      "text/plain": [
       "0.9217512697247493"
      ]
     },
     "execution_count": 41,
     "metadata": {},
     "output_type": "execute_result"
    }
   ],
   "source": [
    "from math import sin\n",
    "from math import cos as cs\n",
    "sin(64)\n",
    "cs(75)"
   ]
  },
  {
   "cell_type": "markdown",
   "id": "9f3ad01b",
   "metadata": {},
   "source": [
    "Чтобы импортировать сразу все, можно использовать:"
   ]
  },
  {
   "cell_type": "code",
   "execution_count": 42,
   "id": "4ced41c9",
   "metadata": {},
   "outputs": [],
   "source": [
    "from math import *"
   ]
  },
  {
   "cell_type": "code",
   "execution_count": 43,
   "id": "664782be",
   "metadata": {},
   "outputs": [
    {
     "data": {
      "text/plain": [
       "0.6738877643853085"
      ]
     },
     "execution_count": 43,
     "metadata": {},
     "output_type": "execute_result"
    }
   ],
   "source": [
    "tan(764)"
   ]
  },
  {
   "cell_type": "markdown",
   "id": "c29d78e6",
   "metadata": {},
   "source": [
    "### Логический тип данных"
   ]
  },
  {
   "cell_type": "markdown",
   "id": "028bb328",
   "metadata": {},
   "source": [
    "Число 1 имеет специальное обозначение True (истина).\n",
    "\n",
    "Число 0 имеет специальное обозначение False (ложь)."
   ]
  },
  {
   "cell_type": "markdown",
   "id": "511a820b",
   "metadata": {},
   "source": [
    "Примеры:\n",
    "\n",
    "      a=5; b=7\n",
    "\n",
    "      a==b : False\n",
    "\n",
    "      a<b : True\n",
    "\n",
    "      a<=b : True; a < 6 < b : True\n",
    "\n",
    "      a>b : False\n",
    "\n",
    "      a>=b : False\n",
    "\n",
    "      a!=b : True\n",
    "      \n",
    "      1==True : True\n",
    "\n",
    "      a<b or 0 != False : True\n",
    "\n",
    "      a<b | 0 != False : True\n",
    "\n",
    "      not(a<b | 0 != False) : False\n",
    "\n",
    "      a<b and 0 != False : False\n",
    "\n",
    "      a<b & 0 != False : False\n",
    "      \n",
    " Эксперименты:"
   ]
  },
  {
   "cell_type": "code",
   "execution_count": 44,
   "id": "760b5fa7",
   "metadata": {},
   "outputs": [
    {
     "data": {
      "text/plain": [
       "True"
      ]
     },
     "execution_count": 44,
     "metadata": {},
     "output_type": "execute_result"
    }
   ],
   "source": [
    "a=5;b=7\n",
    "a<b"
   ]
  },
  {
   "cell_type": "markdown",
   "id": "dc398918",
   "metadata": {},
   "source": [
    "### Строки"
   ]
  },
  {
   "cell_type": "markdown",
   "id": "33d207a3",
   "metadata": {},
   "source": [
    "Строки  - неизменяемые последовательности символов, заключенные в кавычки (двойные или одинарные), любой длины.\n",
    "\n",
    "#### Основные операции со строками\n",
    "\n",
    "Преобразование числа в строку: str(678) дает '678'\n",
    "    \n",
    "Получение символа по коду, кода по символу: chr(67) дает 'С'; ord('г') дает 1075\n",
    "    \n",
    "Длина строки: len('qwerty') дает 6. Конкатенация строк: 'Все' + ' ok!'\n",
    "        \n",
    "Выбор элемента строки с заданным номером: 'qwerty'[0] дает 'q'; 'qwerty'[-1] дает 'y'\n",
    "    \n",
    "Получение среза s[i:j:k] - подстрока, содержащая символы строки s с номера от i до j с шагом k: 'qwerty'[1:3] дает 'we' (первый номер включается, последний нет); 'qwerty'[1:5:2] дает 'wr'\n",
    "\n",
    "Получение символа строки с наименьшим, наибольшим номером: min('qwerty') дает 'e'; max('qwerty') дает 'y'\n",
    "\n",
    "N-кратное повторение строки s * n (n * s): 'qwerty'*2 дает 'qwertyqwerty'\n",
    "\n",
    "Эксперименты:"
   ]
  },
  {
   "cell_type": "code",
   "execution_count": 45,
   "id": "43596abb",
   "metadata": {},
   "outputs": [
    {
     "data": {
      "text/plain": [
       "'dasadasadasadasadasa'"
      ]
     },
     "execution_count": 45,
     "metadata": {},
     "output_type": "execute_result"
    }
   ],
   "source": [
    "\"dasa\"*5"
   ]
  },
  {
   "cell_type": "markdown",
   "id": "f3f90e6b",
   "metadata": {},
   "source": [
    "### Кортежи\n",
    "\n",
    "Кортежы (tuple)  - неизменяемый упорядоченный набор объектов разных типов.\n",
    "\n",
    "Основные операции с кортежами\n",
    "\n",
    "Задание кортежа: t=(12, 'a', 3.14, 'Python'); y=(); z=(t,)\n",
    "    \n",
    "Присваивание переменным значений кортежа (a,b,c,d)=t\n",
    "\n",
    "Длина строки: len(t) дает 4. Объединение кортежей: t+y дает (12, 'a', 3.14, 'Python', (12, 'a', 3.14, 'Python'))\n",
    "        \n",
    "Выбор элемента кортежа с заданным номером: t[0] дает 12, t[-1] дает 'Python'\n",
    "\n",
    "Получение среза s[i:j:k] - кортеж, содержащий элементы с номера от i до j с шагом k\n",
    "\n",
    "Преобразование строки в кортеж: s='Python'; t=tuple(s) дает ('P', 'y', 't', 'h', 'o', 'n')\n",
    "\n",
    "N-кратное повторение кортежа s * n (n * s): t[0:5:2]*2 дает ('P', 't', 'o', 'P', 't', 'o')\n",
    "    \n",
    "Эксперименты:"
   ]
  },
  {
   "cell_type": "code",
   "execution_count": 46,
   "id": "851278a7",
   "metadata": {},
   "outputs": [
    {
     "data": {
      "text/plain": [
       "'ok'"
      ]
     },
     "execution_count": 46,
     "metadata": {},
     "output_type": "execute_result"
    }
   ],
   "source": [
    "r=(6,\"45\",54.34,\"ok\")\n",
    "r[-1]"
   ]
  },
  {
   "cell_type": "markdown",
   "id": "9ab3441f",
   "metadata": {},
   "source": [
    "### Списки"
   ]
  },
  {
   "cell_type": "markdown",
   "id": "315635b4",
   "metadata": {},
   "source": [
    "Списки  - изменяемый упорядоченный набор объектов разных типов.\n",
    "\n",
    "Основные операции со списками:\n",
    "\n",
    "Задание списка: lst=[1,2,'t','qw']\n",
    "    \n",
    "Преобразование объектов в список: list('qwerty') дает ['q', 'w', 'e', 'r', 't', 'y']\n",
    "    \n",
    "Длина списка: len(lst) дает 4. Объединение списков: lst+lst дает [1,2,'t','qw',1,2,'t','qw']\n",
    "        \n",
    "N-кратное повторение списка lst * n (n * lst): lst*2 дает [1,2,'t','qw',1,2,'t','qw']\n",
    "    \n",
    "Выбор элемента списка с заданным номером: lst[0] дает 1, lst[-1] дает 'qw'\n",
    "    \n",
    "Получение среза s[i:j:k] - список, содержащий элементы с номера от i до j с шагом k\n",
    "\n",
    "Замена элемента с заданным номером: lst[0]='first' дает ['first', 2, 't', 'qw']\n",
    "\n",
    "Удаление элемента с заданным номером: del lst[0] дает [2, 't', 'qw', '77']\n",
    "    \n",
    "Добавление элемента в список s=[1,2,3]: s=s+[4] - дает [1,2,3,4]; s=[0]+s дает [0,1,2,3]\n",
    "    \n",
    "Замена среза списка на элемент или список s=[1,2,3]: s[1:2]='qw' дает [1, 'q', 'w', 3], а s[1:3]='qw' дает [1, 'q', 'w']\n",
    "    \n",
    "Удаление элементов, входящих в указанный срез s=[1,2,3,4]: del s[2:4] дает [1,2]\n",
    "\n",
    "Эксперименты:"
   ]
  },
  {
   "cell_type": "code",
   "execution_count": 51,
   "id": "b34a8b6a",
   "metadata": {},
   "outputs": [
    {
     "data": {
      "text/plain": [
       "[1, 2, 3]"
      ]
     },
     "execution_count": 51,
     "metadata": {},
     "output_type": "execute_result"
    }
   ],
   "source": [
    "y=[3,2,1]\n",
    "y.sort()\n",
    "y"
   ]
  },
  {
   "cell_type": "markdown",
   "id": "23699afe",
   "metadata": {},
   "source": [
    "## Вывод, ввод данных в языке программирования"
   ]
  },
  {
   "cell_type": "markdown",
   "id": "ad2e9425",
   "metadata": {},
   "source": [
    "Для ввода данных используется две команды input()  - для ввода любых значений, raw_input() (только в python 2) - для ввода только строковых значений. В качестве аргумента этих команд предлагается использовать строку подсказку - приглашение для ввода.\n",
    "\n",
    "Примеры:\n",
    "\n",
    "      a=input('a=')\n",
    "      \n",
    "      a,b,c=input('Введите три значения через запятую ') (работает только в python 2)\n",
    "\n",
    "Для вывода данных используется команда print для python 2, print() - для python 3\n",
    "\n",
    "      Примеры:\n",
    "\n",
    "      print 'Результат суммы', 5+3 для python 2 дает 'Результат суммы 8'\n",
    "      \n",
    "      print('Результат суммы равен ',5+3) - для python 3\n",
    "      \n",
    "Эксперименты:"
   ]
  },
  {
   "cell_type": "code",
   "execution_count": 55,
   "id": "f8289d5f",
   "metadata": {},
   "outputs": [
    {
     "name": "stdout",
     "output_type": "stream",
     "text": [
      "Введите целое число97\n"
     ]
    },
    {
     "data": {
      "text/plain": [
       "97"
      ]
     },
     "execution_count": 55,
     "metadata": {},
     "output_type": "execute_result"
    }
   ],
   "source": [
    "d=int(input('Введите целое число'))\n",
    "d\n"
   ]
  },
  {
   "cell_type": "markdown",
   "id": "f23e47ac",
   "metadata": {},
   "source": [
    "## Реализация операторов ветвления"
   ]
  },
  {
   "cell_type": "markdown",
   "id": "577d8342",
   "metadata": {},
   "source": [
    "### Общая схема ветвления в Python"
   ]
  },
  {
   "cell_type": "markdown",
   "id": "6f3efcce",
   "metadata": {},
   "source": [
    "<figure>\n",
    "    <img src=\"IF.jpg\" height=\"400\" width=\"400\">\n",
    "</figure>\n",
    "\n",
    "Примеры:"
   ]
  },
  {
   "cell_type": "code",
   "execution_count": 61,
   "id": "85bec605",
   "metadata": {},
   "outputs": [
    {
     "name": "stdout",
     "output_type": "stream",
     "text": [
      "Введите температуру на улице: 7\n",
      "Плохая погода\n"
     ]
    }
   ],
   "source": [
    "t=int(input('Введите температуру на улице: '))\n",
    "if t<10:\n",
    "    s='Плохая погода'\n",
    "else:\n",
    "    s='Хорошая погода'\n",
    "print(s)"
   ]
  },
  {
   "cell_type": "code",
   "execution_count": 19,
   "id": "44fb4849",
   "metadata": {},
   "outputs": [
    {
     "name": "stdout",
     "output_type": "stream",
     "text": [
      "55\n",
      "0\n"
     ]
    }
   ],
   "source": [
    "t=int(input())\n",
    "if t<10:\n",
    "    s=\"1\"\n",
    "else:\n",
    "    s=\"0\"\n",
    "print(s)"
   ]
  },
  {
   "cell_type": "code",
   "execution_count": 63,
   "id": "e6b9bcf5",
   "metadata": {},
   "outputs": [
    {
     "name": "stdout",
     "output_type": "stream",
     "text": [
      "Введите ваш балл: 3\n",
      "Лентяй\n"
     ]
    }
   ],
   "source": [
    "t=int(input('Введите ваш балл: '))\n",
    "if t==5:\n",
    "    s='Молодец!'\n",
    "elif t==4:\n",
    "    s='Хорошо!'\n",
    "else:\n",
    "    s='Лентяй'\n",
    "print(s)"
   ]
  },
  {
   "cell_type": "markdown",
   "id": "c5221deb",
   "metadata": {},
   "source": [
    "## Реализация операторов цикла"
   ]
  },
  {
   "cell_type": "markdown",
   "id": "99833a9a",
   "metadata": {},
   "source": [
    "### Виды циклов"
   ]
  },
  {
   "cell_type": "markdown",
   "id": "88ee915b",
   "metadata": {},
   "source": [
    "Цикл for\n",
    "\n",
    "for i in list:\n",
    "    \n",
    "    body_cycle\n",
    "    \n",
    "Здесь  переменная i последовательно принимает значения из списка list\n",
    "\n",
    "Вместо списка можно строить диапазоны с помощью range:"
   ]
  },
  {
   "cell_type": "code",
   "execution_count": 66,
   "id": "94c47b72",
   "metadata": {},
   "outputs": [
    {
     "name": "stdout",
     "output_type": "stream",
     "text": [
      "Hello\n",
      "Hello\n",
      "Hello\n",
      "Hello\n",
      "Hello\n",
      "Hello\n",
      "Hello\n",
      "Hello\n",
      "Hello\n",
      "Hello\n"
     ]
    }
   ],
   "source": [
    "for i in range(10):\n",
    "    print('Hello')"
   ]
  },
  {
   "cell_type": "markdown",
   "id": "a23090cb",
   "metadata": {},
   "source": [
    "#### Цикл while"
   ]
  },
  {
   "cell_type": "markdown",
   "id": "c9d6bbc8",
   "metadata": {},
   "source": [
    "while condition:\n",
    "    \n",
    "    body_cycle"
   ]
  },
  {
   "cell_type": "code",
   "execution_count": 67,
   "id": "ee0cac20",
   "metadata": {},
   "outputs": [
    {
     "name": "stdout",
     "output_type": "stream",
     "text": [
      "Hello!\n",
      "Hello!\n",
      "Hello!\n",
      "Hello!\n",
      "Hello!\n",
      "Hello!\n",
      "Hello!\n",
      "Hello!\n",
      "Hello!\n"
     ]
    }
   ],
   "source": [
    "i=1\n",
    "while i<10:\n",
    "    print('Hello!')\n",
    "    i=i+1"
   ]
  },
  {
   "cell_type": "markdown",
   "id": "386e4747",
   "metadata": {},
   "source": [
    "## Реализация функций и процедур"
   ]
  },
  {
   "cell_type": "markdown",
   "id": "27b708ed",
   "metadata": {},
   "source": [
    "Процедура - это подпрограмма, которая выполняет свой участок кода и ничего не возвращает в основную программу.\n",
    "\n",
    "Пример:"
   ]
  },
  {
   "cell_type": "code",
   "execution_count": 70,
   "id": "1149aa77",
   "metadata": {},
   "outputs": [
    {
     "name": "stdout",
     "output_type": "stream",
     "text": [
      "0\n",
      "1\n",
      "2\n",
      "3\n",
      "4\n",
      "5\n",
      "6\n",
      "7\n",
      "8\n",
      "9\n"
     ]
    }
   ],
   "source": [
    "def prt(n):\n",
    "    for i in range(n):\n",
    "        print(i)\n",
    "print(prt(10))"
   ]
  },
  {
   "cell_type": "markdown",
   "id": "b3377a8b",
   "metadata": {},
   "source": [
    "Функция - это подпрограмма, которая выполняет свой участок кода и возвращает некоторое значение в основную программу (для этих целей в python используется оператор return)"
   ]
  },
  {
   "cell_type": "code",
   "execution_count": 71,
   "id": "699e0ced",
   "metadata": {},
   "outputs": [
    {
     "name": "stdout",
     "output_type": "stream",
     "text": [
      "12\n"
     ]
    }
   ],
   "source": [
    "def summa(a,b):\n",
    "    return a+b\n",
    "print(summa(5,7))"
   ]
  },
  {
   "cell_type": "code",
   "execution_count": null,
   "id": "aab897b2",
   "metadata": {},
   "outputs": [],
   "source": []
  }
 ],
 "metadata": {
  "kernelspec": {
   "display_name": "Python 3 (ipykernel)",
   "language": "python",
   "name": "python3"
  },
  "language_info": {
   "codemirror_mode": {
    "name": "ipython",
    "version": 3
   },
   "file_extension": ".py",
   "mimetype": "text/x-python",
   "name": "python",
   "nbconvert_exporter": "python",
   "pygments_lexer": "ipython3",
   "version": "3.8.10"
  }
 },
 "nbformat": 4,
 "nbformat_minor": 5
}
