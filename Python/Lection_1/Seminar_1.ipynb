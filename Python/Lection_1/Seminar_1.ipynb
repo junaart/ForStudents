{
 "cells": [
  {
   "cell_type": "markdown",
   "id": "98fc23ec",
   "metadata": {},
   "source": [
    "# Семинар 2. Структурное программирование на Python"
   ]
  },
  {
   "cell_type": "markdown",
   "id": "c1864645",
   "metadata": {},
   "source": [
    "## Разбор задач на ввод, вывод"
   ]
  },
  {
   "cell_type": "code",
   "execution_count": 7,
   "id": "8defbb27",
   "metadata": {},
   "outputs": [
    {
     "name": "stdout",
     "output_type": "stream",
     "text": [
      "Hello world\n",
      "Привет мир 12\n",
      "Введите температуру на улице 30\n",
      "35\n"
     ]
    }
   ],
   "source": [
    "#Пример программы \"Привет мир\"\n",
    "print(\"Hello world\")\n",
    "\n",
    "a='Привет'\n",
    "b=\"мир\"\n",
    "c=9\n",
    "print(a+' '+b,c+3)\n",
    "\n",
    "#Пример ввода данных\n",
    "t=input(\"Введите температуру на улице \")\n",
    "print(int(t)+5)"
   ]
  },
  {
   "cell_type": "markdown",
   "id": "b48799b9",
   "metadata": {},
   "source": [
    "## Разбор задач на ветвление"
   ]
  },
  {
   "cell_type": "code",
   "execution_count": 21,
   "id": "0f07825d",
   "metadata": {},
   "outputs": [
    {
     "name": "stdout",
     "output_type": "stream",
     "text": [
      "Введите температуту на улице-5\n",
      "Холодно\n",
      "Продолжение блока\n",
      "Прохладно\n"
     ]
    }
   ],
   "source": [
    "#Пример проверки условий\n",
    "t=float(input(\"Введите температуту на улице\"))\n",
    "if t<0:\n",
    "    print(\"Холодно\")\n",
    "    print(\"Продолжение блока\")\n",
    "else:\n",
    "    print(\"Нормально\")\n",
    "    \n",
    "    \n",
    "#Пример проверки сложных условий\n",
    "if -10<t<0:\n",
    "    print(\"Прохладно\")\n",
    "elif t<=-10:\n",
    "    print(\"Мороз\")\n",
    "elif 0<=t<10:\n",
    "    print(\"Нормально\")\n",
    "else:\n",
    "    print(\"Жара\")"
   ]
  },
  {
   "cell_type": "markdown",
   "id": "67222efb",
   "metadata": {},
   "source": [
    "## Разбор задач на циклы"
   ]
  },
  {
   "cell_type": "code",
   "execution_count": 28,
   "id": "dae4f3da",
   "metadata": {},
   "outputs": [
    {
     "name": "stdout",
     "output_type": "stream",
     "text": [
      "1\n",
      "2\n",
      "3\n",
      "4\n",
      "5\n",
      "6\n",
      "7\n",
      "8\n",
      "q\n",
      "w\n",
      "e\n",
      "r\n",
      "t\n",
      "y\n",
      "1\n",
      "2\n",
      "3\n",
      "4\n",
      "5\n",
      "6\n",
      "7\n",
      "8\n",
      "Ok\n",
      "3\n",
      "Ok\n",
      "6\n",
      "Ok\n",
      "9\n",
      "Ok\n",
      "55\n"
     ]
    }
   ],
   "source": [
    "#Пример цикла for\n",
    "L=[1,2,3,4,5,6,7,8]\n",
    "for i in L:\n",
    "    print(i)\n",
    "    \n",
    "S=\"qwerty\"\n",
    "for j in S:\n",
    "    print(j)\n",
    "\n",
    "for i in range(0,8):\n",
    "    print(L[i])\n",
    "    \n",
    "while t<10:\n",
    "    print('Ok')\n",
    "    t=int(input())"
   ]
  },
  {
   "cell_type": "markdown",
   "id": "de24fbf7",
   "metadata": {},
   "source": [
    "## Разбор задач на функции"
   ]
  },
  {
   "cell_type": "code",
   "execution_count": 32,
   "id": "d347f1a8",
   "metadata": {},
   "outputs": [
    {
     "data": {
      "text/plain": [
       "81"
      ]
     },
     "execution_count": 32,
     "metadata": {},
     "output_type": "execute_result"
    }
   ],
   "source": [
    "def f(x):\n",
    "    return x*x\n",
    "    \n",
    "f(9)"
   ]
  },
  {
   "cell_type": "code",
   "execution_count": null,
   "id": "b99c2f51",
   "metadata": {},
   "outputs": [],
   "source": []
  },
  {
   "cell_type": "markdown",
   "id": "bf2cb6dc",
   "metadata": {},
   "source": [
    "## Разбор общих задач"
   ]
  },
  {
   "cell_type": "markdown",
   "id": "e8f7ff13",
   "metadata": {},
   "source": [
    "### Задача 1. \n",
    "Реализовать программу, позволяющую рассчитать для заданного n сумму ряда:\n",
    "$$1^2+2^2+3^2+\\ldots +n^2$$\n",
    "### Решение"
   ]
  },
  {
   "cell_type": "code",
   "execution_count": 38,
   "id": "0f62738c",
   "metadata": {},
   "outputs": [
    {
     "name": "stdout",
     "output_type": "stream",
     "text": [
      "Введите n:\n",
      "5\n",
      "55\n"
     ]
    },
    {
     "data": {
      "text/plain": [
       "55"
      ]
     },
     "execution_count": 38,
     "metadata": {},
     "output_type": "execute_result"
    }
   ],
   "source": [
    "n = int(input(\"Введите n:\\n\"))\n",
    "s = 0\n",
    "for i in range(1, n + 1):\n",
    "    s += i**2\n",
    "print(s)\n",
    "\n",
    "def func1(n):\n",
    "    s = 0\n",
    "    i = 1\n",
    "    while i <= n:\n",
    "        s += i**2\n",
    "        i += 1\n",
    "    return s\n",
    "\n",
    "def f(n):\n",
    "    if n==1:\n",
    "        return 1\n",
    "    else:\n",
    "        return f(n-1)+n**2\n",
    "\n",
    "func1(n)\n",
    "f(n)"
   ]
  },
  {
   "cell_type": "markdown",
   "id": "a6b65e4b",
   "metadata": {},
   "source": [
    "### Задача 2."
   ]
  },
  {
   "cell_type": "markdown",
   "id": "e27e142b",
   "metadata": {},
   "source": [
    "Для заданного n список заполняется n случайными числами из промежутка от 1 до n . Составить программу, которая подсчитывает\n",
    "количество различных значений в списке.\n",
    "### Решение"
   ]
  },
  {
   "cell_type": "code",
   "execution_count": 41,
   "id": "5c17cbd9",
   "metadata": {},
   "outputs": [
    {
     "data": {
      "text/plain": [
       "['BPF',\n",
       " 'LOG4',\n",
       " 'NV_MAGICCONST',\n",
       " 'RECIP_BPF',\n",
       " 'Random',\n",
       " 'SG_MAGICCONST',\n",
       " 'SystemRandom',\n",
       " 'TWOPI',\n",
       " '_BuiltinMethodType',\n",
       " '_MethodType',\n",
       " '_Sequence',\n",
       " '_Set',\n",
       " '__all__',\n",
       " '__builtins__',\n",
       " '__cached__',\n",
       " '__doc__',\n",
       " '__file__',\n",
       " '__loader__',\n",
       " '__name__',\n",
       " '__package__',\n",
       " '__spec__',\n",
       " '_acos',\n",
       " '_bisect',\n",
       " '_ceil',\n",
       " '_cos',\n",
       " '_e',\n",
       " '_exp',\n",
       " '_inst',\n",
       " '_itertools',\n",
       " '_log',\n",
       " '_pi',\n",
       " '_random',\n",
       " '_sha512',\n",
       " '_sin',\n",
       " '_sqrt',\n",
       " '_test',\n",
       " '_test_generator',\n",
       " '_urandom',\n",
       " '_warn',\n",
       " 'betavariate',\n",
       " 'choice',\n",
       " 'choices',\n",
       " 'expovariate',\n",
       " 'gammavariate',\n",
       " 'gauss',\n",
       " 'getrandbits',\n",
       " 'getstate',\n",
       " 'lognormvariate',\n",
       " 'normalvariate',\n",
       " 'paretovariate',\n",
       " 'randint',\n",
       " 'random',\n",
       " 'randrange',\n",
       " 'sample',\n",
       " 'seed',\n",
       " 'setstate',\n",
       " 'shuffle',\n",
       " 'triangular',\n",
       " 'uniform',\n",
       " 'vonmisesvariate',\n",
       " 'weibullvariate']"
      ]
     },
     "execution_count": 41,
     "metadata": {},
     "output_type": "execute_result"
    }
   ],
   "source": [
    "import random\n",
    "dir(random)"
   ]
  },
  {
   "cell_type": "code",
   "execution_count": 42,
   "id": "fca3de89",
   "metadata": {},
   "outputs": [],
   "source": [
    "random.randint?"
   ]
  },
  {
   "cell_type": "code",
   "execution_count": 49,
   "id": "9f08a825",
   "metadata": {},
   "outputs": [
    {
     "name": "stdout",
     "output_type": "stream",
     "text": [
      "n=12\n",
      "[8, 9, 1, 11, 11, 11, 2, 11, 12, 7, 1, 8]\n"
     ]
    },
    {
     "data": {
      "text/plain": [
       "7"
      ]
     },
     "execution_count": 49,
     "metadata": {},
     "output_type": "execute_result"
    }
   ],
   "source": [
    "n=int(input(\"n=\"))\n",
    "from random import  randint as rnd\n",
    "L=[]\n",
    "for i in range(0,n):\n",
    "    L.append(rnd(1,n))\n",
    "print(L)\n",
    "\n",
    "\n",
    "\n",
    "def cu(a):\n",
    "    if a[1:]==[]: \n",
    "        return 1\n",
    "    elif a[0] in a[1:]:\n",
    "        return cu(a[1:])\n",
    "    else:\n",
    "        return 1 + cu(a[1:])\n",
    "\n",
    "cu(L)\n",
    "    \n"
   ]
  },
  {
   "cell_type": "markdown",
   "id": "a226fee6",
   "metadata": {},
   "source": [
    "### Задача 3.\n",
    "В матрице размером $n \\cdot n$ найти максимальный элемент каждого столбца и минимальный элемент каждой строки (матрицу представить вложенным списком)\n",
    "### Решение"
   ]
  },
  {
   "cell_type": "code",
   "execution_count": 27,
   "id": "ec3cc454",
   "metadata": {},
   "outputs": [
    {
     "data": {
      "text/plain": [
       "[7, 6, 6, 7]"
      ]
     },
     "execution_count": 27,
     "metadata": {},
     "output_type": "execute_result"
    }
   ],
   "source": [
    "M=[[1,2,3,4],[4,5,6,7],[7,6,4,3]]\n",
    "\n",
    "def minrows(M):\n",
    "    result=[]\n",
    "    for i in M:\n",
    "        result.append(min(i))\n",
    "    return result\n",
    "minrows(M)\n",
    "\n",
    "\n",
    "def MaxCol(m):\n",
    "    r=len(m)\n",
    "    c=len(m[0])\n",
    "    res=[]\n",
    "    for j in range(c):\n",
    "        mx=m[0][j]\n",
    "        for i in range(r):\n",
    "            if m[i][j]>mx: \n",
    "                mx = m[i][j]\n",
    "        res.append(mx)\n",
    "    return res\n",
    "MaxCol(M)"
   ]
  },
  {
   "cell_type": "markdown",
   "id": "1427713e",
   "metadata": {},
   "source": [
    "### Задача 4."
   ]
  },
  {
   "cell_type": "markdown",
   "id": "abb279e8",
   "metadata": {},
   "source": [
    "Для списка реализовать циклический сдвиг влево элементов на заданную длину. Например, если задан список $[1, 2, 3, 4, 5]$, а длина 3,то получаем список $[4, 5, 1, 2, 3]$.\n",
    "### Решение"
   ]
  },
  {
   "cell_type": "code",
   "execution_count": 24,
   "id": "08f4d28f",
   "metadata": {},
   "outputs": [
    {
     "name": "stdout",
     "output_type": "stream",
     "text": [
      "[5, 6, 7, 1, 2, 3, 4]\n",
      "[1, 2, 3, 4, 5, 6, 7]\n",
      "[5, 6, 7, 4, 3, 2, 1]\n"
     ]
    }
   ],
   "source": [
    "L=[1,2,3,4,5,6,7]\n",
    "\n",
    "def movefix1(L,n):\n",
    "    S=L\n",
    "    for i in range(1,n+1):\n",
    "        S=S[1:]+[S[0]]\n",
    "    return S\n",
    "print(movefix1(L,4))\n",
    "print(L)\n",
    "\n",
    "def movefix2(L,n):\n",
    "    if n==0:\n",
    "        return L\n",
    "    else:\n",
    "        return movefix2(L[1:],n-1)+[L[0]]\n",
    "print(movefix2(L,4))"
   ]
  },
  {
   "cell_type": "markdown",
   "id": "071234f1",
   "metadata": {},
   "source": [
    "### Задача 5.\n",
    "Составьте подпрограмму, которая для заданного $n$ позволяет определить, сколько целых чисел между 1 и $n$ делятся на 37 и на 13.\n",
    "### Решение"
   ]
  },
  {
   "cell_type": "code",
   "execution_count": 54,
   "id": "2fb352c5",
   "metadata": {},
   "outputs": [
    {
     "data": {
      "text/plain": [
       "2"
      ]
     },
     "execution_count": 54,
     "metadata": {},
     "output_type": "execute_result"
    }
   ],
   "source": [
    "def myf(n):\n",
    "    s=0\n",
    "    for i in range(1,n+1):\n",
    "        if (i%13==0) & (i%37==0):\n",
    "            s+=1\n",
    "    return s\n",
    "\n",
    "myf(1000)"
   ]
  },
  {
   "cell_type": "markdown",
   "id": "082a8ca2",
   "metadata": {},
   "source": [
    "### Задача 6.\n",
    "Заданы два списка. Реализовать подпрограмму, в которой постройте список, состоящий из элементов, непринадлежащих обоим спискам (предложите итерационный и рекурсивный алгоритм).\n",
    "### Решение"
   ]
  },
  {
   "cell_type": "code",
   "execution_count": 31,
   "id": "7468b807",
   "metadata": {},
   "outputs": [
    {
     "name": "stdout",
     "output_type": "stream",
     "text": [
      "[1, 2, 3, 6, 7, 8]\n",
      "[1, 2, 3, 6, 7, 8]\n"
     ]
    }
   ],
   "source": [
    "a=[1,2,3,4,5]\n",
    "b=[4,5,6,7,8]\n",
    "\n",
    "def ab(a,b):\n",
    "    c=[]\n",
    "    for i in a:\n",
    "        if not(i in b):\n",
    "            c.append(i)\n",
    "    for i in b:\n",
    "        if not(i in a):\n",
    "            c.append(i)\n",
    "    return c\n",
    "print(ab(a,b))\n",
    "\n",
    "def difference(a,b):\n",
    "    if a==[]:\n",
    "        return []\n",
    "    elif not(a[0] in b):\n",
    "        return [a[0]]+difference(a[1:],b)\n",
    "    else:\n",
    "        return difference(a[1:],b)\n",
    "\n",
    "def final(a,b):\n",
    "    return difference(a,b)+difference(b,a)\n",
    "print(final(a,b))\n"
   ]
  },
  {
   "cell_type": "markdown",
   "id": "0daf7560",
   "metadata": {},
   "source": [
    "## Задачи для самостоятельного решения"
   ]
  },
  {
   "cell_type": "markdown",
   "id": "22af9752",
   "metadata": {},
   "source": [
    "1. Реализовать программу, позволяющую рассчитать для заданного $n$ сумму ряда:\n",
    "$$1^2-3^2+5^2-7^2+\\ldots+ (-1)^{n}(2n+1)^2$$\n",
    "\n",
    "2. Команда жюри принимает решение большинством голосов. Результаты их голосования заносятся в массив: 1 – «за», 0 – «против». Реализовать программу, в которой осуществляется ввод результатов голосования и выводится сообщение о принятии или непринятии решения.\n",
    "\n",
    "3. В заданном кортеже найти минимальное значение, максимальное значения и среднее арифметическое элементов кортежа.\n",
    "\n",
    "4. Заданы два списка. Постройте список, содержащий все элементы, принадлежащие обоим спискам.\n",
    "\n",
    "5. Написать функцию, которая для заданного в качестве параметра списка чисел возвращает номер элемента, имеющего наибольшее значение синуса.\n",
    "\n",
    "6. Реализовать подпрограмму, в которой все заданные элементы списка заменяются на заданный (предложите итерационный и рекурсивный алгоритм)."
   ]
  },
  {
   "cell_type": "markdown",
   "id": "4364a75b",
   "metadata": {},
   "source": [
    "### Решение первой задачи"
   ]
  },
  {
   "cell_type": "code",
   "execution_count": 40,
   "id": "d30ac1ec",
   "metadata": {},
   "outputs": [
    {
     "data": {
      "text/plain": [
       "-32"
      ]
     },
     "execution_count": 40,
     "metadata": {},
     "output_type": "execute_result"
    }
   ],
   "source": [
    "def f(n):\n",
    "    s=0\n",
    "    for i in range(0,n+1):\n",
    "        s+=((-1)**i)*(2*i+1)**2\n",
    "    return s\n",
    "\n",
    "f(3)"
   ]
  },
  {
   "cell_type": "code",
   "execution_count": null,
   "id": "0ddf7bbf",
   "metadata": {},
   "outputs": [],
   "source": []
  },
  {
   "cell_type": "code",
   "execution_count": null,
   "id": "a922b027",
   "metadata": {},
   "outputs": [],
   "source": []
  }
 ],
 "metadata": {
  "kernelspec": {
   "display_name": "Python 3 (ipykernel)",
   "language": "python",
   "name": "python3"
  },
  "language_info": {
   "codemirror_mode": {
    "name": "ipython",
    "version": 3
   },
   "file_extension": ".py",
   "mimetype": "text/x-python",
   "name": "python",
   "nbconvert_exporter": "python",
   "pygments_lexer": "ipython3",
   "version": "3.8.10"
  }
 },
 "nbformat": 4,
 "nbformat_minor": 5
}
