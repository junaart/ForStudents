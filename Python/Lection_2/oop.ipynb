{
 "cells": [
  {
   "cell_type": "code",
   "execution_count": 5,
   "id": "07fbb132-043f-42f4-84eb-8dd15a5290f3",
   "metadata": {},
   "outputs": [],
   "source": [
    "class student:\n",
    "    __first_name = None\n",
    "    __last_name = None\n",
    "    __number_book = None\n",
    "    __birthday = None\n",
    "\n",
    "    def get_first_name(self):\n",
    "        return self.__first_name\n",
    "    def get_last_name(self):\n",
    "        return self.__last_name\n",
    "    def get_number_book(self):\n",
    "        return self.__number_book\n",
    "    def get_birthday(self):\n",
    "        return self.__birthday\n",
    "\n",
    "    def set__first_name(self,x):\n",
    "        if isinstance(x,str):\n",
    "            self.__first_name=x\n",
    "    def set__last_name(self,x):\n",
    "        if isinstance(x,str):\n",
    "            self.__last_name=x\n",
    "    def set__number_book(self,x):\n",
    "        if isinstance(x,int):\n",
    "            self.__number_book=x\n",
    "    def set__birthday(self,x):\n",
    "        if isinstance(x,str):\n",
    "            self.__birthday=x\n",
    "\n",
    "    def __init__(self, a,b,c,d):\n",
    "        self.set__first_name(a)\n",
    "        self.set__last_name(b)\n",
    "        self.set__number_book(c)\n",
    "        self.set__birthday(d)"
   ]
  },
  {
   "cell_type": "code",
   "execution_count": 6,
   "id": "9c2eb7df-e4fc-4ed3-b120-1501f18a913b",
   "metadata": {},
   "outputs": [],
   "source": [
    "s=student(\"Юрий\",\"Артамонов\",\"555\",\"24/01/1974\")"
   ]
  },
  {
   "cell_type": "code",
   "execution_count": 7,
   "id": "8a36b4c0-da43-4b59-b586-74d178b192d6",
   "metadata": {},
   "outputs": [
    {
     "data": {
      "text/plain": [
       "['__class__',\n",
       " '__delattr__',\n",
       " '__dict__',\n",
       " '__dir__',\n",
       " '__doc__',\n",
       " '__eq__',\n",
       " '__format__',\n",
       " '__ge__',\n",
       " '__getattribute__',\n",
       " '__gt__',\n",
       " '__hash__',\n",
       " '__init__',\n",
       " '__init_subclass__',\n",
       " '__le__',\n",
       " '__lt__',\n",
       " '__module__',\n",
       " '__ne__',\n",
       " '__new__',\n",
       " '__reduce__',\n",
       " '__reduce_ex__',\n",
       " '__repr__',\n",
       " '__setattr__',\n",
       " '__sizeof__',\n",
       " '__str__',\n",
       " '__subclasshook__',\n",
       " '__weakref__',\n",
       " '_student__birthday',\n",
       " '_student__first_name',\n",
       " '_student__last_name',\n",
       " '_student__number_book',\n",
       " 'get_birthday',\n",
       " 'get_first_name',\n",
       " 'get_last_name',\n",
       " 'get_number_book',\n",
       " 'set__birthday',\n",
       " 'set__first_name',\n",
       " 'set__last_name',\n",
       " 'set__number_book']"
      ]
     },
     "execution_count": 7,
     "metadata": {},
     "output_type": "execute_result"
    }
   ],
   "source": [
    "dir(s)"
   ]
  },
  {
   "cell_type": "code",
   "execution_count": 11,
   "id": "4c44bf78-1c6b-4fd4-98d1-e1729fa96c04",
   "metadata": {},
   "outputs": [
    {
     "data": {
      "text/plain": [
       "'Олег'"
      ]
     },
     "execution_count": 11,
     "metadata": {},
     "output_type": "execute_result"
    }
   ],
   "source": [
    "s._student__first_name"
   ]
  },
  {
   "cell_type": "code",
   "execution_count": 12,
   "id": "63e7ec37-4ecf-41f6-aa3f-0321df97fc71",
   "metadata": {},
   "outputs": [
    {
     "data": {
      "text/plain": [
       "'Олег'"
      ]
     },
     "execution_count": 12,
     "metadata": {},
     "output_type": "execute_result"
    }
   ],
   "source": [
    "s.get_first_name()"
   ]
  },
  {
   "cell_type": "code",
   "execution_count": 13,
   "id": "3f64d6a5-ebb9-4b54-839c-ec559ef97bf2",
   "metadata": {},
   "outputs": [],
   "source": [
    "s.set__first_name(\"Юрий\")"
   ]
  },
  {
   "cell_type": "code",
   "execution_count": 14,
   "id": "6c12bf12-a3dc-45ec-94a6-3ed9cdd0ad7c",
   "metadata": {},
   "outputs": [
    {
     "data": {
      "text/plain": [
       "'Юрий'"
      ]
     },
     "execution_count": 14,
     "metadata": {},
     "output_type": "execute_result"
    }
   ],
   "source": [
    "s.get_first_name()"
   ]
  },
  {
   "cell_type": "code",
   "execution_count": 55,
   "id": "80f6abb4-36d3-4f07-bc9b-f70cd602b2b3",
   "metadata": {},
   "outputs": [],
   "source": [
    "import random\n",
    "from datetime import datetime\n",
    "\n",
    "class gramm:\n",
    "    __rules=[]\n",
    "    __ternimal=[]\n",
    "    __notterminal=[]\n",
    "    __init_S=None\n",
    "\n",
    "    def add_rule(self, S):\n",
    "        self.__rules.append(S)\n",
    "\n",
    "    def look(self):\n",
    "        return self.__rules\n",
    "    \n",
    "    def get_terminal(self):\n",
    "        return self.__terminal\n",
    "\n",
    "    def set_terminal(self, new_terminals):\n",
    "        self.__terminal = new_terminals\n",
    "\n",
    "    def get_notterminal(self):\n",
    "        return self.__notterminal\n",
    "\n",
    "    def set_notterminal(self, new_notterminals):\n",
    "        self.__notterminal = new_notterminals\n",
    "        \n",
    "    def __init__(self,term_abc,notterm_abc,init_symbol):\n",
    "        self.set_terminal(term_abc)\n",
    "        self.set_notterminal(notterm_abc)\n",
    "        self.__init_S=init_symbol\n",
    "    \n",
    "    def p_terminal(self,L):\n",
    "        pr=True\n",
    "        for i in L:\n",
    "            if not(i in self.__terminal):\n",
    "                pr=False\n",
    "        return pr\n",
    "\n",
    "    def deduct(self, L,p):\n",
    "        n=0\n",
    "        random.seed(datetime.now())\n",
    "        while (n!=100000) & (not(self.p_terminal(L))):\n",
    "            r=random.randint(0, len(self.__rules)-1)\n",
    "            st=self.__rules[r]\n",
    "            if L.find(st[0])!=-1:\n",
    "                if p:\n",
    "                    print(st)\n",
    "                L=L.replace(st[0],st[1])\n",
    "            n+=1\n",
    "        return L"
   ]
  },
  {
   "cell_type": "code",
   "execution_count": 48,
   "id": "45519763-4bc6-4b20-a521-5af1d61642e7",
   "metadata": {},
   "outputs": [],
   "source": [
    "A=gramm([\"n\",\"b\",\"s\",\"m\",\"f\",\"g\",\"a\",\"\"],[\"Q1\",\"Q2\",\"Q3\",\"Q4\",\"Q0\",\"S\"],\"S\")\n",
    "A.add_rule([\"Q1\", \"n\"])\n",
    "A.add_rule([\"Q2\", \"Q1b\"])\n",
    "A.add_rule([\"Q3\", \"Q1s\"])\n",
    "A.add_rule([\"Q3\", \"Q2s\"])\n",
    "A.add_rule([\"Q3\", \"Q3b\"])\n",
    "A.add_rule([\"Q4\", \"Q2m\"])\n",
    "A.add_rule([\"Q4\", \"Q3m\"])\n",
    "A.add_rule([\"S\", \"Q4g\"])\n",
    "A.add_rule([\"Q1\", \"Sa\"])\n",
    "A.add_rule([\"S\", \"\"])\n",
    "A.add_rule([\"Q0\", \"Sf\"])\n",
    "A.add_rule([\"Q0\", \"Q1f\"])"
   ]
  },
  {
   "cell_type": "code",
   "execution_count": 50,
   "id": "5f7164d0-8cfa-4a47-a60d-35e14814d8ce",
   "metadata": {},
   "outputs": [
    {
     "name": "stdout",
     "output_type": "stream",
     "text": [
      "['S', 'Q4g']\n",
      "['Q4', 'Q2m']\n",
      "['Q2', 'Q1b']\n",
      "['Q1', 'Sa']\n",
      "['S', '']\n"
     ]
    },
    {
     "data": {
      "text/plain": [
       "'abmg'"
      ]
     },
     "execution_count": 50,
     "metadata": {},
     "output_type": "execute_result"
    }
   ],
   "source": [
    "A.deduct(\"S\",True)"
   ]
  },
  {
   "cell_type": "code",
   "execution_count": 51,
   "id": "a18e014d-d971-4d93-9db8-6db5ee1d25da",
   "metadata": {},
   "outputs": [
    {
     "data": {
      "text/plain": [
       "['',\n",
       " 'absmgabmg',\n",
       " '',\n",
       " 'nbsmg',\n",
       " '',\n",
       " '',\n",
       " '',\n",
       " 'nsmg',\n",
       " '',\n",
       " '',\n",
       " 'nbmg',\n",
       " 'nsmg',\n",
       " 'nbmg',\n",
       " 'nbsbmg',\n",
       " '',\n",
       " 'nbmgasbbmgabmgabsbmg',\n",
       " '',\n",
       " '',\n",
       " 'nsmg',\n",
       " '',\n",
       " 'nsmgabmg',\n",
       " 'nbsmg',\n",
       " '',\n",
       " 'absbbmg',\n",
       " 'abmg',\n",
       " '',\n",
       " 'nbmg',\n",
       " '',\n",
       " 'nsbmgabsmgabsmg',\n",
       " '',\n",
       " 'nsmg',\n",
       " '',\n",
       " '',\n",
       " 'nsbmg',\n",
       " 'nbmg',\n",
       " 'abmg',\n",
       " 'abmg',\n",
       " '',\n",
       " 'nbmg',\n",
       " 'abmg',\n",
       " '',\n",
       " 'nbmg',\n",
       " '',\n",
       " 'nbmg',\n",
       " '',\n",
       " '',\n",
       " 'asmgabmgasmg',\n",
       " 'nbmg',\n",
       " 'absmgasbmgabsbbbmg',\n",
       " '',\n",
       " '',\n",
       " '',\n",
       " '',\n",
       " '',\n",
       " '',\n",
       " 'nbsmg',\n",
       " 'nsmg',\n",
       " '',\n",
       " '',\n",
       " 'nbmgabsmg',\n",
       " '',\n",
       " '',\n",
       " 'nbmg',\n",
       " 'asmg',\n",
       " '',\n",
       " 'asbbmg',\n",
       " '',\n",
       " 'abmg',\n",
       " 'abmg',\n",
       " 'abmg',\n",
       " '',\n",
       " '',\n",
       " 'nbmg',\n",
       " 'nbmg',\n",
       " '',\n",
       " '',\n",
       " '',\n",
       " '',\n",
       " '',\n",
       " 'nbsbmg',\n",
       " '',\n",
       " 'absbmg',\n",
       " 'nbsbbmg',\n",
       " 'abmg',\n",
       " '',\n",
       " 'nbmg',\n",
       " '',\n",
       " 'nsbbmg',\n",
       " '',\n",
       " '',\n",
       " '',\n",
       " '',\n",
       " '',\n",
       " '',\n",
       " 'nsmg',\n",
       " '',\n",
       " '',\n",
       " '',\n",
       " 'nsmg',\n",
       " 'nsmg']"
      ]
     },
     "execution_count": 51,
     "metadata": {},
     "output_type": "execute_result"
    }
   ],
   "source": [
    "[A.deduct(\"S\",False) for i in range(100)]"
   ]
  },
  {
   "cell_type": "code",
   "execution_count": 21,
   "id": "9fe5522e-fa35-48ab-b5fb-406b9c13ca7b",
   "metadata": {},
   "outputs": [
    {
     "data": {
      "text/plain": [
       "False"
      ]
     },
     "execution_count": 21,
     "metadata": {},
     "output_type": "execute_result"
    }
   ],
   "source": [
    "True & False"
   ]
  },
  {
   "cell_type": "code",
   "execution_count": 56,
   "id": "8dab9eb7-1308-488a-9344-7bab15c21ae8",
   "metadata": {},
   "outputs": [
    {
     "data": {
      "text/plain": [
       "['22331123',\n",
       " '3',\n",
       " '3331321133',\n",
       " '212112',\n",
       " '321',\n",
       " '3',\n",
       " '221123333',\n",
       " '13313223',\n",
       " '221113',\n",
       " '1311112']"
      ]
     },
     "execution_count": 56,
     "metadata": {},
     "output_type": "execute_result"
    }
   ],
   "source": [
    "terminal = ['1', '2', '3']\n",
    "notterminal = ['S', 'B', 'C', 'D']\n",
    "B = gramm(terminal, notterminal, 'S')\n",
    "\n",
    "B.add_rule([\"S\", \"C1\"])\n",
    "B.add_rule([\"S\", \"B2\"])\n",
    "B.add_rule([\"S\", \"3\"])\n",
    "B.add_rule([\"S\", \"D3\"])\n",
    "B.add_rule([\"S\", \"S3\"])\n",
    "B.add_rule([\"B\", \"1\"])\n",
    "B.add_rule([\"B\", \"D1\"])\n",
    "B.add_rule([\"B\", \"S1\"])\n",
    "B.add_rule([\"C\", \"B1\"])\n",
    "B.add_rule([\"C\", \"2\"])\n",
    "B.add_rule([\"C\", \"D2\"])\n",
    "B.add_rule([\"C\", \"S2\"])\n",
    "B.add_rule([\"D\", \"C2\"])\n",
    "B.add_rule([\"D\", \"B3\"])\n",
    "words = [B.deduct('S', False) for i in range(10)]\n",
    "words"
   ]
  },
  {
   "cell_type": "code",
   "execution_count": null,
   "id": "c904b687-bb1c-42d1-9d8f-fad67f245340",
   "metadata": {},
   "outputs": [],
   "source": []
  }
 ],
 "metadata": {
  "kernelspec": {
   "display_name": "Python 3 (ipykernel)",
   "language": "python",
   "name": "python3"
  },
  "language_info": {
   "codemirror_mode": {
    "name": "ipython",
    "version": 3
   },
   "file_extension": ".py",
   "mimetype": "text/x-python",
   "name": "python",
   "nbconvert_exporter": "python",
   "pygments_lexer": "ipython3",
   "version": "3.8.10"
  }
 },
 "nbformat": 4,
 "nbformat_minor": 5
}
