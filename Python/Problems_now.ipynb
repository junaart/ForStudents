{
 "cells": [
  {
   "cell_type": "markdown",
   "id": "c291d177-1b4d-4c22-bad7-0adee46c9cf8",
   "metadata": {},
   "source": [
    "Реализовать класс «Персона» с соответствующими полями: ФИО, дата рождения, пол (и свои). Назначить для этих полей сетеры и гетеры, реализовать конструктор класса. Самостоятельно выбрать, что инкапсулируется.\n",
    "\n",
    "Создать потомок класса «Персона» - класс «Сотрудник», определив для него дополнительные поля: Должность, оклад, место работы (и свои), реализовать для них гетеры и сетеры, конструктор класса. Самостоятельно выбрать, что инкапсулируется.\n",
    "\n",
    "Реализовать метод класса увеличения оклада сотрудника на 10%. Продемонстрировать работу с классами через соответствующие экземпляры классов."
   ]
  },
  {
   "cell_type": "code",
   "execution_count": null,
   "id": "8c810350-d274-4c94-bb09-6215a69a7956",
   "metadata": {},
   "outputs": [],
   "source": []
  }
 ],
 "metadata": {
  "kernelspec": {
   "display_name": "Python 3 (ipykernel)",
   "language": "python",
   "name": "python3"
  },
  "language_info": {
   "codemirror_mode": {
    "name": "ipython",
    "version": 3
   },
   "file_extension": ".py",
   "mimetype": "text/x-python",
   "name": "python",
   "nbconvert_exporter": "python",
   "pygments_lexer": "ipython3",
   "version": "3.10.6"
  }
 },
 "nbformat": 4,
 "nbformat_minor": 5
}
