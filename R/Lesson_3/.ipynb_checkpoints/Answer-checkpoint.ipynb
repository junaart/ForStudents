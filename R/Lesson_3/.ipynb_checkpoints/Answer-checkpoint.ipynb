{
 "cells": [
  {
   "cell_type": "markdown",
   "id": "9015b25d-05e1-44cb-be26-2f3137b83e8c",
   "metadata": {},
   "source": [
    "# Решение задач из семинара 3"
   ]
  },
  {
   "cell_type": "markdown",
   "id": "c3545a44-60fc-4e7e-864f-702cb3979486",
   "metadata": {},
   "source": [
    "**Задача 1.** В комиссии из 5 человек 4 члена принимают независимо друг от друга правильное решение с вероятностью 0.9, а пятый для принятия решения бросает монету. Окончательное решенние принимается большинством голосов. Кто с большей вероятностью принимает правильное решение: комиссия или один человек из комиссии?"
   ]
  },
  {
   "cell_type": "markdown",
   "id": "42b1bf3f-a09b-4983-b5db-d8db5e3c02d3",
   "metadata": {},
   "source": [
    "**Теоретическое решение**\n",
    "\n",
    "Пусть $A$ - событие, состоящее в том, что первый принимает правильное решение;\n",
    "$B$ - событие, состоящее в том, что второй принимает правильное решение;\n",
    "$C$ - событие, состоящее в том, что третий принимает правильное решение;\n",
    "$D$ - событие, состоящее в том, что четвертый принимает правильное решение;\n",
    "$E$ - событие, состоящее в том, что пятый принимает правильное решение.\n",
    "\n",
    "Комиссия принимает правильное решение большинством голосов, если происходит событие: \n",
    "$$F=ABCDE +ABCD\\overline{E}+ABC\\overline D E+AB\\overline{C} DE+A\\overline{B}CDE+\\overline{A}BCDE$$\n",
    "$$ABC\\overline{D}\\overline{E}+AB\\overline{C}D\\overline{E}+A\\overline{B}CD\\overline{E}+\\overline{A}BCD\\overline{E}+AB\\overline{C}\\overline{D}E+A\\overline{B}C\\overline{D}E$$\n",
    "$$+\\overline{A}BC\\overline{D}E+A\\overline{B}\\overline{C}DE+\\overline{A}B\\overline{C}DE+\\overline{A}\\overline{B}CDE$$\n",
    "\n",
    "$$P(F)=2\\cdot 0.9^4\\cdot 0.5+4\\cdot 0.9^3\\cdot 0.1 \\cdot 0.5+6\\cdot 0.1^2\\cdot 0.9^2\\cdot 0.5+4\\cdot 0.9^3\\cdot 0.1\\cdot 0.5$$\n",
    "$$P(F)=0.972$$\n",
    "\n",
    "Комиссия принимает правильное решение одним человеком, если происходит событие:\n",
    "$$G=AA_1+BB_1+CC_1+DD_1+EE_1$$\n",
    "где $P(A_1)=P(B_1)=P(C_1)=P(D_1)=P(E_1)=\\frac{1}{5}$ - вероятность случайно выбрать одного человека из пяти.\n",
    "\n",
    "$$P(G)=4\\cdot0.9\\cdot\\frac{1}{5}+0.5\\cdot\\frac{1}{5}=0.82$$\n",
    "\n",
    "**Программное решение.**\n"
   ]
  },
  {
   "cell_type": "code",
   "execution_count": 1,
   "id": "f163a8a2-1c8c-4a6f-9f68-bd864fac4652",
   "metadata": {},
   "outputs": [
    {
     "name": "stdout",
     "output_type": "stream",
     "text": [
      "[1] 0.97153\n"
     ]
    }
   ],
   "source": [
    "# Принятие решения большинством голосов\n",
    "\n",
    "N <- 100000\n",
    "m <- 0\n",
    "for (i in 1: N)\n",
    "  {\n",
    "    n <- 0\n",
    "    s <- runif(5,0,1)\n",
    "    if (s[1]<=0.9) {n <- n+1}\n",
    "    if (s[2]<=0.9) {n <- n+1}\n",
    "    if (s[3]<=0.9) {n <- n+1}\n",
    "    if (s[4]<=0.9) {n <- n+1}\n",
    "    if (s[5]<=0.5) {n <- n+1}\n",
    "    if (n>=3) {m <- m+1}\n",
    "  }\n",
    " print(m/N)"
   ]
  },
  {
   "cell_type": "code",
   "execution_count": 2,
   "id": "a21b3e3e-6c58-48cc-bea9-9cfcaffa6210",
   "metadata": {},
   "outputs": [
    {
     "name": "stdout",
     "output_type": "stream",
     "text": [
      "[1] 0.81959\n"
     ]
    }
   ],
   "source": [
    "#Принятие решения одним членом комиссии\n",
    "\n",
    "N <- 100000\n",
    "m <- 0\n",
    "for (i in 1: N)\n",
    "  {\n",
    "    s <- sample(1:5,1)\n",
    "    if (s<5) \n",
    "    {\n",
    "     p <- runif(1,0,1)\n",
    "     if (p<=0.9) m <- m+1\n",
    "    }\n",
    "    else\n",
    "    {\n",
    "     p <- runif(1,0,1)\n",
    "     if (p<=0.5) m <- m+1\n",
    "    }\n",
    "  }\n",
    " print(m/N)"
   ]
  },
  {
   "cell_type": "markdown",
   "id": "c9c4739c-0f3d-4a72-9252-9fdf75fad59a",
   "metadata": {},
   "source": [
    "**Задача 2** Три стрелка производят по одному выстрелу. Вероятность попадания в цель каждого стрелка равна 0.9; 0.8; 0.85 соответственно. Найти вероятность того, что в цель попадут только два стрелка?"
   ]
  },
  {
   "cell_type": "markdown",
   "id": "dd36166c-92bd-41b3-b83a-38c32cd4e2fb",
   "metadata": {},
   "source": [
    "**Теоретическое решение.**\n",
    "\n",
    "Пусть $A$ - событие, что попал первый стрелок, $B$ - событие, что попал второй стрелок, $C$ - событие, что попал третий стрелок. Нас интересует событие:\n",
    "$AB\\overline{C}+A\\overline{B}C+\\overline{A}BC$. Искомая вероятность:\n",
    "$$P(AB\\overline{C}+A\\overline{B}C+\\overline{A}BC)=0.9\\cdot0.8\\cdot0.15+0.9\\cdot0.2\\cdot0.85+0.1\\cdot0.8\\cdot0.85$$\n",
    "$$P(AB\\overline{C}+A\\overline{B}C+\\overline{A}BC)=0.329$$\n",
    "\n",
    "**Программное решение.**\n",
    "\n",
    " "
   ]
  },
  {
   "cell_type": "code",
   "execution_count": 3,
   "id": "00cabe6a-9d52-4c1c-80a3-76fe300fda31",
   "metadata": {},
   "outputs": [
    {
     "name": "stdout",
     "output_type": "stream",
     "text": [
      "[1] 0.329163\n"
     ]
    }
   ],
   "source": [
    " N <- 1000000; m <- 0\n",
    "  for (i in 1:N)\n",
    "    {\n",
    "      s1 <- runif(1,0,1)\n",
    "      s2 <- runif(1,0,1)\n",
    "      s3 <- runif(1,0,1)\n",
    "      if ((s1<=0.9) && (s2<=0.8) && (s3>0.85)) \n",
    "      m <- m+1\n",
    "      if ((s1<=0.9) && (s2>0.8) && (s3<=0.85)) \n",
    "      m <- m+1\n",
    "      if ((s1>0.9) && (s2<=0.8) && (s3<=0.85)) \n",
    "      m <- m+1\n",
    "    }\n",
    "  print(m/N)\n"
   ]
  },
  {
   "cell_type": "markdown",
   "id": "36a6ec8c-1cf3-4391-88bd-fdd6042610ca",
   "metadata": {},
   "source": [
    "**Задача 3.** Василий попадает по мячу один раз из трех. Какова вероятность, что он попадет три раза из десяти?"
   ]
  },
  {
   "cell_type": "markdown",
   "id": "38549c66-6734-42de-8a10-41d0fca36365",
   "metadata": {},
   "source": [
    "**Теоретическое решение.**\n",
    "\n",
    "Пусть $A$ - событие, что Василий попал по мячу, $P(A)=\\frac{1}{3}$.\n",
    "Обозначим через $A_i$ - событие, что Василий попал по мячу в i-ю попытку, $P(A_i)=\\frac{1}{3}$. Количество способов выбрать 3 раза из 10: ${10 \\choose 3}$. Искомая вероятность: \n",
    "$$P(\\sum {A_i\\cdot A_j\\cdot A_k \\cdot \\prod {\\overline{A}_{m\\not = i,j,k}}})={10 \\choose 3}\\cdot \\left (\\frac{1}{3} \\right )^3\\cdot \\left (\\frac{2}{3} \\right )^7=0.2601229$$\n",
    "\n",
    "**Программное решение.**"
   ]
  },
  {
   "cell_type": "code",
   "execution_count": 4,
   "id": "f0c8d393-0692-4b12-9ed2-eb070b74da68",
   "metadata": {},
   "outputs": [
    {
     "name": "stdout",
     "output_type": "stream",
     "text": [
      "[1] 0.260525\n"
     ]
    }
   ],
   "source": [
    "#Если 1 - Василий попал, 2,3 - промазал\n",
    "  N <- 1000000; m <- 0;\n",
    "  for (i in 1:N)\n",
    "    {\n",
    "      a <- sample(1:3,10,replace=TRUE)\n",
    "      if (length(subset(a,a==1))==3) m <- m+1\n",
    "    }\n",
    "  print(m/N)"
   ]
  },
  {
   "cell_type": "markdown",
   "id": "2338b335-2045-413d-853b-c8e367233c2e",
   "metadata": {},
   "source": [
    "**Задача 4.** Вероятность рождения девочки 0.51, а мальчика 0.49. Если в семье Василия пятеро детей,то какова вероятность, что в ней три девочки?"
   ]
  },
  {
   "cell_type": "markdown",
   "id": "10c7618c-a8b3-4577-9481-4744a0975e9f",
   "metadata": {},
   "source": [
    "**Теоретическое решение.**\n",
    "\n",
    "Пусть $A$ - событие, что ребенок является девочкой, нас интересует событие: $$AAA\\overline{A}\\overline{A}+AA\\overline{A}A\\overline{A}+A\\overline{A}AA\\overline{A}+\\overline{A}AAA\\overline{A}+AA\\overline{A}\\overline{A}A+$$\n",
    "$$A\\overline{A}A\\overline{A}A+\\overline{A}AA\\overline{A}A+A\\overline{A}\\overline{A}AA+\\overline{A}A\\overline{A}AA+\\overline{A}\\overline{A}AAA$$\n",
    "\n",
    "Искомая вероятность: $$10\\cdot 0.51^3\\cdot 0.49^2=0.3184951$$\n",
    "\n",
    "**Программное решение.**"
   ]
  },
  {
   "cell_type": "code",
   "execution_count": 5,
   "id": "c8fa4765-f58b-4dff-a093-22384a491a6e",
   "metadata": {},
   "outputs": [
    {
     "name": "stdout",
     "output_type": "stream",
     "text": [
      "[1] 0.318599\n"
     ]
    }
   ],
   "source": [
    "  N <- 1000000\n",
    "  m <- 0\n",
    "  for (i in 1:N)\n",
    "    {\n",
    "     s <- runif(5,0,1)\n",
    "     if (length(subset(s,s<=0.51))==3) \n",
    "     m <- m+1\n",
    "    }\n",
    "  print(m/N)"
   ]
  },
  {
   "cell_type": "markdown",
   "id": "72299c06-516d-48cc-b1cd-54c3865e99bb",
   "metadata": {},
   "source": [
    "**Задача 5.** В двух коробках лежат зеленые и красные мячи: в первой - 4 зеленых и 5 красных, во второй 7 зеленых и 3 красных. Из второй коробки наугад взяли мяч и переложили его в первую коробку. Найти вероятность того, что наугад взятый после этого из первой коробки шар будет зеленым."
   ]
  },
  {
   "cell_type": "markdown",
   "id": "03e73c1b-6c61-4e04-ac87-334a1a2b4cce",
   "metadata": {},
   "source": [
    "**Теоретическое решение.**\n",
    "\n",
    "Пусть $B$ - событие переложить из второй корзины в первую зеленый шар, $P(B)=\\frac{7}{10}, P(\\overline{B})=\\frac{3}{10}$, пусть также $A$ - событие вытащить из первой корзины зеленый шар: $P(A)=P(B)\\cdot P(A|B)+P(\\overline{B})\\cdot P(A|\\overline{B})$. Имеем: $P(A|B)=\\frac{1}{2}$, $P(A|\\overline{B})=\\frac{4}{10}=\\frac{2}{5}$.\n",
    "Искомая вероятность: \n",
    "$$P(A)=P(B)\\cdot P(A|B)+P(\\overline{B})\\cdot P(A|\\overline{B})=\\frac{7}{10}\\cdot \\frac{1}{2}+\\frac{3}{10}\\cdot \\frac{2}{5}=0.47$$\n",
    "\n",
    "**Программное решение.** "
   ]
  },
  {
   "cell_type": "code",
   "execution_count": 7,
   "id": "fedbd796-be3a-4b66-a65f-8f23bb3ae761",
   "metadata": {},
   "outputs": [
    {
     "name": "stdout",
     "output_type": "stream",
     "text": [
      "[1] 0.470758\n"
     ]
    }
   ],
   "source": [
    "#Пусть для первой коробки с 1 по 4 - зеленые шары, с 5  - красные\n",
    "#Для второй коробки с 1 по 7 - зеленые, с 8 - красные\n",
    "\n",
    "  N <- 1000000\n",
    "  m <- 0\n",
    "  for (i in 1:N)\n",
    "    {\n",
    "     v <- sample(1:10,1)\n",
    "     if (v<=7) \n",
    "     {\n",
    "       p <- sample(1:10,1)\n",
    "       if (p<=5) m <- m+1\n",
    "     }\n",
    "     else\n",
    "     {\n",
    "       p <- sample(1:10,1)\n",
    "       if (p<=4) m <- m+1\n",
    "     }\n",
    "    }\n",
    "  print(m/N)\n"
   ]
  },
  {
   "cell_type": "code",
   "execution_count": null,
   "id": "540ec174-156b-4181-aa6e-2bd434d6a237",
   "metadata": {},
   "outputs": [],
   "source": []
  }
 ],
 "metadata": {
  "kernelspec": {
   "display_name": "R",
   "language": "R",
   "name": "ir"
  },
  "language_info": {
   "codemirror_mode": "r",
   "file_extension": ".r",
   "mimetype": "text/x-r-source",
   "name": "R",
   "pygments_lexer": "r",
   "version": "3.5.3"
  }
 },
 "nbformat": 4,
 "nbformat_minor": 5
}
