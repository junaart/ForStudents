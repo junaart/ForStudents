{
 "cells": [
  {
   "cell_type": "markdown",
   "id": "53987095-3498-41b2-bdaf-7e678144dca3",
   "metadata": {},
   "source": [
    "# Практика 3"
   ]
  },
  {
   "cell_type": "markdown",
   "id": "dc14a80b-5d66-45c3-a950-d52187cb380d",
   "metadata": {},
   "source": [
    "- Знакомство с управляющими конструкциями: условные конструкции, циклические конструкции в R, создание собственных функций. \n",
    "- Экспериментальное решение задач теории вероятностей с использованием R."
   ]
  },
  {
   "cell_type": "markdown",
   "id": "2ae28ef7-dd2e-456c-822c-de5460e00e18",
   "metadata": {
    "jp-MarkdownHeadingCollapsed": true,
    "tags": []
   },
   "source": [
    "## Знакомство с управляющими конструкциями: условные конструкции, циклические конструкции в R, создание собственных функций."
   ]
  },
  {
   "cell_type": "markdown",
   "id": "d2fe7c83-355b-4d9b-9000-ba7703d2b5d7",
   "metadata": {},
   "source": [
    "Чтобы полноценно использовать среду R целесообразно ознакомиться с управляющими конструкциями.\n",
    "\n",
    "Они позволяют самому создавать срредства анализа данных, когда подходящих шаблонов нет под рукой."
   ]
  },
  {
   "cell_type": "markdown",
   "id": "647b330d-0ee8-4757-b211-e06ec1d532a2",
   "metadata": {},
   "source": [
    "Условное выполнение кода производится при помощи оператора \n",
    "\n",
    "**if (cond) expr1 else expr2**\n",
    "\n",
    "Здесь cond - логический вектор длины 1, expr1,expr2 - выражения,\n",
    "которые будут выполняться, если cond истинно, ложно соответственно\n",
    "\n",
    "Допускается использование сокращенной формы: if (cond) expr1"
   ]
  },
  {
   "cell_type": "markdown",
   "id": "d99fb651-4f6b-43c6-89ba-d7bb9e593374",
   "metadata": {},
   "source": [
    "- Простая условная конструкция"
   ]
  },
  {
   "cell_type": "code",
   "execution_count": 4,
   "id": "b1b11334-6a1b-49a6-9133-e1f3eed92794",
   "metadata": {},
   "outputs": [
    {
     "name": "stdout",
     "output_type": "stream",
     "text": [
      "[1] \"Число четное\"\n"
     ]
    }
   ],
   "source": [
    "n<-8\n",
    "\n",
    "if (n%%2==0) print(\"Число четное\")"
   ]
  },
  {
   "cell_type": "markdown",
   "id": "655bc738-2d10-458b-8a1d-5c4f9a4ad8e3",
   "metadata": {},
   "source": [
    "- Условная конструкция с веткой else"
   ]
  },
  {
   "cell_type": "code",
   "execution_count": 13,
   "id": "77003e87-6da9-48d8-a154-87bb977c0907",
   "metadata": {},
   "outputs": [
    {
     "name": "stdout",
     "output_type": "stream",
     "text": [
      "[1] \"Число нечетное\"\n"
     ]
    }
   ],
   "source": [
    "n<-7\n",
    "\n",
    "if (n%%2==0) print(\"Число четное\") else print(\"Число нечетное\")"
   ]
  },
  {
   "cell_type": "markdown",
   "id": "6303e80b-4f25-4029-b400-f7c5ae24f4d5",
   "metadata": {},
   "source": [
    "- Другие примеры"
   ]
  },
  {
   "cell_type": "code",
   "execution_count": 17,
   "id": "9c488aa7-6e2d-4bd9-8447-a1a86120967a",
   "metadata": {},
   "outputs": [
    {
     "name": "stdout",
     "output_type": "stream",
     "text": [
      "[1] 8 7 9\n",
      "[1] 5 2 3 4 5 6\n"
     ]
    }
   ],
   "source": [
    "x<-c(1,2,3,4,5,6)\n",
    "if (x[1] == 1) {h<-sample(3:9);print(h[5:7]);x[1]<-h[1]}\n",
    "print(x)"
   ]
  },
  {
   "cell_type": "code",
   "execution_count": 16,
   "id": "141f3cf5-0da4-405b-a26f-55e196c7ec0a",
   "metadata": {},
   "outputs": [
    {
     "data": {
      "text/html": [
       "<style>\n",
       ".list-inline {list-style: none; margin:0; padding: 0}\n",
       ".list-inline>li {display: inline-block}\n",
       ".list-inline>li:not(:last-child)::after {content: \"\\00b7\"; padding: 0 .5ex}\n",
       "</style>\n",
       "<ol class=list-inline><li>6</li><li>8</li><li>5</li><li>7</li><li>9</li><li>4</li><li>3</li></ol>\n"
      ],
      "text/latex": [
       "\\begin{enumerate*}\n",
       "\\item 6\n",
       "\\item 8\n",
       "\\item 5\n",
       "\\item 7\n",
       "\\item 9\n",
       "\\item 4\n",
       "\\item 3\n",
       "\\end{enumerate*}\n"
      ],
      "text/markdown": [
       "1. 6\n",
       "2. 8\n",
       "3. 5\n",
       "4. 7\n",
       "5. 9\n",
       "6. 4\n",
       "7. 3\n",
       "\n",
       "\n"
      ],
      "text/plain": [
       "[1] 6 8 5 7 9 4 3"
      ]
     },
     "metadata": {},
     "output_type": "display_data"
    }
   ],
   "source": [
    "h<-sample(3:9)\n",
    "h"
   ]
  },
  {
   "cell_type": "code",
   "execution_count": 19,
   "id": "a75e59bc-8f48-404c-b752-c227f6a02848",
   "metadata": {},
   "outputs": [
    {
     "name": "stdout",
     "output_type": "stream",
     "text": [
      "[1] 2.645751\n",
      "[1] 7 6 8 2 1 4 9 3 5\n",
      "[1] 2.645751 2.000000 3.000000 4.000000 5.000000\n"
     ]
    }
   ],
   "source": [
    "x<-c(1,2,3,4,5)\n",
    "if (x[1] == 1) {h<-sample(1:9);x[1]<-sqrt(h[1]);print(x[1])} else {h<-sample(1:9);x[1]<-h[1]}\n",
    "print(h)\n",
    "print(x)"
   ]
  },
  {
   "cell_type": "markdown",
   "id": "3551fad1-685a-494b-ae68-1339defb8463",
   "metadata": {},
   "source": [
    "- Циклы позволяют повторить определенную последовательность действий\n",
    "\n",
    "\n",
    "Циклический оператор while: while (cond) expr\n",
    "\n",
    "Циклический оператор for: for (id in seq) expr, где id - переменная\n",
    "цикла, seq - перечисляемая последовательность, expr - тело цикла\n",
    "\n",
    "Цикл можно прервать оператором break, принудительно закончить текущую операцию и перейти на следующую оператором next"
   ]
  },
  {
   "cell_type": "markdown",
   "id": "67614282-0480-4570-bf47-b9c47ca56d4d",
   "metadata": {},
   "source": [
    "- Напечатаем все четные числа от 1 до 20"
   ]
  },
  {
   "cell_type": "code",
   "execution_count": 22,
   "id": "ff13121b-2c04-4af5-89f0-c04464730aab",
   "metadata": {},
   "outputs": [
    {
     "name": "stdout",
     "output_type": "stream",
     "text": [
      "[1] 2\n",
      "[1] 4\n",
      "[1] 6\n",
      "[1] 8\n",
      "[1] 10\n",
      "[1] 12\n",
      "[1] 14\n",
      "[1] 16\n",
      "[1] 18\n",
      "[1] 20\n"
     ]
    }
   ],
   "source": [
    "for (i in c(1:20)) {if (i%%2==0) print(i)}"
   ]
  },
  {
   "cell_type": "markdown",
   "id": "1b27d039-15a4-41d0-ad94-d6daf8c2b487",
   "metadata": {},
   "source": [
    "- Извлекём квадратный корень до достижения заданной точности"
   ]
  },
  {
   "cell_type": "code",
   "execution_count": 24,
   "id": "ea002fc0-7b60-456c-ac25-5f57f9f6e866",
   "metadata": {},
   "outputs": [
    {
     "name": "stdout",
     "output_type": "stream",
     "text": [
      "[1] 2.236068\n",
      "[1] 1.495349\n",
      "[1] 1.222845\n",
      "[1] 1.105823\n",
      "[1] 1.051581\n",
      "[1] 1.025466\n",
      "[1] 1.012653\n",
      "[1] 1.006307\n",
      "[1] 1.003148\n",
      "[1] 1.001573\n",
      "[1] 1.000786\n"
     ]
    }
   ],
   "source": [
    "z<-5;e<-0.001;while (abs(z-1)>=e) {z<-sqrt(z);print(z)}\n"
   ]
  },
  {
   "cell_type": "markdown",
   "id": "6400ed4d-c4e7-4b7c-8912-2c5e6ed264b3",
   "metadata": {},
   "source": [
    "Часто используемые действия удобно заворачивать в функции"
   ]
  },
  {
   "cell_type": "code",
   "execution_count": 25,
   "id": "47f21477-6425-446e-8d12-c5ba3e816387",
   "metadata": {},
   "outputs": [],
   "source": [
    "f<-function(X)\n",
    "    {\n",
    "      r<-0\n",
    "      for (i in X) r<-r+i\n",
    "      return(r)\n",
    "    }"
   ]
  },
  {
   "cell_type": "code",
   "execution_count": 26,
   "id": "2a01335b-bfd3-4411-a22d-26844ea43ef3",
   "metadata": {},
   "outputs": [
    {
     "data": {
      "text/html": [
       "15"
      ],
      "text/latex": [
       "15"
      ],
      "text/markdown": [
       "15"
      ],
      "text/plain": [
       "[1] 15"
      ]
     },
     "metadata": {},
     "output_type": "display_data"
    }
   ],
   "source": [
    "f(c(1:5))"
   ]
  },
  {
   "cell_type": "code",
   "execution_count": 28,
   "id": "4449326b-5a29-4150-aaa9-4701d9439479",
   "metadata": {},
   "outputs": [],
   "source": [
    "fib<-function(n) \n",
    "{\n",
    "    if (n<=2) \n",
    "    {if (n>=0) return(1) else return(0)} \n",
    "    else\n",
    "      {return(Recall(n-1)+Recall(n-2))}}"
   ]
  },
  {
   "cell_type": "code",
   "execution_count": 29,
   "id": "71774794-d8d8-4dd9-9774-8be93852f84c",
   "metadata": {},
   "outputs": [
    {
     "data": {
      "text/html": [
       "2"
      ],
      "text/latex": [
       "2"
      ],
      "text/markdown": [
       "2"
      ],
      "text/plain": [
       "[1] 2"
      ]
     },
     "metadata": {},
     "output_type": "display_data"
    }
   ],
   "source": [
    "fib(3)"
   ]
  },
  {
   "cell_type": "markdown",
   "id": "50ba915e-dcee-41b4-95ee-d99cfa94df53",
   "metadata": {
    "jp-MarkdownHeadingCollapsed": true,
    "tags": []
   },
   "source": [
    "## Экспериментальное решение задач теории вероятностей с использованием R"
   ]
  },
  {
   "cell_type": "markdown",
   "id": "718e5b64-192c-4d4f-9d37-5c44351136c3",
   "metadata": {},
   "source": [
    "**Задача 1**. Студент знает 20 из 25 вопросов дисциплины. Найти вероятность того, что студент знает три предложенных преподавателем  вопроса.\n",
    "\n",
    "**Решение**\n",
    "\n",
    "Общее число исходов: ${25 \\choose 3}$, \n",
    "\n",
    "благоприятное число исходов: ${20 \\choose 3}$. \n",
    "\n",
    "Искомая вероятность: $\\frac{{20 \\choose 3}}{{25 \\choose 3}}=0.4956522$\n",
    "\n"
   ]
  },
  {
   "cell_type": "code",
   "execution_count": null,
   "id": "bd21ad1c-54ce-4ec3-85e6-9dfd923b4037",
   "metadata": {},
   "outputs": [],
   "source": []
  },
  {
   "cell_type": "markdown",
   "id": "958b94bc-56fa-4273-b807-308073da6369",
   "metadata": {},
   "source": []
  },
  {
   "cell_type": "code",
   "execution_count": 34,
   "id": "cd9c48f8-1a68-4a0a-9619-a6610b0f8bc7",
   "metadata": {},
   "outputs": [
    {
     "name": "stdout",
     "output_type": "stream",
     "text": [
      "[1] 0.49532\n"
     ]
    }
   ],
   "source": [
    "N <- 100000; m <- 0;\n",
    "  s <- sample(c(1:25),20);\n",
    "  for (i in 1:N)\n",
    "    {\n",
    "      p <- sample(1:25,3);\n",
    "      if (!is.na(match(p[1],s)) &\n",
    "          !is.na(match(p[2],s)) & \n",
    "          !is.na(match(p[3],s)))\n",
    "         m <- m+1\n",
    "    }\n",
    "  print(m/N)"
   ]
  },
  {
   "cell_type": "markdown",
   "id": "1a6d4195-9b57-4df5-bbb1-a853bf91cadf",
   "metadata": {},
   "source": [
    "**Задача 2.** Четыре туза из стандартной колоды перетасованы и расположены на столе картинкой вниз. Две карты, не раскрывая, убирают. Какова вероятность, что третья карта - туз пик?\n",
    "\n",
    "**Решение**\n",
    "\n",
    "Общее число исходов: $4!$, а количество благоприятных - третье место зафиксировано, на 1, 2, 4 можно переставляить: $3!$. \n",
    "\n",
    "Искомая вероятность: $\\frac{3!}{4!}=\\frac{1}{4}=0.25$"
   ]
  },
  {
   "cell_type": "code",
   "execution_count": 35,
   "id": "2b91e68e-e151-4899-907b-aecc9b14b43a",
   "metadata": {},
   "outputs": [
    {
     "name": "stdout",
     "output_type": "stream",
     "text": [
      "[1] 0.24926\n"
     ]
    },
    {
     "data": {
      "text/html": [
       "0.24931"
      ],
      "text/latex": [
       "0.24931"
      ],
      "text/markdown": [
       "0.24931"
      ],
      "text/plain": [
       "[1] 0.24931"
      ]
     },
     "metadata": {},
     "output_type": "display_data"
    }
   ],
   "source": [
    "N <- 100000; m <- 0\n",
    "  for (i in c(1:N))\n",
    "    {\n",
    "     s <- sample(1:4,4)\n",
    "     if (s[3]==3) m <- m+1\n",
    "    }\n",
    "  print(m/N)\n",
    "  0.24931"
   ]
  },
  {
   "cell_type": "markdown",
   "id": "26bb6e93-ce3f-4dc3-9a83-547ec99b6711",
   "metadata": {},
   "source": [
    "**Задача 3.** Среди 25 участников розыгрыша лотереи находятся 10 девушек. Разыгрывается 5 призов. Вычислить вероятность того, что обладателями двух призов окажутся девушки.\n",
    "\n",
    "**Решение**\n",
    "\n",
    "Общее число исходов выбрать пять человек: ${25 \\choose 5}$, число благоприятных исходов: ${10 \\choose 2}\\cdot {15 \\choose 3}$. Искомая вероятность: $$\\frac{{10 \\choose 2}\\cdot {15 \\choose 3}}{{25 \\choose 5}}=0.3853755$$\n"
   ]
  },
  {
   "cell_type": "code",
   "execution_count": 37,
   "id": "49015f1b-f514-4965-bb86-f8eb912bbd52",
   "metadata": {},
   "outputs": [
    {
     "name": "stdout",
     "output_type": "stream",
     "text": [
      "[1] 0.386261\n"
     ]
    }
   ],
   "source": [
    " N <- 1000000; m <- 0\n",
    "  for (i in 1:N)\n",
    "    {\n",
    "     s <- sample(c(1:25),5)\n",
    "     r <- match(c(1:10),s)\n",
    "     d <- 0\n",
    "     for (j in 1:length(r))\n",
    "     {\n",
    "       if (!is.na(r[j])) \n",
    "       d <- d+1\n",
    "     }\n",
    "     if (d == 2) m <- m+1\n",
    "    }\n",
    "  print(m/N)"
   ]
  },
  {
   "cell_type": "markdown",
   "id": "01349cda-22a9-42b2-802a-234da69a01f2",
   "metadata": {},
   "source": [
    "**Задача 4**. В мешке лежат 25 красных, 19 синих и 16 зеленых шарфов, одинаковых на ощупь. Наудачу вынимают 9 шарфов. Вычислить вероятность того, что взяли 4 красных, 3 синих и 2 зеленых шарфа. \n",
    "\n",
    "**Решение**\n",
    "\n",
    "Общее число исходов: ${60 \\choose 9}$, число благоприятных исходов: ${25 \\choose 4}\\cdot {19 \\choose 3}\\cdot {16 \\choose 2}$. \n",
    "\n",
    "Искомая вероятность: $$\\frac{{25 \\choose 4}\\cdot {19 \\choose 3}\\cdot {16 \\choose 2}}{{60 \\choose 9}}=0.09950131$$\n",
    "\n",
    "Пусть с 1 по 25 - красные, с 26 по 44 - синие, с 45 по 60 - зеленые."
   ]
  },
  {
   "cell_type": "code",
   "execution_count": 40,
   "id": "5f92df57-eb68-4987-92eb-79c3de8a8954",
   "metadata": {},
   "outputs": [
    {
     "name": "stdout",
     "output_type": "stream",
     "text": [
      "[1] 0.099289\n"
     ]
    }
   ],
   "source": [
    "N <- 1000000; m <- 0\n",
    "  for (i in c(1:N))\n",
    "    {\n",
    "      s <- sample(1:60,9)\n",
    "      if (length(s[(s>=1)&(s<=25)])==4 &\n",
    "         length(s[(s>=26)&(s<=44)])==3 &\n",
    "         length(s[(s>=45)&(s<=60)])==2) \n",
    "         m <- m+1\n",
    "    }\n",
    "  print(m/N)"
   ]
  },
  {
   "cell_type": "markdown",
   "id": "d9da464a-386a-476d-a50b-d6644bbb1432",
   "metadata": {},
   "source": [
    "**Задача 5.** Подбрасываются две кости. Какова вероятность того, что сумма значений на кубиках равна 7, если известно, что сумма нечетная?\n",
    "\n",
    "**Решение**\n",
    "\n",
    "Общее число исходов: $6 \\cdot 6=36$. Количество возможных исходов быть нечетной суммой: 1+2, 2+1,1+4, 4+1, 1+6, 6+1, 3+2, 2+3, 3+4, 4+3, 3+6, 6+3, 5+2, 2+5, 5+4, 4+5, 5+6, 6+5, т.е. $2\\cdot3\\cdot 3=18$. Сумма значений равна 7: 1+6, 6+1, 3+4, 4+3, 2+5, 5+2 - т.е. всего 6. Пусть A - событие выпадения нечетной суммы, B - событие, что сумма равна 7. \n",
    "\n",
    "Тогда вероятноть совместного наступления событий A и B: $$P(A\\cdot B)=P(A)\\cdot P(B|A)=\\frac{18}{36}\\cdot \\frac{6}{18}=\\frac{1}{2}\\cdot\\frac{1}{3}=\\frac{1}{6}$$"
   ]
  },
  {
   "cell_type": "code",
   "execution_count": 41,
   "id": "44f1abd6-9f88-47dd-a3cd-316bddeab720",
   "metadata": {},
   "outputs": [
    {
     "name": "stdout",
     "output_type": "stream",
     "text": [
      "[1] 0.16891\n"
     ]
    }
   ],
   "source": [
    "N <- 100000\n",
    "m <- 0\n",
    "for (i in 1: N)\n",
    "  {\n",
    "    s <- sample(1:6,2,replace=TRUE)\n",
    "    if ((s[1]+s[2]) %% 2 == 1 && \n",
    "        (s[1]+s[2]) == 7) \n",
    "    m <- m+1\n",
    "  }\n",
    " print(m/N)"
   ]
  },
  {
   "cell_type": "code",
   "execution_count": 42,
   "id": "05ab2e16-9919-4e94-8031-809b06254944",
   "metadata": {},
   "outputs": [
    {
     "data": {
      "text/html": [
       "0.166666666666667"
      ],
      "text/latex": [
       "0.166666666666667"
      ],
      "text/markdown": [
       "0.166666666666667"
      ],
      "text/plain": [
       "[1] 0.1666667"
      ]
     },
     "metadata": {},
     "output_type": "display_data"
    }
   ],
   "source": [
    "1/6"
   ]
  },
  {
   "cell_type": "markdown",
   "id": "601c76d5-1936-4472-94b1-97c46359eb9a",
   "metadata": {
    "jp-MarkdownHeadingCollapsed": true,
    "tags": []
   },
   "source": [
    "## Задачи для самостоятельного решения\n",
    "\n",
    "1. В комиссии из 5 человек 4 члена принимают независимо друг от друга правильное решение с вероятностью 0.9, а пятый для принятия решения бросает монету. Окончательное решенние принимается большинством голосов. Кто с большей вероятностью принимает правильное решение: комиссия или один человек из комиссии?\n",
    "\n",
    "2. Три стрелка производят по одному выстрелу. Вероятность попадания в цель каждого стрелка равна 0.9; 0.8; 0.85 соответственно. Найти вероятность того, что в цель попадут только два стрелка?\n",
    "\n",
    "3. Василий попадает по мячу один раз из трех. Какова вероятность, что он попадет три раза из десяти?\n",
    "\n",
    "4. Вероятность рождения девочки 0.51, а мальчика 0.49. Если в семье Василия пятеро детей,то какова вероятность, что в ней три девочки?\n",
    "\n",
    "5. В двух коробках лежат зеленые и красные мячи: в первой - 4 зеленых и 5 красных, во второй 7 зеленых и 3 красных. Из второй коробки наугад взяли мяч и переложили его в первую коробку. Найти вероятность того, что наугад взятый после этого из первой коробки шар будет зеленым."
   ]
  },
  {
   "cell_type": "code",
   "execution_count": null,
   "id": "f898542f-ea37-445c-bef5-ff4d1097fbe8",
   "metadata": {},
   "outputs": [],
   "source": []
  }
 ],
 "metadata": {
  "kernelspec": {
   "display_name": "R",
   "language": "R",
   "name": "ir"
  },
  "language_info": {
   "codemirror_mode": "r",
   "file_extension": ".r",
   "mimetype": "text/x-r-source",
   "name": "R",
   "pygments_lexer": "r",
   "version": "3.5.3"
  }
 },
 "nbformat": 4,
 "nbformat_minor": 5
}
