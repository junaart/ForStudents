{
 "cells": [
  {
   "cell_type": "markdown",
   "id": "1739dc8e-8695-4f94-b451-bc44eddafbe2",
   "metadata": {},
   "source": [
    "# Лекция 3. Описательная статистика"
   ]
  },
  {
   "cell_type": "markdown",
   "id": "2544254a-3dbb-4831-b8d1-2e68ecad12bf",
   "metadata": {},
   "source": [
    "- Меры центральной тенденции: среднее арифметическое, среднее арифметическое взвешенное, среднее гармоническое, геометрическое, усеченное среднее, расчет средних на сгруппированных данных\n",
    "- Структурные средние: медиана, мода, квартили. \n",
    "- Расчет средних характеристик с использованием R, визуализация данных (графики, диаграммы, ящик с усами).\n",
    "- Меры изменчивости данных: дисперсия, среднее квадратическое отклонение, размах вариации, коэффициент осцилляции, относительное линейное отклонение, коэффициент вариации. Расчет показателей вариации с использованием R."
   ]
  },
  {
   "cell_type": "markdown",
   "id": "e1a20b82-771f-4150-b123-5724539b7bad",
   "metadata": {
    "tags": []
   },
   "source": [
    "## Меры центральной тенденции: среднее арифметическое, среднее арифметическое взвешенное, среднее гармоническое, геометрическое, усеченное среднее, расчет средних на сгруппированных данных"
   ]
  },
  {
   "cell_type": "markdown",
   "id": "d7b49905-e5db-4b7e-9117-0d49871b1caf",
   "metadata": {
    "tags": []
   },
   "source": [
    "Кроме манипулирования данными, при анализе приходится искать в данных некоторые тенденции и закономерности. На этом пути приходится искать в данных  усредненные характеристики, оценивать степень изменчивости данных, анализировать наличие выбросов в данных, высказывать гипотезы о типе распределения данных.\n",
    "\n",
    "При этом важным обстоятельством является факт наличия у нас всех данных, или только части данных. В статистике для этих целей используются понятия **генеральная совокупность** и **выборка данных**.\n",
    "\n",
    "Одни и те же данные можно рассматривать или как генеральную совокупность, или как выборку, в зависимости от целей их сбора и анализа. \n",
    "\n",
    "Например, данные о росте студентов какой-либо группы можно рассматривать как генеральную совокупность, т.е. все искомые данные, если целью анализа является формирование суждений об этом показателе именно для данной группы студентов. \n",
    "\n",
    "Но эти же данные можно рассматривать и как выборку данных, т.е. часть генеральной совокупности, если целью анализа является, например, оценка среднего роста студентов всего вуза по случайно выбранной группе студентов.\n",
    "\n",
    "Таким образом,  анализ генеральной  совокупности подразумевает, что мы можем напрямую судить о характеристиках набора данных. В противоположность этому при анализе выборки мы работаем только с  частью генеральной совокупности, и любые утверждения о генеральной совокупности на основании выборки носят вероятностный характер. Например, при анализе выборки возникают дополнительные задачи оценки ошибок полученных оценочных параметров относительно фактических параметров в генеральной совокупности.\n",
    " \n",
    "Продемонстрируем это на примере:\n",
    "\n"
   ]
  },
  {
   "cell_type": "code",
   "execution_count": 1,
   "id": "a598e60a-d9b6-48af-b9f2-2c8dd01c4cfc",
   "metadata": {},
   "outputs": [
    {
     "name": "stdout",
     "output_type": "stream",
     "text": [
      "[1] \"Генеральная совокупность:  1805, 1801, 1791, 1815, 1792, 1799, 1788, 1787, 1813, 1819, 1811, 1775, 1817, 1772, 1789, 1806, 1792, 1811, 1805, 1811, 1802, 1781, 1794, 1776, 1799, 1754, 1817, 1781, 1805, 1795, 1798, 1805, 1783, 1793, 1798, 1783, 1814, 1791, 1802, 1785, 1795, 1790, 1818, 1788, 1808, 1802, 1793, 1781, 1810, 1799\"\n",
      "[1] \"Среднее на генеральной совокупности:  1796.78\"\n",
      "[1] \"Выборочная совокупность:  1798, 1815, 1802, 1819, 1795\"\n",
      "[1] \"Среднее на выборочной совокупности:  1805.8\"\n"
     ]
    }
   ],
   "source": [
    "general_sequance<-rbinom(50,2000,0.9)\n",
    "print(paste(\"Генеральная совокупность: \",toString(general_sequance)))\n",
    "print(paste(\"Среднее на генеральной совокупности: \",toString(mean(general_sequance))))\n",
    "choice_sequance<-sample(general_sequance,5)\n",
    "print(paste(\"Выборочная совокупность: \",toString(choice_sequance)))\n",
    "print(paste(\"Среднее на выборочной совокупности: \",toString(mean(choice_sequance))))"
   ]
  },
  {
   "cell_type": "markdown",
   "id": "b2122015-7217-46f1-96f7-33e4258060c3",
   "metadata": {},
   "source": [
    "По практическим соображениям выборки анализируют чаще, чем генеральные совокупности, поскольку изучить все члены генеральной совокупности напрямую бывает невозможно или непозволительно дорого."
   ]
  },
  {
   "cell_type": "markdown",
   "id": "21ff33de-f4e2-4cc7-9396-0f25a0c315fa",
   "metadata": {},
   "source": [
    "Меры центральной тенденции, также известные как меры положения, обычно одни из первых статистик, которые рассчитывают для числовых одномерных данных. Главная цель их расчета состоит в том,  чтобы дать представление о типичном или часто встречающемся значении. \n",
    "\n",
    "Три самые часто применяемые меры центральной тенденции - это **среднее**, **медиана** и **мода**.\n",
    "\n",
    "Показатель в форме средней величины выражает типичные черты и дает обобщающую характеристику однотипных явлений по одному из имеющихся признаков. Важнейшее свойство средней величины заключается в том, что она отражает то общее, что присуще всем единицам исследуемой совокупности. Значения признака отдельных единиц совокупности колеблются в ту или иную сторону под влиянием множества факторов, среди которых могут быть как основные, так и случайные. Например, курс акций корпорации в основном определяется финансовыми результатами ее деятельности.\n",
    "\n",
    "В то же время, в отдельные дни и на отдельных биржах эти акции в силу сложившихся обстоятельств могут продаваться по более высокому или заниженному курсу. Сущность средней в том и заключается, что в ней взаимопогашаются отклонения значений признака отдельных единиц совокупности, обусловленные действием случайных факторов, и учитываются изменения, вызванные действием факторов основных. Это позволяет средней отражать типичный уровень признака и абстрагироваться от индивидуальных особенностей, присущих отдельным единицам.\n",
    "\n",
    "Типичность средней непосредственным образом связана с однородностью статистической совокупности. Средняя величина только тогда будет отражать типичный уровень признака, когда она рассчитана по качественно однородной совокупности. Так, если мы рассчитаем средний курс по акциям всех предприятий, реализуемых в данный день на данной бирже, то получим фиктивную среднюю. Это будет объясняться тем, что используемая для расчета совокупность является крайне неоднородной. В этом и подобных случаях метод средних используется в сочетании с методом группировок: если совокупность неоднородна – общие средние должны быть заменены или дополнены групповыми средними, т.е. средними, рассчитанными по качественно однородным группам.\n",
    "\n",
    "Категорию средней можно раскрыть через понятие ее определяющего свойства. Если обозначить формулу нахождения средней величины для совокупности $(x_1,x_2,\\ldots,x_n)$ через $\\overline{x}=f(x_1,x_2,\\ldots,x_n)$, то определяющее свойство средней вводится следующим соотношением:\n",
    "\n",
    "$$\\overline{x}=f(x_1,x_2,\\ldots,x_n)=f(\\overline{x},\\overline{x},\\ldots,\\overline{x})$$\n",
    "\n",
    "На роль функции $f(x_1,x_2,\\ldots,x_n)$, удовлетворяющей  определяющему свойству средней, могут подходить разные функции:\n",
    "\n",
    "*Средняя арифметическая*: $$\\overline{x}_{\\text{ариф}}=\\frac{\\sum_{i=1}^{n}x_i}{n}$$\n",
    "\n",
    "Действительно, имеем:\n",
    "    $$\\frac{\\sum_{i=1}^{n}x_i}{n}=\\frac{\\sum_{i=1}^{n}\\overline{x}_{\\text{ариф}}}{n}=\\frac{n\\cdot\\overline{x}_{\\text{ариф}}}{n}=\\overline{x}_{\\text{ариф}}$$\n",
    "    \n",
    "*Средняя гармоническая*:\n",
    "$$\\overline{x}_{гарм}=\\frac{n}{\\sum_{i=1}^{n}\\frac{1}{x_i}}$$\n",
    "\n",
    "Действительно, имеем:\n",
    "$$\\frac{n}{\\sum_{i=1}^{n}\\frac{1}{x_i}}=\\frac{n}{\\sum_{i=1}^{n}\\frac{1}{\\overline{x}_{гарм}}}=\\frac{n}{\\frac{n}{\\overline{x}_{гарм}}}=\\overline{x}_{гарм}$$\n",
    "\n",
    "Средняя арифметическая, геометрическая, гармоническая являются различными формами средней величины. В разных случаях  могут использоваться разные формы.\n",
    "\n",
    "\n",
    "<font size=\"2\"> Например, попробуйте решить следующую задачку: первую половину пути самолет летел со скоростью 700 км/ч, а вторую половину пути со скоростью 1000 км/ч. Какова средняя скорость самолета на всем участке пути?</font> \n",
    "\n",
    "Средняя скорость определяется как отношение суммарного пройденного пути к затраченному времени.\n",
    "$$S_1=v_1\\cdot t_1, S_2=v_2\\cdot t_2\\Rightarrow v_{\\text{ср}}=\\frac{S_1+S_2}{t_1+t_2}=\\frac{v_1\\cdot t_1+v_2\\cdot t_2}{t_1+t_2}$$\n",
    "$$S_1=S_2=\\frac{S_1+S_2}{2}, t_1=\\frac{\\frac{S_1+S_2}{2}}{v_1}, t_2=\\frac{\\frac{S_1+S_2}{2}}{v_2}$$\n",
    "$$v_{\\text{ср}}=\\frac{S_1+S_2}{t_1+t_2}=\\frac{1}{\\frac{\\frac{1}{2}}{v_1}+\\frac{\\frac{1}{2}}{v_2}}=\\frac{2}{\\frac{1}{v_1}+\\frac{1}{v_2}}$$\n"
   ]
  },
  {
   "cell_type": "code",
   "execution_count": 19,
   "id": "be00a86b-0ad0-4c6d-9c4b-8eb943e32b1d",
   "metadata": {},
   "outputs": [
    {
     "name": "stdout",
     "output_type": "stream",
     "text": [
      "[1] 850\n",
      "[1] 823.5294\n"
     ]
    }
   ],
   "source": [
    "print((700+1000)/2)\n",
    "print(2/(1/700+1/1000))"
   ]
  },
  {
   "cell_type": "markdown",
   "id": "ebdfe29e-303d-4e89-a570-7bfc2be00d0b",
   "metadata": {},
   "source": [
    "Однако, с точки зрения оценки центральной тенденции для генеральной совокупности в теории вероятностей доказывается, что среднее арифметическое на основе выборки обладает хорошими свойствами: состоятельность, несмещенность, эффективность.\n",
    "\n",
    "Рассмотрим ряд примеров. Пусть у нас имеется список значений, отражающий размер обуви некоторой группы людей (например, студентов группы):"
   ]
  },
  {
   "cell_type": "code",
   "execution_count": 2,
   "id": "009dd769-3a3f-4138-a179-8e5daaf23e66",
   "metadata": {},
   "outputs": [],
   "source": [
    "foot_size=c(34,35,38,36,34,35,39,40,41,45,37,39,41,43,44,46,43,42,42,41,40,39)\n"
   ]
  },
  {
   "cell_type": "markdown",
   "id": "5a3b79ac-7049-458a-beba-b04dfe28c273",
   "metadata": {},
   "source": [
    "Посчитаем в этом векторе количество повторяющихся значений. Для этих целей в R есть ряд возможностей: функция table() и специальная функция hist():"
   ]
  },
  {
   "cell_type": "code",
   "execution_count": 26,
   "id": "54c04157-22d0-4d04-9d30-34536a6e007b",
   "metadata": {},
   "outputs": [
    {
     "data": {
      "text/html": [
       "\n",
       "<table width=\"100%\" summary=\"page for hist {graphics}\"><tr><td>hist {graphics}</td><td style=\"text-align: right;\">R Documentation</td></tr></table>\n",
       "\n",
       "<h2>Histograms</h2>\n",
       "\n",
       "<h3>Description</h3>\n",
       "\n",
       "<p>The generic function <code>hist</code> computes a histogram of the given\n",
       "data values.  If <code>plot = TRUE</code>, the resulting object of\n",
       "class <code>\"histogram\"</code> is plotted by\n",
       "<code>plot.histogram</code>, before it is returned.\n",
       "</p>\n",
       "\n",
       "\n",
       "<h3>Usage</h3>\n",
       "\n",
       "<pre>\n",
       "hist(x, ...)\n",
       "\n",
       "## Default S3 method:\n",
       "hist(x, breaks = \"Sturges\",\n",
       "     freq = NULL, probability = !freq,\n",
       "     include.lowest = TRUE, right = TRUE,\n",
       "     density = NULL, angle = 45, col = NULL, border = NULL,\n",
       "     main = paste(\"Histogram of\" , xname),\n",
       "     xlim = range(breaks), ylim = NULL,\n",
       "     xlab = xname, ylab,\n",
       "     axes = TRUE, plot = TRUE, labels = FALSE,\n",
       "     nclass = NULL, warn.unused = TRUE, ...)\n",
       "</pre>\n",
       "\n",
       "\n",
       "<h3>Arguments</h3>\n",
       "\n",
       "<table summary=\"R argblock\">\n",
       "<tr valign=\"top\"><td><code>x</code></td>\n",
       "<td>\n",
       "<p>a vector of values for which the histogram is desired.</p>\n",
       "</td></tr>\n",
       "<tr valign=\"top\"><td><code>breaks</code></td>\n",
       "<td>\n",
       "<p>one of:\n",
       "</p>\n",
       "\n",
       "<ul>\n",
       "<li><p> a vector giving the breakpoints between histogram cells,\n",
       "</p>\n",
       "</li>\n",
       "<li><p> a function to compute the vector of breakpoints,\n",
       "</p>\n",
       "</li>\n",
       "<li><p> a single number giving the number of cells for the histogram,\n",
       "</p>\n",
       "</li>\n",
       "<li><p> a character string naming an algorithm to compute the\n",
       "number of cells (see &lsquo;Details&rsquo;),\n",
       "</p>\n",
       "</li>\n",
       "<li><p> a function to compute the number of cells.\n",
       "</p>\n",
       "</li></ul>\n",
       "\n",
       "<p>In the last three cases the number is a suggestion only; as the\n",
       "breakpoints will be set to <code>pretty</code> values, the number\n",
       "is limited to <code>1e6</code> (with a warning if it was larger).  If\n",
       "<code>breaks</code> is a function, the <code>x</code> vector is supplied to it\n",
       "as the only argument (and the number of breaks is only limited by\n",
       "the amount of available memory).\n",
       "</p>\n",
       "</td></tr>\n",
       "<tr valign=\"top\"><td><code>freq</code></td>\n",
       "<td>\n",
       "<p>logical; if <code>TRUE</code>, the histogram graphic is a\n",
       "representation of frequencies, the <code>counts</code> component of\n",
       "the result; if <code>FALSE</code>, probability densities, component\n",
       "<code>density</code>, are plotted (so that the histogram has a total area\n",
       "of one).  Defaults to <code>TRUE</code> <em>if and only if</em> <code>breaks</code> are\n",
       "equidistant (and <code>probability</code> is not specified).</p>\n",
       "</td></tr>\n",
       "<tr valign=\"top\"><td><code>probability</code></td>\n",
       "<td>\n",
       "<p>an <em>alias</em> for <code>!freq</code>, for S compatibility.</p>\n",
       "</td></tr>\n",
       "<tr valign=\"top\"><td><code>include.lowest</code></td>\n",
       "<td>\n",
       "<p>logical; if <code>TRUE</code>, an <code>x[i]</code> equal to\n",
       "the <code>breaks</code> value will be included in the first (or last, for\n",
       "<code>right = FALSE</code>) bar.  This will be ignored (with a warning)\n",
       "unless <code>breaks</code> is a vector.</p>\n",
       "</td></tr>\n",
       "<tr valign=\"top\"><td><code>right</code></td>\n",
       "<td>\n",
       "<p>logical; if <code>TRUE</code>, the histogram cells are\n",
       "right-closed (left open) intervals.</p>\n",
       "</td></tr>\n",
       "<tr valign=\"top\"><td><code>density</code></td>\n",
       "<td>\n",
       "<p>the density of shading lines, in lines per inch.\n",
       "The default value of <code>NULL</code> means that no shading lines\n",
       "are drawn. Non-positive values of <code>density</code> also inhibit the\n",
       "drawing of shading lines.</p>\n",
       "</td></tr>\n",
       "<tr valign=\"top\"><td><code>angle</code></td>\n",
       "<td>\n",
       "<p>the slope of shading lines, given as an angle in\n",
       "degrees (counter-clockwise).</p>\n",
       "</td></tr>\n",
       "<tr valign=\"top\"><td><code>col</code></td>\n",
       "<td>\n",
       "<p>a colour to be used to fill the bars.\n",
       "The default of <code>NULL</code> yields unfilled bars.</p>\n",
       "</td></tr>\n",
       "<tr valign=\"top\"><td><code>border</code></td>\n",
       "<td>\n",
       "<p>the color of the border around the bars.  The default\n",
       "is to use the standard foreground color.</p>\n",
       "</td></tr>\n",
       "<tr valign=\"top\"><td><code>main, xlab, ylab</code></td>\n",
       "<td>\n",
       "<p>these arguments to <code>title</code> have useful\n",
       "defaults here.</p>\n",
       "</td></tr>\n",
       "<tr valign=\"top\"><td><code>xlim, ylim</code></td>\n",
       "<td>\n",
       "<p>the range of x and y values with sensible defaults.\n",
       "Note that <code>xlim</code> is <em>not</em> used to define the histogram (breaks),\n",
       "but only for plotting (when <code>plot = TRUE</code>).</p>\n",
       "</td></tr>\n",
       "<tr valign=\"top\"><td><code>axes</code></td>\n",
       "<td>\n",
       "<p>logical.  If <code>TRUE</code> (default), axes are draw if the\n",
       "plot is drawn.</p>\n",
       "</td></tr>\n",
       "<tr valign=\"top\"><td><code>plot</code></td>\n",
       "<td>\n",
       "<p>logical.  If <code>TRUE</code> (default), a histogram is\n",
       "plotted, otherwise a list of breaks and counts is returned.  In the\n",
       "latter case, a warning is used if (typically graphical) arguments\n",
       "are specified that only apply to the <code>plot = TRUE</code> case.</p>\n",
       "</td></tr>\n",
       "<tr valign=\"top\"><td><code>labels</code></td>\n",
       "<td>\n",
       "<p>logical or character string.  Additionally draw labels on top\n",
       "of bars, if not <code>FALSE</code>; see <code>plot.histogram</code>.</p>\n",
       "</td></tr>\n",
       "<tr valign=\"top\"><td><code>nclass</code></td>\n",
       "<td>\n",
       "<p>numeric (integer).  For S(-PLUS) compatibility only,\n",
       "<code>nclass</code> is equivalent to <code>breaks</code> for a scalar or\n",
       "character argument.</p>\n",
       "</td></tr>\n",
       "<tr valign=\"top\"><td><code>warn.unused</code></td>\n",
       "<td>\n",
       "<p>logical.  If <code>plot = FALSE</code> and\n",
       "<code>warn.unused = TRUE</code>, a warning will be issued when graphical\n",
       "parameters are passed to <code>hist.default()</code>.</p>\n",
       "</td></tr>\n",
       "<tr valign=\"top\"><td><code>...</code></td>\n",
       "<td>\n",
       "<p>further arguments and graphical parameters passed to\n",
       "<code>plot.histogram</code> and thence to <code>title</code> and\n",
       "<code>axis</code> (if <code>plot = TRUE</code>).</p>\n",
       "</td></tr>\n",
       "</table>\n",
       "\n",
       "\n",
       "<h3>Details</h3>\n",
       "\n",
       "<p>The definition of <em>histogram</em> differs by source (with\n",
       "country-specific biases).  <span style=\"font-family: Courier New, Courier; color: #666666;\"><b>R</b></span>'s default with equi-spaced breaks (also\n",
       "the default) is to plot the counts in the cells defined by\n",
       "<code>breaks</code>.  Thus the height of a rectangle is proportional to\n",
       "the number of points falling into the cell, as is the area\n",
       "<em>provided</em> the breaks are equally-spaced.\n",
       "</p>\n",
       "<p>The default with non-equi-spaced breaks is to give\n",
       "a plot of area one, in which the <em>area</em> of the rectangles is the\n",
       "fraction of the data points falling in the cells.\n",
       "</p>\n",
       "<p>If <code>right = TRUE</code> (default), the histogram cells are intervals\n",
       "of the form <code>(a, b]</code>, i.e., they include their right-hand endpoint,\n",
       "but not their left one, with the exception of the first cell when\n",
       "<code>include.lowest</code> is <code>TRUE</code>.\n",
       "</p>\n",
       "<p>For <code>right = FALSE</code>, the intervals are of the form <code>[a, b)</code>,\n",
       "and <code>include.lowest</code> means &lsquo;<em>include highest</em>&rsquo;.\n",
       "</p>\n",
       "<p>A numerical tolerance of <i>1e-7</i> times the median bin size\n",
       "(for more than four bins, otherwise the median is substituted) is\n",
       "applied when counting entries on the edges of bins.  This is not\n",
       "included in the reported <code>breaks</code> nor in the calculation of\n",
       "<code>density</code>.\n",
       "</p>\n",
       "<p>The default for <code>breaks</code> is <code>\"Sturges\"</code>: see\n",
       "<code>nclass.Sturges</code>.  Other names for which algorithms\n",
       "are supplied are <code>\"Scott\"</code> and <code>\"FD\"</code> /\n",
       "<code>\"Freedman-Diaconis\"</code> (with corresponding functions\n",
       "<code>nclass.scott</code> and <code>nclass.FD</code>).\n",
       "Case is ignored and partial matching is used.\n",
       "Alternatively, a function can be supplied which\n",
       "will compute the intended number of breaks or the actual breakpoints\n",
       "as a function of <code>x</code>.\n",
       "</p>\n",
       "\n",
       "\n",
       "<h3>Value</h3>\n",
       "\n",
       "<p>an object of class <code>\"histogram\"</code> which is a list with components:\n",
       "</p>\n",
       "<table summary=\"R valueblock\">\n",
       "<tr valign=\"top\"><td><code>breaks</code></td>\n",
       "<td>\n",
       "<p>the <i>n+1</i> cell boundaries (= <code>breaks</code> if that\n",
       "was a vector). These are the nominal breaks, not with the boundary fuzz.</p>\n",
       "</td></tr>\n",
       "<tr valign=\"top\"><td><code>counts</code></td>\n",
       "<td>\n",
       "<p><i>n</i> integers; for each cell, the number of\n",
       "<code>x[]</code> inside.</p>\n",
       "</td></tr>\n",
       "<tr valign=\"top\"><td><code>density</code></td>\n",
       "<td>\n",
       "<p>values <i>f^(x[i])</i>, as estimated\n",
       "density values. If <code>all(diff(breaks) == 1)</code>, they are the\n",
       "relative frequencies <code>counts/n</code> and in general satisfy\n",
       "<i>sum[i; f^(x[i])\n",
       "      (b[i+1]-b[i])] = 1</i>, where <i>b[i]</i> = <code>breaks[i]</code>.</p>\n",
       "</td></tr>\n",
       "<tr valign=\"top\"><td><code>mids</code></td>\n",
       "<td>\n",
       "<p>the <i>n</i> cell midpoints.</p>\n",
       "</td></tr>\n",
       "<tr valign=\"top\"><td><code>xname</code></td>\n",
       "<td>\n",
       "<p>a character string with the actual <code>x</code> argument name.</p>\n",
       "</td></tr>\n",
       "<tr valign=\"top\"><td><code>equidist</code></td>\n",
       "<td>\n",
       "<p>logical, indicating if the distances between\n",
       "<code>breaks</code> are all the same.</p>\n",
       "</td></tr>\n",
       "</table>\n",
       "\n",
       "\n",
       "<h3>References</h3>\n",
       "\n",
       "<p>Becker, R. A., Chambers, J. M. and Wilks, A. R. (1988)\n",
       "<em>The New S Language</em>.\n",
       "Wadsworth &amp; Brooks/Cole.\n",
       "</p>\n",
       "<p>Venables, W. N. and Ripley. B. D. (2002)\n",
       "<em>Modern Applied Statistics with S</em>.  Springer.\n",
       "</p>\n",
       "\n",
       "\n",
       "<h3>See Also</h3>\n",
       "\n",
       "<p><code>nclass.Sturges</code>, <code>stem</code>,\n",
       "<code>density</code>,  <code>truehist</code> in package\n",
       "<a href=\"https://CRAN.R-project.org/package=MASS\"><span class=\"pkg\">MASS</span></a>.\n",
       "</p>\n",
       "<p>Typical plots with vertical bars are <em>not</em> histograms.  Consider\n",
       "<code>barplot</code> or <code>plot(*, type = \"h\")</code>\n",
       "for such bar plots.\n",
       "</p>\n",
       "\n",
       "\n",
       "<h3>Examples</h3>\n",
       "\n",
       "<pre>\n",
       "op &lt;- par(mfrow = c(2, 2))\n",
       "hist(islands)\n",
       "utils::str(hist(islands, col = \"gray\", labels = TRUE))\n",
       "\n",
       "hist(sqrt(islands), breaks = 12, col = \"lightblue\", border = \"pink\")\n",
       "##-- For non-equidistant breaks, counts should NOT be graphed unscaled:\n",
       "r &lt;- hist(sqrt(islands), breaks = c(4*0:5, 10*3:5, 70, 100, 140),\n",
       "          col = \"blue1\")\n",
       "text(r$mids, r$density, r$counts, adj = c(.5, -.5), col = \"blue3\")\n",
       "sapply(r[2:3], sum)\n",
       "sum(r$density * diff(r$breaks)) # == 1\n",
       "lines(r, lty = 3, border = \"purple\") # -&gt; lines.histogram(*)\n",
       "par(op)\n",
       "\n",
       "require(utils) # for str\n",
       "str(hist(islands, breaks = 12, plot =  FALSE)) #-&gt; 10 (~= 12) breaks\n",
       "str(hist(islands, breaks = c(12,20,36,80,200,1000,17000), plot = FALSE))\n",
       "\n",
       "hist(islands, breaks = c(12,20,36,80,200,1000,17000), freq = TRUE,\n",
       "     main = \"WRONG histogram\") # and warning\n",
       "\n",
       "## Extreme outliers; the \"FD\" rule would take very large number of 'breaks':\n",
       "XXL &lt;- c(1:9, c(-1,1)*1e300)\n",
       "hh &lt;- hist(XXL, \"FD\") # did not work in R &lt;= 3.4.1; now gives warning\n",
       "## pretty() determines how many counts are used (platform dependently!):\n",
       "length(hh$breaks) ## typically 1 million -- though 1e6 was \"a suggestion only\"\n",
       "\n",
       "require(stats)\n",
       "set.seed(14)\n",
       "x &lt;- rchisq(100, df = 4)\n",
       "\n",
       "## Comparing data with a model distribution should be done with qqplot()!\n",
       "qqplot(x, qchisq(ppoints(x), df = 4)); abline(0, 1, col = 2, lty = 2)\n",
       "\n",
       "## if you really insist on using hist() ... :\n",
       "hist(x, freq = FALSE, ylim = c(0, 0.2))\n",
       "curve(dchisq(x, df = 4), col = 2, lty = 2, lwd = 2, add = TRUE)\n",
       "\n",
       "</pre>\n",
       "\n",
       "<hr /><div style=\"text-align: center;\">[Package <em>graphics</em> version 3.5.3 ]</div>"
      ],
      "text/latex": [
       "\\inputencoding{utf8}\n",
       "\\HeaderA{hist}{Histograms}{hist}\n",
       "\\methaliasA{hist.default}{hist}{hist.default}\n",
       "\\keyword{dplot}{hist}\n",
       "\\keyword{hplot}{hist}\n",
       "\\keyword{distribution}{hist}\n",
       "%\n",
       "\\begin{Description}\\relax\n",
       "The generic function \\code{hist} computes a histogram of the given\n",
       "data values.  If \\code{plot = TRUE}, the resulting object of\n",
       "\\LinkA{class}{class} \\code{\"histogram\"} is plotted by\n",
       "\\code{\\LinkA{plot.histogram}{plot.histogram}}, before it is returned.\n",
       "\\end{Description}\n",
       "%\n",
       "\\begin{Usage}\n",
       "\\begin{verbatim}\n",
       "hist(x, ...)\n",
       "\n",
       "## Default S3 method:\n",
       "hist(x, breaks = \"Sturges\",\n",
       "     freq = NULL, probability = !freq,\n",
       "     include.lowest = TRUE, right = TRUE,\n",
       "     density = NULL, angle = 45, col = NULL, border = NULL,\n",
       "     main = paste(\"Histogram of\" , xname),\n",
       "     xlim = range(breaks), ylim = NULL,\n",
       "     xlab = xname, ylab,\n",
       "     axes = TRUE, plot = TRUE, labels = FALSE,\n",
       "     nclass = NULL, warn.unused = TRUE, ...)\n",
       "\\end{verbatim}\n",
       "\\end{Usage}\n",
       "%\n",
       "\\begin{Arguments}\n",
       "\\begin{ldescription}\n",
       "\\item[\\code{x}] a vector of values for which the histogram is desired.\n",
       "\\item[\\code{breaks}] one of:\n",
       "\\begin{itemize}\n",
       "\n",
       "\\item a vector giving the breakpoints between histogram cells,\n",
       "\\item a function to compute the vector of breakpoints,\n",
       "\\item a single number giving the number of cells for the histogram,\n",
       "\\item a character string naming an algorithm to compute the\n",
       "number of cells (see `Details'),\n",
       "\\item a function to compute the number of cells.\n",
       "\n",
       "\\end{itemize}\n",
       "\n",
       "In the last three cases the number is a suggestion only; as the\n",
       "breakpoints will be set to \\code{\\LinkA{pretty}{pretty}} values, the number\n",
       "is limited to \\code{1e6} (with a warning if it was larger).  If\n",
       "\\code{breaks} is a function, the \\code{x} vector is supplied to it\n",
       "as the only argument (and the number of breaks is only limited by\n",
       "the amount of available memory).\n",
       "\n",
       "\\item[\\code{freq}] logical; if \\code{TRUE}, the histogram graphic is a\n",
       "representation of frequencies, the \\code{counts} component of\n",
       "the result; if \\code{FALSE}, probability densities, component\n",
       "\\code{density}, are plotted (so that the histogram has a total area\n",
       "of one).  Defaults to \\code{TRUE} \\emph{if and only if} \\code{breaks} are\n",
       "equidistant (and \\code{probability} is not specified).\n",
       "\\item[\\code{probability}] an \\emph{alias} for \\code{!freq}, for S compatibility.\n",
       "\\item[\\code{include.lowest}] logical; if \\code{TRUE}, an \\code{x[i]} equal to\n",
       "the \\code{breaks} value will be included in the first (or last, for\n",
       "\\code{right = FALSE}) bar.  This will be ignored (with a warning)\n",
       "unless \\code{breaks} is a vector.\n",
       "\\item[\\code{right}] logical; if \\code{TRUE}, the histogram cells are\n",
       "right-closed (left open) intervals.\n",
       "\n",
       "\\item[\\code{density}] the density of shading lines, in lines per inch.\n",
       "The default value of \\code{NULL} means that no shading lines\n",
       "are drawn. Non-positive values of \\code{density} also inhibit the\n",
       "drawing of shading lines.\n",
       "\\item[\\code{angle}] the slope of shading lines, given as an angle in\n",
       "degrees (counter-clockwise).\n",
       "\\item[\\code{col}] a colour to be used to fill the bars.\n",
       "The default of \\code{NULL} yields unfilled bars.\n",
       "\\item[\\code{border}] the color of the border around the bars.  The default\n",
       "is to use the standard foreground color.\n",
       "\\item[\\code{main, xlab, ylab}] these arguments to \\code{title} have useful\n",
       "defaults here.\n",
       "\\item[\\code{xlim, ylim}] the range of x and y values with sensible defaults.\n",
       "Note that \\code{xlim} is \\emph{not} used to define the histogram (breaks),\n",
       "but only for plotting (when \\code{plot = TRUE}).\n",
       "\\item[\\code{axes}] logical.  If \\code{TRUE} (default), axes are draw if the\n",
       "plot is drawn.\n",
       "\\item[\\code{plot}] logical.  If \\code{TRUE} (default), a histogram is\n",
       "plotted, otherwise a list of breaks and counts is returned.  In the\n",
       "latter case, a warning is used if (typically graphical) arguments\n",
       "are specified that only apply to the \\code{plot = TRUE} case.\n",
       "\\item[\\code{labels}] logical or character string.  Additionally draw labels on top\n",
       "of bars, if not \\code{FALSE}; see \\code{\\LinkA{plot.histogram}{plot.histogram}}.\n",
       "\\item[\\code{nclass}] numeric (integer).  For S(-PLUS) compatibility only,\n",
       "\\code{nclass} is equivalent to \\code{breaks} for a scalar or\n",
       "character argument.\n",
       "\\item[\\code{warn.unused}] logical.  If \\code{plot = FALSE} and\n",
       "\\code{warn.unused = TRUE}, a warning will be issued when graphical\n",
       "parameters are passed to \\code{hist.default()}.\n",
       "\\item[\\code{...}] further arguments and \\LinkA{graphical parameters}{graphical parameters} passed to\n",
       "\\code{\\LinkA{plot.histogram}{plot.histogram}} and thence to \\code{\\LinkA{title}{title}} and\n",
       "\\code{\\LinkA{axis}{axis}} (if \\code{plot = TRUE}).\n",
       "\\end{ldescription}\n",
       "\\end{Arguments}\n",
       "%\n",
       "\\begin{Details}\\relax\n",
       "The definition of \\emph{histogram} differs by source (with\n",
       "country-specific biases).  \\R{}'s default with equi-spaced breaks (also\n",
       "the default) is to plot the counts in the cells defined by\n",
       "\\code{breaks}.  Thus the height of a rectangle is proportional to\n",
       "the number of points falling into the cell, as is the area\n",
       "\\emph{provided} the breaks are equally-spaced.\n",
       "\n",
       "The default with non-equi-spaced breaks is to give\n",
       "a plot of area one, in which the \\emph{area} of the rectangles is the\n",
       "fraction of the data points falling in the cells.\n",
       "\n",
       "If \\code{right = TRUE} (default), the histogram cells are intervals\n",
       "of the form \\code{(a, b]}, i.e., they include their right-hand endpoint,\n",
       "but not their left one, with the exception of the first cell when\n",
       "\\code{include.lowest} is \\code{TRUE}.\n",
       "\n",
       "For \\code{right = FALSE}, the intervals are of the form \\code{[a, b)},\n",
       "and \\code{include.lowest} means `\\emph{include highest}'.\n",
       "\n",
       "A numerical tolerance of \\eqn{10^{-7}}{} times the median bin size\n",
       "(for more than four bins, otherwise the median is substituted) is\n",
       "applied when counting entries on the edges of bins.  This is not\n",
       "included in the reported \\code{breaks} nor in the calculation of\n",
       "\\code{density}.\n",
       "\n",
       "The default for \\code{breaks} is \\code{\"Sturges\"}: see\n",
       "\\code{\\LinkA{nclass.Sturges}{nclass.Sturges}}.  Other names for which algorithms\n",
       "are supplied are \\code{\"Scott\"} and \\code{\"FD\"} /\n",
       "\\code{\"Freedman-Diaconis\"} (with corresponding functions\n",
       "\\code{\\LinkA{nclass.scott}{nclass.scott}} and \\code{\\LinkA{nclass.FD}{nclass.FD}}).\n",
       "Case is ignored and partial matching is used.\n",
       "Alternatively, a function can be supplied which\n",
       "will compute the intended number of breaks or the actual breakpoints\n",
       "as a function of \\code{x}.\n",
       "\\end{Details}\n",
       "%\n",
       "\\begin{Value}\n",
       "an object of class \\code{\"histogram\"} which is a list with components:\n",
       "\\begin{ldescription}\n",
       "\\item[\\code{breaks}] the \\eqn{n+1}{} cell boundaries (= \\code{breaks} if that\n",
       "was a vector). These are the nominal breaks, not with the boundary fuzz.\n",
       "\\item[\\code{counts}] \\eqn{n}{} integers; for each cell, the number of\n",
       "\\code{x[]} inside.\n",
       "\\item[\\code{density}] values \\eqn{\\hat f(x_i)}{}, as estimated\n",
       "density values. If \\code{all(diff(breaks) == 1)}, they are the\n",
       "relative frequencies \\code{counts/n} and in general satisfy\n",
       "\\eqn{\\sum_i \\hat f(x_i) (b_{i+1}-b_i) = 1}{}, where \\eqn{b_i}{} = \\code{breaks[i]}.\n",
       "\\item[\\code{mids}] the \\eqn{n}{} cell midpoints.\n",
       "\\item[\\code{xname}] a character string with the actual \\code{x} argument name.\n",
       "\\item[\\code{equidist}] logical, indicating if the distances between\n",
       "\\code{breaks} are all the same.\n",
       "\\end{ldescription}\n",
       "\\end{Value}\n",
       "%\n",
       "\\begin{References}\\relax\n",
       "Becker, R. A., Chambers, J. M. and Wilks, A. R. (1988)\n",
       "\\emph{The New S Language}.\n",
       "Wadsworth \\& Brooks/Cole.\n",
       "\n",
       "Venables, W. N. and Ripley. B. D. (2002)\n",
       "\\emph{Modern Applied Statistics with S}.  Springer.\n",
       "\\end{References}\n",
       "%\n",
       "\\begin{SeeAlso}\\relax\n",
       "\\code{\\LinkA{nclass.Sturges}{nclass.Sturges}}, \\code{\\LinkA{stem}{stem}},\n",
       "\\code{\\LinkA{density}{density}},  \\code{\\LinkA{truehist}{truehist}} in package\n",
       "\\Rhref{https://CRAN.R-project.org/package=MASS}{\\pkg{MASS}}.\n",
       "\n",
       "Typical plots with vertical bars are \\emph{not} histograms.  Consider\n",
       "\\code{\\LinkA{barplot}{barplot}} or \\code{\\LinkA{plot}{plot}(*, type = \"h\")}\n",
       "for such bar plots.\n",
       "\\end{SeeAlso}\n",
       "%\n",
       "\\begin{Examples}\n",
       "\\begin{ExampleCode}\n",
       "op <- par(mfrow = c(2, 2))\n",
       "hist(islands)\n",
       "utils::str(hist(islands, col = \"gray\", labels = TRUE))\n",
       "\n",
       "hist(sqrt(islands), breaks = 12, col = \"lightblue\", border = \"pink\")\n",
       "##-- For non-equidistant breaks, counts should NOT be graphed unscaled:\n",
       "r <- hist(sqrt(islands), breaks = c(4*0:5, 10*3:5, 70, 100, 140),\n",
       "          col = \"blue1\")\n",
       "text(r$mids, r$density, r$counts, adj = c(.5, -.5), col = \"blue3\")\n",
       "sapply(r[2:3], sum)\n",
       "sum(r$density * diff(r$breaks)) # == 1\n",
       "lines(r, lty = 3, border = \"purple\") # -> lines.histogram(*)\n",
       "par(op)\n",
       "\n",
       "require(utils) # for str\n",
       "str(hist(islands, breaks = 12, plot =  FALSE)) #-> 10 (~= 12) breaks\n",
       "str(hist(islands, breaks = c(12,20,36,80,200,1000,17000), plot = FALSE))\n",
       "\n",
       "hist(islands, breaks = c(12,20,36,80,200,1000,17000), freq = TRUE,\n",
       "     main = \"WRONG histogram\") # and warning\n",
       "\n",
       "## Extreme outliers; the \"FD\" rule would take very large number of 'breaks':\n",
       "XXL <- c(1:9, c(-1,1)*1e300)\n",
       "hh <- hist(XXL, \"FD\") # did not work in R <= 3.4.1; now gives warning\n",
       "## pretty() determines how many counts are used (platform dependently!):\n",
       "length(hh$breaks) ## typically 1 million -- though 1e6 was \"a suggestion only\"\n",
       "\n",
       "require(stats)\n",
       "set.seed(14)\n",
       "x <- rchisq(100, df = 4)\n",
       "\n",
       "## Comparing data with a model distribution should be done with qqplot()!\n",
       "qqplot(x, qchisq(ppoints(x), df = 4)); abline(0, 1, col = 2, lty = 2)\n",
       "\n",
       "## if you really insist on using hist() ... :\n",
       "hist(x, freq = FALSE, ylim = c(0, 0.2))\n",
       "curve(dchisq(x, df = 4), col = 2, lty = 2, lwd = 2, add = TRUE)\n",
       "\n",
       "\\end{ExampleCode}\n",
       "\\end{Examples}"
      ],
      "text/plain": [
       "hist                 package:graphics                  R Documentation\n",
       "\n",
       "_\bH_\bi_\bs_\bt_\bo_\bg_\br_\ba_\bm_\bs\n",
       "\n",
       "_\bD_\be_\bs_\bc_\br_\bi_\bp_\bt_\bi_\bo_\bn:\n",
       "\n",
       "     The generic function ‘hist’ computes a histogram of the given data\n",
       "     values.  If ‘plot = TRUE’, the resulting object of class\n",
       "     ‘\"histogram\"’ is plotted by ‘plot.histogram’, before it is\n",
       "     returned.\n",
       "\n",
       "_\bU_\bs_\ba_\bg_\be:\n",
       "\n",
       "     hist(x, ...)\n",
       "     \n",
       "     ## Default S3 method:\n",
       "     hist(x, breaks = \"Sturges\",\n",
       "          freq = NULL, probability = !freq,\n",
       "          include.lowest = TRUE, right = TRUE,\n",
       "          density = NULL, angle = 45, col = NULL, border = NULL,\n",
       "          main = paste(\"Histogram of\" , xname),\n",
       "          xlim = range(breaks), ylim = NULL,\n",
       "          xlab = xname, ylab,\n",
       "          axes = TRUE, plot = TRUE, labels = FALSE,\n",
       "          nclass = NULL, warn.unused = TRUE, ...)\n",
       "     \n",
       "_\bA_\br_\bg_\bu_\bm_\be_\bn_\bt_\bs:\n",
       "\n",
       "       x: a vector of values for which the histogram is desired.\n",
       "\n",
       "  breaks: one of:\n",
       "\n",
       "            • a vector giving the breakpoints between histogram cells,\n",
       "\n",
       "            • a function to compute the vector of breakpoints,\n",
       "\n",
       "            • a single number giving the number of cells for the\n",
       "              histogram,\n",
       "\n",
       "            • a character string naming an algorithm to compute the\n",
       "              number of cells (see ‘Details’),\n",
       "\n",
       "            • a function to compute the number of cells.\n",
       "\n",
       "          In the last three cases the number is a suggestion only; as\n",
       "          the breakpoints will be set to ‘pretty’ values, the number is\n",
       "          limited to ‘1e6’ (with a warning if it was larger).  If\n",
       "          ‘breaks’ is a function, the ‘x’ vector is supplied to it as\n",
       "          the only argument (and the number of breaks is only limited\n",
       "          by the amount of available memory).\n",
       "\n",
       "    freq: logical; if ‘TRUE’, the histogram graphic is a representation\n",
       "          of frequencies, the ‘counts’ component of the result; if\n",
       "          ‘FALSE’, probability densities, component ‘density’, are\n",
       "          plotted (so that the histogram has a total area of one).\n",
       "          Defaults to ‘TRUE’ _if and only if_ ‘breaks’ are equidistant\n",
       "          (and ‘probability’ is not specified).\n",
       "\n",
       "probability: an _alias_ for ‘!freq’, for S compatibility.\n",
       "\n",
       "include.lowest: logical; if ‘TRUE’, an ‘x[i]’ equal to the ‘breaks’\n",
       "          value will be included in the first (or last, for ‘right =\n",
       "          FALSE’) bar.  This will be ignored (with a warning) unless\n",
       "          ‘breaks’ is a vector.\n",
       "\n",
       "   right: logical; if ‘TRUE’, the histogram cells are right-closed\n",
       "          (left open) intervals.\n",
       "\n",
       " density: the density of shading lines, in lines per inch.  The default\n",
       "          value of ‘NULL’ means that no shading lines are drawn.\n",
       "          Non-positive values of ‘density’ also inhibit the drawing of\n",
       "          shading lines.\n",
       "\n",
       "   angle: the slope of shading lines, given as an angle in degrees\n",
       "          (counter-clockwise).\n",
       "\n",
       "     col: a colour to be used to fill the bars.  The default of ‘NULL’\n",
       "          yields unfilled bars.\n",
       "\n",
       "  border: the color of the border around the bars.  The default is to\n",
       "          use the standard foreground color.\n",
       "\n",
       "main, xlab, ylab: these arguments to ‘title’ have useful defaults here.\n",
       "\n",
       "xlim, ylim: the range of x and y values with sensible defaults.  Note\n",
       "          that ‘xlim’ is _not_ used to define the histogram (breaks),\n",
       "          but only for plotting (when ‘plot = TRUE’).\n",
       "\n",
       "    axes: logical.  If ‘TRUE’ (default), axes are draw if the plot is\n",
       "          drawn.\n",
       "\n",
       "    plot: logical.  If ‘TRUE’ (default), a histogram is plotted,\n",
       "          otherwise a list of breaks and counts is returned.  In the\n",
       "          latter case, a warning is used if (typically graphical)\n",
       "          arguments are specified that only apply to the ‘plot = TRUE’\n",
       "          case.\n",
       "\n",
       "  labels: logical or character string.  Additionally draw labels on top\n",
       "          of bars, if not ‘FALSE’; see ‘plot.histogram’.\n",
       "\n",
       "  nclass: numeric (integer).  For S(-PLUS) compatibility only, ‘nclass’\n",
       "          is equivalent to ‘breaks’ for a scalar or character argument.\n",
       "\n",
       "warn.unused: logical.  If ‘plot = FALSE’ and ‘warn.unused = TRUE’, a\n",
       "          warning will be issued when graphical parameters are passed\n",
       "          to ‘hist.default()’.\n",
       "\n",
       "     ...: further arguments and graphical parameters passed to\n",
       "          ‘plot.histogram’ and thence to ‘title’ and ‘axis’ (if ‘plot =\n",
       "          TRUE’).\n",
       "\n",
       "_\bD_\be_\bt_\ba_\bi_\bl_\bs:\n",
       "\n",
       "     The definition of _histogram_ differs by source (with\n",
       "     country-specific biases).  R's default with equi-spaced breaks\n",
       "     (also the default) is to plot the counts in the cells defined by\n",
       "     ‘breaks’.  Thus the height of a rectangle is proportional to the\n",
       "     number of points falling into the cell, as is the area _provided_\n",
       "     the breaks are equally-spaced.\n",
       "\n",
       "     The default with non-equi-spaced breaks is to give a plot of area\n",
       "     one, in which the _area_ of the rectangles is the fraction of the\n",
       "     data points falling in the cells.\n",
       "\n",
       "     If ‘right = TRUE’ (default), the histogram cells are intervals of\n",
       "     the form ‘(a, b]’, i.e., they include their right-hand endpoint,\n",
       "     but not their left one, with the exception of the first cell when\n",
       "     ‘include.lowest’ is ‘TRUE’.\n",
       "\n",
       "     For ‘right = FALSE’, the intervals are of the form ‘[a, b)’, and\n",
       "     ‘include.lowest’ means ‘_include highest_’.\n",
       "\n",
       "     A numerical tolerance of 1e-7 times the median bin size (for more\n",
       "     than four bins, otherwise the median is substituted) is applied\n",
       "     when counting entries on the edges of bins.  This is not included\n",
       "     in the reported ‘breaks’ nor in the calculation of ‘density’.\n",
       "\n",
       "     The default for ‘breaks’ is ‘\"Sturges\"’: see ‘nclass.Sturges’.\n",
       "     Other names for which algorithms are supplied are ‘\"Scott\"’ and\n",
       "     ‘\"FD\"’ / ‘\"Freedman-Diaconis\"’ (with corresponding functions\n",
       "     ‘nclass.scott’ and ‘nclass.FD’).  Case is ignored and partial\n",
       "     matching is used.  Alternatively, a function can be supplied which\n",
       "     will compute the intended number of breaks or the actual\n",
       "     breakpoints as a function of ‘x’.\n",
       "\n",
       "_\bV_\ba_\bl_\bu_\be:\n",
       "\n",
       "     an object of class ‘\"histogram\"’ which is a list with components:\n",
       "\n",
       "  breaks: the n+1 cell boundaries (= ‘breaks’ if that was a vector).\n",
       "          These are the nominal breaks, not with the boundary fuzz.\n",
       "\n",
       "  counts: n integers; for each cell, the number of ‘x[]’ inside.\n",
       "\n",
       " density: values f^(x[i]), as estimated density values. If\n",
       "          ‘all(diff(breaks) == 1)’, they are the relative frequencies\n",
       "          ‘counts/n’ and in general satisfy sum[i; f^(x[i])\n",
       "          (b[i+1]-b[i])] = 1, where b[i] = ‘breaks[i]’.\n",
       "\n",
       "    mids: the n cell midpoints.\n",
       "\n",
       "   xname: a character string with the actual ‘x’ argument name.\n",
       "\n",
       "equidist: logical, indicating if the distances between ‘breaks’ are all\n",
       "          the same.\n",
       "\n",
       "_\bR_\be_\bf_\be_\br_\be_\bn_\bc_\be_\bs:\n",
       "\n",
       "     Becker, R. A., Chambers, J. M. and Wilks, A. R. (1988) _The New S\n",
       "     Language_.  Wadsworth & Brooks/Cole.\n",
       "\n",
       "     Venables, W. N. and Ripley. B. D. (2002) _Modern Applied\n",
       "     Statistics with S_.  Springer.\n",
       "\n",
       "_\bS_\be_\be _\bA_\bl_\bs_\bo:\n",
       "\n",
       "     ‘nclass.Sturges’, ‘stem’, ‘density’, ‘truehist’ in package ‘MASS’.\n",
       "\n",
       "     Typical plots with vertical bars are _not_ histograms.  Consider\n",
       "     ‘barplot’ or ‘plot(*, type = \"h\")’ for such bar plots.\n",
       "\n",
       "_\bE_\bx_\ba_\bm_\bp_\bl_\be_\bs:\n",
       "\n",
       "     op <- par(mfrow = c(2, 2))\n",
       "     hist(islands)\n",
       "     utils::str(hist(islands, col = \"gray\", labels = TRUE))\n",
       "     \n",
       "     hist(sqrt(islands), breaks = 12, col = \"lightblue\", border = \"pink\")\n",
       "     ##-- For non-equidistant breaks, counts should NOT be graphed unscaled:\n",
       "     r <- hist(sqrt(islands), breaks = c(4*0:5, 10*3:5, 70, 100, 140),\n",
       "               col = \"blue1\")\n",
       "     text(r$mids, r$density, r$counts, adj = c(.5, -.5), col = \"blue3\")\n",
       "     sapply(r[2:3], sum)\n",
       "     sum(r$density * diff(r$breaks)) # == 1\n",
       "     lines(r, lty = 3, border = \"purple\") # -> lines.histogram(*)\n",
       "     par(op)\n",
       "     \n",
       "     require(utils) # for str\n",
       "     str(hist(islands, breaks = 12, plot =  FALSE)) #-> 10 (~= 12) breaks\n",
       "     str(hist(islands, breaks = c(12,20,36,80,200,1000,17000), plot = FALSE))\n",
       "     \n",
       "     hist(islands, breaks = c(12,20,36,80,200,1000,17000), freq = TRUE,\n",
       "          main = \"WRONG histogram\") # and warning\n",
       "     \n",
       "     ## Extreme outliers; the \"FD\" rule would take very large number of 'breaks':\n",
       "     XXL <- c(1:9, c(-1,1)*1e300)\n",
       "     hh <- hist(XXL, \"FD\") # did not work in R <= 3.4.1; now gives warning\n",
       "     ## pretty() determines how many counts are used (platform dependently!):\n",
       "     length(hh$breaks) ## typically 1 million -- though 1e6 was \"a suggestion only\"\n",
       "     \n",
       "     require(stats)\n",
       "     set.seed(14)\n",
       "     x <- rchisq(100, df = 4)\n",
       "     \n",
       "     ## Comparing data with a model distribution should be done with qqplot()!\n",
       "     qqplot(x, qchisq(ppoints(x), df = 4)); abline(0, 1, col = 2, lty = 2)\n",
       "     \n",
       "     ## if you really insist on using hist() ... :\n",
       "     hist(x, freq = FALSE, ylim = c(0, 0.2))\n",
       "     curve(dchisq(x, df = 4), col = 2, lty = 2, lwd = 2, add = TRUE)\n",
       "     "
      ]
     },
     "metadata": {},
     "output_type": "display_data"
    }
   ],
   "source": [
    "help(hist)"
   ]
  },
  {
   "cell_type": "code",
   "execution_count": 3,
   "id": "4508134a-92c5-43ca-9fb8-08e1e7399738",
   "metadata": {},
   "outputs": [
    {
     "data": {
      "image/png": "[encoded data removed]",
      "text/plain": [
       "Plot with title “Histogram of foot_size”"
      ]
     },
     "metadata": {
      "image/png": {
       "height": 420,
       "width": 420
      }
     },
     "output_type": "display_data"
    }
   ],
   "source": [
    "hist(foot_size)"
   ]
  },
  {
   "cell_type": "code",
   "execution_count": 4,
   "id": "0ab74819-f47a-4479-9458-7d23c6c10dac",
   "metadata": {},
   "outputs": [
    {
     "data": {
      "text/plain": [
       "foot_size\n",
       "34 35 36 37 38 39 40 41 42 43 44 45 46 \n",
       " 2  2  1  1  1  3  2  3  2  2  1  1  1 "
      ]
     },
     "metadata": {},
     "output_type": "display_data"
    }
   ],
   "source": [
    "tt<-table(foot_size)\n",
    "tt"
   ]
  },
  {
   "cell_type": "code",
   "execution_count": 4,
   "id": "59adb6cd-5459-455b-b472-cfa33dee5fe3",
   "metadata": {},
   "outputs": [
    {
     "data": {
      "image/png": "[encoded data removed]",
      "text/plain": [
       "Plot with title “Гистограмма частот”"
      ]
     },
     "metadata": {
      "image/png": {
       "height": 420,
       "width": 420
      }
     },
     "output_type": "display_data"
    }
   ],
   "source": [
    "barplot(tt, main=\"Гистограмма частот\")"
   ]
  },
  {
   "cell_type": "markdown",
   "id": "a231a968-1807-43d4-8abf-5c380c45f846",
   "metadata": {},
   "source": [
    "Функция hist предоставляет более расширенный функционал:"
   ]
  },
  {
   "cell_type": "code",
   "execution_count": 8,
   "id": "c51d0fbb-6a09-4e4b-82b2-6547ae19a96b",
   "metadata": {},
   "outputs": [
    {
     "data": {
      "image/png": "[encoded data removed]",
      "text/plain": [
       "Plot with title “Histogram of foot_size”"
      ]
     },
     "metadata": {
      "image/png": {
       "height": 420,
       "width": 420
      }
     },
     "output_type": "display_data"
    }
   ],
   "source": [
    "h<-hist(foot_size,freq=FALSE)"
   ]
  },
  {
   "cell_type": "code",
   "execution_count": 15,
   "id": "092978bf-6ae5-458e-b2ef-239c1c9053b2",
   "metadata": {},
   "outputs": [
    {
     "name": "stdout",
     "output_type": "stream",
     "text": [
      "$breaks\n",
      "[1] 34 36 38 40 42 44 46\n",
      "\n",
      "$counts\n",
      "[1] 5 2 5 5 3 2\n",
      "\n",
      "$density\n",
      "[1] 0.11363636 0.04545455 0.11363636 0.11363636 0.06818182 0.04545455\n",
      "\n",
      "$mids\n",
      "[1] 35 37 39 41 43 45\n",
      "\n",
      "$xname\n",
      "[1] \"foot_size\"\n",
      "\n",
      "$equidist\n",
      "[1] TRUE\n",
      "\n",
      "attr(,\"class\")\n",
      "[1] \"histogram\"\n"
     ]
    }
   ],
   "source": [
    "print(h)"
   ]
  },
  {
   "cell_type": "markdown",
   "id": "5292869c-bc87-4cb5-a128-9e8cfe99a8cd",
   "metadata": {},
   "source": [
    "Реализуем функцию расчета среднего арифметического в R:"
   ]
  },
  {
   "cell_type": "code",
   "execution_count": 9,
   "id": "b750f41b-b2d2-4aaa-a6df-7eb4e0614686",
   "metadata": {},
   "outputs": [
    {
     "name": "stdout",
     "output_type": "stream",
     "text": [
      "[1] 39.72727\n",
      "[1] 39.72727\n"
     ]
    }
   ],
   "source": [
    "my_mean<-function(v){\n",
    "    return(sum(v)/length(v))\n",
    "    }\n",
    "print(my_mean(foot_size))\n",
    "print(mean(foot_size))"
   ]
  },
  {
   "cell_type": "markdown",
   "id": "146ee605-0554-4064-8464-5395a0f02358",
   "metadata": {},
   "source": [
    "Среднее арифметическое можно посчитать и по другому, используя структуру таблицы:"
   ]
  },
  {
   "cell_type": "code",
   "execution_count": 10,
   "id": "2774dd3b-7ec5-40ad-ab13-4b1b84e5be81",
   "metadata": {},
   "outputs": [
    {
     "name": "stdout",
     "output_type": "stream",
     "text": [
      "foot_size\n",
      "34 35 36 37 38 39 40 41 42 43 44 45 46 \n",
      " 2  2  1  1  1  3  2  3  2  2  1  1  1 \n"
     ]
    }
   ],
   "source": [
    "print(tt)"
   ]
  },
  {
   "cell_type": "code",
   "execution_count": 55,
   "id": "82718e37-f1a6-4186-9c26-64172f55ab18",
   "metadata": {},
   "outputs": [
    {
     "data": {
      "text/html": [
       "<style>\n",
       ".list-inline {list-style: none; margin:0; padding: 0}\n",
       ".list-inline>li {display: inline-block}\n",
       ".list-inline>li:not(:last-child)::after {content: \"\\00b7\"; padding: 0 .5ex}\n",
       "</style>\n",
       "<ol class=list-inline><li>'34'</li><li>'35'</li><li>'36'</li><li>'37'</li><li>'38'</li><li>'39'</li><li>'40'</li><li>'41'</li><li>'42'</li><li>'43'</li><li>'44'</li><li>'45'</li><li>'46'</li></ol>\n"
      ],
      "text/latex": [
       "\\begin{enumerate*}\n",
       "\\item '34'\n",
       "\\item '35'\n",
       "\\item '36'\n",
       "\\item '37'\n",
       "\\item '38'\n",
       "\\item '39'\n",
       "\\item '40'\n",
       "\\item '41'\n",
       "\\item '42'\n",
       "\\item '43'\n",
       "\\item '44'\n",
       "\\item '45'\n",
       "\\item '46'\n",
       "\\end{enumerate*}\n"
      ],
      "text/markdown": [
       "1. '34'\n",
       "2. '35'\n",
       "3. '36'\n",
       "4. '37'\n",
       "5. '38'\n",
       "6. '39'\n",
       "7. '40'\n",
       "8. '41'\n",
       "9. '42'\n",
       "10. '43'\n",
       "11. '44'\n",
       "12. '45'\n",
       "13. '46'\n",
       "\n",
       "\n"
      ],
      "text/plain": [
       " [1] \"34\" \"35\" \"36\" \"37\" \"38\" \"39\" \"40\" \"41\" \"42\" \"43\" \"44\" \"45\" \"46\""
      ]
     },
     "metadata": {},
     "output_type": "display_data"
    }
   ],
   "source": [
    "names(tt)"
   ]
  },
  {
   "cell_type": "code",
   "execution_count": 11,
   "id": "51ce35f2-3a39-4c90-9725-fe940dc7e2e6",
   "metadata": {},
   "outputs": [
    {
     "data": {
      "text/html": [
       "<style>\n",
       ".list-inline {list-style: none; margin:0; padding: 0}\n",
       ".list-inline>li {display: inline-block}\n",
       ".list-inline>li:not(:last-child)::after {content: \"\\00b7\"; padding: 0 .5ex}\n",
       "</style>\n",
       "<ol class=list-inline><li>34</li><li>35</li><li>36</li><li>37</li><li>38</li><li>39</li><li>40</li><li>41</li><li>42</li><li>43</li><li>44</li><li>45</li><li>46</li></ol>\n"
      ],
      "text/latex": [
       "\\begin{enumerate*}\n",
       "\\item 34\n",
       "\\item 35\n",
       "\\item 36\n",
       "\\item 37\n",
       "\\item 38\n",
       "\\item 39\n",
       "\\item 40\n",
       "\\item 41\n",
       "\\item 42\n",
       "\\item 43\n",
       "\\item 44\n",
       "\\item 45\n",
       "\\item 46\n",
       "\\end{enumerate*}\n"
      ],
      "text/markdown": [
       "1. 34\n",
       "2. 35\n",
       "3. 36\n",
       "4. 37\n",
       "5. 38\n",
       "6. 39\n",
       "7. 40\n",
       "8. 41\n",
       "9. 42\n",
       "10. 43\n",
       "11. 44\n",
       "12. 45\n",
       "13. 46\n",
       "\n",
       "\n"
      ],
      "text/plain": [
       " [1] 34 35 36 37 38 39 40 41 42 43 44 45 46"
      ]
     },
     "metadata": {},
     "output_type": "display_data"
    }
   ],
   "source": [
    "value<-as.numeric(names(tt))\n",
    "value"
   ]
  },
  {
   "cell_type": "code",
   "execution_count": 12,
   "id": "76648763-93a2-4ad8-8af4-80065a770799",
   "metadata": {},
   "outputs": [
    {
     "data": {
      "text/html": [
       "<style>\n",
       ".list-inline {list-style: none; margin:0; padding: 0}\n",
       ".list-inline>li {display: inline-block}\n",
       ".list-inline>li:not(:last-child)::after {content: \"\\00b7\"; padding: 0 .5ex}\n",
       "</style>\n",
       "<ol class=list-inline><li>2</li><li>2</li><li>1</li><li>1</li><li>1</li><li>3</li><li>2</li><li>3</li><li>2</li><li>2</li><li>1</li><li>1</li><li>1</li></ol>\n"
      ],
      "text/latex": [
       "\\begin{enumerate*}\n",
       "\\item 2\n",
       "\\item 2\n",
       "\\item 1\n",
       "\\item 1\n",
       "\\item 1\n",
       "\\item 3\n",
       "\\item 2\n",
       "\\item 3\n",
       "\\item 2\n",
       "\\item 2\n",
       "\\item 1\n",
       "\\item 1\n",
       "\\item 1\n",
       "\\end{enumerate*}\n"
      ],
      "text/markdown": [
       "1. 2\n",
       "2. 2\n",
       "3. 1\n",
       "4. 1\n",
       "5. 1\n",
       "6. 3\n",
       "7. 2\n",
       "8. 3\n",
       "9. 2\n",
       "10. 2\n",
       "11. 1\n",
       "12. 1\n",
       "13. 1\n",
       "\n",
       "\n"
      ],
      "text/plain": [
       " [1] 2 2 1 1 1 3 2 3 2 2 1 1 1"
      ]
     },
     "metadata": {},
     "output_type": "display_data"
    }
   ],
   "source": [
    "freq<-as.vector(tt)\n",
    "freq"
   ]
  },
  {
   "cell_type": "code",
   "execution_count": 13,
   "id": "0cf1907b-1ff2-4864-9b8f-08851308241b",
   "metadata": {},
   "outputs": [
    {
     "data": {
      "text/html": [
       "39.7272727272727"
      ],
      "text/latex": [
       "39.7272727272727"
      ],
      "text/markdown": [
       "39.7272727272727"
      ],
      "text/plain": [
       "[1] 39.72727"
      ]
     },
     "metadata": {},
     "output_type": "display_data"
    }
   ],
   "source": [
    "sum(value*freq)/sum(freq)"
   ]
  },
  {
   "cell_type": "markdown",
   "id": "4943985c-4996-40e4-a000-a21c25ce6ce6",
   "metadata": {},
   "source": [
    "Можно также оценить среднее арифметическое через середины интервалов, полученные при построении гистограммы:"
   ]
  },
  {
   "cell_type": "code",
   "execution_count": 14,
   "id": "05b99a18-b8ce-4d0e-9ea2-600cb09e5c82",
   "metadata": {},
   "outputs": [
    {
     "data": {
      "text/html": [
       "39.4545454545455"
      ],
      "text/latex": [
       "39.4545454545455"
      ],
      "text/markdown": [
       "39.4545454545455"
      ],
      "text/plain": [
       "[1] 39.45455"
      ]
     },
     "metadata": {},
     "output_type": "display_data"
    }
   ],
   "source": [
    "sum(h$mids*h$counts)/sum(h$counts)"
   ]
  },
  {
   "cell_type": "markdown",
   "id": "8e1cae8c-6416-4f55-b3d3-12621a55ca1c",
   "metadata": {},
   "source": [
    "Полученное таким образом значение называется **средним арифметическим взвешенным**.\n",
    "Аналогичным образом можно говорить о средних **гармонических взвешенных**, **средних геометрических взвешенных**.\n",
    "Если частоту значения $x_i$ обозначить через $f_i$, то формулы расчета средних взвешенных будут иметь следующий вид:\n",
    "$$\\overline{x}_{\\text{ариф}}=\\frac{\\sum_{i=1}^{n}f_i\\cdot x_i}{\\sum_{i=1}^{n}f_i}$$\n",
    "$$\\overline{x}_{\\text{геом}}=\\left(\\prod_{i=1}^{n}x_i^{f_i}\\right)^{\\frac{1}{\\sum_{i=1}^{n}f_i}}$$\n",
    "$$\\overline{x}_{\\text{гарм}}=\\frac{\\sum_{i=1}^{n}f_i}{\\sum_{i=1}^{n}\\frac{f_i}{x_i}}$$\n",
    "\n",
    "Ниже приводятся реализации этих функций, предполагается, что на вход подается таблица частот, которая получается из списка значений с помощью функции table."
   ]
  },
  {
   "cell_type": "code",
   "execution_count": 6,
   "id": "1d55c55f-cab6-4987-a984-5d70447e8908",
   "metadata": {},
   "outputs": [],
   "source": [
    "mean_f<-function(tab){\n",
    "    value<-as.numeric(names(tab))\n",
    "    freq<-as.vector(tab)\n",
    "    return(sum(value*freq)/sum(freq))\n",
    "    }\n",
    "geom_f<-function(tab){\n",
    "    value<-as.numeric(names(tab))\n",
    "    freq<-as.vector(tab)\n",
    "    return(prod(value^freq)^(1/sum(freq)))\n",
    "    }\n",
    "garm_f<-function(tab){\n",
    "    value<-as.numeric(names(tab))\n",
    "    freq<-as.vector(tab)\n",
    "    return(sum(freq)/(sum(freq/value)))\n",
    "    }"
   ]
  },
  {
   "cell_type": "code",
   "execution_count": 16,
   "id": "73350c22-eb0f-49bf-b809-4a168f5eb768",
   "metadata": {},
   "outputs": [
    {
     "name": "stdout",
     "output_type": "stream",
     "text": [
      "[1] 39.72727\n",
      "[1] 39.57767\n",
      "[1] 39.42652\n"
     ]
    }
   ],
   "source": [
    "print(mean_f(tt))\n",
    "print(geom_f(tt))\n",
    "print(garm_f(tt))"
   ]
  },
  {
   "cell_type": "markdown",
   "id": "6f449332-dee5-4510-8fff-16477e74b2cb",
   "metadata": {},
   "source": [
    "По набору значений также можно построить аппроксимацию графика плотности распределения, это выполняется с помощью функции density."
   ]
  },
  {
   "cell_type": "code",
   "execution_count": 7,
   "id": "cbdbbf4e-d388-401e-acfc-4025306273ab",
   "metadata": {},
   "outputs": [
    {
     "data": {
      "image/png": "[encoded data removed]",
      "text/plain": [
       "Plot with title “density.default(x = foot_size)”"
      ]
     },
     "metadata": {
      "image/png": {
       "height": 420,
       "width": 420
      }
     },
     "output_type": "display_data"
    }
   ],
   "source": [
    "#Нарисуем на графике плотности распределения значение средней арифметической \n",
    "\n",
    "d <- density(foot_size)\n",
    "plot(d)\n",
    "x<-c(mean_f(tt),mean_f(tt))\n",
    "y<-c(0.00,0.1)\n",
    "lines(x,y,col=\"red\")\n"
   ]
  },
  {
   "cell_type": "markdown",
   "id": "3666e930-3e7b-4b95-bba6-2ab920f269e9",
   "metadata": {},
   "source": [
    "Среднее - это интуитивно понятная мера центральной тенденции, которую легко осознать большинству людей. Однако среднее в этом качестве следует использовать не для любых данных, поскольку оно чувствительно к экстремальным значениям, или выбросам, и также может вести к неверным выводам в случае асимметричного распределения данных. Например, средняя темперратура по больнице практически ничего не характеризует. В данных с очень ассиметричным распределением ценность среднего арифметического, как оценки типичного представителя, аналогичным образом быстро деградирует. Например, добавим в наш массив данных всего одного человека с 1000 размером обуви (явный выброс)."
   ]
  },
  {
   "cell_type": "code",
   "execution_count": 9,
   "id": "770dcb16-e4d9-4de3-92e1-24e0f2dfd724",
   "metadata": {},
   "outputs": [
    {
     "name": "stdout",
     "output_type": "stream",
     "text": [
      " [1]   34   35   38   36   34   35   39   40   41   45   37   39   41   43   44\n",
      "[16]   46   43   42   42   41   40   39 1000\n",
      "[1] 81.47826\n"
     ]
    },
    {
     "data": {
      "image/png": "[encoded data removed]",
      "text/plain": [
       "Plot with title “density.default(x = foot_size_m)”"
      ]
     },
     "metadata": {
      "image/png": {
       "height": 420,
       "width": 420
      }
     },
     "output_type": "display_data"
    }
   ],
   "source": [
    "foot_size_m<-c(foot_size,1000)\n",
    "tt_m<-table(foot_size_m)\n",
    "print(foot_size_m)\n",
    "print(mean_f(tt_m))\n",
    "d <- density(foot_size_m)\n",
    "plot(d)\n",
    "x<-c(mean_f(tt_m),mean_f(tt_m))\n",
    "y<-c(0.00,0.1)\n",
    "lines(x,y,col=\"red\")\n"
   ]
  },
  {
   "cell_type": "markdown",
   "id": "5c2926b5-f332-4381-a555-c39921821aed",
   "metadata": {},
   "source": [
    "Как видно, средний размер обуви оказался равным 81, что одинаково далеко от любых типичных представителей этой совокупности. Посмотрим, как поменяются другие формы среднего."
   ]
  },
  {
   "cell_type": "code",
   "execution_count": 10,
   "id": "cd879273-5c76-483f-8689-6c3499b7fbf0",
   "metadata": {},
   "outputs": [
    {
     "name": "stdout",
     "output_type": "stream",
     "text": [
      "[1] 45.54395\n",
      "[1] 41.14489\n"
     ]
    }
   ],
   "source": [
    "print(geom_f(tt_m))\n",
    "print(garm_f(tt_m))"
   ]
  },
  {
   "cell_type": "markdown",
   "id": "56349baa-e7cd-4bfe-bd97-c84f033bcad3",
   "metadata": {},
   "source": [
    "Как видно, в целом они оказались более устойчивы. Вообще всегда выполняется система неравенств:\n",
    "$$\\overline{x}_{\\text{aриф}}\\geq\\overline{x}_{\\text{геом}}\\geq\\overline{x}_{\\text{гарм}}$$"
   ]
  },
  {
   "cell_type": "markdown",
   "id": "d6290a5c-6c0c-46ad-9df5-738803cff9ec",
   "metadata": {},
   "source": [
    "На практике для улучшения устойчивости средних к выбросам используют **усечённое среднее**, суть которого состоит в вычислении среднего без определенного количества в хвостах отсортированных данных: 5%, 10% и т.д. Для усечения нужно использовать параметр trim в функции mean. Например, вот так мы срежем 10% данных с хвостов распределения:"
   ]
  },
  {
   "cell_type": "code",
   "execution_count": 11,
   "id": "b625a8e1-757c-46d8-a559-8869e492931e",
   "metadata": {},
   "outputs": [
    {
     "data": {
      "text/html": [
       "40"
      ],
      "text/latex": [
       "40"
      ],
      "text/markdown": [
       "40"
      ],
      "text/plain": [
       "[1] 40"
      ]
     },
     "metadata": {},
     "output_type": "display_data"
    },
    {
     "data": {
      "text/html": [
       "-5.6843418860808e-14"
      ],
      "text/latex": [
       "-5.6843418860808e-14"
      ],
      "text/markdown": [
       "-5.6843418860808e-14"
      ],
      "text/plain": [
       "[1] -5.684342e-14"
      ]
     },
     "metadata": {},
     "output_type": "display_data"
    }
   ],
   "source": [
    "mean(foot_size_m,trim=0.1)\n",
    "sum(foot_size_m-mean(foot_size_m))"
   ]
  },
  {
   "cell_type": "markdown",
   "id": "bcaf022a-7fe1-4c98-a31f-9b64f3a4b9fa",
   "metadata": {},
   "source": [
    "Если рассматривать некоторые не самые тривиальные свойства среднего арифметического, то можно показать, что:\n",
    "\n",
    " $$\\forall n, x_i: \\sum_{i=1}^{n}(x_i-\\overline{x})=0$$\n",
    "\n",
    "Действительно, имеем:\n",
    "\n",
    "$$ \\sum_{i=1}^{n}(x_i-\\overline{x})=\\sum_{i=1}^{n}x_i-\\sum_{i=1}^{n}\\overline{x}=\\sum_{i=1}^{n}x_i-\\overline{x}\\cdot\\sum_{i=1}^{n}1=\\sum_{i=1}^{n}x_i-\\overline{x}\\cdot n=\\sum_{i=1}^{n}x_i-\\frac{\\sum_{i=1}^{n}x_i}{n}\\cdot n=\\sum_{i=1}^{n}x_i-\\sum_{i=1}^{n}x_i=0$$\n",
    "\n",
    "Таким образом, сумма отклонений среднего арифметического от каждого индивидуального значения равна нулю.\n",
    "\n",
    "Также оказывается справедливым следующее:\n",
    "\n",
    "$$\\forall n, x_i: \\sum_{i=1}^{n}\\left (x_i-\\overline{x}\\right)^2\\rightarrow \\min$$\n",
    "\n",
    "Действительно, найдем такое число $c$, при котором $f(c)=\\sum_{i=1}^{n}\\left (x_i-с\\right)^2\\rightarrow \\min$\n",
    "\n",
    "Для этого найдем производную:\n",
    "$$\\frac{\\partial f(с)}{\\partial с}=-2\\sum_{i=1}^{n}\\left (x_i-с\\right)$$\n",
    "Чтобы найти минимум функции $f(c)$, приравняем производную к нулю:\n",
    "$$-2\\sum_{i=1}^{n}\\left (x_i-с\\right)=0\\Rightarrow \\sum_{i=1}^{n}\\left (x_i-с\\right)=0$$\n",
    "А из предыдущего мы как раз показали, что при $c=\\overline{x}$ имеем: $\\sum_{i=1}^{n}\\left (x_i-\\overline{x}\\right)=0$\n",
    "\n",
    "Таким образом, среднее арифметическое удовлетворяет некоторому критерию оптимальности - оно обеспечивает минимальную сумму квадратов отклонений каждого конкретного значения от значения, взятого в качестве типичного представителя. "
   ]
  },
  {
   "cell_type": "code",
   "execution_count": 18,
   "id": "89e589ad-6349-47d7-a305-47424cacae50",
   "metadata": {},
   "outputs": [
    {
     "data": {
      "text/html": [
       "258.363636363636"
      ],
      "text/latex": [
       "258.363636363636"
      ],
      "text/markdown": [
       "258.363636363636"
      ],
      "text/plain": [
       "[1] 258.3636"
      ]
     },
     "metadata": {},
     "output_type": "display_data"
    }
   ],
   "source": [
    "cc<-mean(foot_size)\n",
    "sum((foot_size-cc)^2)"
   ]
  },
  {
   "cell_type": "code",
   "execution_count": 24,
   "id": "db02b475-928f-4615-83be-00916ff01b2d",
   "metadata": {},
   "outputs": [
    {
     "name": "stdout",
     "output_type": "stream",
     "text": [
      "[1] 39.72727\n"
     ]
    },
    {
     "data": {
      "text/html": [
       "258.363636363636"
      ],
      "text/latex": [
       "258.363636363636"
      ],
      "text/markdown": [
       "258.363636363636"
      ],
      "text/plain": [
       "[1] 258.3636"
      ]
     },
     "metadata": {},
     "output_type": "display_data"
    }
   ],
   "source": [
    "j<-mean(foot_size)\n",
    "print(j)\n",
    "sum((foot_size-j)^2)"
   ]
  },
  {
   "cell_type": "code",
   "execution_count": 68,
   "id": "dbb63bcf-29e0-455c-8895-b8888aec1c59",
   "metadata": {},
   "outputs": [
    {
     "name": "stdout",
     "output_type": "stream",
     "text": [
      "[1] 40\n"
     ]
    },
    {
     "data": {
      "text/html": [
       "260"
      ],
      "text/latex": [
       "260"
      ],
      "text/markdown": [
       "260"
      ],
      "text/plain": [
       "[1] 260"
      ]
     },
     "metadata": {},
     "output_type": "display_data"
    }
   ],
   "source": [
    "j<-40\n",
    "print(j)\n",
    "sum((foot_size-j)^2)"
   ]
  },
  {
   "cell_type": "code",
   "execution_count": 69,
   "id": "a7072124-fd62-4cd4-9a16-bd4a6ab25f45",
   "metadata": {},
   "outputs": [
    {
     "name": "stdout",
     "output_type": "stream",
     "text": [
      "[1] 39\n"
     ]
    },
    {
     "data": {
      "text/html": [
       "270"
      ],
      "text/latex": [
       "270"
      ],
      "text/markdown": [
       "270"
      ],
      "text/plain": [
       "[1] 270"
      ]
     },
     "metadata": {},
     "output_type": "display_data"
    }
   ],
   "source": [
    "j<-39\n",
    "print(j)\n",
    "sum((foot_size-j)^2)"
   ]
  },
  {
   "cell_type": "markdown",
   "id": "a0d4d314-bbf6-487c-9a63-d6b0bf3f8f3d",
   "metadata": {
    "tags": []
   },
   "source": [
    "## Структурные средние: медиана, мода, квартили"
   ]
  },
  {
   "cell_type": "markdown",
   "id": "3cda3816-019b-49a0-8f51-96f8f948f75f",
   "metadata": {},
   "source": [
    "Критерии оптимальности могут быть и другими, например:\n",
    "$$\\sum_{i=1}^{n}\\left |x_i-c\\right|\\rightarrow \\min$$\n",
    "сумма модулей отклонения каждого индивидуального значения от типичного представителя минимально. Последнему критерию удовлетворяет так называемое *структурное среднее* - **медиана**."
   ]
  },
  {
   "cell_type": "code",
   "execution_count": 25,
   "id": "6400641d-caca-49bd-b7f5-08e3a3cccd82",
   "metadata": {},
   "outputs": [
    {
     "name": "stdout",
     "output_type": "stream",
     "text": [
      " [1]   34   34   35   35   36   37   38   39   39   39   40   40   41   41   41\n",
      "[16]   42   42   43   43   44   45   46 1000\n",
      "[1] 23\n"
     ]
    }
   ],
   "source": [
    "print(sort(foot_size_m))\n",
    "print(length(foot_size_m))"
   ]
  },
  {
   "cell_type": "code",
   "execution_count": 26,
   "id": "7263b8ee-e71b-4a39-9b7b-96759efc8ac4",
   "metadata": {},
   "outputs": [
    {
     "data": {
      "text/html": [
       "40"
      ],
      "text/latex": [
       "40"
      ],
      "text/markdown": [
       "40"
      ],
      "text/plain": [
       "[1] 40"
      ]
     },
     "metadata": {},
     "output_type": "display_data"
    }
   ],
   "source": [
    "median(foot_size_m)"
   ]
  },
  {
   "cell_type": "code",
   "execution_count": 27,
   "id": "f2a0d6a9-568f-46d5-8cb5-bca310b9db13",
   "metadata": {},
   "outputs": [
    {
     "data": {
      "text/html": [
       "40"
      ],
      "text/latex": [
       "40"
      ],
      "text/markdown": [
       "40"
      ],
      "text/plain": [
       "[1] 40"
      ]
     },
     "metadata": {},
     "output_type": "display_data"
    }
   ],
   "source": [
    "median(foot_size)"
   ]
  },
  {
   "cell_type": "markdown",
   "id": "91f0473a-94fe-462c-91ae-ffdba40ef5dc",
   "metadata": {},
   "source": [
    "Медиана является более устойчивой к выбросам.\n",
    "\n",
    "Медиана в данных - это срединное значение, если данные отсортировать по возрастанию или убыванию.\n",
    "\n",
    "Саму совокупность значений исходных данных, расположенных в порядке возрастания (неубывания) называют вариационным рядом.\n",
    "\n",
    "Если есть  𝑛  значений, то медиана формально определяется как значение с порядковым номером (п + 1)/2. Например, если  𝑛=7  то срединное значение - это значение с номером (7 + 1)/2=4. Действительно,\n",
    "[1,2,3,4,5,6,7]\n",
    " \n",
    "видно, что четверка посередине.\n",
    "\n",
    "Если  𝑛  четное число, то медиана определяется как среднее арифметическое двух срединных значений:\n",
    "[1,2,3,4, 5,6,7,8]\n",
    " \n",
    "(4+5)/2=4.5\n",
    " \n",
    "Рассчитаем медианное значение для нашего примера:"
   ]
  },
  {
   "cell_type": "code",
   "execution_count": 28,
   "id": "afb243f7-6dd4-4896-8dd6-9625aa3ee19b",
   "metadata": {},
   "outputs": [],
   "source": [
    "my_median<-function(L){\n",
    "    n<-length(L)\n",
    "    sort_L<-sort(L)\n",
    "    index<-(n)%/%2\n",
    "    if (n%%2==1) return(sort_L[index])\n",
    "    else return((sort_L[index-1]+sort_L[index])/2)\n",
    "}\n"
   ]
  },
  {
   "cell_type": "code",
   "execution_count": 29,
   "id": "9d33ebed-6a22-4c35-896f-2127bfc77e11",
   "metadata": {},
   "outputs": [
    {
     "data": {
      "text/html": [
       "40"
      ],
      "text/latex": [
       "40"
      ],
      "text/markdown": [
       "40"
      ],
      "text/plain": [
       "[1] 40"
      ]
     },
     "metadata": {},
     "output_type": "display_data"
    }
   ],
   "source": [
    "my_median(foot_size_m)"
   ]
  },
  {
   "cell_type": "code",
   "execution_count": 30,
   "id": "56d9f151-ba11-4d15-9b51-c620dd8d0a1a",
   "metadata": {},
   "outputs": [
    {
     "data": {
      "text/html": [
       "40"
      ],
      "text/latex": [
       "40"
      ],
      "text/markdown": [
       "40"
      ],
      "text/plain": [
       "[1] 40"
      ]
     },
     "metadata": {},
     "output_type": "display_data"
    }
   ],
   "source": [
    "#Можно использовать и встроенную функцию:\n",
    "median(foot_size_m)"
   ]
  },
  {
   "cell_type": "markdown",
   "id": "8972b042-1534-47e1-9e2a-6a13aaada761",
   "metadata": {},
   "source": [
    "Обобщением медианы является **квантиль** - значение, меньше которого расположен определенный процент данных. Причем медиана является частным случаем квантиля на 0.5. Квантиль, переведенный в проценты, часто называют **процентиль** или **перцентиль**."
   ]
  },
  {
   "cell_type": "code",
   "execution_count": 31,
   "id": "3b75cd14-38c9-428e-916d-984d674f08d1",
   "metadata": {},
   "outputs": [],
   "source": [
    "my_quantile<-function(L,p){\n",
    "    index=floor(p*length(L))\n",
    "    return(sort(L)[index])\n",
    "    }\n",
    "                   "
   ]
  },
  {
   "cell_type": "code",
   "execution_count": 32,
   "id": "7d6dbf1f-ef36-44a1-9d2d-fdc95f9d0122",
   "metadata": {},
   "outputs": [
    {
     "name": "stdout",
     "output_type": "stream",
     "text": [
      "numeric(0)\n",
      "[1] 36\n",
      "[1] 40\n",
      "[1] 42\n",
      "[1] 46\n"
     ]
    }
   ],
   "source": [
    "#Получаем некоторые квантили:\n",
    "print(my_quantile(foot_size_m,0)) # это минимальное значение в данных\n",
    "print(my_quantile(foot_size_m,0.25))\n",
    "print(my_quantile(foot_size_m,0.5))\n",
    "print(my_quantile(foot_size_m,0.75))\n",
    "print(my_quantile(foot_size_m,0.9999)) # это максмальное значение в данных"
   ]
  },
  {
   "cell_type": "markdown",
   "id": "b51eea8c-090c-4a58-9250-7d0ff073c8a5",
   "metadata": {},
   "source": [
    "Конечно же есть встроенная функция получения квантилей."
   ]
  },
  {
   "cell_type": "code",
   "execution_count": 33,
   "id": "b3107377-0e43-4fd0-97a7-56b03ddd9dac",
   "metadata": {},
   "outputs": [
    {
     "name": "stdout",
     "output_type": "stream",
     "text": [
      "0% \n",
      "34 \n",
      " 25% \n",
      "37.5 \n",
      "50% \n",
      " 40 \n",
      " 75% \n",
      "42.5 \n",
      "  99.99% \n",
      "997.9012 \n"
     ]
    }
   ],
   "source": [
    "#Получаем некоторые квантили:\n",
    "print(quantile(foot_size_m,0)) # это минимальное значение в данных\n",
    "print(quantile(foot_size_m,0.25))\n",
    "print(quantile(foot_size_m,0.5))\n",
    "print(quantile(foot_size_m,0.75))\n",
    "print(quantile(foot_size_m,0.9999)) # это максмальное значение в данных"
   ]
  },
  {
   "cell_type": "markdown",
   "id": "68840b15-ad12-4a7f-bc55-753f73a85f45",
   "metadata": {},
   "source": [
    "Еще используется термин **квартиль**, который означает, что весь набор отсортированных данных разбивают на 4 равные части. \n",
    "\n",
    "Тогда **первый квартиль** $Q_1$ - это $\\frac{n+1}{4}$ ранжированное значение в данных (т.е. это значение, левее которого находится 25% всех значений). Очевидно, что первый квартиль совпадает с 0.25 квантилем.\n",
    "\n",
    "**Третий квартиль** $Q_3$ - это $\\frac{3(n+1)}{4}$ ранжированное значение в данных (т.е. это значение, правее которого находтся четверть (25%) всех значений). Очевидно, что третий квартиль совпадает с 0.75 квантилем.\n",
    "\n",
    "**Второй квартиль** $Q_2$- это значение, правее и левее которого находится половина исходных данных. Ясно, что второй квартиль совпадает с медианным значением.\n",
    "\n",
    "<p align=\"center\"><img src=\"ris1.jpg\" width=\"500\" height=\"500\"></p>"
   ]
  },
  {
   "cell_type": "markdown",
   "id": "e8400392-7ce3-4ac2-9680-7d5dc2af7560",
   "metadata": {},
   "source": [
    "Реже для характеристики типичного представителя используют модальное значение(моду), которая определяется как наиболее часто встречающееся данное. Однако в исходных данных может оказаться несколько таких значений."
   ]
  },
  {
   "cell_type": "code",
   "execution_count": 120,
   "id": "ea57fb44-ccb3-4a3b-a360-e4b085fb5bfa",
   "metadata": {},
   "outputs": [
    {
     "data": {
      "text/plain": [
       "foot_size_m\n",
       "  34   35   36   37   38   39   40   41   42   43   44   45   46 1000 \n",
       "   2    2    1    1    1    3    2    3    2    2    1    1    1    1 "
      ]
     },
     "metadata": {},
     "output_type": "display_data"
    }
   ],
   "source": [
    "tt_m"
   ]
  },
  {
   "cell_type": "markdown",
   "id": "6df28cc3-9ad2-4dab-9ec2-07e56891b974",
   "metadata": {},
   "source": [
    "Например, в исходных данных видно, что имеется два значения, которые встрречаются с максимальной частотой: 39, 41.\n",
    "В этом случае принято говорить про мультимодальное распределение."
   ]
  },
  {
   "cell_type": "markdown",
   "id": "2ee09415-c538-40a4-8f4c-6cc9a8a329a9",
   "metadata": {
    "tags": []
   },
   "source": [
    "## Расчет средних характеристик с использованием R, визуализация данных (графики, диаграммы, ящик с усами)."
   ]
  },
  {
   "cell_type": "markdown",
   "id": "22bcd324-b1d6-42ad-ba8b-89552dec5aff",
   "metadata": {},
   "source": [
    "Итак, при проведении предварительного анализа данных очень часто прибегают к различным визуализациям данных. "
   ]
  },
  {
   "cell_type": "code",
   "execution_count": 25,
   "id": "bb3e18cb-d010-4670-a7b6-97e2e457692a",
   "metadata": {},
   "outputs": [
    {
     "data": {
      "image/png": "[encoded data removed]",
      "text/plain": [
       "plot without title"
      ]
     },
     "metadata": {
      "image/png": {
       "height": 420,
       "width": 420
      }
     },
     "output_type": "display_data"
    }
   ],
   "source": [
    "#Простой график \n",
    "plot(foot_size,col=\"green\", type=\"l\")"
   ]
  },
  {
   "cell_type": "code",
   "execution_count": 19,
   "id": "600bb003-9f3c-4cff-b4d7-8332725d3523",
   "metadata": {},
   "outputs": [
    {
     "data": {
      "text/html": [
       "\n",
       "<table style=\"width: 100%;\"><tr><td>plot.default {graphics}</td><td style=\"text-align: right;\">R Documentation</td></tr></table>\n",
       "\n",
       "<h2>The Default Scatterplot Function</h2>\n",
       "\n",
       "<h3>Description</h3>\n",
       "\n",
       "<p>Draw a scatter plot with decorations such as axes and titles\n",
       "in the active graphics window.\n",
       "</p>\n",
       "\n",
       "\n",
       "<h3>Usage</h3>\n",
       "\n",
       "<pre><code class='language-R'>## Default S3 method:\n",
       "plot(x, y = NULL, type = \"p\",  xlim = NULL, ylim = NULL,\n",
       "     log = \"\", main = NULL, sub = NULL, xlab = NULL, ylab = NULL,\n",
       "     ann = par(\"ann\"), axes = TRUE, frame.plot = axes,\n",
       "     panel.first = NULL, panel.last = NULL, asp = NA,\n",
       "     xgap.axis = NA, ygap.axis = NA,\n",
       "     ...)\n",
       "</code></pre>\n",
       "\n",
       "\n",
       "<h3>Arguments</h3>\n",
       "\n",
       "<table>\n",
       "<tr style=\"vertical-align: top;\"><td><code>x, y</code></td>\n",
       "<td>\n",
       "<p>the <code>x</code> and <code>y</code> arguments provide the x and y\n",
       "coordinates for the plot.  Any reasonable way of defining the\n",
       "coordinates is acceptable.  See the function <code>xy.coords</code>\n",
       "for details.  If supplied separately, they must be of the same length.</p>\n",
       "</td></tr>\n",
       "<tr style=\"vertical-align: top;\"><td><code>type</code></td>\n",
       "<td>\n",
       "<p>1-character string giving the type of plot desired.  The\n",
       "following values are possible, for details, see <code>plot</code>:\n",
       "<code>\"p\"</code> for points, <code>\"l\"</code> for lines,\n",
       "<code>\"b\"</code> for both points and lines,\n",
       "<code>\"c\"</code> for empty points joined by lines,\n",
       "<code>\"o\"</code> for overplotted points and lines,\n",
       "<code>\"s\"</code> and <code>\"S\"</code> for stair steps and\n",
       "<code>\"h\"</code> for histogram-like vertical lines.  Finally,\n",
       "<code>\"n\"</code> does not produce any points or lines.</p>\n",
       "</td></tr>\n",
       "<tr style=\"vertical-align: top;\"><td><code>xlim</code></td>\n",
       "<td>\n",
       "<p>the x limits (x1, x2) of the plot.  Note that <code>x1 &gt; x2</code>\n",
       "is allowed and leads to a &lsquo;reversed axis&rsquo;.\n",
       "</p>\n",
       "<p>The default value, <code>NULL</code>, indicates that the range of the\n",
       "finite values to be plotted should be used.</p>\n",
       "</td></tr>\n",
       "<tr style=\"vertical-align: top;\"><td><code>ylim</code></td>\n",
       "<td>\n",
       "<p>the y limits of the plot.</p>\n",
       "</td></tr>\n",
       "<tr style=\"vertical-align: top;\"><td><code>log</code></td>\n",
       "<td>\n",
       "<p>a character string which contains <code>\"x\"</code> if the x axis\n",
       "is to be logarithmic, <code>\"y\"</code> if the y axis is to be logarithmic\n",
       "and <code>\"xy\"</code> or <code>\"yx\"</code> if both axes are to be logarithmic.</p>\n",
       "</td></tr>\n",
       "<tr style=\"vertical-align: top;\"><td><code>main</code></td>\n",
       "<td>\n",
       "<p>a main title for the plot, see also <code>title</code>.</p>\n",
       "</td></tr>\n",
       "<tr style=\"vertical-align: top;\"><td><code>sub</code></td>\n",
       "<td>\n",
       "<p>a subtitle for the plot.</p>\n",
       "</td></tr>\n",
       "<tr style=\"vertical-align: top;\"><td><code>xlab</code></td>\n",
       "<td>\n",
       "<p>a label for the x axis, defaults to a description of <code>x</code>.</p>\n",
       "</td></tr>\n",
       "<tr style=\"vertical-align: top;\"><td><code>ylab</code></td>\n",
       "<td>\n",
       "<p>a label for the y axis, defaults to a description of <code>y</code>.</p>\n",
       "</td></tr>\n",
       "<tr style=\"vertical-align: top;\"><td><code>ann</code></td>\n",
       "<td>\n",
       "<p>a logical value indicating whether the default annotation\n",
       "(title and x and y axis labels) should appear on the plot.</p>\n",
       "</td></tr>\n",
       "<tr style=\"vertical-align: top;\"><td><code>axes</code></td>\n",
       "<td>\n",
       "<p>a logical value indicating whether both axes should be drawn on\n",
       "the plot.  Use graphical parameter <code>\"xaxt\"</code> or <code>\"yaxt\"</code>\n",
       "to suppress just one of the axes.</p>\n",
       "</td></tr>\n",
       "<tr style=\"vertical-align: top;\"><td><code>frame.plot</code></td>\n",
       "<td>\n",
       "<p>a logical indicating whether a box should be drawn\n",
       "around the plot.</p>\n",
       "</td></tr>\n",
       "<tr style=\"vertical-align: top;\"><td><code>panel.first</code></td>\n",
       "<td>\n",
       "<p>an &lsquo;expression&rsquo; to be evaluated after the\n",
       "plot axes are set up but before any plotting takes place.  This can\n",
       "be useful for drawing background grids or scatterplot smooths.  Note\n",
       "that this works by lazy evaluation: passing this argument from other\n",
       "<code>plot</code> methods may well not work since it may be evaluated too\n",
       "early.</p>\n",
       "</td></tr>\n",
       "<tr style=\"vertical-align: top;\"><td><code>panel.last</code></td>\n",
       "<td>\n",
       "<p>an expression to be evaluated after plotting has\n",
       "taken place but before the axes, title and box are added.  See the\n",
       "comments about <code>panel.first</code>.</p>\n",
       "</td></tr>\n",
       "<tr style=\"vertical-align: top;\"><td><code>asp</code></td>\n",
       "<td>\n",
       "<p>the <code class=\"reqn\">y/x</code> aspect ratio, see <code>plot.window</code>.</p>\n",
       "</td></tr>\n",
       "<tr style=\"vertical-align: top;\"><td><code>xgap.axis, ygap.axis</code></td>\n",
       "<td>\n",
       "<p>the <code class=\"reqn\">x/y</code> axis gap factors, passed as\n",
       "<code>gap.axis</code> to the two <code>axis()</code> calls (when\n",
       "<code>axes</code> is true, as per default).</p>\n",
       "</td></tr>\n",
       "<tr style=\"vertical-align: top;\"><td><code>...</code></td>\n",
       "<td>\n",
       "<p>other graphical parameters (see <code>par</code> and\n",
       "section &lsquo;Details&rsquo; below).</p>\n",
       "</td></tr>\n",
       "</table>\n",
       "\n",
       "\n",
       "<h3>Details</h3>\n",
       "\n",
       "<p>Commonly used graphical parameters are:\n",
       "</p>\n",
       "\n",
       "<dl>\n",
       "<dt><code>col</code></dt><dd><p>The colors for lines and points.  Multiple colors can be\n",
       "specified so that each point can be given its own color.  If there\n",
       "are fewer colors than points they are recycled in the standard\n",
       "fashion.  Lines will all be plotted in the first colour specified.</p>\n",
       "</dd>\n",
       "<dt><code>bg</code></dt><dd><p>a vector of background colors for open plot symbols, see\n",
       "<code>points</code>.  Note: this is <b>not</b> the same setting\n",
       "as <code>par(\"bg\")</code>.</p>\n",
       "</dd>\n",
       "<dt><code>pch</code></dt><dd><p>a vector of plotting characters or symbols:\n",
       "see <code>points</code>.</p>\n",
       "</dd>\n",
       "<dt><code>cex</code></dt><dd><p>a numerical vector giving the amount by which\n",
       "plotting characters and symbols should be scaled relative to the\n",
       "default.  This works as a multiple of <code>par(\"cex\")</code>.\n",
       "<code>NULL</code> and <code>NA</code> are equivalent to <code>1.0</code>.  Note that\n",
       "this does not affect annotation: see below.</p>\n",
       "</dd>\n",
       "<dt><code>lty</code></dt><dd><p>a vector of line types, see <code>par</code>.</p>\n",
       "</dd>\n",
       "<dt><code>cex.main</code>, <code>col.lab</code>, <code>font.sub</code>,\n",
       "etc</dt><dd><p>settings for main- and sub-title and axis annotation, see\n",
       "<code>title</code> and <code>par</code>.</p>\n",
       "</dd>\n",
       "<dt><code>lwd</code></dt><dd><p>a vector of line widths, see <code>par</code>.</p>\n",
       "</dd>\n",
       "</dl>\n",
       "\n",
       "\n",
       "\n",
       "<h3>Note</h3>\n",
       "\n",
       "<p>The presence of <code>panel.first</code> and <code>panel.last</code> is a\n",
       "historical anomaly: default plots do not have &lsquo;panels&rsquo;, unlike\n",
       "e.g. <code>pairs</code> plots.  For more control, use lower-level\n",
       "plotting functions: <code>plot.default</code> calls in turn some of\n",
       "<code>plot.new</code>, <code>plot.window</code>,\n",
       "<code>plot.xy</code>, <code>axis</code>, <code>box</code> and\n",
       "<code>title</code>, and plots can be built up by calling these\n",
       "individually, or by calling <code>plot(type = \"n\")</code> and adding further\n",
       "elements.\n",
       "</p>\n",
       "<p>The <code>plot</code> generic was moved from the <span class=\"pkg\">graphics</span> package to\n",
       "the <span class=\"pkg\">base</span> package in <span style=\"font-family: Courier New, Courier; color: #666666;\"><b>R</b></span> 4.0.0. It is currently re-exported from\n",
       "the <span class=\"pkg\">graphics</span> namespace to allow packages importing it from there\n",
       "to continue working, but this may change in future versions of <span style=\"font-family: Courier New, Courier; color: #666666;\"><b>R</b></span>.\n",
       "</p>\n",
       "\n",
       "\n",
       "<h3>References</h3>\n",
       "\n",
       "<p>Becker, R. A., Chambers, J. M. and Wilks, A. R. (1988)\n",
       "<em>The New S Language</em>.\n",
       "Wadsworth &amp; Brooks/Cole.\n",
       "</p>\n",
       "<p>Cleveland, W. S. (1985)\n",
       "<em>The Elements of Graphing Data.</em>\n",
       "Monterey, CA: Wadsworth.\n",
       "</p>\n",
       "<p>Murrell, P. (2005) <em>R Graphics</em>. Chapman &amp; Hall/CRC Press.\n",
       "</p>\n",
       "\n",
       "\n",
       "<h3>See Also</h3>\n",
       "\n",
       "<p><code>plot</code>, <code>plot.window</code>, <code>xy.coords</code>.\n",
       "For thousands of points, consider using <code>smoothScatter</code>\n",
       "instead.\n",
       "</p>\n",
       "\n",
       "\n",
       "<h3>Examples</h3>\n",
       "\n",
       "<pre><code class='language-R'>Speed &lt;- cars$speed\n",
       "Distance &lt;- cars$dist\n",
       "plot(Speed, Distance, panel.first = grid(8, 8),\n",
       "     pch = 0, cex = 1.2, col = \"blue\")\n",
       "plot(Speed, Distance,\n",
       "     panel.first = lines(stats::lowess(Speed, Distance), lty = \"dashed\"),\n",
       "     pch = 0, cex = 1.2, col = \"blue\")\n",
       "\n",
       "## Show the different plot types\n",
       "x &lt;- 0:12\n",
       "y &lt;- sin(pi/5 * x)\n",
       "op &lt;- par(mfrow = c(3,3), mar = .1+ c(2,2,3,1))\n",
       "for (tp in c(\"p\",\"l\",\"b\",  \"c\",\"o\",\"h\",  \"s\",\"S\",\"n\")) {\n",
       "   plot(y ~ x, type = tp, main = paste0(\"plot(*, type = \\\"\", tp, \"\\\")\"))\n",
       "   if(tp == \"S\") {\n",
       "      lines(x, y, type = \"s\", col = \"red\", lty = 2)\n",
       "      mtext(\"lines(*, type = \\\"s\\\", ...)\", col = \"red\", cex = 0.8)\n",
       "   }\n",
       "}\n",
       "par(op)\n",
       "\n",
       "##--- Log-Log Plot  with  custom axes\n",
       "lx &lt;- seq(1, 5, length.out = 41)\n",
       "yl &lt;- expression(e^{-frac(1,2) * {log[10](x)}^2})\n",
       "y &lt;- exp(-.5*lx^2)\n",
       "op &lt;- par(mfrow = c(2,1), mar = par(\"mar\")-c(1,0,2,0), mgp = c(2, .7, 0))\n",
       "plot(10^lx, y, log = \"xy\", type = \"l\", col = \"purple\",\n",
       "     main = \"Log-Log plot\", ylab = yl, xlab = \"x\")\n",
       "plot(10^lx, y, log = \"xy\", type = \"o\", pch = \".\", col = \"forestgreen\",\n",
       "     main = \"Log-Log plot with custom axes\", ylab = yl, xlab = \"x\",\n",
       "     axes = FALSE, frame.plot = TRUE)\n",
       "my.at &lt;- 10^(1:5)\n",
       "axis(1, at = my.at, labels = formatC(my.at, format = \"fg\"))\n",
       "e.y &lt;- -5:-1 ; at.y &lt;- 10^e.y\n",
       "axis(2, at = at.y, col.axis = \"red\", las = 1,\n",
       "     labels = as.expression(lapply(e.y, function(E) bquote(10^.(E)))))\n",
       "par(op)\n",
       "</code></pre>\n",
       "\n",
       "<hr /><div style=\"text-align: center;\">[Package <em>graphics</em> version 4.2.2 ]</div>\n",
       "</div>"
      ],
      "text/latex": [
       "\\inputencoding{utf8}\n",
       "\\HeaderA{plot.default}{The Default Scatterplot Function}{plot.default}\n",
       "\\aliasA{plot}{plot.default}{plot}\n",
       "\\keyword{hplot}{plot.default}\n",
       "%\n",
       "\\begin{Description}\\relax\n",
       "Draw a scatter plot with decorations such as axes and titles\n",
       "in the active graphics window.\n",
       "\\end{Description}\n",
       "%\n",
       "\\begin{Usage}\n",
       "\\begin{verbatim}\n",
       "## Default S3 method:\n",
       "plot(x, y = NULL, type = \"p\",  xlim = NULL, ylim = NULL,\n",
       "     log = \"\", main = NULL, sub = NULL, xlab = NULL, ylab = NULL,\n",
       "     ann = par(\"ann\"), axes = TRUE, frame.plot = axes,\n",
       "     panel.first = NULL, panel.last = NULL, asp = NA,\n",
       "     xgap.axis = NA, ygap.axis = NA,\n",
       "     ...)\n",
       "\\end{verbatim}\n",
       "\\end{Usage}\n",
       "%\n",
       "\\begin{Arguments}\n",
       "\\begin{ldescription}\n",
       "\\item[\\code{x, y}] the \\code{x} and \\code{y} arguments provide the x and y\n",
       "coordinates for the plot.  Any reasonable way of defining the\n",
       "coordinates is acceptable.  See the function \\code{\\LinkA{xy.coords}{xy.coords}}\n",
       "for details.  If supplied separately, they must be of the same length.\n",
       "\\item[\\code{type}] 1-character string giving the type of plot desired.  The\n",
       "following values are possible, for details, see \\code{\\LinkA{plot}{plot}}:\n",
       "\\code{\"p\"} for points, \\code{\"l\"} for lines,\n",
       "\\code{\"b\"} for both points and lines,\n",
       "\\code{\"c\"} for empty points joined by lines,\n",
       "\\code{\"o\"} for overplotted points and lines,\n",
       "\\code{\"s\"} and \\code{\"S\"} for stair steps and\n",
       "\\code{\"h\"} for histogram-like vertical lines.  Finally,\n",
       "\\code{\"n\"} does not produce any points or lines.\n",
       "\\item[\\code{xlim}] the x limits (x1, x2) of the plot.  Note that \\code{x1 > x2}\n",
       "is allowed and leads to a `reversed axis'.\n",
       "\n",
       "The default value, \\code{NULL}, indicates that the range of the\n",
       "\\LinkA{finite}{finite} values to be plotted should be used.\n",
       "\\item[\\code{ylim}] the y limits of the plot.\n",
       "\\item[\\code{log}] a character string which contains \\code{\"x\"} if the x axis\n",
       "is to be logarithmic, \\code{\"y\"} if the y axis is to be logarithmic\n",
       "and \\code{\"xy\"} or \\code{\"yx\"} if both axes are to be logarithmic.\n",
       "\n",
       "\\item[\\code{main}] a main title for the plot, see also \\code{\\LinkA{title}{title}}.\n",
       "\\item[\\code{sub}] a subtitle for the plot.\n",
       "\\item[\\code{xlab}] a label for the x axis, defaults to a description of \\code{x}.\n",
       "\\item[\\code{ylab}] a label for the y axis, defaults to a description of \\code{y}.\n",
       "\n",
       "\\item[\\code{ann}] a logical value indicating whether the default annotation\n",
       "(title and x and y axis labels) should appear on the plot.\n",
       "\\item[\\code{axes}] a logical value indicating whether both axes should be drawn on\n",
       "the plot.  Use \\LinkA{graphical parameter}{graphical parameter} \\code{\"xaxt\"} or \\code{\"yaxt\"}\n",
       "to suppress just one of the axes.\n",
       "\\item[\\code{frame.plot}] a logical indicating whether a box should be drawn\n",
       "around the plot.\n",
       "\n",
       "\\item[\\code{panel.first}] an `expression' to be evaluated after the\n",
       "plot axes are set up but before any plotting takes place.  This can\n",
       "be useful for drawing background grids or scatterplot smooths.  Note\n",
       "that this works by lazy evaluation: passing this argument from other\n",
       "\\code{plot} methods may well not work since it may be evaluated too\n",
       "early.\n",
       "\n",
       "\\item[\\code{panel.last}] an expression to be evaluated after plotting has\n",
       "taken place but before the axes, title and box are added.  See the\n",
       "comments about \\code{panel.first}.\n",
       "\n",
       "\\item[\\code{asp}] the \\eqn{y/x}{} aspect ratio, see \\code{\\LinkA{plot.window}{plot.window}}.\n",
       "\n",
       "\\item[\\code{xgap.axis, ygap.axis}] the \\eqn{x/y}{} axis gap factors, passed as\n",
       "\\code{gap.axis} to the two \\code{\\LinkA{axis}{axis}()} calls (when\n",
       "\\code{axes} is true, as per default).\n",
       "\n",
       "\\item[\\code{...}] other \\LinkA{graphical parameters}{graphical parameters} (see \\code{\\LinkA{par}{par}} and\n",
       "section `Details' below).\n",
       "\\end{ldescription}\n",
       "\\end{Arguments}\n",
       "%\n",
       "\\begin{Details}\\relax\n",
       "Commonly used \\LinkA{graphical parameters}{graphical parameters} are:\n",
       "\\begin{description}\n",
       "\n",
       "\\item[\\code{col}] The colors for lines and points.  Multiple colors can be\n",
       "specified so that each point can be given its own color.  If there\n",
       "are fewer colors than points they are recycled in the standard\n",
       "fashion.  Lines will all be plotted in the first colour specified.\n",
       "\\item[\\code{bg}] a vector of background colors for open plot symbols, see\n",
       "\\code{\\LinkA{points}{points}}.  Note: this is \\bold{not} the same setting\n",
       "as \\code{\\LinkA{par}{par}(\"bg\")}.\n",
       "\\item[\\code{pch}] a vector of plotting characters or symbols:\n",
       "see \\code{\\LinkA{points}{points}}.\n",
       "\\item[\\code{cex}] a numerical vector giving the amount by which\n",
       "plotting characters and symbols should be scaled relative to the\n",
       "default.  This works as a multiple of \\code{\\LinkA{par}{par}(\"cex\")}.\n",
       "\\code{NULL} and \\code{NA} are equivalent to \\code{1.0}.  Note that\n",
       "this does not affect annotation: see below.\n",
       "\\item[\\code{lty}] a vector of line types, see \\code{\\LinkA{par}{par}}.\n",
       "\\item[\\code{cex.main}, \\code{col.lab}, \\code{font.sub},\n",
       "etc] settings for main- and sub-title and axis annotation, see\n",
       "\\code{\\LinkA{title}{title}} and \\code{\\LinkA{par}{par}}.\n",
       "\\item[\\code{lwd}] a vector of line widths, see \\code{\\LinkA{par}{par}}.\n",
       "\n",
       "\\end{description}\n",
       "\n",
       "\\end{Details}\n",
       "%\n",
       "\\begin{Note}\\relax\n",
       "The presence of \\code{panel.first} and \\code{panel.last} is a\n",
       "historical anomaly: default plots do not have `panels', unlike\n",
       "e.g.~\\code{\\LinkA{pairs}{pairs}} plots.  For more control, use lower-level\n",
       "plotting functions: \\code{plot.default} calls in turn some of\n",
       "\\code{\\LinkA{plot.new}{plot.new}}, \\code{\\LinkA{plot.window}{plot.window}},\n",
       "\\code{\\LinkA{plot.xy}{plot.xy}}, \\code{\\LinkA{axis}{axis}}, \\code{\\LinkA{box}{box}} and\n",
       "\\code{\\LinkA{title}{title}}, and plots can be built up by calling these\n",
       "individually, or by calling \\code{plot(type = \"n\")} and adding further\n",
       "elements.\n",
       "\n",
       "The \\code{plot} generic was moved from the \\pkg{graphics} package to\n",
       "the \\pkg{base} package in \\R{} 4.0.0. It is currently re-exported from\n",
       "the \\pkg{graphics} namespace to allow packages importing it from there\n",
       "to continue working, but this may change in future versions of \\R{}.\n",
       "\\end{Note}\n",
       "%\n",
       "\\begin{References}\\relax\n",
       "Becker, R. A., Chambers, J. M. and Wilks, A. R. (1988)\n",
       "\\emph{The New S Language}.\n",
       "Wadsworth \\& Brooks/Cole.\n",
       "\n",
       "Cleveland, W. S. (1985)\n",
       "\\emph{The Elements of Graphing Data.}\n",
       "Monterey, CA: Wadsworth.\n",
       "\n",
       "Murrell, P. (2005) \\emph{R Graphics}. Chapman \\& Hall/CRC Press.\n",
       "\\end{References}\n",
       "%\n",
       "\\begin{SeeAlso}\\relax\n",
       "\\code{\\LinkA{plot}{plot}}, \\code{\\LinkA{plot.window}{plot.window}}, \\code{\\LinkA{xy.coords}{xy.coords}}.\n",
       "For thousands of points, consider using \\code{\\LinkA{smoothScatter}{smoothScatter}}\n",
       "instead.\n",
       "\\end{SeeAlso}\n",
       "%\n",
       "\\begin{Examples}\n",
       "\\begin{ExampleCode}\n",
       "Speed <- cars$speed\n",
       "Distance <- cars$dist\n",
       "plot(Speed, Distance, panel.first = grid(8, 8),\n",
       "     pch = 0, cex = 1.2, col = \"blue\")\n",
       "plot(Speed, Distance,\n",
       "     panel.first = lines(stats::lowess(Speed, Distance), lty = \"dashed\"),\n",
       "     pch = 0, cex = 1.2, col = \"blue\")\n",
       "\n",
       "## Show the different plot types\n",
       "x <- 0:12\n",
       "y <- sin(pi/5 * x)\n",
       "op <- par(mfrow = c(3,3), mar = .1+ c(2,2,3,1))\n",
       "for (tp in c(\"p\",\"l\",\"b\",  \"c\",\"o\",\"h\",  \"s\",\"S\",\"n\")) {\n",
       "   plot(y ~ x, type = tp, main = paste0(\"plot(*, type = \\\"\", tp, \"\\\")\"))\n",
       "   if(tp == \"S\") {\n",
       "      lines(x, y, type = \"s\", col = \"red\", lty = 2)\n",
       "      mtext(\"lines(*, type = \\\"s\\\", ...)\", col = \"red\", cex = 0.8)\n",
       "   }\n",
       "}\n",
       "par(op)\n",
       "\n",
       "##--- Log-Log Plot  with  custom axes\n",
       "lx <- seq(1, 5, length.out = 41)\n",
       "yl <- expression(e^{-frac(1,2) * {log[10](x)}^2})\n",
       "y <- exp(-.5*lx^2)\n",
       "op <- par(mfrow = c(2,1), mar = par(\"mar\")-c(1,0,2,0), mgp = c(2, .7, 0))\n",
       "plot(10^lx, y, log = \"xy\", type = \"l\", col = \"purple\",\n",
       "     main = \"Log-Log plot\", ylab = yl, xlab = \"x\")\n",
       "plot(10^lx, y, log = \"xy\", type = \"o\", pch = \".\", col = \"forestgreen\",\n",
       "     main = \"Log-Log plot with custom axes\", ylab = yl, xlab = \"x\",\n",
       "     axes = FALSE, frame.plot = TRUE)\n",
       "my.at <- 10^(1:5)\n",
       "axis(1, at = my.at, labels = formatC(my.at, format = \"fg\"))\n",
       "e.y <- -5:-1 ; at.y <- 10^e.y\n",
       "axis(2, at = at.y, col.axis = \"red\", las = 1,\n",
       "     labels = as.expression(lapply(e.y, function(E) bquote(10^.(E)))))\n",
       "par(op)\n",
       "\\end{ExampleCode}\n",
       "\\end{Examples}"
      ],
      "text/plain": [
       "plot.default             package:graphics              R Documentation\n",
       "\n",
       "_\bT_\bh_\be _\bD_\be_\bf_\ba_\bu_\bl_\bt _\bS_\bc_\ba_\bt_\bt_\be_\br_\bp_\bl_\bo_\bt _\bF_\bu_\bn_\bc_\bt_\bi_\bo_\bn\n",
       "\n",
       "_\bD_\be_\bs_\bc_\br_\bi_\bp_\bt_\bi_\bo_\bn:\n",
       "\n",
       "     Draw a scatter plot with decorations such as axes and titles in\n",
       "     the active graphics window.\n",
       "\n",
       "_\bU_\bs_\ba_\bg_\be:\n",
       "\n",
       "     ## Default S3 method:\n",
       "     plot(x, y = NULL, type = \"p\",  xlim = NULL, ylim = NULL,\n",
       "          log = \"\", main = NULL, sub = NULL, xlab = NULL, ylab = NULL,\n",
       "          ann = par(\"ann\"), axes = TRUE, frame.plot = axes,\n",
       "          panel.first = NULL, panel.last = NULL, asp = NA,\n",
       "          xgap.axis = NA, ygap.axis = NA,\n",
       "          ...)\n",
       "     \n",
       "_\bA_\br_\bg_\bu_\bm_\be_\bn_\bt_\bs:\n",
       "\n",
       "    x, y: the ‘x’ and ‘y’ arguments provide the x and y coordinates for\n",
       "          the plot.  Any reasonable way of defining the coordinates is\n",
       "          acceptable.  See the function ‘xy.coords’ for details.  If\n",
       "          supplied separately, they must be of the same length.\n",
       "\n",
       "    type: 1-character string giving the type of plot desired.  The\n",
       "          following values are possible, for details, see ‘plot’: ‘\"p\"’\n",
       "          for points, ‘\"l\"’ for lines, ‘\"b\"’ for both points and lines,\n",
       "          ‘\"c\"’ for empty points joined by lines, ‘\"o\"’ for overplotted\n",
       "          points and lines, ‘\"s\"’ and ‘\"S\"’ for stair steps and ‘\"h\"’\n",
       "          for histogram-like vertical lines.  Finally, ‘\"n\"’ does not\n",
       "          produce any points or lines.\n",
       "\n",
       "    xlim: the x limits (x1, x2) of the plot.  Note that ‘x1 > x2’ is\n",
       "          allowed and leads to a ‘reversed axis’.\n",
       "\n",
       "          The default value, ‘NULL’, indicates that the range of the\n",
       "          finite values to be plotted should be used.\n",
       "\n",
       "    ylim: the y limits of the plot.\n",
       "\n",
       "     log: a character string which contains ‘\"x\"’ if the x axis is to\n",
       "          be logarithmic, ‘\"y\"’ if the y axis is to be logarithmic and\n",
       "          ‘\"xy\"’ or ‘\"yx\"’ if both axes are to be logarithmic.\n",
       "\n",
       "    main: a main title for the plot, see also ‘title’.\n",
       "\n",
       "     sub: a subtitle for the plot.\n",
       "\n",
       "    xlab: a label for the x axis, defaults to a description of ‘x’.\n",
       "\n",
       "    ylab: a label for the y axis, defaults to a description of ‘y’.\n",
       "\n",
       "     ann: a logical value indicating whether the default annotation\n",
       "          (title and x and y axis labels) should appear on the plot.\n",
       "\n",
       "    axes: a logical value indicating whether both axes should be drawn\n",
       "          on the plot.  Use graphical parameter ‘\"xaxt\"’ or ‘\"yaxt\"’ to\n",
       "          suppress just one of the axes.\n",
       "\n",
       "frame.plot: a logical indicating whether a box should be drawn around\n",
       "          the plot.\n",
       "\n",
       "panel.first: an ‘expression’ to be evaluated after the plot axes are\n",
       "          set up but before any plotting takes place.  This can be\n",
       "          useful for drawing background grids or scatterplot smooths.\n",
       "          Note that this works by lazy evaluation: passing this\n",
       "          argument from other ‘plot’ methods may well not work since it\n",
       "          may be evaluated too early.\n",
       "\n",
       "panel.last: an expression to be evaluated after plotting has taken\n",
       "          place but before the axes, title and box are added.  See the\n",
       "          comments about ‘panel.first’.\n",
       "\n",
       "     asp: the y/x aspect ratio, see ‘plot.window’.\n",
       "\n",
       "xgap.axis, ygap.axis: the x/y axis gap factors, passed as ‘gap.axis’ to\n",
       "          the two ‘axis()’ calls (when ‘axes’ is true, as per default).\n",
       "\n",
       "     ...: other graphical parameters (see ‘par’ and section ‘Details’\n",
       "          below).\n",
       "\n",
       "_\bD_\be_\bt_\ba_\bi_\bl_\bs:\n",
       "\n",
       "     Commonly used graphical parameters are:\n",
       "\n",
       "     ‘col’ The colors for lines and points.  Multiple colors can be\n",
       "          specified so that each point can be given its own color.  If\n",
       "          there are fewer colors than points they are recycled in the\n",
       "          standard fashion.  Lines will all be plotted in the first\n",
       "          colour specified.\n",
       "\n",
       "     ‘bg’ a vector of background colors for open plot symbols, see\n",
       "          ‘points’.  Note: this is *not* the same setting as\n",
       "          ‘par(\"bg\")’.\n",
       "\n",
       "     ‘pch’ a vector of plotting characters or symbols: see ‘points’.\n",
       "\n",
       "     ‘cex’ a numerical vector giving the amount by which plotting\n",
       "          characters and symbols should be scaled relative to the\n",
       "          default.  This works as a multiple of ‘par(\"cex\")’.  ‘NULL’\n",
       "          and ‘NA’ are equivalent to ‘1.0’.  Note that this does not\n",
       "          affect annotation: see below.\n",
       "\n",
       "     ‘lty’ a vector of line types, see ‘par’.\n",
       "\n",
       "     ‘cex.main’, ‘col.lab’, ‘font.sub’, etc settings for main- and\n",
       "          sub-title and axis annotation, see ‘title’ and ‘par’.\n",
       "\n",
       "     ‘lwd’ a vector of line widths, see ‘par’.\n",
       "\n",
       "_\bN_\bo_\bt_\be:\n",
       "\n",
       "     The presence of ‘panel.first’ and ‘panel.last’ is a historical\n",
       "     anomaly: default plots do not have ‘panels’, unlike e.g. ‘pairs’\n",
       "     plots.  For more control, use lower-level plotting functions:\n",
       "     ‘plot.default’ calls in turn some of ‘plot.new’, ‘plot.window’,\n",
       "     ‘plot.xy’, ‘axis’, ‘box’ and ‘title’, and plots can be built up by\n",
       "     calling these individually, or by calling ‘plot(type = \"n\")’ and\n",
       "     adding further elements.\n",
       "\n",
       "     The ‘plot’ generic was moved from the ‘graphics’ package to the\n",
       "     ‘base’ package in R 4.0.0. It is currently re-exported from the\n",
       "     ‘graphics’ namespace to allow packages importing it from there to\n",
       "     continue working, but this may change in future versions of R.\n",
       "\n",
       "_\bR_\be_\bf_\be_\br_\be_\bn_\bc_\be_\bs:\n",
       "\n",
       "     Becker, R. A., Chambers, J. M. and Wilks, A. R. (1988) _The New S\n",
       "     Language_.  Wadsworth & Brooks/Cole.\n",
       "\n",
       "     Cleveland, W. S. (1985) _The Elements of Graphing Data._ Monterey,\n",
       "     CA: Wadsworth.\n",
       "\n",
       "     Murrell, P. (2005) _R Graphics_. Chapman & Hall/CRC Press.\n",
       "\n",
       "_\bS_\be_\be _\bA_\bl_\bs_\bo:\n",
       "\n",
       "     ‘plot’, ‘plot.window’, ‘xy.coords’.  For thousands of points,\n",
       "     consider using ‘smoothScatter’ instead.\n",
       "\n",
       "_\bE_\bx_\ba_\bm_\bp_\bl_\be_\bs:\n",
       "\n",
       "     Speed <- cars$speed\n",
       "     Distance <- cars$dist\n",
       "     plot(Speed, Distance, panel.first = grid(8, 8),\n",
       "          pch = 0, cex = 1.2, col = \"blue\")\n",
       "     plot(Speed, Distance,\n",
       "          panel.first = lines(stats::lowess(Speed, Distance), lty = \"dashed\"),\n",
       "          pch = 0, cex = 1.2, col = \"blue\")\n",
       "     \n",
       "     ## Show the different plot types\n",
       "     x <- 0:12\n",
       "     y <- sin(pi/5 * x)\n",
       "     op <- par(mfrow = c(3,3), mar = .1+ c(2,2,3,1))\n",
       "     for (tp in c(\"p\",\"l\",\"b\",  \"c\",\"o\",\"h\",  \"s\",\"S\",\"n\")) {\n",
       "        plot(y ~ x, type = tp, main = paste0(\"plot(*, type = \\\"\", tp, \"\\\")\"))\n",
       "        if(tp == \"S\") {\n",
       "           lines(x, y, type = \"s\", col = \"red\", lty = 2)\n",
       "           mtext(\"lines(*, type = \\\"s\\\", ...)\", col = \"red\", cex = 0.8)\n",
       "        }\n",
       "     }\n",
       "     par(op)\n",
       "     \n",
       "     ##--- Log-Log Plot  with  custom axes\n",
       "     lx <- seq(1, 5, length.out = 41)\n",
       "     yl <- expression(e^{-frac(1,2) * {log[10](x)}^2})\n",
       "     y <- exp(-.5*lx^2)\n",
       "     op <- par(mfrow = c(2,1), mar = par(\"mar\")-c(1,0,2,0), mgp = c(2, .7, 0))\n",
       "     plot(10^lx, y, log = \"xy\", type = \"l\", col = \"purple\",\n",
       "          main = \"Log-Log plot\", ylab = yl, xlab = \"x\")\n",
       "     plot(10^lx, y, log = \"xy\", type = \"o\", pch = \".\", col = \"forestgreen\",\n",
       "          main = \"Log-Log plot with custom axes\", ylab = yl, xlab = \"x\",\n",
       "          axes = FALSE, frame.plot = TRUE)\n",
       "     my.at <- 10^(1:5)\n",
       "     axis(1, at = my.at, labels = formatC(my.at, format = \"fg\"))\n",
       "     e.y <- -5:-1 ; at.y <- 10^e.y\n",
       "     axis(2, at = at.y, col.axis = \"red\", las = 1,\n",
       "          labels = as.expression(lapply(e.y, function(E) bquote(10^.(E)))))\n",
       "     par(op)\n",
       "     "
      ]
     },
     "metadata": {},
     "output_type": "display_data"
    }
   ],
   "source": [
    "help(plot)"
   ]
  },
  {
   "cell_type": "code",
   "execution_count": 28,
   "id": "9d609c3a-86e2-40df-ac38-66f5038bfd68",
   "metadata": {},
   "outputs": [
    {
     "data": {
      "image/png": "[encoded data removed]",
      "text/plain": [
       "plot without title"
      ]
     },
     "metadata": {
      "image/png": {
       "height": 420,
       "width": 420
      }
     },
     "output_type": "display_data"
    }
   ],
   "source": [
    "#Столбчатая диаграмма\n",
    "barplot(foot_size,col=\"red\", horiz = TRUE)"
   ]
  },
  {
   "cell_type": "code",
   "execution_count": 27,
   "id": "3c979fec-6cc1-422b-9b8e-ee35d6dcd8a7",
   "metadata": {},
   "outputs": [
    {
     "data": {
      "text/html": [
       "\n",
       "<table style=\"width: 100%;\"><tr><td>barplot {graphics}</td><td style=\"text-align: right;\">R Documentation</td></tr></table>\n",
       "\n",
       "<h2>Bar Plots</h2>\n",
       "\n",
       "<h3>Description</h3>\n",
       "\n",
       "<p>Creates a bar plot with vertical or horizontal bars.\n",
       "</p>\n",
       "\n",
       "\n",
       "<h3>Usage</h3>\n",
       "\n",
       "<pre><code class='language-R'>barplot(height, ...)\n",
       "\n",
       "## Default S3 method:\n",
       "barplot(height, width = 1, space = NULL,\n",
       "        names.arg = NULL, legend.text = NULL, beside = FALSE,\n",
       "        horiz = FALSE, density = NULL, angle = 45,\n",
       "        col = NULL, border = par(\"fg\"),\n",
       "        main = NULL, sub = NULL, xlab = NULL, ylab = NULL,\n",
       "        xlim = NULL, ylim = NULL, xpd = TRUE, log = \"\",\n",
       "        axes = TRUE, axisnames = TRUE,\n",
       "        cex.axis = par(\"cex.axis\"), cex.names = par(\"cex.axis\"),\n",
       "        inside = TRUE, plot = TRUE, axis.lty = 0, offset = 0,\n",
       "        add = FALSE, ann = !add &amp;&amp; par(\"ann\"), args.legend = NULL, ...)\n",
       "\n",
       "## S3 method for class 'formula'\n",
       "barplot(formula, data, subset, na.action,\n",
       "        horiz = FALSE, xlab = NULL, ylab = NULL, ...)\n",
       "</code></pre>\n",
       "\n",
       "\n",
       "<h3>Arguments</h3>\n",
       "\n",
       "<table>\n",
       "<tr style=\"vertical-align: top;\"><td><code>height</code></td>\n",
       "<td>\n",
       "<p>either a vector or matrix of values describing the\n",
       "bars which make up the plot.  If <code>height</code> is a vector, the\n",
       "plot consists of a sequence of rectangular bars with heights\n",
       "given by the values in the vector.  If <code>height</code> is a matrix\n",
       "and <code>beside</code> is <code>FALSE</code> then each bar of the plot\n",
       "corresponds to a column of <code>height</code>, with the values in the\n",
       "column giving the heights of stacked sub-bars making up the\n",
       "bar.  If <code>height</code> is a matrix and <code>beside</code> is\n",
       "<code>TRUE</code>, then the values in each column are juxtaposed\n",
       "rather than stacked.</p>\n",
       "</td></tr>\n",
       "<tr style=\"vertical-align: top;\"><td><code>width</code></td>\n",
       "<td>\n",
       "<p>optional vector of bar widths. Re-cycled to length the\n",
       "number of bars drawn.  Specifying a single value will have no\n",
       "visible effect unless <code>xlim</code> is specified.</p>\n",
       "</td></tr>\n",
       "<tr style=\"vertical-align: top;\"><td><code>space</code></td>\n",
       "<td>\n",
       "<p>the amount of space (as a fraction of the average bar\n",
       "width) left before each bar.  May be given as a single number or\n",
       "one number per bar.  If <code>height</code> is a matrix and\n",
       "<code>beside</code> is <code>TRUE</code>, <code>space</code> may be specified by\n",
       "two numbers, where the first is the space between bars in the\n",
       "same group, and the second the space between the groups.  If not\n",
       "given explicitly, it defaults to <code>c(0,1)</code> if <code>height</code>\n",
       "is a matrix and <code>beside</code> is <code>TRUE</code>, and to 0.2\n",
       "otherwise.</p>\n",
       "</td></tr>\n",
       "<tr style=\"vertical-align: top;\"><td><code>names.arg</code></td>\n",
       "<td>\n",
       "<p>a vector of names to be plotted below each bar or\n",
       "group of bars.  If this argument is omitted, then the names are\n",
       "taken from the <code>names</code> attribute of <code>height</code> if this\n",
       "is a vector, or the column names if it is a matrix.</p>\n",
       "</td></tr>\n",
       "<tr style=\"vertical-align: top;\"><td><code>legend.text</code></td>\n",
       "<td>\n",
       "<p>a vector of text used to construct a legend for\n",
       "the plot, or a logical indicating whether a legend should be\n",
       "included.  This is only useful when <code>height</code> is a matrix.\n",
       "In that case given legend labels should correspond to the rows of\n",
       "<code>height</code>; if <code>legend.text</code> is true, the row names of\n",
       "<code>height</code> will be used as labels if they are non-null.</p>\n",
       "</td></tr>\n",
       "<tr style=\"vertical-align: top;\"><td><code>beside</code></td>\n",
       "<td>\n",
       "<p>a logical value.  If <code>FALSE</code>, the columns of\n",
       "<code>height</code> are portrayed as stacked bars, and if <code>TRUE</code>\n",
       "the columns are portrayed as juxtaposed bars.</p>\n",
       "</td></tr>\n",
       "<tr style=\"vertical-align: top;\"><td><code>horiz</code></td>\n",
       "<td>\n",
       "<p>a logical value.  If <code>FALSE</code>, the bars are drawn\n",
       "vertically with the first bar to the left.  If <code>TRUE</code>, the\n",
       "bars are drawn horizontally with the first at the bottom.</p>\n",
       "</td></tr>\n",
       "<tr style=\"vertical-align: top;\"><td><code>density</code></td>\n",
       "<td>\n",
       "<p>a vector giving the density of shading lines, in\n",
       "lines per inch, for the bars or bar components.\n",
       "The default value of <code>NULL</code> means that no shading lines\n",
       "are drawn. Non-positive values of <code>density</code> also inhibit the\n",
       "drawing of shading lines.</p>\n",
       "</td></tr>\n",
       "<tr style=\"vertical-align: top;\"><td><code>angle</code></td>\n",
       "<td>\n",
       "<p>the slope of shading lines, given as an angle in\n",
       "degrees (counter-clockwise), for the bars or bar components.</p>\n",
       "</td></tr>\n",
       "<tr style=\"vertical-align: top;\"><td><code>col</code></td>\n",
       "<td>\n",
       "<p>a vector of colors for the bars or bar components.\n",
       "By default, <code>\"grey\"</code> is used if <code>height</code> is a vector, and a\n",
       "gamma-corrected grey palette if <code>height</code> is a matrix;\n",
       "see <code>grey.colors</code>.</p>\n",
       "</td></tr>\n",
       "<tr style=\"vertical-align: top;\"><td><code>border</code></td>\n",
       "<td>\n",
       "<p>the color to be used for the border of the bars.\n",
       "Use <code>border = NA</code> to omit borders.  If there are shading\n",
       "lines, <code>border = TRUE</code> means use the same colour for\n",
       "the border as for the shading lines.</p>\n",
       "</td></tr>\n",
       "<tr style=\"vertical-align: top;\"><td><code>main,sub</code></td>\n",
       "<td>\n",
       "<p>main title and subtitle for the plot.</p>\n",
       "</td></tr>\n",
       "<tr style=\"vertical-align: top;\"><td><code>xlab</code></td>\n",
       "<td>\n",
       "<p>a label for the x axis.</p>\n",
       "</td></tr>\n",
       "<tr style=\"vertical-align: top;\"><td><code>ylab</code></td>\n",
       "<td>\n",
       "<p>a label for the y axis.</p>\n",
       "</td></tr>\n",
       "<tr style=\"vertical-align: top;\"><td><code>xlim</code></td>\n",
       "<td>\n",
       "<p>limits for the x axis.</p>\n",
       "</td></tr>\n",
       "<tr style=\"vertical-align: top;\"><td><code>ylim</code></td>\n",
       "<td>\n",
       "<p>limits for the y axis.</p>\n",
       "</td></tr>\n",
       "<tr style=\"vertical-align: top;\"><td><code>xpd</code></td>\n",
       "<td>\n",
       "<p>logical. Should bars be allowed to go outside region?</p>\n",
       "</td></tr>\n",
       "<tr style=\"vertical-align: top;\"><td><code>log</code></td>\n",
       "<td>\n",
       "<p>string specifying if axis scales should be logarithmic; see\n",
       "<code>plot.default</code>.</p>\n",
       "</td></tr>\n",
       "<tr style=\"vertical-align: top;\"><td><code>axes</code></td>\n",
       "<td>\n",
       "<p>logical.  If <code>TRUE</code>, a vertical (or horizontal, if\n",
       "<code>horiz</code> is true) axis is drawn.</p>\n",
       "</td></tr>\n",
       "<tr style=\"vertical-align: top;\"><td><code>axisnames</code></td>\n",
       "<td>\n",
       "<p>logical.  If <code>TRUE</code>, and if there are\n",
       "<code>names.arg</code> (see above), the\n",
       "other axis is drawn (with <code>lty = 0</code>) and labeled.</p>\n",
       "</td></tr>\n",
       "<tr style=\"vertical-align: top;\"><td><code>cex.axis</code></td>\n",
       "<td>\n",
       "<p>expansion factor for numeric axis labels (see\n",
       "<code>par('cex')</code>).</p>\n",
       "</td></tr>\n",
       "<tr style=\"vertical-align: top;\"><td><code>cex.names</code></td>\n",
       "<td>\n",
       "<p>expansion factor for axis names (bar labels).</p>\n",
       "</td></tr>\n",
       "<tr style=\"vertical-align: top;\"><td><code>inside</code></td>\n",
       "<td>\n",
       "<p>logical.  If <code>TRUE</code>, the lines which divide\n",
       "adjacent (non-stacked!) bars will be drawn.  Only applies when\n",
       "<code>space = 0</code> (which it partly is when <code>beside = TRUE</code>).</p>\n",
       "</td></tr>\n",
       "</table>\n",
       "\n",
       "\n",
       "<table>\n",
       "<tr style=\"vertical-align: top;\"><td><code>plot</code></td>\n",
       "<td>\n",
       "<p>logical.  If <code>FALSE</code>, nothing is plotted.</p>\n",
       "</td></tr>\n",
       "<tr style=\"vertical-align: top;\"><td><code>axis.lty</code></td>\n",
       "<td>\n",
       "<p>the graphics parameter <code>lty</code> (see\n",
       "<code>par('lty')</code>) applied to the axis\n",
       "and tick marks of the categorical (default horizontal) axis.  Note\n",
       "that by default the axis is suppressed.</p>\n",
       "</td></tr>\n",
       "<tr style=\"vertical-align: top;\"><td><code>offset</code></td>\n",
       "<td>\n",
       "<p>a vector indicating how much the bars should be shifted\n",
       "relative to the x axis.</p>\n",
       "</td></tr>\n",
       "<tr style=\"vertical-align: top;\"><td><code>add</code></td>\n",
       "<td>\n",
       "<p>logical specifying if bars should be added to an already\n",
       "existing plot; defaults to <code>FALSE</code>.</p>\n",
       "</td></tr>\n",
       "<tr style=\"vertical-align: top;\"><td><code>ann</code></td>\n",
       "<td>\n",
       "<p>logical specifying if the default annotation (<code>main</code>,\n",
       "<code>sub</code>, <code>xlab</code>, <code>ylab</code>) should appear on the plot, see\n",
       "<code>title</code>.</p>\n",
       "</td></tr>\n",
       "<tr style=\"vertical-align: top;\"><td><code>args.legend</code></td>\n",
       "<td>\n",
       "<p>list of additional arguments to pass to\n",
       "<code>legend()</code>; names of the list are used as argument\n",
       "names.  Only used if <code>legend.text</code> is supplied.</p>\n",
       "</td></tr>\n",
       "<tr style=\"vertical-align: top;\"><td><code>formula</code></td>\n",
       "<td>\n",
       "<p>a formula where the <code>y</code> variables are numeric data\n",
       "to plot against the categorical <code>x</code> variables.  The formula\n",
       "can have one of three forms:\n",
       "</p>\n",
       "<pre>\n",
       "      y ~ x\n",
       "      y ~ x1 + x2\n",
       "      cbind(y1, y2) ~ x\n",
       "    </pre>\n",
       "<p>(see the examples).</p>\n",
       "</td></tr>\n",
       "<tr style=\"vertical-align: top;\"><td><code>data</code></td>\n",
       "<td>\n",
       "<p>a data frame (or list) from which the variables in formula\n",
       "should be taken.</p>\n",
       "</td></tr>\n",
       "<tr style=\"vertical-align: top;\"><td><code>subset</code></td>\n",
       "<td>\n",
       "<p>an optional vector specifying a subset of observations\n",
       "to be used.</p>\n",
       "</td></tr>\n",
       "<tr style=\"vertical-align: top;\"><td><code>na.action</code></td>\n",
       "<td>\n",
       "<p>a function which indicates what should happen when\n",
       "the data contain <code>NA</code> values.  The default is to ignore missing\n",
       "values in the given variables.</p>\n",
       "</td></tr>\n",
       "<tr style=\"vertical-align: top;\"><td><code>...</code></td>\n",
       "<td>\n",
       "<p>arguments to be passed to/from other methods.  For the\n",
       "default method these can include further arguments (such as\n",
       "<code>axes</code>, <code>asp</code> and <code>main</code>) and\n",
       "graphical parameters (see <code>par</code>) which are passed to\n",
       "<code>plot.window()</code>, <code>title()</code> and\n",
       "<code>axis</code>.</p>\n",
       "</td></tr>\n",
       "</table>\n",
       "\n",
       "\n",
       "<h3>Value</h3>\n",
       "\n",
       "<p>A numeric vector (or matrix, when <code>beside = TRUE</code>), say\n",
       "<code>mp</code>, giving the coordinates of <em>all</em> the bar midpoints\n",
       "drawn, useful for adding to the graph.\n",
       "</p>\n",
       "<p>If <code>beside</code> is true, use <code>colMeans(mp)</code> for the\n",
       "midpoints of each <em>group</em> of bars, see example.\n",
       "</p>\n",
       "\n",
       "\n",
       "<h3>Author(s)</h3>\n",
       "\n",
       "<p>R Core, with a contribution by Arni Magnusson.</p>\n",
       "\n",
       "\n",
       "<h3>References</h3>\n",
       "\n",
       "<p>Becker, R. A., Chambers, J. M. and Wilks, A. R. (1988)\n",
       "<em>The New S Language</em>.\n",
       "Wadsworth &amp; Brooks/Cole.\n",
       "</p>\n",
       "<p>Murrell, P. (2005) <em>R Graphics</em>. Chapman &amp; Hall/CRC Press.\n",
       "</p>\n",
       "\n",
       "\n",
       "<h3>See Also</h3>\n",
       "\n",
       "<p><code>plot(..., type = \"h\")</code>, <code>dotchart</code>;\n",
       "<code>hist</code> for bars of a <em>continuous</em> variable.\n",
       "<code>mosaicplot()</code>, more sophisticated to visualize\n",
       "<em>several</em> categorical variables.\n",
       "</p>\n",
       "\n",
       "\n",
       "<h3>Examples</h3>\n",
       "\n",
       "<pre><code class='language-R'># Formula method\n",
       "barplot(GNP ~ Year, data = longley)\n",
       "barplot(cbind(Employed, Unemployed) ~ Year, data = longley)\n",
       "\n",
       "## 3rd form of formula - 2 categories :\n",
       "op &lt;- par(mfrow = 2:1, mgp = c(3,1,0)/2, mar = .1+c(3,3:1))\n",
       "summary(d.Titanic &lt;- as.data.frame(Titanic))\n",
       "barplot(Freq ~ Class + Survived, data = d.Titanic,\n",
       "        subset = Age == \"Adult\" &amp; Sex == \"Male\",\n",
       "        main = \"barplot(Freq ~ Class + Survived, *)\", ylab = \"# {passengers}\", legend.text = TRUE)\n",
       "# Corresponding table :\n",
       "(xt &lt;- xtabs(Freq ~ Survived + Class + Sex, d.Titanic, subset = Age==\"Adult\"))\n",
       "# Alternatively, a mosaic plot :\n",
       "mosaicplot(xt[,,\"Male\"], main = \"mosaicplot(Freq ~ Class + Survived, *)\", color=TRUE)\n",
       "par(op)\n",
       "\n",
       "\n",
       "# Default method\n",
       "require(grDevices) # for colours\n",
       "tN &lt;- table(Ni &lt;- stats::rpois(100, lambda = 5))\n",
       "r &lt;- barplot(tN, col = rainbow(20))\n",
       "#- type = \"h\" plotting *is* 'bar'plot\n",
       "lines(r, tN, type = \"h\", col = \"red\", lwd = 2)\n",
       "\n",
       "barplot(tN, space = 1.5, axisnames = FALSE,\n",
       "        sub = \"barplot(..., space= 1.5, axisnames = FALSE)\")\n",
       "\n",
       "barplot(VADeaths, plot = FALSE)\n",
       "barplot(VADeaths, plot = FALSE, beside = TRUE)\n",
       "\n",
       "mp &lt;- barplot(VADeaths) # default\n",
       "tot &lt;- colMeans(VADeaths)\n",
       "text(mp, tot + 3, format(tot), xpd = TRUE, col = \"blue\")\n",
       "barplot(VADeaths, beside = TRUE,\n",
       "        col = c(\"lightblue\", \"mistyrose\", \"lightcyan\",\n",
       "                \"lavender\", \"cornsilk\"),\n",
       "        legend.text = rownames(VADeaths), ylim = c(0, 100))\n",
       "title(main = \"Death Rates in Virginia\", font.main = 4)\n",
       "\n",
       "hh &lt;- t(VADeaths)[, 5:1]\n",
       "mybarcol &lt;- \"gray20\"\n",
       "mp &lt;- barplot(hh, beside = TRUE,\n",
       "        col = c(\"lightblue\", \"mistyrose\",\n",
       "                \"lightcyan\", \"lavender\"),\n",
       "        legend.text = colnames(VADeaths), ylim = c(0,100),\n",
       "        main = \"Death Rates in Virginia\", font.main = 4,\n",
       "        sub = \"Faked upper 2*sigma error bars\", col.sub = mybarcol,\n",
       "        cex.names = 1.5)\n",
       "segments(mp, hh, mp, hh + 2*sqrt(1000*hh/100), col = mybarcol, lwd = 1.5)\n",
       "stopifnot(dim(mp) == dim(hh))  # corresponding matrices\n",
       "mtext(side = 1, at = colMeans(mp), line = -2,\n",
       "      text = paste(\"Mean\", formatC(colMeans(hh))), col = \"red\")\n",
       "\n",
       "# Bar shading example\n",
       "barplot(VADeaths, angle = 15+10*1:5, density = 20, col = \"black\",\n",
       "        legend.text = rownames(VADeaths))\n",
       "title(main = list(\"Death Rates in Virginia\", font = 4))\n",
       "\n",
       "# Border color\n",
       "barplot(VADeaths, border = \"dark blue\") \n",
       "\n",
       "\n",
       "# Log scales (not much sense here)\n",
       "barplot(tN, col = heat.colors(12), log = \"y\")\n",
       "barplot(tN, col = gray.colors(20), log = \"xy\")\n",
       "\n",
       "# Legend location\n",
       "barplot(height = cbind(x = c(465, 91) / 465 * 100,\n",
       "                       y = c(840, 200) / 840 * 100,\n",
       "                       z = c(37, 17) / 37 * 100),\n",
       "        beside = FALSE,\n",
       "        width = c(465, 840, 37),\n",
       "        col = c(1, 2),\n",
       "        legend.text = c(\"A\", \"B\"),\n",
       "        args.legend = list(x = \"topleft\"))\n",
       "</code></pre>\n",
       "\n",
       "<hr /><div style=\"text-align: center;\">[Package <em>graphics</em> version 4.2.2 ]</div>\n",
       "</div>"
      ],
      "text/latex": [
       "\\inputencoding{utf8}\n",
       "\\HeaderA{barplot}{Bar Plots}{barplot}\n",
       "\\methaliasA{barplot.default}{barplot}{barplot.default}\n",
       "\\methaliasA{barplot.formula}{barplot}{barplot.formula}\n",
       "\\keyword{hplot}{barplot}\n",
       "%\n",
       "\\begin{Description}\\relax\n",
       "Creates a bar plot with vertical or horizontal bars.\n",
       "\\end{Description}\n",
       "%\n",
       "\\begin{Usage}\n",
       "\\begin{verbatim}\n",
       "barplot(height, ...)\n",
       "\n",
       "## Default S3 method:\n",
       "barplot(height, width = 1, space = NULL,\n",
       "        names.arg = NULL, legend.text = NULL, beside = FALSE,\n",
       "        horiz = FALSE, density = NULL, angle = 45,\n",
       "        col = NULL, border = par(\"fg\"),\n",
       "        main = NULL, sub = NULL, xlab = NULL, ylab = NULL,\n",
       "        xlim = NULL, ylim = NULL, xpd = TRUE, log = \"\",\n",
       "        axes = TRUE, axisnames = TRUE,\n",
       "        cex.axis = par(\"cex.axis\"), cex.names = par(\"cex.axis\"),\n",
       "        inside = TRUE, plot = TRUE, axis.lty = 0, offset = 0,\n",
       "        add = FALSE, ann = !add && par(\"ann\"), args.legend = NULL, ...)\n",
       "\n",
       "## S3 method for class 'formula'\n",
       "barplot(formula, data, subset, na.action,\n",
       "        horiz = FALSE, xlab = NULL, ylab = NULL, ...)\n",
       "\\end{verbatim}\n",
       "\\end{Usage}\n",
       "%\n",
       "\\begin{Arguments}\n",
       "\\begin{ldescription}\n",
       "\\item[\\code{height}] either a vector or matrix of values describing the\n",
       "bars which make up the plot.  If \\code{height} is a vector, the\n",
       "plot consists of a sequence of rectangular bars with heights\n",
       "given by the values in the vector.  If \\code{height} is a matrix\n",
       "and \\code{beside} is \\code{FALSE} then each bar of the plot\n",
       "corresponds to a column of \\code{height}, with the values in the\n",
       "column giving the heights of stacked sub-bars making up the\n",
       "bar.  If \\code{height} is a matrix and \\code{beside} is\n",
       "\\code{TRUE}, then the values in each column are juxtaposed\n",
       "rather than stacked.\n",
       "\\item[\\code{width}] optional vector of bar widths. Re-cycled to length the\n",
       "number of bars drawn.  Specifying a single value will have no\n",
       "visible effect unless \\code{xlim} is specified.\n",
       "\\item[\\code{space}] the amount of space (as a fraction of the average bar\n",
       "width) left before each bar.  May be given as a single number or\n",
       "one number per bar.  If \\code{height} is a matrix and\n",
       "\\code{beside} is \\code{TRUE}, \\code{space} may be specified by\n",
       "two numbers, where the first is the space between bars in the\n",
       "same group, and the second the space between the groups.  If not\n",
       "given explicitly, it defaults to \\code{c(0,1)} if \\code{height}\n",
       "is a matrix and \\code{beside} is \\code{TRUE}, and to 0.2\n",
       "otherwise.\n",
       "\\item[\\code{names.arg}] a vector of names to be plotted below each bar or\n",
       "group of bars.  If this argument is omitted, then the names are\n",
       "taken from the \\code{names} attribute of \\code{height} if this\n",
       "is a vector, or the column names if it is a matrix.\n",
       "\\item[\\code{legend.text}] a vector of text used to construct a legend for\n",
       "the plot, or a logical indicating whether a legend should be\n",
       "included.  This is only useful when \\code{height} is a matrix.\n",
       "In that case given legend labels should correspond to the rows of\n",
       "\\code{height}; if \\code{legend.text} is true, the row names of\n",
       "\\code{height} will be used as labels if they are non-null.\n",
       "\\item[\\code{beside}] a logical value.  If \\code{FALSE}, the columns of\n",
       "\\code{height} are portrayed as stacked bars, and if \\code{TRUE}\n",
       "the columns are portrayed as juxtaposed bars.\n",
       "\\item[\\code{horiz}] a logical value.  If \\code{FALSE}, the bars are drawn\n",
       "vertically with the first bar to the left.  If \\code{TRUE}, the\n",
       "bars are drawn horizontally with the first at the bottom.\n",
       "\\item[\\code{density}] a vector giving the density of shading lines, in\n",
       "lines per inch, for the bars or bar components.\n",
       "The default value of \\code{NULL} means that no shading lines\n",
       "are drawn. Non-positive values of \\code{density} also inhibit the\n",
       "drawing of shading lines.\n",
       "\\item[\\code{angle}] the slope of shading lines, given as an angle in\n",
       "degrees (counter-clockwise), for the bars or bar components.\n",
       "\\item[\\code{col}] a vector of colors for the bars or bar components.\n",
       "By default, \\code{\"grey\"} is used if \\code{height} is a vector, and a\n",
       "gamma-corrected grey palette if \\code{height} is a matrix;\n",
       "see \\code{\\LinkA{grey.colors}{grey.colors}}.\n",
       "\\item[\\code{border}] the color to be used for the border of the bars.\n",
       "Use \\code{border = NA} to omit borders.  If there are shading\n",
       "lines, \\code{border = TRUE} means use the same colour for\n",
       "the border as for the shading lines.\n",
       "\\item[\\code{main,sub}] main title and subtitle for the plot.\n",
       "\\item[\\code{xlab}] a label for the x axis.\n",
       "\\item[\\code{ylab}] a label for the y axis.\n",
       "\\item[\\code{xlim}] limits for the x axis.\n",
       "\\item[\\code{ylim}] limits for the y axis.\n",
       "\\item[\\code{xpd}] logical. Should bars be allowed to go outside region?\n",
       "\\item[\\code{log}] string specifying if axis scales should be logarithmic; see\n",
       "\\code{\\LinkA{plot.default}{plot.default}}.\n",
       "\\item[\\code{axes}] logical.  If \\code{TRUE}, a vertical (or horizontal, if\n",
       "\\code{horiz} is true) axis is drawn.\n",
       "\\item[\\code{axisnames}] logical.  If \\code{TRUE}, and if there are\n",
       "\\code{names.arg} (see above), the\n",
       "other axis is drawn (with \\code{lty = 0}) and labeled.\n",
       "\\item[\\code{cex.axis}] expansion factor for numeric axis labels (see\n",
       "\\code{\\LinkA{par}{par}('cex')}).\n",
       "\\item[\\code{cex.names}] expansion factor for axis names (bar labels).\n",
       "\\item[\\code{inside}] logical.  If \\code{TRUE}, the lines which divide\n",
       "adjacent (non-stacked!) bars will be drawn.  Only applies when\n",
       "\\code{space = 0} (which it partly is when \\code{beside = TRUE}).\n",
       "\n",
       "\n",
       "\\item[\\code{plot}] logical.  If \\code{FALSE}, nothing is plotted.\n",
       "\\item[\\code{axis.lty}] the graphics parameter \\code{lty} (see\n",
       "\\code{\\LinkA{par}{par}('lty')}) applied to the axis\n",
       "and tick marks of the categorical (default horizontal) axis.  Note\n",
       "that by default the axis is suppressed.\n",
       "\\item[\\code{offset}] a vector indicating how much the bars should be shifted\n",
       "relative to the x axis.\n",
       "\\item[\\code{add}] logical specifying if bars should be added to an already\n",
       "existing plot; defaults to \\code{FALSE}.\n",
       "\\item[\\code{ann}] logical specifying if the default annotation (\\code{main},\n",
       "\\code{sub}, \\code{xlab}, \\code{ylab}) should appear on the plot, see\n",
       "\\code{\\LinkA{title}{title}}.\n",
       "\\item[\\code{args.legend}] list of additional arguments to pass to\n",
       "\\code{\\LinkA{legend}{legend}()}; names of the list are used as argument\n",
       "names.  Only used if \\code{legend.text} is supplied.\n",
       "\\item[\\code{formula}] a formula where the \\code{y} variables are numeric data\n",
       "to plot against the categorical \\code{x} variables.  The formula\n",
       "can have one of three forms:\n",
       "\\begin{alltt}\n",
       "      y ~ x\n",
       "      y ~ x1 + x2\n",
       "      cbind(y1, y2) ~ x\n",
       "    \\end{alltt}\n",
       "\n",
       "(see the examples).\n",
       "\\item[\\code{data}] a data frame (or list) from which the variables in formula\n",
       "should be taken.\n",
       "\\item[\\code{subset}] an optional vector specifying a subset of observations\n",
       "to be used.\n",
       "\\item[\\code{na.action}] a function which indicates what should happen when\n",
       "the data contain \\code{\\LinkA{NA}{NA}} values.  The default is to ignore missing\n",
       "values in the given variables.\n",
       "\\item[\\code{...}] arguments to be passed to/from other methods.  For the\n",
       "default method these can include further arguments (such as\n",
       "\\code{axes}, \\code{asp} and \\code{main}) and\n",
       "\\LinkA{graphical parameters}{graphical parameters} (see \\code{\\LinkA{par}{par}}) which are passed to\n",
       "\\code{\\LinkA{plot.window}{plot.window}()}, \\code{\\LinkA{title}{title}()} and\n",
       "\\code{\\LinkA{axis}{axis}}.\n",
       "\\end{ldescription}\n",
       "\\end{Arguments}\n",
       "%\n",
       "\\begin{Value}\n",
       "A numeric vector (or matrix, when \\code{beside = TRUE}), say\n",
       "\\code{mp}, giving the coordinates of \\emph{all} the bar midpoints\n",
       "drawn, useful for adding to the graph.\n",
       "\n",
       "If \\code{beside} is true, use \\code{colMeans(mp)} for the\n",
       "midpoints of each \\emph{group} of bars, see example.\n",
       "\\end{Value}\n",
       "%\n",
       "\\begin{Author}\\relax\n",
       "R Core, with a contribution by Arni Magnusson.\n",
       "\\end{Author}\n",
       "%\n",
       "\\begin{References}\\relax\n",
       "Becker, R. A., Chambers, J. M. and Wilks, A. R. (1988)\n",
       "\\emph{The New S Language}.\n",
       "Wadsworth \\& Brooks/Cole.\n",
       "\n",
       "Murrell, P. (2005) \\emph{R Graphics}. Chapman \\& Hall/CRC Press.\n",
       "\\end{References}\n",
       "%\n",
       "\\begin{SeeAlso}\\relax\n",
       "\\code{\\LinkA{plot}{plot}(..., type = \"h\")}, \\code{\\LinkA{dotchart}{dotchart}};\n",
       "\\code{\\LinkA{hist}{hist}} for bars of a \\emph{continuous} variable.\n",
       "\\code{\\LinkA{mosaicplot}{mosaicplot}()}, more sophisticated to visualize\n",
       "\\emph{several} categorical variables.\n",
       "\\end{SeeAlso}\n",
       "%\n",
       "\\begin{Examples}\n",
       "\\begin{ExampleCode}\n",
       "# Formula method\n",
       "barplot(GNP ~ Year, data = longley)\n",
       "barplot(cbind(Employed, Unemployed) ~ Year, data = longley)\n",
       "\n",
       "## 3rd form of formula - 2 categories :\n",
       "op <- par(mfrow = 2:1, mgp = c(3,1,0)/2, mar = .1+c(3,3:1))\n",
       "summary(d.Titanic <- as.data.frame(Titanic))\n",
       "barplot(Freq ~ Class + Survived, data = d.Titanic,\n",
       "        subset = Age == \"Adult\" & Sex == \"Male\",\n",
       "        main = \"barplot(Freq ~ Class + Survived, *)\", ylab = \"# {passengers}\", legend.text = TRUE)\n",
       "# Corresponding table :\n",
       "(xt <- xtabs(Freq ~ Survived + Class + Sex, d.Titanic, subset = Age==\"Adult\"))\n",
       "# Alternatively, a mosaic plot :\n",
       "mosaicplot(xt[,,\"Male\"], main = \"mosaicplot(Freq ~ Class + Survived, *)\", color=TRUE)\n",
       "par(op)\n",
       "\n",
       "\n",
       "# Default method\n",
       "require(grDevices) # for colours\n",
       "tN <- table(Ni <- stats::rpois(100, lambda = 5))\n",
       "r <- barplot(tN, col = rainbow(20))\n",
       "#- type = \"h\" plotting *is* 'bar'plot\n",
       "lines(r, tN, type = \"h\", col = \"red\", lwd = 2)\n",
       "\n",
       "barplot(tN, space = 1.5, axisnames = FALSE,\n",
       "        sub = \"barplot(..., space= 1.5, axisnames = FALSE)\")\n",
       "\n",
       "barplot(VADeaths, plot = FALSE)\n",
       "barplot(VADeaths, plot = FALSE, beside = TRUE)\n",
       "\n",
       "mp <- barplot(VADeaths) # default\n",
       "tot <- colMeans(VADeaths)\n",
       "text(mp, tot + 3, format(tot), xpd = TRUE, col = \"blue\")\n",
       "barplot(VADeaths, beside = TRUE,\n",
       "        col = c(\"lightblue\", \"mistyrose\", \"lightcyan\",\n",
       "                \"lavender\", \"cornsilk\"),\n",
       "        legend.text = rownames(VADeaths), ylim = c(0, 100))\n",
       "title(main = \"Death Rates in Virginia\", font.main = 4)\n",
       "\n",
       "hh <- t(VADeaths)[, 5:1]\n",
       "mybarcol <- \"gray20\"\n",
       "mp <- barplot(hh, beside = TRUE,\n",
       "        col = c(\"lightblue\", \"mistyrose\",\n",
       "                \"lightcyan\", \"lavender\"),\n",
       "        legend.text = colnames(VADeaths), ylim = c(0,100),\n",
       "        main = \"Death Rates in Virginia\", font.main = 4,\n",
       "        sub = \"Faked upper 2*sigma error bars\", col.sub = mybarcol,\n",
       "        cex.names = 1.5)\n",
       "segments(mp, hh, mp, hh + 2*sqrt(1000*hh/100), col = mybarcol, lwd = 1.5)\n",
       "stopifnot(dim(mp) == dim(hh))  # corresponding matrices\n",
       "mtext(side = 1, at = colMeans(mp), line = -2,\n",
       "      text = paste(\"Mean\", formatC(colMeans(hh))), col = \"red\")\n",
       "\n",
       "# Bar shading example\n",
       "barplot(VADeaths, angle = 15+10*1:5, density = 20, col = \"black\",\n",
       "        legend.text = rownames(VADeaths))\n",
       "title(main = list(\"Death Rates in Virginia\", font = 4))\n",
       "\n",
       "# Border color\n",
       "barplot(VADeaths, border = \"dark blue\") \n",
       "\n",
       "\n",
       "# Log scales (not much sense here)\n",
       "barplot(tN, col = heat.colors(12), log = \"y\")\n",
       "barplot(tN, col = gray.colors(20), log = \"xy\")\n",
       "\n",
       "# Legend location\n",
       "barplot(height = cbind(x = c(465, 91) / 465 * 100,\n",
       "                       y = c(840, 200) / 840 * 100,\n",
       "                       z = c(37, 17) / 37 * 100),\n",
       "        beside = FALSE,\n",
       "        width = c(465, 840, 37),\n",
       "        col = c(1, 2),\n",
       "        legend.text = c(\"A\", \"B\"),\n",
       "        args.legend = list(x = \"topleft\"))\n",
       "\\end{ExampleCode}\n",
       "\\end{Examples}"
      ],
      "text/plain": [
       "barplot                package:graphics                R Documentation\n",
       "\n",
       "_\bB_\ba_\br _\bP_\bl_\bo_\bt_\bs\n",
       "\n",
       "_\bD_\be_\bs_\bc_\br_\bi_\bp_\bt_\bi_\bo_\bn:\n",
       "\n",
       "     Creates a bar plot with vertical or horizontal bars.\n",
       "\n",
       "_\bU_\bs_\ba_\bg_\be:\n",
       "\n",
       "     barplot(height, ...)\n",
       "     \n",
       "     ## Default S3 method:\n",
       "     barplot(height, width = 1, space = NULL,\n",
       "             names.arg = NULL, legend.text = NULL, beside = FALSE,\n",
       "             horiz = FALSE, density = NULL, angle = 45,\n",
       "             col = NULL, border = par(\"fg\"),\n",
       "             main = NULL, sub = NULL, xlab = NULL, ylab = NULL,\n",
       "             xlim = NULL, ylim = NULL, xpd = TRUE, log = \"\",\n",
       "             axes = TRUE, axisnames = TRUE,\n",
       "             cex.axis = par(\"cex.axis\"), cex.names = par(\"cex.axis\"),\n",
       "             inside = TRUE, plot = TRUE, axis.lty = 0, offset = 0,\n",
       "             add = FALSE, ann = !add && par(\"ann\"), args.legend = NULL, ...)\n",
       "     \n",
       "     ## S3 method for class 'formula'\n",
       "     barplot(formula, data, subset, na.action,\n",
       "             horiz = FALSE, xlab = NULL, ylab = NULL, ...)\n",
       "     \n",
       "_\bA_\br_\bg_\bu_\bm_\be_\bn_\bt_\bs:\n",
       "\n",
       "  height: either a vector or matrix of values describing the bars which\n",
       "          make up the plot.  If ‘height’ is a vector, the plot consists\n",
       "          of a sequence of rectangular bars with heights given by the\n",
       "          values in the vector.  If ‘height’ is a matrix and ‘beside’\n",
       "          is ‘FALSE’ then each bar of the plot corresponds to a column\n",
       "          of ‘height’, with the values in the column giving the heights\n",
       "          of stacked sub-bars making up the bar.  If ‘height’ is a\n",
       "          matrix and ‘beside’ is ‘TRUE’, then the values in each column\n",
       "          are juxtaposed rather than stacked.\n",
       "\n",
       "   width: optional vector of bar widths. Re-cycled to length the number\n",
       "          of bars drawn.  Specifying a single value will have no\n",
       "          visible effect unless ‘xlim’ is specified.\n",
       "\n",
       "   space: the amount of space (as a fraction of the average bar width)\n",
       "          left before each bar.  May be given as a single number or one\n",
       "          number per bar.  If ‘height’ is a matrix and ‘beside’ is\n",
       "          ‘TRUE’, ‘space’ may be specified by two numbers, where the\n",
       "          first is the space between bars in the same group, and the\n",
       "          second the space between the groups.  If not given\n",
       "          explicitly, it defaults to ‘c(0,1)’ if ‘height’ is a matrix\n",
       "          and ‘beside’ is ‘TRUE’, and to 0.2 otherwise.\n",
       "\n",
       "names.arg: a vector of names to be plotted below each bar or group of\n",
       "          bars.  If this argument is omitted, then the names are taken\n",
       "          from the ‘names’ attribute of ‘height’ if this is a vector,\n",
       "          or the column names if it is a matrix.\n",
       "\n",
       "legend.text: a vector of text used to construct a legend for the plot,\n",
       "          or a logical indicating whether a legend should be included.\n",
       "          This is only useful when ‘height’ is a matrix.  In that case\n",
       "          given legend labels should correspond to the rows of\n",
       "          ‘height’; if ‘legend.text’ is true, the row names of ‘height’\n",
       "          will be used as labels if they are non-null.\n",
       "\n",
       "  beside: a logical value.  If ‘FALSE’, the columns of ‘height’ are\n",
       "          portrayed as stacked bars, and if ‘TRUE’ the columns are\n",
       "          portrayed as juxtaposed bars.\n",
       "\n",
       "   horiz: a logical value.  If ‘FALSE’, the bars are drawn vertically\n",
       "          with the first bar to the left.  If ‘TRUE’, the bars are\n",
       "          drawn horizontally with the first at the bottom.\n",
       "\n",
       " density: a vector giving the density of shading lines, in lines per\n",
       "          inch, for the bars or bar components.  The default value of\n",
       "          ‘NULL’ means that no shading lines are drawn. Non-positive\n",
       "          values of ‘density’ also inhibit the drawing of shading\n",
       "          lines.\n",
       "\n",
       "   angle: the slope of shading lines, given as an angle in degrees\n",
       "          (counter-clockwise), for the bars or bar components.\n",
       "\n",
       "     col: a vector of colors for the bars or bar components.  By\n",
       "          default, ‘\"grey\"’ is used if ‘height’ is a vector, and a\n",
       "          gamma-corrected grey palette if ‘height’ is a matrix; see\n",
       "          ‘grey.colors’.\n",
       "\n",
       "  border: the color to be used for the border of the bars.  Use ‘border\n",
       "          = NA’ to omit borders.  If there are shading lines, ‘border =\n",
       "          TRUE’ means use the same colour for the border as for the\n",
       "          shading lines.\n",
       "\n",
       "main,sub: main title and subtitle for the plot.\n",
       "\n",
       "    xlab: a label for the x axis.\n",
       "\n",
       "    ylab: a label for the y axis.\n",
       "\n",
       "    xlim: limits for the x axis.\n",
       "\n",
       "    ylim: limits for the y axis.\n",
       "\n",
       "     xpd: logical. Should bars be allowed to go outside region?\n",
       "\n",
       "     log: string specifying if axis scales should be logarithmic; see\n",
       "          ‘plot.default’.\n",
       "\n",
       "    axes: logical.  If ‘TRUE’, a vertical (or horizontal, if ‘horiz’ is\n",
       "          true) axis is drawn.\n",
       "\n",
       "axisnames: logical.  If ‘TRUE’, and if there are ‘names.arg’ (see\n",
       "          above), the other axis is drawn (with ‘lty = 0’) and labeled.\n",
       "\n",
       "cex.axis: expansion factor for numeric axis labels (see ‘par('cex')’).\n",
       "\n",
       "cex.names: expansion factor for axis names (bar labels).\n",
       "\n",
       "  inside: logical.  If ‘TRUE’, the lines which divide adjacent\n",
       "          (non-stacked!) bars will be drawn.  Only applies when ‘space\n",
       "          = 0’ (which it partly is when ‘beside = TRUE’).\n",
       "\n",
       "    plot: logical.  If ‘FALSE’, nothing is plotted.\n",
       "\n",
       "axis.lty: the graphics parameter ‘lty’ (see ‘par('lty')’) applied to\n",
       "          the axis and tick marks of the categorical (default\n",
       "          horizontal) axis.  Note that by default the axis is\n",
       "          suppressed.\n",
       "\n",
       "  offset: a vector indicating how much the bars should be shifted\n",
       "          relative to the x axis.\n",
       "\n",
       "     add: logical specifying if bars should be added to an already\n",
       "          existing plot; defaults to ‘FALSE’.\n",
       "\n",
       "     ann: logical specifying if the default annotation (‘main’, ‘sub’,\n",
       "          ‘xlab’, ‘ylab’) should appear on the plot, see ‘title’.\n",
       "\n",
       "args.legend: list of additional arguments to pass to ‘legend()’; names\n",
       "          of the list are used as argument names.  Only used if\n",
       "          ‘legend.text’ is supplied.\n",
       "\n",
       " formula: a formula where the ‘y’ variables are numeric data to plot\n",
       "          against the categorical ‘x’ variables.  The formula can have\n",
       "          one of three forms:\n",
       "\n",
       "                y ~ x\n",
       "                y ~ x1 + x2\n",
       "                cbind(y1, y2) ~ x\n",
       "          \n",
       "          (see the examples).\n",
       "\n",
       "    data: a data frame (or list) from which the variables in formula\n",
       "          should be taken.\n",
       "\n",
       "  subset: an optional vector specifying a subset of observations to be\n",
       "          used.\n",
       "\n",
       "na.action: a function which indicates what should happen when the data\n",
       "          contain ‘NA’ values.  The default is to ignore missing values\n",
       "          in the given variables.\n",
       "\n",
       "     ...: arguments to be passed to/from other methods.  For the\n",
       "          default method these can include further arguments (such as\n",
       "          ‘axes’, ‘asp’ and ‘main’) and graphical parameters (see\n",
       "          ‘par’) which are passed to ‘plot.window()’, ‘title()’ and\n",
       "          ‘axis’.\n",
       "\n",
       "_\bV_\ba_\bl_\bu_\be:\n",
       "\n",
       "     A numeric vector (or matrix, when ‘beside = TRUE’), say ‘mp’,\n",
       "     giving the coordinates of _all_ the bar midpoints drawn, useful\n",
       "     for adding to the graph.\n",
       "\n",
       "     If ‘beside’ is true, use ‘colMeans(mp)’ for the midpoints of each\n",
       "     _group_ of bars, see example.\n",
       "\n",
       "_\bA_\bu_\bt_\bh_\bo_\br(_\bs):\n",
       "\n",
       "     R Core, with a contribution by Arni Magnusson.\n",
       "\n",
       "_\bR_\be_\bf_\be_\br_\be_\bn_\bc_\be_\bs:\n",
       "\n",
       "     Becker, R. A., Chambers, J. M. and Wilks, A. R. (1988) _The New S\n",
       "     Language_.  Wadsworth & Brooks/Cole.\n",
       "\n",
       "     Murrell, P. (2005) _R Graphics_. Chapman & Hall/CRC Press.\n",
       "\n",
       "_\bS_\be_\be _\bA_\bl_\bs_\bo:\n",
       "\n",
       "     ‘plot(..., type = \"h\")’, ‘dotchart’; ‘hist’ for bars of a\n",
       "     _continuous_ variable.  ‘mosaicplot()’, more sophisticated to\n",
       "     visualize _several_ categorical variables.\n",
       "\n",
       "_\bE_\bx_\ba_\bm_\bp_\bl_\be_\bs:\n",
       "\n",
       "     # Formula method\n",
       "     barplot(GNP ~ Year, data = longley)\n",
       "     barplot(cbind(Employed, Unemployed) ~ Year, data = longley)\n",
       "     \n",
       "     ## 3rd form of formula - 2 categories :\n",
       "     op <- par(mfrow = 2:1, mgp = c(3,1,0)/2, mar = .1+c(3,3:1))\n",
       "     summary(d.Titanic <- as.data.frame(Titanic))\n",
       "     barplot(Freq ~ Class + Survived, data = d.Titanic,\n",
       "             subset = Age == \"Adult\" & Sex == \"Male\",\n",
       "             main = \"barplot(Freq ~ Class + Survived, *)\", ylab = \"# {passengers}\", legend.text = TRUE)\n",
       "     # Corresponding table :\n",
       "     (xt <- xtabs(Freq ~ Survived + Class + Sex, d.Titanic, subset = Age==\"Adult\"))\n",
       "     # Alternatively, a mosaic plot :\n",
       "     mosaicplot(xt[,,\"Male\"], main = \"mosaicplot(Freq ~ Class + Survived, *)\", color=TRUE)\n",
       "     par(op)\n",
       "     \n",
       "     \n",
       "     # Default method\n",
       "     require(grDevices) # for colours\n",
       "     tN <- table(Ni <- stats::rpois(100, lambda = 5))\n",
       "     r <- barplot(tN, col = rainbow(20))\n",
       "     #- type = \"h\" plotting *is* 'bar'plot\n",
       "     lines(r, tN, type = \"h\", col = \"red\", lwd = 2)\n",
       "     \n",
       "     barplot(tN, space = 1.5, axisnames = FALSE,\n",
       "             sub = \"barplot(..., space= 1.5, axisnames = FALSE)\")\n",
       "     \n",
       "     barplot(VADeaths, plot = FALSE)\n",
       "     barplot(VADeaths, plot = FALSE, beside = TRUE)\n",
       "     \n",
       "     mp <- barplot(VADeaths) # default\n",
       "     tot <- colMeans(VADeaths)\n",
       "     text(mp, tot + 3, format(tot), xpd = TRUE, col = \"blue\")\n",
       "     barplot(VADeaths, beside = TRUE,\n",
       "             col = c(\"lightblue\", \"mistyrose\", \"lightcyan\",\n",
       "                     \"lavender\", \"cornsilk\"),\n",
       "             legend.text = rownames(VADeaths), ylim = c(0, 100))\n",
       "     title(main = \"Death Rates in Virginia\", font.main = 4)\n",
       "     \n",
       "     hh <- t(VADeaths)[, 5:1]\n",
       "     mybarcol <- \"gray20\"\n",
       "     mp <- barplot(hh, beside = TRUE,\n",
       "             col = c(\"lightblue\", \"mistyrose\",\n",
       "                     \"lightcyan\", \"lavender\"),\n",
       "             legend.text = colnames(VADeaths), ylim = c(0,100),\n",
       "             main = \"Death Rates in Virginia\", font.main = 4,\n",
       "             sub = \"Faked upper 2*sigma error bars\", col.sub = mybarcol,\n",
       "             cex.names = 1.5)\n",
       "     segments(mp, hh, mp, hh + 2*sqrt(1000*hh/100), col = mybarcol, lwd = 1.5)\n",
       "     stopifnot(dim(mp) == dim(hh))  # corresponding matrices\n",
       "     mtext(side = 1, at = colMeans(mp), line = -2,\n",
       "           text = paste(\"Mean\", formatC(colMeans(hh))), col = \"red\")\n",
       "     \n",
       "     # Bar shading example\n",
       "     barplot(VADeaths, angle = 15+10*1:5, density = 20, col = \"black\",\n",
       "             legend.text = rownames(VADeaths))\n",
       "     title(main = list(\"Death Rates in Virginia\", font = 4))\n",
       "     \n",
       "     # Border color\n",
       "     barplot(VADeaths, border = \"dark blue\") \n",
       "     \n",
       "     \n",
       "     # Log scales (not much sense here)\n",
       "     barplot(tN, col = heat.colors(12), log = \"y\")\n",
       "     barplot(tN, col = gray.colors(20), log = \"xy\")\n",
       "     \n",
       "     # Legend location\n",
       "     barplot(height = cbind(x = c(465, 91) / 465 * 100,\n",
       "                            y = c(840, 200) / 840 * 100,\n",
       "                            z = c(37, 17) / 37 * 100),\n",
       "             beside = FALSE,\n",
       "             width = c(465, 840, 37),\n",
       "             col = c(1, 2),\n",
       "             legend.text = c(\"A\", \"B\"),\n",
       "             args.legend = list(x = \"topleft\"))\n",
       "     "
      ]
     },
     "metadata": {},
     "output_type": "display_data"
    }
   ],
   "source": [
    "help(barplot)"
   ]
  },
  {
   "cell_type": "code",
   "execution_count": 36,
   "id": "afd1d753-ec38-487e-a834-8d849da609d1",
   "metadata": {},
   "outputs": [
    {
     "data": {
      "image/png": "[encoded data removed]",
      "text/plain": [
       "plot without title"
      ]
     },
     "metadata": {
      "image/png": {
       "height": 420,
       "width": 420
      }
     },
     "output_type": "display_data"
    }
   ],
   "source": [
    "#Круговая диаграмма\n",
    "pie(foot_size)"
   ]
  },
  {
   "cell_type": "code",
   "execution_count": 30,
   "id": "40f74dd1-e021-4021-b50f-fc40c9f9c098",
   "metadata": {},
   "outputs": [
    {
     "data": {
      "image/png": "[encoded data removed]",
      "text/plain": [
       "plot without title"
      ]
     },
     "metadata": {
      "image/png": {
       "height": 420,
       "width": 420
      }
     },
     "output_type": "display_data"
    }
   ],
   "source": [
    "#Диаграмма размаха - ящик с усами\n",
    "boxplot(foot_size)"
   ]
  },
  {
   "cell_type": "markdown",
   "id": "5612a6fe-064a-474f-9e2e-cb9e3748b55b",
   "metadata": {},
   "source": [
    "Пояснения для диаграммы \"Ящик с усами\":\n",
    "\n",
    "<img src=\"ris2.jpg\">"
   ]
  },
  {
   "cell_type": "code",
   "execution_count": 9,
   "id": "20e09162-6948-4ed9-9b5d-2276ae3ee7da",
   "metadata": {},
   "outputs": [
    {
     "data": {
      "text/html": [
       "3"
      ],
      "text/latex": [
       "3"
      ],
      "text/markdown": [
       "3"
      ],
      "text/plain": [
       "[1] 3"
      ]
     },
     "metadata": {},
     "output_type": "display_data"
    }
   ],
   "source": [
    "length(foot_size[(foot_size>median(foot_size)) & (foot_size<quantile(foot_size,0.75))])\n"
   ]
  },
  {
   "cell_type": "code",
   "execution_count": 10,
   "id": "8c152f19-a36e-4ead-9010-cd4a032deafc",
   "metadata": {},
   "outputs": [
    {
     "data": {
      "text/html": [
       "4"
      ],
      "text/latex": [
       "4"
      ],
      "text/markdown": [
       "4"
      ],
      "text/plain": [
       "[1] 4"
      ]
     },
     "metadata": {},
     "output_type": "display_data"
    }
   ],
   "source": [
    "length(foot_size[(foot_size<median(foot_size)) & (foot_size>quantile(foot_size,0.25))])"
   ]
  },
  {
   "cell_type": "code",
   "execution_count": 138,
   "id": "fd43fe6a-4a3d-4793-bc9d-b8455d609f20",
   "metadata": {},
   "outputs": [
    {
     "data": {
      "image/png": "[encoded data removed]",
      "text/plain": [
       "Plot with title “Histogram of foot_size”"
      ]
     },
     "metadata": {
      "image/png": {
       "height": 420,
       "width": 420
      }
     },
     "output_type": "display_data"
    }
   ],
   "source": [
    "#Гистограмма\n",
    "hist(foot_size)"
   ]
  },
  {
   "cell_type": "code",
   "execution_count": 139,
   "id": "dc18b560-5dfb-4f89-bc0f-187fccb9787b",
   "metadata": {},
   "outputs": [
    {
     "data": {
      "image/png": "[encoded data removed]",
      "text/plain": [
       "Plot with title “density.default(x = foot_size)”"
      ]
     },
     "metadata": {
      "image/png": {
       "height": 420,
       "width": 420
      }
     },
     "output_type": "display_data"
    }
   ],
   "source": [
    "#Аппроксимация графика плотности распределения\n",
    "plot(density(foot_size))"
   ]
  },
  {
   "cell_type": "code",
   "execution_count": 38,
   "id": "f8353da2-fd22-4d74-9570-90c129b5c7c7",
   "metadata": {},
   "outputs": [
    {
     "data": {
      "image/png": "[encoded data removed]",
      "text/plain": [
       "plot without title"
      ]
     },
     "metadata": {
      "image/png": {
       "height": 420,
       "width": 420
      }
     },
     "output_type": "display_data"
    }
   ],
   "source": [
    "gg<-c(1,2,3,4,10,20,30,100)\n",
    "boxplot(gg)"
   ]
  },
  {
   "cell_type": "markdown",
   "id": "0915457c-37ea-4f5f-a662-df0ae7c64538",
   "metadata": {
    "tags": []
   },
   "source": [
    "## Меры изменчивости данных: дисперсия, среднее квадратическое отклонение, размах вариации, коэффициент осцилляции, относительное линейное отклонение, коэффициент вариации. Расчет показателей вариации с использованием R"
   ]
  },
  {
   "cell_type": "markdown",
   "id": "d6a8961d-3011-499d-9307-fa1673517b95",
   "metadata": {},
   "source": [
    "Оценки средней тенденции явно недостаточно для полной характеристики массива данных. Часто важно понимать, насколько сильно данные отклоняются от этой средней тенденции.\n",
    "\n",
    "Например, если рассмотреть две последовательности:"
   ]
  },
  {
   "cell_type": "code",
   "execution_count": 31,
   "id": "4e1e66cb-b8bb-4e65-9811-9f76d299e15f",
   "metadata": {},
   "outputs": [
    {
     "data": {
      "text/html": [
       "<table class=\"dataframe\">\n",
       "<caption>A data.frame: 1 × 4</caption>\n",
       "<thead>\n",
       "\t<tr><th scope=col>median.S1.</th><th scope=col>mean_f.table.S1..</th><th scope=col>geom_f.table.S1..</th><th scope=col>garm_f.table.S1..</th></tr>\n",
       "\t<tr><th scope=col>&lt;dbl&gt;</th><th scope=col>&lt;dbl&gt;</th><th scope=col>&lt;dbl&gt;</th><th scope=col>&lt;dbl&gt;</th></tr>\n",
       "</thead>\n",
       "<tbody>\n",
       "\t<tr><td>5</td><td>5</td><td>4.147166</td><td>3.181372</td></tr>\n",
       "</tbody>\n",
       "</table>\n"
      ],
      "text/latex": [
       "A data.frame: 1 × 4\n",
       "\\begin{tabular}{llll}\n",
       " median.S1. & mean\\_f.table.S1.. & geom\\_f.table.S1.. & garm\\_f.table.S1..\\\\\n",
       " <dbl> & <dbl> & <dbl> & <dbl>\\\\\n",
       "\\hline\n",
       "\t 5 & 5 & 4.147166 & 3.181372\\\\\n",
       "\\end{tabular}\n"
      ],
      "text/markdown": [
       "\n",
       "A data.frame: 1 × 4\n",
       "\n",
       "| median.S1. &lt;dbl&gt; | mean_f.table.S1.. &lt;dbl&gt; | geom_f.table.S1.. &lt;dbl&gt; | garm_f.table.S1.. &lt;dbl&gt; |\n",
       "|---|---|---|---|\n",
       "| 5 | 5 | 4.147166 | 3.181372 |\n",
       "\n"
      ],
      "text/plain": [
       "  median.S1. mean_f.table.S1.. geom_f.table.S1.. garm_f.table.S1..\n",
       "1 5          5                 4.147166          3.181372         "
      ]
     },
     "metadata": {},
     "output_type": "display_data"
    },
    {
     "data": {
      "text/html": [
       "<table class=\"dataframe\">\n",
       "<caption>A data.frame: 1 × 4</caption>\n",
       "<thead>\n",
       "\t<tr><th scope=col>median.S2.</th><th scope=col>mean_f.table.S2..</th><th scope=col>geom_f.table.S2..</th><th scope=col>garm_f.table.S2..</th></tr>\n",
       "\t<tr><th scope=col>&lt;dbl&gt;</th><th scope=col>&lt;dbl&gt;</th><th scope=col>&lt;dbl&gt;</th><th scope=col>&lt;dbl&gt;</th></tr>\n",
       "</thead>\n",
       "<tbody>\n",
       "\t<tr><td>5</td><td>5</td><td>5</td><td>5</td></tr>\n",
       "</tbody>\n",
       "</table>\n"
      ],
      "text/latex": [
       "A data.frame: 1 × 4\n",
       "\\begin{tabular}{llll}\n",
       " median.S2. & mean\\_f.table.S2.. & geom\\_f.table.S2.. & garm\\_f.table.S2..\\\\\n",
       " <dbl> & <dbl> & <dbl> & <dbl>\\\\\n",
       "\\hline\n",
       "\t 5 & 5 & 5 & 5\\\\\n",
       "\\end{tabular}\n"
      ],
      "text/markdown": [
       "\n",
       "A data.frame: 1 × 4\n",
       "\n",
       "| median.S2. &lt;dbl&gt; | mean_f.table.S2.. &lt;dbl&gt; | geom_f.table.S2.. &lt;dbl&gt; | garm_f.table.S2.. &lt;dbl&gt; |\n",
       "|---|---|---|---|\n",
       "| 5 | 5 | 5 | 5 |\n",
       "\n"
      ],
      "text/plain": [
       "  median.S2. mean_f.table.S2.. geom_f.table.S2.. garm_f.table.S2..\n",
       "1 5          5                 5                 5                "
      ]
     },
     "metadata": {},
     "output_type": "display_data"
    }
   ],
   "source": [
    "S1=c(1,2,3,4,5,6,7,8,9)\n",
    "S2=c(5,5,5,5,5,5,5,5,5)\n",
    "View(data.frame(median(S1),mean_f(table(S1)), geom_f(table(S1)), garm_f(table(S1))))\n",
    "View(data.frame(median(S2),mean_f(table(S2)), geom_f(table(S2)), garm_f(table(S2))))\n",
    "\n"
   ]
  },
  {
   "cell_type": "markdown",
   "id": "6c646855-bead-475f-bf97-8d17bb7153b8",
   "metadata": {},
   "source": [
    "Видно, что среднее арифметическое, медиана этих последовательностей совпадают, однако сами последовательности существенно различны: одна последовательность равномерно возрастающая, вторая абсолютно неизменная.\n",
    "\n",
    "Поэтому для более детального изучения того или иного явления необходимо учитывать разброс или вариацию значений отдельных единиц совокупности. \n",
    "\n",
    "На практике часто с помощью показателей вариации оценивают стабильность, устойчивость некоторых процессов: точность изготовления изделия по отклонениям параметров изделий от их номинальных размеров, устойчивость производительности труда на производстве. \n",
    "\n",
    "Также показатели вариации используют для оценки возникающих рисков, например, в сфере анализа рынка ценных бумаг, где мера колеблемости отождествляется с мерой рискованности вложения денежных средств.\n",
    "\n",
    "Рассмотрим основные показатели, характеризующие вариацию.\n",
    "\n",
    "**Размах вариации** равен разности между максимальным и минимальным значениями признака:\n",
    "$$R=x_{max}-x_{min}$$\n",
    "\n",
    "Исходя из своего определения, этот показатель служит  мерой разброса экстремальных значений признака. Также  размах вариации может быть использован для выявления ошибок. При наличии очень больших (или очень малых) ошибочно записанных значений признака размах вариации сразу резко возрастает, что требует проверки и корректировки исходных данных.\n",
    "\n",
    "Недостатком данного показателя является то, что он оценивает только границы варьирующего признака и не отражает его колеблемость внутри этих границ. \n",
    "\n",
    "Похожей мерой вариации является **интерквартильный размах**, который отражает среднюю половину данных (50% данных между третьим и первым квартилями):\n",
    "$$IQR=Q_3-Q_1$$\n",
    "\n",
    "\n",
    "Более точной характеристикой вариации является **среднее линейное отклонение** от среднего арифметического:\n",
    "\n",
    "$$d=\\frac{\\sum_{i=1}^{n}{\\vert x_i-\\overline{x}_{\\text{ариф}}\\vert}}{n}$$\n",
    "\n",
    "Если исходные данные сгруппированы, то можно находить взвешенное среднее линейное отклонение (в качестве веса применяют частоту):\n",
    "$$d=\\frac{\\sum_{i=1}^{n}{\\vert x_i-\\overline{x}_{\\text{ариф}}\\vert\\cdot f_i}}{\\sum_{i=1}^{n}f_i\n",
    "}$$\n",
    "\n",
    "Но чаще всего в качестве меры вариации используют **дисперсию**:\n",
    "$$D=\\frac{\\sum_{i=1}^{n}{\\left ( x_i-\\overline{x}_{\\text{ариф}}\\right )^2}}{n}$$\n",
    "\n",
    "Дисперсия имеет единицы измерения квадрат измеряемой величины, что не всегда удобно для сравнительных оценок. Поэтому на практике чаще используют **среднее квадратическое отклонение** (часто употребляют термин **стандартное отклонение**):\n",
    "$$\\sigma=\\sqrt{D}=\\sqrt{\\frac{\\sum_{i=1}^{n}{\\left ( x_i-\\overline{x}_{\\text{ариф}}\\right )^2}}{n}}$$\n",
    "\n",
    "Среднее квадратическое отклонение уже имеет размерность величины, у которой мы измеряем вариацию.\n",
    "Использование дисперсии связано с наличием у нее массы замечательных свойств. Прежде чем мы их рассмотрим, вспомним немного теорию вероятностей.\n",
    "\n",
    "В теории вероятностей для некоторой случайной величины $X$ с заданным законом распределения вероятностей вводят понятие **математического ожидания**, $M(X)$ как положения центра распределения вероятностей.\n",
    "\n",
    "Для *дискретной случайной величины* $X$ математическое ожидание выражается:\n",
    "$$M(X)=\\sum_{i=1}^{n}x_i\\cdot p_i$$\n",
    "где $p_i$ - вероятность значения $x_i$.\n",
    "\n",
    "Если в качестве оценки вероятности $p_i$ принять: $$p_i=\\frac{f_i}{\\sum_{i=1}^{n}f_i}$$\n",
    "то формула фактически совпадает со средним арифметически взвешенным. Поэтому среднее арифметически взвешенное является адекватной оценкой математического ожидания дискретной случайной величины.  \n",
    "\n",
    "Математическое ожидание имеет следующие свойства:\n",
    "\n",
    "- Математическое ожидание постоянной величины равно ее числовому значению:\n",
    "$$M(C)=C\\cdot 1=C$$\n",
    "Постоянная $C$ имеет единственное значение, вероятность которого равна 1.\n",
    "- Постоянный множитель можно выносить за знак математического ожидания:\n",
    "$$M(CX)=\\sum_{i=1}^{n}Cx_i\\cdot p_i=C\\sum_{i=1}^{n}x_i\\cdot p_i=CM(X)$$\n",
    "- Математическое ожидание суммы двух случайных величин равно сумме их математических ожиданий:\n",
    "$$M(X+Y)=M(X)+M(Y)$$\n",
    "Действительно, имеем:\n",
    "$$M(X+Y)=\\sum_{i=1}^{n}p_i(x_i+y_i)=\\sum_{i=1}^{n}p_i\\cdot x_i+\\sum_{i=1}^{n}p_i\\cdot y_i=M(X)+M(Y)$$\n",
    "\n",
    "Введем понятие независимых случайных величин - две случайные величины называются независимыми, если закон распределения каждой из них не зависит от того, какие значения приняла другая случайная величина.\n",
    "\n",
    "Математическое ожидание произведения двух взаимно независимых случайных величин равняется произведению их математических ожиданий: \n",
    "$$M(XY)=M(X)M(Y)$$\n",
    "Обоснуем данное утверждение непосредственной проверкой:\n"
   ]
  },
  {
   "cell_type": "code",
   "execution_count": 55,
   "id": "3ea27c0e-dae9-47f8-b2b2-6d25817a3764",
   "metadata": {},
   "outputs": [
    {
     "data": {
      "image/png": "[encoded data removed]",
      "text/plain": [
       "Plot with title “X”"
      ]
     },
     "metadata": {
      "image/png": {
       "height": 420,
       "width": 420
      }
     },
     "output_type": "display_data"
    },
    {
     "data": {
      "text/html": [
       "<table class=\"dataframe\">\n",
       "<caption>A data.frame: 1 × 6</caption>\n",
       "<thead>\n",
       "\t<tr><th scope=col>Сред. X</th><th scope=col>Сред. Y</th><th scope=col>Сред. X*Y</th><th scope=col>Сред. X * Сред.Y</th><th scope=col>Сред.X+Y</th><th scope=col>Сред. X + Сред.Y</th></tr>\n",
       "\t<tr><th scope=col>&lt;dbl&gt;</th><th scope=col>&lt;dbl&gt;</th><th scope=col>&lt;dbl&gt;</th><th scope=col>&lt;dbl&gt;</th><th scope=col>&lt;dbl&gt;</th><th scope=col>&lt;dbl&gt;</th></tr>\n",
       "</thead>\n",
       "<tbody>\n",
       "\t<tr><td>6.021906</td><td>5.634818</td><td>33.80873</td><td>33.93234</td><td>11.65672</td><td>11.65672</td></tr>\n",
       "</tbody>\n",
       "</table>\n"
      ],
      "text/latex": [
       "A data.frame: 1 × 6\n",
       "\\begin{tabular}{llllll}\n",
       " Сред. X & Сред. Y & Сред. X*Y & Сред. X * Сред.Y & Сред.X+Y & Сред. X + Сред.Y\\\\\n",
       " <dbl> & <dbl> & <dbl> & <dbl> & <dbl> & <dbl>\\\\\n",
       "\\hline\n",
       "\t 6.021906 & 5.634818 & 33.80873 & 33.93234 & 11.65672 & 11.65672\\\\\n",
       "\\end{tabular}\n"
      ],
      "text/markdown": [
       "\n",
       "A data.frame: 1 × 6\n",
       "\n",
       "| Сред. X &lt;dbl&gt; | Сред. Y &lt;dbl&gt; | Сред. X*Y &lt;dbl&gt; | Сред. X * Сред.Y &lt;dbl&gt; | Сред.X+Y &lt;dbl&gt; | Сред. X + Сред.Y &lt;dbl&gt; |\n",
       "|---|---|---|---|---|---|\n",
       "| 6.021906 | 5.634818 | 33.80873 | 33.93234 | 11.65672 | 11.65672 |\n",
       "\n"
      ],
      "text/plain": [
       "  Сред. X  Сред. Y  Сред. X*Y Сред. X * Сред.Y Сред.X+Y Сред. X + Сред.Y\n",
       "1 6.021906 5.634818 33.80873  33.93234         11.65672 11.65672        "
      ]
     },
     "metadata": {},
     "output_type": "display_data"
    },
    {
     "data": {
      "image/png": "[encoded data removed]",
      "text/plain": [
       "Plot with title “Y”"
      ]
     },
     "metadata": {
      "image/png": {
       "height": 420,
       "width": 420
      }
     },
     "output_type": "display_data"
    }
   ],
   "source": [
    "X=rnorm(30, 6,1)\n",
    "Y=runif(30,1,10)\n",
    "Z=X*Y\n",
    "R=X+Y\n",
    "hist(X,main=\"X\")\n",
    "hist(Y,main=\"Y\")\n",
    "\n",
    "DD<-data.frame(mean(X),mean(Y),mean(Z),mean(X)*mean(Y),mean(R), mean(X)+mean(Y))\n",
    "colnames(DD)<-c(\"Сред. X\", \"Сред. Y\", \"Сред. X*Y\",\"Сред. X * Сред.Y\",\"Сред.X+Y\", \"Сред. X + Сред.Y\") \n",
    "View(DD)"
   ]
  },
  {
   "cell_type": "markdown",
   "id": "22b1a448-2aa0-4a65-af43-d37075036a96",
   "metadata": {},
   "source": [
    "Используя понятие математического ожидания, можно ввести дисперсию случайной величины как математическое ожидание квадрата отклонения случайной величины от ее математического ожидания:\n",
    "$$D(X)=M((X-M(X))^2)=\\sum_{i=1}^{n}\\left(x_i-M(X)\\right)^2\\cdot p_i$$\n",
    "\n",
    "Исходя из введенного определения, можно говорить про следующие свойства дисперсии:\n",
    "\n",
    "1. $$D(X)=M((X-M(X))^2)=M(X^2)-(M(X))^2$$\n",
    "\n",
    "Данное свойство легко следует из свойства средней:\n",
    "$$M((X-M(X))^2)=M(X^2-2XM(X)+(M(X))^2)=M(X^2)-2M(X)M(X)+(M(X))^2=M(X^2)-(M(X))^2$$\n",
    "На практике это означает, что дисперсию можно вычислять двумя способами:\n",
    "\n",
    "$$D=\\frac{\\sum_{i=1}^{n}{\\left ( x_i-\\overline{x}_{\\text{ариф}}\\right )^2}}{n}=\\frac{\\sum_{i=1}^{n}x_i^2}{n}-\\left(\\overline{x}_{\\text{ариф}}\\right)^2$$\n",
    "Рассмотрим пример:"
   ]
  },
  {
   "cell_type": "code",
   "execution_count": 47,
   "id": "5d7ad28c-457a-4ec3-863a-6cfdb7e98d7d",
   "metadata": {},
   "outputs": [
    {
     "name": "stdout",
     "output_type": "stream",
     "text": [
      "[1] 2.534439\n",
      "[1] 2.534439\n",
      "[1] 2.628307\n"
     ]
    }
   ],
   "source": [
    "S=c(2,5,6,7,8,5,4,3,5,6,4,3,2,4,2,4,2,3,6,7,6,5,4,4,5,6,5,4)\n",
    "print(sum((S-mean(S))^2)/length(S))\n",
    "print(sum(S^2)/length(S)-(mean(S))^2)\n",
    "print(sd(S)^2)"
   ]
  },
  {
   "cell_type": "markdown",
   "id": "a8eb614c-36d5-412d-b9d8-f69c52edb368",
   "metadata": {},
   "source": [
    "Обратите внимание, что рассчитанное значение не совпадает со встроенным расчетным значением. Это связано с тем, что при оценке дисперсии на выборке расчет по формуле $D=\\frac{\\sum_{i=1}^{n}{\\left ( x_i-\\overline{x}_{\\text{ариф}}\\right )^2}}{n}$ дает смещенную оценку в сторону занижения. Для ее коррекции используют:\n",
    "$$D=\\frac{\\sum_{i=1}^{n}{\\left ( x_i-\\overline{x}_{\\text{ариф}}\\right )^2}}{n-1}=\\frac{\\sum_{i=1}^{n}x_i^2}{n-1}-\\frac{n}{n-1}\\cdot\\left(\\overline{x}_{\\text{ариф}}\\right)^2$$\n",
    "Особенно важно пользоваться данной формулой при малом объеме выборки $n<30-40$."
   ]
  },
  {
   "cell_type": "code",
   "execution_count": 48,
   "id": "c22b1416-11ac-4c4b-a352-94634d02afd9",
   "metadata": {},
   "outputs": [
    {
     "name": "stdout",
     "output_type": "stream",
     "text": [
      "[1] 2.628307\n",
      "[1] 2.628307\n"
     ]
    }
   ],
   "source": [
    "print(sum((S-mean(S))^2)/(length(S)-1))\n",
    "print(sum(S^2)/(length(S)-1)-(length(S)/(length(S)-1))*(mean(S))^2)"
   ]
  },
  {
   "cell_type": "markdown",
   "id": "8c4330bc-a7be-488b-b5e9-cbc4ea04d31e",
   "metadata": {},
   "source": [
    "2. Дисперсия постоянной равна нулю:\n",
    "$$D(C)=0, C=const$$\n",
    "Действительно, \n",
    "$$D(C)=M((C-M(C))^2)=M((C-C)^2)=0$$\n",
    "3. Постоянный множитель можно выносить за знак дисперсии, возводя его в квадрат:\n",
    "$$D(CX)=C^2D(X)$$\n",
    "Действительно,\n",
    "$$D(CX)=M((CX-M(CX))^2)=M((CX-CM(X))^2)=M(C^2(X-M(X))^2)=C^2M((X-M(X))^2)=C^2D(X)$$\n",
    "4. Дисперсия суммы двух независимых случайных величин равна сумме дисперсий:\n",
    "$$D(X+Y)=D(X)+D(Y)$$\n",
    "Действительно,\n",
    "$$D(X+Y)=M((X+Y)^2)-(M(X+Y))^2=M(X^2+2XY+Y^2)-(M(X)+M(Y))^2=M(X^2)+2M(X)M(Y)+M(Y^2)-(M(X))^2-2M(X)M(Y)-(M(Y))^2=M(X^2)-(M(X))^2+M(Y^2)-(M(Y))^2=D(X)+D(Y)$$\n",
    "Следствия:\n",
    "$$D(C+X)=D(C)+D(X)=D(X), C=const$$\n",
    "$$D(X-Y)=D(X)+D(-Y)=D(X)+(-1)^2D(Y)=D(X)+D(Y)$$\n",
    "\n",
    "Для характеристики меры разброса изучаемого признака также используют следующие показатели:\n",
    "\n",
    "- **коэффициент осцилляции** отражает относительный разброс крайних значений вокруг средней арифметической:\n",
    "$$K_o=\\frac{R}{\\overline{x}_{\\text{ариф}}}\\cdot 100$$\n",
    "- **Относительное линейное отклонение** характеризует долю усредненного значения абсолютных отклонений от средней арифметической:\n",
    "$$K_d=\\frac{d}{\\overline{x}_{\\text{ариф}}}\\cdot 100$$\n",
    "- **Коэффициент вариации** - относительное квадратичное отклонение:\n",
    "$$K_v=\\frac{\\sigma}{\\overline{x}_{\\text{ариф}}}\\cdot 100$$\n",
    "\n",
    "По величине коэффициента вариации можно судить об однородности статистической совокупности. Чем больше величина коэффициента вариации, тем больше разброс значений признака вокруг средней арифметической, тем больше неоднородность совокупности. \n",
    "\n",
    "Условно принято считать, что \n",
    "\n",
    "при $K_v\\leq30\\%$ совокупность однородна;\n",
    "\n",
    "при $30\\%<K_v\\leq 60\\%$ - промежуточный вариант;\n",
    "\n",
    "при $K_v>60\\%$ - совокупность неоднородна.\n",
    "\n",
    "В качестве примера рассчитаем введенные коэффициенты"
   ]
  },
  {
   "cell_type": "code",
   "execution_count": 49,
   "id": "c2386e7a-ab4c-4afb-814c-5a87ecb8e2e6",
   "metadata": {},
   "outputs": [
    {
     "data": {
      "text/html": [
       "<table class=\"dataframe\">\n",
       "<caption>A data.frame: 1 × 3</caption>\n",
       "<thead>\n",
       "\t<tr><th scope=col>ko</th><th scope=col>kd</th><th scope=col>kv</th></tr>\n",
       "\t<tr><th scope=col>&lt;dbl&gt;</th><th scope=col>&lt;dbl&gt;</th><th scope=col>&lt;dbl&gt;</th></tr>\n",
       "</thead>\n",
       "<tbody>\n",
       "\t<tr><td>83.45217</td><td>435.5945</td><td>18.31699</td></tr>\n",
       "</tbody>\n",
       "</table>\n"
      ],
      "text/latex": [
       "A data.frame: 1 × 3\n",
       "\\begin{tabular}{lll}\n",
       " ko & kd & kv\\\\\n",
       " <dbl> & <dbl> & <dbl>\\\\\n",
       "\\hline\n",
       "\t 83.45217 & 435.5945 & 18.31699\\\\\n",
       "\\end{tabular}\n"
      ],
      "text/markdown": [
       "\n",
       "A data.frame: 1 × 3\n",
       "\n",
       "| ko &lt;dbl&gt; | kd &lt;dbl&gt; | kv &lt;dbl&gt; |\n",
       "|---|---|---|\n",
       "| 83.45217 | 435.5945 | 18.31699 |\n",
       "\n"
      ],
      "text/plain": [
       "  ko       kd       kv      \n",
       "1 83.45217 435.5945 18.31699"
      ]
     },
     "metadata": {},
     "output_type": "display_data"
    }
   ],
   "source": [
    "R<-max(X)-min(X)\n",
    "d<-sum(abs(X-mean(X)))\n",
    "ko<-R/mean(X)*100\n",
    "kd<-d/mean(X)*100\n",
    "kv<-sd(X)/mean(X)*100\n",
    "\n",
    "View(data.frame(ko,kd,kv))"
   ]
  },
  {
   "cell_type": "code",
   "execution_count": 52,
   "id": "0b9baec1-2313-444a-8334-88aaf2350d8b",
   "metadata": {},
   "outputs": [
    {
     "data": {
      "text/html": [
       "<table class=\"dataframe\">\n",
       "<caption>A data.frame: 1 × 3</caption>\n",
       "<thead>\n",
       "\t<tr><th scope=col>ko</th><th scope=col>kd</th><th scope=col>kv</th></tr>\n",
       "\t<tr><th scope=col>&lt;dbl&gt;</th><th scope=col>&lt;dbl&gt;</th><th scope=col>&lt;dbl&gt;</th></tr>\n",
       "</thead>\n",
       "<tbody>\n",
       "\t<tr><td>126.8738</td><td>1077.745</td><td>41.46114</td></tr>\n",
       "</tbody>\n",
       "</table>\n"
      ],
      "text/latex": [
       "A data.frame: 1 × 3\n",
       "\\begin{tabular}{lll}\n",
       " ko & kd & kv\\\\\n",
       " <dbl> & <dbl> & <dbl>\\\\\n",
       "\\hline\n",
       "\t 126.8738 & 1077.745 & 41.46114\\\\\n",
       "\\end{tabular}\n"
      ],
      "text/markdown": [
       "\n",
       "A data.frame: 1 × 3\n",
       "\n",
       "| ko &lt;dbl&gt; | kd &lt;dbl&gt; | kv &lt;dbl&gt; |\n",
       "|---|---|---|\n",
       "| 126.8738 | 1077.745 | 41.46114 |\n",
       "\n"
      ],
      "text/plain": [
       "  ko       kd       kv      \n",
       "1 126.8738 1077.745 41.46114"
      ]
     },
     "metadata": {},
     "output_type": "display_data"
    }
   ],
   "source": [
    "R<-max(Y)-min(Y)\n",
    "d<-sum(abs(Y-mean(Y)))\n",
    "ko<-R/mean(Y)*100\n",
    "kd<-d/mean(Y)*100\n",
    "kv<-sd(Y)/mean(Y)*100\n",
    "\n",
    "View(data.frame(ko,kd,kv))"
   ]
  },
  {
   "cell_type": "markdown",
   "id": "b1acfc22-f9ca-4491-8e68-be0d01cf98bb",
   "metadata": {},
   "source": [
    "При анализе также важно получить представление о форме распределения изучаемой характеристики. Основными показателями формы распределения являются **асимметрия (скос) и эксцесс**.\n",
    "\n",
    "Для оценки степени ассиметричности распределения обычно применяют моментный коэффициент асимметрии:\n",
    "$$A=\\frac{\\mu_3}{\\sigma^3}, \\mu_3=\\frac{\\sum_{i=1}^{n}(x_i-\\overline{x}_{\\text{ариф}})^3}{n}$$\n",
    "\n",
    "Eсли $A>0$, то распределение **скошено вправо** (длинный правый хвост), если $A<0$ – то влево. При этом принята следующая условная градация: если полученное значение по модулю меньше, чем 0.25, то асимметрия незначительна, если $0.25\\leq |A|<0.5$, то умеренная, и если $|A|\\geq 0.5$, то существенная.\n",
    "\n",
    "Степень существенности полученного значения также оценивается с помощью средней квадратической ошибки коэффициента ассиметрии, которая зависит от объема выборки:\n",
    "$$\\sigma_A=\\sqrt{\\frac{6(n-1)}{(n+1)(n+3)}}$$\n",
    "\n",
    "Если отношение $\\frac{|A|}{\\sigma_A}>3$, то ассиметрия считается существенной, если $\\frac{|A|}{\\sigma_A}\\leq 3$, ассиметрию можно признать несущественной, вызванной влиянием случайных причин.\n",
    "\n",
    "Если в выборке имеются резко выделяющиеся значения, данный коэффициент пригоден мало. Нужно либо исключать выбросы, либо применять структурные показатели ассиметрии.\n",
    "\n",
    "Простейшим признаком **правосторонней асимметрии** (длинный правый хвост) является тот факт, что $\\overline{x}_{\\text{ариф}}>Me$, - справа находится значительное количество значений, и поэтому средняя  смещена вправо. Поэтому Карл Пирсон  предложил следующую формулу для расчёта коэффициента асимметрии:\n",
    "$$A=\\frac{\\overline{x}_{\\text{ариф}}-Me}{\\sigma}$$\n",
    "где $Me$ – медиана статистической совокупности. Интерпретация значений $A$ аналогичная.\n",
    "\n",
    "Выполним расчет коэффициентов ассиметрии для рассматриваемого примера:"
   ]
  },
  {
   "cell_type": "code",
   "execution_count": 56,
   "id": "42f9bc4f-18e6-4659-9f0a-60a52336f4e3",
   "metadata": {},
   "outputs": [
    {
     "data": {
      "text/html": [
       "<table class=\"dataframe\">\n",
       "<caption>A data.frame: 1 × 3</caption>\n",
       "<thead>\n",
       "\t<tr><th scope=col>A1</th><th scope=col>g</th><th scope=col>A2</th></tr>\n",
       "\t<tr><th scope=col>&lt;dbl&gt;</th><th scope=col>&lt;dbl&gt;</th><th scope=col>&lt;dbl&gt;</th></tr>\n",
       "</thead>\n",
       "<tbody>\n",
       "\t<tr><td>-0.166507</td><td>0.4037344</td><td>0.06049711</td></tr>\n",
       "</tbody>\n",
       "</table>\n"
      ],
      "text/latex": [
       "A data.frame: 1 × 3\n",
       "\\begin{tabular}{lll}\n",
       " A1 & g & A2\\\\\n",
       " <dbl> & <dbl> & <dbl>\\\\\n",
       "\\hline\n",
       "\t -0.166507 & 0.4037344 & 0.06049711\\\\\n",
       "\\end{tabular}\n"
      ],
      "text/markdown": [
       "\n",
       "A data.frame: 1 × 3\n",
       "\n",
       "| A1 &lt;dbl&gt; | g &lt;dbl&gt; | A2 &lt;dbl&gt; |\n",
       "|---|---|---|\n",
       "| -0.166507 | 0.4037344 | 0.06049711 |\n",
       "\n"
      ],
      "text/plain": [
       "  A1        g         A2        \n",
       "1 -0.166507 0.4037344 0.06049711"
      ]
     },
     "metadata": {},
     "output_type": "display_data"
    }
   ],
   "source": [
    "mu3<-sum((X-mean(X))^3)/length(X)\n",
    "A1<-mu3/sd(X)^3\n",
    "n<-length(X)\n",
    "sigmaA<-sqrt(6*(n-1)/((n+1)*(n+3)))\n",
    "g<-abs(A1)/sigmaA\n",
    "\n",
    "A2<-(mean(X)-median(X))/sd(X)\n",
    "\n",
    "View(data.frame(A1,g,A2))"
   ]
  },
  {
   "cell_type": "code",
   "execution_count": 54,
   "id": "54fb7b16-059c-420f-bbaf-d0b3862f65e8",
   "metadata": {},
   "outputs": [
    {
     "data": {
      "image/png": "[encoded data removed]",
      "text/plain": [
       "Plot with title “Histogram of X”"
      ]
     },
     "metadata": {
      "image/png": {
       "height": 420,
       "width": 420
      }
     },
     "output_type": "display_data"
    },
    {
     "data": {
      "image/png": "[encoded data removed]",
      "text/plain": [
       "plot without title"
      ]
     },
     "metadata": {
      "image/png": {
       "height": 420,
       "width": 420
      }
     },
     "output_type": "display_data"
    },
    {
     "data": {
      "image/png": "[encoded data removed]",
      "text/plain": [
       "Plot with title “density.default(x = X)”"
      ]
     },
     "metadata": {
      "image/png": {
       "height": 420,
       "width": 420
      }
     },
     "output_type": "display_data"
    }
   ],
   "source": [
    "hist(X)\n",
    "boxplot(X)\n",
    "plot(density(X))"
   ]
  },
  {
   "cell_type": "code",
   "execution_count": 16,
   "id": "e4e8acea-b694-4f08-9c5e-0bba4f0799ee",
   "metadata": {},
   "outputs": [
    {
     "data": {
      "text/html": [
       "<table class=\"dataframe\">\n",
       "<caption>A data.frame: 1 × 3</caption>\n",
       "<thead>\n",
       "\t<tr><th scope=col>A1</th><th scope=col>g</th><th scope=col>A2</th></tr>\n",
       "\t<tr><th scope=col>&lt;dbl&gt;</th><th scope=col>&lt;dbl&gt;</th><th scope=col>&lt;dbl&gt;</th></tr>\n",
       "</thead>\n",
       "<tbody>\n",
       "\t<tr><td>-0.1232329</td><td>0.2988063</td><td>-0.07912475</td></tr>\n",
       "</tbody>\n",
       "</table>\n"
      ],
      "text/latex": [
       "A data.frame: 1 × 3\n",
       "\\begin{tabular}{lll}\n",
       " A1 & g & A2\\\\\n",
       " <dbl> & <dbl> & <dbl>\\\\\n",
       "\\hline\n",
       "\t -0.1232329 & 0.2988063 & -0.07912475\\\\\n",
       "\\end{tabular}\n"
      ],
      "text/markdown": [
       "\n",
       "A data.frame: 1 × 3\n",
       "\n",
       "| A1 &lt;dbl&gt; | g &lt;dbl&gt; | A2 &lt;dbl&gt; |\n",
       "|---|---|---|\n",
       "| -0.1232329 | 0.2988063 | -0.07912475 |\n",
       "\n"
      ],
      "text/plain": [
       "  A1         g         A2         \n",
       "1 -0.1232329 0.2988063 -0.07912475"
      ]
     },
     "metadata": {},
     "output_type": "display_data"
    }
   ],
   "source": [
    "Z<-X[X>0]\n",
    "mu3<-sum((Z-mean(Z))^3)/length(Z)\n",
    "A1<-mu3/sd(Z)^3\n",
    "n<-length(Z)\n",
    "sigmaA<-sqrt(6*(n-1)/((n+1)*(n+3)))\n",
    "g<-abs(A1)/sigmaA\n",
    "\n",
    "A2<-(mean(Z)-median(Z))/sd(Z)\n",
    "\n",
    "View(data.frame(A1,g,A2))"
   ]
  },
  {
   "cell_type": "markdown",
   "id": "35c1e164-ff09-4d63-8615-b3a5ed1b31d4",
   "metadata": {},
   "source": [
    "Другая характеристика формы распределения - это эксцесс, который характеризует степень островершинности или плосковершинности распределения относительно нормального распределения. Его определяют, используя момент четвертого порядка:\n",
    "\n",
    "$$E=\\frac{\\mu_4}{\\sigma^4}-3, \\mu_4=\\frac{\\sum_{i=1}^{n}(x_i-\\overline{x}_{\\text{ариф}})^4}{n}$$\n",
    "\n",
    "Если $E>0$, то распределение островершинно, если $E<0$ - плосковершинно.\n",
    "\n",
    "Степень существенности эксцесса оценивают также относительно его ошибки:\n",
    "$$\\sigma_E=\\sqrt{\\frac{24n(n-2)(n-3)}{(n-1)^2(n+3)(n+5)}}$$\n",
    "Если $\\frac{|E|}{\\sigma_E}>3$, то отклонение от нормального распределенния существенно, в противном случае нет.\n"
   ]
  },
  {
   "cell_type": "code",
   "execution_count": 57,
   "id": "2411111c-dae4-4939-aa93-6b77be33990c",
   "metadata": {},
   "outputs": [
    {
     "name": "stdout",
     "output_type": "stream",
     "text": [
      "[1] \"Коэффициент эксцесса X равен  -3.18569152827222\"\n",
      "[1] \"Степень существенности  4.25564668632905\"\n"
     ]
    }
   ],
   "source": [
    "\n",
    "mu4<-sum((X-mean(X))^3)/length(X)\n",
    "E<-mu4/(sd(X))^4-3\n",
    "n<-length(X)\n",
    "se<-sqrt(24*n*(n-2)*(n-3)/((n-1)**2*(n+3)*(n+5)))\n",
    "print(paste(\"Коэффициент эксцесса X равен \",toString(E)))\n",
    "print(paste(\"Степень существенности \",toString(abs(E)/se)))"
   ]
  },
  {
   "cell_type": "code",
   "execution_count": 58,
   "id": "0e86a8ba-cc0b-4a1f-803e-ec088237640c",
   "metadata": {},
   "outputs": [
    {
     "name": "stdout",
     "output_type": "stream",
     "text": [
      "[1] \"Коэффициент эксцесса X равен  -2.84413630783356\"\n",
      "[1] \"Степень существенности  3.79937578591123\"\n"
     ]
    }
   ],
   "source": [
    "mu4<-sum((Y-mean(Y))^3)/length(Y)\n",
    "E<-mu4/(sd(Y))^4-3\n",
    "n<-length(Y)\n",
    "se<-sqrt(24*n*(n-2)*(n-3)/((n-1)**2*(n+3)*(n+5)))\n",
    "print(paste(\"Коэффициент эксцесса X равен \",toString(E)))\n",
    "print(paste(\"Степень существенности \",toString(abs(E)/se)))"
   ]
  },
  {
   "cell_type": "code",
   "execution_count": null,
   "id": "817e0ae6-5144-4a8f-9e92-aff2a80c41c1",
   "metadata": {},
   "outputs": [],
   "source": []
  }
 ],
 "metadata": {
  "kernelspec": {
   "display_name": "R",
   "language": "R",
   "name": "ir"
  },
  "language_info": {
   "codemirror_mode": "r",
   "file_extension": ".r",
   "mimetype": "text/x-r-source",
   "name": "R",
   "pygments_lexer": "r",
   "version": "4.2.2"
  }
 },
 "nbformat": 4,
 "nbformat_minor": 5
}
