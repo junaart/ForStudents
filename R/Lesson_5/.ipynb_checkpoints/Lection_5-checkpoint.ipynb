{
 "cells": [
  {
   "cell_type": "markdown",
   "id": "6d62abbb-23a5-48bf-8bcd-d5d291540cd2",
   "metadata": {},
   "source": [
    "# Канонический корреляционный анализ, метод главных компонент. Кластерный анализ данных."
   ]
  },
  {
   "cell_type": "markdown",
   "id": "c701da06-6431-4ba4-b54a-d847372b60d3",
   "metadata": {},
   "source": [
    "- Канонический корреляционный анализ\n",
    "- Метод главных компонент\n",
    "- Кластерный анализ"
   ]
  },
  {
   "cell_type": "markdown",
   "id": "58c745da-ca2e-4d21-b434-e26974871726",
   "metadata": {
    "jp-MarkdownHeadingCollapsed": true,
    "tags": []
   },
   "source": [
    "## Канонический корреляционный анализ"
   ]
  },
  {
   "cell_type": "markdown",
   "id": "1c47bf8f-bf82-4c01-88db-2d90f6a69946",
   "metadata": {
    "slideshow": {
     "slide_type": "subslide"
    },
    "tags": []
   },
   "source": [
    "### Суть метода канонических корреляций\n",
    "\n",
    "\n",
    "Канонические  корреляции - это расширение парной корреляции на случай, когда имеется несколько результативных показателей $W$ и нескольких влияющих факторов $P$.\n",
    "\n",
    "В каноническом анализе матрица значений исходных переменных имеет вид:\n",
    "\n",
    "| Объект анализа | Результативные показатели | Влияющие факторы |\n",
    "|----------------|---------------------------|------------------|\n",
    "|                | $W_1$    $W_2$   $\\ldots$   $W_m$|$P_1$ $P_2$ $\\ldots$ $P_n$|\n",
    "|$O_1$           |$w_{11}$  $w_{12}$ $\\ldots$  $w_{1m}$|$p_{11}$  $p_{12}$ $\\ldots$  $p_{1n}$|\n",
    "|$O_2$           |$w_{21}$  $w_{22}$ $\\ldots$  $w_{2m}$|$p_{21}$  $p_{22}$ $\\ldots$  $p_{2n}$|\n",
    "|$O_3$           |$w_{31}$  $w_{32}$ $\\ldots$  $w_{3m}$|$p_{31}$  $p_{32}$ $\\ldots$  $p_{3n}$|\n",
    "|...|...|...|\n",
    "|$O_k$           |$w_{k1}$  $w_{k2}$ $\\ldots$  $w_{km}$|$p_{k1}$  $p_{k2}$ $\\ldots$  $p_{kn}$|\n"
   ]
  },
  {
   "cell_type": "markdown",
   "id": "c26605c1-76c2-4e06-8c67-3344271a3cb0",
   "metadata": {
    "tags": []
   },
   "source": [
    "Таким образом, возникает задача исследования относительной связи между двумя группами параметров, заданных матрицами  $P$ и  $W$:\n",
    " $$P=\\left(\\begin{matrix}p_{1,1}&p_{1,2}&\\ldots&p_{1,n}\\\\p_{2,1}&p_{2,2}&\\ldots &p_{2,n}\\\\\\ldots &\\ldots &\\ldots&\\ldots \\\\p_{k,1}&p_{k,2}&\\ldots &p_{k,n}\\end{matrix}\\right),$$\n",
    " \\begin{eqnarray}\\label{m_f1}W=\\left(\\begin{matrix}w_{1,1}&w_{1,2}&\\ldots&w_{1,m}\\\\w_{2,1}&w_{2,2}&\\ldots &w_{2,m}\\\\\\ldots &\\ldots &\\ldots&\\ldots \\\\w_{k,1}&w_{k,2}&\\ldots &w_{k,m}\\end{matrix}\\right),\\end{eqnarray}\n",
    "где  $k$ - размер выборки;  $n$ - количество влияющих факторов; $m$ - количество результативных показателей."
   ]
  },
  {
   "cell_type": "markdown",
   "id": "306bf780-82ab-44e5-a343-b9cf4169fcb4",
   "metadata": {},
   "source": [
    "Основная задача метода  - построить некоторые новые синтетические показатели - **канонические переменные**, как линейные комбинации от искомых переменных. Причем эти линейные комбинации составляются так, чтобы между каноническими переменными была максимальная парная корреляция."
   ]
  },
  {
   "cell_type": "markdown",
   "id": "1e44ae21-0cc5-475e-baef-3dff8fe52878",
   "metadata": {},
   "source": [
    "Канонические корреляции используются для научного обоснования системы показателей при проведении многомерного статистического анализа, подборе групп влияющих показателей."
   ]
  },
  {
   "cell_type": "markdown",
   "id": "2687a92a-a288-4eb3-9b74-670585910a2d",
   "metadata": {},
   "source": [
    "### Некоторые сведения из теории вероятностей и линейной алгебры"
   ]
  },
  {
   "cell_type": "markdown",
   "id": "cc4826ef-33d5-4697-bcd0-3c2edf569cd4",
   "metadata": {},
   "source": [
    "1. Пусть $X,Y$ - две случайные величины. Ковариация между $X$ и $Y$ определяется как:\n",
    "    $$cov(X,Y)=M((X-M(X))\\cdot (Y-M(Y)))$$\n",
    "    $$M((X-M(X))\\cdot (Y-M(Y)))=M(XY-XM(Y)-YM(X)+M(X)M(Y))=M(XY)-M(X)M(Y)-M(Y)M(X)+M(X)M(Y)=$$\n",
    "    $$M(XY)-M(X)M(Y)$$\n",
    "    $$cov(X,Y)=M(XY)-M(X)M(Y)$$\n",
    "2. Линейный коэффициент корреляции:\n",
    "$$\\rho=\\frac{M(XY)-M(X)M(Y)}{\\sigma_X\\sigma_Y}=\\frac{cov(X,Y)}{\\sigma_X\\sigma_Y}$$\n",
    "3. Если $M(X)=M(Y)=0$, то $cov(X,Y)=M(X\\cdot Y)$\n",
    "\n",
    "Если $Q$ - матрица столбцов стандартизированных случайных величин $q_1,q_2,\\ldots, q_n$ (с нулевым математическим ожиданием и единичной дисперсией каждая), то корреляционная матрица (она же в этом случае и ковариационная) от $Q$ равна:\n",
    "$$cor(Q)=cov(Q)=\\frac{1}{n}\\cdot \\left(Q^T\\cdot Q\\right)$$\n",
    "Если $A,B$ - две матрицы стандартизованных случайных величин размерности $m\\cdot n$, $m\\cdot n$ соответственно, кросс-корреляционная матрица определяется как:\n",
    "$$cov(A,B)=A^T\\cdot B$$\n",
    "4. Математическое ожидание произведения двух зависимых случайных величин равно:\n",
    "$$M(XY)=M(X)M(Y)+\\rho\\cdot \\sigma_X\\sigma_Y$$\n",
    "5. Если $X$ - случайная величина с нулевым математическим ожиданием, то:\n",
    "$$D(X)=M((X-M(X))^2)=M(X^2)=cov(X,X)$$\n",
    "6. Для квадратных матриц  $A$,   $B$ одинаковой размерности справедливо:\n",
    "$$A\\cdot B^T=(B\\cdot A^T)^T$$\n",
    "$$\\left(AB\\right)^T=B^T\\cdot A^T$$\n"
   ]
  },
  {
   "cell_type": "code",
   "execution_count": 13,
   "id": "ad0bba63-819d-484b-873d-f1cb57f3d3a2",
   "metadata": {},
   "outputs": [
    {
     "name": "stdout",
     "output_type": "stream",
     "text": [
      "     [,1] [,2] [,3]\n",
      "[1,]    5    6    7\n",
      "[2,]    8    9   10\n",
      "     [,1] [,2] [,3]\n",
      "[1,]    1    2    3\n",
      "[2,]    4    5    6\n",
      "[3,]    7    8    9\n"
     ]
    }
   ],
   "source": [
    "#Задание матриц\n",
    "A<-matrix(c(5:10), nrow=2,ncol=3,byrow=TRUE)\n",
    "B<-matrix(c(1:9),nrow=3,ncol=3,byrow = TRUE)\n",
    "print(A)\n",
    "print(B)"
   ]
  },
  {
   "cell_type": "code",
   "execution_count": 14,
   "id": "1b83e3aa-4d85-4002-858c-26e1839db073",
   "metadata": {},
   "outputs": [
    {
     "data": {
      "text/html": [
       "<table class=\"dataframe\">\n",
       "<caption>A matrix: 2 × 3 of type dbl</caption>\n",
       "<tbody>\n",
       "\t<tr><td> 78</td><td> 96</td><td>114</td></tr>\n",
       "\t<tr><td>114</td><td>141</td><td>168</td></tr>\n",
       "</tbody>\n",
       "</table>\n"
      ],
      "text/latex": [
       "A matrix: 2 × 3 of type dbl\n",
       "\\begin{tabular}{lll}\n",
       "\t  78 &  96 & 114\\\\\n",
       "\t 114 & 141 & 168\\\\\n",
       "\\end{tabular}\n"
      ],
      "text/markdown": [
       "\n",
       "A matrix: 2 × 3 of type dbl\n",
       "\n",
       "|  78 |  96 | 114 |\n",
       "| 114 | 141 | 168 |\n",
       "\n"
      ],
      "text/plain": [
       "     [,1] [,2] [,3]\n",
       "[1,]  78   96  114 \n",
       "[2,] 114  141  168 "
      ]
     },
     "metadata": {},
     "output_type": "display_data"
    }
   ],
   "source": [
    "#Произведение матриц\n",
    "A%*%B"
   ]
  },
  {
   "cell_type": "code",
   "execution_count": 10,
   "id": "d8d9611b-78f3-494f-87a6-63177cd6bb45",
   "metadata": {},
   "outputs": [
    {
     "data": {
      "text/html": [
       "<table class=\"dataframe\">\n",
       "<caption>A matrix: 3 × 3 of type int</caption>\n",
       "<tbody>\n",
       "\t<tr><td>1</td><td>4</td><td>7</td></tr>\n",
       "\t<tr><td>2</td><td>5</td><td>8</td></tr>\n",
       "\t<tr><td>3</td><td>6</td><td>9</td></tr>\n",
       "</tbody>\n",
       "</table>\n"
      ],
      "text/latex": [
       "A matrix: 3 × 3 of type int\n",
       "\\begin{tabular}{lll}\n",
       "\t 1 & 4 & 7\\\\\n",
       "\t 2 & 5 & 8\\\\\n",
       "\t 3 & 6 & 9\\\\\n",
       "\\end{tabular}\n"
      ],
      "text/markdown": [
       "\n",
       "A matrix: 3 × 3 of type int\n",
       "\n",
       "| 1 | 4 | 7 |\n",
       "| 2 | 5 | 8 |\n",
       "| 3 | 6 | 9 |\n",
       "\n"
      ],
      "text/plain": [
       "     [,1] [,2] [,3]\n",
       "[1,] 1    4    7   \n",
       "[2,] 2    5    8   \n",
       "[3,] 3    6    9   "
      ]
     },
     "metadata": {},
     "output_type": "display_data"
    }
   ],
   "source": [
    "#Транспонирование\n",
    "t(A)"
   ]
  },
  {
   "cell_type": "code",
   "execution_count": 15,
   "id": "60feb502-08af-4c3a-9b30-036886244912",
   "metadata": {},
   "outputs": [
    {
     "data": {
      "text/html": [
       "<table class=\"dataframe\">\n",
       "<caption>A matrix: 3 × 2 of type dbl</caption>\n",
       "<tbody>\n",
       "\t<tr><td> 78</td><td>114</td></tr>\n",
       "\t<tr><td> 96</td><td>141</td></tr>\n",
       "\t<tr><td>114</td><td>168</td></tr>\n",
       "</tbody>\n",
       "</table>\n"
      ],
      "text/latex": [
       "A matrix: 3 × 2 of type dbl\n",
       "\\begin{tabular}{ll}\n",
       "\t  78 & 114\\\\\n",
       "\t  96 & 141\\\\\n",
       "\t 114 & 168\\\\\n",
       "\\end{tabular}\n"
      ],
      "text/markdown": [
       "\n",
       "A matrix: 3 × 2 of type dbl\n",
       "\n",
       "|  78 | 114 |\n",
       "|  96 | 141 |\n",
       "| 114 | 168 |\n",
       "\n"
      ],
      "text/plain": [
       "     [,1] [,2]\n",
       "[1,]  78  114 \n",
       "[2,]  96  141 \n",
       "[3,] 114  168 "
      ]
     },
     "metadata": {},
     "output_type": "display_data"
    }
   ],
   "source": [
    "t(A%*%B)"
   ]
  },
  {
   "cell_type": "code",
   "execution_count": 16,
   "id": "57e93245-fc5a-4ac4-ab18-1fa85f989130",
   "metadata": {},
   "outputs": [
    {
     "data": {
      "text/html": [
       "<table class=\"dataframe\">\n",
       "<caption>A matrix: 3 × 2 of type dbl</caption>\n",
       "<tbody>\n",
       "\t<tr><td> 78</td><td>114</td></tr>\n",
       "\t<tr><td> 96</td><td>141</td></tr>\n",
       "\t<tr><td>114</td><td>168</td></tr>\n",
       "</tbody>\n",
       "</table>\n"
      ],
      "text/latex": [
       "A matrix: 3 × 2 of type dbl\n",
       "\\begin{tabular}{ll}\n",
       "\t  78 & 114\\\\\n",
       "\t  96 & 141\\\\\n",
       "\t 114 & 168\\\\\n",
       "\\end{tabular}\n"
      ],
      "text/markdown": [
       "\n",
       "A matrix: 3 × 2 of type dbl\n",
       "\n",
       "|  78 | 114 |\n",
       "|  96 | 141 |\n",
       "| 114 | 168 |\n",
       "\n"
      ],
      "text/plain": [
       "     [,1] [,2]\n",
       "[1,]  78  114 \n",
       "[2,]  96  141 \n",
       "[3,] 114  168 "
      ]
     },
     "metadata": {},
     "output_type": "display_data"
    }
   ],
   "source": [
    "t(B)%*%t(A)"
   ]
  },
  {
   "cell_type": "code",
   "execution_count": 31,
   "id": "8ff96668-5b44-4296-aa7c-444b5bae536f",
   "metadata": {},
   "outputs": [
    {
     "data": {
      "text/html": [
       "<table class=\"dataframe\">\n",
       "<caption>A matrix: 4 × 4 of type int</caption>\n",
       "<tbody>\n",
       "\t<tr><td> 6</td><td> 7</td><td> 8</td><td>29</td></tr>\n",
       "\t<tr><td>26</td><td>20</td><td> 4</td><td>19</td></tr>\n",
       "\t<tr><td>17</td><td>18</td><td>22</td><td>10</td></tr>\n",
       "\t<tr><td>30</td><td>11</td><td>12</td><td>16</td></tr>\n",
       "</tbody>\n",
       "</table>\n"
      ],
      "text/latex": [
       "A matrix: 4 × 4 of type int\n",
       "\\begin{tabular}{llll}\n",
       "\t  6 &  7 &  8 & 29\\\\\n",
       "\t 26 & 20 &  4 & 19\\\\\n",
       "\t 17 & 18 & 22 & 10\\\\\n",
       "\t 30 & 11 & 12 & 16\\\\\n",
       "\\end{tabular}\n"
      ],
      "text/markdown": [
       "\n",
       "A matrix: 4 × 4 of type int\n",
       "\n",
       "|  6 |  7 |  8 | 29 |\n",
       "| 26 | 20 |  4 | 19 |\n",
       "| 17 | 18 | 22 | 10 |\n",
       "| 30 | 11 | 12 | 16 |\n",
       "\n"
      ],
      "text/plain": [
       "     [,1] [,2] [,3] [,4]\n",
       "[1,]  6    7    8   29  \n",
       "[2,] 26   20    4   19  \n",
       "[3,] 17   18   22   10  \n",
       "[4,] 30   11   12   16  "
      ]
     },
     "metadata": {},
     "output_type": "display_data"
    },
    {
     "data": {
      "text/html": [
       "<table class=\"dataframe\">\n",
       "<caption>A matrix: 4 × 4 of type dbl</caption>\n",
       "<tbody>\n",
       "\t<tr><td>-1.2901654</td><td>-1.1560120</td><td>-0.45310844</td><td> 1.32287566</td></tr>\n",
       "\t<tr><td> 0.5864388</td><td> 0.9908674</td><td>-0.97094667</td><td> 0.06299408</td></tr>\n",
       "\t<tr><td>-0.2580331</td><td> 0.6605783</td><td> 1.35932533</td><td>-1.07089934</td></tr>\n",
       "\t<tr><td> 0.9617597</td><td>-0.4954337</td><td> 0.06472978</td><td>-0.31497039</td></tr>\n",
       "</tbody>\n",
       "</table>\n"
      ],
      "text/latex": [
       "A matrix: 4 × 4 of type dbl\n",
       "\\begin{tabular}{llll}\n",
       "\t -1.2901654 & -1.1560120 & -0.45310844 &  1.32287566\\\\\n",
       "\t  0.5864388 &  0.9908674 & -0.97094667 &  0.06299408\\\\\n",
       "\t -0.2580331 &  0.6605783 &  1.35932533 & -1.07089934\\\\\n",
       "\t  0.9617597 & -0.4954337 &  0.06472978 & -0.31497039\\\\\n",
       "\\end{tabular}\n"
      ],
      "text/markdown": [
       "\n",
       "A matrix: 4 × 4 of type dbl\n",
       "\n",
       "| -1.2901654 | -1.1560120 | -0.45310844 |  1.32287566 |\n",
       "|  0.5864388 |  0.9908674 | -0.97094667 |  0.06299408 |\n",
       "| -0.2580331 |  0.6605783 |  1.35932533 | -1.07089934 |\n",
       "|  0.9617597 | -0.4954337 |  0.06472978 | -0.31497039 |\n",
       "\n"
      ],
      "text/plain": [
       "     [,1]       [,2]       [,3]        [,4]       \n",
       "[1,] -1.2901654 -1.1560120 -0.45310844  1.32287566\n",
       "[2,]  0.5864388  0.9908674 -0.97094667  0.06299408\n",
       "[3,] -0.2580331  0.6605783  1.35932533 -1.07089934\n",
       "[4,]  0.9617597 -0.4954337  0.06472978 -0.31497039"
      ]
     },
     "metadata": {},
     "output_type": "display_data"
    },
    {
     "name": "stdout",
     "output_type": "stream",
     "text": [
      "[1] 1\n",
      "[1] 0\n"
     ]
    }
   ],
   "source": [
    "#Стандартизация\n",
    "G<-matrix(sample(c(1:30),16),ncol=4,nrow=4)\n",
    "View(G)\n",
    "Gs<-scale(G)\n",
    "View(Gs)\n",
    "print(sd(Gs[,1]))\n",
    "print(mean(Gs[,1]))"
   ]
  },
  {
   "cell_type": "code",
   "execution_count": 33,
   "id": "85a98822-893f-46c4-895a-4141416f6cdf",
   "metadata": {},
   "outputs": [
    {
     "data": {
      "text/html": [
       "<table class=\"dataframe\">\n",
       "<caption>A matrix: 4 × 4 of type dbl</caption>\n",
       "<tbody>\n",
       "\t<tr><td> 1.00000000</td><td> 0.4751968</td><td>-0.09110413</td><td>-0.5654615</td></tr>\n",
       "\t<tr><td> 0.47519685</td><td> 1.0000000</td><td> 0.14253028</td><td>-0.6727357</td></tr>\n",
       "\t<tr><td>-0.09110413</td><td> 0.1425303</td><td> 1.00000000</td><td>-0.7122195</td></tr>\n",
       "\t<tr><td>-0.56546153</td><td>-0.6727357</td><td>-0.71221953</td><td> 1.0000000</td></tr>\n",
       "</tbody>\n",
       "</table>\n"
      ],
      "text/latex": [
       "A matrix: 4 × 4 of type dbl\n",
       "\\begin{tabular}{llll}\n",
       "\t  1.00000000 &  0.4751968 & -0.09110413 & -0.5654615\\\\\n",
       "\t  0.47519685 &  1.0000000 &  0.14253028 & -0.6727357\\\\\n",
       "\t -0.09110413 &  0.1425303 &  1.00000000 & -0.7122195\\\\\n",
       "\t -0.56546153 & -0.6727357 & -0.71221953 &  1.0000000\\\\\n",
       "\\end{tabular}\n"
      ],
      "text/markdown": [
       "\n",
       "A matrix: 4 × 4 of type dbl\n",
       "\n",
       "|  1.00000000 |  0.4751968 | -0.09110413 | -0.5654615 |\n",
       "|  0.47519685 |  1.0000000 |  0.14253028 | -0.6727357 |\n",
       "| -0.09110413 |  0.1425303 |  1.00000000 | -0.7122195 |\n",
       "| -0.56546153 | -0.6727357 | -0.71221953 |  1.0000000 |\n",
       "\n"
      ],
      "text/plain": [
       "     [,1]        [,2]       [,3]        [,4]      \n",
       "[1,]  1.00000000  0.4751968 -0.09110413 -0.5654615\n",
       "[2,]  0.47519685  1.0000000  0.14253028 -0.6727357\n",
       "[3,] -0.09110413  0.1425303  1.00000000 -0.7122195\n",
       "[4,] -0.56546153 -0.6727357 -0.71221953  1.0000000"
      ]
     },
     "metadata": {},
     "output_type": "display_data"
    }
   ],
   "source": [
    "C<-cor(Gs)\n",
    "View(C)"
   ]
  },
  {
   "cell_type": "code",
   "execution_count": 34,
   "id": "4862026d-591a-41fb-960e-230f3211fa26",
   "metadata": {},
   "outputs": [
    {
     "data": {
      "text/html": [
       "<table class=\"dataframe\">\n",
       "<caption>A matrix: 4 × 4 of type dbl</caption>\n",
       "<tbody>\n",
       "\t<tr><td> 1.00000000</td><td> 0.4751968</td><td>-0.09110413</td><td>-0.5654615</td></tr>\n",
       "\t<tr><td> 0.47519685</td><td> 1.0000000</td><td> 0.14253028</td><td>-0.6727357</td></tr>\n",
       "\t<tr><td>-0.09110413</td><td> 0.1425303</td><td> 1.00000000</td><td>-0.7122195</td></tr>\n",
       "\t<tr><td>-0.56546153</td><td>-0.6727357</td><td>-0.71221953</td><td> 1.0000000</td></tr>\n",
       "</tbody>\n",
       "</table>\n"
      ],
      "text/latex": [
       "A matrix: 4 × 4 of type dbl\n",
       "\\begin{tabular}{llll}\n",
       "\t  1.00000000 &  0.4751968 & -0.09110413 & -0.5654615\\\\\n",
       "\t  0.47519685 &  1.0000000 &  0.14253028 & -0.6727357\\\\\n",
       "\t -0.09110413 &  0.1425303 &  1.00000000 & -0.7122195\\\\\n",
       "\t -0.56546153 & -0.6727357 & -0.71221953 &  1.0000000\\\\\n",
       "\\end{tabular}\n"
      ],
      "text/markdown": [
       "\n",
       "A matrix: 4 × 4 of type dbl\n",
       "\n",
       "|  1.00000000 |  0.4751968 | -0.09110413 | -0.5654615 |\n",
       "|  0.47519685 |  1.0000000 |  0.14253028 | -0.6727357 |\n",
       "| -0.09110413 |  0.1425303 |  1.00000000 | -0.7122195 |\n",
       "| -0.56546153 | -0.6727357 | -0.71221953 |  1.0000000 |\n",
       "\n"
      ],
      "text/plain": [
       "     [,1]        [,2]       [,3]        [,4]      \n",
       "[1,]  1.00000000  0.4751968 -0.09110413 -0.5654615\n",
       "[2,]  0.47519685  1.0000000  0.14253028 -0.6727357\n",
       "[3,] -0.09110413  0.1425303  1.00000000 -0.7122195\n",
       "[4,] -0.56546153 -0.6727357 -0.71221953  1.0000000"
      ]
     },
     "metadata": {},
     "output_type": "display_data"
    }
   ],
   "source": [
    "(t(Gs)%*%Gs)/3"
   ]
  },
  {
   "cell_type": "code",
   "execution_count": 35,
   "id": "942bf005-83dd-4408-a7be-2e0e8fae0fd0",
   "metadata": {},
   "outputs": [
    {
     "data": {
      "text/html": [
       "<table class=\"dataframe\">\n",
       "<caption>A matrix: 4 × 4 of type dbl</caption>\n",
       "<tbody>\n",
       "\t<tr><td> 1.00000000</td><td> 0.4751968</td><td>-0.09110413</td><td>-0.5654615</td></tr>\n",
       "\t<tr><td> 0.47519685</td><td> 1.0000000</td><td> 0.14253028</td><td>-0.6727357</td></tr>\n",
       "\t<tr><td>-0.09110413</td><td> 0.1425303</td><td> 1.00000000</td><td>-0.7122195</td></tr>\n",
       "\t<tr><td>-0.56546153</td><td>-0.6727357</td><td>-0.71221953</td><td> 1.0000000</td></tr>\n",
       "</tbody>\n",
       "</table>\n"
      ],
      "text/latex": [
       "A matrix: 4 × 4 of type dbl\n",
       "\\begin{tabular}{llll}\n",
       "\t  1.00000000 &  0.4751968 & -0.09110413 & -0.5654615\\\\\n",
       "\t  0.47519685 &  1.0000000 &  0.14253028 & -0.6727357\\\\\n",
       "\t -0.09110413 &  0.1425303 &  1.00000000 & -0.7122195\\\\\n",
       "\t -0.56546153 & -0.6727357 & -0.71221953 &  1.0000000\\\\\n",
       "\\end{tabular}\n"
      ],
      "text/markdown": [
       "\n",
       "A matrix: 4 × 4 of type dbl\n",
       "\n",
       "|  1.00000000 |  0.4751968 | -0.09110413 | -0.5654615 |\n",
       "|  0.47519685 |  1.0000000 |  0.14253028 | -0.6727357 |\n",
       "| -0.09110413 |  0.1425303 |  1.00000000 | -0.7122195 |\n",
       "| -0.56546153 | -0.6727357 | -0.71221953 |  1.0000000 |\n",
       "\n"
      ],
      "text/plain": [
       "     [,1]        [,2]       [,3]        [,4]      \n",
       "[1,]  1.00000000  0.4751968 -0.09110413 -0.5654615\n",
       "[2,]  0.47519685  1.0000000  0.14253028 -0.6727357\n",
       "[3,] -0.09110413  0.1425303  1.00000000 -0.7122195\n",
       "[4,] -0.56546153 -0.6727357 -0.71221953  1.0000000"
      ]
     },
     "metadata": {},
     "output_type": "display_data"
    }
   ],
   "source": [
    "cor(G)"
   ]
  },
  {
   "cell_type": "markdown",
   "id": "aff2ed67-3c34-44b5-b601-a7e4d7f58bef",
   "metadata": {
    "tags": []
   },
   "source": [
    "7. Пусть задана некоторая квадратная матрица $Q$ размерностью $n\\cdot n$, если выполняется соотношение:\n",
    "$$Q\\cdot X=\\alpha X$$\n",
    "\n",
    "где $X$ - некоторый вектор столбец размерностью $n$, $\\alpha$ - некоторое число,  то вектор $X$ называется собственным вектором матрицы $Q$, $\\alpha$ - собственным значением матрицы $Q$.\n",
    "\n",
    "Рассмотрим на примере.\n",
    "\n",
    "Пусть $$Q=\\left(\\begin{matrix} -1 & -6 \\\\ \n",
    "                               2 & 6 \n",
    "               \\end{matrix}\\right)$$\n",
    "Тогда получаем:\n",
    "\n",
    "$$\\left(\\begin{matrix} -1 & -6 \\\\ \n",
    "                               2 & 6 \n",
    "               \\end{matrix}\\right)\\cdot \\left(\\begin{matrix} x_1 \\\\ x_2\n",
    "               \\end{matrix}\\right)=\\alpha\\cdot \\left(\\begin{matrix} x_1 \\\\ x_2\n",
    "               \\end{matrix}\\right)$$\n",
    "Приходим к системе уравнений:\n",
    "$$\n",
    "\\begin{equation*}\n",
    " \\begin{cases}\n",
    "   -1x_1-6x_2=\\alpha x_1\n",
    "   \\\\\n",
    "   2x_1+6x_2=\\alpha x_2\n",
    " \\end{cases}\n",
    "\\end{equation*}\n",
    "$$\n",
    "$$\n",
    "\\begin{equation*}\n",
    " \\begin{cases}\n",
    "   (-1-\\alpha)x_1-6x_2=0\n",
    "   \\\\\n",
    "   2x_1+(6-\\alpha)x_2=0\n",
    " \\end{cases}\n",
    "\\end{equation*}\n",
    "$$\n",
    "Поскольку по определению собственных векторов, нас не устраивают нулевые решения, то \n",
    "нужно искать линейно зависимые решения (т.е. условие равенства нулю главного определителя системы уравнений):\n",
    "$$\\left(\\begin{matrix} -1-\\alpha & -6 \\\\ \n",
    "                               2 & 6-\\alpha \n",
    "               \\end{matrix}\\right)=0\\Rightarrow \\alpha^2-5\\alpha+12=0$$\n",
    "$$\\alpha_1=2, \\alpha_2=3$$ \n",
    "Найдем собственные вектора:\n",
    "$$\n",
    "\\begin{equation*}\n",
    " \\begin{cases}\n",
    "   (-1-2)x_1-6x_2=0\n",
    "   \\\\\n",
    "   2x_1+(6-2)x_2=0\n",
    " \\end{cases}\n",
    "\\end{equation*}\\Rightarrow x_1=-2x_2\n",
    "$$\n",
    "$$\n",
    "\\begin{equation*}\n",
    " \\begin{cases}\n",
    "   (-1-3)x_1-6x_2=0\n",
    "   \\\\\n",
    "   2x_1+(6-3)x_2=0\n",
    " \\end{cases}\n",
    "\\end{equation*}\\Rightarrow x_1=-\\frac{3}{2}x_2\n",
    "$$\n",
    "Выберем ортонормированную систему векторов:\n",
    "$$\\overline{x_1}=\\frac{x_1}{\\sqrt{x_1^2+x_2^2}}, \\overline{x_2}=\\frac{x_2}{\\sqrt{x_1^2+x_2^2}}$$\n",
    "$$\\overline{x_1}=\\frac{-2x_2}{\\sqrt{4x_2^2+x_2^2}}=\\frac{-2}{\\sqrt{5}}=-0.8944271909999159,$$\n",
    "$$\\overline{x_2}=\\frac{x_2}{\\sqrt{4x_2^2+x_2^2}}=\\frac{1}{\\sqrt{5}}=0.4472135954999579$$\n",
    "Аналогично находится второй собственный вектор.\n",
    "\n",
    "В R для получения собственных векторов и собственных значений используют функцию eigen():"
   ]
  },
  {
   "cell_type": "code",
   "execution_count": 38,
   "id": "6f1afc86-b77f-4e9b-b352-39c9c207fd39",
   "metadata": {},
   "outputs": [
    {
     "data": {
      "text/html": [
       "<table class=\"dataframe\">\n",
       "<caption>A matrix: 2 × 2 of type dbl</caption>\n",
       "<tbody>\n",
       "\t<tr><td>-1</td><td>-6</td></tr>\n",
       "\t<tr><td> 2</td><td> 6</td></tr>\n",
       "</tbody>\n",
       "</table>\n"
      ],
      "text/latex": [
       "A matrix: 2 × 2 of type dbl\n",
       "\\begin{tabular}{ll}\n",
       "\t -1 & -6\\\\\n",
       "\t  2 &  6\\\\\n",
       "\\end{tabular}\n"
      ],
      "text/markdown": [
       "\n",
       "A matrix: 2 × 2 of type dbl\n",
       "\n",
       "| -1 | -6 |\n",
       "|  2 |  6 |\n",
       "\n"
      ],
      "text/plain": [
       "     [,1] [,2]\n",
       "[1,] -1   -6  \n",
       "[2,]  2    6  "
      ]
     },
     "metadata": {},
     "output_type": "display_data"
    }
   ],
   "source": [
    "#Получение собственных значений\n",
    "A<-matrix(c(-1,-6,2,6),nrow=2,ncol=2, byrow = TRUE)\n",
    "View(A)"
   ]
  },
  {
   "cell_type": "code",
   "execution_count": 40,
   "id": "4099b1ce-6b35-41ec-b2ba-7bcc1dd525a9",
   "metadata": {},
   "outputs": [
    {
     "data": {
      "text/plain": [
       "eigen() decomposition\n",
       "$values\n",
       "[1] 3 2\n",
       "\n",
       "$vectors\n",
       "           [,1]       [,2]\n",
       "[1,]  0.8320503 -0.8944272\n",
       "[2,] -0.5547002  0.4472136\n"
      ]
     },
     "metadata": {},
     "output_type": "display_data"
    }
   ],
   "source": [
    "e<-eigen(A)\n",
    "e"
   ]
  },
  {
   "cell_type": "code",
   "execution_count": 42,
   "id": "e69b605e-28bb-472b-91e8-7d16f0c09952",
   "metadata": {},
   "outputs": [
    {
     "data": {
      "text/html": [
       "<table class=\"dataframe\">\n",
       "<caption>A matrix: 2 × 1 of type dbl</caption>\n",
       "<tbody>\n",
       "\t<tr><td>-0.8944272</td></tr>\n",
       "\t<tr><td> 0.4472136</td></tr>\n",
       "</tbody>\n",
       "</table>\n"
      ],
      "text/latex": [
       "A matrix: 2 × 1 of type dbl\n",
       "\\begin{tabular}{l}\n",
       "\t -0.8944272\\\\\n",
       "\t  0.4472136\\\\\n",
       "\\end{tabular}\n"
      ],
      "text/markdown": [
       "\n",
       "A matrix: 2 × 1 of type dbl\n",
       "\n",
       "| -0.8944272 |\n",
       "|  0.4472136 |\n",
       "\n"
      ],
      "text/plain": [
       "     [,1]      \n",
       "[1,] -0.8944272\n",
       "[2,]  0.4472136"
      ]
     },
     "metadata": {},
     "output_type": "display_data"
    },
    {
     "data": {
      "text/html": [
       "<table class=\"dataframe\">\n",
       "<caption>A matrix: 2 × 1 of type dbl</caption>\n",
       "<tbody>\n",
       "\t<tr><td>-1.7888544</td></tr>\n",
       "\t<tr><td> 0.8944272</td></tr>\n",
       "</tbody>\n",
       "</table>\n"
      ],
      "text/latex": [
       "A matrix: 2 × 1 of type dbl\n",
       "\\begin{tabular}{l}\n",
       "\t -1.7888544\\\\\n",
       "\t  0.8944272\\\\\n",
       "\\end{tabular}\n"
      ],
      "text/markdown": [
       "\n",
       "A matrix: 2 × 1 of type dbl\n",
       "\n",
       "| -1.7888544 |\n",
       "|  0.8944272 |\n",
       "\n"
      ],
      "text/plain": [
       "     [,1]      \n",
       "[1,] -1.7888544\n",
       "[2,]  0.8944272"
      ]
     },
     "metadata": {},
     "output_type": "display_data"
    }
   ],
   "source": [
    "#Проверим выполнение тождества:\n",
    "v1<-matrix(c(-0.8944272,0.4472136), ncol=1,nrow=2)\n",
    "View(v1)\n",
    "alpha1<-2\n",
    "A%*%v1"
   ]
  },
  {
   "cell_type": "code",
   "execution_count": 43,
   "id": "716bc17a-6be5-4204-84ab-d4de81be0451",
   "metadata": {},
   "outputs": [
    {
     "data": {
      "text/html": [
       "<table class=\"dataframe\">\n",
       "<caption>A matrix: 2 × 1 of type dbl</caption>\n",
       "<tbody>\n",
       "\t<tr><td>-1.7888544</td></tr>\n",
       "\t<tr><td> 0.8944272</td></tr>\n",
       "</tbody>\n",
       "</table>\n"
      ],
      "text/latex": [
       "A matrix: 2 × 1 of type dbl\n",
       "\\begin{tabular}{l}\n",
       "\t -1.7888544\\\\\n",
       "\t  0.8944272\\\\\n",
       "\\end{tabular}\n"
      ],
      "text/markdown": [
       "\n",
       "A matrix: 2 × 1 of type dbl\n",
       "\n",
       "| -1.7888544 |\n",
       "|  0.8944272 |\n",
       "\n"
      ],
      "text/plain": [
       "     [,1]      \n",
       "[1,] -1.7888544\n",
       "[2,]  0.8944272"
      ]
     },
     "metadata": {},
     "output_type": "display_data"
    }
   ],
   "source": [
    "2*v1"
   ]
  },
  {
   "cell_type": "markdown",
   "id": "74ecb99f-9880-4571-832a-496e23201258",
   "metadata": {
    "tags": []
   },
   "source": [
    "### Теоретическое обоснование метода"
   ]
  },
  {
   "cell_type": "markdown",
   "id": "7bf04360-b8e2-4d72-9dfa-43eea967df2e",
   "metadata": {},
   "source": [
    "Если для  $j$-го объекта анализа множество влияющих факторов представлено значениями $\\{p_{j,1},p_{j,2},\\ldots p_{j,n}\\}$, а множество результативных показателей представлено значениями  $\\{w_{j,1},w_{j,2},\\ldots w_{j,m}\\}$, то значения канонических переменных для  $j$-го объекта определяются в виде:\n",
    "\\begin{equation*}\n",
    "u_{j}=\\alpha _{1}\\cdot p_{j,1}+\\alpha _{2}\\cdot p_{j,2}+\\ldots +\\alpha_{n}\\cdot p_{j,n}\n",
    "\\end{equation*}\n",
    " $$v_{j}=\\beta _{1}\\cdot w_{j,1}+\\beta _{2}\\cdot w_{j,2}+\\ldots +\\beta_{m}\\cdot w_{j,m},$$\n",
    "что в матричной форме для всех  $k$ объектов анализа может быть представлено в виде:\n",
    " \\begin{eqnarray}\\label{m_f2}U=\\alpha \\cdot P^{T}, V=\\beta \\cdot W^{T},\\end{eqnarray}\n",
    "где  $U=(u_{1},u_{2},\\ldots ,u_{k})$,  $V=(v_{1},v_{2},\\ldots ,v_{k})$ - полученные векторы канонических переменных, $P^{T},W^{T}$ - соответствующие транспонированные матрицы, $\\alpha=(\\alpha _{1}, \\alpha _{2}, \\ldots, \\alpha _{n}), \\beta=(\\beta _{1}, \\beta _{2}, \\ldots, \\beta_{m})$"
   ]
  },
  {
   "cell_type": "markdown",
   "id": "2bdfbad2-221a-4b56-8364-4e77bd59014d",
   "metadata": {},
   "source": [
    "Если рассматривать  $U=(u_{1},u_{2},\\ldots ,u_{k})$  и  $V=(v_{1},v_{2},\\ldots ,v_{k})$  как реализации двух случайных величин  $u,v$, то задача сводится к нахождению значений коэффициентов линейных комбинаций  $\\alpha$  и  $\\beta$, так, чтобы обеспечить максимальную корреляцию между  $u,v$."
   ]
  },
  {
   "cell_type": "markdown",
   "id": "4d90cc65-ea00-4caf-a863-86d9b09e83f9",
   "metadata": {},
   "source": [
    "Перед проведением расчетов, как правило, выполняется стандартизация исходных переменных множеств $\\{p_{1,}p_{2,}\\ldots p_{n}\\}$ и  $\\{w_{1},w_{2},\\ldots w_{m}\\}$ в виде:\n",
    "\\begin{equation*}\n",
    "\\tilde{p}_{h,i}=\\frac{p_{h,i}-M(p_{i})}{\\sigma _{p_{i}}}\n",
    "\\end{equation*}\n",
    " \\begin{eqnarray}\\label{m_f3}{\\tilde {{w}}}_{h,j}=\\frac{w_{h,j}-M(w_{j})}{\\sigma _{w_{j}}},\\end{eqnarray}\n",
    "где  $M(p_{i}),M(w_{j})$ - средние значения  $p_{i},w_{j}$ на выборке соответственно; $\\sigma _{p_{i}},\\sigma _{w_{j}}$ - стандартные отклонения $p_{i},w_{j}$  на выборке соответственно."
   ]
  },
  {
   "cell_type": "markdown",
   "id": "00fc07e5-e462-4ad2-be42-81bdb9c1e941",
   "metadata": {},
   "source": [
    "Тогда канонические переменные для каждого  $j$-го объекта определяют в виде: \n",
    "\\begin{equation*}\n",
    "u_{j}=\\alpha _{1}\\cdot {\\tilde {{p}}}_{j,1}+\\alpha _{2}\\cdot {\\tilde{{p}}}_{j,2}+\\ldots +\\alpha _{n}\\cdot {\\tilde {{p}}}_{j,n}\n",
    "\\end{equation*}\n",
    " $$v_{j}=\\beta _{1}\\cdot {\\tilde {{w}}}_{j,1}+\\beta _{2}\\cdot {\\tilde{{w}}}_{j,2}+\\ldots +\\beta _{m}\\cdot {\\tilde {{w}}}_{j,m},$$\n",
    "поэтому как легко заметить:\n",
    " $$M(U)=M(\\alpha _{1}\\cdot {\\tilde {{p}}}_{1}+\\alpha _{2}\\cdot {\\tilde{{p}}}_{2}+\\ldots +\\alpha _{n}\\cdot \\tilde {{p_{n}}})=\\alpha _{1}\\cdot M(\\tilde {{p_{1}}})+\\alpha _{2}\\cdot M(\\tilde {{p_{2}}})+\\ldots +\\alpha_{n}\\cdot M(\\tilde {{p_{n}}})$$\n",
    "$$M(U)=0$$\n",
    "$$M(V)=M(\\beta _{1}\\cdot \\tilde {{w_{1}}}+\\beta _{2}\\cdot \\tilde{{w_{2}}}+\\ldots +\\beta _{m}\\cdot \\tilde {{w_{m}}})=\\beta _{1}\\cdot M(\\tilde {{w_{1}}})+\\beta _{2}\\cdot M(\\tilde {{w_{2}}})+\\ldots +\\beta_{m}\\cdot M(\\tilde {{w_{m}}})$$\n",
    "$$M(V)=0$$"
   ]
  },
  {
   "cell_type": "markdown",
   "id": "6394c6f1-4e66-4598-8e05-707b2435b40e",
   "metadata": {},
   "source": [
    "Для интерпретации канонических переменных оценим случайную величину  $U$ в виде  $a\\cdot V$ (т.е. оценим линейную связь между $U$ и $V$).\n",
    "\n",
    "Найдем среднюю квадратичную ошибку такого приближения:\n",
    " \\begin{eqnarray}\\label{m_f4}M((U-a\\cdot V)^{2})=\\sigma _{u}^{2}-2\\cdot a\\cdot \\sigma _{u}\\cdot\\sigma _{v}\\cdot \\rho +a^{2}\\cdot \\sigma _{v}^{2},\\end{eqnarray}\n",
    "где  $\\rho $ - коэффициент канонической корреляции между каноническими переменными  $u,v$; $\\sigma _{u},\\sigma _{v}$ - стандартные отклонения канонических переменных  $U,V$  соответственно."
   ]
  },
  {
   "cell_type": "markdown",
   "id": "55b7094a-3b1b-466e-9071-68ceee886a39",
   "metadata": {},
   "source": [
    "Найдем, когда достигается минимум  $M((u-a\\cdot v)^{2})$ для заданного $a$:\n",
    "    $$\\frac{\\partial(\\sigma _{u}^{2}-2\\cdot a\\cdot \\sigma _{u}\\cdot\\sigma _{v}\\cdot \\rho +a^{2}\\cdot \\sigma _{v}^{2})}{\\partial a}=-2\\cdot \\sigma _{u}\\cdot\\sigma _{v}\\cdot \\rho+2a\\sigma _{v}^{2}=0$$"
   ]
  },
  {
   "cell_type": "markdown",
   "id": "97acb2d9-70f5-4603-90da-b8e887c8326d",
   "metadata": {},
   "source": [
    "$$\\rho=\\frac{a\\sigma_v}{\\sigma_u}$$"
   ]
  },
  {
   "cell_type": "markdown",
   "id": "31750630-84fa-491c-8be9-830356a846d9",
   "metadata": {},
   "source": [
    "В этом случае ошибка достигает значения:\n",
    "$$\\sigma _{u}^{2}-2\\cdot a\\cdot \\sigma _{u}\\cdot\\sigma _{v}\\cdot \\frac{a\\sigma_v}{\\sigma_u} +a^{2}\\cdot \\sigma _{v}^{2}=\\sigma _{u}^{2}-a^2\\sigma_v^2=\\sigma_u^2(1-\\rho^2)$$"
   ]
  },
  {
   "cell_type": "markdown",
   "id": "ce987fab-ed4a-4486-a44a-3d40fef1156c",
   "metadata": {},
   "source": [
    "Из последнего видно, что чем больше $\\rho$, тем точнее можно описать величину $u$ через величину $v$ линейной зависимостью."
   ]
  },
  {
   "cell_type": "markdown",
   "id": "a64bf410-dee5-4e9b-aad5-ea8ba9d0c2f8",
   "metadata": {},
   "source": [
    "Для нахождения векторов  $\\alpha =(\\alpha _{1},\\alpha _{2},\\ldots,\\alpha _{n})$ и  $\\beta =(\\beta _{1},\\beta _{2},\\ldots ,\\beta _{m})$ выразим коэффициент корреляции между каноническими переменными  $u,v$:\n",
    " $$\\rho =\\frac{\\mathit{cov}(U,V)}{\\sigma _{u}\\cdot \\sigma _{v}}$$\n",
    "Обозначим:\n",
    "\n",
    " $R_{\\mathit{PP}}=P^T\\cdot P$ - ковариационная матрица факторов  $P$;\n",
    "\n",
    " $R_{\\mathit{WW}}=W^T\\cdot W$- ковариационная матрица показателей $W$;\n",
    "\n",
    " $R_{\\mathit{PW}}=P^T\\cdot W$- кросс ковариационная матрица между  $P$  и $W$."
   ]
  },
  {
   "cell_type": "markdown",
   "id": "c5669bae-ca85-4dab-a46f-31ba8fbf95fa",
   "metadata": {},
   "source": [
    "Получим:\n",
    "$$\\rho =\\frac{\\mathit{cov}(\\alpha \\cdot P^{T},\\beta \\cdot W^{T})}{\\sigma_{u}\\cdot \\sigma _{v}}=\\frac{\\alpha \\cdot P^{T}\\cdot (\\beta\\cdot W^T)^T}{k\\sigma_{u}\\cdot \\sigma _{v}}=\\frac{\\alpha \\cdot P^{T}\\cdot W\\cdot \\beta^T}{k\\sigma_{u}\\cdot \\sigma _{v}}$$\n",
    "\n",
    "С учетом введенных обозначений:\n",
    "\\begin{eqnarray}\\label{m_f5}\\nonumber\\frac{\\alpha \\cdot \\mathit{cov}(P,W)\\cdot \\beta ^{T}}{\\sigma _{u}\\cdot\\sigma _{v}}=\\\\\\\n",
    "  \\frac{\\alpha \\cdot R_{\\mathit{PW}}\\cdot \\beta^{T}}{\\sqrt{\\alpha \\cdot R_{\\mathit{PP}}\\cdot \\alpha ^{T}}\\cdot\\sqrt{\\beta \\cdot R_{\\mathit{WW}}\\cdot \\beta ^{T}}}\\end{eqnarray}"
   ]
  },
  {
   "cell_type": "markdown",
   "id": "24af7943-f26c-478e-880d-cab3faefe508",
   "metadata": {},
   "source": [
    "Введем также обозначения:\n",
    " $$\\begin{eqnarray}\\label{m_f6}c=\\sqrt{R_{\\mathit{PP}}}\\cdot \\alpha^{T},d=\\sqrt{R_{\\mathit{WW}}}\\cdot \\beta ^{T},\\end{eqnarray}$$\n",
    "откуда "
   ]
  },
  {
   "cell_type": "markdown",
   "id": "37f97cdd-9982-4ca3-b8fe-f3e72e2b5646",
   "metadata": {},
   "source": [
    " $$\\begin{eqnarray}\\label{m_f7}\\alpha =c^{T}\\cdot (R_{\\mathit{PP}})^{-1/2},\\end{eqnarray}$$\n",
    " $$\\begin{eqnarray}\\label{m_f8}\\beta ^{T}=(R_{\\mathit{WW}})^{-1/2}\\cdot d\\end{eqnarray}$$\n",
    "Тогда \n",
    " $$\\begin{eqnarray}\\label{m_f9}\\nonumber\\frac{\\alpha \\cdot R_{\\mathit{PW}}\\cdot \\beta ^{T}}{\\sqrt{\\alpha \\cdot R_{\\mathit{PP}}\\cdot \\alpha ^{T}}\\cdot \\sqrt{\\beta \\cdot R_{\\mathit{WW}}\\cdot \\beta ^{T}}}=\\\\\\frac{c^{T}\\cdot (R_{\\mathit{PP}})^{-1/2}\\cdot {R_{\\mathit{PW}}}\\cdot (R_{\\mathit{WW}})^{-1/2}\\cdot d}{\\sqrt{c^{T}\\cdot c\\cdot d^{T}\\cdot d}}\\end{eqnarray}$$"
   ]
  },
  {
   "cell_type": "markdown",
   "id": "63071fc3-5a3f-4db8-9e2c-3d3fac836da0",
   "metadata": {},
   "source": [
    "Рассмотрим выражение\n",
    "$$\\begin{eqnarray}\\label{m_f10}\\nonumber G\\cdot G^{T}=(c^{T}\\cdot (R_{\\mathit{PP}})^{-1/2}\\cdot{R_{\\mathit{PW}}}\\cdot (R_{\\mathit{WW}})^{-1/2})\\cdot \\\\\\ \\nonumber (c^{T}\\cdot(R_{\\mathit{PP}})^{-1/2}\\cdot {R_{\\mathit{PW}}}\\cdot(R_{\\mathit{WW}})^{-1/2})^{T}\\\\\\\n",
    "G\\cdot G^{T}=g_{1}^{2}+g_{2}^{2}+\\ldots+g_{m}^{2}\\end{eqnarray}$$\n",
    "а также\n",
    " $$d^{T}\\cdot d=d_{1}^{2}+d_{2}^{2}+\\ldots +d_{m}^{2}$$\n",
    "Используя неравенство Коши-Шварца, имеем:\n",
    "$$\\begin{equation*}\n",
    "\\sqrt{(g_{1}^{2}+g_{2}^{2}+\\ldots q_{m}^{2})\\cdot(d_{1}^{2}+d_{2}^{2}+\\ldots d_{m}^{2})}\\geqslant g_{1}\\cdot d_{1}+g_{2}\\cdot d_{2}+\\ldots g_{m}\\cdot d_{m}\n",
    "\\end{equation*}$$\n",
    "или  $\\sqrt{G\\cdot G^{T}\\cdot d^{T}\\cdot d}\\geqslant G\\cdot d$. "
   ]
  },
  {
   "cell_type": "markdown",
   "id": "6eb072b9-8d26-491b-b618-7f55c6b70c74",
   "metadata": {},
   "source": [
    "Поэтому\n",
    " $$\\begin{eqnarray}\\label{m_f11}\\nonumber \\rho =\\frac{c^{T}\\cdot (R_{\\mathit{PP}})^{-1/2}\\cdot{R_{\\mathit{PW}}}\\cdot (R_{\\mathit{WW}})^{-1/2}\\cdot d}{\\sqrt{c^{T}\\cdot c\\cdot d^{T}\\cdot d}}=\\frac{G\\cdot d}{\\sqrt{c^{T}\\cdot c\\cdot d^{T}\\cdot d}}\\leqslant  \\frac{\\sqrt{G\\cdot G^{T}\\cdot d^{T}\\cdot d}}{\\sqrt{c^{T}\\cdot c\\cdot d^{T}\\cdot d}}=\\frac{\\sqrt{G\\cdot G^{T}}}{\\sqrt{c^{T}\\cdot c}}\\end{eqnarray}$$\n",
    "Окончательно выражение можно переписать в виде:\n",
    "$$ \\begin{eqnarray}\\label{m_f12}\\rho \\leqslant \\frac{\\sqrt{c^{T}\\cdot (R_{\\mathit{PP}})^{-1/2}\\cdot R_{\\mathit{PW}}\\cdot (R_{\\mathit{WW}})^{-1}\\cdot {R_{WP}}\\cdot (R_{\\mathit{PP}})^{-1/2}\\cdot c}}{\\sqrt{c^{T}\\cdot c}}\\end{eqnarray}$$"
   ]
  },
  {
   "cell_type": "markdown",
   "id": "1e44a559-60c6-43b9-ab43-014539f76219",
   "metadata": {},
   "source": [
    "Если в качестве  $c$ взять собственный вектор матрицы  \n",
    "$$(R_{\\mathit{PP}})^{-1/2}\\cdot R_{\\mathit{PW}}\\cdot (R_{\\mathit{WW}})^{-1}\\cdot {R_{WP}}\\cdot (R_{\\mathit{PP}})^{-1/2},$$ \n",
    "то  $$(R_{\\mathit{PP}})^{-1/2}\\cdot R_{\\mathit{PW}}\\cdot (R_{\\mathit{WW}})^{-1}\\cdot {R_{WP}}\\cdot (R_{\\mathit{PP}})^{-1/2}\\cdot c=\\lambda \\cdot c,$$\n",
    "где  $\\lambda $ - собственное значение, соответствующее собственному вектору  $c,$  тогда\n",
    "$$ \\begin{eqnarray}\\label{m_f13}\\rho \\leqslant \\frac{\\sqrt{c^{T}\\lambda \\cdot c}}{\\sqrt{c^{T}\\cdot c}}=\\sqrt{\\lambda }\\end{eqnarray}$$"
   ]
  },
  {
   "cell_type": "markdown",
   "id": "9b2ff4f9-127d-4549-aa4d-dfd04e653a5a",
   "metadata": {},
   "source": [
    "Зная  $c$, можно найти искомый вектор  $\\alpha =(\\alpha _{1},\\alpha _{2},\\ldots ,\\alpha _{n})=c^{T}\\cdot (R_{\\mathit{PP}})^{-1/2}.$\n",
    "\n",
    "Для нахождения вектора  $\\beta $ заметим, что  можно выполнить другую группировку, а именно, взяв в качестве матрицы  $G$ матрицу  $$G'=(R_{\\mathit{PP}})^{-1/2}\\cdot {R_{\\mathit{PW}}}\\cdot (R_{\\mathit{WW}})^{-1/2}\\cdot d$$  и рассмотрев произведение  $$(G')^{T}\\cdot G'=d^{T}\\cdot (R_{\\mathit{WW}})^{(-1/2)}\\cdot R_{WP}\\cdot R_{\\mathit{PP}}^{-1}\\cdot R_{\\mathit{PW}}\\cdot (R_{\\mathit{WW}})^{-1/2}\\cdot d$$\n",
    "\n",
    "Тогда в качестве  $d$ следует взять собственный вектор матрицы  $$(R_{\\mathit{WW}})^{(-1/2)}\\cdot R_{WP}\\cdot R_{\\mathit{PP}}^{-1}\\cdot R_{\\mathit{PW}}\\cdot (R_{\\mathit{WW}})^{-1/2}$$ после чего можно выразить искомый вектор $\\beta =(\\beta _{1},\\beta _{2},\\ldots ,\\beta _{m})=d^T\\cdot (R_{WW})^{1/2}$."
   ]
  },
  {
   "cell_type": "markdown",
   "id": "da708eb0-ff6d-4202-908b-391ede7076ce",
   "metadata": {},
   "source": [
    "Поскольку для матрицы  $$(R_{\\mathit{PP}})^{-1/2}\\cdot R_{\\mathit{PW}}\\cdot (R_{\\mathit{WW}})^{-1}\\cdot {R_{WP}}\\cdot (R_{\\mathit{PP}})^{-1/2}$$  существует несколько собственных векторов, отличающихся величиной собственного значения, то в практике использования канонического корреляционного анализа находят  $\\mathit{min}(n,m)$ собственных векторов с последовательно убывающими собственными значениями, что соответствует группе канонических переменных:  $$\\{(U_{1},V_{1}),(U_{2},V_{2}),\\ldots,(U_{\\mathit{min}(n,m)},V_{\\mathit{min}(n,m)})\\}$$ с соответствующими\n",
    "последовательно убывающими каноническими корреляциями:  $$\\{\\rho_{1},\\rho _{2},\\ldots ,\\rho _{\\mathit{min}(n,m)}\\}$$ Причем за счет ортогональности собственных векторов выполнено условие:\n",
    " $$\\mathit{cor}(U_{i},U_{j})=\\mathit{cor}(V_{i},V_{j})=0,i\\neq j$$\n",
    "Чем больше канонические корреляции, тем сильнее связаны группы показателей  $P$  и   $W$ . \n",
    "\n",
    "Поэтому естественным образом возникает вопрос проверки значимости канонических переменных. Для этой цели в теории канонического корреляционного анализа традиционно используют критерий Пирсона  $\\chi^{2}$. Если вычислено  $s=\\mathit{min}(n,m)$  канонических корреляций  $\\rho _{1}<\\rho _{2}<\\ldots <\\rho _{s}$ , то выдвигаются  $s$ нулевых гипотез:\n",
    " $$H_{0j}:\\rho _{j}=0,j=1,...,s$$\n",
    "При проверке гипотез статистика  $\\chi^{2}$  вычисляется по формуле:\n",
    "$$ \\begin{eqnarray}\\label{m_f14} \\chi_{j}^{2}=(k-j-\\frac{1}{2}\\cdot (m+n+1)+\\sum _{l=1}^{j-1}\\rho_{l}^{2})\\cdot \\ln \\prod _{h=j}^{s}(1-\\rho _{h}^{2}), \\end{eqnarray}$$\n",
    "где  $k$ - объем исходной выборки (на практике целесообразно использовать выборки  $k>200$, на выборках  $k<50$  может быть определена лишь сильная каноническая корреляция); $n$  - количество влияющих факторов ; $m$  - количество результативных показателей; $\\rho _{l},\\rho _{h}$ -  оценки  $l,h$-го коэффициента канонической корреляции. \n",
    "\n",
    "Число степеней свободы статистики равно  $(n-j+1)\\cdot (m-j+1)$. Если значение статистики превосходит критическое значение при заданном уровне значимости  $\\alpha $, или  достигнутый уровень значимости  $p$ не превосходит  $\\alpha $ , то данные противоречат гипотезе  $H_{0j}:\\rho _{j}=0$  и значит  $\\rho _{j}$  отлично от нуля. Если нулевая гипотеза не отвергается для  $\\rho _{j}$ , то равны нулю и все последующие канонические корреляции  $\\rho _{l}=0,l=j,...,s$ "
   ]
  },
  {
   "cell_type": "markdown",
   "id": "9ca6d60b-ca6b-4587-b634-e9f8ae8272ee",
   "metadata": {},
   "source": [
    "В среде R для вычисления канонических переменных используется библиотека CCA:"
   ]
  },
  {
   "cell_type": "code",
   "execution_count": 47,
   "id": "9caee08f-1bfb-4590-bbd6-6842717edb94",
   "metadata": {},
   "outputs": [
    {
     "name": "stderr",
     "output_type": "stream",
     "text": [
      "Installing package into ‘/home/juna/R/x86_64-pc-linux-gnu-library/3.5’\n",
      "(as ‘lib’ is unspecified)\n",
      "\n",
      "also installing the dependencies ‘hdrcde’, ‘ks’, ‘rainbow’, ‘fds’, ‘fda’\n",
      "\n",
      "\n",
      "Warning message in install.packages(\"CCA\"):\n",
      "“installation of package ‘ks’ had non-zero exit status”\n",
      "Warning message in install.packages(\"CCA\"):\n",
      "“installation of package ‘hdrcde’ had non-zero exit status”\n",
      "Warning message in install.packages(\"CCA\"):\n",
      "“installation of package ‘rainbow’ had non-zero exit status”\n",
      "Warning message in install.packages(\"CCA\"):\n",
      "“installation of package ‘fds’ had non-zero exit status”\n",
      "Warning message in install.packages(\"CCA\"):\n",
      "“installation of package ‘fda’ had non-zero exit status”\n",
      "Warning message in install.packages(\"CCA\"):\n",
      "“installation of package ‘CCA’ had non-zero exit status”\n"
     ]
    },
    {
     "ename": "ERROR",
     "evalue": "Error in library(CCA): there is no package called ‘CCA’\n",
     "output_type": "error",
     "traceback": [
      "Error in library(CCA): there is no package called ‘CCA’\nTraceback:\n",
      "1. library(CCA)",
      "2. stop(txt, domain = NA)"
     ]
    }
   ],
   "source": [
    "install.packages(\"CCA\")\n",
    "library(CCA)"
   ]
  },
  {
   "cell_type": "markdown",
   "id": "33657733-3e5e-428d-9e4a-ef9a75006742",
   "metadata": {},
   "source": [
    "Проведем исследование на примере датасета преступности в США:"
   ]
  },
  {
   "cell_type": "code",
   "execution_count": 48,
   "id": "3819598c-c974-499a-8139-bd5d2b99dcb0",
   "metadata": {},
   "outputs": [
    {
     "data": {
      "text/html": [
       "<table class=\"dataframe\">\n",
       "<caption>A data.frame: 47 × 17</caption>\n",
       "<thead>\n",
       "\t<tr><th scope=col>X</th><th scope=col>M</th><th scope=col>So</th><th scope=col>Ed</th><th scope=col>Po1</th><th scope=col>Po2</th><th scope=col>LF</th><th scope=col>M.F</th><th scope=col>Pop</th><th scope=col>NW</th><th scope=col>U1</th><th scope=col>U2</th><th scope=col>GDP</th><th scope=col>Ineq</th><th scope=col>Prob</th><th scope=col>Time</th><th scope=col>y</th></tr>\n",
       "\t<tr><th scope=col>&lt;int&gt;</th><th scope=col>&lt;int&gt;</th><th scope=col>&lt;int&gt;</th><th scope=col>&lt;int&gt;</th><th scope=col>&lt;int&gt;</th><th scope=col>&lt;int&gt;</th><th scope=col>&lt;int&gt;</th><th scope=col>&lt;int&gt;</th><th scope=col>&lt;int&gt;</th><th scope=col>&lt;int&gt;</th><th scope=col>&lt;int&gt;</th><th scope=col>&lt;int&gt;</th><th scope=col>&lt;int&gt;</th><th scope=col>&lt;int&gt;</th><th scope=col>&lt;dbl&gt;</th><th scope=col>&lt;dbl&gt;</th><th scope=col>&lt;int&gt;</th></tr>\n",
       "</thead>\n",
       "<tbody>\n",
       "\t<tr><td> 1</td><td>151</td><td>1</td><td> 91</td><td> 58</td><td> 56</td><td>510</td><td> 950</td><td> 33</td><td>301</td><td>108</td><td>41</td><td>394</td><td>261</td><td>0.084602</td><td>26.2011</td><td> 791</td></tr>\n",
       "\t<tr><td> 2</td><td>143</td><td>0</td><td>113</td><td>103</td><td> 95</td><td>583</td><td>1012</td><td> 13</td><td>102</td><td> 96</td><td>36</td><td>557</td><td>194</td><td>0.029599</td><td>25.2999</td><td>1635</td></tr>\n",
       "\t<tr><td> 3</td><td>142</td><td>1</td><td> 89</td><td> 45</td><td> 44</td><td>533</td><td> 969</td><td> 18</td><td>219</td><td> 94</td><td>33</td><td>318</td><td>250</td><td>0.083401</td><td>24.3006</td><td> 578</td></tr>\n",
       "\t<tr><td> 4</td><td>136</td><td>0</td><td>121</td><td>149</td><td>141</td><td>577</td><td> 994</td><td>157</td><td> 80</td><td>102</td><td>39</td><td>673</td><td>167</td><td>0.015801</td><td>29.9012</td><td>1969</td></tr>\n",
       "\t<tr><td> 5</td><td>141</td><td>0</td><td>121</td><td>109</td><td>101</td><td>591</td><td> 985</td><td> 18</td><td> 30</td><td> 91</td><td>20</td><td>578</td><td>174</td><td>0.041399</td><td>21.2998</td><td>1234</td></tr>\n",
       "\t<tr><td> 6</td><td>121</td><td>0</td><td>110</td><td>118</td><td>115</td><td>547</td><td> 964</td><td> 25</td><td> 44</td><td> 84</td><td>29</td><td>689</td><td>126</td><td>0.034201</td><td>20.9995</td><td> 682</td></tr>\n",
       "\t<tr><td> 7</td><td>127</td><td>1</td><td>111</td><td> 82</td><td> 79</td><td>519</td><td> 982</td><td>  4</td><td>139</td><td> 97</td><td>38</td><td>620</td><td>168</td><td>0.042100</td><td>20.6993</td><td> 963</td></tr>\n",
       "\t<tr><td> 8</td><td>131</td><td>1</td><td>109</td><td>115</td><td>109</td><td>542</td><td> 969</td><td> 50</td><td>179</td><td> 79</td><td>35</td><td>472</td><td>206</td><td>0.040099</td><td>24.5988</td><td>1555</td></tr>\n",
       "\t<tr><td> 9</td><td>157</td><td>1</td><td> 90</td><td> 65</td><td> 62</td><td>553</td><td> 955</td><td> 39</td><td>286</td><td> 81</td><td>28</td><td>421</td><td>239</td><td>0.071697</td><td>29.4001</td><td> 856</td></tr>\n",
       "\t<tr><td>10</td><td>140</td><td>0</td><td>118</td><td> 71</td><td> 68</td><td>632</td><td>1029</td><td>  7</td><td> 15</td><td>100</td><td>24</td><td>526</td><td>174</td><td>0.044498</td><td>19.5994</td><td> 705</td></tr>\n",
       "\t<tr><td>11</td><td>124</td><td>0</td><td>105</td><td>121</td><td>116</td><td>580</td><td> 966</td><td>101</td><td>106</td><td> 77</td><td>35</td><td>657</td><td>170</td><td>0.016201</td><td>41.6000</td><td>1674</td></tr>\n",
       "\t<tr><td>12</td><td>134</td><td>0</td><td>108</td><td> 75</td><td> 71</td><td>595</td><td> 972</td><td> 47</td><td> 59</td><td> 83</td><td>31</td><td>580</td><td>172</td><td>0.031201</td><td>34.2984</td><td> 849</td></tr>\n",
       "\t<tr><td>13</td><td>128</td><td>0</td><td>113</td><td> 67</td><td> 60</td><td>624</td><td> 972</td><td> 28</td><td> 10</td><td> 77</td><td>25</td><td>507</td><td>206</td><td>0.045302</td><td>36.2993</td><td> 511</td></tr>\n",
       "\t<tr><td>14</td><td>135</td><td>0</td><td>117</td><td> 62</td><td> 61</td><td>595</td><td> 986</td><td> 22</td><td> 46</td><td> 77</td><td>27</td><td>529</td><td>190</td><td>0.053200</td><td>21.5010</td><td> 664</td></tr>\n",
       "\t<tr><td>15</td><td>152</td><td>1</td><td> 87</td><td> 57</td><td> 53</td><td>530</td><td> 986</td><td> 30</td><td> 72</td><td> 92</td><td>43</td><td>405</td><td>264</td><td>0.069100</td><td>22.7008</td><td> 798</td></tr>\n",
       "\t<tr><td>16</td><td>142</td><td>1</td><td> 88</td><td> 81</td><td> 77</td><td>497</td><td> 956</td><td> 33</td><td>321</td><td>116</td><td>47</td><td>427</td><td>247</td><td>0.052099</td><td>26.0991</td><td> 946</td></tr>\n",
       "\t<tr><td>17</td><td>143</td><td>0</td><td>110</td><td> 66</td><td> 63</td><td>537</td><td> 977</td><td> 10</td><td>  6</td><td>114</td><td>35</td><td>487</td><td>166</td><td>0.076299</td><td>19.1002</td><td> 539</td></tr>\n",
       "\t<tr><td>18</td><td>135</td><td>1</td><td>104</td><td>123</td><td>115</td><td>537</td><td> 978</td><td> 31</td><td>170</td><td> 89</td><td>34</td><td>631</td><td>165</td><td>0.119804</td><td>18.1996</td><td> 929</td></tr>\n",
       "\t<tr><td>19</td><td>130</td><td>0</td><td>116</td><td>128</td><td>128</td><td>536</td><td> 934</td><td> 51</td><td> 24</td><td> 78</td><td>34</td><td>627</td><td>135</td><td>0.019099</td><td>24.9008</td><td> 750</td></tr>\n",
       "\t<tr><td>20</td><td>125</td><td>0</td><td>108</td><td>113</td><td>105</td><td>567</td><td> 985</td><td> 78</td><td> 94</td><td>130</td><td>58</td><td>626</td><td>166</td><td>0.034801</td><td>26.4010</td><td>1225</td></tr>\n",
       "\t<tr><td>21</td><td>126</td><td>0</td><td>108</td><td> 74</td><td> 67</td><td>602</td><td> 984</td><td> 34</td><td> 12</td><td>102</td><td>33</td><td>557</td><td>195</td><td>0.022800</td><td>37.5998</td><td> 742</td></tr>\n",
       "\t<tr><td>22</td><td>157</td><td>1</td><td> 89</td><td> 47</td><td> 44</td><td>512</td><td> 962</td><td> 22</td><td>423</td><td> 97</td><td>34</td><td>288</td><td>276</td><td>0.089502</td><td>37.0994</td><td> 439</td></tr>\n",
       "\t<tr><td>23</td><td>132</td><td>0</td><td> 96</td><td> 87</td><td> 83</td><td>564</td><td> 953</td><td> 43</td><td> 92</td><td> 83</td><td>32</td><td>513</td><td>227</td><td>0.030700</td><td>25.1989</td><td>1216</td></tr>\n",
       "\t<tr><td>24</td><td>131</td><td>0</td><td>116</td><td> 78</td><td> 73</td><td>574</td><td>1038</td><td>  7</td><td> 36</td><td>142</td><td>42</td><td>540</td><td>176</td><td>0.041598</td><td>17.6000</td><td> 968</td></tr>\n",
       "\t<tr><td>25</td><td>130</td><td>0</td><td>116</td><td> 63</td><td> 57</td><td>641</td><td> 984</td><td> 14</td><td> 26</td><td> 70</td><td>21</td><td>486</td><td>196</td><td>0.069197</td><td>21.9003</td><td> 523</td></tr>\n",
       "\t<tr><td>26</td><td>131</td><td>0</td><td>121</td><td>160</td><td>143</td><td>631</td><td>1071</td><td>  3</td><td> 77</td><td>102</td><td>41</td><td>674</td><td>152</td><td>0.041698</td><td>22.1005</td><td>1993</td></tr>\n",
       "\t<tr><td>27</td><td>135</td><td>0</td><td>109</td><td> 69</td><td> 71</td><td>540</td><td> 965</td><td>  6</td><td>  4</td><td> 80</td><td>22</td><td>564</td><td>139</td><td>0.036099</td><td>28.4999</td><td> 342</td></tr>\n",
       "\t<tr><td>28</td><td>152</td><td>0</td><td>112</td><td> 82</td><td> 76</td><td>571</td><td>1018</td><td> 10</td><td> 79</td><td>103</td><td>28</td><td>537</td><td>215</td><td>0.038201</td><td>25.8006</td><td>1216</td></tr>\n",
       "\t<tr><td>29</td><td>119</td><td>0</td><td>107</td><td>166</td><td>157</td><td>521</td><td> 938</td><td>168</td><td> 89</td><td> 92</td><td>36</td><td>637</td><td>154</td><td>0.023400</td><td>36.7009</td><td>1043</td></tr>\n",
       "\t<tr><td>30</td><td>166</td><td>1</td><td> 89</td><td> 58</td><td> 54</td><td>521</td><td> 973</td><td> 46</td><td>254</td><td> 72</td><td>26</td><td>396</td><td>237</td><td>0.075298</td><td>28.3011</td><td> 696</td></tr>\n",
       "\t<tr><td>31</td><td>140</td><td>0</td><td> 93</td><td> 55</td><td> 54</td><td>535</td><td>1045</td><td>  6</td><td> 20</td><td>135</td><td>40</td><td>453</td><td>200</td><td>0.041999</td><td>21.7998</td><td> 373</td></tr>\n",
       "\t<tr><td>32</td><td>125</td><td>0</td><td>109</td><td> 90</td><td> 81</td><td>586</td><td> 964</td><td> 97</td><td> 82</td><td>105</td><td>43</td><td>617</td><td>163</td><td>0.042698</td><td>30.9014</td><td> 754</td></tr>\n",
       "\t<tr><td>33</td><td>147</td><td>1</td><td>104</td><td> 63</td><td> 64</td><td>560</td><td> 972</td><td> 23</td><td> 95</td><td> 76</td><td>24</td><td>462</td><td>233</td><td>0.049499</td><td>25.5005</td><td>1072</td></tr>\n",
       "\t<tr><td>34</td><td>126</td><td>0</td><td>118</td><td> 97</td><td> 97</td><td>542</td><td> 990</td><td> 18</td><td> 21</td><td>102</td><td>35</td><td>589</td><td>166</td><td>0.040799</td><td>21.6997</td><td> 923</td></tr>\n",
       "\t<tr><td>35</td><td>123</td><td>0</td><td>102</td><td> 97</td><td> 87</td><td>526</td><td> 948</td><td>113</td><td> 76</td><td>124</td><td>50</td><td>572</td><td>158</td><td>0.020700</td><td>37.4011</td><td> 653</td></tr>\n",
       "\t<tr><td>36</td><td>150</td><td>0</td><td>100</td><td>109</td><td> 98</td><td>531</td><td> 964</td><td>  9</td><td> 24</td><td> 87</td><td>38</td><td>559</td><td>153</td><td>0.006900</td><td>44.0004</td><td>1272</td></tr>\n",
       "\t<tr><td>37</td><td>177</td><td>1</td><td> 87</td><td> 58</td><td> 56</td><td>638</td><td> 974</td><td> 24</td><td>349</td><td> 76</td><td>28</td><td>382</td><td>254</td><td>0.045198</td><td>31.6995</td><td> 831</td></tr>\n",
       "\t<tr><td>38</td><td>133</td><td>0</td><td>104</td><td> 51</td><td> 47</td><td>599</td><td>1024</td><td>  7</td><td> 40</td><td> 99</td><td>27</td><td>425</td><td>225</td><td>0.053998</td><td>16.6999</td><td> 566</td></tr>\n",
       "\t<tr><td>39</td><td>149</td><td>1</td><td> 88</td><td> 61</td><td> 54</td><td>515</td><td> 953</td><td> 36</td><td>165</td><td> 86</td><td>35</td><td>395</td><td>251</td><td>0.047099</td><td>27.3004</td><td> 826</td></tr>\n",
       "\t<tr><td>40</td><td>145</td><td>1</td><td>104</td><td> 82</td><td> 74</td><td>560</td><td> 981</td><td> 96</td><td>126</td><td> 88</td><td>31</td><td>488</td><td>228</td><td>0.038801</td><td>29.3004</td><td>1151</td></tr>\n",
       "\t<tr><td>41</td><td>148</td><td>0</td><td>122</td><td> 72</td><td> 66</td><td>601</td><td> 998</td><td>  9</td><td> 19</td><td> 84</td><td>20</td><td>590</td><td>144</td><td>0.025100</td><td>30.0001</td><td> 880</td></tr>\n",
       "\t<tr><td>42</td><td>141</td><td>0</td><td>109</td><td> 56</td><td> 54</td><td>523</td><td> 968</td><td>  4</td><td>  2</td><td>107</td><td>37</td><td>489</td><td>170</td><td>0.088904</td><td>12.1996</td><td> 542</td></tr>\n",
       "\t<tr><td>43</td><td>162</td><td>1</td><td> 99</td><td> 75</td><td> 70</td><td>522</td><td> 996</td><td> 40</td><td>208</td><td> 73</td><td>27</td><td>496</td><td>224</td><td>0.054902</td><td>31.9989</td><td> 823</td></tr>\n",
       "\t<tr><td>44</td><td>136</td><td>0</td><td>121</td><td> 95</td><td> 96</td><td>574</td><td>1012</td><td> 29</td><td> 36</td><td>111</td><td>37</td><td>622</td><td>162</td><td>0.028100</td><td>30.0001</td><td>1030</td></tr>\n",
       "\t<tr><td>45</td><td>139</td><td>1</td><td> 88</td><td> 46</td><td> 41</td><td>480</td><td> 968</td><td> 19</td><td> 49</td><td>135</td><td>53</td><td>457</td><td>249</td><td>0.056202</td><td>32.5996</td><td> 455</td></tr>\n",
       "\t<tr><td>46</td><td>126</td><td>0</td><td>104</td><td>106</td><td> 97</td><td>599</td><td> 989</td><td> 40</td><td> 24</td><td> 78</td><td>25</td><td>593</td><td>171</td><td>0.046598</td><td>16.6999</td><td> 508</td></tr>\n",
       "\t<tr><td>47</td><td>130</td><td>0</td><td>121</td><td> 90</td><td> 91</td><td>623</td><td>1049</td><td>  3</td><td> 22</td><td>113</td><td>40</td><td>588</td><td>160</td><td>0.052802</td><td>16.0997</td><td> 849</td></tr>\n",
       "</tbody>\n",
       "</table>\n"
      ],
      "text/latex": [
       "A data.frame: 47 × 17\n",
       "\\begin{tabular}{lllllllllllllllll}\n",
       " X & M & So & Ed & Po1 & Po2 & LF & M.F & Pop & NW & U1 & U2 & GDP & Ineq & Prob & Time & y\\\\\n",
       " <int> & <int> & <int> & <int> & <int> & <int> & <int> & <int> & <int> & <int> & <int> & <int> & <int> & <int> & <dbl> & <dbl> & <int>\\\\\n",
       "\\hline\n",
       "\t  1 & 151 & 1 &  91 &  58 &  56 & 510 &  950 &  33 & 301 & 108 & 41 & 394 & 261 & 0.084602 & 26.2011 &  791\\\\\n",
       "\t  2 & 143 & 0 & 113 & 103 &  95 & 583 & 1012 &  13 & 102 &  96 & 36 & 557 & 194 & 0.029599 & 25.2999 & 1635\\\\\n",
       "\t  3 & 142 & 1 &  89 &  45 &  44 & 533 &  969 &  18 & 219 &  94 & 33 & 318 & 250 & 0.083401 & 24.3006 &  578\\\\\n",
       "\t  4 & 136 & 0 & 121 & 149 & 141 & 577 &  994 & 157 &  80 & 102 & 39 & 673 & 167 & 0.015801 & 29.9012 & 1969\\\\\n",
       "\t  5 & 141 & 0 & 121 & 109 & 101 & 591 &  985 &  18 &  30 &  91 & 20 & 578 & 174 & 0.041399 & 21.2998 & 1234\\\\\n",
       "\t  6 & 121 & 0 & 110 & 118 & 115 & 547 &  964 &  25 &  44 &  84 & 29 & 689 & 126 & 0.034201 & 20.9995 &  682\\\\\n",
       "\t  7 & 127 & 1 & 111 &  82 &  79 & 519 &  982 &   4 & 139 &  97 & 38 & 620 & 168 & 0.042100 & 20.6993 &  963\\\\\n",
       "\t  8 & 131 & 1 & 109 & 115 & 109 & 542 &  969 &  50 & 179 &  79 & 35 & 472 & 206 & 0.040099 & 24.5988 & 1555\\\\\n",
       "\t  9 & 157 & 1 &  90 &  65 &  62 & 553 &  955 &  39 & 286 &  81 & 28 & 421 & 239 & 0.071697 & 29.4001 &  856\\\\\n",
       "\t 10 & 140 & 0 & 118 &  71 &  68 & 632 & 1029 &   7 &  15 & 100 & 24 & 526 & 174 & 0.044498 & 19.5994 &  705\\\\\n",
       "\t 11 & 124 & 0 & 105 & 121 & 116 & 580 &  966 & 101 & 106 &  77 & 35 & 657 & 170 & 0.016201 & 41.6000 & 1674\\\\\n",
       "\t 12 & 134 & 0 & 108 &  75 &  71 & 595 &  972 &  47 &  59 &  83 & 31 & 580 & 172 & 0.031201 & 34.2984 &  849\\\\\n",
       "\t 13 & 128 & 0 & 113 &  67 &  60 & 624 &  972 &  28 &  10 &  77 & 25 & 507 & 206 & 0.045302 & 36.2993 &  511\\\\\n",
       "\t 14 & 135 & 0 & 117 &  62 &  61 & 595 &  986 &  22 &  46 &  77 & 27 & 529 & 190 & 0.053200 & 21.5010 &  664\\\\\n",
       "\t 15 & 152 & 1 &  87 &  57 &  53 & 530 &  986 &  30 &  72 &  92 & 43 & 405 & 264 & 0.069100 & 22.7008 &  798\\\\\n",
       "\t 16 & 142 & 1 &  88 &  81 &  77 & 497 &  956 &  33 & 321 & 116 & 47 & 427 & 247 & 0.052099 & 26.0991 &  946\\\\\n",
       "\t 17 & 143 & 0 & 110 &  66 &  63 & 537 &  977 &  10 &   6 & 114 & 35 & 487 & 166 & 0.076299 & 19.1002 &  539\\\\\n",
       "\t 18 & 135 & 1 & 104 & 123 & 115 & 537 &  978 &  31 & 170 &  89 & 34 & 631 & 165 & 0.119804 & 18.1996 &  929\\\\\n",
       "\t 19 & 130 & 0 & 116 & 128 & 128 & 536 &  934 &  51 &  24 &  78 & 34 & 627 & 135 & 0.019099 & 24.9008 &  750\\\\\n",
       "\t 20 & 125 & 0 & 108 & 113 & 105 & 567 &  985 &  78 &  94 & 130 & 58 & 626 & 166 & 0.034801 & 26.4010 & 1225\\\\\n",
       "\t 21 & 126 & 0 & 108 &  74 &  67 & 602 &  984 &  34 &  12 & 102 & 33 & 557 & 195 & 0.022800 & 37.5998 &  742\\\\\n",
       "\t 22 & 157 & 1 &  89 &  47 &  44 & 512 &  962 &  22 & 423 &  97 & 34 & 288 & 276 & 0.089502 & 37.0994 &  439\\\\\n",
       "\t 23 & 132 & 0 &  96 &  87 &  83 & 564 &  953 &  43 &  92 &  83 & 32 & 513 & 227 & 0.030700 & 25.1989 & 1216\\\\\n",
       "\t 24 & 131 & 0 & 116 &  78 &  73 & 574 & 1038 &   7 &  36 & 142 & 42 & 540 & 176 & 0.041598 & 17.6000 &  968\\\\\n",
       "\t 25 & 130 & 0 & 116 &  63 &  57 & 641 &  984 &  14 &  26 &  70 & 21 & 486 & 196 & 0.069197 & 21.9003 &  523\\\\\n",
       "\t 26 & 131 & 0 & 121 & 160 & 143 & 631 & 1071 &   3 &  77 & 102 & 41 & 674 & 152 & 0.041698 & 22.1005 & 1993\\\\\n",
       "\t 27 & 135 & 0 & 109 &  69 &  71 & 540 &  965 &   6 &   4 &  80 & 22 & 564 & 139 & 0.036099 & 28.4999 &  342\\\\\n",
       "\t 28 & 152 & 0 & 112 &  82 &  76 & 571 & 1018 &  10 &  79 & 103 & 28 & 537 & 215 & 0.038201 & 25.8006 & 1216\\\\\n",
       "\t 29 & 119 & 0 & 107 & 166 & 157 & 521 &  938 & 168 &  89 &  92 & 36 & 637 & 154 & 0.023400 & 36.7009 & 1043\\\\\n",
       "\t 30 & 166 & 1 &  89 &  58 &  54 & 521 &  973 &  46 & 254 &  72 & 26 & 396 & 237 & 0.075298 & 28.3011 &  696\\\\\n",
       "\t 31 & 140 & 0 &  93 &  55 &  54 & 535 & 1045 &   6 &  20 & 135 & 40 & 453 & 200 & 0.041999 & 21.7998 &  373\\\\\n",
       "\t 32 & 125 & 0 & 109 &  90 &  81 & 586 &  964 &  97 &  82 & 105 & 43 & 617 & 163 & 0.042698 & 30.9014 &  754\\\\\n",
       "\t 33 & 147 & 1 & 104 &  63 &  64 & 560 &  972 &  23 &  95 &  76 & 24 & 462 & 233 & 0.049499 & 25.5005 & 1072\\\\\n",
       "\t 34 & 126 & 0 & 118 &  97 &  97 & 542 &  990 &  18 &  21 & 102 & 35 & 589 & 166 & 0.040799 & 21.6997 &  923\\\\\n",
       "\t 35 & 123 & 0 & 102 &  97 &  87 & 526 &  948 & 113 &  76 & 124 & 50 & 572 & 158 & 0.020700 & 37.4011 &  653\\\\\n",
       "\t 36 & 150 & 0 & 100 & 109 &  98 & 531 &  964 &   9 &  24 &  87 & 38 & 559 & 153 & 0.006900 & 44.0004 & 1272\\\\\n",
       "\t 37 & 177 & 1 &  87 &  58 &  56 & 638 &  974 &  24 & 349 &  76 & 28 & 382 & 254 & 0.045198 & 31.6995 &  831\\\\\n",
       "\t 38 & 133 & 0 & 104 &  51 &  47 & 599 & 1024 &   7 &  40 &  99 & 27 & 425 & 225 & 0.053998 & 16.6999 &  566\\\\\n",
       "\t 39 & 149 & 1 &  88 &  61 &  54 & 515 &  953 &  36 & 165 &  86 & 35 & 395 & 251 & 0.047099 & 27.3004 &  826\\\\\n",
       "\t 40 & 145 & 1 & 104 &  82 &  74 & 560 &  981 &  96 & 126 &  88 & 31 & 488 & 228 & 0.038801 & 29.3004 & 1151\\\\\n",
       "\t 41 & 148 & 0 & 122 &  72 &  66 & 601 &  998 &   9 &  19 &  84 & 20 & 590 & 144 & 0.025100 & 30.0001 &  880\\\\\n",
       "\t 42 & 141 & 0 & 109 &  56 &  54 & 523 &  968 &   4 &   2 & 107 & 37 & 489 & 170 & 0.088904 & 12.1996 &  542\\\\\n",
       "\t 43 & 162 & 1 &  99 &  75 &  70 & 522 &  996 &  40 & 208 &  73 & 27 & 496 & 224 & 0.054902 & 31.9989 &  823\\\\\n",
       "\t 44 & 136 & 0 & 121 &  95 &  96 & 574 & 1012 &  29 &  36 & 111 & 37 & 622 & 162 & 0.028100 & 30.0001 & 1030\\\\\n",
       "\t 45 & 139 & 1 &  88 &  46 &  41 & 480 &  968 &  19 &  49 & 135 & 53 & 457 & 249 & 0.056202 & 32.5996 &  455\\\\\n",
       "\t 46 & 126 & 0 & 104 & 106 &  97 & 599 &  989 &  40 &  24 &  78 & 25 & 593 & 171 & 0.046598 & 16.6999 &  508\\\\\n",
       "\t 47 & 130 & 0 & 121 &  90 &  91 & 623 & 1049 &   3 &  22 & 113 & 40 & 588 & 160 & 0.052802 & 16.0997 &  849\\\\\n",
       "\\end{tabular}\n"
      ],
      "text/markdown": [
       "\n",
       "A data.frame: 47 × 17\n",
       "\n",
       "| X &lt;int&gt; | M &lt;int&gt; | So &lt;int&gt; | Ed &lt;int&gt; | Po1 &lt;int&gt; | Po2 &lt;int&gt; | LF &lt;int&gt; | M.F &lt;int&gt; | Pop &lt;int&gt; | NW &lt;int&gt; | U1 &lt;int&gt; | U2 &lt;int&gt; | GDP &lt;int&gt; | Ineq &lt;int&gt; | Prob &lt;dbl&gt; | Time &lt;dbl&gt; | y &lt;int&gt; |\n",
       "|---|---|---|---|---|---|---|---|---|---|---|---|---|---|---|---|---|\n",
       "|  1 | 151 | 1 |  91 |  58 |  56 | 510 |  950 |  33 | 301 | 108 | 41 | 394 | 261 | 0.084602 | 26.2011 |  791 |\n",
       "|  2 | 143 | 0 | 113 | 103 |  95 | 583 | 1012 |  13 | 102 |  96 | 36 | 557 | 194 | 0.029599 | 25.2999 | 1635 |\n",
       "|  3 | 142 | 1 |  89 |  45 |  44 | 533 |  969 |  18 | 219 |  94 | 33 | 318 | 250 | 0.083401 | 24.3006 |  578 |\n",
       "|  4 | 136 | 0 | 121 | 149 | 141 | 577 |  994 | 157 |  80 | 102 | 39 | 673 | 167 | 0.015801 | 29.9012 | 1969 |\n",
       "|  5 | 141 | 0 | 121 | 109 | 101 | 591 |  985 |  18 |  30 |  91 | 20 | 578 | 174 | 0.041399 | 21.2998 | 1234 |\n",
       "|  6 | 121 | 0 | 110 | 118 | 115 | 547 |  964 |  25 |  44 |  84 | 29 | 689 | 126 | 0.034201 | 20.9995 |  682 |\n",
       "|  7 | 127 | 1 | 111 |  82 |  79 | 519 |  982 |   4 | 139 |  97 | 38 | 620 | 168 | 0.042100 | 20.6993 |  963 |\n",
       "|  8 | 131 | 1 | 109 | 115 | 109 | 542 |  969 |  50 | 179 |  79 | 35 | 472 | 206 | 0.040099 | 24.5988 | 1555 |\n",
       "|  9 | 157 | 1 |  90 |  65 |  62 | 553 |  955 |  39 | 286 |  81 | 28 | 421 | 239 | 0.071697 | 29.4001 |  856 |\n",
       "| 10 | 140 | 0 | 118 |  71 |  68 | 632 | 1029 |   7 |  15 | 100 | 24 | 526 | 174 | 0.044498 | 19.5994 |  705 |\n",
       "| 11 | 124 | 0 | 105 | 121 | 116 | 580 |  966 | 101 | 106 |  77 | 35 | 657 | 170 | 0.016201 | 41.6000 | 1674 |\n",
       "| 12 | 134 | 0 | 108 |  75 |  71 | 595 |  972 |  47 |  59 |  83 | 31 | 580 | 172 | 0.031201 | 34.2984 |  849 |\n",
       "| 13 | 128 | 0 | 113 |  67 |  60 | 624 |  972 |  28 |  10 |  77 | 25 | 507 | 206 | 0.045302 | 36.2993 |  511 |\n",
       "| 14 | 135 | 0 | 117 |  62 |  61 | 595 |  986 |  22 |  46 |  77 | 27 | 529 | 190 | 0.053200 | 21.5010 |  664 |\n",
       "| 15 | 152 | 1 |  87 |  57 |  53 | 530 |  986 |  30 |  72 |  92 | 43 | 405 | 264 | 0.069100 | 22.7008 |  798 |\n",
       "| 16 | 142 | 1 |  88 |  81 |  77 | 497 |  956 |  33 | 321 | 116 | 47 | 427 | 247 | 0.052099 | 26.0991 |  946 |\n",
       "| 17 | 143 | 0 | 110 |  66 |  63 | 537 |  977 |  10 |   6 | 114 | 35 | 487 | 166 | 0.076299 | 19.1002 |  539 |\n",
       "| 18 | 135 | 1 | 104 | 123 | 115 | 537 |  978 |  31 | 170 |  89 | 34 | 631 | 165 | 0.119804 | 18.1996 |  929 |\n",
       "| 19 | 130 | 0 | 116 | 128 | 128 | 536 |  934 |  51 |  24 |  78 | 34 | 627 | 135 | 0.019099 | 24.9008 |  750 |\n",
       "| 20 | 125 | 0 | 108 | 113 | 105 | 567 |  985 |  78 |  94 | 130 | 58 | 626 | 166 | 0.034801 | 26.4010 | 1225 |\n",
       "| 21 | 126 | 0 | 108 |  74 |  67 | 602 |  984 |  34 |  12 | 102 | 33 | 557 | 195 | 0.022800 | 37.5998 |  742 |\n",
       "| 22 | 157 | 1 |  89 |  47 |  44 | 512 |  962 |  22 | 423 |  97 | 34 | 288 | 276 | 0.089502 | 37.0994 |  439 |\n",
       "| 23 | 132 | 0 |  96 |  87 |  83 | 564 |  953 |  43 |  92 |  83 | 32 | 513 | 227 | 0.030700 | 25.1989 | 1216 |\n",
       "| 24 | 131 | 0 | 116 |  78 |  73 | 574 | 1038 |   7 |  36 | 142 | 42 | 540 | 176 | 0.041598 | 17.6000 |  968 |\n",
       "| 25 | 130 | 0 | 116 |  63 |  57 | 641 |  984 |  14 |  26 |  70 | 21 | 486 | 196 | 0.069197 | 21.9003 |  523 |\n",
       "| 26 | 131 | 0 | 121 | 160 | 143 | 631 | 1071 |   3 |  77 | 102 | 41 | 674 | 152 | 0.041698 | 22.1005 | 1993 |\n",
       "| 27 | 135 | 0 | 109 |  69 |  71 | 540 |  965 |   6 |   4 |  80 | 22 | 564 | 139 | 0.036099 | 28.4999 |  342 |\n",
       "| 28 | 152 | 0 | 112 |  82 |  76 | 571 | 1018 |  10 |  79 | 103 | 28 | 537 | 215 | 0.038201 | 25.8006 | 1216 |\n",
       "| 29 | 119 | 0 | 107 | 166 | 157 | 521 |  938 | 168 |  89 |  92 | 36 | 637 | 154 | 0.023400 | 36.7009 | 1043 |\n",
       "| 30 | 166 | 1 |  89 |  58 |  54 | 521 |  973 |  46 | 254 |  72 | 26 | 396 | 237 | 0.075298 | 28.3011 |  696 |\n",
       "| 31 | 140 | 0 |  93 |  55 |  54 | 535 | 1045 |   6 |  20 | 135 | 40 | 453 | 200 | 0.041999 | 21.7998 |  373 |\n",
       "| 32 | 125 | 0 | 109 |  90 |  81 | 586 |  964 |  97 |  82 | 105 | 43 | 617 | 163 | 0.042698 | 30.9014 |  754 |\n",
       "| 33 | 147 | 1 | 104 |  63 |  64 | 560 |  972 |  23 |  95 |  76 | 24 | 462 | 233 | 0.049499 | 25.5005 | 1072 |\n",
       "| 34 | 126 | 0 | 118 |  97 |  97 | 542 |  990 |  18 |  21 | 102 | 35 | 589 | 166 | 0.040799 | 21.6997 |  923 |\n",
       "| 35 | 123 | 0 | 102 |  97 |  87 | 526 |  948 | 113 |  76 | 124 | 50 | 572 | 158 | 0.020700 | 37.4011 |  653 |\n",
       "| 36 | 150 | 0 | 100 | 109 |  98 | 531 |  964 |   9 |  24 |  87 | 38 | 559 | 153 | 0.006900 | 44.0004 | 1272 |\n",
       "| 37 | 177 | 1 |  87 |  58 |  56 | 638 |  974 |  24 | 349 |  76 | 28 | 382 | 254 | 0.045198 | 31.6995 |  831 |\n",
       "| 38 | 133 | 0 | 104 |  51 |  47 | 599 | 1024 |   7 |  40 |  99 | 27 | 425 | 225 | 0.053998 | 16.6999 |  566 |\n",
       "| 39 | 149 | 1 |  88 |  61 |  54 | 515 |  953 |  36 | 165 |  86 | 35 | 395 | 251 | 0.047099 | 27.3004 |  826 |\n",
       "| 40 | 145 | 1 | 104 |  82 |  74 | 560 |  981 |  96 | 126 |  88 | 31 | 488 | 228 | 0.038801 | 29.3004 | 1151 |\n",
       "| 41 | 148 | 0 | 122 |  72 |  66 | 601 |  998 |   9 |  19 |  84 | 20 | 590 | 144 | 0.025100 | 30.0001 |  880 |\n",
       "| 42 | 141 | 0 | 109 |  56 |  54 | 523 |  968 |   4 |   2 | 107 | 37 | 489 | 170 | 0.088904 | 12.1996 |  542 |\n",
       "| 43 | 162 | 1 |  99 |  75 |  70 | 522 |  996 |  40 | 208 |  73 | 27 | 496 | 224 | 0.054902 | 31.9989 |  823 |\n",
       "| 44 | 136 | 0 | 121 |  95 |  96 | 574 | 1012 |  29 |  36 | 111 | 37 | 622 | 162 | 0.028100 | 30.0001 | 1030 |\n",
       "| 45 | 139 | 1 |  88 |  46 |  41 | 480 |  968 |  19 |  49 | 135 | 53 | 457 | 249 | 0.056202 | 32.5996 |  455 |\n",
       "| 46 | 126 | 0 | 104 | 106 |  97 | 599 |  989 |  40 |  24 |  78 | 25 | 593 | 171 | 0.046598 | 16.6999 |  508 |\n",
       "| 47 | 130 | 0 | 121 |  90 |  91 | 623 | 1049 |   3 |  22 | 113 | 40 | 588 | 160 | 0.052802 | 16.0997 |  849 |\n",
       "\n"
      ],
      "text/plain": [
       "   X  M   So Ed  Po1 Po2 LF  M.F  Pop NW  U1  U2 GDP Ineq Prob     Time    y   \n",
       "1   1 151 1   91  58  56 510  950  33 301 108 41 394 261  0.084602 26.2011  791\n",
       "2   2 143 0  113 103  95 583 1012  13 102  96 36 557 194  0.029599 25.2999 1635\n",
       "3   3 142 1   89  45  44 533  969  18 219  94 33 318 250  0.083401 24.3006  578\n",
       "4   4 136 0  121 149 141 577  994 157  80 102 39 673 167  0.015801 29.9012 1969\n",
       "5   5 141 0  121 109 101 591  985  18  30  91 20 578 174  0.041399 21.2998 1234\n",
       "6   6 121 0  110 118 115 547  964  25  44  84 29 689 126  0.034201 20.9995  682\n",
       "7   7 127 1  111  82  79 519  982   4 139  97 38 620 168  0.042100 20.6993  963\n",
       "8   8 131 1  109 115 109 542  969  50 179  79 35 472 206  0.040099 24.5988 1555\n",
       "9   9 157 1   90  65  62 553  955  39 286  81 28 421 239  0.071697 29.4001  856\n",
       "10 10 140 0  118  71  68 632 1029   7  15 100 24 526 174  0.044498 19.5994  705\n",
       "11 11 124 0  105 121 116 580  966 101 106  77 35 657 170  0.016201 41.6000 1674\n",
       "12 12 134 0  108  75  71 595  972  47  59  83 31 580 172  0.031201 34.2984  849\n",
       "13 13 128 0  113  67  60 624  972  28  10  77 25 507 206  0.045302 36.2993  511\n",
       "14 14 135 0  117  62  61 595  986  22  46  77 27 529 190  0.053200 21.5010  664\n",
       "15 15 152 1   87  57  53 530  986  30  72  92 43 405 264  0.069100 22.7008  798\n",
       "16 16 142 1   88  81  77 497  956  33 321 116 47 427 247  0.052099 26.0991  946\n",
       "17 17 143 0  110  66  63 537  977  10   6 114 35 487 166  0.076299 19.1002  539\n",
       "18 18 135 1  104 123 115 537  978  31 170  89 34 631 165  0.119804 18.1996  929\n",
       "19 19 130 0  116 128 128 536  934  51  24  78 34 627 135  0.019099 24.9008  750\n",
       "20 20 125 0  108 113 105 567  985  78  94 130 58 626 166  0.034801 26.4010 1225\n",
       "21 21 126 0  108  74  67 602  984  34  12 102 33 557 195  0.022800 37.5998  742\n",
       "22 22 157 1   89  47  44 512  962  22 423  97 34 288 276  0.089502 37.0994  439\n",
       "23 23 132 0   96  87  83 564  953  43  92  83 32 513 227  0.030700 25.1989 1216\n",
       "24 24 131 0  116  78  73 574 1038   7  36 142 42 540 176  0.041598 17.6000  968\n",
       "25 25 130 0  116  63  57 641  984  14  26  70 21 486 196  0.069197 21.9003  523\n",
       "26 26 131 0  121 160 143 631 1071   3  77 102 41 674 152  0.041698 22.1005 1993\n",
       "27 27 135 0  109  69  71 540  965   6   4  80 22 564 139  0.036099 28.4999  342\n",
       "28 28 152 0  112  82  76 571 1018  10  79 103 28 537 215  0.038201 25.8006 1216\n",
       "29 29 119 0  107 166 157 521  938 168  89  92 36 637 154  0.023400 36.7009 1043\n",
       "30 30 166 1   89  58  54 521  973  46 254  72 26 396 237  0.075298 28.3011  696\n",
       "31 31 140 0   93  55  54 535 1045   6  20 135 40 453 200  0.041999 21.7998  373\n",
       "32 32 125 0  109  90  81 586  964  97  82 105 43 617 163  0.042698 30.9014  754\n",
       "33 33 147 1  104  63  64 560  972  23  95  76 24 462 233  0.049499 25.5005 1072\n",
       "34 34 126 0  118  97  97 542  990  18  21 102 35 589 166  0.040799 21.6997  923\n",
       "35 35 123 0  102  97  87 526  948 113  76 124 50 572 158  0.020700 37.4011  653\n",
       "36 36 150 0  100 109  98 531  964   9  24  87 38 559 153  0.006900 44.0004 1272\n",
       "37 37 177 1   87  58  56 638  974  24 349  76 28 382 254  0.045198 31.6995  831\n",
       "38 38 133 0  104  51  47 599 1024   7  40  99 27 425 225  0.053998 16.6999  566\n",
       "39 39 149 1   88  61  54 515  953  36 165  86 35 395 251  0.047099 27.3004  826\n",
       "40 40 145 1  104  82  74 560  981  96 126  88 31 488 228  0.038801 29.3004 1151\n",
       "41 41 148 0  122  72  66 601  998   9  19  84 20 590 144  0.025100 30.0001  880\n",
       "42 42 141 0  109  56  54 523  968   4   2 107 37 489 170  0.088904 12.1996  542\n",
       "43 43 162 1   99  75  70 522  996  40 208  73 27 496 224  0.054902 31.9989  823\n",
       "44 44 136 0  121  95  96 574 1012  29  36 111 37 622 162  0.028100 30.0001 1030\n",
       "45 45 139 1   88  46  41 480  968  19  49 135 53 457 249  0.056202 32.5996  455\n",
       "46 46 126 0  104 106  97 599  989  40  24  78 25 593 171  0.046598 16.6999  508\n",
       "47 47 130 0  121  90  91 623 1049   3  22 113 40 588 160  0.052802 16.0997  849"
      ]
     },
     "metadata": {},
     "output_type": "display_data"
    }
   ],
   "source": [
    "D<-read.csv(\"UScrime.csv\")\n",
    "View(D)"
   ]
  },
  {
   "cell_type": "markdown",
   "id": "c9a077bc-055c-43f1-8156-6e1d4fb50716",
   "metadata": {},
   "source": [
    "В датасете введены следующие обозначения:\n",
    "\n",
    "$M$ - процент мужчин в возрасте 14–24 лет.\n",
    "\n",
    "$So$ - индикаторная переменная для южного штата.\n",
    "\n",
    "$Ed$ - средние годы обучения.\n",
    "\n",
    "$Po1$ - расходы полиции в 1960 г.\n",
    "\n",
    "$Po2$ - расходы полиции в 1959 г.\n",
    "\n",
    "$LF$ - уровень участия в рабочей силе.\n",
    "\n",
    "$M.F$ - количество мужчин на 1000 женщин.\n",
    "\n",
    "$Pop$ - население штата.\n",
    "\n",
    "$NW$ - количество небелых на 1000 человек.\n",
    "\n",
    "$U1$ - уровень безработицы среди городских мужчин 14–24 лет.\n",
    "\n",
    "$U2$ - уровень безработицы среди мужчин в городах 35–39.\n",
    "\n",
    "$GDP$ - валовой внутренний продукт на душу населения.\n",
    "\n",
    "$Ineq$ - Дифференциация доходов.\n",
    "\n",
    "$Prob$ - вероятность тюремного заключения.\n",
    "\n",
    "$Time$ - среднее время пребывания в государственных тюрьмах.\n",
    "\n",
    "$у$ - уровень преступлений той или иной категории на душу населения."
   ]
  },
  {
   "cell_type": "markdown",
   "id": "2f2583bf-756e-4b89-98a0-4cd7f8f1c6bb",
   "metadata": {},
   "source": [
    "В множество результативных показателей отберем: $y, Time, Prob$, в множество влияющих факторов: $GDP, Ineq, M.F, NW, Pop$:"
   ]
  },
  {
   "cell_type": "code",
   "execution_count": 49,
   "id": "246b0120-2916-4ce9-a1a7-4d8c57002473",
   "metadata": {},
   "outputs": [
    {
     "data": {
      "text/html": [
       "<style>\n",
       ".list-inline {list-style: none; margin:0; padding: 0}\n",
       ".list-inline>li {display: inline-block}\n",
       ".list-inline>li:not(:last-child)::after {content: \"\\00b7\"; padding: 0 .5ex}\n",
       "</style>\n",
       "<ol class=list-inline><li>'X'</li><li>'M'</li><li>'So'</li><li>'Ed'</li><li>'Po1'</li><li>'Po2'</li><li>'LF'</li><li>'M.F'</li><li>'Pop'</li><li>'NW'</li><li>'U1'</li><li>'U2'</li><li>'GDP'</li><li>'Ineq'</li><li>'Prob'</li><li>'Time'</li><li>'y'</li></ol>\n"
      ],
      "text/latex": [
       "\\begin{enumerate*}\n",
       "\\item 'X'\n",
       "\\item 'M'\n",
       "\\item 'So'\n",
       "\\item 'Ed'\n",
       "\\item 'Po1'\n",
       "\\item 'Po2'\n",
       "\\item 'LF'\n",
       "\\item 'M.F'\n",
       "\\item 'Pop'\n",
       "\\item 'NW'\n",
       "\\item 'U1'\n",
       "\\item 'U2'\n",
       "\\item 'GDP'\n",
       "\\item 'Ineq'\n",
       "\\item 'Prob'\n",
       "\\item 'Time'\n",
       "\\item 'y'\n",
       "\\end{enumerate*}\n"
      ],
      "text/markdown": [
       "1. 'X'\n",
       "2. 'M'\n",
       "3. 'So'\n",
       "4. 'Ed'\n",
       "5. 'Po1'\n",
       "6. 'Po2'\n",
       "7. 'LF'\n",
       "8. 'M.F'\n",
       "9. 'Pop'\n",
       "10. 'NW'\n",
       "11. 'U1'\n",
       "12. 'U2'\n",
       "13. 'GDP'\n",
       "14. 'Ineq'\n",
       "15. 'Prob'\n",
       "16. 'Time'\n",
       "17. 'y'\n",
       "\n",
       "\n"
      ],
      "text/plain": [
       " [1] \"X\"    \"M\"    \"So\"   \"Ed\"   \"Po1\"  \"Po2\"  \"LF\"   \"M.F\"  \"Pop\"  \"NW\"  \n",
       "[11] \"U1\"   \"U2\"   \"GDP\"  \"Ineq\" \"Prob\" \"Time\" \"y\"   "
      ]
     },
     "metadata": {},
     "output_type": "display_data"
    }
   ],
   "source": [
    "colnames(D)"
   ]
  },
  {
   "cell_type": "code",
   "execution_count": 54,
   "id": "7fd9107c-c8d6-4e27-8543-fbc1d7f5c1ed",
   "metadata": {},
   "outputs": [],
   "source": [
    "W<-scale(data.frame(D$y, D$Time, D$Prob))\n",
    "colnames(W)<-c(\"y\",\"time\",\"prob\")\n",
    "P<-scale(data.frame(D$GDP, D$Ineq, D$M.F, D$NW, D$Pop))\n",
    "colnames(P)<-c(\"gdp\",\"ineq\",\"mf\",\"nw\",\"pop\")"
   ]
  },
  {
   "cell_type": "code",
   "execution_count": null,
   "id": "3d9f70e8-df41-472d-a3d6-0cb7a9036396",
   "metadata": {},
   "outputs": [],
   "source": []
  },
  {
   "cell_type": "code",
   "execution_count": 55,
   "id": "5b8ffaa8-faec-4077-97d4-e06a46523e12",
   "metadata": {},
   "outputs": [],
   "source": [
    "result<-cancor(W,P)"
   ]
  },
  {
   "cell_type": "code",
   "execution_count": 56,
   "id": "c0c909e1-ab8e-41f4-a06b-4ad1f6851862",
   "metadata": {},
   "outputs": [
    {
     "data": {
      "text/html": [
       "<dl>\n",
       "\t<dt>$cor</dt>\n",
       "\t\t<dd><style>\n",
       ".list-inline {list-style: none; margin:0; padding: 0}\n",
       ".list-inline>li {display: inline-block}\n",
       ".list-inline>li:not(:last-child)::after {content: \"\\00b7\"; padding: 0 .5ex}\n",
       "</style>\n",
       "<ol class=list-inline><li>0.718980065447</li><li>0.692405315080567</li><li>0.48187781760514</li></ol>\n",
       "</dd>\n",
       "\t<dt>$xcoef</dt>\n",
       "\t\t<dd><table class=\"dataframe\">\n",
       "<caption>A matrix: 3 × 3 of type dbl</caption>\n",
       "<tbody>\n",
       "\t<tr><th scope=row>y</th><td>-0.08278180</td><td>0.1238516</td><td> 0.06678530</td></tr>\n",
       "\t<tr><th scope=row>time</th><td> 0.07072582</td><td>0.1102396</td><td>-0.09873336</td></tr>\n",
       "\t<tr><th scope=row>prob</th><td> 0.10345049</td><td>0.1200435</td><td> 0.08405344</td></tr>\n",
       "</tbody>\n",
       "</table>\n",
       "</dd>\n",
       "\t<dt>$ycoef</dt>\n",
       "\t\t<dd><table class=\"dataframe\">\n",
       "<caption>A matrix: 5 × 5 of type dbl</caption>\n",
       "<tbody>\n",
       "\t<tr><th scope=row>gdp</th><td>-0.16959782</td><td>0.14433747</td><td> 0.04111072</td><td> 0.1220113662</td><td>-0.261888190</td></tr>\n",
       "\t<tr><th scope=row>ineq</th><td>-0.07557736</td><td>0.11473486</td><td> 0.02193337</td><td> 0.2917915240</td><td>-0.168045861</td></tr>\n",
       "\t<tr><th scope=row>mf</th><td>-0.06307987</td><td>0.01015668</td><td> 0.09527491</td><td>-0.0005448536</td><td> 0.137538264</td></tr>\n",
       "\t<tr><th scope=row>nw</th><td> 0.01359275</td><td>0.12404809</td><td> 0.08088071</td><td>-0.1507407267</td><td>-0.005510288</td></tr>\n",
       "\t<tr><th scope=row>pop</th><td>-0.02762148</td><td>0.03642597</td><td>-0.08739529</td><td> 0.0101402800</td><td> 0.166681013</td></tr>\n",
       "</tbody>\n",
       "</table>\n",
       "</dd>\n",
       "\t<dt>$xcenter</dt>\n",
       "\t\t<dd><style>\n",
       ".dl-inline {width: auto; margin:0; padding: 0}\n",
       ".dl-inline>dt, .dl-inline>dd {float: none; width: auto; display: inline-block}\n",
       ".dl-inline>dt::after {content: \":\\0020\"; padding-right: .5ex}\n",
       ".dl-inline>dt:not(:first-of-type) {padding-left: .5ex}\n",
       "</style><dl class=dl-inline><dt>y</dt><dd>-1.36563337470515e-16</dd><dt>time</dt><dd>-1.41730598888318e-17</dd><dt>prob</dt><dd>1.09172238329891e-16</dd></dl>\n",
       "</dd>\n",
       "\t<dt>$ycenter</dt>\n",
       "\t\t<dd><style>\n",
       ".dl-inline {width: auto; margin:0; padding: 0}\n",
       ".dl-inline>dt, .dl-inline>dd {float: none; width: auto; display: inline-block}\n",
       ".dl-inline>dt::after {content: \":\\0020\"; padding-right: .5ex}\n",
       ".dl-inline>dt:not(:first-of-type) {padding-left: .5ex}\n",
       "</style><dl class=dl-inline><dt>gdp</dt><dd>3.47147694751061e-16</dd><dt>ineq</dt><dd>1.03345228356065e-18</dd><dt>mf</dt><dd>4.89265838245714e-16</dd><dt>nw</dt><dd>-1.55017842534098e-18</dd><dt>pop</dt><dd>2.93057540409699e-17</dd></dl>\n",
       "</dd>\n",
       "</dl>\n"
      ],
      "text/latex": [
       "\\begin{description}\n",
       "\\item[\\$cor] \\begin{enumerate*}\n",
       "\\item 0.718980065447\n",
       "\\item 0.692405315080567\n",
       "\\item 0.48187781760514\n",
       "\\end{enumerate*}\n",
       "\n",
       "\\item[\\$xcoef] A matrix: 3 × 3 of type dbl\n",
       "\\begin{tabular}{r|lll}\n",
       "\ty & -0.08278180 & 0.1238516 &  0.06678530\\\\\n",
       "\ttime &  0.07072582 & 0.1102396 & -0.09873336\\\\\n",
       "\tprob &  0.10345049 & 0.1200435 &  0.08405344\\\\\n",
       "\\end{tabular}\n",
       "\n",
       "\\item[\\$ycoef] A matrix: 5 × 5 of type dbl\n",
       "\\begin{tabular}{r|lllll}\n",
       "\tgdp & -0.16959782 & 0.14433747 &  0.04111072 &  0.1220113662 & -0.261888190\\\\\n",
       "\tineq & -0.07557736 & 0.11473486 &  0.02193337 &  0.2917915240 & -0.168045861\\\\\n",
       "\tmf & -0.06307987 & 0.01015668 &  0.09527491 & -0.0005448536 &  0.137538264\\\\\n",
       "\tnw &  0.01359275 & 0.12404809 &  0.08088071 & -0.1507407267 & -0.005510288\\\\\n",
       "\tpop & -0.02762148 & 0.03642597 & -0.08739529 &  0.0101402800 &  0.166681013\\\\\n",
       "\\end{tabular}\n",
       "\n",
       "\\item[\\$xcenter] \\begin{description*}\n",
       "\\item[y] -1.36563337470515e-16\n",
       "\\item[time] -1.41730598888318e-17\n",
       "\\item[prob] 1.09172238329891e-16\n",
       "\\end{description*}\n",
       "\n",
       "\\item[\\$ycenter] \\begin{description*}\n",
       "\\item[gdp] 3.47147694751061e-16\n",
       "\\item[ineq] 1.03345228356065e-18\n",
       "\\item[mf] 4.89265838245714e-16\n",
       "\\item[nw] -1.55017842534098e-18\n",
       "\\item[pop] 2.93057540409699e-17\n",
       "\\end{description*}\n",
       "\n",
       "\\end{description}\n"
      ],
      "text/markdown": [
       "$cor\n",
       ":   1. 0.718980065447\n",
       "2. 0.692405315080567\n",
       "3. 0.48187781760514\n",
       "\n",
       "\n",
       "\n",
       "$xcoef\n",
       ":   \n",
       "A matrix: 3 × 3 of type dbl\n",
       "\n",
       "| y | -0.08278180 | 0.1238516 |  0.06678530 |\n",
       "| time |  0.07072582 | 0.1102396 | -0.09873336 |\n",
       "| prob |  0.10345049 | 0.1200435 |  0.08405344 |\n",
       "\n",
       "\n",
       "$ycoef\n",
       ":   \n",
       "A matrix: 5 × 5 of type dbl\n",
       "\n",
       "| gdp | -0.16959782 | 0.14433747 |  0.04111072 |  0.1220113662 | -0.261888190 |\n",
       "| ineq | -0.07557736 | 0.11473486 |  0.02193337 |  0.2917915240 | -0.168045861 |\n",
       "| mf | -0.06307987 | 0.01015668 |  0.09527491 | -0.0005448536 |  0.137538264 |\n",
       "| nw |  0.01359275 | 0.12404809 |  0.08088071 | -0.1507407267 | -0.005510288 |\n",
       "| pop | -0.02762148 | 0.03642597 | -0.08739529 |  0.0101402800 |  0.166681013 |\n",
       "\n",
       "\n",
       "$xcenter\n",
       ":   y\n",
       ":   -1.36563337470515e-16time\n",
       ":   -1.41730598888318e-17prob\n",
       ":   1.09172238329891e-16\n",
       "\n",
       "\n",
       "$ycenter\n",
       ":   gdp\n",
       ":   3.47147694751061e-16ineq\n",
       ":   1.03345228356065e-18mf\n",
       ":   4.89265838245714e-16nw\n",
       ":   -1.55017842534098e-18pop\n",
       ":   2.93057540409699e-17\n",
       "\n",
       "\n",
       "\n",
       "\n"
      ],
      "text/plain": [
       "$cor\n",
       "[1] 0.7189801 0.6924053 0.4818778\n",
       "\n",
       "$xcoef\n",
       "            [,1]      [,2]        [,3]\n",
       "y    -0.08278180 0.1238516  0.06678530\n",
       "time  0.07072582 0.1102396 -0.09873336\n",
       "prob  0.10345049 0.1200435  0.08405344\n",
       "\n",
       "$ycoef\n",
       "            [,1]       [,2]        [,3]          [,4]         [,5]\n",
       "gdp  -0.16959782 0.14433747  0.04111072  0.1220113662 -0.261888190\n",
       "ineq -0.07557736 0.11473486  0.02193337  0.2917915240 -0.168045861\n",
       "mf   -0.06307987 0.01015668  0.09527491 -0.0005448536  0.137538264\n",
       "nw    0.01359275 0.12404809  0.08088071 -0.1507407267 -0.005510288\n",
       "pop  -0.02762148 0.03642597 -0.08739529  0.0101402800  0.166681013\n",
       "\n",
       "$xcenter\n",
       "            y          time          prob \n",
       "-1.365633e-16 -1.417306e-17  1.091722e-16 \n",
       "\n",
       "$ycenter\n",
       "          gdp          ineq            mf            nw           pop \n",
       " 3.471477e-16  1.033452e-18  4.892658e-16 -1.550178e-18  2.930575e-17 \n"
      ]
     },
     "metadata": {},
     "output_type": "display_data"
    }
   ],
   "source": [
    "result"
   ]
  },
  {
   "cell_type": "code",
   "execution_count": 62,
   "id": "ab623f4b-5fae-4d66-b3bf-aa2faa62413a",
   "metadata": {},
   "outputs": [
    {
     "data": {
      "text/html": [
       "<table class=\"dataframe\">\n",
       "<caption>A matrix: 47 × 1 of type dbl</caption>\n",
       "<tbody>\n",
       "\t<tr><td> 0.191127107</td></tr>\n",
       "\t<tr><td>-0.248771539</td></tr>\n",
       "\t<tr><td> 0.212286115</td></tr>\n",
       "\t<tr><td>-0.337119300</td></tr>\n",
       "\t<tr><td>-0.149174054</td></tr>\n",
       "\t<tr><td>-0.066772212</td></tr>\n",
       "\t<tr><td>-0.093973244</td></tr>\n",
       "\t<tr><td>-0.190871627</td></tr>\n",
       "\t<tr><td> 0.150423852</td></tr>\n",
       "\t<tr><td>-0.038817692</td></tr>\n",
       "\t<tr><td>-0.155406501</td></tr>\n",
       "\t<tr><td> 0.016554262</td></tr>\n",
       "\t<tr><td> 0.173025446</td></tr>\n",
       "\t<tr><td> 0.028528501</td></tr>\n",
       "\t<tr><td> 0.084164303</td></tr>\n",
       "\t<tr><td> 0.009048587</td></tr>\n",
       "\t<tr><td> 0.136421370</td></tr>\n",
       "\t<tr><td> 0.241901369</td></tr>\n",
       "\t<tr><td>-0.111104850</td></tr>\n",
       "\t<tr><td>-0.126358847</td></tr>\n",
       "\t<tr><td> 0.034180081</td></tr>\n",
       "\t<tr><td> 0.397525680</td></tr>\n",
       "\t<tr><td>-0.155088285</td></tr>\n",
       "\t<tr><td>-0.128257877</td></tr>\n",
       "\t<tr><td> 0.135477176</td></tr>\n",
       "\t<tr><td>-0.302277425</td></tr>\n",
       "\t<tr><td> 0.089488796</td></tr>\n",
       "\t<tr><td>-0.114954791</td></tr>\n",
       "\t<tr><td>-0.036486184</td></tr>\n",
       "\t<tr><td> 0.190086196</td></tr>\n",
       "\t<tr><td> 0.042832235</td></tr>\n",
       "\t<tr><td> 0.055296417</td></tr>\n",
       "\t<tr><td>-0.035723761</td></tr>\n",
       "\t<tr><td>-0.081347334</td></tr>\n",
       "\t<tr><td> 0.041691702</td></tr>\n",
       "\t<tr><td>-0.087726256</td></tr>\n",
       "\t<tr><td> 0.058155094</td></tr>\n",
       "\t<tr><td> 0.005220965</td></tr>\n",
       "\t<tr><td> 0.023972450</td></tr>\n",
       "\t<tr><td>-0.063385096</td></tr>\n",
       "\t<tr><td>-0.060735911</td></tr>\n",
       "\t<tr><td> 0.124263857</td></tr>\n",
       "\t<tr><td> 0.107007381</td></tr>\n",
       "\t<tr><td>-0.079191928</td></tr>\n",
       "\t<tr><td> 0.197682966</td></tr>\n",
       "\t<tr><td>-0.016033958</td></tr>\n",
       "\t<tr><td>-0.066783238</td></tr>\n",
       "</tbody>\n",
       "</table>\n"
      ],
      "text/latex": [
       "A matrix: 47 × 1 of type dbl\n",
       "\\begin{tabular}{l}\n",
       "\t  0.191127107\\\\\n",
       "\t -0.248771539\\\\\n",
       "\t  0.212286115\\\\\n",
       "\t -0.337119300\\\\\n",
       "\t -0.149174054\\\\\n",
       "\t -0.066772212\\\\\n",
       "\t -0.093973244\\\\\n",
       "\t -0.190871627\\\\\n",
       "\t  0.150423852\\\\\n",
       "\t -0.038817692\\\\\n",
       "\t -0.155406501\\\\\n",
       "\t  0.016554262\\\\\n",
       "\t  0.173025446\\\\\n",
       "\t  0.028528501\\\\\n",
       "\t  0.084164303\\\\\n",
       "\t  0.009048587\\\\\n",
       "\t  0.136421370\\\\\n",
       "\t  0.241901369\\\\\n",
       "\t -0.111104850\\\\\n",
       "\t -0.126358847\\\\\n",
       "\t  0.034180081\\\\\n",
       "\t  0.397525680\\\\\n",
       "\t -0.155088285\\\\\n",
       "\t -0.128257877\\\\\n",
       "\t  0.135477176\\\\\n",
       "\t -0.302277425\\\\\n",
       "\t  0.089488796\\\\\n",
       "\t -0.114954791\\\\\n",
       "\t -0.036486184\\\\\n",
       "\t  0.190086196\\\\\n",
       "\t  0.042832235\\\\\n",
       "\t  0.055296417\\\\\n",
       "\t -0.035723761\\\\\n",
       "\t -0.081347334\\\\\n",
       "\t  0.041691702\\\\\n",
       "\t -0.087726256\\\\\n",
       "\t  0.058155094\\\\\n",
       "\t  0.005220965\\\\\n",
       "\t  0.023972450\\\\\n",
       "\t -0.063385096\\\\\n",
       "\t -0.060735911\\\\\n",
       "\t  0.124263857\\\\\n",
       "\t  0.107007381\\\\\n",
       "\t -0.079191928\\\\\n",
       "\t  0.197682966\\\\\n",
       "\t -0.016033958\\\\\n",
       "\t -0.066783238\\\\\n",
       "\\end{tabular}\n"
      ],
      "text/markdown": [
       "\n",
       "A matrix: 47 × 1 of type dbl\n",
       "\n",
       "|  0.191127107 |\n",
       "| -0.248771539 |\n",
       "|  0.212286115 |\n",
       "| -0.337119300 |\n",
       "| -0.149174054 |\n",
       "| -0.066772212 |\n",
       "| -0.093973244 |\n",
       "| -0.190871627 |\n",
       "|  0.150423852 |\n",
       "| -0.038817692 |\n",
       "| -0.155406501 |\n",
       "|  0.016554262 |\n",
       "|  0.173025446 |\n",
       "|  0.028528501 |\n",
       "|  0.084164303 |\n",
       "|  0.009048587 |\n",
       "|  0.136421370 |\n",
       "|  0.241901369 |\n",
       "| -0.111104850 |\n",
       "| -0.126358847 |\n",
       "|  0.034180081 |\n",
       "|  0.397525680 |\n",
       "| -0.155088285 |\n",
       "| -0.128257877 |\n",
       "|  0.135477176 |\n",
       "| -0.302277425 |\n",
       "|  0.089488796 |\n",
       "| -0.114954791 |\n",
       "| -0.036486184 |\n",
       "|  0.190086196 |\n",
       "|  0.042832235 |\n",
       "|  0.055296417 |\n",
       "| -0.035723761 |\n",
       "| -0.081347334 |\n",
       "|  0.041691702 |\n",
       "| -0.087726256 |\n",
       "|  0.058155094 |\n",
       "|  0.005220965 |\n",
       "|  0.023972450 |\n",
       "| -0.063385096 |\n",
       "| -0.060735911 |\n",
       "|  0.124263857 |\n",
       "|  0.107007381 |\n",
       "| -0.079191928 |\n",
       "|  0.197682966 |\n",
       "| -0.016033958 |\n",
       "| -0.066783238 |\n",
       "\n"
      ],
      "text/plain": [
       "      [,1]        \n",
       " [1,]  0.191127107\n",
       " [2,] -0.248771539\n",
       " [3,]  0.212286115\n",
       " [4,] -0.337119300\n",
       " [5,] -0.149174054\n",
       " [6,] -0.066772212\n",
       " [7,] -0.093973244\n",
       " [8,] -0.190871627\n",
       " [9,]  0.150423852\n",
       "[10,] -0.038817692\n",
       "[11,] -0.155406501\n",
       "[12,]  0.016554262\n",
       "[13,]  0.173025446\n",
       "[14,]  0.028528501\n",
       "[15,]  0.084164303\n",
       "[16,]  0.009048587\n",
       "[17,]  0.136421370\n",
       "[18,]  0.241901369\n",
       "[19,] -0.111104850\n",
       "[20,] -0.126358847\n",
       "[21,]  0.034180081\n",
       "[22,]  0.397525680\n",
       "[23,] -0.155088285\n",
       "[24,] -0.128257877\n",
       "[25,]  0.135477176\n",
       "[26,] -0.302277425\n",
       "[27,]  0.089488796\n",
       "[28,] -0.114954791\n",
       "[29,] -0.036486184\n",
       "[30,]  0.190086196\n",
       "[31,]  0.042832235\n",
       "[32,]  0.055296417\n",
       "[33,] -0.035723761\n",
       "[34,] -0.081347334\n",
       "[35,]  0.041691702\n",
       "[36,] -0.087726256\n",
       "[37,]  0.058155094\n",
       "[38,]  0.005220965\n",
       "[39,]  0.023972450\n",
       "[40,] -0.063385096\n",
       "[41,] -0.060735911\n",
       "[42,]  0.124263857\n",
       "[43,]  0.107007381\n",
       "[44,] -0.079191928\n",
       "[45,]  0.197682966\n",
       "[46,] -0.016033958\n",
       "[47,] -0.066783238"
      ]
     },
     "metadata": {},
     "output_type": "display_data"
    }
   ],
   "source": [
    "U1<-as.matrix(W)%*%result$xcoef[,1]\n",
    "View(U1)"
   ]
  },
  {
   "cell_type": "code",
   "execution_count": 63,
   "id": "2862b3bc-664a-431d-9c47-666204486d5b",
   "metadata": {},
   "outputs": [
    {
     "data": {
      "text/html": [
       "<table class=\"dataframe\">\n",
       "<caption>A matrix: 47 × 1 of type dbl</caption>\n",
       "<tbody>\n",
       "\t<tr><td> 0.203736711</td></tr>\n",
       "\t<tr><td>-0.100355694</td></tr>\n",
       "\t<tr><td> 0.317527132</td></tr>\n",
       "\t<tr><td>-0.321947345</td></tr>\n",
       "\t<tr><td>-0.054726429</td></tr>\n",
       "\t<tr><td>-0.117171038</td></tr>\n",
       "\t<tr><td>-0.086193992</td></tr>\n",
       "\t<tr><td> 0.101695666</td></tr>\n",
       "\t<tr><td> 0.180916561</td></tr>\n",
       "\t<tr><td>-0.051519856</td></tr>\n",
       "\t<tr><td>-0.195503086</td></tr>\n",
       "\t<tr><td>-0.043831011</td></tr>\n",
       "\t<tr><td> 0.027377405</td></tr>\n",
       "\t<tr><td>-0.001838766</td></tr>\n",
       "\t<tr><td> 0.073560836</td></tr>\n",
       "\t<tr><td> 0.162054826</td></tr>\n",
       "\t<tr><td> 0.140132069</td></tr>\n",
       "\t<tr><td>-0.106773715</td></tr>\n",
       "\t<tr><td> 0.017467115</td></tr>\n",
       "\t<tr><td>-0.159010305</td></tr>\n",
       "\t<tr><td>-0.069444221</td></tr>\n",
       "\t<tr><td> 0.360052502</td></tr>\n",
       "\t<tr><td> 0.017679294</td></tr>\n",
       "\t<tr><td>-0.096405811</td></tr>\n",
       "\t<tr><td> 0.069816025</td></tr>\n",
       "\t<tr><td>-0.348787338</td></tr>\n",
       "\t<tr><td> 0.084265967</td></tr>\n",
       "\t<tr><td>-0.118691848</td></tr>\n",
       "\t<tr><td>-0.120958717</td></tr>\n",
       "\t<tr><td> 0.180805946</td></tr>\n",
       "\t<tr><td>-0.005328521</td></tr>\n",
       "\t<tr><td>-0.107925468</td></tr>\n",
       "\t<tr><td> 0.070187874</td></tr>\n",
       "\t<tr><td>-0.070798823</td></tr>\n",
       "\t<tr><td> 0.002490025</td></tr>\n",
       "\t<tr><td> 0.069141120</td></tr>\n",
       "\t<tr><td> 0.199587749</td></tr>\n",
       "\t<tr><td> 0.043399202</td></tr>\n",
       "\t<tr><td> 0.194346459</td></tr>\n",
       "\t<tr><td>-0.034170666</td></tr>\n",
       "\t<tr><td>-0.041740665</td></tr>\n",
       "\t<tr><td> 0.152129729</td></tr>\n",
       "\t<tr><td>-0.021295859</td></tr>\n",
       "\t<tr><td>-0.174316654</td></tr>\n",
       "\t<tr><td> 0.054050555</td></tr>\n",
       "\t<tr><td>-0.100725475</td></tr>\n",
       "\t<tr><td>-0.172959467</td></tr>\n",
       "</tbody>\n",
       "</table>\n"
      ],
      "text/latex": [
       "A matrix: 47 × 1 of type dbl\n",
       "\\begin{tabular}{l}\n",
       "\t  0.203736711\\\\\n",
       "\t -0.100355694\\\\\n",
       "\t  0.317527132\\\\\n",
       "\t -0.321947345\\\\\n",
       "\t -0.054726429\\\\\n",
       "\t -0.117171038\\\\\n",
       "\t -0.086193992\\\\\n",
       "\t  0.101695666\\\\\n",
       "\t  0.180916561\\\\\n",
       "\t -0.051519856\\\\\n",
       "\t -0.195503086\\\\\n",
       "\t -0.043831011\\\\\n",
       "\t  0.027377405\\\\\n",
       "\t -0.001838766\\\\\n",
       "\t  0.073560836\\\\\n",
       "\t  0.162054826\\\\\n",
       "\t  0.140132069\\\\\n",
       "\t -0.106773715\\\\\n",
       "\t  0.017467115\\\\\n",
       "\t -0.159010305\\\\\n",
       "\t -0.069444221\\\\\n",
       "\t  0.360052502\\\\\n",
       "\t  0.017679294\\\\\n",
       "\t -0.096405811\\\\\n",
       "\t  0.069816025\\\\\n",
       "\t -0.348787338\\\\\n",
       "\t  0.084265967\\\\\n",
       "\t -0.118691848\\\\\n",
       "\t -0.120958717\\\\\n",
       "\t  0.180805946\\\\\n",
       "\t -0.005328521\\\\\n",
       "\t -0.107925468\\\\\n",
       "\t  0.070187874\\\\\n",
       "\t -0.070798823\\\\\n",
       "\t  0.002490025\\\\\n",
       "\t  0.069141120\\\\\n",
       "\t  0.199587749\\\\\n",
       "\t  0.043399202\\\\\n",
       "\t  0.194346459\\\\\n",
       "\t -0.034170666\\\\\n",
       "\t -0.041740665\\\\\n",
       "\t  0.152129729\\\\\n",
       "\t -0.021295859\\\\\n",
       "\t -0.174316654\\\\\n",
       "\t  0.054050555\\\\\n",
       "\t -0.100725475\\\\\n",
       "\t -0.172959467\\\\\n",
       "\\end{tabular}\n"
      ],
      "text/markdown": [
       "\n",
       "A matrix: 47 × 1 of type dbl\n",
       "\n",
       "|  0.203736711 |\n",
       "| -0.100355694 |\n",
       "|  0.317527132 |\n",
       "| -0.321947345 |\n",
       "| -0.054726429 |\n",
       "| -0.117171038 |\n",
       "| -0.086193992 |\n",
       "|  0.101695666 |\n",
       "|  0.180916561 |\n",
       "| -0.051519856 |\n",
       "| -0.195503086 |\n",
       "| -0.043831011 |\n",
       "|  0.027377405 |\n",
       "| -0.001838766 |\n",
       "|  0.073560836 |\n",
       "|  0.162054826 |\n",
       "|  0.140132069 |\n",
       "| -0.106773715 |\n",
       "|  0.017467115 |\n",
       "| -0.159010305 |\n",
       "| -0.069444221 |\n",
       "|  0.360052502 |\n",
       "|  0.017679294 |\n",
       "| -0.096405811 |\n",
       "|  0.069816025 |\n",
       "| -0.348787338 |\n",
       "|  0.084265967 |\n",
       "| -0.118691848 |\n",
       "| -0.120958717 |\n",
       "|  0.180805946 |\n",
       "| -0.005328521 |\n",
       "| -0.107925468 |\n",
       "|  0.070187874 |\n",
       "| -0.070798823 |\n",
       "|  0.002490025 |\n",
       "|  0.069141120 |\n",
       "|  0.199587749 |\n",
       "|  0.043399202 |\n",
       "|  0.194346459 |\n",
       "| -0.034170666 |\n",
       "| -0.041740665 |\n",
       "|  0.152129729 |\n",
       "| -0.021295859 |\n",
       "| -0.174316654 |\n",
       "|  0.054050555 |\n",
       "| -0.100725475 |\n",
       "| -0.172959467 |\n",
       "\n"
      ],
      "text/plain": [
       "      [,1]        \n",
       " [1,]  0.203736711\n",
       " [2,] -0.100355694\n",
       " [3,]  0.317527132\n",
       " [4,] -0.321947345\n",
       " [5,] -0.054726429\n",
       " [6,] -0.117171038\n",
       " [7,] -0.086193992\n",
       " [8,]  0.101695666\n",
       " [9,]  0.180916561\n",
       "[10,] -0.051519856\n",
       "[11,] -0.195503086\n",
       "[12,] -0.043831011\n",
       "[13,]  0.027377405\n",
       "[14,] -0.001838766\n",
       "[15,]  0.073560836\n",
       "[16,]  0.162054826\n",
       "[17,]  0.140132069\n",
       "[18,] -0.106773715\n",
       "[19,]  0.017467115\n",
       "[20,] -0.159010305\n",
       "[21,] -0.069444221\n",
       "[22,]  0.360052502\n",
       "[23,]  0.017679294\n",
       "[24,] -0.096405811\n",
       "[25,]  0.069816025\n",
       "[26,] -0.348787338\n",
       "[27,]  0.084265967\n",
       "[28,] -0.118691848\n",
       "[29,] -0.120958717\n",
       "[30,]  0.180805946\n",
       "[31,] -0.005328521\n",
       "[32,] -0.107925468\n",
       "[33,]  0.070187874\n",
       "[34,] -0.070798823\n",
       "[35,]  0.002490025\n",
       "[36,]  0.069141120\n",
       "[37,]  0.199587749\n",
       "[38,]  0.043399202\n",
       "[39,]  0.194346459\n",
       "[40,] -0.034170666\n",
       "[41,] -0.041740665\n",
       "[42,]  0.152129729\n",
       "[43,] -0.021295859\n",
       "[44,] -0.174316654\n",
       "[45,]  0.054050555\n",
       "[46,] -0.100725475\n",
       "[47,] -0.172959467"
      ]
     },
     "metadata": {},
     "output_type": "display_data"
    }
   ],
   "source": [
    "V1<-as.matrix(P)%*%result$ycoef[,1]\n",
    "View(V1)"
   ]
  },
  {
   "cell_type": "code",
   "execution_count": 64,
   "id": "75927d12-76f6-45d0-abf3-bc28c0cf4f8c",
   "metadata": {},
   "outputs": [
    {
     "data": {
      "text/html": [
       "<table class=\"dataframe\">\n",
       "<caption>A matrix: 1 × 1 of type dbl</caption>\n",
       "<tbody>\n",
       "\t<tr><td>0.7189801</td></tr>\n",
       "</tbody>\n",
       "</table>\n"
      ],
      "text/latex": [
       "A matrix: 1 × 1 of type dbl\n",
       "\\begin{tabular}{l}\n",
       "\t 0.7189801\\\\\n",
       "\\end{tabular}\n"
      ],
      "text/markdown": [
       "\n",
       "A matrix: 1 × 1 of type dbl\n",
       "\n",
       "| 0.7189801 |\n",
       "\n"
      ],
      "text/plain": [
       "     [,1]     \n",
       "[1,] 0.7189801"
      ]
     },
     "metadata": {},
     "output_type": "display_data"
    }
   ],
   "source": [
    "cor(U1,V1)"
   ]
  },
  {
   "cell_type": "code",
   "execution_count": 65,
   "id": "f289a220-83d2-4a8b-8484-f9c6d103b6e8",
   "metadata": {},
   "outputs": [
    {
     "data": {
      "text/html": [
       "0.718980065447"
      ],
      "text/latex": [
       "0.718980065447"
      ],
      "text/markdown": [
       "0.718980065447"
      ],
      "text/plain": [
       "[1] 0.7189801"
      ]
     },
     "metadata": {},
     "output_type": "display_data"
    }
   ],
   "source": [
    "result$cor[1]"
   ]
  },
  {
   "cell_type": "code",
   "execution_count": 66,
   "id": "5431a79a-983d-46a5-a4ee-948d50c6e97c",
   "metadata": {},
   "outputs": [],
   "source": [
    "U2<-as.matrix(W)%*%result$xcoef[,2]\n",
    "V2<-as.matrix(P)%*%result$ycoef[,2]"
   ]
  },
  {
   "cell_type": "code",
   "execution_count": 67,
   "id": "cf3b0825-e8f8-4b9f-8ca5-f6a0bf4a5e3a",
   "metadata": {},
   "outputs": [
    {
     "data": {
      "text/html": [
       "<table class=\"dataframe\">\n",
       "<caption>A matrix: 4 × 4 of type dbl</caption>\n",
       "<thead>\n",
       "\t<tr><th></th><th scope=col>U1</th><th scope=col>V1</th><th scope=col>U2</th><th scope=col>V2</th></tr>\n",
       "</thead>\n",
       "<tbody>\n",
       "\t<tr><th scope=row>U1</th><td> 1.000000e+00</td><td> 7.189801e-01</td><td>-2.223860e-16</td><td>-2.828798e-16</td></tr>\n",
       "\t<tr><th scope=row>V1</th><td> 7.189801e-01</td><td> 1.000000e+00</td><td>-6.047747e-16</td><td>-6.455950e-16</td></tr>\n",
       "\t<tr><th scope=row>U2</th><td>-2.223860e-16</td><td>-6.047747e-16</td><td> 1.000000e+00</td><td> 6.924053e-01</td></tr>\n",
       "\t<tr><th scope=row>V2</th><td>-2.828798e-16</td><td>-6.455950e-16</td><td> 6.924053e-01</td><td> 1.000000e+00</td></tr>\n",
       "</tbody>\n",
       "</table>\n"
      ],
      "text/latex": [
       "A matrix: 4 × 4 of type dbl\n",
       "\\begin{tabular}{r|llll}\n",
       "  & U1 & V1 & U2 & V2\\\\\n",
       "\\hline\n",
       "\tU1 &  1.000000e+00 &  7.189801e-01 & -2.223860e-16 & -2.828798e-16\\\\\n",
       "\tV1 &  7.189801e-01 &  1.000000e+00 & -6.047747e-16 & -6.455950e-16\\\\\n",
       "\tU2 & -2.223860e-16 & -6.047747e-16 &  1.000000e+00 &  6.924053e-01\\\\\n",
       "\tV2 & -2.828798e-16 & -6.455950e-16 &  6.924053e-01 &  1.000000e+00\\\\\n",
       "\\end{tabular}\n"
      ],
      "text/markdown": [
       "\n",
       "A matrix: 4 × 4 of type dbl\n",
       "\n",
       "| <!--/--> | U1 | V1 | U2 | V2 |\n",
       "|---|---|---|---|---|\n",
       "| U1 |  1.000000e+00 |  7.189801e-01 | -2.223860e-16 | -2.828798e-16 |\n",
       "| V1 |  7.189801e-01 |  1.000000e+00 | -6.047747e-16 | -6.455950e-16 |\n",
       "| U2 | -2.223860e-16 | -6.047747e-16 |  1.000000e+00 |  6.924053e-01 |\n",
       "| V2 | -2.828798e-16 | -6.455950e-16 |  6.924053e-01 |  1.000000e+00 |\n",
       "\n"
      ],
      "text/plain": [
       "   U1            V1            U2            V2           \n",
       "U1  1.000000e+00  7.189801e-01 -2.223860e-16 -2.828798e-16\n",
       "V1  7.189801e-01  1.000000e+00 -6.047747e-16 -6.455950e-16\n",
       "U2 -2.223860e-16 -6.047747e-16  1.000000e+00  6.924053e-01\n",
       "V2 -2.828798e-16 -6.455950e-16  6.924053e-01  1.000000e+00"
      ]
     },
     "metadata": {},
     "output_type": "display_data"
    }
   ],
   "source": [
    "cor(data.frame(U1,V1,U2,V2))"
   ]
  },
  {
   "cell_type": "markdown",
   "id": "0f6e9aa0-093b-48bc-a8ec-e067fac7de78",
   "metadata": {},
   "source": [
    "Проведем кластеризацию объектов анализа по каноническим переменным:\n"
   ]
  },
  {
   "cell_type": "code",
   "execution_count": 68,
   "id": "ae5450cb-72f3-443b-b642-a14e8d7a837f",
   "metadata": {},
   "outputs": [
    {
     "data": {
      "image/png": "[encoded data removed]",
      "text/plain": [
       "plot without title"
      ]
     },
     "metadata": {
      "image/png": {
       "height": 420,
       "width": 420
      }
     },
     "output_type": "display_data"
    }
   ],
   "source": [
    "plot(U1,V1)"
   ]
  },
  {
   "cell_type": "markdown",
   "id": "7d7e6f35-3da2-4b6a-b769-d9c990eca243",
   "metadata": {},
   "source": [
    "Исследуем зависимость канонических переменных от качественного признака принадлежности южному штату."
   ]
  },
  {
   "cell_type": "code",
   "execution_count": 83,
   "id": "12fe224f-de4a-4a82-958f-791eac6bd849",
   "metadata": {},
   "outputs": [
    {
     "data": {
      "image/png": "[encoded data removed]",
      "text/plain": [
       "plot without title"
      ]
     },
     "metadata": {
      "image/png": {
       "height": 420,
       "width": 420
      }
     },
     "output_type": "display_data"
    }
   ],
   "source": [
    "\n",
    "plot(U1,V1, col=D$So+10)"
   ]
  },
  {
   "cell_type": "code",
   "execution_count": 84,
   "id": "509081b7-4a3e-448f-b0ef-378ff5f04b2e",
   "metadata": {},
   "outputs": [
    {
     "data": {
      "image/png": "[encoded data removed]",
      "text/plain": [
       "plot without title"
      ]
     },
     "metadata": {
      "image/png": {
       "height": 420,
       "width": 420
      }
     },
     "output_type": "display_data"
    }
   ],
   "source": [
    "plot(U2,V2, col=D$So+10)"
   ]
  },
  {
   "cell_type": "markdown",
   "id": "a5c7a57c-ac24-4950-91cb-d87470c1b0e9",
   "metadata": {},
   "source": [
    "Подберем влияющие факторы с максимальным коэффициентом корреляции:"
   ]
  },
  {
   "cell_type": "code",
   "execution_count": 85,
   "id": "004d9802-0384-4cb1-be5f-2626637c4622",
   "metadata": {},
   "outputs": [
    {
     "data": {
      "text/html": [
       "<style>\n",
       ".list-inline {list-style: none; margin:0; padding: 0}\n",
       ".list-inline>li {display: inline-block}\n",
       ".list-inline>li:not(:last-child)::after {content: \"\\00b7\"; padding: 0 .5ex}\n",
       "</style>\n",
       "<ol class=list-inline><li>'X'</li><li>'M'</li><li>'So'</li><li>'Ed'</li><li>'Po1'</li><li>'Po2'</li><li>'LF'</li><li>'M.F'</li><li>'Pop'</li><li>'NW'</li><li>'U1'</li><li>'U2'</li><li>'GDP'</li><li>'Ineq'</li><li>'Prob'</li><li>'Time'</li><li>'y'</li></ol>\n"
      ],
      "text/latex": [
       "\\begin{enumerate*}\n",
       "\\item 'X'\n",
       "\\item 'M'\n",
       "\\item 'So'\n",
       "\\item 'Ed'\n",
       "\\item 'Po1'\n",
       "\\item 'Po2'\n",
       "\\item 'LF'\n",
       "\\item 'M.F'\n",
       "\\item 'Pop'\n",
       "\\item 'NW'\n",
       "\\item 'U1'\n",
       "\\item 'U2'\n",
       "\\item 'GDP'\n",
       "\\item 'Ineq'\n",
       "\\item 'Prob'\n",
       "\\item 'Time'\n",
       "\\item 'y'\n",
       "\\end{enumerate*}\n"
      ],
      "text/markdown": [
       "1. 'X'\n",
       "2. 'M'\n",
       "3. 'So'\n",
       "4. 'Ed'\n",
       "5. 'Po1'\n",
       "6. 'Po2'\n",
       "7. 'LF'\n",
       "8. 'M.F'\n",
       "9. 'Pop'\n",
       "10. 'NW'\n",
       "11. 'U1'\n",
       "12. 'U2'\n",
       "13. 'GDP'\n",
       "14. 'Ineq'\n",
       "15. 'Prob'\n",
       "16. 'Time'\n",
       "17. 'y'\n",
       "\n",
       "\n"
      ],
      "text/plain": [
       " [1] \"X\"    \"M\"    \"So\"   \"Ed\"   \"Po1\"  \"Po2\"  \"LF\"   \"M.F\"  \"Pop\"  \"NW\"  \n",
       "[11] \"U1\"   \"U2\"   \"GDP\"  \"Ineq\" \"Prob\" \"Time\" \"y\"   "
      ]
     },
     "metadata": {},
     "output_type": "display_data"
    }
   ],
   "source": [
    "colnames(D)"
   ]
  },
  {
   "cell_type": "code",
   "execution_count": 86,
   "id": "56816490-ee9a-4e06-a7dd-c504841c7ccb",
   "metadata": {},
   "outputs": [],
   "source": [
    "DD<-data.frame(D$M, D$So, D$Ed, D$Po1, D$Po2, D$LF, \n",
    "               D$M.F, D$Pop, D$NW, D$U1, D$U2, D$GDP, \n",
    "               D$Ineq)\n",
    "colnames(DD)<-c(\"M\", \"So\", \"Ed\", \"Po1\", \"Po2\", \"LF\", \n",
    "               \"M.F\", \"Pop\", \"NW\", \"U1\", \"U2\", \"GDP\", \n",
    "               \"Ineq\")\n"
   ]
  },
  {
   "cell_type": "code",
   "execution_count": 99,
   "id": "4a03af2b-886a-43a3-ad65-18de5c492c0a",
   "metadata": {},
   "outputs": [
    {
     "data": {
      "text/html": [
       "<table class=\"dataframe\">\n",
       "<caption>A data.frame: 47 × 5</caption>\n",
       "<thead>\n",
       "\t<tr><th scope=col>Ineq</th><th scope=col>Po2</th><th scope=col>M.F</th><th scope=col>NW</th><th scope=col>Po1</th></tr>\n",
       "\t<tr><th scope=col>&lt;int&gt;</th><th scope=col>&lt;int&gt;</th><th scope=col>&lt;int&gt;</th><th scope=col>&lt;int&gt;</th><th scope=col>&lt;int&gt;</th></tr>\n",
       "</thead>\n",
       "<tbody>\n",
       "\t<tr><td>261</td><td> 56</td><td> 950</td><td>301</td><td> 58</td></tr>\n",
       "\t<tr><td>194</td><td> 95</td><td>1012</td><td>102</td><td>103</td></tr>\n",
       "\t<tr><td>250</td><td> 44</td><td> 969</td><td>219</td><td> 45</td></tr>\n",
       "\t<tr><td>167</td><td>141</td><td> 994</td><td> 80</td><td>149</td></tr>\n",
       "\t<tr><td>174</td><td>101</td><td> 985</td><td> 30</td><td>109</td></tr>\n",
       "\t<tr><td>126</td><td>115</td><td> 964</td><td> 44</td><td>118</td></tr>\n",
       "\t<tr><td>168</td><td> 79</td><td> 982</td><td>139</td><td> 82</td></tr>\n",
       "\t<tr><td>206</td><td>109</td><td> 969</td><td>179</td><td>115</td></tr>\n",
       "\t<tr><td>239</td><td> 62</td><td> 955</td><td>286</td><td> 65</td></tr>\n",
       "\t<tr><td>174</td><td> 68</td><td>1029</td><td> 15</td><td> 71</td></tr>\n",
       "\t<tr><td>170</td><td>116</td><td> 966</td><td>106</td><td>121</td></tr>\n",
       "\t<tr><td>172</td><td> 71</td><td> 972</td><td> 59</td><td> 75</td></tr>\n",
       "\t<tr><td>206</td><td> 60</td><td> 972</td><td> 10</td><td> 67</td></tr>\n",
       "\t<tr><td>190</td><td> 61</td><td> 986</td><td> 46</td><td> 62</td></tr>\n",
       "\t<tr><td>264</td><td> 53</td><td> 986</td><td> 72</td><td> 57</td></tr>\n",
       "\t<tr><td>247</td><td> 77</td><td> 956</td><td>321</td><td> 81</td></tr>\n",
       "\t<tr><td>166</td><td> 63</td><td> 977</td><td>  6</td><td> 66</td></tr>\n",
       "\t<tr><td>165</td><td>115</td><td> 978</td><td>170</td><td>123</td></tr>\n",
       "\t<tr><td>135</td><td>128</td><td> 934</td><td> 24</td><td>128</td></tr>\n",
       "\t<tr><td>166</td><td>105</td><td> 985</td><td> 94</td><td>113</td></tr>\n",
       "\t<tr><td>195</td><td> 67</td><td> 984</td><td> 12</td><td> 74</td></tr>\n",
       "\t<tr><td>276</td><td> 44</td><td> 962</td><td>423</td><td> 47</td></tr>\n",
       "\t<tr><td>227</td><td> 83</td><td> 953</td><td> 92</td><td> 87</td></tr>\n",
       "\t<tr><td>176</td><td> 73</td><td>1038</td><td> 36</td><td> 78</td></tr>\n",
       "\t<tr><td>196</td><td> 57</td><td> 984</td><td> 26</td><td> 63</td></tr>\n",
       "\t<tr><td>152</td><td>143</td><td>1071</td><td> 77</td><td>160</td></tr>\n",
       "\t<tr><td>139</td><td> 71</td><td> 965</td><td>  4</td><td> 69</td></tr>\n",
       "\t<tr><td>215</td><td> 76</td><td>1018</td><td> 79</td><td> 82</td></tr>\n",
       "\t<tr><td>154</td><td>157</td><td> 938</td><td> 89</td><td>166</td></tr>\n",
       "\t<tr><td>237</td><td> 54</td><td> 973</td><td>254</td><td> 58</td></tr>\n",
       "\t<tr><td>200</td><td> 54</td><td>1045</td><td> 20</td><td> 55</td></tr>\n",
       "\t<tr><td>163</td><td> 81</td><td> 964</td><td> 82</td><td> 90</td></tr>\n",
       "\t<tr><td>233</td><td> 64</td><td> 972</td><td> 95</td><td> 63</td></tr>\n",
       "\t<tr><td>166</td><td> 97</td><td> 990</td><td> 21</td><td> 97</td></tr>\n",
       "\t<tr><td>158</td><td> 87</td><td> 948</td><td> 76</td><td> 97</td></tr>\n",
       "\t<tr><td>153</td><td> 98</td><td> 964</td><td> 24</td><td>109</td></tr>\n",
       "\t<tr><td>254</td><td> 56</td><td> 974</td><td>349</td><td> 58</td></tr>\n",
       "\t<tr><td>225</td><td> 47</td><td>1024</td><td> 40</td><td> 51</td></tr>\n",
       "\t<tr><td>251</td><td> 54</td><td> 953</td><td>165</td><td> 61</td></tr>\n",
       "\t<tr><td>228</td><td> 74</td><td> 981</td><td>126</td><td> 82</td></tr>\n",
       "\t<tr><td>144</td><td> 66</td><td> 998</td><td> 19</td><td> 72</td></tr>\n",
       "\t<tr><td>170</td><td> 54</td><td> 968</td><td>  2</td><td> 56</td></tr>\n",
       "\t<tr><td>224</td><td> 70</td><td> 996</td><td>208</td><td> 75</td></tr>\n",
       "\t<tr><td>162</td><td> 96</td><td>1012</td><td> 36</td><td> 95</td></tr>\n",
       "\t<tr><td>249</td><td> 41</td><td> 968</td><td> 49</td><td> 46</td></tr>\n",
       "\t<tr><td>171</td><td> 97</td><td> 989</td><td> 24</td><td>106</td></tr>\n",
       "\t<tr><td>160</td><td> 91</td><td>1049</td><td> 22</td><td> 90</td></tr>\n",
       "</tbody>\n",
       "</table>\n"
      ],
      "text/latex": [
       "A data.frame: 47 × 5\n",
       "\\begin{tabular}{lllll}\n",
       " Ineq & Po2 & M.F & NW & Po1\\\\\n",
       " <int> & <int> & <int> & <int> & <int>\\\\\n",
       "\\hline\n",
       "\t 261 &  56 &  950 & 301 &  58\\\\\n",
       "\t 194 &  95 & 1012 & 102 & 103\\\\\n",
       "\t 250 &  44 &  969 & 219 &  45\\\\\n",
       "\t 167 & 141 &  994 &  80 & 149\\\\\n",
       "\t 174 & 101 &  985 &  30 & 109\\\\\n",
       "\t 126 & 115 &  964 &  44 & 118\\\\\n",
       "\t 168 &  79 &  982 & 139 &  82\\\\\n",
       "\t 206 & 109 &  969 & 179 & 115\\\\\n",
       "\t 239 &  62 &  955 & 286 &  65\\\\\n",
       "\t 174 &  68 & 1029 &  15 &  71\\\\\n",
       "\t 170 & 116 &  966 & 106 & 121\\\\\n",
       "\t 172 &  71 &  972 &  59 &  75\\\\\n",
       "\t 206 &  60 &  972 &  10 &  67\\\\\n",
       "\t 190 &  61 &  986 &  46 &  62\\\\\n",
       "\t 264 &  53 &  986 &  72 &  57\\\\\n",
       "\t 247 &  77 &  956 & 321 &  81\\\\\n",
       "\t 166 &  63 &  977 &   6 &  66\\\\\n",
       "\t 165 & 115 &  978 & 170 & 123\\\\\n",
       "\t 135 & 128 &  934 &  24 & 128\\\\\n",
       "\t 166 & 105 &  985 &  94 & 113\\\\\n",
       "\t 195 &  67 &  984 &  12 &  74\\\\\n",
       "\t 276 &  44 &  962 & 423 &  47\\\\\n",
       "\t 227 &  83 &  953 &  92 &  87\\\\\n",
       "\t 176 &  73 & 1038 &  36 &  78\\\\\n",
       "\t 196 &  57 &  984 &  26 &  63\\\\\n",
       "\t 152 & 143 & 1071 &  77 & 160\\\\\n",
       "\t 139 &  71 &  965 &   4 &  69\\\\\n",
       "\t 215 &  76 & 1018 &  79 &  82\\\\\n",
       "\t 154 & 157 &  938 &  89 & 166\\\\\n",
       "\t 237 &  54 &  973 & 254 &  58\\\\\n",
       "\t 200 &  54 & 1045 &  20 &  55\\\\\n",
       "\t 163 &  81 &  964 &  82 &  90\\\\\n",
       "\t 233 &  64 &  972 &  95 &  63\\\\\n",
       "\t 166 &  97 &  990 &  21 &  97\\\\\n",
       "\t 158 &  87 &  948 &  76 &  97\\\\\n",
       "\t 153 &  98 &  964 &  24 & 109\\\\\n",
       "\t 254 &  56 &  974 & 349 &  58\\\\\n",
       "\t 225 &  47 & 1024 &  40 &  51\\\\\n",
       "\t 251 &  54 &  953 & 165 &  61\\\\\n",
       "\t 228 &  74 &  981 & 126 &  82\\\\\n",
       "\t 144 &  66 &  998 &  19 &  72\\\\\n",
       "\t 170 &  54 &  968 &   2 &  56\\\\\n",
       "\t 224 &  70 &  996 & 208 &  75\\\\\n",
       "\t 162 &  96 & 1012 &  36 &  95\\\\\n",
       "\t 249 &  41 &  968 &  49 &  46\\\\\n",
       "\t 171 &  97 &  989 &  24 & 106\\\\\n",
       "\t 160 &  91 & 1049 &  22 &  90\\\\\n",
       "\\end{tabular}\n"
      ],
      "text/markdown": [
       "\n",
       "A data.frame: 47 × 5\n",
       "\n",
       "| Ineq &lt;int&gt; | Po2 &lt;int&gt; | M.F &lt;int&gt; | NW &lt;int&gt; | Po1 &lt;int&gt; |\n",
       "|---|---|---|---|---|\n",
       "| 261 |  56 |  950 | 301 |  58 |\n",
       "| 194 |  95 | 1012 | 102 | 103 |\n",
       "| 250 |  44 |  969 | 219 |  45 |\n",
       "| 167 | 141 |  994 |  80 | 149 |\n",
       "| 174 | 101 |  985 |  30 | 109 |\n",
       "| 126 | 115 |  964 |  44 | 118 |\n",
       "| 168 |  79 |  982 | 139 |  82 |\n",
       "| 206 | 109 |  969 | 179 | 115 |\n",
       "| 239 |  62 |  955 | 286 |  65 |\n",
       "| 174 |  68 | 1029 |  15 |  71 |\n",
       "| 170 | 116 |  966 | 106 | 121 |\n",
       "| 172 |  71 |  972 |  59 |  75 |\n",
       "| 206 |  60 |  972 |  10 |  67 |\n",
       "| 190 |  61 |  986 |  46 |  62 |\n",
       "| 264 |  53 |  986 |  72 |  57 |\n",
       "| 247 |  77 |  956 | 321 |  81 |\n",
       "| 166 |  63 |  977 |   6 |  66 |\n",
       "| 165 | 115 |  978 | 170 | 123 |\n",
       "| 135 | 128 |  934 |  24 | 128 |\n",
       "| 166 | 105 |  985 |  94 | 113 |\n",
       "| 195 |  67 |  984 |  12 |  74 |\n",
       "| 276 |  44 |  962 | 423 |  47 |\n",
       "| 227 |  83 |  953 |  92 |  87 |\n",
       "| 176 |  73 | 1038 |  36 |  78 |\n",
       "| 196 |  57 |  984 |  26 |  63 |\n",
       "| 152 | 143 | 1071 |  77 | 160 |\n",
       "| 139 |  71 |  965 |   4 |  69 |\n",
       "| 215 |  76 | 1018 |  79 |  82 |\n",
       "| 154 | 157 |  938 |  89 | 166 |\n",
       "| 237 |  54 |  973 | 254 |  58 |\n",
       "| 200 |  54 | 1045 |  20 |  55 |\n",
       "| 163 |  81 |  964 |  82 |  90 |\n",
       "| 233 |  64 |  972 |  95 |  63 |\n",
       "| 166 |  97 |  990 |  21 |  97 |\n",
       "| 158 |  87 |  948 |  76 |  97 |\n",
       "| 153 |  98 |  964 |  24 | 109 |\n",
       "| 254 |  56 |  974 | 349 |  58 |\n",
       "| 225 |  47 | 1024 |  40 |  51 |\n",
       "| 251 |  54 |  953 | 165 |  61 |\n",
       "| 228 |  74 |  981 | 126 |  82 |\n",
       "| 144 |  66 |  998 |  19 |  72 |\n",
       "| 170 |  54 |  968 |   2 |  56 |\n",
       "| 224 |  70 |  996 | 208 |  75 |\n",
       "| 162 |  96 | 1012 |  36 |  95 |\n",
       "| 249 |  41 |  968 |  49 |  46 |\n",
       "| 171 |  97 |  989 |  24 | 106 |\n",
       "| 160 |  91 | 1049 |  22 |  90 |\n",
       "\n"
      ],
      "text/plain": [
       "   Ineq Po2 M.F  NW  Po1\n",
       "1  261   56  950 301  58\n",
       "2  194   95 1012 102 103\n",
       "3  250   44  969 219  45\n",
       "4  167  141  994  80 149\n",
       "5  174  101  985  30 109\n",
       "6  126  115  964  44 118\n",
       "7  168   79  982 139  82\n",
       "8  206  109  969 179 115\n",
       "9  239   62  955 286  65\n",
       "10 174   68 1029  15  71\n",
       "11 170  116  966 106 121\n",
       "12 172   71  972  59  75\n",
       "13 206   60  972  10  67\n",
       "14 190   61  986  46  62\n",
       "15 264   53  986  72  57\n",
       "16 247   77  956 321  81\n",
       "17 166   63  977   6  66\n",
       "18 165  115  978 170 123\n",
       "19 135  128  934  24 128\n",
       "20 166  105  985  94 113\n",
       "21 195   67  984  12  74\n",
       "22 276   44  962 423  47\n",
       "23 227   83  953  92  87\n",
       "24 176   73 1038  36  78\n",
       "25 196   57  984  26  63\n",
       "26 152  143 1071  77 160\n",
       "27 139   71  965   4  69\n",
       "28 215   76 1018  79  82\n",
       "29 154  157  938  89 166\n",
       "30 237   54  973 254  58\n",
       "31 200   54 1045  20  55\n",
       "32 163   81  964  82  90\n",
       "33 233   64  972  95  63\n",
       "34 166   97  990  21  97\n",
       "35 158   87  948  76  97\n",
       "36 153   98  964  24 109\n",
       "37 254   56  974 349  58\n",
       "38 225   47 1024  40  51\n",
       "39 251   54  953 165  61\n",
       "40 228   74  981 126  82\n",
       "41 144   66  998  19  72\n",
       "42 170   54  968   2  56\n",
       "43 224   70  996 208  75\n",
       "44 162   96 1012  36  95\n",
       "45 249   41  968  49  46\n",
       "46 171   97  989  24 106\n",
       "47 160   91 1049  22  90"
      ]
     },
     "metadata": {},
     "output_type": "display_data"
    },
    {
     "name": "stdout",
     "output_type": "stream",
     "text": [
      "[1] 0.8103416\n"
     ]
    }
   ],
   "source": [
    "cmax<-0\n",
    "for (i in c(1:100)){\n",
    "    P<-data.frame(DD[,sample(c(1:13), sample(c(1:5),1))])\n",
    "    res<-cancor(W,P)\n",
    "    if (abs(cmax)<abs(res$cor[1])) {cmax<-res$cor[1]; Pmax<-data.frame(P)}\n",
    "    }\n",
    "View(Pmax)\n",
    "print(cmax)\n",
    "    "
   ]
  },
  {
   "cell_type": "markdown",
   "id": "292f9dd8-e592-4d49-92c3-27b3ce603e1f",
   "metadata": {
    "jp-MarkdownHeadingCollapsed": true,
    "tags": []
   },
   "source": [
    "## Метод главных компонент"
   ]
  },
  {
   "cell_type": "markdown",
   "id": "1d8e13e1-928d-4ce1-b678-9843c6c3993f",
   "metadata": {},
   "source": [
    "Следует учитывать, что  наличие корреляции между признаками снижает их общую информативность вследствие дублирования общей для них информации. Поэтому добавление нового признака к уже отобранным обеспечивает прирост информативности в той степени, в которой он содержит полезную информацию, отсутствующую в ранее выбранных переменных. Наиболее простой является ситуация отбора взаимно ортогональных признаков, в которой алгоритм отбора реализуется предельно просто: переменные ранжируются по информативности, и используется такой состав первых в этом рейтинге признаков, который обеспечивает заданную информативность.\n",
    "\n",
    "Ограниченность методов отбора признаков с целью снижения размерности пространства связана с предположением о непосредственном присутствии необходимых признаков в исходных данных, что обычно оказывается неверным. \n",
    "\n",
    "Альтернативный подход к снижению размерности предусматривает преобразование признаков в сокращенный набор новых переменных. В отличие от отбора исходных признаков формирование нового признакового пространства предполагает создание новых переменных, которые обычно являются функциями исходных признаков. Эти переменные, непосредственно ненаблюдаемые, часто называют скрытыми, или латентными. В процессе создания эти переменные могут быть наделены различными полезными свойствами, такими как ортогональность. На практике исходные признаки обычно взаимосвязаны, поэтому трансформация их пространства в ортогональное порождает новые координаты-признаки, в которых отсутствует эффект дублирования информации об исследуемых объектах.\n",
    "\n",
    "Отображение объектов в новом ортогональном признаковом пространстве создает возможность наглядно представить полезность каждого из признаков с точки зрения различий между этими объектами. Если координаты нового базиса упорядочить по дисперсии, характеризующей разброс значений по ним для рассматриваемых наблюдений, то становится очевидной ненужность с практической точки зрения некоторых признаков с малыми значениями дисперсий, так как объекты по этим признакам практически неразличимы по сравнению с их различиями по более информативным переменным. В такой ситуации можно говорить о так называемом вырождении исходного признакового пространства из $k$ переменных, и реальная размерность этого пространства может быть меньше исходной, в котором отсутствует эффект дублирования информации об исследуемых объектах.\n"
   ]
  },
  {
   "cell_type": "markdown",
   "id": "cf28a1fa-6fda-49ee-ad89-0dbc6a4d716a",
   "metadata": {},
   "source": [
    "Компонентный анализ является одним из основных направлений снижения размерности. Он позволяет получить новый ортогональный базис для отображения данных об объектах исследования. Компонентный анализ реализуется с помощью **метода главных компонент**, который предполагает формирование новых признаков, являющихся линейными комбинациями исходных переменных, причем эти линейные комбинации определяются характеристическими векторами ковариационной матрицы.\n",
    "\n",
    "В рамках статистического подхода задача метода главных компонент состоит в переходе от многомерных распределений исходных признаков к распределениям новых некоррелированных признаков меньшей размерности, имеющих максимально возможную дисперсию, что должно обеспечить сохранение основной информации, содержащейся в исходных статистических данных."
   ]
  },
  {
   "cell_type": "markdown",
   "id": "cf011ba4-4b95-4268-92dd-0f62dc97c09c",
   "metadata": {},
   "source": [
    "Метод главных компонент состоит из следующих шагов:\n",
    "    \n",
    "1. Стандартизация искомой признаковой матрицы:"
   ]
  },
  {
   "cell_type": "code",
   "execution_count": 103,
   "id": "0773b111-9d13-422f-9b50-e85d24d6ac68",
   "metadata": {},
   "outputs": [
    {
     "data": {
      "text/html": [
       "<table class=\"dataframe\">\n",
       "<caption>A matrix: 47 × 16 of type dbl</caption>\n",
       "<thead>\n",
       "\t<tr><th scope=col>M</th><th scope=col>So</th><th scope=col>Ed</th><th scope=col>Po1</th><th scope=col>Po2</th><th scope=col>LF</th><th scope=col>M.F</th><th scope=col>Pop</th><th scope=col>NW</th><th scope=col>U1</th><th scope=col>U2</th><th scope=col>GDP</th><th scope=col>Ineq</th><th scope=col>Prob</th><th scope=col>Time</th><th scope=col>y</th></tr>\n",
       "</thead>\n",
       "<tbody>\n",
       "\t<tr><td> 0.98869302</td><td> 1.3770536</td><td>-1.30850986</td><td>-0.90851051</td><td>-0.86669885</td><td>-1.26674565</td><td>-1.12060499</td><td>-0.09500679</td><td> 1.943738564</td><td> 0.69510600</td><td> 0.831367974</td><td>-1.361609422</td><td> 1.67936380</td><td> 1.649763068</td><td>-0.05599367</td><td>-0.29497443</td></tr>\n",
       "\t<tr><td> 0.35213724</td><td>-0.7107373</td><td> 0.65805874</td><td> 0.60567368</td><td> 0.52808516</td><td> 0.53965681</td><td> 0.98341752</td><td>-0.62033844</td><td> 0.008483424</td><td> 0.02950365</td><td> 0.239333205</td><td> 0.327668275</td><td> 0.00000000</td><td>-0.769336516</td><td>-0.18315796</td><td> 1.88724223</td></tr>\n",
       "\t<tr><td> 0.27256777</td><td> 1.3770536</td><td>-1.48728882</td><td>-1.34594150</td><td>-1.29586316</td><td>-0.69760515</td><td>-0.47582390</td><td>-0.48900552</td><td> 1.146296747</td><td>-0.08143007</td><td>-0.115887657</td><td>-2.149248102</td><td> 1.40364736</td><td> 1.596941611</td><td>-0.32416470</td><td>-0.84569972</td></tr>\n",
       "\t<tr><td>-0.20484907</td><td>-0.7107373</td><td> 1.37317459</td><td> 2.15350641</td><td> 2.17321502</td><td> 0.39118538</td><td> 0.37257228</td><td> 3.16204944</td><td>-0.205464381</td><td> 0.36230482</td><td> 0.594554066</td><td> 1.529853630</td><td>-0.67675855</td><td>-1.376189525</td><td> 0.46611085</td><td> 2.75082086</td></tr>\n",
       "\t<tr><td> 0.19299830</td><td>-0.7107373</td><td> 1.37317459</td><td> 0.80756490</td><td> 0.74266732</td><td> 0.73761872</td><td> 0.06714965</td><td>-0.48900552</td><td>-0.691709391</td><td>-0.24783066</td><td>-1.655178058</td><td> 0.545305279</td><td>-0.50130263</td><td>-0.250358004</td><td>-0.74759413</td><td> 0.85043076</td></tr>\n",
       "\t<tr><td>-1.39839116</td><td>-0.7107373</td><td> 0.38989029</td><td> 1.11040174</td><td> 1.24335901</td><td>-0.35117180</td><td>-0.64550313</td><td>-0.30513945</td><td>-0.555560788</td><td>-0.63609870</td><td>-0.589515473</td><td> 1.695672300</td><td>-1.70442893</td><td>-0.566934896</td><td>-0.78996812</td><td>-0.57680099</td></tr>\n",
       "\t<tr><td>-0.92097432</td><td> 1.3770536</td><td> 0.47927977</td><td>-0.10094561</td><td>-0.04413392</td><td>-1.04403849</td><td>-0.03465789</td><td>-0.85673768</td><td> 0.368304731</td><td> 0.08497051</td><td> 0.476147113</td><td> 0.980579287</td><td>-0.65169342</td><td>-0.219527162</td><td>-0.83232800</td><td> 0.14974271</td></tr>\n",
       "\t<tr><td>-0.60269643</td><td> 1.3770536</td><td> 0.30050081</td><td> 1.00945613</td><td> 1.02877686</td><td>-0.47489799</td><td>-0.47582390</td><td> 0.35152511</td><td> 0.757300739</td><td>-0.91343301</td><td> 0.120926251</td><td>-0.553243407</td><td> 0.30078158</td><td>-0.307533603</td><td>-0.28208704</td><td> 1.68039705</td></tr>\n",
       "\t<tr><td> 1.46610986</td><td> 1.3770536</td><td>-1.39789934</td><td>-0.67297075</td><td>-0.65211669</td><td>-0.20270036</td><td>-0.95092575</td><td> 0.06259271</td><td> 1.797865061</td><td>-0.80249928</td><td>-0.707922427</td><td>-1.081790417</td><td> 1.12793091</td><td> 1.082185297</td><td> 0.39540287</td><td>-0.12691272</td></tr>\n",
       "\t<tr><td> 0.11342882</td><td>-0.7107373</td><td> 1.10500615</td><td>-0.47107953</td><td>-0.43753454</td><td> 1.75217353</td><td> 1.56032692</td><td>-0.77793793</td><td>-0.837582894</td><td> 0.25137110</td><td>-1.181550242</td><td> 0.006394603</td><td>-0.50130263</td><td>-0.114060173</td><td>-0.98752995</td><td>-0.51733300</td></tr>\n",
       "\t<tr><td>-1.15968274</td><td>-0.7107373</td><td>-0.05705712</td><td> 1.21134735</td><td> 1.27912270</td><td> 0.46542109</td><td>-0.57763144</td><td> 1.69112082</td><td> 0.047383024</td><td>-1.02436673</td><td> 0.120926251</td><td> 1.364034961</td><td>-0.60156315</td><td>-1.358597033</td><td> 2.11687605</td><td> 1.98807925</td></tr>\n",
       "\t<tr><td>-0.36398801</td><td>-0.7107373</td><td> 0.21111133</td><td>-0.33648538</td><td>-0.33024346</td><td> 0.83659968</td><td>-0.37401635</td><td> 0.27272537</td><td>-0.409687285</td><td>-0.69156556</td><td>-0.352701565</td><td> 0.566032613</td><td>-0.55143289</td><td>-0.698878586</td><td> 1.08658002</td><td>-0.14501167</td></tr>\n",
       "\t<tr><td>-0.84140485</td><td>-0.7107373</td><td> 0.65805874</td><td>-0.60567368</td><td>-0.72364408</td><td> 1.55421161</td><td>-0.37401635</td><td>-0.22633970</td><td>-0.886207395</td><td>-1.02436673</td><td>-1.063143288</td><td>-0.190515067</td><td> 0.30078158</td><td>-0.078699264</td><td> 1.36891805</td><td>-1.01893256</td></tr>\n",
       "\t<tr><td>-0.28441854</td><td>-0.7107373</td><td> 1.01561666</td><td>-0.77391636</td><td>-0.68788038</td><td> 0.83659968</td><td> 0.10108550</td><td>-0.38393920</td><td>-0.536110988</td><td>-1.02436673</td><td>-0.826329381</td><td> 0.037485604</td><td>-0.10026053</td><td> 0.268664489</td><td>-0.71920370</td><td>-0.62334116</td></tr>\n",
       "\t<tr><td> 1.06826250</td><td> 1.3770536</td><td>-1.66606779</td><td>-0.94215905</td><td>-0.97398992</td><td>-0.77184086</td><td> 0.10108550</td><td>-0.17380654</td><td>-0.283263583</td><td>-0.19236380</td><td> 1.068181882</td><td>-1.247609086</td><td> 1.75455920</td><td> 0.967966043</td><td>-0.54990531</td><td>-0.27687548</td></tr>\n",
       "\t<tr><td> 0.27256777</td><td> 1.3770536</td><td>-1.57667830</td><td>-0.13459415</td><td>-0.11566130</td><td>-1.58843375</td><td>-0.91698990</td><td>-0.09500679</td><td> 2.138236568</td><td> 1.13884089</td><td> 1.541809698</td><td>-1.019608415</td><td> 1.32845196</td><td> 0.220241155</td><td>-0.07038643</td><td> 0.10578811</td></tr>\n",
       "\t<tr><td> 0.35213724</td><td>-0.7107373</td><td> 0.38989029</td><td>-0.63932221</td><td>-0.61635300</td><td>-0.59862419</td><td>-0.20433712</td><td>-0.69913818</td><td>-0.925106996</td><td> 1.02790717</td><td> 0.120926251</td><td>-0.397788404</td><td>-0.70182368</td><td> 1.284586917</td><td>-1.05796983</td><td>-0.94653675</td></tr>\n",
       "\t<tr><td>-0.28441854</td><td> 1.3770536</td><td>-0.14644660</td><td> 1.27864443</td><td> 1.24335901</td><td>-0.59862419</td><td>-0.17040127</td><td>-0.14753995</td><td> 0.669776637</td><td>-0.35876438</td><td> 0.002519297</td><td> 1.094579622</td><td>-0.72688881</td><td> 3.197990320</td><td>-1.18504945</td><td> 0.06183351</td></tr>\n",
       "\t<tr><td>-0.68226590</td><td>-0.7107373</td><td> 0.92622718</td><td> 1.44688712</td><td> 1.70828701</td><td>-0.62336943</td><td>-1.66357854</td><td> 0.37779170</td><td>-0.750058792</td><td>-0.96889987</td><td> 0.002519297</td><td> 1.053124955</td><td>-1.47884275</td><td>-1.231139429</td><td>-0.23947317</td><td>-0.40098259</td></tr>\n",
       "\t<tr><td>-1.08011327</td><td>-0.7107373</td><td> 0.21111133</td><td> 0.94215905</td><td> 0.88572209</td><td> 0.14373298</td><td> 0.06714965</td><td> 1.08698942</td><td>-0.069315778</td><td> 1.91537696</td><td> 2.844286191</td><td> 1.042761288</td><td>-0.70182368</td><td>-0.540546158</td><td>-0.02778668</td><td> 0.82716067</td></tr>\n",
       "\t<tr><td>-1.00054380</td><td>-0.7107373</td><td> 0.21111133</td><td>-0.37013391</td><td>-0.47329823</td><td> 1.00981635</td><td> 0.03321381</td><td>-0.06874021</td><td>-0.866757595</td><td> 0.36230482</td><td>-0.115887657</td><td> 0.327668275</td><td> 0.02506513</td><td>-1.068364897</td><td> 1.55242577</td><td>-0.42166710</td></tr>\n",
       "\t<tr><td> 1.46610986</td><td> 1.3770536</td><td>-1.48728882</td><td>-1.27864443</td><td>-1.29586316</td><td>-1.21725517</td><td>-0.71337482</td><td>-0.38393920</td><td> 3.130176389</td><td> 0.08497051</td><td> 0.002519297</td><td>-2.460158108</td><td> 2.05534077</td><td> 1.865271094</td><td> 1.48181657</td><td>-1.20509323</td></tr>\n",
       "\t<tr><td>-0.52312696</td><td>-0.7107373</td><td>-0.86156245</td><td> 0.06729708</td><td> 0.09892085</td><td> 0.06949727</td><td>-1.01879745</td><td> 0.16765904</td><td>-0.088765578</td><td>-0.69156556</td><td>-0.234294611</td><td>-0.128333066</td><td> 0.82714933</td><td>-0.720913182</td><td>-0.19740962</td><td> 0.80389059</td></tr>\n",
       "\t<tr><td>-0.60269643</td><td>-0.7107373</td><td> 0.92622718</td><td>-0.23553976</td><td>-0.25871607</td><td> 0.31694966</td><td> 1.86574954</td><td>-0.77793793</td><td>-0.633359990</td><td> 2.58097931</td><td> 0.949774928</td><td> 0.151485939</td><td>-0.45117236</td><td>-0.241605739</td><td>-1.26965632</td><td> 0.16267053</td></tr>\n",
       "\t<tr><td>-0.68226590</td><td>-0.7107373</td><td> 0.92622718</td><td>-0.74026783</td><td>-0.83093515</td><td> 1.97488068</td><td> 0.03321381</td><td>-0.59407185</td><td>-0.730608992</td><td>-1.41263477</td><td>-1.536771104</td><td>-0.408152071</td><td> 0.05013026</td><td> 0.972232223</td><td>-0.66286027</td><td>-0.98790579</td></tr>\n",
       "\t<tr><td>-0.60269643</td><td>-0.7107373</td><td> 1.37317459</td><td> 2.52364032</td><td> 2.24474240</td><td> 1.72742829</td><td> 2.98563248</td><td>-0.88300426</td><td>-0.234639082</td><td> 0.36230482</td><td> 0.831367974</td><td> 1.540217297</td><td>-1.05273552</td><td>-0.237207616</td><td>-0.63461095</td><td> 2.81287441</td></tr>\n",
       "\t<tr><td>-0.28441854</td><td>-0.7107373</td><td> 0.30050081</td><td>-0.53837660</td><td>-0.33024346</td><td>-0.52438847</td><td>-0.61156728</td><td>-0.80420451</td><td>-0.944556796</td><td>-0.85796614</td><td>-1.418364150</td><td> 0.400213943</td><td>-1.37858222</td><td>-0.483458522</td><td> 0.26837969</td><td>-1.45589301</td></tr>\n",
       "\t<tr><td> 1.06826250</td><td>-0.7107373</td><td> 0.56866926</td><td>-0.10094561</td><td>-0.15142500</td><td> 0.24271394</td><td> 1.18703260</td><td>-0.69913818</td><td>-0.215189281</td><td> 0.41777168</td><td>-0.707922427</td><td> 0.120394938</td><td> 0.52636776</td><td>-0.391009977</td><td>-0.11250643</td><td> 0.80389059</td></tr>\n",
       "\t<tr><td>-1.55753010</td><td>-0.7107373</td><td> 0.12172185</td><td> 2.72553154</td><td> 2.74543410</td><td>-0.99454801</td><td>-1.52783515</td><td> 3.45098185</td><td>-0.117940279</td><td>-0.19236380</td><td> 0.239333205</td><td> 1.156761624</td><td>-1.00260525</td><td>-1.041976160</td><td> 1.42558602</td><td> 0.35658789</td></tr>\n",
       "\t<tr><td> 2.18223511</td><td> 1.3770536</td><td>-1.48728882</td><td>-0.90851051</td><td>-0.93822623</td><td>-0.99454801</td><td>-0.34008051</td><td> 0.24645878</td><td> 1.486668255</td><td>-1.30170104</td><td>-0.944736334</td><td>-1.340882088</td><td> 1.07780065</td><td> 1.240561706</td><td> 0.24032791</td><td>-0.54060308</td></tr>\n",
       "\t<tr><td> 0.11342882</td><td>-0.7107373</td><td>-1.12973090</td><td>-1.00945613</td><td>-0.93822623</td><td>-0.64811467</td><td> 2.10330047</td><td>-0.80420451</td><td>-0.788958393</td><td> 2.19271127</td><td> 0.712961020</td><td>-0.750153077</td><td> 0.15039079</td><td>-0.223969266</td><td>-0.67704138</td><td>-1.37574050</td></tr>\n",
       "\t<tr><td>-1.08011327</td><td>-0.7107373</td><td> 0.30050081</td><td> 0.16824269</td><td> 0.02739347</td><td> 0.61389253</td><td>-0.64550313</td><td> 1.58605449</td><td>-0.186014580</td><td> 0.52870541</td><td> 1.068181882</td><td> 0.949488287</td><td>-0.77701907</td><td>-0.193226386</td><td> 0.60724458</td><td>-0.39064033</td></tr>\n",
       "\t<tr><td> 0.67041513</td><td> 1.3770536</td><td>-0.14644660</td><td>-0.74026783</td><td>-0.58058931</td><td>-0.02948369</td><td>-0.37401635</td><td>-0.35767261</td><td>-0.059590878</td><td>-1.07983359</td><td>-1.181550242</td><td>-0.656880076</td><td> 0.97754012</td><td> 0.105889958</td><td>-0.15485220</td><td> 0.43156927</td></tr>\n",
       "\t<tr><td>-1.00054380</td><td>-0.7107373</td><td> 1.10500615</td><td> 0.40378245</td><td> 0.59961255</td><td>-0.47489799</td><td> 0.23682889</td><td>-0.48900552</td><td>-0.779233493</td><td> 0.36230482</td><td> 0.120926251</td><td> 0.659305615</td><td>-0.70182368</td><td>-0.276746742</td><td>-0.69116604</td><td> 0.04632012</td></tr>\n",
       "\t<tr><td>-1.23925221</td><td>-0.7107373</td><td>-0.32522556</td><td> 0.40378245</td><td> 0.24197562</td><td>-0.87082182</td><td>-1.18847668</td><td> 2.00631981</td><td>-0.244363982</td><td> 1.58257579</td><td> 1.897030560</td><td> 0.483123278</td><td>-0.90234473</td><td>-1.160725480</td><td> 1.52438810</td><td>-0.65178237</td></tr>\n",
       "\t<tr><td> 0.90912355</td><td>-0.7107373</td><td>-0.50400452</td><td> 0.80756490</td><td> 0.63537624</td><td>-0.74709562</td><td>-0.64550313</td><td>-0.72540477</td><td>-0.750058792</td><td>-0.46969811</td><td> 0.476147113</td><td> 0.348395609</td><td>-1.02767039</td><td>-1.767666452</td><td> 2.45558573</td><td> 0.94868222</td></tr>\n",
       "\t<tr><td> 3.05749931</td><td> 1.3770536</td><td>-1.66606779</td><td>-0.90851051</td><td>-0.86669885</td><td> 1.90064496</td><td>-0.30614466</td><td>-0.33140603</td><td> 2.410533774</td><td>-1.07983359</td><td>-0.707922427</td><td>-1.485973424</td><td> 1.50390788</td><td>-0.083273312</td><td> 0.71986090</td><td>-0.19155184</td></tr>\n",
       "\t<tr><td>-0.44355749</td><td>-0.7107373</td><td>-0.14644660</td><td>-1.14405028</td><td>-1.18857208</td><td> 0.93558064</td><td> 1.39064768</td><td>-0.77793793</td><td>-0.594460389</td><td> 0.19590424</td><td>-0.826329381</td><td>-1.040335749</td><td> 0.77701907</td><td> 0.303761510</td><td>-1.39666540</td><td>-0.87672650</td></tr>\n",
       "\t<tr><td> 0.82955408</td><td> 1.3770536</td><td>-1.57667830</td><td>-0.80756490</td><td>-0.93822623</td><td>-1.14301945</td><td>-1.01879745</td><td>-0.01620704</td><td> 0.621152136</td><td>-0.52516497</td><td> 0.120926251</td><td>-1.351245755</td><td> 1.42871249</td><td> 0.000335006</td><td> 0.09912362</td><td>-0.20447966</td></tr>\n",
       "\t<tr><td> 0.51127619</td><td> 1.3770536</td><td>-0.14644660</td><td>-0.10094561</td><td>-0.22295238</td><td>-0.02948369</td><td>-0.06859373</td><td> 1.55978791</td><td> 0.241881028</td><td>-0.41423125</td><td>-0.352701565</td><td>-0.387424737</td><td> 0.85221447</td><td>-0.364621239</td><td> 0.38133465</td><td> 0.63582888</td></tr>\n",
       "\t<tr><td> 0.74998460</td><td>-0.7107373</td><td> 1.46256407</td><td>-0.43743099</td><td>-0.50906192</td><td> 0.98507111</td><td> 0.50831566</td><td>-0.72540477</td><td>-0.798683293</td><td>-0.63609870</td><td>-1.655178058</td><td> 0.669669282</td><td>-1.25325657</td><td>-0.967208069</td><td> 0.48006618</td><td>-0.06485917</td></tr>\n",
       "\t<tr><td> 0.19299830</td><td>-0.7107373</td><td> 0.30050081</td><td>-0.97580759</td><td>-0.93822623</td><td>-0.94505754</td><td>-0.50975974</td><td>-0.85673768</td><td>-0.964006597</td><td> 0.63963913</td><td> 0.357740159</td><td>-0.377061071</td><td>-0.60156315</td><td> 1.838970319</td><td>-2.03168255</td><td>-0.93878006</td></tr>\n",
       "\t<tr><td> 1.86395722</td><td> 1.3770536</td><td>-0.59339401</td><td>-0.33648538</td><td>-0.36600715</td><td>-0.96980278</td><td> 0.44044397</td><td> 0.08885929</td><td> 1.039322845</td><td>-1.24623418</td><td>-0.826329381</td><td>-0.304515403</td><td> 0.75195394</td><td> 0.343520542</td><td> 0.76210789</td><td>-0.21223636</td></tr>\n",
       "\t<tr><td>-0.20484907</td><td>-0.7107373</td><td> 1.37317459</td><td> 0.33648538</td><td> 0.56384885</td><td> 0.31694966</td><td> 0.98341752</td><td>-0.20007312</td><td>-0.633359990</td><td> 0.86150658</td><td> 0.357740159</td><td> 1.001306621</td><td>-0.80208420</td><td>-0.835264379</td><td> 0.48006618</td><td> 0.32297555</td></tr>\n",
       "\t<tr><td> 0.03385935</td><td> 1.3770536</td><td>-1.57667830</td><td>-1.31229297</td><td>-1.40315423</td><td>-2.00910282</td><td>-0.50975974</td><td>-0.46273894</td><td>-0.506936287</td><td> 2.19271127</td><td> 2.252251421</td><td>-0.708698410</td><td> 1.37858222</td><td> 0.400696141</td><td> 0.84686997</td><td>-1.16372419</td></tr>\n",
       "\t<tr><td>-1.00054380</td><td>-0.7107373</td><td>-0.14644660</td><td> 0.70661929</td><td> 0.59961255</td><td> 0.93558064</td><td> 0.20289304</td><td> 0.08885929</td><td>-0.750058792</td><td>-0.96889987</td><td>-1.063143288</td><td> 0.700760282</td><td>-0.57649802</td><td>-0.021699590</td><td>-1.39666540</td><td>-1.02668926</td></tr>\n",
       "\t<tr><td>-0.68226590</td><td>-0.7107373</td><td> 1.37317459</td><td> 0.16824269</td><td> 0.38503039</td><td> 1.52946638</td><td> 2.23904385</td><td>-0.88300426</td><td>-0.769508593</td><td> 0.97244031</td><td> 0.712961020</td><td> 0.648941948</td><td>-0.85221447</td><td> 0.251159960</td><td>-1.48135693</td><td>-0.14501167</td></tr>\n",
       "</tbody>\n",
       "</table>\n"
      ],
      "text/latex": [
       "A matrix: 47 × 16 of type dbl\n",
       "\\begin{tabular}{llllllllllllllll}\n",
       " M & So & Ed & Po1 & Po2 & LF & M.F & Pop & NW & U1 & U2 & GDP & Ineq & Prob & Time & y\\\\\n",
       "\\hline\n",
       "\t  0.98869302 &  1.3770536 & -1.30850986 & -0.90851051 & -0.86669885 & -1.26674565 & -1.12060499 & -0.09500679 &  1.943738564 &  0.69510600 &  0.831367974 & -1.361609422 &  1.67936380 &  1.649763068 & -0.05599367 & -0.29497443\\\\\n",
       "\t  0.35213724 & -0.7107373 &  0.65805874 &  0.60567368 &  0.52808516 &  0.53965681 &  0.98341752 & -0.62033844 &  0.008483424 &  0.02950365 &  0.239333205 &  0.327668275 &  0.00000000 & -0.769336516 & -0.18315796 &  1.88724223\\\\\n",
       "\t  0.27256777 &  1.3770536 & -1.48728882 & -1.34594150 & -1.29586316 & -0.69760515 & -0.47582390 & -0.48900552 &  1.146296747 & -0.08143007 & -0.115887657 & -2.149248102 &  1.40364736 &  1.596941611 & -0.32416470 & -0.84569972\\\\\n",
       "\t -0.20484907 & -0.7107373 &  1.37317459 &  2.15350641 &  2.17321502 &  0.39118538 &  0.37257228 &  3.16204944 & -0.205464381 &  0.36230482 &  0.594554066 &  1.529853630 & -0.67675855 & -1.376189525 &  0.46611085 &  2.75082086\\\\\n",
       "\t  0.19299830 & -0.7107373 &  1.37317459 &  0.80756490 &  0.74266732 &  0.73761872 &  0.06714965 & -0.48900552 & -0.691709391 & -0.24783066 & -1.655178058 &  0.545305279 & -0.50130263 & -0.250358004 & -0.74759413 &  0.85043076\\\\\n",
       "\t -1.39839116 & -0.7107373 &  0.38989029 &  1.11040174 &  1.24335901 & -0.35117180 & -0.64550313 & -0.30513945 & -0.555560788 & -0.63609870 & -0.589515473 &  1.695672300 & -1.70442893 & -0.566934896 & -0.78996812 & -0.57680099\\\\\n",
       "\t -0.92097432 &  1.3770536 &  0.47927977 & -0.10094561 & -0.04413392 & -1.04403849 & -0.03465789 & -0.85673768 &  0.368304731 &  0.08497051 &  0.476147113 &  0.980579287 & -0.65169342 & -0.219527162 & -0.83232800 &  0.14974271\\\\\n",
       "\t -0.60269643 &  1.3770536 &  0.30050081 &  1.00945613 &  1.02877686 & -0.47489799 & -0.47582390 &  0.35152511 &  0.757300739 & -0.91343301 &  0.120926251 & -0.553243407 &  0.30078158 & -0.307533603 & -0.28208704 &  1.68039705\\\\\n",
       "\t  1.46610986 &  1.3770536 & -1.39789934 & -0.67297075 & -0.65211669 & -0.20270036 & -0.95092575 &  0.06259271 &  1.797865061 & -0.80249928 & -0.707922427 & -1.081790417 &  1.12793091 &  1.082185297 &  0.39540287 & -0.12691272\\\\\n",
       "\t  0.11342882 & -0.7107373 &  1.10500615 & -0.47107953 & -0.43753454 &  1.75217353 &  1.56032692 & -0.77793793 & -0.837582894 &  0.25137110 & -1.181550242 &  0.006394603 & -0.50130263 & -0.114060173 & -0.98752995 & -0.51733300\\\\\n",
       "\t -1.15968274 & -0.7107373 & -0.05705712 &  1.21134735 &  1.27912270 &  0.46542109 & -0.57763144 &  1.69112082 &  0.047383024 & -1.02436673 &  0.120926251 &  1.364034961 & -0.60156315 & -1.358597033 &  2.11687605 &  1.98807925\\\\\n",
       "\t -0.36398801 & -0.7107373 &  0.21111133 & -0.33648538 & -0.33024346 &  0.83659968 & -0.37401635 &  0.27272537 & -0.409687285 & -0.69156556 & -0.352701565 &  0.566032613 & -0.55143289 & -0.698878586 &  1.08658002 & -0.14501167\\\\\n",
       "\t -0.84140485 & -0.7107373 &  0.65805874 & -0.60567368 & -0.72364408 &  1.55421161 & -0.37401635 & -0.22633970 & -0.886207395 & -1.02436673 & -1.063143288 & -0.190515067 &  0.30078158 & -0.078699264 &  1.36891805 & -1.01893256\\\\\n",
       "\t -0.28441854 & -0.7107373 &  1.01561666 & -0.77391636 & -0.68788038 &  0.83659968 &  0.10108550 & -0.38393920 & -0.536110988 & -1.02436673 & -0.826329381 &  0.037485604 & -0.10026053 &  0.268664489 & -0.71920370 & -0.62334116\\\\\n",
       "\t  1.06826250 &  1.3770536 & -1.66606779 & -0.94215905 & -0.97398992 & -0.77184086 &  0.10108550 & -0.17380654 & -0.283263583 & -0.19236380 &  1.068181882 & -1.247609086 &  1.75455920 &  0.967966043 & -0.54990531 & -0.27687548\\\\\n",
       "\t  0.27256777 &  1.3770536 & -1.57667830 & -0.13459415 & -0.11566130 & -1.58843375 & -0.91698990 & -0.09500679 &  2.138236568 &  1.13884089 &  1.541809698 & -1.019608415 &  1.32845196 &  0.220241155 & -0.07038643 &  0.10578811\\\\\n",
       "\t  0.35213724 & -0.7107373 &  0.38989029 & -0.63932221 & -0.61635300 & -0.59862419 & -0.20433712 & -0.69913818 & -0.925106996 &  1.02790717 &  0.120926251 & -0.397788404 & -0.70182368 &  1.284586917 & -1.05796983 & -0.94653675\\\\\n",
       "\t -0.28441854 &  1.3770536 & -0.14644660 &  1.27864443 &  1.24335901 & -0.59862419 & -0.17040127 & -0.14753995 &  0.669776637 & -0.35876438 &  0.002519297 &  1.094579622 & -0.72688881 &  3.197990320 & -1.18504945 &  0.06183351\\\\\n",
       "\t -0.68226590 & -0.7107373 &  0.92622718 &  1.44688712 &  1.70828701 & -0.62336943 & -1.66357854 &  0.37779170 & -0.750058792 & -0.96889987 &  0.002519297 &  1.053124955 & -1.47884275 & -1.231139429 & -0.23947317 & -0.40098259\\\\\n",
       "\t -1.08011327 & -0.7107373 &  0.21111133 &  0.94215905 &  0.88572209 &  0.14373298 &  0.06714965 &  1.08698942 & -0.069315778 &  1.91537696 &  2.844286191 &  1.042761288 & -0.70182368 & -0.540546158 & -0.02778668 &  0.82716067\\\\\n",
       "\t -1.00054380 & -0.7107373 &  0.21111133 & -0.37013391 & -0.47329823 &  1.00981635 &  0.03321381 & -0.06874021 & -0.866757595 &  0.36230482 & -0.115887657 &  0.327668275 &  0.02506513 & -1.068364897 &  1.55242577 & -0.42166710\\\\\n",
       "\t  1.46610986 &  1.3770536 & -1.48728882 & -1.27864443 & -1.29586316 & -1.21725517 & -0.71337482 & -0.38393920 &  3.130176389 &  0.08497051 &  0.002519297 & -2.460158108 &  2.05534077 &  1.865271094 &  1.48181657 & -1.20509323\\\\\n",
       "\t -0.52312696 & -0.7107373 & -0.86156245 &  0.06729708 &  0.09892085 &  0.06949727 & -1.01879745 &  0.16765904 & -0.088765578 & -0.69156556 & -0.234294611 & -0.128333066 &  0.82714933 & -0.720913182 & -0.19740962 &  0.80389059\\\\\n",
       "\t -0.60269643 & -0.7107373 &  0.92622718 & -0.23553976 & -0.25871607 &  0.31694966 &  1.86574954 & -0.77793793 & -0.633359990 &  2.58097931 &  0.949774928 &  0.151485939 & -0.45117236 & -0.241605739 & -1.26965632 &  0.16267053\\\\\n",
       "\t -0.68226590 & -0.7107373 &  0.92622718 & -0.74026783 & -0.83093515 &  1.97488068 &  0.03321381 & -0.59407185 & -0.730608992 & -1.41263477 & -1.536771104 & -0.408152071 &  0.05013026 &  0.972232223 & -0.66286027 & -0.98790579\\\\\n",
       "\t -0.60269643 & -0.7107373 &  1.37317459 &  2.52364032 &  2.24474240 &  1.72742829 &  2.98563248 & -0.88300426 & -0.234639082 &  0.36230482 &  0.831367974 &  1.540217297 & -1.05273552 & -0.237207616 & -0.63461095 &  2.81287441\\\\\n",
       "\t -0.28441854 & -0.7107373 &  0.30050081 & -0.53837660 & -0.33024346 & -0.52438847 & -0.61156728 & -0.80420451 & -0.944556796 & -0.85796614 & -1.418364150 &  0.400213943 & -1.37858222 & -0.483458522 &  0.26837969 & -1.45589301\\\\\n",
       "\t  1.06826250 & -0.7107373 &  0.56866926 & -0.10094561 & -0.15142500 &  0.24271394 &  1.18703260 & -0.69913818 & -0.215189281 &  0.41777168 & -0.707922427 &  0.120394938 &  0.52636776 & -0.391009977 & -0.11250643 &  0.80389059\\\\\n",
       "\t -1.55753010 & -0.7107373 &  0.12172185 &  2.72553154 &  2.74543410 & -0.99454801 & -1.52783515 &  3.45098185 & -0.117940279 & -0.19236380 &  0.239333205 &  1.156761624 & -1.00260525 & -1.041976160 &  1.42558602 &  0.35658789\\\\\n",
       "\t  2.18223511 &  1.3770536 & -1.48728882 & -0.90851051 & -0.93822623 & -0.99454801 & -0.34008051 &  0.24645878 &  1.486668255 & -1.30170104 & -0.944736334 & -1.340882088 &  1.07780065 &  1.240561706 &  0.24032791 & -0.54060308\\\\\n",
       "\t  0.11342882 & -0.7107373 & -1.12973090 & -1.00945613 & -0.93822623 & -0.64811467 &  2.10330047 & -0.80420451 & -0.788958393 &  2.19271127 &  0.712961020 & -0.750153077 &  0.15039079 & -0.223969266 & -0.67704138 & -1.37574050\\\\\n",
       "\t -1.08011327 & -0.7107373 &  0.30050081 &  0.16824269 &  0.02739347 &  0.61389253 & -0.64550313 &  1.58605449 & -0.186014580 &  0.52870541 &  1.068181882 &  0.949488287 & -0.77701907 & -0.193226386 &  0.60724458 & -0.39064033\\\\\n",
       "\t  0.67041513 &  1.3770536 & -0.14644660 & -0.74026783 & -0.58058931 & -0.02948369 & -0.37401635 & -0.35767261 & -0.059590878 & -1.07983359 & -1.181550242 & -0.656880076 &  0.97754012 &  0.105889958 & -0.15485220 &  0.43156927\\\\\n",
       "\t -1.00054380 & -0.7107373 &  1.10500615 &  0.40378245 &  0.59961255 & -0.47489799 &  0.23682889 & -0.48900552 & -0.779233493 &  0.36230482 &  0.120926251 &  0.659305615 & -0.70182368 & -0.276746742 & -0.69116604 &  0.04632012\\\\\n",
       "\t -1.23925221 & -0.7107373 & -0.32522556 &  0.40378245 &  0.24197562 & -0.87082182 & -1.18847668 &  2.00631981 & -0.244363982 &  1.58257579 &  1.897030560 &  0.483123278 & -0.90234473 & -1.160725480 &  1.52438810 & -0.65178237\\\\\n",
       "\t  0.90912355 & -0.7107373 & -0.50400452 &  0.80756490 &  0.63537624 & -0.74709562 & -0.64550313 & -0.72540477 & -0.750058792 & -0.46969811 &  0.476147113 &  0.348395609 & -1.02767039 & -1.767666452 &  2.45558573 &  0.94868222\\\\\n",
       "\t  3.05749931 &  1.3770536 & -1.66606779 & -0.90851051 & -0.86669885 &  1.90064496 & -0.30614466 & -0.33140603 &  2.410533774 & -1.07983359 & -0.707922427 & -1.485973424 &  1.50390788 & -0.083273312 &  0.71986090 & -0.19155184\\\\\n",
       "\t -0.44355749 & -0.7107373 & -0.14644660 & -1.14405028 & -1.18857208 &  0.93558064 &  1.39064768 & -0.77793793 & -0.594460389 &  0.19590424 & -0.826329381 & -1.040335749 &  0.77701907 &  0.303761510 & -1.39666540 & -0.87672650\\\\\n",
       "\t  0.82955408 &  1.3770536 & -1.57667830 & -0.80756490 & -0.93822623 & -1.14301945 & -1.01879745 & -0.01620704 &  0.621152136 & -0.52516497 &  0.120926251 & -1.351245755 &  1.42871249 &  0.000335006 &  0.09912362 & -0.20447966\\\\\n",
       "\t  0.51127619 &  1.3770536 & -0.14644660 & -0.10094561 & -0.22295238 & -0.02948369 & -0.06859373 &  1.55978791 &  0.241881028 & -0.41423125 & -0.352701565 & -0.387424737 &  0.85221447 & -0.364621239 &  0.38133465 &  0.63582888\\\\\n",
       "\t  0.74998460 & -0.7107373 &  1.46256407 & -0.43743099 & -0.50906192 &  0.98507111 &  0.50831566 & -0.72540477 & -0.798683293 & -0.63609870 & -1.655178058 &  0.669669282 & -1.25325657 & -0.967208069 &  0.48006618 & -0.06485917\\\\\n",
       "\t  0.19299830 & -0.7107373 &  0.30050081 & -0.97580759 & -0.93822623 & -0.94505754 & -0.50975974 & -0.85673768 & -0.964006597 &  0.63963913 &  0.357740159 & -0.377061071 & -0.60156315 &  1.838970319 & -2.03168255 & -0.93878006\\\\\n",
       "\t  1.86395722 &  1.3770536 & -0.59339401 & -0.33648538 & -0.36600715 & -0.96980278 &  0.44044397 &  0.08885929 &  1.039322845 & -1.24623418 & -0.826329381 & -0.304515403 &  0.75195394 &  0.343520542 &  0.76210789 & -0.21223636\\\\\n",
       "\t -0.20484907 & -0.7107373 &  1.37317459 &  0.33648538 &  0.56384885 &  0.31694966 &  0.98341752 & -0.20007312 & -0.633359990 &  0.86150658 &  0.357740159 &  1.001306621 & -0.80208420 & -0.835264379 &  0.48006618 &  0.32297555\\\\\n",
       "\t  0.03385935 &  1.3770536 & -1.57667830 & -1.31229297 & -1.40315423 & -2.00910282 & -0.50975974 & -0.46273894 & -0.506936287 &  2.19271127 &  2.252251421 & -0.708698410 &  1.37858222 &  0.400696141 &  0.84686997 & -1.16372419\\\\\n",
       "\t -1.00054380 & -0.7107373 & -0.14644660 &  0.70661929 &  0.59961255 &  0.93558064 &  0.20289304 &  0.08885929 & -0.750058792 & -0.96889987 & -1.063143288 &  0.700760282 & -0.57649802 & -0.021699590 & -1.39666540 & -1.02668926\\\\\n",
       "\t -0.68226590 & -0.7107373 &  1.37317459 &  0.16824269 &  0.38503039 &  1.52946638 &  2.23904385 & -0.88300426 & -0.769508593 &  0.97244031 &  0.712961020 &  0.648941948 & -0.85221447 &  0.251159960 & -1.48135693 & -0.14501167\\\\\n",
       "\\end{tabular}\n"
      ],
      "text/markdown": [
       "\n",
       "A matrix: 47 × 16 of type dbl\n",
       "\n",
       "| M | So | Ed | Po1 | Po2 | LF | M.F | Pop | NW | U1 | U2 | GDP | Ineq | Prob | Time | y |\n",
       "|---|---|---|---|---|---|---|---|---|---|---|---|---|---|---|---|\n",
       "|  0.98869302 |  1.3770536 | -1.30850986 | -0.90851051 | -0.86669885 | -1.26674565 | -1.12060499 | -0.09500679 |  1.943738564 |  0.69510600 |  0.831367974 | -1.361609422 |  1.67936380 |  1.649763068 | -0.05599367 | -0.29497443 |\n",
       "|  0.35213724 | -0.7107373 |  0.65805874 |  0.60567368 |  0.52808516 |  0.53965681 |  0.98341752 | -0.62033844 |  0.008483424 |  0.02950365 |  0.239333205 |  0.327668275 |  0.00000000 | -0.769336516 | -0.18315796 |  1.88724223 |\n",
       "|  0.27256777 |  1.3770536 | -1.48728882 | -1.34594150 | -1.29586316 | -0.69760515 | -0.47582390 | -0.48900552 |  1.146296747 | -0.08143007 | -0.115887657 | -2.149248102 |  1.40364736 |  1.596941611 | -0.32416470 | -0.84569972 |\n",
       "| -0.20484907 | -0.7107373 |  1.37317459 |  2.15350641 |  2.17321502 |  0.39118538 |  0.37257228 |  3.16204944 | -0.205464381 |  0.36230482 |  0.594554066 |  1.529853630 | -0.67675855 | -1.376189525 |  0.46611085 |  2.75082086 |\n",
       "|  0.19299830 | -0.7107373 |  1.37317459 |  0.80756490 |  0.74266732 |  0.73761872 |  0.06714965 | -0.48900552 | -0.691709391 | -0.24783066 | -1.655178058 |  0.545305279 | -0.50130263 | -0.250358004 | -0.74759413 |  0.85043076 |\n",
       "| -1.39839116 | -0.7107373 |  0.38989029 |  1.11040174 |  1.24335901 | -0.35117180 | -0.64550313 | -0.30513945 | -0.555560788 | -0.63609870 | -0.589515473 |  1.695672300 | -1.70442893 | -0.566934896 | -0.78996812 | -0.57680099 |\n",
       "| -0.92097432 |  1.3770536 |  0.47927977 | -0.10094561 | -0.04413392 | -1.04403849 | -0.03465789 | -0.85673768 |  0.368304731 |  0.08497051 |  0.476147113 |  0.980579287 | -0.65169342 | -0.219527162 | -0.83232800 |  0.14974271 |\n",
       "| -0.60269643 |  1.3770536 |  0.30050081 |  1.00945613 |  1.02877686 | -0.47489799 | -0.47582390 |  0.35152511 |  0.757300739 | -0.91343301 |  0.120926251 | -0.553243407 |  0.30078158 | -0.307533603 | -0.28208704 |  1.68039705 |\n",
       "|  1.46610986 |  1.3770536 | -1.39789934 | -0.67297075 | -0.65211669 | -0.20270036 | -0.95092575 |  0.06259271 |  1.797865061 | -0.80249928 | -0.707922427 | -1.081790417 |  1.12793091 |  1.082185297 |  0.39540287 | -0.12691272 |\n",
       "|  0.11342882 | -0.7107373 |  1.10500615 | -0.47107953 | -0.43753454 |  1.75217353 |  1.56032692 | -0.77793793 | -0.837582894 |  0.25137110 | -1.181550242 |  0.006394603 | -0.50130263 | -0.114060173 | -0.98752995 | -0.51733300 |\n",
       "| -1.15968274 | -0.7107373 | -0.05705712 |  1.21134735 |  1.27912270 |  0.46542109 | -0.57763144 |  1.69112082 |  0.047383024 | -1.02436673 |  0.120926251 |  1.364034961 | -0.60156315 | -1.358597033 |  2.11687605 |  1.98807925 |\n",
       "| -0.36398801 | -0.7107373 |  0.21111133 | -0.33648538 | -0.33024346 |  0.83659968 | -0.37401635 |  0.27272537 | -0.409687285 | -0.69156556 | -0.352701565 |  0.566032613 | -0.55143289 | -0.698878586 |  1.08658002 | -0.14501167 |\n",
       "| -0.84140485 | -0.7107373 |  0.65805874 | -0.60567368 | -0.72364408 |  1.55421161 | -0.37401635 | -0.22633970 | -0.886207395 | -1.02436673 | -1.063143288 | -0.190515067 |  0.30078158 | -0.078699264 |  1.36891805 | -1.01893256 |\n",
       "| -0.28441854 | -0.7107373 |  1.01561666 | -0.77391636 | -0.68788038 |  0.83659968 |  0.10108550 | -0.38393920 | -0.536110988 | -1.02436673 | -0.826329381 |  0.037485604 | -0.10026053 |  0.268664489 | -0.71920370 | -0.62334116 |\n",
       "|  1.06826250 |  1.3770536 | -1.66606779 | -0.94215905 | -0.97398992 | -0.77184086 |  0.10108550 | -0.17380654 | -0.283263583 | -0.19236380 |  1.068181882 | -1.247609086 |  1.75455920 |  0.967966043 | -0.54990531 | -0.27687548 |\n",
       "|  0.27256777 |  1.3770536 | -1.57667830 | -0.13459415 | -0.11566130 | -1.58843375 | -0.91698990 | -0.09500679 |  2.138236568 |  1.13884089 |  1.541809698 | -1.019608415 |  1.32845196 |  0.220241155 | -0.07038643 |  0.10578811 |\n",
       "|  0.35213724 | -0.7107373 |  0.38989029 | -0.63932221 | -0.61635300 | -0.59862419 | -0.20433712 | -0.69913818 | -0.925106996 |  1.02790717 |  0.120926251 | -0.397788404 | -0.70182368 |  1.284586917 | -1.05796983 | -0.94653675 |\n",
       "| -0.28441854 |  1.3770536 | -0.14644660 |  1.27864443 |  1.24335901 | -0.59862419 | -0.17040127 | -0.14753995 |  0.669776637 | -0.35876438 |  0.002519297 |  1.094579622 | -0.72688881 |  3.197990320 | -1.18504945 |  0.06183351 |\n",
       "| -0.68226590 | -0.7107373 |  0.92622718 |  1.44688712 |  1.70828701 | -0.62336943 | -1.66357854 |  0.37779170 | -0.750058792 | -0.96889987 |  0.002519297 |  1.053124955 | -1.47884275 | -1.231139429 | -0.23947317 | -0.40098259 |\n",
       "| -1.08011327 | -0.7107373 |  0.21111133 |  0.94215905 |  0.88572209 |  0.14373298 |  0.06714965 |  1.08698942 | -0.069315778 |  1.91537696 |  2.844286191 |  1.042761288 | -0.70182368 | -0.540546158 | -0.02778668 |  0.82716067 |\n",
       "| -1.00054380 | -0.7107373 |  0.21111133 | -0.37013391 | -0.47329823 |  1.00981635 |  0.03321381 | -0.06874021 | -0.866757595 |  0.36230482 | -0.115887657 |  0.327668275 |  0.02506513 | -1.068364897 |  1.55242577 | -0.42166710 |\n",
       "|  1.46610986 |  1.3770536 | -1.48728882 | -1.27864443 | -1.29586316 | -1.21725517 | -0.71337482 | -0.38393920 |  3.130176389 |  0.08497051 |  0.002519297 | -2.460158108 |  2.05534077 |  1.865271094 |  1.48181657 | -1.20509323 |\n",
       "| -0.52312696 | -0.7107373 | -0.86156245 |  0.06729708 |  0.09892085 |  0.06949727 | -1.01879745 |  0.16765904 | -0.088765578 | -0.69156556 | -0.234294611 | -0.128333066 |  0.82714933 | -0.720913182 | -0.19740962 |  0.80389059 |\n",
       "| -0.60269643 | -0.7107373 |  0.92622718 | -0.23553976 | -0.25871607 |  0.31694966 |  1.86574954 | -0.77793793 | -0.633359990 |  2.58097931 |  0.949774928 |  0.151485939 | -0.45117236 | -0.241605739 | -1.26965632 |  0.16267053 |\n",
       "| -0.68226590 | -0.7107373 |  0.92622718 | -0.74026783 | -0.83093515 |  1.97488068 |  0.03321381 | -0.59407185 | -0.730608992 | -1.41263477 | -1.536771104 | -0.408152071 |  0.05013026 |  0.972232223 | -0.66286027 | -0.98790579 |\n",
       "| -0.60269643 | -0.7107373 |  1.37317459 |  2.52364032 |  2.24474240 |  1.72742829 |  2.98563248 | -0.88300426 | -0.234639082 |  0.36230482 |  0.831367974 |  1.540217297 | -1.05273552 | -0.237207616 | -0.63461095 |  2.81287441 |\n",
       "| -0.28441854 | -0.7107373 |  0.30050081 | -0.53837660 | -0.33024346 | -0.52438847 | -0.61156728 | -0.80420451 | -0.944556796 | -0.85796614 | -1.418364150 |  0.400213943 | -1.37858222 | -0.483458522 |  0.26837969 | -1.45589301 |\n",
       "|  1.06826250 | -0.7107373 |  0.56866926 | -0.10094561 | -0.15142500 |  0.24271394 |  1.18703260 | -0.69913818 | -0.215189281 |  0.41777168 | -0.707922427 |  0.120394938 |  0.52636776 | -0.391009977 | -0.11250643 |  0.80389059 |\n",
       "| -1.55753010 | -0.7107373 |  0.12172185 |  2.72553154 |  2.74543410 | -0.99454801 | -1.52783515 |  3.45098185 | -0.117940279 | -0.19236380 |  0.239333205 |  1.156761624 | -1.00260525 | -1.041976160 |  1.42558602 |  0.35658789 |\n",
       "|  2.18223511 |  1.3770536 | -1.48728882 | -0.90851051 | -0.93822623 | -0.99454801 | -0.34008051 |  0.24645878 |  1.486668255 | -1.30170104 | -0.944736334 | -1.340882088 |  1.07780065 |  1.240561706 |  0.24032791 | -0.54060308 |\n",
       "|  0.11342882 | -0.7107373 | -1.12973090 | -1.00945613 | -0.93822623 | -0.64811467 |  2.10330047 | -0.80420451 | -0.788958393 |  2.19271127 |  0.712961020 | -0.750153077 |  0.15039079 | -0.223969266 | -0.67704138 | -1.37574050 |\n",
       "| -1.08011327 | -0.7107373 |  0.30050081 |  0.16824269 |  0.02739347 |  0.61389253 | -0.64550313 |  1.58605449 | -0.186014580 |  0.52870541 |  1.068181882 |  0.949488287 | -0.77701907 | -0.193226386 |  0.60724458 | -0.39064033 |\n",
       "|  0.67041513 |  1.3770536 | -0.14644660 | -0.74026783 | -0.58058931 | -0.02948369 | -0.37401635 | -0.35767261 | -0.059590878 | -1.07983359 | -1.181550242 | -0.656880076 |  0.97754012 |  0.105889958 | -0.15485220 |  0.43156927 |\n",
       "| -1.00054380 | -0.7107373 |  1.10500615 |  0.40378245 |  0.59961255 | -0.47489799 |  0.23682889 | -0.48900552 | -0.779233493 |  0.36230482 |  0.120926251 |  0.659305615 | -0.70182368 | -0.276746742 | -0.69116604 |  0.04632012 |\n",
       "| -1.23925221 | -0.7107373 | -0.32522556 |  0.40378245 |  0.24197562 | -0.87082182 | -1.18847668 |  2.00631981 | -0.244363982 |  1.58257579 |  1.897030560 |  0.483123278 | -0.90234473 | -1.160725480 |  1.52438810 | -0.65178237 |\n",
       "|  0.90912355 | -0.7107373 | -0.50400452 |  0.80756490 |  0.63537624 | -0.74709562 | -0.64550313 | -0.72540477 | -0.750058792 | -0.46969811 |  0.476147113 |  0.348395609 | -1.02767039 | -1.767666452 |  2.45558573 |  0.94868222 |\n",
       "|  3.05749931 |  1.3770536 | -1.66606779 | -0.90851051 | -0.86669885 |  1.90064496 | -0.30614466 | -0.33140603 |  2.410533774 | -1.07983359 | -0.707922427 | -1.485973424 |  1.50390788 | -0.083273312 |  0.71986090 | -0.19155184 |\n",
       "| -0.44355749 | -0.7107373 | -0.14644660 | -1.14405028 | -1.18857208 |  0.93558064 |  1.39064768 | -0.77793793 | -0.594460389 |  0.19590424 | -0.826329381 | -1.040335749 |  0.77701907 |  0.303761510 | -1.39666540 | -0.87672650 |\n",
       "|  0.82955408 |  1.3770536 | -1.57667830 | -0.80756490 | -0.93822623 | -1.14301945 | -1.01879745 | -0.01620704 |  0.621152136 | -0.52516497 |  0.120926251 | -1.351245755 |  1.42871249 |  0.000335006 |  0.09912362 | -0.20447966 |\n",
       "|  0.51127619 |  1.3770536 | -0.14644660 | -0.10094561 | -0.22295238 | -0.02948369 | -0.06859373 |  1.55978791 |  0.241881028 | -0.41423125 | -0.352701565 | -0.387424737 |  0.85221447 | -0.364621239 |  0.38133465 |  0.63582888 |\n",
       "|  0.74998460 | -0.7107373 |  1.46256407 | -0.43743099 | -0.50906192 |  0.98507111 |  0.50831566 | -0.72540477 | -0.798683293 | -0.63609870 | -1.655178058 |  0.669669282 | -1.25325657 | -0.967208069 |  0.48006618 | -0.06485917 |\n",
       "|  0.19299830 | -0.7107373 |  0.30050081 | -0.97580759 | -0.93822623 | -0.94505754 | -0.50975974 | -0.85673768 | -0.964006597 |  0.63963913 |  0.357740159 | -0.377061071 | -0.60156315 |  1.838970319 | -2.03168255 | -0.93878006 |\n",
       "|  1.86395722 |  1.3770536 | -0.59339401 | -0.33648538 | -0.36600715 | -0.96980278 |  0.44044397 |  0.08885929 |  1.039322845 | -1.24623418 | -0.826329381 | -0.304515403 |  0.75195394 |  0.343520542 |  0.76210789 | -0.21223636 |\n",
       "| -0.20484907 | -0.7107373 |  1.37317459 |  0.33648538 |  0.56384885 |  0.31694966 |  0.98341752 | -0.20007312 | -0.633359990 |  0.86150658 |  0.357740159 |  1.001306621 | -0.80208420 | -0.835264379 |  0.48006618 |  0.32297555 |\n",
       "|  0.03385935 |  1.3770536 | -1.57667830 | -1.31229297 | -1.40315423 | -2.00910282 | -0.50975974 | -0.46273894 | -0.506936287 |  2.19271127 |  2.252251421 | -0.708698410 |  1.37858222 |  0.400696141 |  0.84686997 | -1.16372419 |\n",
       "| -1.00054380 | -0.7107373 | -0.14644660 |  0.70661929 |  0.59961255 |  0.93558064 |  0.20289304 |  0.08885929 | -0.750058792 | -0.96889987 | -1.063143288 |  0.700760282 | -0.57649802 | -0.021699590 | -1.39666540 | -1.02668926 |\n",
       "| -0.68226590 | -0.7107373 |  1.37317459 |  0.16824269 |  0.38503039 |  1.52946638 |  2.23904385 | -0.88300426 | -0.769508593 |  0.97244031 |  0.712961020 |  0.648941948 | -0.85221447 |  0.251159960 | -1.48135693 | -0.14501167 |\n",
       "\n"
      ],
      "text/plain": [
       "      M           So         Ed          Po1         Po2         LF         \n",
       " [1,]  0.98869302  1.3770536 -1.30850986 -0.90851051 -0.86669885 -1.26674565\n",
       " [2,]  0.35213724 -0.7107373  0.65805874  0.60567368  0.52808516  0.53965681\n",
       " [3,]  0.27256777  1.3770536 -1.48728882 -1.34594150 -1.29586316 -0.69760515\n",
       " [4,] -0.20484907 -0.7107373  1.37317459  2.15350641  2.17321502  0.39118538\n",
       " [5,]  0.19299830 -0.7107373  1.37317459  0.80756490  0.74266732  0.73761872\n",
       " [6,] -1.39839116 -0.7107373  0.38989029  1.11040174  1.24335901 -0.35117180\n",
       " [7,] -0.92097432  1.3770536  0.47927977 -0.10094561 -0.04413392 -1.04403849\n",
       " [8,] -0.60269643  1.3770536  0.30050081  1.00945613  1.02877686 -0.47489799\n",
       " [9,]  1.46610986  1.3770536 -1.39789934 -0.67297075 -0.65211669 -0.20270036\n",
       "[10,]  0.11342882 -0.7107373  1.10500615 -0.47107953 -0.43753454  1.75217353\n",
       "[11,] -1.15968274 -0.7107373 -0.05705712  1.21134735  1.27912270  0.46542109\n",
       "[12,] -0.36398801 -0.7107373  0.21111133 -0.33648538 -0.33024346  0.83659968\n",
       "[13,] -0.84140485 -0.7107373  0.65805874 -0.60567368 -0.72364408  1.55421161\n",
       "[14,] -0.28441854 -0.7107373  1.01561666 -0.77391636 -0.68788038  0.83659968\n",
       "[15,]  1.06826250  1.3770536 -1.66606779 -0.94215905 -0.97398992 -0.77184086\n",
       "[16,]  0.27256777  1.3770536 -1.57667830 -0.13459415 -0.11566130 -1.58843375\n",
       "[17,]  0.35213724 -0.7107373  0.38989029 -0.63932221 -0.61635300 -0.59862419\n",
       "[18,] -0.28441854  1.3770536 -0.14644660  1.27864443  1.24335901 -0.59862419\n",
       "[19,] -0.68226590 -0.7107373  0.92622718  1.44688712  1.70828701 -0.62336943\n",
       "[20,] -1.08011327 -0.7107373  0.21111133  0.94215905  0.88572209  0.14373298\n",
       "[21,] -1.00054380 -0.7107373  0.21111133 -0.37013391 -0.47329823  1.00981635\n",
       "[22,]  1.46610986  1.3770536 -1.48728882 -1.27864443 -1.29586316 -1.21725517\n",
       "[23,] -0.52312696 -0.7107373 -0.86156245  0.06729708  0.09892085  0.06949727\n",
       "[24,] -0.60269643 -0.7107373  0.92622718 -0.23553976 -0.25871607  0.31694966\n",
       "[25,] -0.68226590 -0.7107373  0.92622718 -0.74026783 -0.83093515  1.97488068\n",
       "[26,] -0.60269643 -0.7107373  1.37317459  2.52364032  2.24474240  1.72742829\n",
       "[27,] -0.28441854 -0.7107373  0.30050081 -0.53837660 -0.33024346 -0.52438847\n",
       "[28,]  1.06826250 -0.7107373  0.56866926 -0.10094561 -0.15142500  0.24271394\n",
       "[29,] -1.55753010 -0.7107373  0.12172185  2.72553154  2.74543410 -0.99454801\n",
       "[30,]  2.18223511  1.3770536 -1.48728882 -0.90851051 -0.93822623 -0.99454801\n",
       "[31,]  0.11342882 -0.7107373 -1.12973090 -1.00945613 -0.93822623 -0.64811467\n",
       "[32,] -1.08011327 -0.7107373  0.30050081  0.16824269  0.02739347  0.61389253\n",
       "[33,]  0.67041513  1.3770536 -0.14644660 -0.74026783 -0.58058931 -0.02948369\n",
       "[34,] -1.00054380 -0.7107373  1.10500615  0.40378245  0.59961255 -0.47489799\n",
       "[35,] -1.23925221 -0.7107373 -0.32522556  0.40378245  0.24197562 -0.87082182\n",
       "[36,]  0.90912355 -0.7107373 -0.50400452  0.80756490  0.63537624 -0.74709562\n",
       "[37,]  3.05749931  1.3770536 -1.66606779 -0.90851051 -0.86669885  1.90064496\n",
       "[38,] -0.44355749 -0.7107373 -0.14644660 -1.14405028 -1.18857208  0.93558064\n",
       "[39,]  0.82955408  1.3770536 -1.57667830 -0.80756490 -0.93822623 -1.14301945\n",
       "[40,]  0.51127619  1.3770536 -0.14644660 -0.10094561 -0.22295238 -0.02948369\n",
       "[41,]  0.74998460 -0.7107373  1.46256407 -0.43743099 -0.50906192  0.98507111\n",
       "[42,]  0.19299830 -0.7107373  0.30050081 -0.97580759 -0.93822623 -0.94505754\n",
       "[43,]  1.86395722  1.3770536 -0.59339401 -0.33648538 -0.36600715 -0.96980278\n",
       "[44,] -0.20484907 -0.7107373  1.37317459  0.33648538  0.56384885  0.31694966\n",
       "[45,]  0.03385935  1.3770536 -1.57667830 -1.31229297 -1.40315423 -2.00910282\n",
       "[46,] -1.00054380 -0.7107373 -0.14644660  0.70661929  0.59961255  0.93558064\n",
       "[47,] -0.68226590 -0.7107373  1.37317459  0.16824269  0.38503039  1.52946638\n",
       "      M.F         Pop         NW           U1          U2          \n",
       " [1,] -1.12060499 -0.09500679  1.943738564  0.69510600  0.831367974\n",
       " [2,]  0.98341752 -0.62033844  0.008483424  0.02950365  0.239333205\n",
       " [3,] -0.47582390 -0.48900552  1.146296747 -0.08143007 -0.115887657\n",
       " [4,]  0.37257228  3.16204944 -0.205464381  0.36230482  0.594554066\n",
       " [5,]  0.06714965 -0.48900552 -0.691709391 -0.24783066 -1.655178058\n",
       " [6,] -0.64550313 -0.30513945 -0.555560788 -0.63609870 -0.589515473\n",
       " [7,] -0.03465789 -0.85673768  0.368304731  0.08497051  0.476147113\n",
       " [8,] -0.47582390  0.35152511  0.757300739 -0.91343301  0.120926251\n",
       " [9,] -0.95092575  0.06259271  1.797865061 -0.80249928 -0.707922427\n",
       "[10,]  1.56032692 -0.77793793 -0.837582894  0.25137110 -1.181550242\n",
       "[11,] -0.57763144  1.69112082  0.047383024 -1.02436673  0.120926251\n",
       "[12,] -0.37401635  0.27272537 -0.409687285 -0.69156556 -0.352701565\n",
       "[13,] -0.37401635 -0.22633970 -0.886207395 -1.02436673 -1.063143288\n",
       "[14,]  0.10108550 -0.38393920 -0.536110988 -1.02436673 -0.826329381\n",
       "[15,]  0.10108550 -0.17380654 -0.283263583 -0.19236380  1.068181882\n",
       "[16,] -0.91698990 -0.09500679  2.138236568  1.13884089  1.541809698\n",
       "[17,] -0.20433712 -0.69913818 -0.925106996  1.02790717  0.120926251\n",
       "[18,] -0.17040127 -0.14753995  0.669776637 -0.35876438  0.002519297\n",
       "[19,] -1.66357854  0.37779170 -0.750058792 -0.96889987  0.002519297\n",
       "[20,]  0.06714965  1.08698942 -0.069315778  1.91537696  2.844286191\n",
       "[21,]  0.03321381 -0.06874021 -0.866757595  0.36230482 -0.115887657\n",
       "[22,] -0.71337482 -0.38393920  3.130176389  0.08497051  0.002519297\n",
       "[23,] -1.01879745  0.16765904 -0.088765578 -0.69156556 -0.234294611\n",
       "[24,]  1.86574954 -0.77793793 -0.633359990  2.58097931  0.949774928\n",
       "[25,]  0.03321381 -0.59407185 -0.730608992 -1.41263477 -1.536771104\n",
       "[26,]  2.98563248 -0.88300426 -0.234639082  0.36230482  0.831367974\n",
       "[27,] -0.61156728 -0.80420451 -0.944556796 -0.85796614 -1.418364150\n",
       "[28,]  1.18703260 -0.69913818 -0.215189281  0.41777168 -0.707922427\n",
       "[29,] -1.52783515  3.45098185 -0.117940279 -0.19236380  0.239333205\n",
       "[30,] -0.34008051  0.24645878  1.486668255 -1.30170104 -0.944736334\n",
       "[31,]  2.10330047 -0.80420451 -0.788958393  2.19271127  0.712961020\n",
       "[32,] -0.64550313  1.58605449 -0.186014580  0.52870541  1.068181882\n",
       "[33,] -0.37401635 -0.35767261 -0.059590878 -1.07983359 -1.181550242\n",
       "[34,]  0.23682889 -0.48900552 -0.779233493  0.36230482  0.120926251\n",
       "[35,] -1.18847668  2.00631981 -0.244363982  1.58257579  1.897030560\n",
       "[36,] -0.64550313 -0.72540477 -0.750058792 -0.46969811  0.476147113\n",
       "[37,] -0.30614466 -0.33140603  2.410533774 -1.07983359 -0.707922427\n",
       "[38,]  1.39064768 -0.77793793 -0.594460389  0.19590424 -0.826329381\n",
       "[39,] -1.01879745 -0.01620704  0.621152136 -0.52516497  0.120926251\n",
       "[40,] -0.06859373  1.55978791  0.241881028 -0.41423125 -0.352701565\n",
       "[41,]  0.50831566 -0.72540477 -0.798683293 -0.63609870 -1.655178058\n",
       "[42,] -0.50975974 -0.85673768 -0.964006597  0.63963913  0.357740159\n",
       "[43,]  0.44044397  0.08885929  1.039322845 -1.24623418 -0.826329381\n",
       "[44,]  0.98341752 -0.20007312 -0.633359990  0.86150658  0.357740159\n",
       "[45,] -0.50975974 -0.46273894 -0.506936287  2.19271127  2.252251421\n",
       "[46,]  0.20289304  0.08885929 -0.750058792 -0.96889987 -1.063143288\n",
       "[47,]  2.23904385 -0.88300426 -0.769508593  0.97244031  0.712961020\n",
       "      GDP          Ineq        Prob         Time        y          \n",
       " [1,] -1.361609422  1.67936380  1.649763068 -0.05599367 -0.29497443\n",
       " [2,]  0.327668275  0.00000000 -0.769336516 -0.18315796  1.88724223\n",
       " [3,] -2.149248102  1.40364736  1.596941611 -0.32416470 -0.84569972\n",
       " [4,]  1.529853630 -0.67675855 -1.376189525  0.46611085  2.75082086\n",
       " [5,]  0.545305279 -0.50130263 -0.250358004 -0.74759413  0.85043076\n",
       " [6,]  1.695672300 -1.70442893 -0.566934896 -0.78996812 -0.57680099\n",
       " [7,]  0.980579287 -0.65169342 -0.219527162 -0.83232800  0.14974271\n",
       " [8,] -0.553243407  0.30078158 -0.307533603 -0.28208704  1.68039705\n",
       " [9,] -1.081790417  1.12793091  1.082185297  0.39540287 -0.12691272\n",
       "[10,]  0.006394603 -0.50130263 -0.114060173 -0.98752995 -0.51733300\n",
       "[11,]  1.364034961 -0.60156315 -1.358597033  2.11687605  1.98807925\n",
       "[12,]  0.566032613 -0.55143289 -0.698878586  1.08658002 -0.14501167\n",
       "[13,] -0.190515067  0.30078158 -0.078699264  1.36891805 -1.01893256\n",
       "[14,]  0.037485604 -0.10026053  0.268664489 -0.71920370 -0.62334116\n",
       "[15,] -1.247609086  1.75455920  0.967966043 -0.54990531 -0.27687548\n",
       "[16,] -1.019608415  1.32845196  0.220241155 -0.07038643  0.10578811\n",
       "[17,] -0.397788404 -0.70182368  1.284586917 -1.05796983 -0.94653675\n",
       "[18,]  1.094579622 -0.72688881  3.197990320 -1.18504945  0.06183351\n",
       "[19,]  1.053124955 -1.47884275 -1.231139429 -0.23947317 -0.40098259\n",
       "[20,]  1.042761288 -0.70182368 -0.540546158 -0.02778668  0.82716067\n",
       "[21,]  0.327668275  0.02506513 -1.068364897  1.55242577 -0.42166710\n",
       "[22,] -2.460158108  2.05534077  1.865271094  1.48181657 -1.20509323\n",
       "[23,] -0.128333066  0.82714933 -0.720913182 -0.19740962  0.80389059\n",
       "[24,]  0.151485939 -0.45117236 -0.241605739 -1.26965632  0.16267053\n",
       "[25,] -0.408152071  0.05013026  0.972232223 -0.66286027 -0.98790579\n",
       "[26,]  1.540217297 -1.05273552 -0.237207616 -0.63461095  2.81287441\n",
       "[27,]  0.400213943 -1.37858222 -0.483458522  0.26837969 -1.45589301\n",
       "[28,]  0.120394938  0.52636776 -0.391009977 -0.11250643  0.80389059\n",
       "[29,]  1.156761624 -1.00260525 -1.041976160  1.42558602  0.35658789\n",
       "[30,] -1.340882088  1.07780065  1.240561706  0.24032791 -0.54060308\n",
       "[31,] -0.750153077  0.15039079 -0.223969266 -0.67704138 -1.37574050\n",
       "[32,]  0.949488287 -0.77701907 -0.193226386  0.60724458 -0.39064033\n",
       "[33,] -0.656880076  0.97754012  0.105889958 -0.15485220  0.43156927\n",
       "[34,]  0.659305615 -0.70182368 -0.276746742 -0.69116604  0.04632012\n",
       "[35,]  0.483123278 -0.90234473 -1.160725480  1.52438810 -0.65178237\n",
       "[36,]  0.348395609 -1.02767039 -1.767666452  2.45558573  0.94868222\n",
       "[37,] -1.485973424  1.50390788 -0.083273312  0.71986090 -0.19155184\n",
       "[38,] -1.040335749  0.77701907  0.303761510 -1.39666540 -0.87672650\n",
       "[39,] -1.351245755  1.42871249  0.000335006  0.09912362 -0.20447966\n",
       "[40,] -0.387424737  0.85221447 -0.364621239  0.38133465  0.63582888\n",
       "[41,]  0.669669282 -1.25325657 -0.967208069  0.48006618 -0.06485917\n",
       "[42,] -0.377061071 -0.60156315  1.838970319 -2.03168255 -0.93878006\n",
       "[43,] -0.304515403  0.75195394  0.343520542  0.76210789 -0.21223636\n",
       "[44,]  1.001306621 -0.80208420 -0.835264379  0.48006618  0.32297555\n",
       "[45,] -0.708698410  1.37858222  0.400696141  0.84686997 -1.16372419\n",
       "[46,]  0.700760282 -0.57649802 -0.021699590 -1.39666540 -1.02668926\n",
       "[47,]  0.648941948 -0.85221447  0.251159960 -1.48135693 -0.14501167"
      ]
     },
     "metadata": {},
     "output_type": "display_data"
    }
   ],
   "source": [
    "Ds<-scale(D[,c(2:length(D[1,]))])\n",
    "View(Ds)"
   ]
  },
  {
   "cell_type": "markdown",
   "id": "9628ea3b-dc0c-43f8-adc6-dfc58b3bd750",
   "metadata": {},
   "source": [
    "2. Получение корреляционной матрицы (для стандатизованных признаков она совпадает с ковариационной матрицей):\n",
    "    "
   ]
  },
  {
   "cell_type": "code",
   "execution_count": 104,
   "id": "acf3777b-9024-488c-96bc-bd7fbdf5a20f",
   "metadata": {},
   "outputs": [
    {
     "data": {
      "text/html": [
       "<table class=\"dataframe\">\n",
       "<caption>A matrix: 16 × 16 of type dbl</caption>\n",
       "<thead>\n",
       "\t<tr><th></th><th scope=col>M</th><th scope=col>So</th><th scope=col>Ed</th><th scope=col>Po1</th><th scope=col>Po2</th><th scope=col>LF</th><th scope=col>M.F</th><th scope=col>Pop</th><th scope=col>NW</th><th scope=col>U1</th><th scope=col>U2</th><th scope=col>GDP</th><th scope=col>Ineq</th><th scope=col>Prob</th><th scope=col>Time</th><th scope=col>y</th></tr>\n",
       "</thead>\n",
       "<tbody>\n",
       "\t<tr><th scope=row>M</th><td> 1.00000000</td><td> 0.58435534</td><td>-0.53023964</td><td>-0.50573690</td><td>-0.51317336</td><td>-0.1609488</td><td>-0.02867993</td><td>-0.28063762</td><td> 0.59319826</td><td>-0.224380599</td><td>-0.24484339</td><td>-0.6700550558</td><td> 0.63921138</td><td> 0.361116408</td><td> 0.1145107190</td><td>-0.08947240</td></tr>\n",
       "\t<tr><th scope=row>So</th><td> 0.58435534</td><td> 1.00000000</td><td>-0.70274132</td><td>-0.37263633</td><td>-0.37616753</td><td>-0.5054695</td><td>-0.31473291</td><td>-0.04991832</td><td> 0.76710262</td><td>-0.172419305</td><td> 0.07169289</td><td>-0.6369454328</td><td> 0.73718106</td><td> 0.530861993</td><td> 0.0668128312</td><td>-0.09063696</td></tr>\n",
       "\t<tr><th scope=row>Ed</th><td>-0.53023964</td><td>-0.70274132</td><td> 1.00000000</td><td> 0.48295213</td><td> 0.49940958</td><td> 0.5611780</td><td> 0.43691492</td><td>-0.01722740</td><td>-0.66488190</td><td> 0.018103454</td><td>-0.21568155</td><td> 0.7359970363</td><td>-0.76865789</td><td>-0.389922862</td><td>-0.2539735471</td><td> 0.32283487</td></tr>\n",
       "\t<tr><th scope=row>Po1</th><td>-0.50573690</td><td>-0.37263633</td><td> 0.48295213</td><td> 1.00000000</td><td> 0.99358648</td><td> 0.1214932</td><td> 0.03376027</td><td> 0.52628358</td><td>-0.21370878</td><td>-0.043697608</td><td> 0.18509304</td><td> 0.7872252807</td><td>-0.63050025</td><td>-0.473247036</td><td> 0.1033577449</td><td> 0.68760446</td></tr>\n",
       "\t<tr><th scope=row>Po2</th><td>-0.51317336</td><td>-0.37616753</td><td> 0.49940958</td><td> 0.99358648</td><td> 1.00000000</td><td> 0.1063496</td><td> 0.02284250</td><td> 0.51378940</td><td>-0.21876821</td><td>-0.051711989</td><td> 0.16922422</td><td> 0.7942620503</td><td>-0.64815183</td><td>-0.473027293</td><td> 0.0756266536</td><td> 0.66671414</td></tr>\n",
       "\t<tr><th scope=row>LF</th><td>-0.16094882</td><td>-0.50546948</td><td> 0.56117795</td><td> 0.12149320</td><td> 0.10634960</td><td> 1.0000000</td><td> 0.51355879</td><td>-0.12367222</td><td>-0.34121444</td><td>-0.229399684</td><td>-0.42076249</td><td> 0.2946323090</td><td>-0.26988646</td><td>-0.250086098</td><td>-0.1236404364</td><td> 0.18886635</td></tr>\n",
       "\t<tr><th scope=row>M.F</th><td>-0.02867993</td><td>-0.31473291</td><td> 0.43691492</td><td> 0.03376027</td><td> 0.02284250</td><td> 0.5135588</td><td> 1.00000000</td><td>-0.41062750</td><td>-0.32730454</td><td> 0.351891900</td><td>-0.01869169</td><td> 0.1796086363</td><td>-0.16708869</td><td>-0.050858258</td><td>-0.4276973791</td><td> 0.21391426</td></tr>\n",
       "\t<tr><th scope=row>Pop</th><td>-0.28063762</td><td>-0.04991832</td><td>-0.01722740</td><td> 0.52628358</td><td> 0.51378940</td><td>-0.1236722</td><td>-0.41062750</td><td> 1.00000000</td><td> 0.09515301</td><td>-0.038119948</td><td> 0.27042159</td><td> 0.3082627091</td><td>-0.12629357</td><td>-0.347289063</td><td> 0.4642104596</td><td> 0.33747406</td></tr>\n",
       "\t<tr><th scope=row>NW</th><td> 0.59319826</td><td> 0.76710262</td><td>-0.66488190</td><td>-0.21370878</td><td>-0.21876821</td><td>-0.3412144</td><td>-0.32730454</td><td> 0.09515301</td><td> 1.00000000</td><td>-0.156450020</td><td> 0.08090829</td><td>-0.5901070652</td><td> 0.67731286</td><td> 0.428059153</td><td> 0.2303984071</td><td> 0.03259884</td></tr>\n",
       "\t<tr><th scope=row>U1</th><td>-0.22438060</td><td>-0.17241931</td><td> 0.01810345</td><td>-0.04369761</td><td>-0.05171199</td><td>-0.2293997</td><td> 0.35189190</td><td>-0.03811995</td><td>-0.15645002</td><td> 1.000000000</td><td> 0.74592482</td><td> 0.0448572017</td><td>-0.06383218</td><td>-0.007469032</td><td>-0.1698528383</td><td>-0.05047792</td></tr>\n",
       "\t<tr><th scope=row>U2</th><td>-0.24484339</td><td> 0.07169289</td><td>-0.21568155</td><td> 0.18509304</td><td> 0.16922422</td><td>-0.4207625</td><td>-0.01869169</td><td> 0.27042159</td><td> 0.08090829</td><td> 0.745924815</td><td> 1.00000000</td><td> 0.0920716601</td><td> 0.01567818</td><td>-0.061592474</td><td> 0.1013583270</td><td> 0.17732065</td></tr>\n",
       "\t<tr><th scope=row>GDP</th><td>-0.67005506</td><td>-0.63694543</td><td> 0.73599704</td><td> 0.78722528</td><td> 0.79426205</td><td> 0.2946323</td><td> 0.17960864</td><td> 0.30826271</td><td>-0.59010707</td><td> 0.044857202</td><td> 0.09207166</td><td> 1.0000000000</td><td>-0.88399728</td><td>-0.555334708</td><td> 0.0006485587</td><td> 0.44131995</td></tr>\n",
       "\t<tr><th scope=row>Ineq</th><td> 0.63921138</td><td> 0.73718106</td><td>-0.76865789</td><td>-0.63050025</td><td>-0.64815183</td><td>-0.2698865</td><td>-0.16708869</td><td>-0.12629357</td><td> 0.67731286</td><td>-0.063832178</td><td> 0.01567818</td><td>-0.8839972758</td><td> 1.00000000</td><td> 0.465321920</td><td> 0.1018228182</td><td>-0.17902373</td></tr>\n",
       "\t<tr><th scope=row>Prob</th><td> 0.36111641</td><td> 0.53086199</td><td>-0.38992286</td><td>-0.47324704</td><td>-0.47302729</td><td>-0.2500861</td><td>-0.05085826</td><td>-0.34728906</td><td> 0.42805915</td><td>-0.007469032</td><td>-0.06159247</td><td>-0.5553347075</td><td> 0.46532192</td><td> 1.000000000</td><td>-0.4362462614</td><td>-0.42742219</td></tr>\n",
       "\t<tr><th scope=row>Time</th><td> 0.11451072</td><td> 0.06681283</td><td>-0.25397355</td><td> 0.10335774</td><td> 0.07562665</td><td>-0.1236404</td><td>-0.42769738</td><td> 0.46421046</td><td> 0.23039841</td><td>-0.169852838</td><td> 0.10135833</td><td> 0.0006485587</td><td> 0.10182282</td><td>-0.436246261</td><td> 1.0000000000</td><td> 0.14986606</td></tr>\n",
       "\t<tr><th scope=row>y</th><td>-0.08947240</td><td>-0.09063696</td><td> 0.32283487</td><td> 0.68760446</td><td> 0.66671414</td><td> 0.1888663</td><td> 0.21391426</td><td> 0.33747406</td><td> 0.03259884</td><td>-0.050477918</td><td> 0.17732065</td><td> 0.4413199490</td><td>-0.17902373</td><td>-0.427422188</td><td> 0.1498660617</td><td> 1.00000000</td></tr>\n",
       "</tbody>\n",
       "</table>\n"
      ],
      "text/latex": [
       "A matrix: 16 × 16 of type dbl\n",
       "\\begin{tabular}{r|llllllllllllllll}\n",
       "  & M & So & Ed & Po1 & Po2 & LF & M.F & Pop & NW & U1 & U2 & GDP & Ineq & Prob & Time & y\\\\\n",
       "\\hline\n",
       "\tM &  1.00000000 &  0.58435534 & -0.53023964 & -0.50573690 & -0.51317336 & -0.1609488 & -0.02867993 & -0.28063762 &  0.59319826 & -0.224380599 & -0.24484339 & -0.6700550558 &  0.63921138 &  0.361116408 &  0.1145107190 & -0.08947240\\\\\n",
       "\tSo &  0.58435534 &  1.00000000 & -0.70274132 & -0.37263633 & -0.37616753 & -0.5054695 & -0.31473291 & -0.04991832 &  0.76710262 & -0.172419305 &  0.07169289 & -0.6369454328 &  0.73718106 &  0.530861993 &  0.0668128312 & -0.09063696\\\\\n",
       "\tEd & -0.53023964 & -0.70274132 &  1.00000000 &  0.48295213 &  0.49940958 &  0.5611780 &  0.43691492 & -0.01722740 & -0.66488190 &  0.018103454 & -0.21568155 &  0.7359970363 & -0.76865789 & -0.389922862 & -0.2539735471 &  0.32283487\\\\\n",
       "\tPo1 & -0.50573690 & -0.37263633 &  0.48295213 &  1.00000000 &  0.99358648 &  0.1214932 &  0.03376027 &  0.52628358 & -0.21370878 & -0.043697608 &  0.18509304 &  0.7872252807 & -0.63050025 & -0.473247036 &  0.1033577449 &  0.68760446\\\\\n",
       "\tPo2 & -0.51317336 & -0.37616753 &  0.49940958 &  0.99358648 &  1.00000000 &  0.1063496 &  0.02284250 &  0.51378940 & -0.21876821 & -0.051711989 &  0.16922422 &  0.7942620503 & -0.64815183 & -0.473027293 &  0.0756266536 &  0.66671414\\\\\n",
       "\tLF & -0.16094882 & -0.50546948 &  0.56117795 &  0.12149320 &  0.10634960 &  1.0000000 &  0.51355879 & -0.12367222 & -0.34121444 & -0.229399684 & -0.42076249 &  0.2946323090 & -0.26988646 & -0.250086098 & -0.1236404364 &  0.18886635\\\\\n",
       "\tM.F & -0.02867993 & -0.31473291 &  0.43691492 &  0.03376027 &  0.02284250 &  0.5135588 &  1.00000000 & -0.41062750 & -0.32730454 &  0.351891900 & -0.01869169 &  0.1796086363 & -0.16708869 & -0.050858258 & -0.4276973791 &  0.21391426\\\\\n",
       "\tPop & -0.28063762 & -0.04991832 & -0.01722740 &  0.52628358 &  0.51378940 & -0.1236722 & -0.41062750 &  1.00000000 &  0.09515301 & -0.038119948 &  0.27042159 &  0.3082627091 & -0.12629357 & -0.347289063 &  0.4642104596 &  0.33747406\\\\\n",
       "\tNW &  0.59319826 &  0.76710262 & -0.66488190 & -0.21370878 & -0.21876821 & -0.3412144 & -0.32730454 &  0.09515301 &  1.00000000 & -0.156450020 &  0.08090829 & -0.5901070652 &  0.67731286 &  0.428059153 &  0.2303984071 &  0.03259884\\\\\n",
       "\tU1 & -0.22438060 & -0.17241931 &  0.01810345 & -0.04369761 & -0.05171199 & -0.2293997 &  0.35189190 & -0.03811995 & -0.15645002 &  1.000000000 &  0.74592482 &  0.0448572017 & -0.06383218 & -0.007469032 & -0.1698528383 & -0.05047792\\\\\n",
       "\tU2 & -0.24484339 &  0.07169289 & -0.21568155 &  0.18509304 &  0.16922422 & -0.4207625 & -0.01869169 &  0.27042159 &  0.08090829 &  0.745924815 &  1.00000000 &  0.0920716601 &  0.01567818 & -0.061592474 &  0.1013583270 &  0.17732065\\\\\n",
       "\tGDP & -0.67005506 & -0.63694543 &  0.73599704 &  0.78722528 &  0.79426205 &  0.2946323 &  0.17960864 &  0.30826271 & -0.59010707 &  0.044857202 &  0.09207166 &  1.0000000000 & -0.88399728 & -0.555334708 &  0.0006485587 &  0.44131995\\\\\n",
       "\tIneq &  0.63921138 &  0.73718106 & -0.76865789 & -0.63050025 & -0.64815183 & -0.2698865 & -0.16708869 & -0.12629357 &  0.67731286 & -0.063832178 &  0.01567818 & -0.8839972758 &  1.00000000 &  0.465321920 &  0.1018228182 & -0.17902373\\\\\n",
       "\tProb &  0.36111641 &  0.53086199 & -0.38992286 & -0.47324704 & -0.47302729 & -0.2500861 & -0.05085826 & -0.34728906 &  0.42805915 & -0.007469032 & -0.06159247 & -0.5553347075 &  0.46532192 &  1.000000000 & -0.4362462614 & -0.42742219\\\\\n",
       "\tTime &  0.11451072 &  0.06681283 & -0.25397355 &  0.10335774 &  0.07562665 & -0.1236404 & -0.42769738 &  0.46421046 &  0.23039841 & -0.169852838 &  0.10135833 &  0.0006485587 &  0.10182282 & -0.436246261 &  1.0000000000 &  0.14986606\\\\\n",
       "\ty & -0.08947240 & -0.09063696 &  0.32283487 &  0.68760446 &  0.66671414 &  0.1888663 &  0.21391426 &  0.33747406 &  0.03259884 & -0.050477918 &  0.17732065 &  0.4413199490 & -0.17902373 & -0.427422188 &  0.1498660617 &  1.00000000\\\\\n",
       "\\end{tabular}\n"
      ],
      "text/markdown": [
       "\n",
       "A matrix: 16 × 16 of type dbl\n",
       "\n",
       "| <!--/--> | M | So | Ed | Po1 | Po2 | LF | M.F | Pop | NW | U1 | U2 | GDP | Ineq | Prob | Time | y |\n",
       "|---|---|---|---|---|---|---|---|---|---|---|---|---|---|---|---|---|\n",
       "| M |  1.00000000 |  0.58435534 | -0.53023964 | -0.50573690 | -0.51317336 | -0.1609488 | -0.02867993 | -0.28063762 |  0.59319826 | -0.224380599 | -0.24484339 | -0.6700550558 |  0.63921138 |  0.361116408 |  0.1145107190 | -0.08947240 |\n",
       "| So |  0.58435534 |  1.00000000 | -0.70274132 | -0.37263633 | -0.37616753 | -0.5054695 | -0.31473291 | -0.04991832 |  0.76710262 | -0.172419305 |  0.07169289 | -0.6369454328 |  0.73718106 |  0.530861993 |  0.0668128312 | -0.09063696 |\n",
       "| Ed | -0.53023964 | -0.70274132 |  1.00000000 |  0.48295213 |  0.49940958 |  0.5611780 |  0.43691492 | -0.01722740 | -0.66488190 |  0.018103454 | -0.21568155 |  0.7359970363 | -0.76865789 | -0.389922862 | -0.2539735471 |  0.32283487 |\n",
       "| Po1 | -0.50573690 | -0.37263633 |  0.48295213 |  1.00000000 |  0.99358648 |  0.1214932 |  0.03376027 |  0.52628358 | -0.21370878 | -0.043697608 |  0.18509304 |  0.7872252807 | -0.63050025 | -0.473247036 |  0.1033577449 |  0.68760446 |\n",
       "| Po2 | -0.51317336 | -0.37616753 |  0.49940958 |  0.99358648 |  1.00000000 |  0.1063496 |  0.02284250 |  0.51378940 | -0.21876821 | -0.051711989 |  0.16922422 |  0.7942620503 | -0.64815183 | -0.473027293 |  0.0756266536 |  0.66671414 |\n",
       "| LF | -0.16094882 | -0.50546948 |  0.56117795 |  0.12149320 |  0.10634960 |  1.0000000 |  0.51355879 | -0.12367222 | -0.34121444 | -0.229399684 | -0.42076249 |  0.2946323090 | -0.26988646 | -0.250086098 | -0.1236404364 |  0.18886635 |\n",
       "| M.F | -0.02867993 | -0.31473291 |  0.43691492 |  0.03376027 |  0.02284250 |  0.5135588 |  1.00000000 | -0.41062750 | -0.32730454 |  0.351891900 | -0.01869169 |  0.1796086363 | -0.16708869 | -0.050858258 | -0.4276973791 |  0.21391426 |\n",
       "| Pop | -0.28063762 | -0.04991832 | -0.01722740 |  0.52628358 |  0.51378940 | -0.1236722 | -0.41062750 |  1.00000000 |  0.09515301 | -0.038119948 |  0.27042159 |  0.3082627091 | -0.12629357 | -0.347289063 |  0.4642104596 |  0.33747406 |\n",
       "| NW |  0.59319826 |  0.76710262 | -0.66488190 | -0.21370878 | -0.21876821 | -0.3412144 | -0.32730454 |  0.09515301 |  1.00000000 | -0.156450020 |  0.08090829 | -0.5901070652 |  0.67731286 |  0.428059153 |  0.2303984071 |  0.03259884 |\n",
       "| U1 | -0.22438060 | -0.17241931 |  0.01810345 | -0.04369761 | -0.05171199 | -0.2293997 |  0.35189190 | -0.03811995 | -0.15645002 |  1.000000000 |  0.74592482 |  0.0448572017 | -0.06383218 | -0.007469032 | -0.1698528383 | -0.05047792 |\n",
       "| U2 | -0.24484339 |  0.07169289 | -0.21568155 |  0.18509304 |  0.16922422 | -0.4207625 | -0.01869169 |  0.27042159 |  0.08090829 |  0.745924815 |  1.00000000 |  0.0920716601 |  0.01567818 | -0.061592474 |  0.1013583270 |  0.17732065 |\n",
       "| GDP | -0.67005506 | -0.63694543 |  0.73599704 |  0.78722528 |  0.79426205 |  0.2946323 |  0.17960864 |  0.30826271 | -0.59010707 |  0.044857202 |  0.09207166 |  1.0000000000 | -0.88399728 | -0.555334708 |  0.0006485587 |  0.44131995 |\n",
       "| Ineq |  0.63921138 |  0.73718106 | -0.76865789 | -0.63050025 | -0.64815183 | -0.2698865 | -0.16708869 | -0.12629357 |  0.67731286 | -0.063832178 |  0.01567818 | -0.8839972758 |  1.00000000 |  0.465321920 |  0.1018228182 | -0.17902373 |\n",
       "| Prob |  0.36111641 |  0.53086199 | -0.38992286 | -0.47324704 | -0.47302729 | -0.2500861 | -0.05085826 | -0.34728906 |  0.42805915 | -0.007469032 | -0.06159247 | -0.5553347075 |  0.46532192 |  1.000000000 | -0.4362462614 | -0.42742219 |\n",
       "| Time |  0.11451072 |  0.06681283 | -0.25397355 |  0.10335774 |  0.07562665 | -0.1236404 | -0.42769738 |  0.46421046 |  0.23039841 | -0.169852838 |  0.10135833 |  0.0006485587 |  0.10182282 | -0.436246261 |  1.0000000000 |  0.14986606 |\n",
       "| y | -0.08947240 | -0.09063696 |  0.32283487 |  0.68760446 |  0.66671414 |  0.1888663 |  0.21391426 |  0.33747406 |  0.03259884 | -0.050477918 |  0.17732065 |  0.4413199490 | -0.17902373 | -0.427422188 |  0.1498660617 |  1.00000000 |\n",
       "\n"
      ],
      "text/plain": [
       "     M           So          Ed          Po1         Po2         LF        \n",
       "M     1.00000000  0.58435534 -0.53023964 -0.50573690 -0.51317336 -0.1609488\n",
       "So    0.58435534  1.00000000 -0.70274132 -0.37263633 -0.37616753 -0.5054695\n",
       "Ed   -0.53023964 -0.70274132  1.00000000  0.48295213  0.49940958  0.5611780\n",
       "Po1  -0.50573690 -0.37263633  0.48295213  1.00000000  0.99358648  0.1214932\n",
       "Po2  -0.51317336 -0.37616753  0.49940958  0.99358648  1.00000000  0.1063496\n",
       "LF   -0.16094882 -0.50546948  0.56117795  0.12149320  0.10634960  1.0000000\n",
       "M.F  -0.02867993 -0.31473291  0.43691492  0.03376027  0.02284250  0.5135588\n",
       "Pop  -0.28063762 -0.04991832 -0.01722740  0.52628358  0.51378940 -0.1236722\n",
       "NW    0.59319826  0.76710262 -0.66488190 -0.21370878 -0.21876821 -0.3412144\n",
       "U1   -0.22438060 -0.17241931  0.01810345 -0.04369761 -0.05171199 -0.2293997\n",
       "U2   -0.24484339  0.07169289 -0.21568155  0.18509304  0.16922422 -0.4207625\n",
       "GDP  -0.67005506 -0.63694543  0.73599704  0.78722528  0.79426205  0.2946323\n",
       "Ineq  0.63921138  0.73718106 -0.76865789 -0.63050025 -0.64815183 -0.2698865\n",
       "Prob  0.36111641  0.53086199 -0.38992286 -0.47324704 -0.47302729 -0.2500861\n",
       "Time  0.11451072  0.06681283 -0.25397355  0.10335774  0.07562665 -0.1236404\n",
       "y    -0.08947240 -0.09063696  0.32283487  0.68760446  0.66671414  0.1888663\n",
       "     M.F         Pop         NW          U1           U2          GDP          \n",
       "M    -0.02867993 -0.28063762  0.59319826 -0.224380599 -0.24484339 -0.6700550558\n",
       "So   -0.31473291 -0.04991832  0.76710262 -0.172419305  0.07169289 -0.6369454328\n",
       "Ed    0.43691492 -0.01722740 -0.66488190  0.018103454 -0.21568155  0.7359970363\n",
       "Po1   0.03376027  0.52628358 -0.21370878 -0.043697608  0.18509304  0.7872252807\n",
       "Po2   0.02284250  0.51378940 -0.21876821 -0.051711989  0.16922422  0.7942620503\n",
       "LF    0.51355879 -0.12367222 -0.34121444 -0.229399684 -0.42076249  0.2946323090\n",
       "M.F   1.00000000 -0.41062750 -0.32730454  0.351891900 -0.01869169  0.1796086363\n",
       "Pop  -0.41062750  1.00000000  0.09515301 -0.038119948  0.27042159  0.3082627091\n",
       "NW   -0.32730454  0.09515301  1.00000000 -0.156450020  0.08090829 -0.5901070652\n",
       "U1    0.35189190 -0.03811995 -0.15645002  1.000000000  0.74592482  0.0448572017\n",
       "U2   -0.01869169  0.27042159  0.08090829  0.745924815  1.00000000  0.0920716601\n",
       "GDP   0.17960864  0.30826271 -0.59010707  0.044857202  0.09207166  1.0000000000\n",
       "Ineq -0.16708869 -0.12629357  0.67731286 -0.063832178  0.01567818 -0.8839972758\n",
       "Prob -0.05085826 -0.34728906  0.42805915 -0.007469032 -0.06159247 -0.5553347075\n",
       "Time -0.42769738  0.46421046  0.23039841 -0.169852838  0.10135833  0.0006485587\n",
       "y     0.21391426  0.33747406  0.03259884 -0.050477918  0.17732065  0.4413199490\n",
       "     Ineq        Prob         Time          y          \n",
       "M     0.63921138  0.361116408  0.1145107190 -0.08947240\n",
       "So    0.73718106  0.530861993  0.0668128312 -0.09063696\n",
       "Ed   -0.76865789 -0.389922862 -0.2539735471  0.32283487\n",
       "Po1  -0.63050025 -0.473247036  0.1033577449  0.68760446\n",
       "Po2  -0.64815183 -0.473027293  0.0756266536  0.66671414\n",
       "LF   -0.26988646 -0.250086098 -0.1236404364  0.18886635\n",
       "M.F  -0.16708869 -0.050858258 -0.4276973791  0.21391426\n",
       "Pop  -0.12629357 -0.347289063  0.4642104596  0.33747406\n",
       "NW    0.67731286  0.428059153  0.2303984071  0.03259884\n",
       "U1   -0.06383218 -0.007469032 -0.1698528383 -0.05047792\n",
       "U2    0.01567818 -0.061592474  0.1013583270  0.17732065\n",
       "GDP  -0.88399728 -0.555334708  0.0006485587  0.44131995\n",
       "Ineq  1.00000000  0.465321920  0.1018228182 -0.17902373\n",
       "Prob  0.46532192  1.000000000 -0.4362462614 -0.42742219\n",
       "Time  0.10182282 -0.436246261  1.0000000000  0.14986606\n",
       "y    -0.17902373 -0.427422188  0.1498660617  1.00000000"
      ]
     },
     "metadata": {},
     "output_type": "display_data"
    }
   ],
   "source": [
    "Cs<-cor(Ds)\n",
    "View(Cs)"
   ]
  },
  {
   "cell_type": "markdown",
   "id": "a5629eb9-b13a-45d2-a56d-efaf14d405cc",
   "metadata": {},
   "source": [
    "3. Получаем собственные вектора и собственные значения ковариационной матрицы:"
   ]
  },
  {
   "cell_type": "code",
   "execution_count": 106,
   "id": "c115976b-3654-4193-b0cf-f75f08ac0a76",
   "metadata": {},
   "outputs": [
    {
     "data": {
      "text/plain": [
       "eigen() decomposition\n",
       "$values\n",
       " [1] 6.222199347 2.928000127 2.018772756 1.430068772 1.130846060 0.563802258\n",
       " [7] 0.362852350 0.308054904 0.242496934 0.221238989 0.192335693 0.174532062\n",
       "[13] 0.084956874 0.067928691 0.047578814 0.004335367\n",
       "\n",
       "$vectors\n",
       "              [,1]         [,2]         [,3]        [,4]        [,5]\n",
       " [1,] -0.289953429 -0.003761333 -0.204643121 -0.27421845 -0.18938899\n",
       " [2,] -0.313449671  0.199060105 -0.029873521 -0.22935136  0.19764347\n",
       " [3,]  0.329615345 -0.223391959 -0.078557553 -0.06315177  0.05621815\n",
       " [4,]  0.319164765  0.265759193 -0.046985582 -0.21298658  0.20825590\n",
       " [5,]  0.320606923  0.257896302 -0.048159464 -0.19929162  0.23863483\n",
       " [6,]  0.170200627 -0.295056439 -0.300331556 -0.17518177 -0.29036265\n",
       " [7,]  0.113409733 -0.356500481  0.144940009 -0.47690799 -0.26112736\n",
       " [8,]  0.124163857  0.442705511 -0.040955067  0.11426718 -0.02804665\n",
       " [9,] -0.272630317  0.272733133 -0.093652745 -0.29614539  0.06464578\n",
       "[10,]  0.035505263 -0.032782094  0.652388890 -0.06998080 -0.22628233\n",
       "[11,]  0.025646853  0.258504943  0.584708899 -0.08449450 -0.12347434\n",
       "[12,]  0.374993449  0.047301754  0.003056739  0.01991031  0.12297350\n",
       "[13,] -0.351388395  0.073986656 -0.021486001 -0.17554516 -0.18388873\n",
       "[14,] -0.261134180 -0.141149294  0.100626645 -0.13752773  0.50856014\n",
       "[15,] -0.009764105  0.368614333 -0.189206746  0.24609348 -0.52186738\n",
       "[16,]  0.196220395  0.239552667 -0.104804710 -0.54910802 -0.13327229\n",
       "              [,6]         [,7]         [,8]         [,9]       [,10]\n",
       " [1,]  0.374540808  0.352270178  0.520130205 -0.059360238  0.16873281\n",
       " [2,]  0.081817848 -0.146600251 -0.182679063  0.397489498 -0.50325628\n",
       " [3,]  0.006985811  0.113179362  0.082559808  0.637964919  0.23392086\n",
       " [4,]  0.030463053  0.084210833 -0.017100451 -0.281103505 -0.06190588\n",
       " [5,]  0.056612006  0.077815913  0.000392412 -0.284712118 -0.04853066\n",
       " [6,] -0.557263736  0.132353514 -0.277565882 -0.104313672  0.10981954\n",
       " [7,] -0.018614785  0.100849070  0.102245606 -0.082738168 -0.58972899\n",
       " [8,] -0.567353937  0.005732672  0.597296980  0.139722316 -0.17720190\n",
       " [9,] -0.141123521  0.389752039 -0.248870293 -0.151074344  0.17800984\n",
       "[10,] -0.039561053  0.195759161  0.165355415  0.050900096  0.11650486\n",
       "[11,] -0.060266215  0.011420906 -0.256142048  0.019851262  0.14150831\n",
       "[12,]  0.129553634  0.176634970 -0.109294353  0.147898147 -0.22411618\n",
       "[13,] -0.257689133 -0.396131704 -0.003538910 -0.003436329  0.01445583\n",
       "[14,] -0.284724363  0.391791810 -0.032759873  0.237289456  0.07445886\n",
       "[15,]  0.110870351  0.385757545 -0.275715204  0.244425690 -0.16490874\n",
       "[16,]  0.120010250 -0.346335393 -0.028037746  0.265340454  0.34300606\n",
       "             [,11]       [,12]       [,13]       [,14]        [,15]\n",
       " [1,] -0.139810757  0.35826222  0.17342730 -0.02462897 -0.132080251\n",
       " [2,]  0.204443741  0.29846085  0.29548920 -0.15749346  0.231679637\n",
       " [3,]  0.316929428 -0.14686817  0.31194230  0.24619510 -0.254083979\n",
       " [4,] -0.092261542 -0.14711532  0.33744301 -0.09153509 -0.009643216\n",
       " [5,]  0.001494324 -0.13803533  0.33762028 -0.03693972 -0.087868567\n",
       " [6,] -0.041388720  0.38130718  0.21265898 -0.19460715  0.139042264\n",
       " [7,] -0.040857541 -0.22356098 -0.16081561  0.29929996 -0.026506200\n",
       " [8,]  0.037290010  0.09010620 -0.12979526  0.11416902  0.063749330\n",
       " [9,]  0.567333391 -0.09563308 -0.31982473  0.13856983 -0.091353862\n",
       "[10,]  0.237025771 -0.14173969  0.10533544 -0.56032593  0.175448995\n",
       "[11,] -0.218844911  0.40662236  0.13246396  0.46674027 -0.172558495\n",
       "[12,] -0.046731764  0.35093821 -0.43810886 -0.38617057 -0.492975686\n",
       "[13,] -0.078994883 -0.24130028  0.16382095 -0.22390556 -0.663941652\n",
       "[14,] -0.526895449 -0.19641991 -0.05845340 -0.06718935  0.033660666\n",
       "[15,] -0.253316585 -0.30941779  0.09020596 -0.03020379  0.029612982\n",
       "[16,] -0.220840369 -0.08079221 -0.32901801 -0.08969777  0.278656915\n",
       "             [,16]\n",
       " [1,] -0.006124126\n",
       " [2,]  0.008667090\n",
       " [3,] -0.047370102\n",
       " [4,] -0.702072998\n",
       " [5,]  0.704919967\n",
       " [6,]  0.034550379\n",
       " [7,]  0.004317714\n",
       " [8,]  0.003057305\n",
       " [9,] -0.038982198\n",
       "[10,]  0.021087660\n",
       "[11,] -0.007305825\n",
       "[12,] -0.012221984\n",
       "[13,] -0.012103634\n",
       "[14,]  0.038164873\n",
       "[15,]  0.037783638\n",
       "[16,]  0.037488194\n"
      ]
     },
     "metadata": {},
     "output_type": "display_data"
    }
   ],
   "source": [
    "E<-eigen(Cs)\n",
    "E"
   ]
  },
  {
   "cell_type": "markdown",
   "id": "4e5aa3ea-af3e-487d-911d-4873f802cc0c",
   "metadata": {},
   "source": [
    "4. Рассчитываем вклад каждой компоненты в общую изменчивость данных (их информативность):"
   ]
  },
  {
   "cell_type": "code",
   "execution_count": 109,
   "id": "c37d97ac-bf6b-412f-9ba7-2bf5e9a2c2a1",
   "metadata": {},
   "outputs": [
    {
     "name": "stdout",
     "output_type": "stream",
     "text": [
      "[1] \"1 -я компонента объясняет 38.8887459207686  % дисперсии\"\n",
      "[1] \"2 -я компонента объясняет 18.3000007953649  % дисперсии\"\n",
      "[1] \"3 -я компонента объясняет 12.6173297233664  % дисперсии\"\n",
      "[1] \"4 -я компонента объясняет 8.93792982636381  % дисперсии\"\n",
      "[1] \"5 -я компонента объясняет 7.0677878763542  % дисперсии\"\n",
      "[1] \"6 -я компонента объясняет 3.52376411089337  % дисперсии\"\n",
      "[1] \"7 -я компонента объясняет 2.26782718895806  % дисперсии\"\n",
      "[1] \"8 -я компонента объясняет 1.92534315202278  % дисперсии\"\n",
      "[1] \"9 -я компонента объясняет 1.51560583820411  % дисперсии\"\n",
      "[1] \"10 -я компонента объясняет 1.38274368422079  % дисперсии\"\n",
      "[1] \"11 -я компонента объясняет 1.20209808237113  % дисперсии\"\n",
      "[1] \"12 -я компонента объясняет 1.09082538949008  % дисперсии\"\n",
      "[1] \"13 -я компонента объясняет 0.530980462360092  % дисперсии\"\n",
      "[1] \"14 -я компонента объясняет 0.424554318444357  % дисперсии\"\n",
      "[1] \"15 -я компонента объясняет 0.297367586089015  % дисперсии\"\n",
      "[1] \"16 -я компонента объясняет 0.0270960447283369  % дисперсии\"\n"
     ]
    }
   ],
   "source": [
    "znam<-sum(E$values)\n",
    "k<-1\n",
    "for (i in E$values) {\n",
    "    print(paste(toString(k),\"-я компонента объясняет\", \n",
    "                toString(i/znam*100),\n",
    "                \" % дисперсии\"))\n",
    "    k<-k+1\n",
    "    }"
   ]
  },
  {
   "cell_type": "markdown",
   "id": "2d65bd63-b742-46d1-a56a-ea1eda67e5c0",
   "metadata": {},
   "source": [
    "5. Находим главные компоненты в порядке убывания их информационной значимости (в примере находим две первые компоненты):"
   ]
  },
  {
   "cell_type": "code",
   "execution_count": 110,
   "id": "6524ad0c-1411-4374-8945-bec2a18db7fb",
   "metadata": {},
   "outputs": [],
   "source": [
    "C1<-as.matrix(Ds)%*%E$vectors[,1]\n",
    "C2<-as.matrix(Ds)%*%E$vectors[,2]"
   ]
  },
  {
   "cell_type": "code",
   "execution_count": 111,
   "id": "5eea4c3d-388e-4749-a1af-e8045c3caa2f",
   "metadata": {},
   "outputs": [
    {
     "data": {
      "image/png": "[encoded data removed]",
      "text/plain": [
       "plot without title"
      ]
     },
     "metadata": {
      "image/png": {
       "height": 420,
       "width": 420
      }
     },
     "output_type": "display_data"
    }
   ],
   "source": [
    "plot(C1,C2)"
   ]
  },
  {
   "cell_type": "markdown",
   "id": "9a6a9d5c-b63a-41ef-81db-31e49c1264ba",
   "metadata": {},
   "source": [
    "Используя данный график можно проводить кластеризацию объектов анализа.\n",
    "Оценим корреляцию между главными компонентами:"
   ]
  },
  {
   "cell_type": "code",
   "execution_count": 112,
   "id": "be8662b3-589f-4e54-9e3b-6aa6e5268288",
   "metadata": {},
   "outputs": [
    {
     "data": {
      "text/html": [
       "<table class=\"dataframe\">\n",
       "<caption>A matrix: 1 × 1 of type dbl</caption>\n",
       "<tbody>\n",
       "\t<tr><td>4.956972e-17</td></tr>\n",
       "</tbody>\n",
       "</table>\n"
      ],
      "text/latex": [
       "A matrix: 1 × 1 of type dbl\n",
       "\\begin{tabular}{l}\n",
       "\t 4.956972e-17\\\\\n",
       "\\end{tabular}\n"
      ],
      "text/markdown": [
       "\n",
       "A matrix: 1 × 1 of type dbl\n",
       "\n",
       "| 4.956972e-17 |\n",
       "\n"
      ],
      "text/plain": [
       "     [,1]        \n",
       "[1,] 4.956972e-17"
      ]
     },
     "metadata": {},
     "output_type": "display_data"
    }
   ],
   "source": [
    "cor(C1,C2)"
   ]
  },
  {
   "cell_type": "markdown",
   "id": "8a69ed61-8ef1-4813-8dee-f82aca4f1f5e",
   "metadata": {},
   "source": [
    "Если транспонировать исходную иатрицу, можно провести кластеризацию самих показателей:"
   ]
  },
  {
   "cell_type": "code",
   "execution_count": 115,
   "id": "e5e896b3-6f7b-4251-a728-ddefd15450aa",
   "metadata": {},
   "outputs": [
    {
     "name": "stdout",
     "output_type": "stream",
     "text": [
      "[1] \"1 -я компонента объясняет 94.0879730740109  % дисперсии\"\n",
      "[1] \"2 -я компонента объясняет 4.34838012419034  % дисперсии\"\n",
      "[1] \"3 -я компонента объясняет 1.17658222864729  % дисперсии\"\n",
      "[1] \"4 -я компонента объясняет 0.212931970596381  % дисперсии\"\n",
      "[1] \"5 -я компонента объясняет 0.0757544985265093  % дисперсии\"\n",
      "[1] \"6 -я компонента объясняет 0.0486775174553924  % дисперсии\"\n",
      "[1] \"7 -я компонента объясняет 0.0181558559731962  % дисперсии\"\n",
      "[1] \"8 -я компонента объясняет 0.0162335531858254  % дисперсии\"\n",
      "[1] \"9 -я компонента объясняет 0.00903783246721998  % дисперсии\"\n",
      "[1] \"10 -я компонента объясняет 0.00265993728217249  % дисперсии\"\n",
      "[1] \"11 -я компонента объясняет 0.00183599698368094  % дисперсии\"\n",
      "[1] \"12 -я компонента объясняет 0.00102068620798618  % дисперсии\"\n",
      "[1] \"13 -я компонента объясняет 0.000529650966987222  % дисперсии\"\n",
      "[1] \"14 -я компонента объясняет 0.000225826016742627  % дисперсии\"\n",
      "[1] \"15 -я компонента объясняет 1.24748935755176e-06  % дисперсии\"\n",
      "[1] \"16 -я компонента объясняет 8.6552085593905e-15  % дисперсии\"\n",
      "[1] \"17 -я компонента объясняет 4.31219328791937e-15  % дисперсии\"\n",
      "[1] \"18 -я компонента объясняет 3.30202171465932e-15  % дисперсии\"\n",
      "[1] \"19 -я компонента объясняет 1.87604105677206e-15  % дисперсии\"\n",
      "[1] \"20 -я компонента объясняет 1.72192118029677e-15  % дисперсии\"\n",
      "[1] \"21 -я компонента объясняет 1.00341479671747e-15  % дисперсии\"\n",
      "[1] \"22 -я компонента объясняет 9.4861369067912e-16  % дисперсии\"\n",
      "[1] \"23 -я компонента объясняет 6.83078812360443e-16  % дисперсии\"\n",
      "[1] \"24 -я компонента объясняет 6.62001315170232e-16  % дисперсии\"\n",
      "[1] \"25 -я компонента объясняет 2.82157842229122e-16  % дисперсии\"\n",
      "[1] \"26 -я компонента объясняет 1.71926183848196e-16  % дисперсии\"\n",
      "[1] \"27 -я компонента объясняет 1.60188487021078e-16  % дисперсии\"\n",
      "[1] \"28 -я компонента объясняет 1.43680594312019e-16  % дисперсии\"\n",
      "[1] \"29 -я компонента объясняет 1.26364921543823e-16  % дисперсии\"\n",
      "[1] \"30 -я компонента объясняет 5.62842204208064e-17  % дисперсии\"\n",
      "[1] \"31 -я компонента объясняет -1.81474841675881e-16  % дисперсии\"\n",
      "[1] \"32 -я компонента объясняет -3.35151672137723e-16  % дисперсии\"\n",
      "[1] \"33 -я компонента объясняет -4.08134721772183e-16  % дисперсии\"\n",
      "[1] \"34 -я компонента объясняет -4.47473293527472e-16  % дисперсии\"\n",
      "[1] \"35 -я компонента объясняет -7.60874264051139e-16  % дисперсии\"\n",
      "[1] \"36 -я компонента объясняет -8.49013409336982e-16  % дисперсии\"\n",
      "[1] \"37 -я компонента объясняет -9.40390089655479e-16  % дисперсии\"\n",
      "[1] \"38 -я компонента объясняет -9.75664572699971e-16  % дисперсии\"\n",
      "[1] \"39 -я компонента объясняет -9.95784255797956e-16  % дисперсии\"\n",
      "[1] \"40 -я компонента объясняет -1.9086199437528e-15  % дисперсии\"\n",
      "[1] \"41 -я компонента объясняет -2.12151367204484e-15  % дисперсии\"\n",
      "[1] \"42 -я компонента объясняет -2.46196652748789e-15  % дисперсии\"\n",
      "[1] \"43 -я компонента объясняет -3.0524670614062e-15  % дисперсии\"\n",
      "[1] \"44 -я компонента объясняет -3.89239656223096e-15  % дисперсии\"\n",
      "[1] \"45 -я компонента объясняет -6.66846025464608e-15  % дисперсии\"\n",
      "[1] \"46 -я компонента объясняет -1.19615537141174e-14  % дисперсии\"\n",
      "[1] \"47 -я компонента объясняет -1.23555704978575e-14  % дисперсии\"\n"
     ]
    },
    {
     "data": {
      "image/png": "[encoded data removed]",
      "text/plain": [
       "plot without title"
      ]
     },
     "metadata": {
      "image/png": {
       "height": 420,
       "width": 420
      }
     },
     "output_type": "display_data"
    }
   ],
   "source": [
    "Dt<-t(D[,c(2:length(D[1,]))])\n",
    "Dts<-scale(Dt)\n",
    "Cs<-cor(Dts)\n",
    "E<-eigen(Cs)\n",
    "znam<-sum(E$values)\n",
    "k<-1\n",
    "for (i in E$values) {\n",
    "    print(paste(toString(k),\"-я компонента объясняет\", \n",
    "                toString(i/znam*100),\n",
    "                \" % дисперсии\"))\n",
    "    k<-k+1\n",
    "    }\n",
    "C1<-as.matrix(Dts)%*%E$vectors[,1]\n",
    "C2<-as.matrix(Dts)%*%E$vectors[,2]\n",
    "plot(C1,C2)\n",
    "text(C1, C2, colnames(Ds), cex=0.6, pos=4, col=\"red\")"
   ]
  },
  {
   "cell_type": "markdown",
   "id": "c8573cad-ee83-4489-8dbf-e53574644975",
   "metadata": {
    "jp-MarkdownHeadingCollapsed": true,
    "tags": []
   },
   "source": [
    "## Кластерный анализ"
   ]
  },
  {
   "cell_type": "markdown",
   "id": "c6d3d215-05f6-4af1-bb14-572acfbd27c4",
   "metadata": {},
   "source": [
    "Кластеризация позволяет осуществлять разбиение множества объектов на примерно однородные группы. Подобная процедура приобретает важный смысл при ранжировании объектов по предпочтению, поскольку, как правило, простое упорядочение объектов в этом случае оказывается невозможным, или, по крайней мере, не может быть окончательно обоснованным. Данное обстоятельство связано с тем, что все подобные оценки многокритериальны. При этом разные критерии часто противоречивы и априори отсутствуют предпочтения одних критериев перед другими. В этих условиях для сравнительных оценок наиболее обоснованным является разбиение объектов на однородные группы – кластеризация.\n",
    "\n",
    "В системе R существует большое количество реализованных алгоритмов кластеризации. По способу обработки данных условно все их можно разделить на два класса: \n",
    "- иерархические алгоритмы кластеризации: агломеративные методы, дивизимные методы, \n",
    "- неиерархические методы (итеративные) алгоритмы кластеризации.\n",
    "\n",
    "При иерархической кластеризации выполняется последовательное объединение меньших кластеров в большие или разделение больших кластеров на меньшие.\n",
    "\n",
    "В агломеративных методах в начале работы алгоритма все объекты являются отдельными кластерами. На первом шаге наиболее похожие объекты объединяются в кластер. На последующих шагах объединение продолжается до тех пор, пока все объекты не будут составлять один кластер. \n",
    "\n",
    "В среде R агломеративные методы представлены функцией: \n",
    "\n",
    "agnes(X, diss = inherits(x, \"dist\"), metric = \"euclidean\",\n",
    "      stand = FALSE, method = \"average\")\n",
    "      \n",
    "где X - матрица данных или фрейм данных, или матрица несходства, в зависимости от значения аргумента diss. В случае матрицы или фрейма данных каждая строка соответствует наблюдению, а каждый столбец соответствует переменной. Все переменные должны быть числовыми. Допускаются отсутствующие значения (NA).\n",
    "\n",
    "В случае матрицы несходства X обычно является выходом функций daisy или dist. Отсутствующие значения (NA) не допускаются.\n",
    "\n",
    "diss - логический флаг: если TRUE (по умолчанию для объектов dist или несхожести), то предполагается, что X является матрицей несходства. Если FALSE, то X рассматривается как матрица наблюдений по переменным.\n",
    "\n",
    "metric - символьная строка, определяющая метрику, которая будет использоваться для вычисления различий между наблюдениями. В настоящее время доступны варианты «евклидова» и «манхэттенская». Евклидовы расстояния - это корень из суммы квадратов разностей, а манхэттенские расстояния - это сумма абсолютных разностей. Если X уже является матрицей несходства, этот аргумент будет проигнорирован.\n",
    "\n",
    "stand - логический флаг: если TRUE, то измерения по Х стандартизируются перед вычислением несходств. Измерения стандартизируются для каждой переменной (столбца) путем вычитания среднего значения переменной и деления на среднее абсолютное отклонение переменной. Если X уже является матрицей несходства, этот аргумент будет проигнорирован.\n",
    "\n",
    "method - символьная строка, определяющая метод кластеризации. Реализовано пять методов: «average» групповой метод среднего, также известный как «UPGMA», «single» (одиночная связь), «complete» (полная связь), «ward» (метод Уорда), «weighted» (взвешенная средняя связь, также известная как «WPGMA»). По умолчанию установлено «average»."
   ]
  },
  {
   "cell_type": "code",
   "execution_count": 130,
   "id": "9347afae-80c6-49fc-989d-29f2ad238dc3",
   "metadata": {},
   "outputs": [
    {
     "data": {
      "text/plain": [
       "Call:\t agnes(x = Dt, diss = FALSE, stand = TRUE, method = \"complete\") \n",
       "Agglomerative coefficient:  0.9152039 \n",
       "Order of objects:\n",
       " [1] M    Ineq NW   So   Prob Pop  U2   Time Ed   U1   Po1  Po2  LF   GDP  M.F \n",
       "[16] y   \n",
       "Height (summary):\n",
       "    Min.  1st Qu.   Median     Mean  3rd Qu.     Max. \n",
       " 0.01608  0.79429  1.90487  4.85327  4.60731 27.43789 \n",
       "\n",
       "Available components:\n",
       "[1] \"order\"     \"height\"    \"ac\"        \"merge\"     \"diss\"      \"call\"     \n",
       "[7] \"method\"    \"order.lab\" \"data\"     "
      ]
     },
     "metadata": {},
     "output_type": "display_data"
    }
   ],
   "source": [
    "library(cluster)\n",
    "Res<-agnes(Dt, diss=FALSE, stand=TRUE, method=\"complete\")\n",
    "Res"
   ]
  },
  {
   "cell_type": "code",
   "execution_count": 131,
   "id": "dfc0460a-a99c-43d3-afbb-ca37243e7fa1",
   "metadata": {},
   "outputs": [
    {
     "data": {
      "image/png": "[encoded data removed]",
      "text/plain": [
       "Plot with title “Banner of  agnes(x = Dt, diss = FALSE, stand = TRUE, method =\n",
       "       \"complete\")”"
      ]
     },
     "metadata": {
      "image/png": {
       "height": 420,
       "width": 420
      }
     },
     "output_type": "display_data"
    },
    {
     "data": {
      "image/png": "[encoded data removed]",
      "text/plain": [
       "Plot with title “Dendrogram of  agnes(x = Dt, diss = FALSE, stand = TRUE, method =\n",
       "       \"complete\")”"
      ]
     },
     "metadata": {
      "image/png": {
       "height": 420,
       "width": 420
      }
     },
     "output_type": "display_data"
    }
   ],
   "source": [
    "plot(Res, labels=rownames(Dt))"
   ]
  },
  {
   "cell_type": "markdown",
   "id": "a619d16f-3101-486a-94bb-459f7c8a7c5d",
   "metadata": {},
   "source": [
    "Одним из важных параметров агломеративной кластеризации является коэффициент агломерации, который измеряет несхожесть объекта с первым кластером, к которому он присоединяется, деленный на несходство окончательного слияния в кластерном анализе, усредненное по всем выборкам. Низкие значения отражают тесную кластеризацию объектов, большие значения указывают на менее правильно сформированные кластеры."
   ]
  },
  {
   "cell_type": "markdown",
   "id": "5c1e53c0-50f0-4365-898d-2a8ad397de38",
   "metadata": {},
   "source": [
    "В дивизимных методах выполняется противоположная процедура: в начале работы алгоритма все объекты принадлежат одному кластеру, который на последующих шагах делится на меньшие кластеры, в результате образуется последовательность расщепляющих групп.\n",
    "В среде R дивизимные методы представлены функцией:\n",
    "\n",
    "diana(X, diss = inherits(x, \"dist\"), metric = \"euclidean\", stand = FALSE)\n",
    "\n",
    "Назначение параметров данной функции совпадает с функцией agnes."
   ]
  },
  {
   "cell_type": "code",
   "execution_count": 133,
   "id": "bcc7fdb9-2574-4795-b0b8-e4d8502e7814",
   "metadata": {},
   "outputs": [
    {
     "data": {
      "text/plain": [
       "Merge:\n",
       "      [,1] [,2]\n",
       " [1,]   -2  -14\n",
       " [2,]   -4   -5\n",
       " [3,]  -11  -15\n",
       " [4,]   -3  -10\n",
       " [5,]    1    3\n",
       " [6,]    4    2\n",
       " [7,]    5   -8\n",
       " [8,]   -1  -13\n",
       " [9,]    7    6\n",
       "[10,]   -6  -12\n",
       "[11,]    8   -9\n",
       "[12,]   11    9\n",
       "[13,]   -7  -16\n",
       "[14,]   10   13\n",
       "[15,]   12   14\n",
       "Order of objects:\n",
       " [1] M    Ineq NW   So   Prob U2   Time Pop  Ed   U1   Po1  Po2  LF   GDP  M.F \n",
       "[16] y   \n",
       "Height:\n",
       " [1]  1.90486891  3.55547660  5.65914589  0.01608191  0.97443407  0.35489125\n",
       " [7]  1.34781092  2.92407536  0.66547444  1.10508905  0.15408952 27.43788701\n",
       "[13]  2.94128895 13.47266749 10.33703201\n",
       "Divisive coefficient:\n",
       "[1] 0.9142364\n",
       "\n",
       "Available components:\n",
       "[1] \"order\"     \"height\"    \"dc\"        \"merge\"     \"diss\"      \"call\"     \n",
       "[7] \"order.lab\" \"data\"     "
      ]
     },
     "metadata": {},
     "output_type": "display_data"
    }
   ],
   "source": [
    "Res<-diana(Dt, diss=FALSE, stand=TRUE)\n",
    "Res"
   ]
  },
  {
   "cell_type": "code",
   "execution_count": 134,
   "id": "60d1a3e9-b74f-4dbd-ac06-91210cd9915c",
   "metadata": {},
   "outputs": [
    {
     "data": {
      "image/png": "[encoded data removed]",
      "text/plain": [
       "Plot with title “Banner of  diana(x = Dt, diss = FALSE, stand = TRUE)”"
      ]
     },
     "metadata": {
      "image/png": {
       "height": 420,
       "width": 420
      }
     },
     "output_type": "display_data"
    },
    {
     "data": {
      "image/png": "[encoded data removed]",
      "text/plain": [
       "Plot with title “Dendrogram of  diana(x = Dt, diss = FALSE, stand = TRUE)”"
      ]
     },
     "metadata": {
      "image/png": {
       "height": 420,
       "width": 420
      }
     },
     "output_type": "display_data"
    }
   ],
   "source": [
    "plot(Res,labels=rownames(Dt))"
   ]
  },
  {
   "cell_type": "markdown",
   "id": "55de8704-7d8e-4732-91ea-702b2e2d0ac5",
   "metadata": {},
   "source": [
    "Кроме агломеративных и дивизимных методов, в среде R реализованы итеративные методы. В методах неиерархической кластеризации, классическим представителем которых является алгоритм k-means, вначале задаются количеством кластеров. \n",
    "\n",
    "Основной тип задач, которые решает алгоритм k-means, - наличие предположений (гипотез) относительно числа кластеров, при этом они должны быть различны настолько, насколько это возможно. Выбор числа k может базироваться на результатах предшествующих исследований, теоретических соображениях или интуиции. \n",
    "\n",
    "Общая идея алгоритма: заданное фиксированное число k кластеров наблюдения сопоставляются кластерам так, что средние в кластере (для всех переменных) максимально возможно отличаются друг от друга.\n",
    "\n",
    "В среде R алгоритм k-means представлен функцией:\n",
    "\n",
    "kmeans(X, centers, iter.max = 10, nstart = 1,  algorithm = c(\"Hartigan-Wong\", \"Lloyd\", \"Forgy\", \"MacQueen\"))\n",
    "\n",
    "где X – искомый data.frame, по которому проводится кластеризация;\n",
    "centers - либо количество кластеров, обозначим k, либо набор начальных (отдельных) центров кластеров. Если число, то в качестве начальных центров выбирается случайный набор (различных) строк по Х;\n",
    "\n",
    "iter.max – максимально допустимое число итераций;\n",
    "\n",
    "nstart - если центры - число, задает, сколько случайных наборов следует выбрать;\n",
    "\n",
    "algorithm – определяет используемый алгоритм из предложенного перечня."
   ]
  },
  {
   "cell_type": "code",
   "execution_count": 144,
   "id": "b59d049c-010f-4d5f-94fc-a7b20da0b0ca",
   "metadata": {},
   "outputs": [],
   "source": [
    "res<-kmeans(Dt, centers=3, iter.max=100, nstart=10, algorithm=\"Hartigan-Wong\")\n",
    "library(factoextra)\n",
    "g<-fviz_cluster(res, ellipse = TRUE, data=Dt)"
   ]
  },
  {
   "cell_type": "code",
   "execution_count": 145,
   "id": "339a2881-7c9d-4d23-bfb6-a769669d47bb",
   "metadata": {},
   "outputs": [
    {
     "data": {
      "text/plain": [
       "K-means clustering with 3 clusters of sizes 12, 2, 2\n",
       "\n",
       "Cluster means:\n",
       "       [,1]       [,2]      [,3]       [,4]       [,5]      [,6]      [,7]\n",
       "1  93.94048   76.69412  79.94867   93.49308   68.86177  66.08614  72.22845\n",
       "2 452.00000  570.00000 425.50000  625.00000  584.50000 618.00000 569.50000\n",
       "3 870.50000 1323.50000 773.50000 1481.50000 1109.50000 823.00000 972.50000\n",
       "        [,8]      [,9]     [,10]      [,11]    [,12]     [,13]     [,14]\n",
       "1   86.55324  89.78932  61.38699   83.05135  67.8608  62.52872  63.21285\n",
       "2  507.00000 487.00000 579.00000  618.50000 587.5000 565.50000 562.00000\n",
       "3 1262.00000 905.50000 867.00000 1320.00000 910.5000 741.50000 825.00000\n",
       "      [,15]    [,16]     [,17]     [,18]     [,19]      [,20]     [,21]\n",
       "1  72.81416  98.2626  61.01471  82.10995  70.74332   83.61965  65.71855\n",
       "2 467.50000 462.0000 512.00000 584.00000 581.50000  596.50000 579.50000\n",
       "3 892.00000 951.0000 758.00000 953.50000 842.00000 1105.00000 863.00000\n",
       "     [,22]      [,23]      [,24]     [,25]      [,26]     [,27]     [,28]\n",
       "1 102.2657   75.01913   68.22013  59.58079   79.34518  55.29467   73.5699\n",
       "2 400.0000  538.50000  557.00000 563.50000  652.50000 552.00000  554.0000\n",
       "3 700.5000 1084.50000 1003.00000 753.50000 1532.00000 653.50000 1117.0000\n",
       "      [,29]     [,30]     [,31]     [,32]      [,33]     [,34]     [,35]\n",
       "1  93.72703  85.94803  63.73682  77.16201   71.29583  66.81171  80.61848\n",
       "2 579.00000 458.50000 494.00000 601.50000  511.00000 565.50000 549.00000\n",
       "3 990.50000 834.50000 709.00000 859.00000 1022.00000 956.50000 800.50000\n",
       "       [,36]     [,37]     [,38]     [,39]      [,40]    [,41]     [,42]\n",
       "1   67.66728  95.14539  62.47949  79.44562   83.69493  59.5021  57.69071\n",
       "2  545.00000 510.00000 512.00000 455.00000  524.00000 595.5000 506.00000\n",
       "3 1118.00000 902.50000 795.00000 889.50000 1066.00000 939.0000 755.00000\n",
       "      [,43]      [,44]     [,45]     [,46]     [,47]\n",
       "1  84.25448   71.08568  71.05465  65.64554  65.51271\n",
       "2 509.00000  598.00000 468.50000 596.00000 605.50000\n",
       "3 909.50000 1021.00000 711.50000 748.50000 949.00000\n",
       "\n",
       "Clustering vector:\n",
       "   M   So   Ed  Po1  Po2   LF  M.F  Pop   NW   U1   U2  GDP Ineq Prob Time    y \n",
       "   1    1    1    1    1    2    3    1    1    1    1    2    1    1    1    3 \n",
       "\n",
       "Within cluster sum of squares by cluster:\n",
       "[1] 2400714.9  228987.5 3491029.5\n",
       " (between_SS / total_SS =  92.3 %)\n",
       "\n",
       "Available components:\n",
       "\n",
       "[1] \"cluster\"      \"centers\"      \"totss\"        \"withinss\"     \"tot.withinss\"\n",
       "[6] \"betweenss\"    \"size\"         \"iter\"         \"ifault\"      "
      ]
     },
     "metadata": {},
     "output_type": "display_data"
    }
   ],
   "source": [
    "res"
   ]
  },
  {
   "cell_type": "code",
   "execution_count": 146,
   "id": "f37e1931-2e25-4bf1-a776-33e13cbd9650",
   "metadata": {},
   "outputs": [
    {
     "data": {
      "image/png": "[encoded data removed]",
      "text/plain": [
       "plot without title"
      ]
     },
     "metadata": {
      "image/png": {
       "height": 420,
       "width": 420
      }
     },
     "output_type": "display_data"
    }
   ],
   "source": [
    "g"
   ]
  },
  {
   "cell_type": "markdown",
   "id": "8034f8a5-f2a3-4540-b1bc-b00ffc5a1541",
   "metadata": {},
   "source": [
    "В коде используется функция fviz_nbclust, на вход которой подается набор исходных данных модели, функция визуализирует кластеры."
   ]
  },
  {
   "cell_type": "code",
   "execution_count": null,
   "id": "841d792f-63c0-4f38-bf5c-53f5738be91e",
   "metadata": {},
   "outputs": [],
   "source": []
  }
 ],
 "metadata": {
  "kernelspec": {
   "display_name": "R",
   "language": "R",
   "name": "ir"
  },
  "language_info": {
   "codemirror_mode": "r",
   "file_extension": ".r",
   "mimetype": "text/x-r-source",
   "name": "R",
   "pygments_lexer": "r",
   "version": "3.5.3"
  }
 },
 "nbformat": 4,
 "nbformat_minor": 5
}
